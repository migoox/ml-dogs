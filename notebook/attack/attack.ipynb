{
 "cells": [
  {
   "cell_type": "code",
   "execution_count": 17,
   "id": "6857e268-efe4-4f26-ba9f-02b9b95dc42e",
   "metadata": {},
   "outputs": [],
   "source": [
    "import os, sys\n",
    "sys.path.append(os.path.abspath('../../src/'))\n",
    "\n",
    "import torch\n",
    "import torch.nn as nn\n",
    "import torch.nn.functional as F\n",
    "import torch.optim as optim\n",
    "from torchvision import datasets, transforms\n",
    "import numpy as np\n",
    "import matplotlib.pyplot as plt\n",
    "from model.spectogram_dataset import SpectrogramDataset\n",
    "from torch.utils.data import DataLoader\n",
    "from utils.daps_explorer import DapsExplorer\n",
    "\n",
    "DATASETS_PARENT_PATH = 'datasets'\n",
    "DATASET_PATH = 'dataset'\n",
    "DATA_DIR = os.path.join('../../', DATASETS_PARENT_PATH, DATASET_PATH)\n",
    "BATCH_SIZE = 1"
   ]
  },
  {
   "cell_type": "code",
   "execution_count": null,
   "id": "dd084636-e4b7-4003-ae95-967fdc78b5dc",
   "metadata": {},
   "outputs": [
    {
     "name": "stdout",
     "output_type": "stream",
     "text": [
      "Test dataset size: 39342\n",
      "Test loader created with batch size 1\n"
     ]
    }
   ],
   "source": [
    "from torchvision import transforms\n",
    "\n",
    "transform = transforms.Compose([\n",
    "    transforms.ToTensor(),\n",
    "])\n",
    "\n",
    "test_dataset = SpectrogramDataset(\n",
    "    data_dir=os.path.join(DATA_DIR, \"test\"),\n",
    "    transform=transform\n",
    ")\n",
    "\n",
    "test_loader = DataLoader(\n",
    "    test_dataset,\n",
    "    batch_size=BATCH_SIZE,\n",
    "    shuffle=True\n",
    ")\n",
    "\n",
    "print(f\"Test dataset size: {len(test_dataset)}\")\n",
    "print(f\"Test loader created with batch size {BATCH_SIZE}\")"
   ]
  },
  {
   "cell_type": "code",
   "execution_count": 3,
   "id": "be510563-8e69-4748-8a0a-b8b4e55fb4d3",
   "metadata": {},
   "outputs": [],
   "source": [
    "import torch\n",
    "import torch.nn as nn\n",
    "import torch.nn.functional as F\n",
    "\n",
    "class Net(nn.Module):\n",
    "    def __init__(self, dropout_conv_p=0.0, dropout_fc_p=0.0, use_batchnorm=True):\n",
    "        super(Net, self).__init__()\n",
    "\n",
    "        self.conv1 = nn.Conv2d(1, 16, kernel_size=5)\n",
    "        self.bn1 = nn.BatchNorm2d(16) if use_batchnorm else None\n",
    "        self.pool1 = nn.MaxPool2d(2, 2)\n",
    "\n",
    "        self.conv2 = nn.Conv2d(16, 32, kernel_size=5)\n",
    "        self.bn2 = nn.BatchNorm2d(32) if use_batchnorm else None\n",
    "        self.pool2 = nn.MaxPool2d(2, 2)\n",
    "\n",
    "        self.dropout_conv = nn.Dropout2d(p=dropout_conv_p)\n",
    "\n",
    "        self.fc1 = nn.Linear(32 * 18 * 18, 256)\n",
    "        self.fc2 = nn.Linear(256, 128)\n",
    "        self.fc3 = nn.Linear(128, 1)   \n",
    "        \n",
    "        self.dropout_fc = nn.Dropout(p=dropout_fc_p)\n",
    "\n",
    "    def forward(self, x):\n",
    "        x = self.conv1(x)\n",
    "        if self.bn1:\n",
    "            x = self.bn1(x)\n",
    "        x = F.relu(x) \n",
    "        x = self.pool1(x)\n",
    "        x = self.dropout_conv(x)\n",
    "\n",
    "        x = self.conv2(x)\n",
    "        if self.bn2:\n",
    "            x = self.bn2(x)\n",
    "        x = F.relu(x)\n",
    "        x = self.pool2(x)\n",
    "        x = self.dropout_conv(x)\n",
    "\n",
    "        x = torch.flatten(x, 1)\n",
    "\n",
    "        x = self.fc1(x)\n",
    "        x = F.relu(x)\n",
    "        x = self.dropout_fc(x)\n",
    "\n",
    "        x = self.fc2(x)\n",
    "        x = F.relu(x)\n",
    "        x = self.dropout_fc(x)\n",
    "        x = torch.sigmoid(self.fc3(x))\n",
    "        \n",
    "        return x"
   ]
  },
  {
   "cell_type": "code",
   "execution_count": 12,
   "id": "eb3450cb-975a-4517-9aa3-544c7372d58d",
   "metadata": {},
   "outputs": [],
   "source": [
    "def fgsm_attack_and_evaluate(model, device, data_loader, epsilon, num_examples_to_print=3):\n",
    "    model.eval()\n",
    "    total = 0\n",
    "    correct_normal = 0\n",
    "    correct_adversarial = 0\n",
    "    perturbed_examples = []\n",
    "\n",
    "    for batch_idx, (inputs, labels) in enumerate(data_loader):\n",
    "        inputs, labels = inputs.to(device), labels.to(device)\n",
    "        inputs.requires_grad = True\n",
    "\n",
    "        outputs_normal = model(inputs)\n",
    "        preds_normal = (outputs_normal > 0.5).float()\n",
    "        correct_normal += (preds_normal.squeeze() == labels).sum().item()\n",
    "\n",
    "        loss = F.binary_cross_entropy(outputs_normal, labels.unsqueeze(1).float())\n",
    "        model.zero_grad()\n",
    "        loss.backward()\n",
    "        data_grad = inputs.grad.data\n",
    "\n",
    "        perturbed_inputs = inputs + epsilon * data_grad.sign()\n",
    "        perturbed_inputs = torch.clamp(perturbed_inputs, 0, 1)\n",
    "\n",
    "        # Forward pass on adversarial inputs\n",
    "        outputs_adversarial = model(perturbed_inputs)\n",
    "        preds_adversarial = (outputs_adversarial > 0.5).float()\n",
    "        correct_adversarial += (preds_adversarial.squeeze() == labels).sum().item()\n",
    "\n",
    "        if batch_idx < num_examples_to_print:\n",
    "            perturbed_examples.append(\n",
    "                (inputs.cpu().detach(), \n",
    "                 perturbed_inputs.cpu().detach(), \n",
    "                 labels.cpu().detach(), \n",
    "                 preds_adversarial.cpu().detach())\n",
    "            )\n",
    "\n",
    "        total += labels.size(0)\n",
    "\n",
    "    normal_accuracy = correct_normal / total\n",
    "    adversarial_accuracy = correct_adversarial / total\n",
    "\n",
    "    return normal_accuracy, adversarial_accuracy, perturbed_examples"
   ]
  },
  {
   "cell_type": "code",
   "execution_count": 13,
   "id": "a1377136-8a29-4e31-a012-14e063afdd57",
   "metadata": {},
   "outputs": [],
   "source": [
    "import torch\n",
    "import torch.nn.functional as F\n",
    "import soundfile as sf\n",
    "from IPython.display import Audio\n",
    "\n",
    "def spectrogram_to_audio_torch(spectrogram, sample_rate=16000, n_fft=512, hop_length=256, win_length=512):\n",
    "\n",
    "    magnitude = spectrogram\n",
    "    angle = torch.zeros_like(magnitude)  # Zero phase for simplicity\n",
    "\n",
    "    # Convert magnitude and phase to complex spectrogram\n",
    "    complex_spec = torch.stack([magnitude * torch.cos(angle), magnitude * torch.sin(angle)], dim=-1)\n",
    "    complex_spec = complex_spec.to(torch.complex64)  # Convert to complex type\n",
    "\n",
    "    # Apply the inverse STFT\n",
    "    waveform = torch.istft(complex_spec, n_fft=n_fft, hop_length=hop_length, win_length=win_length, normalized=True)\n",
    "\n",
    "    return waveform"
   ]
  },
  {
   "cell_type": "code",
   "execution_count": null,
   "id": "b9d36436",
   "metadata": {},
   "outputs": [],
   "source": []
  },
  {
   "cell_type": "code",
   "execution_count": 14,
   "id": "d067295d",
   "metadata": {},
   "outputs": [
    {
     "name": "stderr",
     "output_type": "stream",
     "text": [
      "/tmp/ipykernel_14924/2948790489.py:8: FutureWarning: You are using `torch.load` with `weights_only=False` (the current default value), which uses the default pickle module implicitly. It is possible to construct malicious pickle data which will execute arbitrary code during unpickling (See https://github.com/pytorch/pytorch/blob/main/SECURITY.md#untrusted-models for more details). In a future release, the default value for `weights_only` will be flipped to `True`. This limits the functions that could be executed during unpickling. Arbitrary objects will no longer be allowed to be loaded via this mode unless they are explicitly allowlisted by the user via `torch.serialization.add_safe_globals`. We recommend you start setting `weights_only=True` for any use case where you don't have full control of the loaded file. Please open an issue on GitHub for any issues related to this experimental feature.\n",
      "  model = torch.load(model_path, map_location=device)\n"
     ]
    },
    {
     "data": {
      "text/plain": [
       "Net(\n",
       "  (conv1): Conv2d(1, 16, kernel_size=(5, 5), stride=(1, 1))\n",
       "  (pool1): MaxPool2d(kernel_size=2, stride=2, padding=0, dilation=1, ceil_mode=False)\n",
       "  (conv2): Conv2d(16, 32, kernel_size=(5, 5), stride=(1, 1))\n",
       "  (pool2): MaxPool2d(kernel_size=2, stride=2, padding=0, dilation=1, ceil_mode=False)\n",
       "  (dropout_conv): Dropout2d(p=0.4, inplace=False)\n",
       "  (fc1): Linear(in_features=10368, out_features=256, bias=True)\n",
       "  (fc2): Linear(in_features=256, out_features=128, bias=True)\n",
       "  (fc3): Linear(in_features=128, out_features=1, bias=True)\n",
       "  (dropout_fc): Dropout(p=0.4, inplace=False)\n",
       ")"
      ]
     },
     "execution_count": 14,
     "metadata": {},
     "output_type": "execute_result"
    }
   ],
   "source": [
    "import torch\n",
    "\n",
    "device = torch.device(\"cuda\" if torch.cuda.is_available() else \"cpu\")\n",
    "\n",
    "model = Net()\n",
    "\n",
    "model_path = \"network-to-attack.pth\"\n",
    "model = torch.load(model_path, map_location=device)\n",
    "model.to(device)\n",
    "model.eval()"
   ]
  },
  {
   "cell_type": "code",
   "execution_count": 15,
   "id": "290565ae",
   "metadata": {},
   "outputs": [],
   "source": [
    "epsilon_values = [0.01, 0.02, 0.03, 0.05]\n",
    "accuracies = []\n",
    "\n",
    "for epsilon in epsilon_values:\n",
    "    normal_accuracy, adversarial_accuracy, examples = fgsm_attack_and_evaluate(\n",
    "        model, device, test_loader, epsilon, num_examples_to_print=3\n",
    "    )\n",
    "    \n",
    "    accuracies.append((epsilon, normal_accuracy, adversarial_accuracy))"
   ]
  },
  {
   "cell_type": "code",
   "execution_count": 18,
   "id": "73260a3e-6450-4c7e-b837-d1ef62891088",
   "metadata": {},
   "outputs": [
    {
     "name": "stdout",
     "output_type": "stream",
     "text": [
      "--- Results for epsilon = 0.01 ---\n",
      "Accuracy on normal images: 91.22%\n",
      "Accuracy on adversarial images: 24.77%\n"
     ]
    },
    {
     "ename": "RuntimeError",
     "evalue": "Failed to open output \"wav_files/original_0_eps0.01\" (Invalid argument).\nException raised from get_output_format_context at /__w/audio/audio/pytorch/audio/src/libtorio/ffmpeg/stream_writer/stream_writer.cpp:24 (most recent call first):\nframe #0: c10::Error::Error(c10::SourceLocation, std::string) + 0x96 (0x74ad058b9446 in /home/migoox/dev/ml-dogs-sharepoint/.venv/lib/python3.12/site-packages/torch/lib/libc10.so)\nframe #1: c10::detail::torchCheckFail(char const*, char const*, unsigned int, std::string const&) + 0x64 (0x74ad058636e4 in /home/migoox/dev/ml-dogs-sharepoint/.venv/lib/python3.12/site-packages/torch/lib/libc10.so)\nframe #2: <unknown function> + 0x53564 (0x74ac653db564 in /home/migoox/dev/ml-dogs-sharepoint/.venv/lib/python3.12/site-packages/torio/lib/libtorio_ffmpeg4.so)\nframe #3: torio::io::StreamingMediaEncoder::StreamingMediaEncoder(std::string const&, std::optional<std::string> const&) + 0x11 (0x74ac653dcd61 in /home/migoox/dev/ml-dogs-sharepoint/.venv/lib/python3.12/site-packages/torio/lib/libtorio_ffmpeg4.so)\nframe #4: <unknown function> + 0x39abe (0x74ab6dfb3abe in /home/migoox/dev/ml-dogs-sharepoint/.venv/lib/python3.12/site-packages/torio/lib/_torio_ffmpeg4.so)\nframe #5: <unknown function> + 0x31dfc (0x74ab6dfabdfc in /home/migoox/dev/ml-dogs-sharepoint/.venv/lib/python3.12/site-packages/torio/lib/_torio_ffmpeg4.so)\n<omitting python frames>\nframe #11: <unknown function> + 0xfb5b (0x74ac7245cb5b in /home/migoox/dev/ml-dogs-sharepoint/.venv/lib/python3.12/site-packages/torchaudio/lib/_torchaudio.so)\nframe #29: <unknown function> + 0x9e41 (0x74ad195bee41 in /home/migoox/.pyenv/versions/3.12.7/lib/python3.12/lib-dynload/_asyncio.cpython-312-x86_64-linux-gnu.so)\nframe #30: <unknown function> + 0xb2d1 (0x74ad195c02d1 in /home/migoox/.pyenv/versions/3.12.7/lib/python3.12/lib-dynload/_asyncio.cpython-312-x86_64-linux-gnu.so)\nframe #44: <unknown function> + 0x25e08 (0x74ad1a634e08 in /usr/lib/libc.so.6)\nframe #45: __libc_start_main + 0x8c (0x74ad1a634ecc in /usr/lib/libc.so.6)\nframe #46: _start + 0x25 (0x5fdd89123075 in /home/migoox/dev/ml-dogs-sharepoint/.venv/bin/python)\n",
     "output_type": "error",
     "traceback": [
      "\u001b[0;31m---------------------------------------------------------------------------\u001b[0m",
      "\u001b[0;31mRuntimeError\u001b[0m                              Traceback (most recent call last)",
      "Cell \u001b[0;32mIn[18], line 15\u001b[0m\n\u001b[1;32m     13\u001b[0m plt\u001b[38;5;241m.\u001b[39mtitle(\u001b[38;5;124mf\u001b[39m\u001b[38;5;124m\"\u001b[39m\u001b[38;5;124mOriginal (Label: \u001b[39m\u001b[38;5;132;01m{\u001b[39;00mlabel\u001b[38;5;241m.\u001b[39mitem()\u001b[38;5;132;01m}\u001b[39;00m\u001b[38;5;124m)\u001b[39m\u001b[38;5;124m\"\u001b[39m)\n\u001b[1;32m     14\u001b[0m plt\u001b[38;5;241m.\u001b[39mimshow(original\u001b[38;5;241m.\u001b[39msqueeze()\u001b[38;5;241m.\u001b[39mnumpy(), cmap\u001b[38;5;241m=\u001b[39m\u001b[38;5;124m\"\u001b[39m\u001b[38;5;124mgray\u001b[39m\u001b[38;5;124m\"\u001b[39m)\n\u001b[0;32m---> 15\u001b[0m \u001b[43mDapsExplorer\u001b[49m\u001b[38;5;241;43m.\u001b[39;49m\u001b[43msave_wav_from_specgram\u001b[49m\u001b[43m(\u001b[49m\u001b[38;5;124;43mf\u001b[39;49m\u001b[38;5;124;43m'\u001b[39;49m\u001b[38;5;124;43mwav_files/original_\u001b[39;49m\u001b[38;5;132;43;01m{\u001b[39;49;00m\u001b[43mi\u001b[49m\u001b[38;5;132;43;01m}\u001b[39;49;00m\u001b[38;5;124;43m_eps\u001b[39;49m\u001b[38;5;132;43;01m{\u001b[39;49;00m\u001b[43mepsilon\u001b[49m\u001b[38;5;132;43;01m}\u001b[39;49;00m\u001b[38;5;124;43m'\u001b[39;49m\u001b[43m,\u001b[49m\u001b[43m \u001b[49m\u001b[43moriginal\u001b[49m\u001b[38;5;241;43m.\u001b[39;49m\u001b[43msqueeze\u001b[49m\u001b[43m(\u001b[49m\u001b[43m)\u001b[49m\u001b[43m)\u001b[49m\n\u001b[1;32m     17\u001b[0m plt\u001b[38;5;241m.\u001b[39msubplot(\u001b[38;5;241m1\u001b[39m, \u001b[38;5;241m2\u001b[39m, \u001b[38;5;241m2\u001b[39m)\n\u001b[1;32m     18\u001b[0m plt\u001b[38;5;241m.\u001b[39mtitle(\u001b[38;5;124mf\u001b[39m\u001b[38;5;124m\"\u001b[39m\u001b[38;5;124mPerturbed (Pred: \u001b[39m\u001b[38;5;132;01m{\u001b[39;00mpred\u001b[38;5;241m.\u001b[39mitem()\u001b[38;5;132;01m}\u001b[39;00m\u001b[38;5;124m)\u001b[39m\u001b[38;5;124m\"\u001b[39m)\n",
      "File \u001b[0;32m~/dev/ml-dogs-sharepoint/src/utils/daps_explorer.py:336\u001b[0m, in \u001b[0;36mDapsExplorer.save_wav_from_specgram\u001b[0;34m(file_path, specgram_db, n_fft, n_mels)\u001b[0m\n\u001b[1;32m    332\u001b[0m     waveform \u001b[38;5;241m=\u001b[39m waveform\u001b[38;5;241m.\u001b[39mmean(dim\u001b[38;5;241m=\u001b[39m\u001b[38;5;241m0\u001b[39m, keepdim\u001b[38;5;241m=\u001b[39m\u001b[38;5;28;01mTrue\u001b[39;00m)  \u001b[38;5;66;03m# Convert to mono if stereo\u001b[39;00m\n\u001b[1;32m    334\u001b[0m \u001b[38;5;28;01massert\u001b[39;00m waveform\u001b[38;5;241m.\u001b[39mdim() \u001b[38;5;241m==\u001b[39m \u001b[38;5;241m2\u001b[39m, \u001b[38;5;124mf\u001b[39m\u001b[38;5;124m\"\u001b[39m\u001b[38;5;124mWaveform must be 2D, but got shape \u001b[39m\u001b[38;5;132;01m{\u001b[39;00mwaveform\u001b[38;5;241m.\u001b[39mshape\u001b[38;5;132;01m}\u001b[39;00m\u001b[38;5;124m\"\u001b[39m\n\u001b[0;32m--> 336\u001b[0m \u001b[43mtorchaudio\u001b[49m\u001b[38;5;241;43m.\u001b[39;49m\u001b[43msave\u001b[49m\u001b[43m(\u001b[49m\n\u001b[1;32m    337\u001b[0m \u001b[43m    \u001b[49m\u001b[43mfile_path\u001b[49m\u001b[43m,\u001b[49m\n\u001b[1;32m    338\u001b[0m \u001b[43m    \u001b[49m\u001b[43mwaveform\u001b[49m\u001b[43m,\u001b[49m\n\u001b[1;32m    339\u001b[0m \u001b[43m    \u001b[49m\u001b[43mDapsExplorer\u001b[49m\u001b[38;5;241;43m.\u001b[39;49m\u001b[43mget_samplerate\u001b[49m\u001b[43m(\u001b[49m\u001b[43m)\u001b[49m\u001b[43m,\u001b[49m\n\u001b[1;32m    340\u001b[0m \u001b[43m    \u001b[49m\u001b[43mencoding\u001b[49m\u001b[38;5;241;43m=\u001b[39;49m\u001b[38;5;124;43m\"\u001b[39;49m\u001b[38;5;124;43mPCM_S\u001b[39;49m\u001b[38;5;124;43m\"\u001b[39;49m\u001b[43m,\u001b[49m\n\u001b[1;32m    341\u001b[0m \u001b[43m    \u001b[49m\u001b[43mbits_per_sample\u001b[49m\u001b[38;5;241;43m=\u001b[39;49m\u001b[38;5;241;43m16\u001b[39;49m\n\u001b[1;32m    342\u001b[0m \u001b[43m\u001b[49m\u001b[43m)\u001b[49m\n",
      "File \u001b[0;32m~/dev/ml-dogs-sharepoint/.venv/lib/python3.12/site-packages/torchaudio/_backend/utils.py:313\u001b[0m, in \u001b[0;36mget_save_func.<locals>.save\u001b[0;34m(uri, src, sample_rate, channels_first, format, encoding, bits_per_sample, buffer_size, backend, compression)\u001b[0m\n\u001b[1;32m    236\u001b[0m \u001b[38;5;250m\u001b[39m\u001b[38;5;124;03m\"\"\"Save audio data to file.\u001b[39;00m\n\u001b[1;32m    237\u001b[0m \n\u001b[1;32m    238\u001b[0m \u001b[38;5;124;03mNote:\u001b[39;00m\n\u001b[0;32m   (...)\u001b[0m\n\u001b[1;32m    310\u001b[0m \n\u001b[1;32m    311\u001b[0m \u001b[38;5;124;03m\"\"\"\u001b[39;00m\n\u001b[1;32m    312\u001b[0m backend \u001b[38;5;241m=\u001b[39m dispatcher(uri, \u001b[38;5;28mformat\u001b[39m, backend)\n\u001b[0;32m--> 313\u001b[0m \u001b[38;5;28;01mreturn\u001b[39;00m \u001b[43mbackend\u001b[49m\u001b[38;5;241;43m.\u001b[39;49m\u001b[43msave\u001b[49m\u001b[43m(\u001b[49m\n\u001b[1;32m    314\u001b[0m \u001b[43m    \u001b[49m\u001b[43muri\u001b[49m\u001b[43m,\u001b[49m\u001b[43m \u001b[49m\u001b[43msrc\u001b[49m\u001b[43m,\u001b[49m\u001b[43m \u001b[49m\u001b[43msample_rate\u001b[49m\u001b[43m,\u001b[49m\u001b[43m \u001b[49m\u001b[43mchannels_first\u001b[49m\u001b[43m,\u001b[49m\u001b[43m \u001b[49m\u001b[38;5;28;43mformat\u001b[39;49m\u001b[43m,\u001b[49m\u001b[43m \u001b[49m\u001b[43mencoding\u001b[49m\u001b[43m,\u001b[49m\u001b[43m \u001b[49m\u001b[43mbits_per_sample\u001b[49m\u001b[43m,\u001b[49m\u001b[43m \u001b[49m\u001b[43mbuffer_size\u001b[49m\u001b[43m,\u001b[49m\u001b[43m \u001b[49m\u001b[43mcompression\u001b[49m\n\u001b[1;32m    315\u001b[0m \u001b[43m\u001b[49m\u001b[43m)\u001b[49m\n",
      "File \u001b[0;32m~/dev/ml-dogs-sharepoint/.venv/lib/python3.12/site-packages/torchaudio/_backend/ffmpeg.py:316\u001b[0m, in \u001b[0;36mFFmpegBackend.save\u001b[0;34m(uri, src, sample_rate, channels_first, format, encoding, bits_per_sample, buffer_size, compression)\u001b[0m\n\u001b[1;32m    311\u001b[0m \u001b[38;5;28;01mif\u001b[39;00m \u001b[38;5;129;01mnot\u001b[39;00m \u001b[38;5;28misinstance\u001b[39m(compression, (torchaudio\u001b[38;5;241m.\u001b[39mio\u001b[38;5;241m.\u001b[39mCodecConfig, \u001b[38;5;28mtype\u001b[39m(\u001b[38;5;28;01mNone\u001b[39;00m))):\n\u001b[1;32m    312\u001b[0m     \u001b[38;5;28;01mraise\u001b[39;00m \u001b[38;5;167;01mValueError\u001b[39;00m(\n\u001b[1;32m    313\u001b[0m         \u001b[38;5;124m\"\u001b[39m\u001b[38;5;124mFFmpeg backend expects non-`None` value for argument `compression` to be of \u001b[39m\u001b[38;5;124m\"\u001b[39m,\n\u001b[1;32m    314\u001b[0m         \u001b[38;5;124mf\u001b[39m\u001b[38;5;124m\"\u001b[39m\u001b[38;5;124mtype `torchaudio.io.CodecConfig`, but received value of type \u001b[39m\u001b[38;5;132;01m{\u001b[39;00m\u001b[38;5;28mtype\u001b[39m(compression)\u001b[38;5;132;01m}\u001b[39;00m\u001b[38;5;124m\"\u001b[39m,\n\u001b[1;32m    315\u001b[0m     )\n\u001b[0;32m--> 316\u001b[0m \u001b[43msave_audio\u001b[49m\u001b[43m(\u001b[49m\n\u001b[1;32m    317\u001b[0m \u001b[43m    \u001b[49m\u001b[43muri\u001b[49m\u001b[43m,\u001b[49m\n\u001b[1;32m    318\u001b[0m \u001b[43m    \u001b[49m\u001b[43msrc\u001b[49m\u001b[43m,\u001b[49m\n\u001b[1;32m    319\u001b[0m \u001b[43m    \u001b[49m\u001b[43msample_rate\u001b[49m\u001b[43m,\u001b[49m\n\u001b[1;32m    320\u001b[0m \u001b[43m    \u001b[49m\u001b[43mchannels_first\u001b[49m\u001b[43m,\u001b[49m\n\u001b[1;32m    321\u001b[0m \u001b[43m    \u001b[49m\u001b[38;5;28;43mformat\u001b[39;49m\u001b[43m,\u001b[49m\n\u001b[1;32m    322\u001b[0m \u001b[43m    \u001b[49m\u001b[43mencoding\u001b[49m\u001b[43m,\u001b[49m\n\u001b[1;32m    323\u001b[0m \u001b[43m    \u001b[49m\u001b[43mbits_per_sample\u001b[49m\u001b[43m,\u001b[49m\n\u001b[1;32m    324\u001b[0m \u001b[43m    \u001b[49m\u001b[43mbuffer_size\u001b[49m\u001b[43m,\u001b[49m\n\u001b[1;32m    325\u001b[0m \u001b[43m    \u001b[49m\u001b[43mcompression\u001b[49m\u001b[43m,\u001b[49m\n\u001b[1;32m    326\u001b[0m \u001b[43m\u001b[49m\u001b[43m)\u001b[49m\n",
      "File \u001b[0;32m~/dev/ml-dogs-sharepoint/.venv/lib/python3.12/site-packages/torchaudio/_backend/ffmpeg.py:247\u001b[0m, in \u001b[0;36msave_audio\u001b[0;34m(uri, src, sample_rate, channels_first, format, encoding, bits_per_sample, buffer_size, compression)\u001b[0m\n\u001b[1;32m    244\u001b[0m \u001b[38;5;28;01mif\u001b[39;00m channels_first:\n\u001b[1;32m    245\u001b[0m     src \u001b[38;5;241m=\u001b[39m src\u001b[38;5;241m.\u001b[39mT\n\u001b[0;32m--> 247\u001b[0m s \u001b[38;5;241m=\u001b[39m \u001b[43mtorchaudio\u001b[49m\u001b[38;5;241;43m.\u001b[39;49m\u001b[43mio\u001b[49m\u001b[38;5;241;43m.\u001b[39;49m\u001b[43mStreamWriter\u001b[49m\u001b[43m(\u001b[49m\u001b[43muri\u001b[49m\u001b[43m,\u001b[49m\u001b[43m \u001b[49m\u001b[38;5;28;43mformat\u001b[39;49m\u001b[38;5;241;43m=\u001b[39;49m\u001b[43mmuxer\u001b[49m\u001b[43m,\u001b[49m\u001b[43m \u001b[49m\u001b[43mbuffer_size\u001b[49m\u001b[38;5;241;43m=\u001b[39;49m\u001b[43mbuffer_size\u001b[49m\u001b[43m)\u001b[49m\n\u001b[1;32m    248\u001b[0m s\u001b[38;5;241m.\u001b[39madd_audio_stream(\n\u001b[1;32m    249\u001b[0m     sample_rate,\n\u001b[1;32m    250\u001b[0m     num_channels\u001b[38;5;241m=\u001b[39msrc\u001b[38;5;241m.\u001b[39msize(\u001b[38;5;241m-\u001b[39m\u001b[38;5;241m1\u001b[39m),\n\u001b[0;32m   (...)\u001b[0m\n\u001b[1;32m    254\u001b[0m     codec_config\u001b[38;5;241m=\u001b[39mcompression,\n\u001b[1;32m    255\u001b[0m )\n\u001b[1;32m    256\u001b[0m \u001b[38;5;28;01mwith\u001b[39;00m s\u001b[38;5;241m.\u001b[39mopen():\n",
      "File \u001b[0;32m~/dev/ml-dogs-sharepoint/.venv/lib/python3.12/site-packages/torio/io/_streaming_media_encoder.py:199\u001b[0m, in \u001b[0;36mStreamingMediaEncoder.__init__\u001b[0;34m(self, dst, format, buffer_size)\u001b[0m\n\u001b[1;32m    197\u001b[0m     \u001b[38;5;28mself\u001b[39m\u001b[38;5;241m.\u001b[39m_s \u001b[38;5;241m=\u001b[39m ffmpeg_ext\u001b[38;5;241m.\u001b[39mStreamingMediaEncoderFileObj(dst, \u001b[38;5;28mformat\u001b[39m, buffer_size)\n\u001b[1;32m    198\u001b[0m \u001b[38;5;28;01melse\u001b[39;00m:\n\u001b[0;32m--> 199\u001b[0m     \u001b[38;5;28mself\u001b[39m\u001b[38;5;241m.\u001b[39m_s \u001b[38;5;241m=\u001b[39m \u001b[43mffmpeg_ext\u001b[49m\u001b[38;5;241;43m.\u001b[39;49m\u001b[43mStreamingMediaEncoder\u001b[49m\u001b[43m(\u001b[49m\u001b[38;5;28;43mstr\u001b[39;49m\u001b[43m(\u001b[49m\u001b[43mdst\u001b[49m\u001b[43m)\u001b[49m\u001b[43m,\u001b[49m\u001b[43m \u001b[49m\u001b[38;5;28;43mformat\u001b[39;49m\u001b[43m)\u001b[49m\n\u001b[1;32m    200\u001b[0m \u001b[38;5;28mself\u001b[39m\u001b[38;5;241m.\u001b[39m_is_open \u001b[38;5;241m=\u001b[39m \u001b[38;5;28;01mFalse\u001b[39;00m\n",
      "\u001b[0;31mRuntimeError\u001b[0m: Failed to open output \"wav_files/original_0_eps0.01\" (Invalid argument).\nException raised from get_output_format_context at /__w/audio/audio/pytorch/audio/src/libtorio/ffmpeg/stream_writer/stream_writer.cpp:24 (most recent call first):\nframe #0: c10::Error::Error(c10::SourceLocation, std::string) + 0x96 (0x74ad058b9446 in /home/migoox/dev/ml-dogs-sharepoint/.venv/lib/python3.12/site-packages/torch/lib/libc10.so)\nframe #1: c10::detail::torchCheckFail(char const*, char const*, unsigned int, std::string const&) + 0x64 (0x74ad058636e4 in /home/migoox/dev/ml-dogs-sharepoint/.venv/lib/python3.12/site-packages/torch/lib/libc10.so)\nframe #2: <unknown function> + 0x53564 (0x74ac653db564 in /home/migoox/dev/ml-dogs-sharepoint/.venv/lib/python3.12/site-packages/torio/lib/libtorio_ffmpeg4.so)\nframe #3: torio::io::StreamingMediaEncoder::StreamingMediaEncoder(std::string const&, std::optional<std::string> const&) + 0x11 (0x74ac653dcd61 in /home/migoox/dev/ml-dogs-sharepoint/.venv/lib/python3.12/site-packages/torio/lib/libtorio_ffmpeg4.so)\nframe #4: <unknown function> + 0x39abe (0x74ab6dfb3abe in /home/migoox/dev/ml-dogs-sharepoint/.venv/lib/python3.12/site-packages/torio/lib/_torio_ffmpeg4.so)\nframe #5: <unknown function> + 0x31dfc (0x74ab6dfabdfc in /home/migoox/dev/ml-dogs-sharepoint/.venv/lib/python3.12/site-packages/torio/lib/_torio_ffmpeg4.so)\n<omitting python frames>\nframe #11: <unknown function> + 0xfb5b (0x74ac7245cb5b in /home/migoox/dev/ml-dogs-sharepoint/.venv/lib/python3.12/site-packages/torchaudio/lib/_torchaudio.so)\nframe #29: <unknown function> + 0x9e41 (0x74ad195bee41 in /home/migoox/.pyenv/versions/3.12.7/lib/python3.12/lib-dynload/_asyncio.cpython-312-x86_64-linux-gnu.so)\nframe #30: <unknown function> + 0xb2d1 (0x74ad195c02d1 in /home/migoox/.pyenv/versions/3.12.7/lib/python3.12/lib-dynload/_asyncio.cpython-312-x86_64-linux-gnu.so)\nframe #44: <unknown function> + 0x25e08 (0x74ad1a634e08 in /usr/lib/libc.so.6)\nframe #45: __libc_start_main + 0x8c (0x74ad1a634ecc in /usr/lib/libc.so.6)\nframe #46: _start + 0x25 (0x5fdd89123075 in /home/migoox/dev/ml-dogs-sharepoint/.venv/bin/python)\n"
     ]
    },
    {
     "data": {
      "image/png": "[encoded data removed]",
      "text/plain": [
       "<Figure size 1000x400 with 1 Axes>"
      ]
     },
     "metadata": {},
     "output_type": "display_data"
    }
   ],
   "source": [
    "if (not os.path.exists('wav_files')):\n",
    "    os.mkdir('wav_files')\n",
    "\n",
    "for epsilon in epsilon_values:\n",
    "    print(f\"--- Results for epsilon = {epsilon} ---\")\n",
    "    print(f\"Accuracy on normal images: {normal_accuracy * 100:.2f}%\")\n",
    "    print(f\"Accuracy on adversarial images: {adversarial_accuracy * 100:.2f}%\")\n",
    "    \n",
    "    # Process and visualize examples\n",
    "    for i, (original, perturbed, label, pred) in enumerate(examples):\n",
    "        plt.figure(figsize=(10, 4))\n",
    "        plt.subplot(1, 2, 1)\n",
    "        plt.title(f\"Original (Label: {label.item()})\")\n",
    "        plt.imshow(original.squeeze().numpy(), cmap=\"gray\")\n",
    "        DapsExplorer.save_wav_from_specgram(f'wav_files/original_{i}_eps{epsilon}', original.squeeze())\n",
    "\n",
    "        plt.subplot(1, 2, 2)\n",
    "        plt.title(f\"Perturbed (Pred: {pred.item()})\")\n",
    "        plt.imshow(perturbed.squeeze().numpy(), cmap=\"gray\")\n",
    "        plt.show()\n",
    "        DapsExplorer.save_wav_from_specgram(f'wav_files/pertubated_{i}_eps{epsilon}', perturbed.squeeze())\n",
    "\n",
    "        # # Convert spectrograms back to audio and save\n",
    "        # original_audio = spectrogram_to_audio_torch(original)\n",
    "        # perturbed_audio = spectrogram_to_audio_torch(perturbed)\n",
    "\n",
    "        # # Save audio to files\n",
    "        # sf.write(f\"original_epsilon_{epsilon:.2f}.wav\", original_audio.squeeze().numpy(), 16000)\n",
    "        # sf.write(f\"perturbed_epsilon_{epsilon:.2f}.wav\", perturbed_audio.squeeze().numpy(), 16000)\n",
    "\n",
    "        # # Play the audio\n",
    "        # print(f\"Playing original audio for epsilon {epsilon}\")\n",
    "        # display(Audio(original_audio.squeeze().numpy(), rate=16000))\n",
    "        # print(f\"Playing perturbed audio for epsilon {epsilon}\")\n",
    "        # display(Audio(perturbed_audio.squeeze().numpy(), rate=16000))\n",
    "\n",
    "print(\"\\n--- Accuracy Summary ---\")\n",
    "print(\"Epsilon | Normal Accuracy (%) | Adversarial Accuracy (%)\")\n",
    "for epsilon, normal_acc, adv_acc in accuracies:\n",
    "    print(f\"{epsilon:7.2f} | {normal_acc * 100:19.2f} | {adv_acc * 100:24.2f}\")\n"
   ]
  },
  {
   "cell_type": "code",
   "execution_count": null,
   "id": "4043108d-a3b2-4a6c-800c-f2b7e5db7036",
   "metadata": {},
   "outputs": [],
   "source": []
  }
 ],
 "metadata": {
  "kernelspec": {
   "display_name": ".venv",
   "language": "python",
   "name": "python3"
  },
  "language_info": {
   "codemirror_mode": {
    "name": "ipython",
    "version": 3
   },
   "file_extension": ".py",
   "mimetype": "text/x-python",
   "name": "python",
   "nbconvert_exporter": "python",
   "pygments_lexer": "ipython3",
   "version": "3.12.7"
  }
 },
 "nbformat": 4,
 "nbformat_minor": 5
}
