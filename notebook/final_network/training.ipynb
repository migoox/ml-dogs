{
 "cells": [
  {
   "cell_type": "markdown",
   "metadata": {},
   "source": [
    "## Setup"
   ]
  },
  {
   "cell_type": "code",
   "execution_count": 1,
   "metadata": {
    "ExecuteTime": {
     "end_time": "2024-11-25T19:34:38.100170Z",
     "start_time": "2024-11-25T19:34:29.014642Z"
    }
   },
   "outputs": [
    {
     "name": "stderr",
     "output_type": "stream",
     "text": [
      "\u001b[34m\u001b[1mwandb\u001b[0m: Using wandb-core as the SDK backend.  Please refer to https://wandb.me/wandb-core for more information.\n",
      "\u001b[34m\u001b[1mwandb\u001b[0m: Currently logged in as: \u001b[33mmldogs\u001b[0m (\u001b[33mmldogs-wut\u001b[0m). Use \u001b[1m`wandb login --relogin`\u001b[0m to force relogin\n"
     ]
    },
    {
     "data": {
      "text/plain": [
       "True"
      ]
     },
     "execution_count": 1,
     "metadata": {},
     "output_type": "execute_result"
    }
   ],
   "source": [
    "import os, sys\n",
    "sys.path.append(os.path.abspath('../../src/'))\n",
    "\n",
    "import torch\n",
    "import torch.optim as optim\n",
    "import torch.nn as nn\n",
    "import torch.nn.functional as F\n",
    "import torchvision.transforms as transforms\n",
    "from torch.optim.lr_scheduler import StepLR, ExponentialLR, LinearLR\n",
    "from torch.utils.data import DataLoader\n",
    "\n",
    "from model.spectogram_dataset import SpectrogramDataset\n",
    "\n",
    "import wandb\n",
    "\n",
    "wandb.login()"
   ]
  },
  {
   "cell_type": "code",
   "execution_count": 2,
   "metadata": {
    "ExecuteTime": {
     "end_time": "2024-11-25T19:34:38.116216Z",
     "start_time": "2024-11-25T19:34:38.102162Z"
    }
   },
   "outputs": [
    {
     "name": "stdout",
     "output_type": "stream",
     "text": [
      "cuda:0\n"
     ]
    }
   ],
   "source": [
    "device = torch.device('cuda:0' if torch.cuda.is_available() else 'cpu')\n",
    "print(device)"
   ]
  },
  {
   "cell_type": "markdown",
   "metadata": {},
   "source": [
    "## CNN"
   ]
  },
  {
   "cell_type": "code",
   "execution_count": 10,
   "metadata": {
    "ExecuteTime": {
     "end_time": "2024-11-25T19:40:24.627622Z",
     "start_time": "2024-11-25T19:40:24.615442Z"
    }
   },
   "outputs": [],
   "source": [
    "import torch\n",
    "import torch.nn as nn\n",
    "import torch.nn.functional as F\n",
    "\n",
    "class Net(nn.Module):\n",
    "    def __init__(self, dropout_conv_p=0.0, dropout_fc_p=0.0):\n",
    "        super(Net, self).__init__()\n",
    "\n",
    "        # Convolutional and pooling layers\n",
    "        self.conv1 = nn.Conv2d(1, 16, kernel_size=5)  # Output: (16, 169, 82)\n",
    "        self.pool1 = nn.MaxPool2d(2, 2)              # Output: (16, 84, 41)\n",
    "\n",
    "        self.conv2 = nn.Conv2d(16, 32, kernel_size=5) # Output: (32, 80, 37)\n",
    "        self.pool2 = nn.MaxPool2d(2, 2)              # Output: (32, 40, 18)\n",
    "\n",
    "        # Dropout after convolutional layers\n",
    "        self.dropout_conv = nn.Dropout2d(p=dropout_conv_p)  # Dropout2d for 2D data\n",
    "\n",
    "        # Fully connected layers\n",
    "        self.fc1 = nn.Linear(32 * 40 * 18, 256)      # Adjusted input size\n",
    "        self.fc2 = nn.Linear(256, 128)              # Fully connected layer 2\n",
    "        self.fc3 = nn.Linear(128, 1)              \n",
    "\n",
    "        # Dropout for fully connected layers\n",
    "        self.dropout_fc = nn.Dropout(p=dropout_fc_p)\n",
    "\n",
    "    def forward(self, x):\n",
    "        # Convolutional layers\n",
    "        x = self.conv1(x)\n",
    "        x = F.relu(x)  # Apply ReLU activation\n",
    "        x = self.pool1(x)  # Pooling\n",
    "        x = self.dropout_conv(x)  # Dropout (no effect if p=0.0)\n",
    "\n",
    "        x = self.conv2(x)\n",
    "        x = F.relu(x)  # Apply ReLU activation\n",
    "        x = self.pool2(x)  # Pooling\n",
    "        x = self.dropout_conv(x)  # Dropout (no effect if p=0.0)\n",
    "\n",
    "        # Flatten\n",
    "        x = torch.flatten(x, 1)\n",
    "\n",
    "        # Fully connected layers\n",
    "        x = self.fc1(x)\n",
    "        x = F.relu(x)  # Apply ReLU activation\n",
    "        x = self.dropout_fc(x)  # Dropout (no effect if p=0.0)\n",
    "\n",
    "        x = self.fc2(x)\n",
    "        x = F.relu(x)  # Apply ReLU activation\n",
    "        x = self.dropout_fc(x)  # Dropout (no effect if p=0.0)\n",
    "        x = torch.sigmoid(self.fc3(x))  # Output layer\n",
    "        \n",
    "        return x\n"
   ]
  },
  {
   "cell_type": "code",
   "execution_count": 11,
   "metadata": {
    "ExecuteTime": {
     "end_time": "2024-11-25T19:34:49.895315Z",
     "start_time": "2024-11-25T19:34:43.596158Z"
    }
   },
   "outputs": [],
   "source": [
    "from sklearn.metrics import f1_score\n",
    "\n",
    "def train(model, criterion, optimizer, scheduler, num_epochs, train_loader, val_loader, model_name = \"cnn\"):\n",
    "    model.to(device)\n",
    "    \n",
    "    PRINT_STEP = len(train_loader) // 5 - 1\n",
    "    epochs_without_val_acc_improvement = 0\n",
    "    best_val_acc = 0.0\n",
    "\n",
    "    for epoch in range(num_epochs):\n",
    "        model.train()\n",
    "\n",
    "        running_loss = 0.0\n",
    "        correct = 0\n",
    "        all_labels = []\n",
    "        all_preds = []\n",
    "\n",
    "        for  i, data in enumerate(train_loader):\n",
    "            inputs, labels = data\n",
    "            inputs = inputs.to(device)\n",
    "            labels = labels.to(device)\n",
    "            labels = labels.unsqueeze(1)\n",
    "\n",
    "            # Forward pass\n",
    "            outputs = model(inputs)\n",
    "            loss = criterion(outputs, labels)\n",
    "\n",
    "            # Backward pass and optimization\n",
    "            optimizer.zero_grad()\n",
    "            loss.backward()\n",
    "            optimizer.step()\n",
    "\n",
    "            preds = (outputs > 0.5).float()  # Binary prediction with threshold 0.5\n",
    "            all_labels.extend(labels.cpu().numpy().flatten())\n",
    "            all_preds.extend(preds.detach().cpu().numpy().flatten())\n",
    "\n",
    "            correct += (preds == labels).float().mean().item()\n",
    "            \n",
    "            running_loss += loss.item()\n",
    "\n",
    "            if i % PRINT_STEP == PRINT_STEP-1:\n",
    "                accuracy = correct / PRINT_STEP\n",
    "                loss = running_loss / PRINT_STEP\n",
    "                step = epoch * len(train_loader) + i\n",
    "                wandb.log({\n",
    "                        \"train/accuracy\": accuracy,\n",
    "                        \"train/loss\": loss\n",
    "                    },\n",
    "                    step=step\n",
    "                )\n",
    "                running_loss = 0.0\n",
    "                correct = 0\n",
    "\n",
    "        f1 = f1_score(all_labels, all_preds, average='macro')\n",
    "        print(f\"Epoch {epoch + 1}/{num_epochs}, Loss: {running_loss / len(train_loader):.4f}, F1 Score: {f1:.4f}\")\n",
    "        \n",
    "        if scheduler is not None:\n",
    "            scheduler.step()\n",
    "\n",
    "        # Validation\n",
    "        model.eval()\n",
    "\n",
    "        val_loss = 0.0\n",
    "        val_correct = 0\n",
    "\n",
    "        with torch.no_grad():\n",
    "            for j, data in enumerate(val_loader):\n",
    "                inputs, labels = data\n",
    "                inputs = inputs.to(device)\n",
    "                labels = labels.to(device)\n",
    "                labels = labels.unsqueeze(1)\n",
    "\n",
    "                outputs = model(inputs)\n",
    "                loss = criterion(outputs, labels)\n",
    "                val_loss += loss.item()\n",
    "\n",
    "                # Binary predictions\n",
    "                preds = (outputs > 0.5).float()\n",
    "                val_correct += (preds == labels).float().mean().item()\n",
    "\n",
    "        accuracy = val_correct / len(val_loader)\n",
    "        loss = val_loss / len(val_loader)\n",
    "        wandb.log({\n",
    "                \"validation/accuracy\": accuracy,\n",
    "                \"validation/loss\": loss\n",
    "            },\n",
    "            step=(epoch + 1) * len(train_loader)\n",
    "        )\n",
    "\n",
    "        if accuracy > best_val_acc:\n",
    "            best_val_acc = accuracy\n",
    "            epochs_without_val_acc_improvement = 0\n",
    "        else:\n",
    "            epochs_without_val_acc_improvement += 1\n",
    "        if epochs_without_val_acc_improvement >= 10:\n",
    "            print(\"10 epochs without a val accuracy improvement. Stopping the train\")\n",
    "            break\n",
    "\n",
    "    torch.save(model.state_dict(), f\"{model_name}_dict.pth\")\n",
    "    torch.save(model, f\"{model_name}.pth\")\n",
    "    print(\"Training complete.\")\n",
    "    \n",
    "def test(model, test_loader, criterion):\n",
    "    model.eval()\n",
    "\n",
    "    test_loss = 0.0\n",
    "    test_correct = 0\n",
    "    all_labels = []\n",
    "    all_preds = []\n",
    "\n",
    "    with torch.no_grad():\n",
    "        for data in test_loader:\n",
    "            inputs, labels = data\n",
    "            inputs = inputs.to(device)\n",
    "            labels = labels.to(device)\n",
    "            labels = labels.unsqueeze(1)\n",
    "\n",
    "            outputs = model(inputs)\n",
    "            loss = criterion(outputs, labels)\n",
    "            test_loss += loss.item()\n",
    "\n",
    "            # Binary predictions\n",
    "            preds = (outputs > 0.5).float()\n",
    "            all_labels.extend(labels.cpu().numpy().flatten())\n",
    "            all_preds.extend(preds.detach().cpu().numpy().flatten())\n",
    "\n",
    "            test_correct += (preds == labels).float().mean().item()\n",
    "\n",
    "    accuracy = test_correct / len(test_loader)\n",
    "    loss = test_loss / len(test_loader)\n",
    "    f1 = f1_score(all_labels, all_preds, average='macro')\n",
    "\n",
    "    print(f'Test Loss: {loss:.4f}, Test Accuracy: {accuracy:.4f}, Test F1 Score: {f1:.4f}')\n",
    "    wandb.log({\n",
    "            \"test/accuracy\": accuracy,\n",
    "            \"test/loss\": loss,\n",
    "            \"test/f1_score\": f1\n",
    "        }\n",
    "    )"
   ]
  },
  {
   "cell_type": "markdown",
   "metadata": {},
   "source": [
    "## Data"
   ]
  },
  {
   "cell_type": "code",
   "execution_count": 5,
   "metadata": {
    "ExecuteTime": {
     "end_time": "2024-11-25T19:34:51.411641Z",
     "start_time": "2024-11-25T19:34:49.897318Z"
    }
   },
   "outputs": [],
   "source": [
    "from utils.dataset_creator import SpecgramsRandomFilter, SpecgramsSilentFilter\n",
    "\n",
    "DATASETS_PARENT_PATH = 'datasets'\n",
    "DATASET_PATH = 'dataset'\n",
    "DATA_DIR = os.path.join('../../', DATASETS_PARENT_PATH, DATASET_PATH)"
   ]
  },
  {
   "cell_type": "code",
   "execution_count": 4,
   "metadata": {
    "ExecuteTime": {
     "end_time": "2024-11-24T13:49:06.942168Z",
     "start_time": "2024-11-24T13:45:30.768705Z"
    }
   },
   "outputs": [
    {
     "name": "stdout",
     "output_type": "stream",
     "text": [
      "DatasetCreator: Exporting the dataset with the following parameters:\n",
      "    n_fft=1024\n",
      "    n_mels=86\n",
      "    duration_seconds=2s\n",
      "    multithreading=True\n",
      "Class 0 recordings count: 270\n",
      "Class 1 recordings count: 630\n",
      "Image properties:\n",
      "    width=173px\n",
      "    height=86px\n",
      "Removing directory /home/migoox/dev/ml-dogs-sharepoint/src/../datasets/dataset/train/0\n",
      "Removing directory /home/migoox/dev/ml-dogs-sharepoint/src/../datasets/dataset/train/1\n",
      "Finished [900/900]Dataset has been exported. Elapsed time: 131.48113918304443s.\n",
      "DatasetCreator: Exporting the dataset with the following parameters:\n",
      "    n_fft=1024\n",
      "    n_mels=86\n",
      "    duration_seconds=2s\n",
      "    multithreading=True\n",
      "Class 0 recordings count: 90\n",
      "Class 1 recordings count: 210\n",
      "Image properties:\n",
      "    width=173px\n",
      "    height=86px\n",
      "Removing directory /home/migoox/dev/ml-dogs-sharepoint/src/../datasets/dataset/validation/0\n",
      "Removing directory /home/migoox/dev/ml-dogs-sharepoint/src/../datasets/dataset/validation/1\n",
      "Finished [300/300]Dataset has been exported. Elapsed time: 49.21348023414612s.\n",
      "DatasetCreator: Exporting the dataset with the following parameters:\n",
      "    n_fft=1024\n",
      "    n_mels=86\n",
      "    duration_seconds=2s\n",
      "    multithreading=True\n",
      "Class 0 recordings count: 90\n",
      "Class 1 recordings count: 210\n",
      "Image properties:\n",
      "    width=173px\n",
      "    height=86px\n",
      "Removing directory /home/migoox/dev/ml-dogs-sharepoint/src/../datasets/dataset/test/0\n",
      "Removing directory /home/migoox/dev/ml-dogs-sharepoint/src/../datasets/dataset/test/1\n",
      "Finished [300/300]Dataset has been exported. Elapsed time: 38.7637882232666s.\n"
     ]
    }
   ],
   "source": [
    "from prepare_datasets import create_datasets\n",
    "\n",
    "create_datasets(DATASETS_PARENT_PATH, DATASET_PATH, [\n",
    "    SpecgramsSilentFilter(k=1.1)\n",
    "])"
   ]
  },
  {
   "cell_type": "code",
   "execution_count": 15,
   "metadata": {
    "ExecuteTime": {
     "end_time": "2024-11-25T19:34:57.741752Z",
     "start_time": "2024-11-25T19:34:57.725650Z"
    }
   },
   "outputs": [],
   "source": [
    "INPUT_WIDTH = 173\n",
    "INPUT_HEIGHT = 86\n",
    "\n",
    "LR_DECAY = 0.95\n",
    "EPOCHS = 30\n",
    "LEARNING_RATE = 0.001\n",
    "BATCH_SIZE = 32\n",
    "\n",
    "DROPOUT_CONV = 0.3\n",
    "DROPOUT_FC = 0.3"
   ]
  },
  {
   "cell_type": "markdown",
   "metadata": {},
   "source": [
    "## Training"
   ]
  },
  {
   "cell_type": "code",
   "execution_count": 16,
   "metadata": {
    "ExecuteTime": {
     "end_time": "2024-11-25T19:44:54.960792Z",
     "start_time": "2024-11-25T19:44:27.631310Z"
    },
    "scrolled": true
   },
   "outputs": [
    {
     "data": {
      "text/html": [
       "Tracking run with wandb version 0.19.1"
      ],
      "text/plain": [
       "<IPython.core.display.HTML object>"
      ]
     },
     "metadata": {},
     "output_type": "display_data"
    },
    {
     "data": {
      "text/html": [
       "Run data is saved locally in <code>/home/migoox/dev/ml-dogs-sharepoint/notebook/final_network/wandb/run-20250119_210053-zwm3tvd3</code>"
      ],
      "text/plain": [
       "<IPython.core.display.HTML object>"
      ]
     },
     "metadata": {},
     "output_type": "display_data"
    },
    {
     "data": {
      "text/html": [
       "Syncing run <strong><a href='https://wandb.ai/mldogs-wut/IML%20milestone%203/runs/zwm3tvd3' target=\"_blank\">final-network</a></strong> to <a href='https://wandb.ai/mldogs-wut/IML%20milestone%203' target=\"_blank\">Weights & Biases</a> (<a href='https://wandb.me/developer-guide' target=\"_blank\">docs</a>)<br>"
      ],
      "text/plain": [
       "<IPython.core.display.HTML object>"
      ]
     },
     "metadata": {},
     "output_type": "display_data"
    },
    {
     "data": {
      "text/html": [
       " View project at <a href='https://wandb.ai/mldogs-wut/IML%20milestone%203' target=\"_blank\">https://wandb.ai/mldogs-wut/IML%20milestone%203</a>"
      ],
      "text/plain": [
       "<IPython.core.display.HTML object>"
      ]
     },
     "metadata": {},
     "output_type": "display_data"
    },
    {
     "data": {
      "text/html": [
       " View run at <a href='https://wandb.ai/mldogs-wut/IML%20milestone%203/runs/zwm3tvd3' target=\"_blank\">https://wandb.ai/mldogs-wut/IML%20milestone%203/runs/zwm3tvd3</a>"
      ],
      "text/plain": [
       "<IPython.core.display.HTML object>"
      ]
     },
     "metadata": {},
     "output_type": "display_data"
    },
    {
     "name": "stdout",
     "output_type": "stream",
     "text": [
      "Epoch 1/30, Loss: 0.0212, F1 Score: 0.4085\n",
      "Epoch 2/30, Loss: 0.0092, F1 Score: 0.7229\n",
      "Epoch 3/30, Loss: 0.0064, F1 Score: 0.8856\n",
      "Epoch 4/30, Loss: 0.0035, F1 Score: 0.9255\n",
      "Epoch 5/30, Loss: 0.0023, F1 Score: 0.9529\n",
      "Epoch 6/30, Loss: 0.0038, F1 Score: 0.9689\n",
      "Epoch 7/30, Loss: 0.0013, F1 Score: 0.9737\n",
      "Epoch 8/30, Loss: 0.0009, F1 Score: 0.9839\n",
      "Epoch 9/30, Loss: 0.0004, F1 Score: 0.9827\n",
      "Epoch 10/30, Loss: 0.0007, F1 Score: 0.9858\n",
      "Epoch 11/30, Loss: 0.0020, F1 Score: 0.9879\n",
      "Epoch 12/30, Loss: 0.0009, F1 Score: 0.9883\n",
      "Epoch 13/30, Loss: 0.0007, F1 Score: 0.9914\n",
      "Epoch 14/30, Loss: 0.0008, F1 Score: 0.9926\n",
      "Epoch 15/30, Loss: 0.0001, F1 Score: 0.9910\n",
      "Epoch 16/30, Loss: 0.0002, F1 Score: 0.9947\n",
      "Epoch 17/30, Loss: 0.0009, F1 Score: 0.9899\n",
      "Epoch 18/30, Loss: 0.0004, F1 Score: 0.9947\n",
      "Epoch 19/30, Loss: 0.0017, F1 Score: 0.9914\n",
      "Epoch 20/30, Loss: 0.0023, F1 Score: 0.9926\n",
      "Epoch 21/30, Loss: 0.0003, F1 Score: 0.9940\n",
      "Epoch 22/30, Loss: 0.0008, F1 Score: 0.9955\n",
      "Epoch 23/30, Loss: 0.0002, F1 Score: 0.9942\n",
      "Epoch 24/30, Loss: 0.0007, F1 Score: 0.9963\n",
      "Epoch 25/30, Loss: 0.0009, F1 Score: 0.9942\n",
      "Epoch 26/30, Loss: 0.0001, F1 Score: 0.9973\n",
      "Epoch 27/30, Loss: 0.0001, F1 Score: 0.9928\n",
      "Epoch 28/30, Loss: 0.0015, F1 Score: 0.9965\n",
      "Epoch 29/30, Loss: 0.0001, F1 Score: 0.9940\n",
      "Epoch 30/30, Loss: 0.0000, F1 Score: 0.9949\n",
      "Training complete.\n",
      "Test Loss: 0.1408, Test Accuracy: 0.9712, Test F1 Score: 0.9685\n"
     ]
    },
    {
     "data": {
      "text/html": [],
      "text/plain": [
       "<IPython.core.display.HTML object>"
      ]
     },
     "metadata": {},
     "output_type": "display_data"
    },
    {
     "data": {
      "text/html": [
       "<br>    <style><br>        .wandb-row {<br>            display: flex;<br>            flex-direction: row;<br>            flex-wrap: wrap;<br>            justify-content: flex-start;<br>            width: 100%;<br>        }<br>        .wandb-col {<br>            display: flex;<br>            flex-direction: column;<br>            flex-basis: 100%;<br>            flex: 1;<br>            padding: 10px;<br>        }<br>    </style><br><div class=\"wandb-row\"><div class=\"wandb-col\"><h3>Run history:</h3><br/><table class=\"wandb\"><tr><td>test/accuracy</td><td>▁</td></tr><tr><td>test/f1_score</td><td>▁</td></tr><tr><td>test/loss</td><td>▁</td></tr><tr><td>train/accuracy</td><td>▁▁▁▁▅▆▆▇▇▇██████████████████████████████</td></tr><tr><td>train/loss</td><td>██▇▅▄▂▂▂▂▂▁▁▁▁▁▁▁▁▁▁▁▁▁▁▁▁▁▁▁▁▁▁▁▁▁▁▁▁▁▁</td></tr><tr><td>validation/accuracy</td><td>▁▅▆▇▇▇▇███████████████████████</td></tr><tr><td>validation/loss</td><td>█▅▃▃▂▁▁▁▂▁▁▁▂▂▁▄▁▃▁▁▁▁▃▂▁▁▂▃▃▂</td></tr></table><br/></div><div class=\"wandb-col\"><h3>Run summary:</h3><br/><table class=\"wandb\"><tr><td>test/accuracy</td><td>0.97116</td></tr><tr><td>test/f1_score</td><td>0.96853</td></tr><tr><td>test/loss</td><td>0.1408</td></tr><tr><td>train/accuracy</td><td>0.99821</td></tr><tr><td>train/loss</td><td>0.00591</td></tr><tr><td>validation/accuracy</td><td>0.96171</td></tr><tr><td>validation/loss</td><td>0.20279</td></tr></table><br/></div></div>"
      ],
      "text/plain": [
       "<IPython.core.display.HTML object>"
      ]
     },
     "metadata": {},
     "output_type": "display_data"
    },
    {
     "data": {
      "text/html": [
       " View run <strong style=\"color:#cdcd00\">final-network</strong> at: <a href='https://wandb.ai/mldogs-wut/IML%20milestone%203/runs/zwm3tvd3' target=\"_blank\">https://wandb.ai/mldogs-wut/IML%20milestone%203/runs/zwm3tvd3</a><br> View project at: <a href='https://wandb.ai/mldogs-wut/IML%20milestone%203' target=\"_blank\">https://wandb.ai/mldogs-wut/IML%20milestone%203</a><br>Synced 5 W&B file(s), 0 media file(s), 0 artifact file(s) and 0 other file(s)"
      ],
      "text/plain": [
       "<IPython.core.display.HTML object>"
      ]
     },
     "metadata": {},
     "output_type": "display_data"
    },
    {
     "data": {
      "text/html": [
       "Find logs at: <code>./wandb/run-20250119_210053-zwm3tvd3/logs</code>"
      ],
      "text/plain": [
       "<IPython.core.display.HTML object>"
      ]
     },
     "metadata": {},
     "output_type": "display_data"
    }
   ],
   "source": [
    "import itertools\n",
    "\n",
    "\n",
    "name = f\"final-network\"\n",
    "\n",
    "wandb.init(\n",
    "    name=name,\n",
    "    project=\"IML Milestone 3\",\n",
    "    config={\n",
    "        \"learning_rate\": LEARNING_RATE,\n",
    "        \"learning_rate_decay\": LR_DECAY,\n",
    "        \"batch_size\": BATCH_SIZE,\n",
    "        \"dropout_conv_p\": DROPOUT_CONV,\n",
    "        \"dropout_fc_p\": DROPOUT_FC,\n",
    "        \"use_batchnorm\": USE_BATCHNORM,\n",
    "        \"input_resolution\": (INPUT_WIDTH, INPUT_HEIGHT),\n",
    "        \"scheduler\": \"none\",\n",
    "        \"architecture\": \"CNN\",\n",
    "        \"dataset\": \"DAPS\"\n",
    "    }\n",
    ")\n",
    "\n",
    "model = Net(dropout_conv_p=DROPOUT_CONV,\n",
    "            dropout_fc_p=DROPOUT_FC)\n",
    "criterion = nn.BCELoss()\n",
    "optimizer = optim.Adam(model.parameters(), lr=LEARNING_RATE)\n",
    "scheduler = StepLR(optimizer, step_size=10, gamma=LR_DECAY)\n",
    "\n",
    "transform = transforms.ToTensor()\n",
    "\n",
    "train_dataset = SpectrogramDataset(data_dir=os.path.join(DATA_DIR, \"train\"), transform=transform)\n",
    "train_loader = DataLoader(train_dataset, batch_size=BATCH_SIZE, shuffle=True)\n",
    "\n",
    "val_dataset = SpectrogramDataset(data_dir=os.path.join(DATA_DIR, \"validation\"), transform=transform)\n",
    "val_loader = DataLoader(val_dataset, batch_size=BATCH_SIZE, shuffle=False)\n",
    "\n",
    "test_dataset = SpectrogramDataset(data_dir=os.path.join(DATA_DIR, \"test\"), transform=transform)\n",
    "test_loader = DataLoader(test_dataset, batch_size=BATCH_SIZE, shuffle=False)\n",
    "\n",
    "# Train and evaluate\n",
    "train(model, criterion, optimizer, scheduler, EPOCHS, train_loader, val_loader, model_name=name)\n",
    "test(model, test_loader, criterion)\n",
    "\n",
    "wandb.finish()"
   ]
  },
  {
   "cell_type": "code",
   "execution_count": null,
   "metadata": {},
   "outputs": [],
   "source": []
  }
 ],
 "metadata": {
  "kernelspec": {
   "display_name": "Python 3 (ipykernel)",
   "language": "python",
   "name": "python3"
  },
  "language_info": {
   "codemirror_mode": {
    "name": "ipython",
    "version": 3
   },
   "file_extension": ".py",
   "mimetype": "text/x-python",
   "name": "python",
   "nbconvert_exporter": "python",
   "pygments_lexer": "ipython3",
   "version": "3.12.7"
  }
 },
 "nbformat": 4,
 "nbformat_minor": 4
}
