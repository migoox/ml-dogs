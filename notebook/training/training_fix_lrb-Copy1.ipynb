{
 "cells": [
  {
   "cell_type": "markdown",
   "metadata": {},
   "source": [
    "## Setup"
   ]
  },
  {
   "cell_type": "code",
   "execution_count": 1,
   "metadata": {},
   "outputs": [
    {
     "name": "stderr",
     "output_type": "stream",
     "text": [
      "\u001b[34m\u001b[1mwandb\u001b[0m: Using wandb-core as the SDK backend.  Please refer to https://wandb.me/wandb-core for more information.\n",
      "\u001b[34m\u001b[1mwandb\u001b[0m: Currently logged in as: \u001b[33mmldogs\u001b[0m (\u001b[33mmldogs-wut\u001b[0m). Use \u001b[1m`wandb login --relogin`\u001b[0m to force relogin\n"
     ]
    },
    {
     "data": {
      "text/plain": [
       "True"
      ]
     },
     "execution_count": 1,
     "metadata": {},
     "output_type": "execute_result"
    }
   ],
   "source": [
    "import os, sys\n",
    "sys.path.append(os.path.abspath('../../src/'))\n",
    "\n",
    "import torch\n",
    "import torch.optim as optim\n",
    "import torch.nn as nn\n",
    "import itertools\n",
    "import torch.nn.functional as F\n",
    "import torchvision.transforms as transforms\n",
    "from torch.utils.data import DataLoader\n",
    "\n",
    "from model.spectogram_dataset import SpectrogramDataset\n",
    "\n",
    "import wandb\n",
    "\n",
    "wandb.login()"
   ]
  },
  {
   "cell_type": "code",
   "execution_count": 2,
   "metadata": {},
   "outputs": [
    {
     "name": "stdout",
     "output_type": "stream",
     "text": [
      "cuda:0\n"
     ]
    }
   ],
   "source": [
    "device = torch.device('cuda:0' if torch.cuda.is_available() else 'cpu')\n",
    "print(device)"
   ]
  },
  {
   "cell_type": "markdown",
   "metadata": {},
   "source": [
    "## CNN"
   ]
  },
  {
   "cell_type": "code",
   "execution_count": 3,
   "metadata": {},
   "outputs": [],
   "source": [
    "import torch\n",
    "import torch.nn as nn\n",
    "import torch.nn.functional as F\n",
    "\n",
    "class Net(nn.Module):\n",
    "    def __init__(self, dropout_conv_p=0.0, dropout_fc_p=0.0):\n",
    "        super(Net, self).__init__()\n",
    "\n",
    "        # Convolutional and pooling layers\n",
    "        self.conv1 = nn.Conv2d(1, 16, kernel_size=5)  # Output: (16, 169, 82)\n",
    "        self.pool1 = nn.MaxPool2d(2, 2)              # Output: (16, 84, 41)\n",
    "\n",
    "        self.conv2 = nn.Conv2d(16, 32, kernel_size=5) # Output: (32, 80, 37)\n",
    "        self.pool2 = nn.MaxPool2d(2, 2)              # Output: (32, 40, 18)\n",
    "\n",
    "        # Dropout after convolutional layers\n",
    "        self.dropout_conv = nn.Dropout2d(p=dropout_conv_p)  # Dropout2d for 2D data\n",
    "\n",
    "        # Fully connected layers\n",
    "        self.fc1 = nn.Linear(32 * 40 * 18, 256)      # Adjusted input size\n",
    "        self.fc2 = nn.Linear(256, 128)              # Fully connected layer 2\n",
    "        self.fc3 = nn.Linear(128, 1)              \n",
    "\n",
    "        # Dropout for fully connected layers\n",
    "        self.dropout_fc = nn.Dropout(p=dropout_fc_p)\n",
    "\n",
    "    def forward(self, x):\n",
    "        # Convolutional layers\n",
    "        x = self.conv1(x)\n",
    "        x = F.relu(x)  # Apply ReLU activation\n",
    "        x = self.pool1(x)  # Pooling\n",
    "        x = self.dropout_conv(x)  # Dropout (no effect if p=0.0)\n",
    "\n",
    "        x = self.conv2(x)\n",
    "        x = F.relu(x)  # Apply ReLU activation\n",
    "        x = self.pool2(x)  # Pooling\n",
    "        x = self.dropout_conv(x)  # Dropout (no effect if p=0.0)\n",
    "\n",
    "        # Flatten\n",
    "        x = torch.flatten(x, 1)\n",
    "\n",
    "        # Fully connected layers\n",
    "        x = self.fc1(x)\n",
    "        x = F.relu(x)  # Apply ReLU activation\n",
    "        x = self.dropout_fc(x)  # Dropout (no effect if p=0.0)\n",
    "\n",
    "        x = self.fc2(x)\n",
    "        x = F.relu(x)  # Apply ReLU activation\n",
    "        x = self.dropout_fc(x)  # Dropout (no effect if p=0.0)\n",
    "        x = torch.sigmoid(self.fc3(x))  # Output layer\n",
    "        \n",
    "        return x"
   ]
  },
  {
   "cell_type": "code",
   "execution_count": 4,
   "metadata": {},
   "outputs": [],
   "source": [
    "from sklearn.metrics import f1_score\n",
    "\n",
    "def train(model, criterion, optimizer, num_epochs, train_loader, val_loader, model_name = \"cnn\"):\n",
    "    model.to(device)\n",
    "    \n",
    "    PRINT_STEP = len(train_loader) // 5 - 1\n",
    "    epochs_without_val_acc_improvement = 0\n",
    "    best_val_acc = 0.0\n",
    "\n",
    "    for epoch in range(num_epochs):\n",
    "        model.train()\n",
    "\n",
    "        running_loss = 0.0\n",
    "        correct = 0\n",
    "        all_labels = []\n",
    "        all_preds = []\n",
    "\n",
    "        for  i, data in enumerate(train_loader):\n",
    "            inputs, labels = data\n",
    "            inputs = inputs.to(device)\n",
    "            labels = labels.to(device)\n",
    "            labels = labels.unsqueeze(1)\n",
    "\n",
    "            # Forward pass\n",
    "            outputs = model(inputs)\n",
    "            loss = criterion(outputs, labels)\n",
    "\n",
    "            # Backward pass and optimization\n",
    "            optimizer.zero_grad()\n",
    "            loss.backward()\n",
    "            optimizer.step()\n",
    "\n",
    "            preds = (outputs > 0.5).float()  # Binary prediction with threshold 0.5\n",
    "            all_labels.extend(labels.cpu().numpy().flatten())\n",
    "            all_preds.extend(preds.detach().cpu().numpy().flatten())\n",
    "\n",
    "            correct += (preds == labels).float().mean().item()\n",
    "            \n",
    "            running_loss += loss.item()\n",
    "\n",
    "            if i % PRINT_STEP == PRINT_STEP-1:\n",
    "                accuracy = correct / PRINT_STEP\n",
    "                loss = running_loss / PRINT_STEP\n",
    "                step = epoch * len(train_loader) + i\n",
    "                wandb.log({\n",
    "                        \"train/accuracy\": accuracy,\n",
    "                        \"train/loss\": loss\n",
    "                    },\n",
    "                    step=step\n",
    "                )\n",
    "                running_loss = 0.0\n",
    "                correct = 0\n",
    "\n",
    "        f1 = f1_score(all_labels, all_preds, average='macro')\n",
    "        print(f\"Epoch {epoch + 1}/{num_epochs}, Loss: {running_loss / len(train_loader):.4f}, F1 Score: {f1:.4f}\")\n",
    "\n",
    "        # Validation\n",
    "        model.eval()\n",
    "\n",
    "        val_loss = 0.0\n",
    "        val_correct = 0\n",
    "\n",
    "        with torch.no_grad():\n",
    "            for j, data in enumerate(val_loader):\n",
    "                inputs, labels = data\n",
    "                inputs = inputs.to(device)\n",
    "                labels = labels.to(device)\n",
    "                labels = labels.unsqueeze(1)\n",
    "\n",
    "                outputs = model(inputs)\n",
    "                loss = criterion(outputs, labels)\n",
    "                val_loss += loss.item()\n",
    "\n",
    "                # Binary predictions\n",
    "                preds = (outputs > 0.5).float()\n",
    "                val_correct += (preds == labels).float().mean().item()\n",
    "\n",
    "        accuracy = val_correct / len(val_loader)\n",
    "        loss = val_loss / len(val_loader)\n",
    "        wandb.log({\n",
    "                \"validation/accuracy\": accuracy,\n",
    "                \"validation/loss\": loss\n",
    "            },\n",
    "            step=(epoch + 1) * len(train_loader)\n",
    "        )\n",
    "\n",
    "        if accuracy > best_val_acc:\n",
    "            best_val_acc = accuracy\n",
    "            epochs_without_val_acc_improvement = 0\n",
    "        else:\n",
    "            epochs_without_val_acc_improvement += 1\n",
    "        if epochs_without_val_acc_improvement >= 10:\n",
    "            print(\"8 epochs without a val accuracy improvement. Stopping the train\")\n",
    "            break\n",
    "        if epoch > 15 and accuracy < 0.9:\n",
    "            print(\"Too low accuracy. Stopping the train\")\n",
    "            break\n",
    "\n",
    "    print(\"Training complete.\")\n",
    "    \n",
    "def test(model, test_loader):\n",
    "    model.eval()\n",
    "\n",
    "    correct = 0\n",
    "    total = 0\n",
    "\n",
    "    with torch.no_grad():\n",
    "        for data in test_loader:\n",
    "            images, labels = data\n",
    "            outputs = model(images)\n",
    "            _, predicted = torch.max(outputs.data, 1)\n",
    "            total += labels.size(0)\n",
    "            correct += (predicted == labels).sum().item()\n",
    "\n",
    "    print(f'Accuracy of the network on test images: {100 * correct // total} %')"
   ]
  },
  {
   "cell_type": "markdown",
   "metadata": {},
   "source": [
    "## Data"
   ]
  },
  {
   "cell_type": "code",
   "execution_count": 5,
   "metadata": {},
   "outputs": [],
   "source": [
    "from utils.dataset_creator import SpecgramsRandomFilter, SpecgramsSilentFilter\n",
    "\n",
    "DATASETS_PARENT_PATH = 'datasets'\n",
    "DATASET_PATH = 'dataset'\n",
    "DATA_DIR = os.path.join('../../', DATASETS_PARENT_PATH, DATASET_PATH)"
   ]
  },
  {
   "cell_type": "code",
   "execution_count": 6,
   "metadata": {},
   "outputs": [
    {
     "name": "stdout",
     "output_type": "stream",
     "text": [
      "DatasetCreator: Exporting the dataset with the following parameters:\n",
      "    n_fft=1024\n",
      "    n_mels=86\n",
      "    duration_seconds=2s\n",
      "    multithreading=True\n",
      "Class 0 recordings count: 270\n",
      "Class 1 recordings count: 630\n",
      "Image properties:\n",
      "    width=173px\n",
      "    height=86px\n",
      "Removing directory /home/migoox/dev/ml-dogs-sharepoint/src/../datasets/dataset/train/0\n",
      "Removing directory /home/migoox/dev/ml-dogs-sharepoint/src/../datasets/dataset/train/1\n",
      "Finished [900/900]Dataset has been exported. Elapsed time: 139.80219292640686s.\n",
      "DatasetCreator: Exporting the dataset with the following parameters:\n",
      "    n_fft=1024\n",
      "    n_mels=86\n",
      "    duration_seconds=2s\n",
      "    multithreading=True\n",
      "Class 0 recordings count: 90\n",
      "Class 1 recordings count: 210\n",
      "Image properties:\n",
      "    width=173px\n",
      "    height=86px\n",
      "Removing directory /home/migoox/dev/ml-dogs-sharepoint/src/../datasets/dataset/validation/0\n",
      "Removing directory /home/migoox/dev/ml-dogs-sharepoint/src/../datasets/dataset/validation/1\n",
      "Finished [300/300]Dataset has been exported. Elapsed time: 53.33736515045166s.\n",
      "DatasetCreator: Exporting the dataset with the following parameters:\n",
      "    n_fft=1024\n",
      "    n_mels=86\n",
      "    duration_seconds=2s\n",
      "    multithreading=True\n",
      "Class 0 recordings count: 90\n",
      "Class 1 recordings count: 210\n",
      "Image properties:\n",
      "    width=173px\n",
      "    height=86px\n",
      "Removing directory /home/migoox/dev/ml-dogs-sharepoint/src/../datasets/dataset/test/0\n",
      "Removing directory /home/migoox/dev/ml-dogs-sharepoint/src/../datasets/dataset/test/1\n",
      "Finished [300/300]Dataset has been exported. Elapsed time: 41.711612701416016s.\n"
     ]
    }
   ],
   "source": [
    "from prepare_datasets import create_datasets\n",
    "\n",
    "create_datasets(DATASETS_PARENT_PATH, DATASET_PATH, [\n",
    "    SpecgramsSilentFilter(1.1)\n",
    "])"
   ]
  },
  {
   "cell_type": "code",
   "execution_count": 7,
   "metadata": {},
   "outputs": [],
   "source": [
    "INPUT_WIDTH = 67\n",
    "INPUT_HEIGHT = 66\n",
    "\n",
    "LEARNING_RATE = 0.001\n",
    "LR_DECAY = 0.95\n",
    "BATCH_SIZE = 64\n",
    "EPOCHS = 30\n",
    "\n",
    "LEARNING_RATE_ARRAY = [0.1, 0.01, 0.001, 0.0001]\n",
    "BATCH_SIZE_ARRAY = [32, 64, 128]\n",
    "DROPOUT_ARRAY = [0, 0.2, 0.4]\n"
   ]
  },
  {
   "cell_type": "markdown",
   "metadata": {},
   "source": [
    "## Training"
   ]
  },
  {
   "cell_type": "code",
   "execution_count": 8,
   "metadata": {},
   "outputs": [
    {
     "name": "stdout",
     "output_type": "stream",
     "text": [
      "lr:0.1-b:32-d_c:0, d_f:0\n"
     ]
    },
    {
     "data": {
      "text/html": [
       "Tracking run with wandb version 0.19.1"
      ],
      "text/plain": [
       "<IPython.core.display.HTML object>"
      ]
     },
     "metadata": {},
     "output_type": "display_data"
    },
    {
     "data": {
      "text/html": [
       "Run data is saved locally in <code>/home/migoox/dev/ml-dogs-sharepoint/notebook/training/wandb/run-20250119_182141-2mrh7gra</code>"
      ],
      "text/plain": [
       "<IPython.core.display.HTML object>"
      ]
     },
     "metadata": {},
     "output_type": "display_data"
    },
    {
     "data": {
      "text/html": [
       "Syncing run <strong><a href='https://wandb.ai/mldogs-wut/iml_final_tests/runs/2mrh7gra' target=\"_blank\">lr:0.1-b:32-d_c:0, d_f:0</a></strong> to <a href='https://wandb.ai/mldogs-wut/iml_final_tests' target=\"_blank\">Weights & Biases</a> (<a href='https://wandb.me/developer-guide' target=\"_blank\">docs</a>)<br>"
      ],
      "text/plain": [
       "<IPython.core.display.HTML object>"
      ]
     },
     "metadata": {},
     "output_type": "display_data"
    },
    {
     "data": {
      "text/html": [
       " View project at <a href='https://wandb.ai/mldogs-wut/iml_final_tests' target=\"_blank\">https://wandb.ai/mldogs-wut/iml_final_tests</a>"
      ],
      "text/plain": [
       "<IPython.core.display.HTML object>"
      ]
     },
     "metadata": {},
     "output_type": "display_data"
    },
    {
     "data": {
      "text/html": [
       " View run at <a href='https://wandb.ai/mldogs-wut/iml_final_tests/runs/2mrh7gra' target=\"_blank\">https://wandb.ai/mldogs-wut/iml_final_tests/runs/2mrh7gra</a>"
      ],
      "text/plain": [
       "<IPython.core.display.HTML object>"
      ]
     },
     "metadata": {},
     "output_type": "display_data"
    },
    {
     "name": "stdout",
     "output_type": "stream",
     "text": [
      "Epoch 1/30, Loss: 1.9706, F1 Score: 0.4095\n",
      "Epoch 2/30, Loss: 2.2797, F1 Score: 0.3996\n",
      "Epoch 3/30, Loss: 2.1252, F1 Score: 0.3996\n",
      "Epoch 4/30, Loss: 2.0895, F1 Score: 0.3996\n",
      "Epoch 5/30, Loss: 1.6285, F1 Score: 0.3996\n",
      "Epoch 6/30, Loss: 2.2440, F1 Score: 0.3996\n",
      "Epoch 7/30, Loss: 1.9706, F1 Score: 0.3996\n",
      "Epoch 8/30, Loss: 2.2599, F1 Score: 0.3996\n",
      "Epoch 9/30, Loss: 2.3642, F1 Score: 0.3996\n",
      "Epoch 10/30, Loss: 2.0525, F1 Score: 0.3996\n",
      "Epoch 11/30, Loss: 2.1925, F1 Score: 0.3996\n",
      "8 epochs without a val accuracy improvement. Stopping the train\n",
      "Training complete.\n"
     ]
    },
    {
     "data": {
      "text/html": [],
      "text/plain": [
       "<IPython.core.display.HTML object>"
      ]
     },
     "metadata": {},
     "output_type": "display_data"
    },
    {
     "data": {
      "text/html": [
       "<br>    <style><br>        .wandb-row {<br>            display: flex;<br>            flex-direction: row;<br>            flex-wrap: wrap;<br>            justify-content: flex-start;<br>            width: 100%;<br>        }<br>        .wandb-col {<br>            display: flex;<br>            flex-direction: column;<br>            flex-basis: 100%;<br>            flex: 1;<br>            padding: 10px;<br>        }<br>    </style><br><div class=\"wandb-row\"><div class=\"wandb-col\"><h3>Run history:</h3><br/><table class=\"wandb\"><tr><td>train/accuracy</td><td>▄▄▄▅▃▆▆▇▄▃▄▂▄▆▄▄▃▅▁▃▅▇▅▄▄▅▄▅▄▃▆▅▇▃█▄▂▆▆▃</td></tr><tr><td>train/loss</td><td>▁▅▆▄▆▃▃▂▆▁▅▇▅▄▃▆▂▅▆▅▆▇▃▃▄▅▄▅▄▅▅▃▄▃▇▅█▃▃▆</td></tr><tr><td>validation/accuracy</td><td>▁▁▁▁▁▁▁▁▁▁▁</td></tr><tr><td>validation/loss</td><td>▁▁▁▁▁▁▁▁▁▁▁</td></tr></table><br/></div><div class=\"wandb-col\"><h3>Run summary:</h3><br/><table class=\"wandb\"><tr><td>train/accuracy</td><td>0.65625</td></tr><tr><td>train/loss</td><td>34.375</td></tr><tr><td>validation/accuracy</td><td>0.66927</td></tr><tr><td>validation/loss</td><td>33.07292</td></tr></table><br/></div></div>"
      ],
      "text/plain": [
       "<IPython.core.display.HTML object>"
      ]
     },
     "metadata": {},
     "output_type": "display_data"
    },
    {
     "data": {
      "text/html": [
       " View run <strong style=\"color:#cdcd00\">lr:0.1-b:32-d_c:0, d_f:0</strong> at: <a href='https://wandb.ai/mldogs-wut/iml_final_tests/runs/2mrh7gra' target=\"_blank\">https://wandb.ai/mldogs-wut/iml_final_tests/runs/2mrh7gra</a><br> View project at: <a href='https://wandb.ai/mldogs-wut/iml_final_tests' target=\"_blank\">https://wandb.ai/mldogs-wut/iml_final_tests</a><br>Synced 5 W&B file(s), 0 media file(s), 0 artifact file(s) and 0 other file(s)"
      ],
      "text/plain": [
       "<IPython.core.display.HTML object>"
      ]
     },
     "metadata": {},
     "output_type": "display_data"
    },
    {
     "data": {
      "text/html": [
       "Find logs at: <code>./wandb/run-20250119_182141-2mrh7gra/logs</code>"
      ],
      "text/plain": [
       "<IPython.core.display.HTML object>"
      ]
     },
     "metadata": {},
     "output_type": "display_data"
    },
    {
     "name": "stdout",
     "output_type": "stream",
     "text": [
      "lr:0.1-b:32-d_c:0, d_f:0.2\n"
     ]
    },
    {
     "data": {
      "text/html": [
       "Tracking run with wandb version 0.19.1"
      ],
      "text/plain": [
       "<IPython.core.display.HTML object>"
      ]
     },
     "metadata": {},
     "output_type": "display_data"
    },
    {
     "data": {
      "text/html": [
       "Run data is saved locally in <code>/home/migoox/dev/ml-dogs-sharepoint/notebook/training/wandb/run-20250119_182206-mguv54aj</code>"
      ],
      "text/plain": [
       "<IPython.core.display.HTML object>"
      ]
     },
     "metadata": {},
     "output_type": "display_data"
    },
    {
     "data": {
      "text/html": [
       "Syncing run <strong><a href='https://wandb.ai/mldogs-wut/iml_final_tests/runs/mguv54aj' target=\"_blank\">lr:0.1-b:32-d_c:0, d_f:0.2</a></strong> to <a href='https://wandb.ai/mldogs-wut/iml_final_tests' target=\"_blank\">Weights & Biases</a> (<a href='https://wandb.me/developer-guide' target=\"_blank\">docs</a>)<br>"
      ],
      "text/plain": [
       "<IPython.core.display.HTML object>"
      ]
     },
     "metadata": {},
     "output_type": "display_data"
    },
    {
     "data": {
      "text/html": [
       " View project at <a href='https://wandb.ai/mldogs-wut/iml_final_tests' target=\"_blank\">https://wandb.ai/mldogs-wut/iml_final_tests</a>"
      ],
      "text/plain": [
       "<IPython.core.display.HTML object>"
      ]
     },
     "metadata": {},
     "output_type": "display_data"
    },
    {
     "data": {
      "text/html": [
       " View run at <a href='https://wandb.ai/mldogs-wut/iml_final_tests/runs/mguv54aj' target=\"_blank\">https://wandb.ai/mldogs-wut/iml_final_tests/runs/mguv54aj</a>"
      ],
      "text/plain": [
       "<IPython.core.display.HTML object>"
      ]
     },
     "metadata": {},
     "output_type": "display_data"
    },
    {
     "name": "stdout",
     "output_type": "stream",
     "text": [
      "Epoch 1/30, Loss: 2.2242, F1 Score: 0.4083\n",
      "Epoch 2/30, Loss: 2.5174, F1 Score: 0.3996\n",
      "Epoch 3/30, Loss: 2.3603, F1 Score: 0.3996\n",
      "Epoch 4/30, Loss: 2.2255, F1 Score: 0.3996\n",
      "Epoch 5/30, Loss: 1.9878, F1 Score: 0.3996\n",
      "Epoch 6/30, Loss: 2.1397, F1 Score: 0.3996\n",
      "Epoch 7/30, Loss: 2.2070, F1 Score: 0.3996\n",
      "Epoch 8/30, Loss: 2.1912, F1 Score: 0.3996\n",
      "Epoch 9/30, Loss: 2.4289, F1 Score: 0.3996\n",
      "Epoch 10/30, Loss: 1.9019, F1 Score: 0.3996\n",
      "Epoch 11/30, Loss: 2.0908, F1 Score: 0.3996\n",
      "8 epochs without a val accuracy improvement. Stopping the train\n",
      "Training complete.\n"
     ]
    },
    {
     "data": {
      "text/html": [],
      "text/plain": [
       "<IPython.core.display.HTML object>"
      ]
     },
     "metadata": {},
     "output_type": "display_data"
    },
    {
     "data": {
      "text/html": [
       "<br>    <style><br>        .wandb-row {<br>            display: flex;<br>            flex-direction: row;<br>            flex-wrap: wrap;<br>            justify-content: flex-start;<br>            width: 100%;<br>        }<br>        .wandb-col {<br>            display: flex;<br>            flex-direction: column;<br>            flex-basis: 100%;<br>            flex: 1;<br>            padding: 10px;<br>        }<br>    </style><br><div class=\"wandb-row\"><div class=\"wandb-col\"><h3>Run history:</h3><br/><table class=\"wandb\"><tr><td>train/accuracy</td><td>▃▇▁▅▄▇▇▁▄▅▃▇▅▆▆▂▅▆▅▄▄▅▅▅▇▇▁▇▅▄▃█▃▄▆▆▅█▁▇</td></tr><tr><td>train/loss</td><td>▁▄█▅▅▃▄█▅▄▄▅▅▄▃▅▅▆▅▆▅▅▆▃▄▅▅▆▅▆▇▅▄▅▅▃▄▅█▃</td></tr><tr><td>validation/accuracy</td><td>▁▁▁▁▁▁▁▁▁▁▁</td></tr><tr><td>validation/loss</td><td>▁▁▁▁▁▁▁▁▁▁▁</td></tr></table><br/></div><div class=\"wandb-col\"><h3>Run summary:</h3><br/><table class=\"wandb\"><tr><td>train/accuracy</td><td>0.67739</td></tr><tr><td>train/loss</td><td>32.26103</td></tr><tr><td>validation/accuracy</td><td>0.66927</td></tr><tr><td>validation/loss</td><td>33.07292</td></tr></table><br/></div></div>"
      ],
      "text/plain": [
       "<IPython.core.display.HTML object>"
      ]
     },
     "metadata": {},
     "output_type": "display_data"
    },
    {
     "data": {
      "text/html": [
       " View run <strong style=\"color:#cdcd00\">lr:0.1-b:32-d_c:0, d_f:0.2</strong> at: <a href='https://wandb.ai/mldogs-wut/iml_final_tests/runs/mguv54aj' target=\"_blank\">https://wandb.ai/mldogs-wut/iml_final_tests/runs/mguv54aj</a><br> View project at: <a href='https://wandb.ai/mldogs-wut/iml_final_tests' target=\"_blank\">https://wandb.ai/mldogs-wut/iml_final_tests</a><br>Synced 5 W&B file(s), 0 media file(s), 0 artifact file(s) and 0 other file(s)"
      ],
      "text/plain": [
       "<IPython.core.display.HTML object>"
      ]
     },
     "metadata": {},
     "output_type": "display_data"
    },
    {
     "data": {
      "text/html": [
       "Find logs at: <code>./wandb/run-20250119_182206-mguv54aj/logs</code>"
      ],
      "text/plain": [
       "<IPython.core.display.HTML object>"
      ]
     },
     "metadata": {},
     "output_type": "display_data"
    },
    {
     "name": "stdout",
     "output_type": "stream",
     "text": [
      "lr:0.1-b:32-d_c:0, d_f:0.4\n"
     ]
    },
    {
     "data": {
      "text/html": [
       "Tracking run with wandb version 0.19.1"
      ],
      "text/plain": [
       "<IPython.core.display.HTML object>"
      ]
     },
     "metadata": {},
     "output_type": "display_data"
    },
    {
     "data": {
      "text/html": [
       "Run data is saved locally in <code>/home/migoox/dev/ml-dogs-sharepoint/notebook/training/wandb/run-20250119_182232-79n6ha57</code>"
      ],
      "text/plain": [
       "<IPython.core.display.HTML object>"
      ]
     },
     "metadata": {},
     "output_type": "display_data"
    },
    {
     "data": {
      "text/html": [
       "Syncing run <strong><a href='https://wandb.ai/mldogs-wut/iml_final_tests/runs/79n6ha57' target=\"_blank\">lr:0.1-b:32-d_c:0, d_f:0.4</a></strong> to <a href='https://wandb.ai/mldogs-wut/iml_final_tests' target=\"_blank\">Weights & Biases</a> (<a href='https://wandb.me/developer-guide' target=\"_blank\">docs</a>)<br>"
      ],
      "text/plain": [
       "<IPython.core.display.HTML object>"
      ]
     },
     "metadata": {},
     "output_type": "display_data"
    },
    {
     "data": {
      "text/html": [
       " View project at <a href='https://wandb.ai/mldogs-wut/iml_final_tests' target=\"_blank\">https://wandb.ai/mldogs-wut/iml_final_tests</a>"
      ],
      "text/plain": [
       "<IPython.core.display.HTML object>"
      ]
     },
     "metadata": {},
     "output_type": "display_data"
    },
    {
     "data": {
      "text/html": [
       " View run at <a href='https://wandb.ai/mldogs-wut/iml_final_tests/runs/79n6ha57' target=\"_blank\">https://wandb.ai/mldogs-wut/iml_final_tests/runs/79n6ha57</a>"
      ],
      "text/plain": [
       "<IPython.core.display.HTML object>"
      ]
     },
     "metadata": {},
     "output_type": "display_data"
    },
    {
     "name": "stdout",
     "output_type": "stream",
     "text": [
      "Epoch 1/30, Loss: 2.3101, F1 Score: 0.4131\n",
      "Epoch 2/30, Loss: 2.3616, F1 Score: 0.3996\n",
      "Epoch 3/30, Loss: 2.1252, F1 Score: 0.3996\n",
      "Epoch 4/30, Loss: 2.0195, F1 Score: 0.3996\n",
      "Epoch 5/30, Loss: 2.4303, F1 Score: 0.3996\n",
      "Epoch 6/30, Loss: 2.1410, F1 Score: 0.3996\n",
      "Epoch 7/30, Loss: 2.2612, F1 Score: 0.3996\n",
      "Epoch 8/30, Loss: 2.2599, F1 Score: 0.3996\n",
      "Epoch 9/30, Loss: 2.1952, F1 Score: 0.3996\n",
      "Epoch 10/30, Loss: 2.2586, F1 Score: 0.3996\n",
      "Epoch 11/30, Loss: 2.3272, F1 Score: 0.3996\n",
      "8 epochs without a val accuracy improvement. Stopping the train\n",
      "Training complete.\n"
     ]
    },
    {
     "data": {
      "text/html": [],
      "text/plain": [
       "<IPython.core.display.HTML object>"
      ]
     },
     "metadata": {},
     "output_type": "display_data"
    },
    {
     "data": {
      "text/html": [
       "<br>    <style><br>        .wandb-row {<br>            display: flex;<br>            flex-direction: row;<br>            flex-wrap: wrap;<br>            justify-content: flex-start;<br>            width: 100%;<br>        }<br>        .wandb-col {<br>            display: flex;<br>            flex-direction: column;<br>            flex-basis: 100%;<br>            flex: 1;<br>            padding: 10px;<br>        }<br>    </style><br><div class=\"wandb-row\"><div class=\"wandb-col\"><h3>Run history:</h3><br/><table class=\"wandb\"><tr><td>train/accuracy</td><td>▂▁▅▇▄▆▄▃▄▄▄▆▃▅▁▇▃▅▃▃▆▄▁▄█▂▄▆▅▃▃▆▄▄▆▃▂▄▆▇</td></tr><tr><td>train/loss</td><td>▃█▄▂▅▃▅▆▆▅▄▆▅▃▆█▇▂▄▄▃▅█▅▁▇▅▃▄▆▆▃▅▃▄▇█▅▃▂</td></tr><tr><td>validation/accuracy</td><td>▁▁▁▁▁▁▁▁▁▁▁</td></tr><tr><td>validation/loss</td><td>▁▁▁▁▁▁▁▁▁▁▁</td></tr></table><br/></div><div class=\"wandb-col\"><h3>Run summary:</h3><br/><table class=\"wandb\"><tr><td>train/accuracy</td><td>0.69026</td></tr><tr><td>train/loss</td><td>30.97426</td></tr><tr><td>validation/accuracy</td><td>0.66927</td></tr><tr><td>validation/loss</td><td>33.07292</td></tr></table><br/></div></div>"
      ],
      "text/plain": [
       "<IPython.core.display.HTML object>"
      ]
     },
     "metadata": {},
     "output_type": "display_data"
    },
    {
     "data": {
      "text/html": [
       " View run <strong style=\"color:#cdcd00\">lr:0.1-b:32-d_c:0, d_f:0.4</strong> at: <a href='https://wandb.ai/mldogs-wut/iml_final_tests/runs/79n6ha57' target=\"_blank\">https://wandb.ai/mldogs-wut/iml_final_tests/runs/79n6ha57</a><br> View project at: <a href='https://wandb.ai/mldogs-wut/iml_final_tests' target=\"_blank\">https://wandb.ai/mldogs-wut/iml_final_tests</a><br>Synced 5 W&B file(s), 0 media file(s), 0 artifact file(s) and 0 other file(s)"
      ],
      "text/plain": [
       "<IPython.core.display.HTML object>"
      ]
     },
     "metadata": {},
     "output_type": "display_data"
    },
    {
     "data": {
      "text/html": [
       "Find logs at: <code>./wandb/run-20250119_182232-79n6ha57/logs</code>"
      ],
      "text/plain": [
       "<IPython.core.display.HTML object>"
      ]
     },
     "metadata": {},
     "output_type": "display_data"
    },
    {
     "name": "stdout",
     "output_type": "stream",
     "text": [
      "lr:0.1-b:32-d_c:0.2, d_f:0\n"
     ]
    },
    {
     "data": {
      "text/html": [
       "Tracking run with wandb version 0.19.1"
      ],
      "text/plain": [
       "<IPython.core.display.HTML object>"
      ]
     },
     "metadata": {},
     "output_type": "display_data"
    },
    {
     "data": {
      "text/html": [
       "Run data is saved locally in <code>/home/migoox/dev/ml-dogs-sharepoint/notebook/training/wandb/run-20250119_182258-f0zsnqqg</code>"
      ],
      "text/plain": [
       "<IPython.core.display.HTML object>"
      ]
     },
     "metadata": {},
     "output_type": "display_data"
    },
    {
     "data": {
      "text/html": [
       "Syncing run <strong><a href='https://wandb.ai/mldogs-wut/iml_final_tests/runs/f0zsnqqg' target=\"_blank\">lr:0.1-b:32-d_c:0.2, d_f:0</a></strong> to <a href='https://wandb.ai/mldogs-wut/iml_final_tests' target=\"_blank\">Weights & Biases</a> (<a href='https://wandb.me/developer-guide' target=\"_blank\">docs</a>)<br>"
      ],
      "text/plain": [
       "<IPython.core.display.HTML object>"
      ]
     },
     "metadata": {},
     "output_type": "display_data"
    },
    {
     "data": {
      "text/html": [
       " View project at <a href='https://wandb.ai/mldogs-wut/iml_final_tests' target=\"_blank\">https://wandb.ai/mldogs-wut/iml_final_tests</a>"
      ],
      "text/plain": [
       "<IPython.core.display.HTML object>"
      ]
     },
     "metadata": {},
     "output_type": "display_data"
    },
    {
     "data": {
      "text/html": [
       " View run at <a href='https://wandb.ai/mldogs-wut/iml_final_tests/runs/f0zsnqqg' target=\"_blank\">https://wandb.ai/mldogs-wut/iml_final_tests/runs/f0zsnqqg</a>"
      ],
      "text/plain": [
       "<IPython.core.display.HTML object>"
      ]
     },
     "metadata": {},
     "output_type": "display_data"
    },
    {
     "name": "stdout",
     "output_type": "stream",
     "text": [
      "Epoch 1/30, Loss: 2.0895, F1 Score: 0.4083\n",
      "Epoch 2/30, Loss: 2.3801, F1 Score: 0.3996\n",
      "Epoch 3/30, Loss: 2.4659, F1 Score: 0.3996\n",
      "Epoch 4/30, Loss: 2.1080, F1 Score: 0.3996\n",
      "Epoch 5/30, Loss: 2.3087, F1 Score: 0.3996\n",
      "Epoch 6/30, Loss: 2.5703, F1 Score: 0.3996\n",
      "Epoch 7/30, Loss: 2.1238, F1 Score: 0.3996\n",
      "Epoch 8/30, Loss: 1.8491, F1 Score: 0.3996\n",
      "Epoch 9/30, Loss: 2.0208, F1 Score: 0.3996\n",
      "Epoch 10/30, Loss: 2.2255, F1 Score: 0.3996\n",
      "Epoch 11/30, Loss: 2.1555, F1 Score: 0.3996\n",
      "8 epochs without a val accuracy improvement. Stopping the train\n",
      "Training complete.\n"
     ]
    },
    {
     "data": {
      "text/html": [],
      "text/plain": [
       "<IPython.core.display.HTML object>"
      ]
     },
     "metadata": {},
     "output_type": "display_data"
    },
    {
     "data": {
      "text/html": [
       "<br>    <style><br>        .wandb-row {<br>            display: flex;<br>            flex-direction: row;<br>            flex-wrap: wrap;<br>            justify-content: flex-start;<br>            width: 100%;<br>        }<br>        .wandb-col {<br>            display: flex;<br>            flex-direction: column;<br>            flex-basis: 100%;<br>            flex: 1;<br>            padding: 10px;<br>        }<br>    </style><br><div class=\"wandb-row\"><div class=\"wandb-col\"><h3>Run history:</h3><br/><table class=\"wandb\"><tr><td>train/accuracy</td><td>▂▃█▆▃▁▆▆▇▃▄▆▅▅▇▅▁▅▇▅▆▆▇▆▄▆▅▄▂▄▃▆▄▃▆▆▃▃█▃</td></tr><tr><td>train/loss</td><td>▆▂▄▆▄▄▃▃▆▁▆▃▄▄▃▅█▄▂▅▆▃▃▃▅▅▄▅▅▃▃▅▆▃▃▅▄▆▅▅</td></tr><tr><td>validation/accuracy</td><td>▁▁▁▁▁▁▁▁▁▁▁</td></tr><tr><td>validation/loss</td><td>▁▁▁▁▁▁▁▁▁▁▁</td></tr></table><br/></div><div class=\"wandb-col\"><h3>Run summary:</h3><br/><table class=\"wandb\"><tr><td>train/accuracy</td><td>0.65349</td></tr><tr><td>train/loss</td><td>34.65074</td></tr><tr><td>validation/accuracy</td><td>0.66927</td></tr><tr><td>validation/loss</td><td>33.07292</td></tr></table><br/></div></div>"
      ],
      "text/plain": [
       "<IPython.core.display.HTML object>"
      ]
     },
     "metadata": {},
     "output_type": "display_data"
    },
    {
     "data": {
      "text/html": [
       " View run <strong style=\"color:#cdcd00\">lr:0.1-b:32-d_c:0.2, d_f:0</strong> at: <a href='https://wandb.ai/mldogs-wut/iml_final_tests/runs/f0zsnqqg' target=\"_blank\">https://wandb.ai/mldogs-wut/iml_final_tests/runs/f0zsnqqg</a><br> View project at: <a href='https://wandb.ai/mldogs-wut/iml_final_tests' target=\"_blank\">https://wandb.ai/mldogs-wut/iml_final_tests</a><br>Synced 5 W&B file(s), 0 media file(s), 0 artifact file(s) and 0 other file(s)"
      ],
      "text/plain": [
       "<IPython.core.display.HTML object>"
      ]
     },
     "metadata": {},
     "output_type": "display_data"
    },
    {
     "data": {
      "text/html": [
       "Find logs at: <code>./wandb/run-20250119_182258-f0zsnqqg/logs</code>"
      ],
      "text/plain": [
       "<IPython.core.display.HTML object>"
      ]
     },
     "metadata": {},
     "output_type": "display_data"
    },
    {
     "name": "stdout",
     "output_type": "stream",
     "text": [
      "lr:0.1-b:32-d_c:0.2, d_f:0.2\n"
     ]
    },
    {
     "data": {
      "text/html": [
       "Tracking run with wandb version 0.19.1"
      ],
      "text/plain": [
       "<IPython.core.display.HTML object>"
      ]
     },
     "metadata": {},
     "output_type": "display_data"
    },
    {
     "data": {
      "text/html": [
       "Run data is saved locally in <code>/home/migoox/dev/ml-dogs-sharepoint/notebook/training/wandb/run-20250119_182323-vxw04k5x</code>"
      ],
      "text/plain": [
       "<IPython.core.display.HTML object>"
      ]
     },
     "metadata": {},
     "output_type": "display_data"
    },
    {
     "data": {
      "text/html": [
       "Syncing run <strong><a href='https://wandb.ai/mldogs-wut/iml_final_tests/runs/vxw04k5x' target=\"_blank\">lr:0.1-b:32-d_c:0.2, d_f:0.2</a></strong> to <a href='https://wandb.ai/mldogs-wut/iml_final_tests' target=\"_blank\">Weights & Biases</a> (<a href='https://wandb.me/developer-guide' target=\"_blank\">docs</a>)<br>"
      ],
      "text/plain": [
       "<IPython.core.display.HTML object>"
      ]
     },
     "metadata": {},
     "output_type": "display_data"
    },
    {
     "data": {
      "text/html": [
       " View project at <a href='https://wandb.ai/mldogs-wut/iml_final_tests' target=\"_blank\">https://wandb.ai/mldogs-wut/iml_final_tests</a>"
      ],
      "text/plain": [
       "<IPython.core.display.HTML object>"
      ]
     },
     "metadata": {},
     "output_type": "display_data"
    },
    {
     "data": {
      "text/html": [
       " View run at <a href='https://wandb.ai/mldogs-wut/iml_final_tests/runs/vxw04k5x' target=\"_blank\">https://wandb.ai/mldogs-wut/iml_final_tests/runs/vxw04k5x</a>"
      ],
      "text/plain": [
       "<IPython.core.display.HTML object>"
      ]
     },
     "metadata": {},
     "output_type": "display_data"
    },
    {
     "name": "stdout",
     "output_type": "stream",
     "text": [
      "Epoch 1/30, Loss: 1.9693, F1 Score: 0.4065\n",
      "Epoch 2/30, Loss: 2.1925, F1 Score: 0.3996\n",
      "Epoch 3/30, Loss: 1.9376, F1 Score: 0.3996\n",
      "Epoch 4/30, Loss: 2.3616, F1 Score: 0.3996\n",
      "Epoch 5/30, Loss: 2.5491, F1 Score: 0.3996\n",
      "Epoch 6/30, Loss: 2.2110, F1 Score: 0.3996\n",
      "Epoch 7/30, Loss: 2.2586, F1 Score: 0.3996\n",
      "Epoch 8/30, Loss: 2.0736, F1 Score: 0.3996\n",
      "Epoch 9/30, Loss: 2.2110, F1 Score: 0.3996\n",
      "Epoch 10/30, Loss: 2.4461, F1 Score: 0.3996\n",
      "Epoch 11/30, Loss: 2.0895, F1 Score: 0.3996\n",
      "8 epochs without a val accuracy improvement. Stopping the train\n",
      "Training complete.\n"
     ]
    },
    {
     "data": {
      "text/html": [],
      "text/plain": [
       "<IPython.core.display.HTML object>"
      ]
     },
     "metadata": {},
     "output_type": "display_data"
    },
    {
     "data": {
      "text/html": [
       "<br>    <style><br>        .wandb-row {<br>            display: flex;<br>            flex-direction: row;<br>            flex-wrap: wrap;<br>            justify-content: flex-start;<br>            width: 100%;<br>        }<br>        .wandb-col {<br>            display: flex;<br>            flex-direction: column;<br>            flex-basis: 100%;<br>            flex: 1;<br>            padding: 10px;<br>        }<br>    </style><br><div class=\"wandb-row\"><div class=\"wandb-col\"><h3>Run history:</h3><br/><table class=\"wandb\"><tr><td>train/accuracy</td><td>▁▃▆▂▄▆▅▅▆▆▂▄▄▃▆▄▆▄█▇▄▅▅▄▅▆▅▇▄▆▄▅▅▃▅▅▃▅▃▂</td></tr><tr><td>train/loss</td><td>▂▆▃▃█▃▇▄▄▃▅▇▅▂▅▇▃▅▁▃▅▅▄▆▆▄▂▆▃▇▄▃▇▆▄▂▄▆▃█</td></tr><tr><td>validation/accuracy</td><td>▁▁▁▁▁▁▁▁▁▁▁</td></tr><tr><td>validation/loss</td><td>▁▁▁▁▁▁▁▁▁▁▁</td></tr></table><br/></div><div class=\"wandb-col\"><h3>Run summary:</h3><br/><table class=\"wandb\"><tr><td>train/accuracy</td><td>0.64522</td></tr><tr><td>train/loss</td><td>35.47794</td></tr><tr><td>validation/accuracy</td><td>0.66927</td></tr><tr><td>validation/loss</td><td>33.07292</td></tr></table><br/></div></div>"
      ],
      "text/plain": [
       "<IPython.core.display.HTML object>"
      ]
     },
     "metadata": {},
     "output_type": "display_data"
    },
    {
     "data": {
      "text/html": [
       " View run <strong style=\"color:#cdcd00\">lr:0.1-b:32-d_c:0.2, d_f:0.2</strong> at: <a href='https://wandb.ai/mldogs-wut/iml_final_tests/runs/vxw04k5x' target=\"_blank\">https://wandb.ai/mldogs-wut/iml_final_tests/runs/vxw04k5x</a><br> View project at: <a href='https://wandb.ai/mldogs-wut/iml_final_tests' target=\"_blank\">https://wandb.ai/mldogs-wut/iml_final_tests</a><br>Synced 5 W&B file(s), 0 media file(s), 0 artifact file(s) and 0 other file(s)"
      ],
      "text/plain": [
       "<IPython.core.display.HTML object>"
      ]
     },
     "metadata": {},
     "output_type": "display_data"
    },
    {
     "data": {
      "text/html": [
       "Find logs at: <code>./wandb/run-20250119_182323-vxw04k5x/logs</code>"
      ],
      "text/plain": [
       "<IPython.core.display.HTML object>"
      ]
     },
     "metadata": {},
     "output_type": "display_data"
    },
    {
     "name": "stdout",
     "output_type": "stream",
     "text": [
      "lr:0.1-b:32-d_c:0.2, d_f:0.4\n"
     ]
    },
    {
     "data": {
      "text/html": [
       "Tracking run with wandb version 0.19.1"
      ],
      "text/plain": [
       "<IPython.core.display.HTML object>"
      ]
     },
     "metadata": {},
     "output_type": "display_data"
    },
    {
     "data": {
      "text/html": [
       "Run data is saved locally in <code>/home/migoox/dev/ml-dogs-sharepoint/notebook/training/wandb/run-20250119_182348-u5u34rx9</code>"
      ],
      "text/plain": [
       "<IPython.core.display.HTML object>"
      ]
     },
     "metadata": {},
     "output_type": "display_data"
    },
    {
     "data": {
      "text/html": [
       "Syncing run <strong><a href='https://wandb.ai/mldogs-wut/iml_final_tests/runs/u5u34rx9' target=\"_blank\">lr:0.1-b:32-d_c:0.2, d_f:0.4</a></strong> to <a href='https://wandb.ai/mldogs-wut/iml_final_tests' target=\"_blank\">Weights & Biases</a> (<a href='https://wandb.me/developer-guide' target=\"_blank\">docs</a>)<br>"
      ],
      "text/plain": [
       "<IPython.core.display.HTML object>"
      ]
     },
     "metadata": {},
     "output_type": "display_data"
    },
    {
     "data": {
      "text/html": [
       " View project at <a href='https://wandb.ai/mldogs-wut/iml_final_tests' target=\"_blank\">https://wandb.ai/mldogs-wut/iml_final_tests</a>"
      ],
      "text/plain": [
       "<IPython.core.display.HTML object>"
      ]
     },
     "metadata": {},
     "output_type": "display_data"
    },
    {
     "data": {
      "text/html": [
       " View run at <a href='https://wandb.ai/mldogs-wut/iml_final_tests/runs/u5u34rx9' target=\"_blank\">https://wandb.ai/mldogs-wut/iml_final_tests/runs/u5u34rx9</a>"
      ],
      "text/plain": [
       "<IPython.core.display.HTML object>"
      ]
     },
     "metadata": {},
     "output_type": "display_data"
    },
    {
     "name": "stdout",
     "output_type": "stream",
     "text": [
      "Epoch 1/30, Loss: 1.9521, F1 Score: 0.3996\n",
      "Epoch 2/30, Loss: 2.1952, F1 Score: 0.3996\n",
      "Epoch 3/30, Loss: 2.0736, F1 Score: 0.3996\n",
      "Epoch 4/30, Loss: 2.1767, F1 Score: 0.3996\n",
      "Epoch 5/30, Loss: 2.0076, F1 Score: 0.3996\n",
      "Epoch 6/30, Loss: 2.0869, F1 Score: 0.3996\n",
      "Epoch 7/30, Loss: 2.2427, F1 Score: 0.3996\n",
      "Epoch 8/30, Loss: 2.2110, F1 Score: 0.3996\n",
      "Epoch 9/30, Loss: 1.9535, F1 Score: 0.3996\n",
      "Epoch 10/30, Loss: 1.9535, F1 Score: 0.3996\n",
      "Epoch 11/30, Loss: 2.1912, F1 Score: 0.3996\n",
      "8 epochs without a val accuracy improvement. Stopping the train\n",
      "Training complete.\n"
     ]
    },
    {
     "data": {
      "text/html": [],
      "text/plain": [
       "<IPython.core.display.HTML object>"
      ]
     },
     "metadata": {},
     "output_type": "display_data"
    },
    {
     "data": {
      "text/html": [
       "<br>    <style><br>        .wandb-row {<br>            display: flex;<br>            flex-direction: row;<br>            flex-wrap: wrap;<br>            justify-content: flex-start;<br>            width: 100%;<br>        }<br>        .wandb-col {<br>            display: flex;<br>            flex-direction: column;<br>            flex-basis: 100%;<br>            flex: 1;<br>            padding: 10px;<br>        }<br>    </style><br><div class=\"wandb-row\"><div class=\"wandb-col\"><h3>Run history:</h3><br/><table class=\"wandb\"><tr><td>train/accuracy</td><td>▆▄▄▄▇▄▂▃▅▃▇▄▅▃▅▄▅▂▅▅▃▂▄▅▂▄▅▇▇▂▆▅▂▅▁▃█▃▅▄</td></tr><tr><td>train/loss</td><td>▅▃▅▅▅▄▅▇▆▆▅▄▅▆▄▅▄▄▄▄▇▅▄▇▄▄▂▂▇▇▄▇▄█▅▆▆▁▆▄</td></tr><tr><td>validation/accuracy</td><td>▁▁▁▁▁▁▁▁▁▁▁</td></tr><tr><td>validation/loss</td><td>▁▁▁▁▁▁▁▁▁▁▁</td></tr></table><br/></div><div class=\"wandb-col\"><h3>Run summary:</h3><br/><table class=\"wandb\"><tr><td>train/accuracy</td><td>0.66268</td></tr><tr><td>train/loss</td><td>33.73162</td></tr><tr><td>validation/accuracy</td><td>0.66927</td></tr><tr><td>validation/loss</td><td>33.07292</td></tr></table><br/></div></div>"
      ],
      "text/plain": [
       "<IPython.core.display.HTML object>"
      ]
     },
     "metadata": {},
     "output_type": "display_data"
    },
    {
     "data": {
      "text/html": [
       " View run <strong style=\"color:#cdcd00\">lr:0.1-b:32-d_c:0.2, d_f:0.4</strong> at: <a href='https://wandb.ai/mldogs-wut/iml_final_tests/runs/u5u34rx9' target=\"_blank\">https://wandb.ai/mldogs-wut/iml_final_tests/runs/u5u34rx9</a><br> View project at: <a href='https://wandb.ai/mldogs-wut/iml_final_tests' target=\"_blank\">https://wandb.ai/mldogs-wut/iml_final_tests</a><br>Synced 5 W&B file(s), 0 media file(s), 0 artifact file(s) and 0 other file(s)"
      ],
      "text/plain": [
       "<IPython.core.display.HTML object>"
      ]
     },
     "metadata": {},
     "output_type": "display_data"
    },
    {
     "data": {
      "text/html": [
       "Find logs at: <code>./wandb/run-20250119_182348-u5u34rx9/logs</code>"
      ],
      "text/plain": [
       "<IPython.core.display.HTML object>"
      ]
     },
     "metadata": {},
     "output_type": "display_data"
    },
    {
     "name": "stdout",
     "output_type": "stream",
     "text": [
      "lr:0.1-b:32-d_c:0.4, d_f:0\n"
     ]
    },
    {
     "data": {
      "text/html": [
       "Tracking run with wandb version 0.19.1"
      ],
      "text/plain": [
       "<IPython.core.display.HTML object>"
      ]
     },
     "metadata": {},
     "output_type": "display_data"
    },
    {
     "data": {
      "text/html": [
       "Run data is saved locally in <code>/home/migoox/dev/ml-dogs-sharepoint/notebook/training/wandb/run-20250119_182413-zfhsflv3</code>"
      ],
      "text/plain": [
       "<IPython.core.display.HTML object>"
      ]
     },
     "metadata": {},
     "output_type": "display_data"
    },
    {
     "data": {
      "text/html": [
       "Syncing run <strong><a href='https://wandb.ai/mldogs-wut/iml_final_tests/runs/zfhsflv3' target=\"_blank\">lr:0.1-b:32-d_c:0.4, d_f:0</a></strong> to <a href='https://wandb.ai/mldogs-wut/iml_final_tests' target=\"_blank\">Weights & Biases</a> (<a href='https://wandb.me/developer-guide' target=\"_blank\">docs</a>)<br>"
      ],
      "text/plain": [
       "<IPython.core.display.HTML object>"
      ]
     },
     "metadata": {},
     "output_type": "display_data"
    },
    {
     "data": {
      "text/html": [
       " View project at <a href='https://wandb.ai/mldogs-wut/iml_final_tests' target=\"_blank\">https://wandb.ai/mldogs-wut/iml_final_tests</a>"
      ],
      "text/plain": [
       "<IPython.core.display.HTML object>"
      ]
     },
     "metadata": {},
     "output_type": "display_data"
    },
    {
     "data": {
      "text/html": [
       " View run at <a href='https://wandb.ai/mldogs-wut/iml_final_tests/runs/zfhsflv3' target=\"_blank\">https://wandb.ai/mldogs-wut/iml_final_tests/runs/zfhsflv3</a>"
      ],
      "text/plain": [
       "<IPython.core.display.HTML object>"
      ]
     },
     "metadata": {},
     "output_type": "display_data"
    },
    {
     "name": "stdout",
     "output_type": "stream",
     "text": [
      "Epoch 1/30, Loss: 1.9019, F1 Score: 0.3996\n",
      "Epoch 2/30, Loss: 2.0710, F1 Score: 0.3996\n",
      "Epoch 3/30, Loss: 1.6629, F1 Score: 0.3996\n",
      "Epoch 4/30, Loss: 2.2638, F1 Score: 0.3996\n",
      "Epoch 5/30, Loss: 2.2744, F1 Score: 0.3996\n",
      "Epoch 6/30, Loss: 2.4501, F1 Score: 0.3996\n",
      "Epoch 7/30, Loss: 1.8504, F1 Score: 0.3996\n",
      "Epoch 8/30, Loss: 2.2625, F1 Score: 0.3996\n",
      "Epoch 9/30, Loss: 1.8359, F1 Score: 0.3996\n",
      "Epoch 10/30, Loss: 2.4118, F1 Score: 0.3996\n",
      "Epoch 11/30, Loss: 2.0895, F1 Score: 0.3996\n",
      "8 epochs without a val accuracy improvement. Stopping the train\n",
      "Training complete.\n"
     ]
    },
    {
     "data": {
      "text/html": [],
      "text/plain": [
       "<IPython.core.display.HTML object>"
      ]
     },
     "metadata": {},
     "output_type": "display_data"
    },
    {
     "data": {
      "text/html": [
       "<br>    <style><br>        .wandb-row {<br>            display: flex;<br>            flex-direction: row;<br>            flex-wrap: wrap;<br>            justify-content: flex-start;<br>            width: 100%;<br>        }<br>        .wandb-col {<br>            display: flex;<br>            flex-direction: column;<br>            flex-basis: 100%;<br>            flex: 1;<br>            padding: 10px;<br>        }<br>    </style><br><div class=\"wandb-row\"><div class=\"wandb-col\"><h3>Run history:</h3><br/><table class=\"wandb\"><tr><td>train/accuracy</td><td>▄▅▅▅▅▃▇▄▅▁▇▄▆▄▅▄▄▅▅▄█▂▆▅▅█▄▆▇▄▂▇▅▄▇▃▆█▁▃</td></tr><tr><td>train/loss</td><td>▂▄▄▄▄▃▂▅▄█▂▂▅▃▅▄▅▄▄▂▇▃▄▄▄▅▃▂▃▅▇▂▄▅▄▃▁█▂▆</td></tr><tr><td>validation/accuracy</td><td>▁▁▁▁▁▁▁▁▁▁▁</td></tr><tr><td>validation/loss</td><td>▁▁▁▁▁▁▁▁▁▁▁</td></tr></table><br/></div><div class=\"wandb-col\"><h3>Run summary:</h3><br/><table class=\"wandb\"><tr><td>train/accuracy</td><td>0.65165</td></tr><tr><td>train/loss</td><td>34.83456</td></tr><tr><td>validation/accuracy</td><td>0.66927</td></tr><tr><td>validation/loss</td><td>33.07292</td></tr></table><br/></div></div>"
      ],
      "text/plain": [
       "<IPython.core.display.HTML object>"
      ]
     },
     "metadata": {},
     "output_type": "display_data"
    },
    {
     "data": {
      "text/html": [
       " View run <strong style=\"color:#cdcd00\">lr:0.1-b:32-d_c:0.4, d_f:0</strong> at: <a href='https://wandb.ai/mldogs-wut/iml_final_tests/runs/zfhsflv3' target=\"_blank\">https://wandb.ai/mldogs-wut/iml_final_tests/runs/zfhsflv3</a><br> View project at: <a href='https://wandb.ai/mldogs-wut/iml_final_tests' target=\"_blank\">https://wandb.ai/mldogs-wut/iml_final_tests</a><br>Synced 5 W&B file(s), 0 media file(s), 0 artifact file(s) and 0 other file(s)"
      ],
      "text/plain": [
       "<IPython.core.display.HTML object>"
      ]
     },
     "metadata": {},
     "output_type": "display_data"
    },
    {
     "data": {
      "text/html": [
       "Find logs at: <code>./wandb/run-20250119_182413-zfhsflv3/logs</code>"
      ],
      "text/plain": [
       "<IPython.core.display.HTML object>"
      ]
     },
     "metadata": {},
     "output_type": "display_data"
    },
    {
     "name": "stdout",
     "output_type": "stream",
     "text": [
      "lr:0.1-b:32-d_c:0.4, d_f:0.2\n"
     ]
    },
    {
     "data": {
      "text/html": [
       "Tracking run with wandb version 0.19.1"
      ],
      "text/plain": [
       "<IPython.core.display.HTML object>"
      ]
     },
     "metadata": {},
     "output_type": "display_data"
    },
    {
     "data": {
      "text/html": [
       "Run data is saved locally in <code>/home/migoox/dev/ml-dogs-sharepoint/notebook/training/wandb/run-20250119_182438-7mkhnvx8</code>"
      ],
      "text/plain": [
       "<IPython.core.display.HTML object>"
      ]
     },
     "metadata": {},
     "output_type": "display_data"
    },
    {
     "data": {
      "text/html": [
       "Syncing run <strong><a href='https://wandb.ai/mldogs-wut/iml_final_tests/runs/7mkhnvx8' target=\"_blank\">lr:0.1-b:32-d_c:0.4, d_f:0.2</a></strong> to <a href='https://wandb.ai/mldogs-wut/iml_final_tests' target=\"_blank\">Weights & Biases</a> (<a href='https://wandb.me/developer-guide' target=\"_blank\">docs</a>)<br>"
      ],
      "text/plain": [
       "<IPython.core.display.HTML object>"
      ]
     },
     "metadata": {},
     "output_type": "display_data"
    },
    {
     "data": {
      "text/html": [
       " View project at <a href='https://wandb.ai/mldogs-wut/iml_final_tests' target=\"_blank\">https://wandb.ai/mldogs-wut/iml_final_tests</a>"
      ],
      "text/plain": [
       "<IPython.core.display.HTML object>"
      ]
     },
     "metadata": {},
     "output_type": "display_data"
    },
    {
     "data": {
      "text/html": [
       " View run at <a href='https://wandb.ai/mldogs-wut/iml_final_tests/runs/7mkhnvx8' target=\"_blank\">https://wandb.ai/mldogs-wut/iml_final_tests/runs/7mkhnvx8</a>"
      ],
      "text/plain": [
       "<IPython.core.display.HTML object>"
      ]
     },
     "metadata": {},
     "output_type": "display_data"
    },
    {
     "name": "stdout",
     "output_type": "stream",
     "text": [
      "Epoch 1/30, Loss: 2.3444, F1 Score: 0.3996\n",
      "Epoch 2/30, Loss: 2.1912, F1 Score: 0.3996\n",
      "Epoch 3/30, Loss: 2.4474, F1 Score: 0.3996\n",
      "Epoch 4/30, Loss: 2.3788, F1 Score: 0.3996\n",
      "Epoch 5/30, Loss: 2.4118, F1 Score: 0.3996\n",
      "Epoch 6/30, Loss: 2.2097, F1 Score: 0.3996\n",
      "Epoch 7/30, Loss: 2.2084, F1 Score: 0.3996\n",
      "Epoch 8/30, Loss: 2.3774, F1 Score: 0.3996\n",
      "Epoch 9/30, Loss: 2.2454, F1 Score: 0.3996\n",
      "Epoch 10/30, Loss: 1.9178, F1 Score: 0.3996\n",
      "Epoch 11/30, Loss: 1.9350, F1 Score: 0.3996\n",
      "8 epochs without a val accuracy improvement. Stopping the train\n",
      "Training complete.\n"
     ]
    },
    {
     "data": {
      "text/html": [],
      "text/plain": [
       "<IPython.core.display.HTML object>"
      ]
     },
     "metadata": {},
     "output_type": "display_data"
    },
    {
     "data": {
      "text/html": [
       "<br>    <style><br>        .wandb-row {<br>            display: flex;<br>            flex-direction: row;<br>            flex-wrap: wrap;<br>            justify-content: flex-start;<br>            width: 100%;<br>        }<br>        .wandb-col {<br>            display: flex;<br>            flex-direction: column;<br>            flex-basis: 100%;<br>            flex: 1;<br>            padding: 10px;<br>        }<br>    </style><br><div class=\"wandb-row\"><div class=\"wandb-col\"><h3>Run history:</h3><br/><table class=\"wandb\"><tr><td>train/accuracy</td><td>▄▅▇▄▆▁█▅▅▆▄▅▄▆▆▆▅▅▆▅▆▄▆▆▆▅▆▆▄▅▆▄▇▄▅▆▅▄▄▆</td></tr><tr><td>train/loss</td><td>▃▄▂▅▃█▁▄▃▂▄▅▃▃▄▄▃▃▃▅▃▃▅▄▄▃▅▄▄▃▅▂▄▅▄▄▅▅▃▄</td></tr><tr><td>validation/accuracy</td><td>▁▁▁▁▁▁▁▁▁▁▁</td></tr><tr><td>validation/loss</td><td>▁▁▁▁▁▁▁▁▁▁▁</td></tr></table><br/></div><div class=\"wandb-col\"><h3>Run summary:</h3><br/><table class=\"wandb\"><tr><td>train/accuracy</td><td>0.66728</td></tr><tr><td>train/loss</td><td>33.27206</td></tr><tr><td>validation/accuracy</td><td>0.66927</td></tr><tr><td>validation/loss</td><td>33.07292</td></tr></table><br/></div></div>"
      ],
      "text/plain": [
       "<IPython.core.display.HTML object>"
      ]
     },
     "metadata": {},
     "output_type": "display_data"
    },
    {
     "data": {
      "text/html": [
       " View run <strong style=\"color:#cdcd00\">lr:0.1-b:32-d_c:0.4, d_f:0.2</strong> at: <a href='https://wandb.ai/mldogs-wut/iml_final_tests/runs/7mkhnvx8' target=\"_blank\">https://wandb.ai/mldogs-wut/iml_final_tests/runs/7mkhnvx8</a><br> View project at: <a href='https://wandb.ai/mldogs-wut/iml_final_tests' target=\"_blank\">https://wandb.ai/mldogs-wut/iml_final_tests</a><br>Synced 5 W&B file(s), 0 media file(s), 0 artifact file(s) and 0 other file(s)"
      ],
      "text/plain": [
       "<IPython.core.display.HTML object>"
      ]
     },
     "metadata": {},
     "output_type": "display_data"
    },
    {
     "data": {
      "text/html": [
       "Find logs at: <code>./wandb/run-20250119_182438-7mkhnvx8/logs</code>"
      ],
      "text/plain": [
       "<IPython.core.display.HTML object>"
      ]
     },
     "metadata": {},
     "output_type": "display_data"
    },
    {
     "name": "stdout",
     "output_type": "stream",
     "text": [
      "lr:0.1-b:32-d_c:0.4, d_f:0.4\n"
     ]
    },
    {
     "data": {
      "text/html": [
       "Tracking run with wandb version 0.19.1"
      ],
      "text/plain": [
       "<IPython.core.display.HTML object>"
      ]
     },
     "metadata": {},
     "output_type": "display_data"
    },
    {
     "data": {
      "text/html": [
       "Run data is saved locally in <code>/home/migoox/dev/ml-dogs-sharepoint/notebook/training/wandb/run-20250119_182504-rx1ntid1</code>"
      ],
      "text/plain": [
       "<IPython.core.display.HTML object>"
      ]
     },
     "metadata": {},
     "output_type": "display_data"
    },
    {
     "data": {
      "text/html": [
       "Syncing run <strong><a href='https://wandb.ai/mldogs-wut/iml_final_tests/runs/rx1ntid1' target=\"_blank\">lr:0.1-b:32-d_c:0.4, d_f:0.4</a></strong> to <a href='https://wandb.ai/mldogs-wut/iml_final_tests' target=\"_blank\">Weights & Biases</a> (<a href='https://wandb.me/developer-guide' target=\"_blank\">docs</a>)<br>"
      ],
      "text/plain": [
       "<IPython.core.display.HTML object>"
      ]
     },
     "metadata": {},
     "output_type": "display_data"
    },
    {
     "data": {
      "text/html": [
       " View project at <a href='https://wandb.ai/mldogs-wut/iml_final_tests' target=\"_blank\">https://wandb.ai/mldogs-wut/iml_final_tests</a>"
      ],
      "text/plain": [
       "<IPython.core.display.HTML object>"
      ]
     },
     "metadata": {},
     "output_type": "display_data"
    },
    {
     "data": {
      "text/html": [
       " View run at <a href='https://wandb.ai/mldogs-wut/iml_final_tests/runs/rx1ntid1' target=\"_blank\">https://wandb.ai/mldogs-wut/iml_final_tests/runs/rx1ntid1</a>"
      ],
      "text/plain": [
       "<IPython.core.display.HTML object>"
      ]
     },
     "metadata": {},
     "output_type": "display_data"
    },
    {
     "name": "stdout",
     "output_type": "stream",
     "text": [
      "Epoch 1/30, Loss: 2.0736, F1 Score: 0.4077\n",
      "Epoch 2/30, Loss: 2.1899, F1 Score: 0.3996\n",
      "Epoch 3/30, Loss: 2.2929, F1 Score: 0.3996\n",
      "Epoch 4/30, Loss: 2.2770, F1 Score: 0.3996\n",
      "Epoch 5/30, Loss: 2.5478, F1 Score: 0.3996\n",
      "Epoch 6/30, Loss: 2.3788, F1 Score: 0.3996\n",
      "Epoch 7/30, Loss: 2.4289, F1 Score: 0.3996\n",
      "Epoch 8/30, Loss: 2.4303, F1 Score: 0.3996\n",
      "Epoch 9/30, Loss: 2.0393, F1 Score: 0.3996\n",
      "Epoch 10/30, Loss: 2.6033, F1 Score: 0.3996\n",
      "Epoch 11/30, Loss: 2.3774, F1 Score: 0.3996\n",
      "8 epochs without a val accuracy improvement. Stopping the train\n",
      "Training complete.\n"
     ]
    },
    {
     "data": {
      "text/html": [],
      "text/plain": [
       "<IPython.core.display.HTML object>"
      ]
     },
     "metadata": {},
     "output_type": "display_data"
    },
    {
     "data": {
      "text/html": [
       "<br>    <style><br>        .wandb-row {<br>            display: flex;<br>            flex-direction: row;<br>            flex-wrap: wrap;<br>            justify-content: flex-start;<br>            width: 100%;<br>        }<br>        .wandb-col {<br>            display: flex;<br>            flex-direction: column;<br>            flex-basis: 100%;<br>            flex: 1;<br>            padding: 10px;<br>        }<br>    </style><br><div class=\"wandb-row\"><div class=\"wandb-col\"><h3>Run history:</h3><br/><table class=\"wandb\"><tr><td>train/accuracy</td><td>▁▆▃▁▃█▅▂▄▃▅▄▃▇▂▃▃▆▅▅▄▆▂▁▆▄▆▄▂▆▄▁▁▄▃▆▆▂▅▃</td></tr><tr><td>train/loss</td><td>▂▂▇▄▆▅█▃▆▄▃▄▅▁▆▆▆▂▄▅▇▅▂▅▄▇▃▂▄▄▇▃▁▇█▄▆▇▄▆</td></tr><tr><td>validation/accuracy</td><td>▁▁▁▁▁▁▁▁▁▁▁</td></tr><tr><td>validation/loss</td><td>▁▁▁▁▁▁▁▁▁▁▁</td></tr></table><br/></div><div class=\"wandb-col\"><h3>Run summary:</h3><br/><table class=\"wandb\"><tr><td>train/accuracy</td><td>0.65533</td></tr><tr><td>train/loss</td><td>34.46691</td></tr><tr><td>validation/accuracy</td><td>0.66927</td></tr><tr><td>validation/loss</td><td>33.07292</td></tr></table><br/></div></div>"
      ],
      "text/plain": [
       "<IPython.core.display.HTML object>"
      ]
     },
     "metadata": {},
     "output_type": "display_data"
    },
    {
     "data": {
      "text/html": [
       " View run <strong style=\"color:#cdcd00\">lr:0.1-b:32-d_c:0.4, d_f:0.4</strong> at: <a href='https://wandb.ai/mldogs-wut/iml_final_tests/runs/rx1ntid1' target=\"_blank\">https://wandb.ai/mldogs-wut/iml_final_tests/runs/rx1ntid1</a><br> View project at: <a href='https://wandb.ai/mldogs-wut/iml_final_tests' target=\"_blank\">https://wandb.ai/mldogs-wut/iml_final_tests</a><br>Synced 5 W&B file(s), 0 media file(s), 0 artifact file(s) and 0 other file(s)"
      ],
      "text/plain": [
       "<IPython.core.display.HTML object>"
      ]
     },
     "metadata": {},
     "output_type": "display_data"
    },
    {
     "data": {
      "text/html": [
       "Find logs at: <code>./wandb/run-20250119_182504-rx1ntid1/logs</code>"
      ],
      "text/plain": [
       "<IPython.core.display.HTML object>"
      ]
     },
     "metadata": {},
     "output_type": "display_data"
    },
    {
     "name": "stdout",
     "output_type": "stream",
     "text": [
      "lr:0.1-b:64-d_c:0, d_f:0\n"
     ]
    },
    {
     "data": {
      "text/html": [
       "Tracking run with wandb version 0.19.1"
      ],
      "text/plain": [
       "<IPython.core.display.HTML object>"
      ]
     },
     "metadata": {},
     "output_type": "display_data"
    },
    {
     "data": {
      "text/html": [
       "Run data is saved locally in <code>/home/migoox/dev/ml-dogs-sharepoint/notebook/training/wandb/run-20250119_182529-zixe6gqi</code>"
      ],
      "text/plain": [
       "<IPython.core.display.HTML object>"
      ]
     },
     "metadata": {},
     "output_type": "display_data"
    },
    {
     "data": {
      "text/html": [
       "Syncing run <strong><a href='https://wandb.ai/mldogs-wut/iml_final_tests/runs/zixe6gqi' target=\"_blank\">lr:0.1-b:64-d_c:0, d_f:0</a></strong> to <a href='https://wandb.ai/mldogs-wut/iml_final_tests' target=\"_blank\">Weights & Biases</a> (<a href='https://wandb.me/developer-guide' target=\"_blank\">docs</a>)<br>"
      ],
      "text/plain": [
       "<IPython.core.display.HTML object>"
      ]
     },
     "metadata": {},
     "output_type": "display_data"
    },
    {
     "data": {
      "text/html": [
       " View project at <a href='https://wandb.ai/mldogs-wut/iml_final_tests' target=\"_blank\">https://wandb.ai/mldogs-wut/iml_final_tests</a>"
      ],
      "text/plain": [
       "<IPython.core.display.HTML object>"
      ]
     },
     "metadata": {},
     "output_type": "display_data"
    },
    {
     "data": {
      "text/html": [
       " View run at <a href='https://wandb.ai/mldogs-wut/iml_final_tests/runs/zixe6gqi' target=\"_blank\">https://wandb.ai/mldogs-wut/iml_final_tests/runs/zixe6gqi</a>"
      ],
      "text/plain": [
       "<IPython.core.display.HTML object>"
      ]
     },
     "metadata": {},
     "output_type": "display_data"
    },
    {
     "name": "stdout",
     "output_type": "stream",
     "text": [
      "Epoch 1/30, Loss: 2.1436, F1 Score: 0.3996\n",
      "Epoch 2/30, Loss: 2.4791, F1 Score: 0.3996\n",
      "Epoch 3/30, Loss: 2.2454, F1 Score: 0.3996\n",
      "Epoch 4/30, Loss: 2.0393, F1 Score: 0.3996\n",
      "Epoch 5/30, Loss: 2.0882, F1 Score: 0.3996\n",
      "Epoch 6/30, Loss: 2.2440, F1 Score: 0.3996\n",
      "Epoch 7/30, Loss: 1.9719, F1 Score: 0.3996\n",
      "Epoch 8/30, Loss: 2.2744, F1 Score: 0.3996\n",
      "Epoch 9/30, Loss: 2.1093, F1 Score: 0.3996\n",
      "Epoch 10/30, Loss: 2.2942, F1 Score: 0.3996\n",
      "Epoch 11/30, Loss: 1.9376, F1 Score: 0.3996\n",
      "8 epochs without a val accuracy improvement. Stopping the train\n",
      "Training complete.\n"
     ]
    },
    {
     "data": {
      "text/html": [],
      "text/plain": [
       "<IPython.core.display.HTML object>"
      ]
     },
     "metadata": {},
     "output_type": "display_data"
    },
    {
     "data": {
      "text/html": [
       "<br>    <style><br>        .wandb-row {<br>            display: flex;<br>            flex-direction: row;<br>            flex-wrap: wrap;<br>            justify-content: flex-start;<br>            width: 100%;<br>        }<br>        .wandb-col {<br>            display: flex;<br>            flex-direction: column;<br>            flex-basis: 100%;<br>            flex: 1;<br>            padding: 10px;<br>        }<br>    </style><br><div class=\"wandb-row\"><div class=\"wandb-col\"><h3>Run history:</h3><br/><table class=\"wandb\"><tr><td>train/accuracy</td><td>▄▆▄▆▂▂▄▄▅▂▃▅▆▄▃▇▅▄▃▄▇▃▆▃▅▆▁▅▃▃▄▅▄▃▅▄█▃▄▆</td></tr><tr><td>train/loss</td><td>▃▃▇▃▇▅▄▇▃▆▅▆▆▂▄▆▅▆▂▆▆▅▃▃█▄▂▅▄▅▄▄█▅▅▁▄▆▅▃</td></tr><tr><td>validation/accuracy</td><td>▁▁▁▁▁▁▁▁▁▁▁</td></tr><tr><td>validation/loss</td><td>▁▁▁▁▁▁▁▁▁▁▁</td></tr></table><br/></div><div class=\"wandb-col\"><h3>Run summary:</h3><br/><table class=\"wandb\"><tr><td>train/accuracy</td><td>0.67831</td></tr><tr><td>train/loss</td><td>32.16912</td></tr><tr><td>validation/accuracy</td><td>0.66927</td></tr><tr><td>validation/loss</td><td>33.07292</td></tr></table><br/></div></div>"
      ],
      "text/plain": [
       "<IPython.core.display.HTML object>"
      ]
     },
     "metadata": {},
     "output_type": "display_data"
    },
    {
     "data": {
      "text/html": [
       " View run <strong style=\"color:#cdcd00\">lr:0.1-b:64-d_c:0, d_f:0</strong> at: <a href='https://wandb.ai/mldogs-wut/iml_final_tests/runs/zixe6gqi' target=\"_blank\">https://wandb.ai/mldogs-wut/iml_final_tests/runs/zixe6gqi</a><br> View project at: <a href='https://wandb.ai/mldogs-wut/iml_final_tests' target=\"_blank\">https://wandb.ai/mldogs-wut/iml_final_tests</a><br>Synced 5 W&B file(s), 0 media file(s), 0 artifact file(s) and 0 other file(s)"
      ],
      "text/plain": [
       "<IPython.core.display.HTML object>"
      ]
     },
     "metadata": {},
     "output_type": "display_data"
    },
    {
     "data": {
      "text/html": [
       "Find logs at: <code>./wandb/run-20250119_182529-zixe6gqi/logs</code>"
      ],
      "text/plain": [
       "<IPython.core.display.HTML object>"
      ]
     },
     "metadata": {},
     "output_type": "display_data"
    },
    {
     "name": "stdout",
     "output_type": "stream",
     "text": [
      "lr:0.1-b:64-d_c:0, d_f:0.2\n"
     ]
    },
    {
     "data": {
      "text/html": [
       "Tracking run with wandb version 0.19.1"
      ],
      "text/plain": [
       "<IPython.core.display.HTML object>"
      ]
     },
     "metadata": {},
     "output_type": "display_data"
    },
    {
     "data": {
      "text/html": [
       "Run data is saved locally in <code>/home/migoox/dev/ml-dogs-sharepoint/notebook/training/wandb/run-20250119_182554-huzqhgo8</code>"
      ],
      "text/plain": [
       "<IPython.core.display.HTML object>"
      ]
     },
     "metadata": {},
     "output_type": "display_data"
    },
    {
     "data": {
      "text/html": [
       "Syncing run <strong><a href='https://wandb.ai/mldogs-wut/iml_final_tests/runs/huzqhgo8' target=\"_blank\">lr:0.1-b:64-d_c:0, d_f:0.2</a></strong> to <a href='https://wandb.ai/mldogs-wut/iml_final_tests' target=\"_blank\">Weights & Biases</a> (<a href='https://wandb.me/developer-guide' target=\"_blank\">docs</a>)<br>"
      ],
      "text/plain": [
       "<IPython.core.display.HTML object>"
      ]
     },
     "metadata": {},
     "output_type": "display_data"
    },
    {
     "data": {
      "text/html": [
       " View project at <a href='https://wandb.ai/mldogs-wut/iml_final_tests' target=\"_blank\">https://wandb.ai/mldogs-wut/iml_final_tests</a>"
      ],
      "text/plain": [
       "<IPython.core.display.HTML object>"
      ]
     },
     "metadata": {},
     "output_type": "display_data"
    },
    {
     "data": {
      "text/html": [
       " View run at <a href='https://wandb.ai/mldogs-wut/iml_final_tests/runs/huzqhgo8' target=\"_blank\">https://wandb.ai/mldogs-wut/iml_final_tests/runs/huzqhgo8</a>"
      ],
      "text/plain": [
       "<IPython.core.display.HTML object>"
      ]
     },
     "metadata": {},
     "output_type": "display_data"
    },
    {
     "name": "stdout",
     "output_type": "stream",
     "text": [
      "Epoch 1/30, Loss: 2.4131, F1 Score: 0.4150\n",
      "Epoch 2/30, Loss: 2.4316, F1 Score: 0.3996\n",
      "Epoch 3/30, Loss: 2.2084, F1 Score: 0.3996\n",
      "Epoch 4/30, Loss: 2.4659, F1 Score: 0.3996\n",
      "Epoch 5/30, Loss: 2.3774, F1 Score: 0.3996\n",
      "Epoch 6/30, Loss: 2.3986, F1 Score: 0.3996\n",
      "Epoch 7/30, Loss: 2.3299, F1 Score: 0.3996\n",
      "Epoch 8/30, Loss: 2.1740, F1 Score: 0.3996\n",
      "Epoch 9/30, Loss: 2.5835, F1 Score: 0.3996\n",
      "Epoch 10/30, Loss: 2.2784, F1 Score: 0.3996\n",
      "Epoch 11/30, Loss: 2.2770, F1 Score: 0.3996\n",
      "8 epochs without a val accuracy improvement. Stopping the train\n",
      "Training complete.\n"
     ]
    },
    {
     "data": {
      "text/html": [],
      "text/plain": [
       "<IPython.core.display.HTML object>"
      ]
     },
     "metadata": {},
     "output_type": "display_data"
    },
    {
     "data": {
      "text/html": [
       "<br>    <style><br>        .wandb-row {<br>            display: flex;<br>            flex-direction: row;<br>            flex-wrap: wrap;<br>            justify-content: flex-start;<br>            width: 100%;<br>        }<br>        .wandb-col {<br>            display: flex;<br>            flex-direction: column;<br>            flex-basis: 100%;<br>            flex: 1;<br>            padding: 10px;<br>        }<br>    </style><br><div class=\"wandb-row\"><div class=\"wandb-col\"><h3>Run history:</h3><br/><table class=\"wandb\"><tr><td>train/accuracy</td><td>▁▆▃▄█▄▂▅▇▄▃▆▅▄▃▅▄▅▃█▆▃▆▂▅▅▃▅▄▄▅▅▅▄▅▃▆▄▃▄</td></tr><tr><td>train/loss</td><td>▅▂▆▅▁▇▁█▅▂▃▃▄▅▆▃▄▅▄▆▃▅▆▃▇▂▆▃▃▆▄▃▄▄▅▆▂▅▆▅</td></tr><tr><td>validation/accuracy</td><td>▁▁▁▁▁▁▁▁▁▁▁</td></tr><tr><td>validation/loss</td><td>▁▁▁▁▁▁▁▁▁▁▁</td></tr></table><br/></div><div class=\"wandb-col\"><h3>Run summary:</h3><br/><table class=\"wandb\"><tr><td>train/accuracy</td><td>0.66636</td></tr><tr><td>train/loss</td><td>33.36397</td></tr><tr><td>validation/accuracy</td><td>0.66927</td></tr><tr><td>validation/loss</td><td>33.07292</td></tr></table><br/></div></div>"
      ],
      "text/plain": [
       "<IPython.core.display.HTML object>"
      ]
     },
     "metadata": {},
     "output_type": "display_data"
    },
    {
     "data": {
      "text/html": [
       " View run <strong style=\"color:#cdcd00\">lr:0.1-b:64-d_c:0, d_f:0.2</strong> at: <a href='https://wandb.ai/mldogs-wut/iml_final_tests/runs/huzqhgo8' target=\"_blank\">https://wandb.ai/mldogs-wut/iml_final_tests/runs/huzqhgo8</a><br> View project at: <a href='https://wandb.ai/mldogs-wut/iml_final_tests' target=\"_blank\">https://wandb.ai/mldogs-wut/iml_final_tests</a><br>Synced 5 W&B file(s), 0 media file(s), 0 artifact file(s) and 0 other file(s)"
      ],
      "text/plain": [
       "<IPython.core.display.HTML object>"
      ]
     },
     "metadata": {},
     "output_type": "display_data"
    },
    {
     "data": {
      "text/html": [
       "Find logs at: <code>./wandb/run-20250119_182554-huzqhgo8/logs</code>"
      ],
      "text/plain": [
       "<IPython.core.display.HTML object>"
      ]
     },
     "metadata": {},
     "output_type": "display_data"
    },
    {
     "name": "stdout",
     "output_type": "stream",
     "text": [
      "lr:0.1-b:64-d_c:0, d_f:0.4\n"
     ]
    },
    {
     "data": {
      "text/html": [
       "Tracking run with wandb version 0.19.1"
      ],
      "text/plain": [
       "<IPython.core.display.HTML object>"
      ]
     },
     "metadata": {},
     "output_type": "display_data"
    },
    {
     "data": {
      "text/html": [
       "Run data is saved locally in <code>/home/migoox/dev/ml-dogs-sharepoint/notebook/training/wandb/run-20250119_182620-qhpclw1m</code>"
      ],
      "text/plain": [
       "<IPython.core.display.HTML object>"
      ]
     },
     "metadata": {},
     "output_type": "display_data"
    },
    {
     "data": {
      "text/html": [
       "Syncing run <strong><a href='https://wandb.ai/mldogs-wut/iml_final_tests/runs/qhpclw1m' target=\"_blank\">lr:0.1-b:64-d_c:0, d_f:0.4</a></strong> to <a href='https://wandb.ai/mldogs-wut/iml_final_tests' target=\"_blank\">Weights & Biases</a> (<a href='https://wandb.me/developer-guide' target=\"_blank\">docs</a>)<br>"
      ],
      "text/plain": [
       "<IPython.core.display.HTML object>"
      ]
     },
     "metadata": {},
     "output_type": "display_data"
    },
    {
     "data": {
      "text/html": [
       " View project at <a href='https://wandb.ai/mldogs-wut/iml_final_tests' target=\"_blank\">https://wandb.ai/mldogs-wut/iml_final_tests</a>"
      ],
      "text/plain": [
       "<IPython.core.display.HTML object>"
      ]
     },
     "metadata": {},
     "output_type": "display_data"
    },
    {
     "data": {
      "text/html": [
       " View run at <a href='https://wandb.ai/mldogs-wut/iml_final_tests/runs/qhpclw1m' target=\"_blank\">https://wandb.ai/mldogs-wut/iml_final_tests/runs/qhpclw1m</a>"
      ],
      "text/plain": [
       "<IPython.core.display.HTML object>"
      ]
     },
     "metadata": {},
     "output_type": "display_data"
    },
    {
     "name": "stdout",
     "output_type": "stream",
     "text": [
      "Epoch 1/30, Loss: 2.4659, F1 Score: 0.3996\n",
      "Epoch 2/30, Loss: 2.2467, F1 Score: 0.3996\n",
      "Epoch 3/30, Loss: 2.4303, F1 Score: 0.3996\n",
      "Epoch 4/30, Loss: 1.8861, F1 Score: 0.3996\n",
      "Epoch 5/30, Loss: 2.6852, F1 Score: 0.3996\n",
      "Epoch 6/30, Loss: 2.1040, F1 Score: 0.3996\n",
      "Epoch 7/30, Loss: 2.3629, F1 Score: 0.3996\n",
      "Epoch 8/30, Loss: 2.2123, F1 Score: 0.3996\n",
      "Epoch 9/30, Loss: 2.1912, F1 Score: 0.3996\n",
      "Epoch 10/30, Loss: 2.2084, F1 Score: 0.3996\n",
      "Epoch 11/30, Loss: 1.9535, F1 Score: 0.3996\n",
      "8 epochs without a val accuracy improvement. Stopping the train\n",
      "Training complete.\n"
     ]
    },
    {
     "data": {
      "text/html": [],
      "text/plain": [
       "<IPython.core.display.HTML object>"
      ]
     },
     "metadata": {},
     "output_type": "display_data"
    },
    {
     "data": {
      "text/html": [
       "<br>    <style><br>        .wandb-row {<br>            display: flex;<br>            flex-direction: row;<br>            flex-wrap: wrap;<br>            justify-content: flex-start;<br>            width: 100%;<br>        }<br>        .wandb-col {<br>            display: flex;<br>            flex-direction: column;<br>            flex-basis: 100%;<br>            flex: 1;<br>            padding: 10px;<br>        }<br>    </style><br><div class=\"wandb-row\"><div class=\"wandb-col\"><h3>Run history:</h3><br/><table class=\"wandb\"><tr><td>train/accuracy</td><td>▃▅▆▄▄▅▆▆▆▅▅▇▃▂▄▄▅▅▆▅▃▃▆▄▃▆▇▃▂█▄▆█▅▄▃▆▅▁▇</td></tr><tr><td>train/loss</td><td>▂▃▃▄▄▅▄▃▃▆▅▄▂▆▇▃▅▄▄▃▆▃▅▅▅▂▆▆▁▆▃▁▄▄█▃▄▄█▂</td></tr><tr><td>validation/accuracy</td><td>▁▁▁▁▁▁▁▁▁▁▁</td></tr><tr><td>validation/loss</td><td>▁▁▁▁▁▁▁▁▁▁▁</td></tr></table><br/></div><div class=\"wandb-col\"><h3>Run summary:</h3><br/><table class=\"wandb\"><tr><td>train/accuracy</td><td>0.68382</td></tr><tr><td>train/loss</td><td>31.61765</td></tr><tr><td>validation/accuracy</td><td>0.66927</td></tr><tr><td>validation/loss</td><td>33.07292</td></tr></table><br/></div></div>"
      ],
      "text/plain": [
       "<IPython.core.display.HTML object>"
      ]
     },
     "metadata": {},
     "output_type": "display_data"
    },
    {
     "data": {
      "text/html": [
       " View run <strong style=\"color:#cdcd00\">lr:0.1-b:64-d_c:0, d_f:0.4</strong> at: <a href='https://wandb.ai/mldogs-wut/iml_final_tests/runs/qhpclw1m' target=\"_blank\">https://wandb.ai/mldogs-wut/iml_final_tests/runs/qhpclw1m</a><br> View project at: <a href='https://wandb.ai/mldogs-wut/iml_final_tests' target=\"_blank\">https://wandb.ai/mldogs-wut/iml_final_tests</a><br>Synced 5 W&B file(s), 0 media file(s), 0 artifact file(s) and 0 other file(s)"
      ],
      "text/plain": [
       "<IPython.core.display.HTML object>"
      ]
     },
     "metadata": {},
     "output_type": "display_data"
    },
    {
     "data": {
      "text/html": [
       "Find logs at: <code>./wandb/run-20250119_182620-qhpclw1m/logs</code>"
      ],
      "text/plain": [
       "<IPython.core.display.HTML object>"
      ]
     },
     "metadata": {},
     "output_type": "display_data"
    },
    {
     "name": "stdout",
     "output_type": "stream",
     "text": [
      "lr:0.1-b:64-d_c:0.2, d_f:0\n"
     ]
    },
    {
     "data": {
      "text/html": [
       "Tracking run with wandb version 0.19.1"
      ],
      "text/plain": [
       "<IPython.core.display.HTML object>"
      ]
     },
     "metadata": {},
     "output_type": "display_data"
    },
    {
     "data": {
      "text/html": [
       "Run data is saved locally in <code>/home/migoox/dev/ml-dogs-sharepoint/notebook/training/wandb/run-20250119_182645-qrvnp8tf</code>"
      ],
      "text/plain": [
       "<IPython.core.display.HTML object>"
      ]
     },
     "metadata": {},
     "output_type": "display_data"
    },
    {
     "data": {
      "text/html": [
       "Syncing run <strong><a href='https://wandb.ai/mldogs-wut/iml_final_tests/runs/qrvnp8tf' target=\"_blank\">lr:0.1-b:64-d_c:0.2, d_f:0</a></strong> to <a href='https://wandb.ai/mldogs-wut/iml_final_tests' target=\"_blank\">Weights & Biases</a> (<a href='https://wandb.me/developer-guide' target=\"_blank\">docs</a>)<br>"
      ],
      "text/plain": [
       "<IPython.core.display.HTML object>"
      ]
     },
     "metadata": {},
     "output_type": "display_data"
    },
    {
     "data": {
      "text/html": [
       " View project at <a href='https://wandb.ai/mldogs-wut/iml_final_tests' target=\"_blank\">https://wandb.ai/mldogs-wut/iml_final_tests</a>"
      ],
      "text/plain": [
       "<IPython.core.display.HTML object>"
      ]
     },
     "metadata": {},
     "output_type": "display_data"
    },
    {
     "data": {
      "text/html": [
       " View run at <a href='https://wandb.ai/mldogs-wut/iml_final_tests/runs/qrvnp8tf' target=\"_blank\">https://wandb.ai/mldogs-wut/iml_final_tests/runs/qrvnp8tf</a>"
      ],
      "text/plain": [
       "<IPython.core.display.HTML object>"
      ]
     },
     "metadata": {},
     "output_type": "display_data"
    },
    {
     "name": "stdout",
     "output_type": "stream",
     "text": [
      "Epoch 1/30, Loss: 2.1410, F1 Score: 0.3996\n",
      "Epoch 2/30, Loss: 2.1040, F1 Score: 0.3996\n",
      "Epoch 3/30, Loss: 2.1252, F1 Score: 0.3996\n",
      "Epoch 4/30, Loss: 2.3972, F1 Score: 0.3996\n",
      "Epoch 5/30, Loss: 2.2084, F1 Score: 0.3996\n",
      "Epoch 6/30, Loss: 1.9878, F1 Score: 0.3996\n",
      "Epoch 7/30, Loss: 2.3444, F1 Score: 0.3996\n",
      "Epoch 8/30, Loss: 2.2269, F1 Score: 0.3996\n",
      "Epoch 9/30, Loss: 2.5993, F1 Score: 0.3996\n",
      "Epoch 10/30, Loss: 2.1952, F1 Score: 0.3996\n",
      "Epoch 11/30, Loss: 2.1582, F1 Score: 0.3996\n",
      "8 epochs without a val accuracy improvement. Stopping the train\n",
      "Training complete.\n"
     ]
    },
    {
     "data": {
      "text/html": [],
      "text/plain": [
       "<IPython.core.display.HTML object>"
      ]
     },
     "metadata": {},
     "output_type": "display_data"
    },
    {
     "data": {
      "text/html": [
       "<br>    <style><br>        .wandb-row {<br>            display: flex;<br>            flex-direction: row;<br>            flex-wrap: wrap;<br>            justify-content: flex-start;<br>            width: 100%;<br>        }<br>        .wandb-col {<br>            display: flex;<br>            flex-direction: column;<br>            flex-basis: 100%;<br>            flex: 1;<br>            padding: 10px;<br>        }<br>    </style><br><div class=\"wandb-row\"><div class=\"wandb-col\"><h3>Run history:</h3><br/><table class=\"wandb\"><tr><td>train/accuracy</td><td>▂▇▆▅▄▄▂▃▅▆▄▅▅▆▅▆▆▅▇▃▅▇▅▆▁▄█▄▃▆▆▅▁▇▃█▃▆▇▃</td></tr><tr><td>train/loss</td><td>▄▂▃▄▅▃▅▆▄▃▁▅▄▄▄▃▃▄▂▆▂▄▃█▄▅▁▅▆▃▃▄▂█▂▁▆▃▂▆</td></tr><tr><td>validation/accuracy</td><td>▁▁▁▁▁▁▁▁▁▁▁</td></tr><tr><td>validation/loss</td><td>▁▁▁▁▁▁▁▁▁▁▁</td></tr></table><br/></div><div class=\"wandb-col\"><h3>Run summary:</h3><br/><table class=\"wandb\"><tr><td>train/accuracy</td><td>0.65533</td></tr><tr><td>train/loss</td><td>34.46691</td></tr><tr><td>validation/accuracy</td><td>0.66927</td></tr><tr><td>validation/loss</td><td>33.07292</td></tr></table><br/></div></div>"
      ],
      "text/plain": [
       "<IPython.core.display.HTML object>"
      ]
     },
     "metadata": {},
     "output_type": "display_data"
    },
    {
     "data": {
      "text/html": [
       " View run <strong style=\"color:#cdcd00\">lr:0.1-b:64-d_c:0.2, d_f:0</strong> at: <a href='https://wandb.ai/mldogs-wut/iml_final_tests/runs/qrvnp8tf' target=\"_blank\">https://wandb.ai/mldogs-wut/iml_final_tests/runs/qrvnp8tf</a><br> View project at: <a href='https://wandb.ai/mldogs-wut/iml_final_tests' target=\"_blank\">https://wandb.ai/mldogs-wut/iml_final_tests</a><br>Synced 5 W&B file(s), 0 media file(s), 0 artifact file(s) and 0 other file(s)"
      ],
      "text/plain": [
       "<IPython.core.display.HTML object>"
      ]
     },
     "metadata": {},
     "output_type": "display_data"
    },
    {
     "data": {
      "text/html": [
       "Find logs at: <code>./wandb/run-20250119_182645-qrvnp8tf/logs</code>"
      ],
      "text/plain": [
       "<IPython.core.display.HTML object>"
      ]
     },
     "metadata": {},
     "output_type": "display_data"
    },
    {
     "name": "stdout",
     "output_type": "stream",
     "text": [
      "lr:0.1-b:64-d_c:0.2, d_f:0.2\n"
     ]
    },
    {
     "data": {
      "text/html": [
       "Tracking run with wandb version 0.19.1"
      ],
      "text/plain": [
       "<IPython.core.display.HTML object>"
      ]
     },
     "metadata": {},
     "output_type": "display_data"
    },
    {
     "data": {
      "text/html": [
       "Run data is saved locally in <code>/home/migoox/dev/ml-dogs-sharepoint/notebook/training/wandb/run-20250119_182710-rowe7ov3</code>"
      ],
      "text/plain": [
       "<IPython.core.display.HTML object>"
      ]
     },
     "metadata": {},
     "output_type": "display_data"
    },
    {
     "data": {
      "text/html": [
       "Syncing run <strong><a href='https://wandb.ai/mldogs-wut/iml_final_tests/runs/rowe7ov3' target=\"_blank\">lr:0.1-b:64-d_c:0.2, d_f:0.2</a></strong> to <a href='https://wandb.ai/mldogs-wut/iml_final_tests' target=\"_blank\">Weights & Biases</a> (<a href='https://wandb.me/developer-guide' target=\"_blank\">docs</a>)<br>"
      ],
      "text/plain": [
       "<IPython.core.display.HTML object>"
      ]
     },
     "metadata": {},
     "output_type": "display_data"
    },
    {
     "data": {
      "text/html": [
       " View project at <a href='https://wandb.ai/mldogs-wut/iml_final_tests' target=\"_blank\">https://wandb.ai/mldogs-wut/iml_final_tests</a>"
      ],
      "text/plain": [
       "<IPython.core.display.HTML object>"
      ]
     },
     "metadata": {},
     "output_type": "display_data"
    },
    {
     "data": {
      "text/html": [
       " View run at <a href='https://wandb.ai/mldogs-wut/iml_final_tests/runs/rowe7ov3' target=\"_blank\">https://wandb.ai/mldogs-wut/iml_final_tests/runs/rowe7ov3</a>"
      ],
      "text/plain": [
       "<IPython.core.display.HTML object>"
      ]
     },
     "metadata": {},
     "output_type": "display_data"
    },
    {
     "name": "stdout",
     "output_type": "stream",
     "text": [
      "Epoch 1/30, Loss: 1.9363, F1 Score: 0.4071\n",
      "Epoch 2/30, Loss: 2.1053, F1 Score: 0.3996\n",
      "Epoch 3/30, Loss: 2.4316, F1 Score: 0.3996\n",
      "Epoch 4/30, Loss: 2.1582, F1 Score: 0.3996\n",
      "Epoch 5/30, Loss: 2.1212, F1 Score: 0.3996\n",
      "Epoch 6/30, Loss: 2.0063, F1 Score: 0.3996\n",
      "Epoch 7/30, Loss: 2.0736, F1 Score: 0.3996\n",
      "Epoch 8/30, Loss: 2.0895, F1 Score: 0.3996\n",
      "Epoch 9/30, Loss: 2.3788, F1 Score: 0.3996\n",
      "Epoch 10/30, Loss: 2.3959, F1 Score: 0.3996\n",
      "Epoch 11/30, Loss: 2.6693, F1 Score: 0.3996\n",
      "8 epochs without a val accuracy improvement. Stopping the train\n",
      "Training complete.\n"
     ]
    },
    {
     "data": {
      "text/html": [],
      "text/plain": [
       "<IPython.core.display.HTML object>"
      ]
     },
     "metadata": {},
     "output_type": "display_data"
    },
    {
     "data": {
      "text/html": [
       "<br>    <style><br>        .wandb-row {<br>            display: flex;<br>            flex-direction: row;<br>            flex-wrap: wrap;<br>            justify-content: flex-start;<br>            width: 100%;<br>        }<br>        .wandb-col {<br>            display: flex;<br>            flex-direction: column;<br>            flex-basis: 100%;<br>            flex: 1;<br>            padding: 10px;<br>        }<br>    </style><br><div class=\"wandb-row\"><div class=\"wandb-col\"><h3>Run history:</h3><br/><table class=\"wandb\"><tr><td>train/accuracy</td><td>▃▃▁▅▅▄▅▆▆▆▁▆▄▄▄▅▅▅▁▆▆▅▄▅▅▅▃▇▃▅▄▄▇▄▅▆▃▂█▇</td></tr><tr><td>train/loss</td><td>▁▆█▃▄▅▅▄▅▃▄█▄▃▅▅▅▅▄▄█▃▄▄▅▅▅▂▄▅▅▂▄▅▄▄▆▇▁▂</td></tr><tr><td>validation/accuracy</td><td>▁▁▁▁▁▁▁▁▁▁▁</td></tr><tr><td>validation/loss</td><td>▁▁▁▁▁▁▁▁▁▁▁</td></tr></table><br/></div><div class=\"wandb-col\"><h3>Run summary:</h3><br/><table class=\"wandb\"><tr><td>train/accuracy</td><td>0.6875</td></tr><tr><td>train/loss</td><td>31.25</td></tr><tr><td>validation/accuracy</td><td>0.66927</td></tr><tr><td>validation/loss</td><td>33.07292</td></tr></table><br/></div></div>"
      ],
      "text/plain": [
       "<IPython.core.display.HTML object>"
      ]
     },
     "metadata": {},
     "output_type": "display_data"
    },
    {
     "data": {
      "text/html": [
       " View run <strong style=\"color:#cdcd00\">lr:0.1-b:64-d_c:0.2, d_f:0.2</strong> at: <a href='https://wandb.ai/mldogs-wut/iml_final_tests/runs/rowe7ov3' target=\"_blank\">https://wandb.ai/mldogs-wut/iml_final_tests/runs/rowe7ov3</a><br> View project at: <a href='https://wandb.ai/mldogs-wut/iml_final_tests' target=\"_blank\">https://wandb.ai/mldogs-wut/iml_final_tests</a><br>Synced 5 W&B file(s), 0 media file(s), 0 artifact file(s) and 0 other file(s)"
      ],
      "text/plain": [
       "<IPython.core.display.HTML object>"
      ]
     },
     "metadata": {},
     "output_type": "display_data"
    },
    {
     "data": {
      "text/html": [
       "Find logs at: <code>./wandb/run-20250119_182710-rowe7ov3/logs</code>"
      ],
      "text/plain": [
       "<IPython.core.display.HTML object>"
      ]
     },
     "metadata": {},
     "output_type": "display_data"
    },
    {
     "name": "stdout",
     "output_type": "stream",
     "text": [
      "lr:0.1-b:64-d_c:0.2, d_f:0.4\n"
     ]
    },
    {
     "data": {
      "text/html": [
       "Tracking run with wandb version 0.19.1"
      ],
      "text/plain": [
       "<IPython.core.display.HTML object>"
      ]
     },
     "metadata": {},
     "output_type": "display_data"
    },
    {
     "data": {
      "text/html": [
       "Run data is saved locally in <code>/home/migoox/dev/ml-dogs-sharepoint/notebook/training/wandb/run-20250119_182735-u211pnce</code>"
      ],
      "text/plain": [
       "<IPython.core.display.HTML object>"
      ]
     },
     "metadata": {},
     "output_type": "display_data"
    },
    {
     "data": {
      "text/html": [
       "Syncing run <strong><a href='https://wandb.ai/mldogs-wut/iml_final_tests/runs/u211pnce' target=\"_blank\">lr:0.1-b:64-d_c:0.2, d_f:0.4</a></strong> to <a href='https://wandb.ai/mldogs-wut/iml_final_tests' target=\"_blank\">Weights & Biases</a> (<a href='https://wandb.me/developer-guide' target=\"_blank\">docs</a>)<br>"
      ],
      "text/plain": [
       "<IPython.core.display.HTML object>"
      ]
     },
     "metadata": {},
     "output_type": "display_data"
    },
    {
     "data": {
      "text/html": [
       " View project at <a href='https://wandb.ai/mldogs-wut/iml_final_tests' target=\"_blank\">https://wandb.ai/mldogs-wut/iml_final_tests</a>"
      ],
      "text/plain": [
       "<IPython.core.display.HTML object>"
      ]
     },
     "metadata": {},
     "output_type": "display_data"
    },
    {
     "data": {
      "text/html": [
       " View run at <a href='https://wandb.ai/mldogs-wut/iml_final_tests/runs/u211pnce' target=\"_blank\">https://wandb.ai/mldogs-wut/iml_final_tests/runs/u211pnce</a>"
      ],
      "text/plain": [
       "<IPython.core.display.HTML object>"
      ]
     },
     "metadata": {},
     "output_type": "display_data"
    },
    {
     "name": "stdout",
     "output_type": "stream",
     "text": [
      "Epoch 1/30, Loss: 2.3114, F1 Score: 0.4101\n",
      "Epoch 2/30, Loss: 2.1925, F1 Score: 0.3996\n",
      "Epoch 3/30, Loss: 2.0750, F1 Score: 0.3996\n",
      "Epoch 4/30, Loss: 2.2084, F1 Score: 0.3996\n",
      "Epoch 5/30, Loss: 2.2110, F1 Score: 0.3996\n",
      "Epoch 6/30, Loss: 2.0565, F1 Score: 0.3996\n",
      "Epoch 7/30, Loss: 2.0921, F1 Score: 0.3996\n",
      "Epoch 8/30, Loss: 2.4316, F1 Score: 0.3996\n",
      "Epoch 9/30, Loss: 2.4289, F1 Score: 0.3996\n",
      "Epoch 10/30, Loss: 2.1595, F1 Score: 0.3996\n",
      "Epoch 11/30, Loss: 2.1225, F1 Score: 0.3996\n",
      "8 epochs without a val accuracy improvement. Stopping the train\n",
      "Training complete.\n"
     ]
    },
    {
     "data": {
      "text/html": [],
      "text/plain": [
       "<IPython.core.display.HTML object>"
      ]
     },
     "metadata": {},
     "output_type": "display_data"
    },
    {
     "data": {
      "text/html": [
       "<br>    <style><br>        .wandb-row {<br>            display: flex;<br>            flex-direction: row;<br>            flex-wrap: wrap;<br>            justify-content: flex-start;<br>            width: 100%;<br>        }<br>        .wandb-col {<br>            display: flex;<br>            flex-direction: column;<br>            flex-basis: 100%;<br>            flex: 1;<br>            padding: 10px;<br>        }<br>    </style><br><div class=\"wandb-row\"><div class=\"wandb-col\"><h3>Run history:</h3><br/><table class=\"wandb\"><tr><td>train/accuracy</td><td>▄▄▃▅▆▅▂▄▆▆▃▄▃▇▅▂▆▇▂▄▅█▆▆▄▁▇▅▄█▇▇▂▅▁▄▇▄▅█</td></tr><tr><td>train/loss</td><td>▁▅▅▄▃▇▄▃▃▅▅▅▅▄▆▄▃▆▇▂▅▅▄▃▃█▂▄▅█▅▆▂▂▄▃▅▂▆▁</td></tr><tr><td>validation/accuracy</td><td>▁▁▁▁▁▁▁▁▁▁▁</td></tr><tr><td>validation/loss</td><td>▁▁▁▁▁▁▁▁▁▁▁</td></tr></table><br/></div><div class=\"wandb-col\"><h3>Run summary:</h3><br/><table class=\"wandb\"><tr><td>train/accuracy</td><td>0.69485</td></tr><tr><td>train/loss</td><td>30.51471</td></tr><tr><td>validation/accuracy</td><td>0.66927</td></tr><tr><td>validation/loss</td><td>33.07292</td></tr></table><br/></div></div>"
      ],
      "text/plain": [
       "<IPython.core.display.HTML object>"
      ]
     },
     "metadata": {},
     "output_type": "display_data"
    },
    {
     "data": {
      "text/html": [
       " View run <strong style=\"color:#cdcd00\">lr:0.1-b:64-d_c:0.2, d_f:0.4</strong> at: <a href='https://wandb.ai/mldogs-wut/iml_final_tests/runs/u211pnce' target=\"_blank\">https://wandb.ai/mldogs-wut/iml_final_tests/runs/u211pnce</a><br> View project at: <a href='https://wandb.ai/mldogs-wut/iml_final_tests' target=\"_blank\">https://wandb.ai/mldogs-wut/iml_final_tests</a><br>Synced 5 W&B file(s), 0 media file(s), 0 artifact file(s) and 0 other file(s)"
      ],
      "text/plain": [
       "<IPython.core.display.HTML object>"
      ]
     },
     "metadata": {},
     "output_type": "display_data"
    },
    {
     "data": {
      "text/html": [
       "Find logs at: <code>./wandb/run-20250119_182735-u211pnce/logs</code>"
      ],
      "text/plain": [
       "<IPython.core.display.HTML object>"
      ]
     },
     "metadata": {},
     "output_type": "display_data"
    },
    {
     "name": "stdout",
     "output_type": "stream",
     "text": [
      "lr:0.1-b:64-d_c:0.4, d_f:0\n"
     ]
    },
    {
     "data": {
      "text/html": [
       "Tracking run with wandb version 0.19.1"
      ],
      "text/plain": [
       "<IPython.core.display.HTML object>"
      ]
     },
     "metadata": {},
     "output_type": "display_data"
    },
    {
     "data": {
      "text/html": [
       "Run data is saved locally in <code>/home/migoox/dev/ml-dogs-sharepoint/notebook/training/wandb/run-20250119_182800-8urebf24</code>"
      ],
      "text/plain": [
       "<IPython.core.display.HTML object>"
      ]
     },
     "metadata": {},
     "output_type": "display_data"
    },
    {
     "data": {
      "text/html": [
       "Syncing run <strong><a href='https://wandb.ai/mldogs-wut/iml_final_tests/runs/8urebf24' target=\"_blank\">lr:0.1-b:64-d_c:0.4, d_f:0</a></strong> to <a href='https://wandb.ai/mldogs-wut/iml_final_tests' target=\"_blank\">Weights & Biases</a> (<a href='https://wandb.me/developer-guide' target=\"_blank\">docs</a>)<br>"
      ],
      "text/plain": [
       "<IPython.core.display.HTML object>"
      ]
     },
     "metadata": {},
     "output_type": "display_data"
    },
    {
     "data": {
      "text/html": [
       " View project at <a href='https://wandb.ai/mldogs-wut/iml_final_tests' target=\"_blank\">https://wandb.ai/mldogs-wut/iml_final_tests</a>"
      ],
      "text/plain": [
       "<IPython.core.display.HTML object>"
      ]
     },
     "metadata": {},
     "output_type": "display_data"
    },
    {
     "data": {
      "text/html": [
       " View run at <a href='https://wandb.ai/mldogs-wut/iml_final_tests/runs/8urebf24' target=\"_blank\">https://wandb.ai/mldogs-wut/iml_final_tests/runs/8urebf24</a>"
      ],
      "text/plain": [
       "<IPython.core.display.HTML object>"
      ]
     },
     "metadata": {},
     "output_type": "display_data"
    },
    {
     "name": "stdout",
     "output_type": "stream",
     "text": [
      "Epoch 1/30, Loss: 4.1275, F1 Score: 0.2568\n",
      "Epoch 2/30, Loss: 4.2305, F1 Score: 0.2506\n",
      "Epoch 3/30, Loss: 4.4379, F1 Score: 0.2506\n",
      "Epoch 4/30, Loss: 4.3335, F1 Score: 0.2506\n",
      "Epoch 5/30, Loss: 4.2979, F1 Score: 0.2506\n",
      "Epoch 6/30, Loss: 4.1143, F1 Score: 0.2506\n",
      "Epoch 7/30, Loss: 4.4854, F1 Score: 0.2506\n",
      "Epoch 8/30, Loss: 4.2648, F1 Score: 0.2506\n",
      "Epoch 9/30, Loss: 3.9267, F1 Score: 0.2506\n",
      "Epoch 10/30, Loss: 4.5541, F1 Score: 0.2506\n",
      "Epoch 11/30, Loss: 4.4352, F1 Score: 0.2506\n",
      "8 epochs without a val accuracy improvement. Stopping the train\n",
      "Training complete.\n"
     ]
    },
    {
     "data": {
      "text/html": [],
      "text/plain": [
       "<IPython.core.display.HTML object>"
      ]
     },
     "metadata": {},
     "output_type": "display_data"
    },
    {
     "data": {
      "text/html": [
       "<br>    <style><br>        .wandb-row {<br>            display: flex;<br>            flex-direction: row;<br>            flex-wrap: wrap;<br>            justify-content: flex-start;<br>            width: 100%;<br>        }<br>        .wandb-col {<br>            display: flex;<br>            flex-direction: column;<br>            flex-basis: 100%;<br>            flex: 1;<br>            padding: 10px;<br>        }<br>    </style><br><div class=\"wandb-row\"><div class=\"wandb-col\"><h3>Run history:</h3><br/><table class=\"wandb\"><tr><td>train/accuracy</td><td>▃▇▃▃▅▆▄▇▁▃█▂▆▅▇▂▂▄█▂▇▃▂▆▄▃▆▁▃▂▅▅▄▄▅▅▃▅▄▆</td></tr><tr><td>train/loss</td><td>▂▃▆▆▅▄▅▃█▆▄▂▇▄▅▄▇▆▁▂▇▂▆▇▃▆▃▃█▆▃▅▅▅▅▂▅▆▅▃</td></tr><tr><td>validation/accuracy</td><td>▁▁▁▁▁▁▁▁▁▁▁</td></tr><tr><td>validation/loss</td><td>▁▁▁▁▁▁▁▁▁▁▁</td></tr></table><br/></div><div class=\"wandb-col\"><h3>Run summary:</h3><br/><table class=\"wandb\"><tr><td>train/accuracy</td><td>0.34651</td></tr><tr><td>train/loss</td><td>65.34926</td></tr><tr><td>validation/accuracy</td><td>0.33073</td></tr><tr><td>validation/loss</td><td>66.92708</td></tr></table><br/></div></div>"
      ],
      "text/plain": [
       "<IPython.core.display.HTML object>"
      ]
     },
     "metadata": {},
     "output_type": "display_data"
    },
    {
     "data": {
      "text/html": [
       " View run <strong style=\"color:#cdcd00\">lr:0.1-b:64-d_c:0.4, d_f:0</strong> at: <a href='https://wandb.ai/mldogs-wut/iml_final_tests/runs/8urebf24' target=\"_blank\">https://wandb.ai/mldogs-wut/iml_final_tests/runs/8urebf24</a><br> View project at: <a href='https://wandb.ai/mldogs-wut/iml_final_tests' target=\"_blank\">https://wandb.ai/mldogs-wut/iml_final_tests</a><br>Synced 5 W&B file(s), 0 media file(s), 0 artifact file(s) and 0 other file(s)"
      ],
      "text/plain": [
       "<IPython.core.display.HTML object>"
      ]
     },
     "metadata": {},
     "output_type": "display_data"
    },
    {
     "data": {
      "text/html": [
       "Find logs at: <code>./wandb/run-20250119_182800-8urebf24/logs</code>"
      ],
      "text/plain": [
       "<IPython.core.display.HTML object>"
      ]
     },
     "metadata": {},
     "output_type": "display_data"
    },
    {
     "name": "stdout",
     "output_type": "stream",
     "text": [
      "lr:0.1-b:64-d_c:0.4, d_f:0.2\n"
     ]
    },
    {
     "data": {
      "text/html": [
       "Tracking run with wandb version 0.19.1"
      ],
      "text/plain": [
       "<IPython.core.display.HTML object>"
      ]
     },
     "metadata": {},
     "output_type": "display_data"
    },
    {
     "data": {
      "text/html": [
       "Run data is saved locally in <code>/home/migoox/dev/ml-dogs-sharepoint/notebook/training/wandb/run-20250119_182826-mjah9ehh</code>"
      ],
      "text/plain": [
       "<IPython.core.display.HTML object>"
      ]
     },
     "metadata": {},
     "output_type": "display_data"
    },
    {
     "data": {
      "text/html": [
       "Syncing run <strong><a href='https://wandb.ai/mldogs-wut/iml_final_tests/runs/mjah9ehh' target=\"_blank\">lr:0.1-b:64-d_c:0.4, d_f:0.2</a></strong> to <a href='https://wandb.ai/mldogs-wut/iml_final_tests' target=\"_blank\">Weights & Biases</a> (<a href='https://wandb.me/developer-guide' target=\"_blank\">docs</a>)<br>"
      ],
      "text/plain": [
       "<IPython.core.display.HTML object>"
      ]
     },
     "metadata": {},
     "output_type": "display_data"
    },
    {
     "data": {
      "text/html": [
       " View project at <a href='https://wandb.ai/mldogs-wut/iml_final_tests' target=\"_blank\">https://wandb.ai/mldogs-wut/iml_final_tests</a>"
      ],
      "text/plain": [
       "<IPython.core.display.HTML object>"
      ]
     },
     "metadata": {},
     "output_type": "display_data"
    },
    {
     "data": {
      "text/html": [
       " View run at <a href='https://wandb.ai/mldogs-wut/iml_final_tests/runs/mjah9ehh' target=\"_blank\">https://wandb.ai/mldogs-wut/iml_final_tests/runs/mjah9ehh</a>"
      ],
      "text/plain": [
       "<IPython.core.display.HTML object>"
      ]
     },
     "metadata": {},
     "output_type": "display_data"
    },
    {
     "name": "stdout",
     "output_type": "stream",
     "text": [
      "Epoch 1/30, Loss: 2.0723, F1 Score: 0.4119\n",
      "Epoch 2/30, Loss: 2.0406, F1 Score: 0.3996\n",
      "Epoch 3/30, Loss: 2.7367, F1 Score: 0.3996\n",
      "Epoch 4/30, Loss: 2.2929, F1 Score: 0.3996\n",
      "Epoch 5/30, Loss: 2.7195, F1 Score: 0.3996\n",
      "Epoch 6/30, Loss: 2.2942, F1 Score: 0.3996\n",
      "Epoch 7/30, Loss: 2.4818, F1 Score: 0.3996\n",
      "Epoch 8/30, Loss: 2.3127, F1 Score: 0.3996\n",
      "Epoch 9/30, Loss: 2.4316, F1 Score: 0.3996\n",
      "Epoch 10/30, Loss: 1.9218, F1 Score: 0.3996\n",
      "Epoch 11/30, Loss: 2.1569, F1 Score: 0.3996\n",
      "8 epochs without a val accuracy improvement. Stopping the train\n",
      "Training complete.\n"
     ]
    },
    {
     "data": {
      "text/html": [],
      "text/plain": [
       "<IPython.core.display.HTML object>"
      ]
     },
     "metadata": {},
     "output_type": "display_data"
    },
    {
     "data": {
      "text/html": [
       "<br>    <style><br>        .wandb-row {<br>            display: flex;<br>            flex-direction: row;<br>            flex-wrap: wrap;<br>            justify-content: flex-start;<br>            width: 100%;<br>        }<br>        .wandb-col {<br>            display: flex;<br>            flex-direction: column;<br>            flex-basis: 100%;<br>            flex: 1;<br>            padding: 10px;<br>        }<br>    </style><br><div class=\"wandb-row\"><div class=\"wandb-col\"><h3>Run history:</h3><br/><table class=\"wandb\"><tr><td>train/accuracy</td><td>▁▇▄▅▅▃█▃▇▂▄▅▇▄▄▇▅▂▄▅█▆▂▆▆▇▄▆▆▃▅▃▆▃▅▇▂▁▂▆</td></tr><tr><td>train/loss</td><td>▃▃▅▄▄▆▁▃▆▂▄▃▅▅▆▂▅▁▇▅▇▁▇▄▃▂▅▃▄▃▃▇▄▃▆▂▇▁█▃</td></tr><tr><td>validation/accuracy</td><td>▁▁▁▁▁▁▁▁▁▁▁</td></tr><tr><td>validation/loss</td><td>▁▁▁▁▁▁▁▁▁▁▁</td></tr></table><br/></div><div class=\"wandb-col\"><h3>Run summary:</h3><br/><table class=\"wandb\"><tr><td>train/accuracy</td><td>0.67279</td></tr><tr><td>train/loss</td><td>32.72059</td></tr><tr><td>validation/accuracy</td><td>0.66927</td></tr><tr><td>validation/loss</td><td>33.07292</td></tr></table><br/></div></div>"
      ],
      "text/plain": [
       "<IPython.core.display.HTML object>"
      ]
     },
     "metadata": {},
     "output_type": "display_data"
    },
    {
     "data": {
      "text/html": [
       " View run <strong style=\"color:#cdcd00\">lr:0.1-b:64-d_c:0.4, d_f:0.2</strong> at: <a href='https://wandb.ai/mldogs-wut/iml_final_tests/runs/mjah9ehh' target=\"_blank\">https://wandb.ai/mldogs-wut/iml_final_tests/runs/mjah9ehh</a><br> View project at: <a href='https://wandb.ai/mldogs-wut/iml_final_tests' target=\"_blank\">https://wandb.ai/mldogs-wut/iml_final_tests</a><br>Synced 5 W&B file(s), 0 media file(s), 0 artifact file(s) and 0 other file(s)"
      ],
      "text/plain": [
       "<IPython.core.display.HTML object>"
      ]
     },
     "metadata": {},
     "output_type": "display_data"
    },
    {
     "data": {
      "text/html": [
       "Find logs at: <code>./wandb/run-20250119_182826-mjah9ehh/logs</code>"
      ],
      "text/plain": [
       "<IPython.core.display.HTML object>"
      ]
     },
     "metadata": {},
     "output_type": "display_data"
    },
    {
     "name": "stdout",
     "output_type": "stream",
     "text": [
      "lr:0.1-b:64-d_c:0.4, d_f:0.4\n"
     ]
    },
    {
     "data": {
      "text/html": [
       "Tracking run with wandb version 0.19.1"
      ],
      "text/plain": [
       "<IPython.core.display.HTML object>"
      ]
     },
     "metadata": {},
     "output_type": "display_data"
    },
    {
     "data": {
      "text/html": [
       "Run data is saved locally in <code>/home/migoox/dev/ml-dogs-sharepoint/notebook/training/wandb/run-20250119_182852-s8g4im5g</code>"
      ],
      "text/plain": [
       "<IPython.core.display.HTML object>"
      ]
     },
     "metadata": {},
     "output_type": "display_data"
    },
    {
     "data": {
      "text/html": [
       "Syncing run <strong><a href='https://wandb.ai/mldogs-wut/iml_final_tests/runs/s8g4im5g' target=\"_blank\">lr:0.1-b:64-d_c:0.4, d_f:0.4</a></strong> to <a href='https://wandb.ai/mldogs-wut/iml_final_tests' target=\"_blank\">Weights & Biases</a> (<a href='https://wandb.me/developer-guide' target=\"_blank\">docs</a>)<br>"
      ],
      "text/plain": [
       "<IPython.core.display.HTML object>"
      ]
     },
     "metadata": {},
     "output_type": "display_data"
    },
    {
     "data": {
      "text/html": [
       " View project at <a href='https://wandb.ai/mldogs-wut/iml_final_tests' target=\"_blank\">https://wandb.ai/mldogs-wut/iml_final_tests</a>"
      ],
      "text/plain": [
       "<IPython.core.display.HTML object>"
      ]
     },
     "metadata": {},
     "output_type": "display_data"
    },
    {
     "data": {
      "text/html": [
       " View run at <a href='https://wandb.ai/mldogs-wut/iml_final_tests/runs/s8g4im5g' target=\"_blank\">https://wandb.ai/mldogs-wut/iml_final_tests/runs/s8g4im5g</a>"
      ],
      "text/plain": [
       "<IPython.core.display.HTML object>"
      ]
     },
     "metadata": {},
     "output_type": "display_data"
    },
    {
     "name": "stdout",
     "output_type": "stream",
     "text": [
      "Epoch 1/30, Loss: 2.2969, F1 Score: 0.3996\n",
      "Epoch 2/30, Loss: 2.2440, F1 Score: 0.3996\n",
      "Epoch 3/30, Loss: 1.8187, F1 Score: 0.3996\n",
      "Epoch 4/30, Loss: 2.3299, F1 Score: 0.3996\n",
      "Epoch 5/30, Loss: 2.1410, F1 Score: 0.3996\n",
      "Epoch 6/30, Loss: 2.1080, F1 Score: 0.3996\n",
      "Epoch 7/30, Loss: 2.4303, F1 Score: 0.3996\n",
      "Epoch 8/30, Loss: 2.2757, F1 Score: 0.3996\n",
      "Epoch 9/30, Loss: 2.4818, F1 Score: 0.3996\n",
      "Epoch 10/30, Loss: 2.0221, F1 Score: 0.3996\n",
      "Epoch 11/30, Loss: 2.1899, F1 Score: 0.3996\n",
      "8 epochs without a val accuracy improvement. Stopping the train\n",
      "Training complete.\n"
     ]
    },
    {
     "data": {
      "text/html": [],
      "text/plain": [
       "<IPython.core.display.HTML object>"
      ]
     },
     "metadata": {},
     "output_type": "display_data"
    },
    {
     "data": {
      "text/html": [
       "<br>    <style><br>        .wandb-row {<br>            display: flex;<br>            flex-direction: row;<br>            flex-wrap: wrap;<br>            justify-content: flex-start;<br>            width: 100%;<br>        }<br>        .wandb-col {<br>            display: flex;<br>            flex-direction: column;<br>            flex-basis: 100%;<br>            flex: 1;<br>            padding: 10px;<br>        }<br>    </style><br><div class=\"wandb-row\"><div class=\"wandb-col\"><h3>Run history:</h3><br/><table class=\"wandb\"><tr><td>train/accuracy</td><td>▄▅▅▆▅▆▅▆▅▄▅█▄▄█▆▄▇▆▁▆▇▅▅▇▄▅▆▅▃▇▇▆▄▅▃▄▅▅▄</td></tr><tr><td>train/loss</td><td>▂▂▂▅▄▃▄▆▂▃▃▅▄▅▃▁▅▅▃▅▃█▃▂▄▄▂▂▅▄▄▆▂▃▅▂▆▄▄▅</td></tr><tr><td>validation/accuracy</td><td>▁▁▁▁▁▁▁▁▁▁▁</td></tr><tr><td>validation/loss</td><td>▁▁▁▁▁▁▁▁▁▁▁</td></tr></table><br/></div><div class=\"wandb-col\"><h3>Run summary:</h3><br/><table class=\"wandb\"><tr><td>train/accuracy</td><td>0.65809</td></tr><tr><td>train/loss</td><td>34.19118</td></tr><tr><td>validation/accuracy</td><td>0.66927</td></tr><tr><td>validation/loss</td><td>33.07292</td></tr></table><br/></div></div>"
      ],
      "text/plain": [
       "<IPython.core.display.HTML object>"
      ]
     },
     "metadata": {},
     "output_type": "display_data"
    },
    {
     "data": {
      "text/html": [
       " View run <strong style=\"color:#cdcd00\">lr:0.1-b:64-d_c:0.4, d_f:0.4</strong> at: <a href='https://wandb.ai/mldogs-wut/iml_final_tests/runs/s8g4im5g' target=\"_blank\">https://wandb.ai/mldogs-wut/iml_final_tests/runs/s8g4im5g</a><br> View project at: <a href='https://wandb.ai/mldogs-wut/iml_final_tests' target=\"_blank\">https://wandb.ai/mldogs-wut/iml_final_tests</a><br>Synced 5 W&B file(s), 0 media file(s), 0 artifact file(s) and 0 other file(s)"
      ],
      "text/plain": [
       "<IPython.core.display.HTML object>"
      ]
     },
     "metadata": {},
     "output_type": "display_data"
    },
    {
     "data": {
      "text/html": [
       "Find logs at: <code>./wandb/run-20250119_182852-s8g4im5g/logs</code>"
      ],
      "text/plain": [
       "<IPython.core.display.HTML object>"
      ]
     },
     "metadata": {},
     "output_type": "display_data"
    },
    {
     "name": "stdout",
     "output_type": "stream",
     "text": [
      "lr:0.1-b:128-d_c:0, d_f:0\n"
     ]
    },
    {
     "data": {
      "text/html": [
       "Tracking run with wandb version 0.19.1"
      ],
      "text/plain": [
       "<IPython.core.display.HTML object>"
      ]
     },
     "metadata": {},
     "output_type": "display_data"
    },
    {
     "data": {
      "text/html": [
       "Run data is saved locally in <code>/home/migoox/dev/ml-dogs-sharepoint/notebook/training/wandb/run-20250119_182918-0cgwvdqh</code>"
      ],
      "text/plain": [
       "<IPython.core.display.HTML object>"
      ]
     },
     "metadata": {},
     "output_type": "display_data"
    },
    {
     "data": {
      "text/html": [
       "Syncing run <strong><a href='https://wandb.ai/mldogs-wut/iml_final_tests/runs/0cgwvdqh' target=\"_blank\">lr:0.1-b:128-d_c:0, d_f:0</a></strong> to <a href='https://wandb.ai/mldogs-wut/iml_final_tests' target=\"_blank\">Weights & Biases</a> (<a href='https://wandb.me/developer-guide' target=\"_blank\">docs</a>)<br>"
      ],
      "text/plain": [
       "<IPython.core.display.HTML object>"
      ]
     },
     "metadata": {},
     "output_type": "display_data"
    },
    {
     "data": {
      "text/html": [
       " View project at <a href='https://wandb.ai/mldogs-wut/iml_final_tests' target=\"_blank\">https://wandb.ai/mldogs-wut/iml_final_tests</a>"
      ],
      "text/plain": [
       "<IPython.core.display.HTML object>"
      ]
     },
     "metadata": {},
     "output_type": "display_data"
    },
    {
     "data": {
      "text/html": [
       " View run at <a href='https://wandb.ai/mldogs-wut/iml_final_tests/runs/0cgwvdqh' target=\"_blank\">https://wandb.ai/mldogs-wut/iml_final_tests/runs/0cgwvdqh</a>"
      ],
      "text/plain": [
       "<IPython.core.display.HTML object>"
      ]
     },
     "metadata": {},
     "output_type": "display_data"
    },
    {
     "name": "stdout",
     "output_type": "stream",
     "text": [
      "Epoch 1/30, Loss: 2.2467, F1 Score: 0.3996\n",
      "Epoch 2/30, Loss: 2.2625, F1 Score: 0.3996\n",
      "Epoch 3/30, Loss: 2.2097, F1 Score: 0.3996\n",
      "Epoch 4/30, Loss: 2.2427, F1 Score: 0.3996\n",
      "Epoch 5/30, Loss: 2.1238, F1 Score: 0.3996\n",
      "Epoch 6/30, Loss: 2.5676, F1 Score: 0.3996\n",
      "Epoch 7/30, Loss: 2.3431, F1 Score: 0.3996\n",
      "Epoch 8/30, Loss: 2.0723, F1 Score: 0.3996\n",
      "Epoch 9/30, Loss: 2.1080, F1 Score: 0.3996\n",
      "Epoch 10/30, Loss: 2.3616, F1 Score: 0.3996\n",
      "Epoch 11/30, Loss: 2.1753, F1 Score: 0.3996\n",
      "8 epochs without a val accuracy improvement. Stopping the train\n",
      "Training complete.\n"
     ]
    },
    {
     "data": {
      "text/html": [],
      "text/plain": [
       "<IPython.core.display.HTML object>"
      ]
     },
     "metadata": {},
     "output_type": "display_data"
    },
    {
     "data": {
      "text/html": [
       "<br>    <style><br>        .wandb-row {<br>            display: flex;<br>            flex-direction: row;<br>            flex-wrap: wrap;<br>            justify-content: flex-start;<br>            width: 100%;<br>        }<br>        .wandb-col {<br>            display: flex;<br>            flex-direction: column;<br>            flex-basis: 100%;<br>            flex: 1;<br>            padding: 10px;<br>        }<br>    </style><br><div class=\"wandb-row\"><div class=\"wandb-col\"><h3>Run history:</h3><br/><table class=\"wandb\"><tr><td>train/accuracy</td><td>▆▃█▃▇▅▅▅▃▇▆▇▆▅▄▄▅▄▇▅▄▄▇█▄▇▆▄▇▅▅▇▃▅▃▄█▇▁▆</td></tr><tr><td>train/loss</td><td>▁▆▂▅▅▂▆▃▇▃▄▄▆▅▅▅▃▅▅▅▂▆▅▃▃▅▅▃▅▅▂▄▆▃▃▅▂▃█▃</td></tr><tr><td>validation/accuracy</td><td>▁▁▁▁▁▁▁▁▁▁▁</td></tr><tr><td>validation/loss</td><td>▁▁▁▁▁▁▁▁▁▁▁</td></tr></table><br/></div><div class=\"wandb-col\"><h3>Run summary:</h3><br/><table class=\"wandb\"><tr><td>train/accuracy</td><td>0.67463</td></tr><tr><td>train/loss</td><td>32.53676</td></tr><tr><td>validation/accuracy</td><td>0.66927</td></tr><tr><td>validation/loss</td><td>33.07292</td></tr></table><br/></div></div>"
      ],
      "text/plain": [
       "<IPython.core.display.HTML object>"
      ]
     },
     "metadata": {},
     "output_type": "display_data"
    },
    {
     "data": {
      "text/html": [
       " View run <strong style=\"color:#cdcd00\">lr:0.1-b:128-d_c:0, d_f:0</strong> at: <a href='https://wandb.ai/mldogs-wut/iml_final_tests/runs/0cgwvdqh' target=\"_blank\">https://wandb.ai/mldogs-wut/iml_final_tests/runs/0cgwvdqh</a><br> View project at: <a href='https://wandb.ai/mldogs-wut/iml_final_tests' target=\"_blank\">https://wandb.ai/mldogs-wut/iml_final_tests</a><br>Synced 5 W&B file(s), 0 media file(s), 0 artifact file(s) and 0 other file(s)"
      ],
      "text/plain": [
       "<IPython.core.display.HTML object>"
      ]
     },
     "metadata": {},
     "output_type": "display_data"
    },
    {
     "data": {
      "text/html": [
       "Find logs at: <code>./wandb/run-20250119_182918-0cgwvdqh/logs</code>"
      ],
      "text/plain": [
       "<IPython.core.display.HTML object>"
      ]
     },
     "metadata": {},
     "output_type": "display_data"
    },
    {
     "name": "stdout",
     "output_type": "stream",
     "text": [
      "lr:0.1-b:128-d_c:0, d_f:0.2\n"
     ]
    },
    {
     "data": {
      "text/html": [
       "Tracking run with wandb version 0.19.1"
      ],
      "text/plain": [
       "<IPython.core.display.HTML object>"
      ]
     },
     "metadata": {},
     "output_type": "display_data"
    },
    {
     "data": {
      "text/html": [
       "Run data is saved locally in <code>/home/migoox/dev/ml-dogs-sharepoint/notebook/training/wandb/run-20250119_182943-3pc630el</code>"
      ],
      "text/plain": [
       "<IPython.core.display.HTML object>"
      ]
     },
     "metadata": {},
     "output_type": "display_data"
    },
    {
     "data": {
      "text/html": [
       "Syncing run <strong><a href='https://wandb.ai/mldogs-wut/iml_final_tests/runs/3pc630el' target=\"_blank\">lr:0.1-b:128-d_c:0, d_f:0.2</a></strong> to <a href='https://wandb.ai/mldogs-wut/iml_final_tests' target=\"_blank\">Weights & Biases</a> (<a href='https://wandb.me/developer-guide' target=\"_blank\">docs</a>)<br>"
      ],
      "text/plain": [
       "<IPython.core.display.HTML object>"
      ]
     },
     "metadata": {},
     "output_type": "display_data"
    },
    {
     "data": {
      "text/html": [
       " View project at <a href='https://wandb.ai/mldogs-wut/iml_final_tests' target=\"_blank\">https://wandb.ai/mldogs-wut/iml_final_tests</a>"
      ],
      "text/plain": [
       "<IPython.core.display.HTML object>"
      ]
     },
     "metadata": {},
     "output_type": "display_data"
    },
    {
     "data": {
      "text/html": [
       " View run at <a href='https://wandb.ai/mldogs-wut/iml_final_tests/runs/3pc630el' target=\"_blank\">https://wandb.ai/mldogs-wut/iml_final_tests/runs/3pc630el</a>"
      ],
      "text/plain": [
       "<IPython.core.display.HTML object>"
      ]
     },
     "metadata": {},
     "output_type": "display_data"
    },
    {
     "name": "stdout",
     "output_type": "stream",
     "text": [
      "Epoch 1/30, Loss: 2.4289, F1 Score: 0.3996\n",
      "Epoch 2/30, Loss: 1.9535, F1 Score: 0.3996\n",
      "Epoch 3/30, Loss: 2.0935, F1 Score: 0.3996\n",
      "Epoch 4/30, Loss: 2.0063, F1 Score: 0.3996\n",
      "Epoch 5/30, Loss: 2.4171, F1 Score: 0.3996\n",
      "Epoch 6/30, Loss: 2.3642, F1 Score: 0.3996\n",
      "Epoch 7/30, Loss: 2.4118, F1 Score: 0.3996\n",
      "Epoch 8/30, Loss: 2.0393, F1 Score: 0.3996\n",
      "Epoch 9/30, Loss: 2.2282, F1 Score: 0.3996\n",
      "Epoch 10/30, Loss: 2.5650, F1 Score: 0.3996\n",
      "Epoch 11/30, Loss: 2.0895, F1 Score: 0.3996\n",
      "8 epochs without a val accuracy improvement. Stopping the train\n",
      "Training complete.\n"
     ]
    },
    {
     "data": {
      "text/html": [],
      "text/plain": [
       "<IPython.core.display.HTML object>"
      ]
     },
     "metadata": {},
     "output_type": "display_data"
    },
    {
     "data": {
      "text/html": [
       "<br>    <style><br>        .wandb-row {<br>            display: flex;<br>            flex-direction: row;<br>            flex-wrap: wrap;<br>            justify-content: flex-start;<br>            width: 100%;<br>        }<br>        .wandb-col {<br>            display: flex;<br>            flex-direction: column;<br>            flex-basis: 100%;<br>            flex: 1;<br>            padding: 10px;<br>        }<br>    </style><br><div class=\"wandb-row\"><div class=\"wandb-col\"><h3>Run history:</h3><br/><table class=\"wandb\"><tr><td>train/accuracy</td><td>▆▆▃▆▂▆▅▅▅▅▄▄█▄█▇▅▆▅▃▆▅▇▂▇▅▃▅▃▅█▃▆▆▅▃▁▆▆▇</td></tr><tr><td>train/loss</td><td>▁▃▃▆▃▄▄▃▄▂▄▄▅▅▅▁▅▆▄▃▆▅▃▄▃▇▂▃▄▆▆▄▁▃▃▄█▃▃▂</td></tr><tr><td>validation/accuracy</td><td>▁▁▁▁▁▁▁▁▁▁▁</td></tr><tr><td>validation/loss</td><td>▁▁▁▁▁▁▁▁▁▁▁</td></tr></table><br/></div><div class=\"wandb-col\"><h3>Run summary:</h3><br/><table class=\"wandb\"><tr><td>train/accuracy</td><td>0.68107</td></tr><tr><td>train/loss</td><td>31.89338</td></tr><tr><td>validation/accuracy</td><td>0.66927</td></tr><tr><td>validation/loss</td><td>33.07292</td></tr></table><br/></div></div>"
      ],
      "text/plain": [
       "<IPython.core.display.HTML object>"
      ]
     },
     "metadata": {},
     "output_type": "display_data"
    },
    {
     "data": {
      "text/html": [
       " View run <strong style=\"color:#cdcd00\">lr:0.1-b:128-d_c:0, d_f:0.2</strong> at: <a href='https://wandb.ai/mldogs-wut/iml_final_tests/runs/3pc630el' target=\"_blank\">https://wandb.ai/mldogs-wut/iml_final_tests/runs/3pc630el</a><br> View project at: <a href='https://wandb.ai/mldogs-wut/iml_final_tests' target=\"_blank\">https://wandb.ai/mldogs-wut/iml_final_tests</a><br>Synced 5 W&B file(s), 0 media file(s), 0 artifact file(s) and 0 other file(s)"
      ],
      "text/plain": [
       "<IPython.core.display.HTML object>"
      ]
     },
     "metadata": {},
     "output_type": "display_data"
    },
    {
     "data": {
      "text/html": [
       "Find logs at: <code>./wandb/run-20250119_182943-3pc630el/logs</code>"
      ],
      "text/plain": [
       "<IPython.core.display.HTML object>"
      ]
     },
     "metadata": {},
     "output_type": "display_data"
    },
    {
     "name": "stdout",
     "output_type": "stream",
     "text": [
      "lr:0.1-b:128-d_c:0, d_f:0.4\n"
     ]
    },
    {
     "data": {
      "text/html": [
       "Tracking run with wandb version 0.19.1"
      ],
      "text/plain": [
       "<IPython.core.display.HTML object>"
      ]
     },
     "metadata": {},
     "output_type": "display_data"
    },
    {
     "data": {
      "text/html": [
       "Run data is saved locally in <code>/home/migoox/dev/ml-dogs-sharepoint/notebook/training/wandb/run-20250119_183013-2duie92h</code>"
      ],
      "text/plain": [
       "<IPython.core.display.HTML object>"
      ]
     },
     "metadata": {},
     "output_type": "display_data"
    },
    {
     "data": {
      "text/html": [
       "Syncing run <strong><a href='https://wandb.ai/mldogs-wut/iml_final_tests/runs/2duie92h' target=\"_blank\">lr:0.1-b:128-d_c:0, d_f:0.4</a></strong> to <a href='https://wandb.ai/mldogs-wut/iml_final_tests' target=\"_blank\">Weights & Biases</a> (<a href='https://wandb.me/developer-guide' target=\"_blank\">docs</a>)<br>"
      ],
      "text/plain": [
       "<IPython.core.display.HTML object>"
      ]
     },
     "metadata": {},
     "output_type": "display_data"
    },
    {
     "data": {
      "text/html": [
       " View project at <a href='https://wandb.ai/mldogs-wut/iml_final_tests' target=\"_blank\">https://wandb.ai/mldogs-wut/iml_final_tests</a>"
      ],
      "text/plain": [
       "<IPython.core.display.HTML object>"
      ]
     },
     "metadata": {},
     "output_type": "display_data"
    },
    {
     "data": {
      "text/html": [
       " View run at <a href='https://wandb.ai/mldogs-wut/iml_final_tests/runs/2duie92h' target=\"_blank\">https://wandb.ai/mldogs-wut/iml_final_tests/runs/2duie92h</a>"
      ],
      "text/plain": [
       "<IPython.core.display.HTML object>"
      ]
     },
     "metadata": {},
     "output_type": "display_data"
    },
    {
     "name": "stdout",
     "output_type": "stream",
     "text": [
      "Epoch 1/30, Loss: 2.1582, F1 Score: 0.4107\n",
      "Epoch 2/30, Loss: 2.1410, F1 Score: 0.3996\n",
      "Epoch 3/30, Loss: 2.3801, F1 Score: 0.3996\n",
      "Epoch 4/30, Loss: 1.9389, F1 Score: 0.3996\n",
      "Epoch 5/30, Loss: 2.1555, F1 Score: 0.3996\n",
      "Epoch 6/30, Loss: 2.5188, F1 Score: 0.3996\n",
      "Epoch 7/30, Loss: 2.1952, F1 Score: 0.3996\n",
      "Epoch 8/30, Loss: 2.1793, F1 Score: 0.3996\n",
      "Epoch 9/30, Loss: 2.3101, F1 Score: 0.3996\n",
      "Epoch 10/30, Loss: 2.2427, F1 Score: 0.3996\n",
      "Epoch 11/30, Loss: 2.2454, F1 Score: 0.3996\n",
      "8 epochs without a val accuracy improvement. Stopping the train\n",
      "Training complete.\n"
     ]
    },
    {
     "data": {
      "text/html": [],
      "text/plain": [
       "<IPython.core.display.HTML object>"
      ]
     },
     "metadata": {},
     "output_type": "display_data"
    },
    {
     "data": {
      "text/html": [
       "<br>    <style><br>        .wandb-row {<br>            display: flex;<br>            flex-direction: row;<br>            flex-wrap: wrap;<br>            justify-content: flex-start;<br>            width: 100%;<br>        }<br>        .wandb-col {<br>            display: flex;<br>            flex-direction: column;<br>            flex-basis: 100%;<br>            flex: 1;<br>            padding: 10px;<br>        }<br>    </style><br><div class=\"wandb-row\"><div class=\"wandb-col\"><h3>Run history:</h3><br/><table class=\"wandb\"><tr><td>train/accuracy</td><td>▃▅▄▅▂▅▄▄▂▂▆▆▃▅▂▃▅▆▂▄▅▅▅▄▅▃█▅▂▅▃▆▂▅▁▅▇▄▄▄</td></tr><tr><td>train/loss</td><td>▁▄▅▇▅▅▅▇▇▃▃▄▆▄▇▃▆▄▅▄▇▅▄▃▇▅▇▄▃▇▇▅▇█▃▂▃▅▅▅</td></tr><tr><td>validation/accuracy</td><td>▁▁▁▁▁▁▁▁▁▁▁</td></tr><tr><td>validation/loss</td><td>▁▁▁▁▁▁▁▁▁▁▁</td></tr></table><br/></div><div class=\"wandb-col\"><h3>Run summary:</h3><br/><table class=\"wandb\"><tr><td>train/accuracy</td><td>0.66176</td></tr><tr><td>train/loss</td><td>33.82353</td></tr><tr><td>validation/accuracy</td><td>0.66927</td></tr><tr><td>validation/loss</td><td>33.07292</td></tr></table><br/></div></div>"
      ],
      "text/plain": [
       "<IPython.core.display.HTML object>"
      ]
     },
     "metadata": {},
     "output_type": "display_data"
    },
    {
     "data": {
      "text/html": [
       " View run <strong style=\"color:#cdcd00\">lr:0.1-b:128-d_c:0, d_f:0.4</strong> at: <a href='https://wandb.ai/mldogs-wut/iml_final_tests/runs/2duie92h' target=\"_blank\">https://wandb.ai/mldogs-wut/iml_final_tests/runs/2duie92h</a><br> View project at: <a href='https://wandb.ai/mldogs-wut/iml_final_tests' target=\"_blank\">https://wandb.ai/mldogs-wut/iml_final_tests</a><br>Synced 5 W&B file(s), 0 media file(s), 0 artifact file(s) and 0 other file(s)"
      ],
      "text/plain": [
       "<IPython.core.display.HTML object>"
      ]
     },
     "metadata": {},
     "output_type": "display_data"
    },
    {
     "data": {
      "text/html": [
       "Find logs at: <code>./wandb/run-20250119_183013-2duie92h/logs</code>"
      ],
      "text/plain": [
       "<IPython.core.display.HTML object>"
      ]
     },
     "metadata": {},
     "output_type": "display_data"
    },
    {
     "name": "stdout",
     "output_type": "stream",
     "text": [
      "lr:0.1-b:128-d_c:0.2, d_f:0\n"
     ]
    },
    {
     "data": {
      "text/html": [
       "Tracking run with wandb version 0.19.1"
      ],
      "text/plain": [
       "<IPython.core.display.HTML object>"
      ]
     },
     "metadata": {},
     "output_type": "display_data"
    },
    {
     "data": {
      "text/html": [
       "Run data is saved locally in <code>/home/migoox/dev/ml-dogs-sharepoint/notebook/training/wandb/run-20250119_183039-qvrqij5c</code>"
      ],
      "text/plain": [
       "<IPython.core.display.HTML object>"
      ]
     },
     "metadata": {},
     "output_type": "display_data"
    },
    {
     "data": {
      "text/html": [
       "Syncing run <strong><a href='https://wandb.ai/mldogs-wut/iml_final_tests/runs/qvrqij5c' target=\"_blank\">lr:0.1-b:128-d_c:0.2, d_f:0</a></strong> to <a href='https://wandb.ai/mldogs-wut/iml_final_tests' target=\"_blank\">Weights & Biases</a> (<a href='https://wandb.me/developer-guide' target=\"_blank\">docs</a>)<br>"
      ],
      "text/plain": [
       "<IPython.core.display.HTML object>"
      ]
     },
     "metadata": {},
     "output_type": "display_data"
    },
    {
     "data": {
      "text/html": [
       " View project at <a href='https://wandb.ai/mldogs-wut/iml_final_tests' target=\"_blank\">https://wandb.ai/mldogs-wut/iml_final_tests</a>"
      ],
      "text/plain": [
       "<IPython.core.display.HTML object>"
      ]
     },
     "metadata": {},
     "output_type": "display_data"
    },
    {
     "data": {
      "text/html": [
       " View run at <a href='https://wandb.ai/mldogs-wut/iml_final_tests/runs/qvrqij5c' target=\"_blank\">https://wandb.ai/mldogs-wut/iml_final_tests/runs/qvrqij5c</a>"
      ],
      "text/plain": [
       "<IPython.core.display.HTML object>"
      ]
     },
     "metadata": {},
     "output_type": "display_data"
    },
    {
     "name": "stdout",
     "output_type": "stream",
     "text": [
      "Epoch 1/30, Loss: 2.1886, F1 Score: 0.4065\n",
      "Epoch 2/30, Loss: 2.0208, F1 Score: 0.3996\n",
      "Epoch 3/30, Loss: 2.5174, F1 Score: 0.3996\n",
      "Epoch 4/30, Loss: 1.9191, F1 Score: 0.3996\n",
      "Epoch 5/30, Loss: 2.3959, F1 Score: 0.3996\n",
      "Epoch 6/30, Loss: 1.8689, F1 Score: 0.3996\n",
      "Epoch 7/30, Loss: 2.0208, F1 Score: 0.3996\n",
      "Epoch 8/30, Loss: 2.2929, F1 Score: 0.3996\n",
      "Epoch 9/30, Loss: 2.6350, F1 Score: 0.3996\n",
      "Epoch 10/30, Loss: 2.4514, F1 Score: 0.3996\n",
      "Epoch 11/30, Loss: 2.0195, F1 Score: 0.3996\n",
      "8 epochs without a val accuracy improvement. Stopping the train\n",
      "Training complete.\n"
     ]
    },
    {
     "data": {
      "text/html": [],
      "text/plain": [
       "<IPython.core.display.HTML object>"
      ]
     },
     "metadata": {},
     "output_type": "display_data"
    },
    {
     "data": {
      "text/html": [
       "<br>    <style><br>        .wandb-row {<br>            display: flex;<br>            flex-direction: row;<br>            flex-wrap: wrap;<br>            justify-content: flex-start;<br>            width: 100%;<br>        }<br>        .wandb-col {<br>            display: flex;<br>            flex-direction: column;<br>            flex-basis: 100%;<br>            flex: 1;<br>            padding: 10px;<br>        }<br>    </style><br><div class=\"wandb-row\"><div class=\"wandb-col\"><h3>Run history:</h3><br/><table class=\"wandb\"><tr><td>train/accuracy</td><td>▁▅▄▆▄▇▄▅▅▃▄▅▂▇▅▆▂▃█▄▂▆▄▃▅▄▄▄▆▄▆▄▅▃▄▅▃▅▂▅</td></tr><tr><td>train/loss</td><td>▅▄▆▇▂▆▄▄▆▄▆▅█▂▄▄▃▇▆▁▅▇▃▅▆▆▅▆▅▃▄▆▄▇▆▄▃▄▇▄</td></tr><tr><td>validation/accuracy</td><td>▁▁▁▁▁▁▁▁▁▁▁</td></tr><tr><td>validation/loss</td><td>▁▁▁▁▁▁▁▁▁▁▁</td></tr></table><br/></div><div class=\"wandb-col\"><h3>Run summary:</h3><br/><table class=\"wandb\"><tr><td>train/accuracy</td><td>0.67463</td></tr><tr><td>train/loss</td><td>32.53676</td></tr><tr><td>validation/accuracy</td><td>0.66927</td></tr><tr><td>validation/loss</td><td>33.07292</td></tr></table><br/></div></div>"
      ],
      "text/plain": [
       "<IPython.core.display.HTML object>"
      ]
     },
     "metadata": {},
     "output_type": "display_data"
    },
    {
     "data": {
      "text/html": [
       " View run <strong style=\"color:#cdcd00\">lr:0.1-b:128-d_c:0.2, d_f:0</strong> at: <a href='https://wandb.ai/mldogs-wut/iml_final_tests/runs/qvrqij5c' target=\"_blank\">https://wandb.ai/mldogs-wut/iml_final_tests/runs/qvrqij5c</a><br> View project at: <a href='https://wandb.ai/mldogs-wut/iml_final_tests' target=\"_blank\">https://wandb.ai/mldogs-wut/iml_final_tests</a><br>Synced 5 W&B file(s), 0 media file(s), 0 artifact file(s) and 0 other file(s)"
      ],
      "text/plain": [
       "<IPython.core.display.HTML object>"
      ]
     },
     "metadata": {},
     "output_type": "display_data"
    },
    {
     "data": {
      "text/html": [
       "Find logs at: <code>./wandb/run-20250119_183039-qvrqij5c/logs</code>"
      ],
      "text/plain": [
       "<IPython.core.display.HTML object>"
      ]
     },
     "metadata": {},
     "output_type": "display_data"
    },
    {
     "name": "stdout",
     "output_type": "stream",
     "text": [
      "lr:0.1-b:128-d_c:0.2, d_f:0.2\n"
     ]
    },
    {
     "data": {
      "text/html": [
       "Tracking run with wandb version 0.19.1"
      ],
      "text/plain": [
       "<IPython.core.display.HTML object>"
      ]
     },
     "metadata": {},
     "output_type": "display_data"
    },
    {
     "data": {
      "text/html": [
       "Run data is saved locally in <code>/home/migoox/dev/ml-dogs-sharepoint/notebook/training/wandb/run-20250119_183105-3bbr7qns</code>"
      ],
      "text/plain": [
       "<IPython.core.display.HTML object>"
      ]
     },
     "metadata": {},
     "output_type": "display_data"
    },
    {
     "data": {
      "text/html": [
       "Syncing run <strong><a href='https://wandb.ai/mldogs-wut/iml_final_tests/runs/3bbr7qns' target=\"_blank\">lr:0.1-b:128-d_c:0.2, d_f:0.2</a></strong> to <a href='https://wandb.ai/mldogs-wut/iml_final_tests' target=\"_blank\">Weights & Biases</a> (<a href='https://wandb.me/developer-guide' target=\"_blank\">docs</a>)<br>"
      ],
      "text/plain": [
       "<IPython.core.display.HTML object>"
      ]
     },
     "metadata": {},
     "output_type": "display_data"
    },
    {
     "data": {
      "text/html": [
       " View project at <a href='https://wandb.ai/mldogs-wut/iml_final_tests' target=\"_blank\">https://wandb.ai/mldogs-wut/iml_final_tests</a>"
      ],
      "text/plain": [
       "<IPython.core.display.HTML object>"
      ]
     },
     "metadata": {},
     "output_type": "display_data"
    },
    {
     "data": {
      "text/html": [
       " View run at <a href='https://wandb.ai/mldogs-wut/iml_final_tests/runs/3bbr7qns' target=\"_blank\">https://wandb.ai/mldogs-wut/iml_final_tests/runs/3bbr7qns</a>"
      ],
      "text/plain": [
       "<IPython.core.display.HTML object>"
      ]
     },
     "metadata": {},
     "output_type": "display_data"
    },
    {
     "name": "stdout",
     "output_type": "stream",
     "text": [
      "Epoch 1/30, Loss: 2.6178, F1 Score: 0.4113\n",
      "Epoch 2/30, Loss: 2.3444, F1 Score: 0.3996\n",
      "Epoch 3/30, Loss: 2.1569, F1 Score: 0.3996\n",
      "Epoch 4/30, Loss: 2.3299, F1 Score: 0.3996\n",
      "Epoch 5/30, Loss: 2.1925, F1 Score: 0.3996\n",
      "Epoch 6/30, Loss: 2.4144, F1 Score: 0.3996\n",
      "Epoch 7/30, Loss: 2.3642, F1 Score: 0.3996\n",
      "Epoch 8/30, Loss: 2.6020, F1 Score: 0.3996\n",
      "Epoch 9/30, Loss: 2.3788, F1 Score: 0.3996\n",
      "Epoch 10/30, Loss: 2.0565, F1 Score: 0.3996\n",
      "Epoch 11/30, Loss: 2.2797, F1 Score: 0.3996\n",
      "8 epochs without a val accuracy improvement. Stopping the train\n",
      "Training complete.\n"
     ]
    },
    {
     "data": {
      "text/html": [],
      "text/plain": [
       "<IPython.core.display.HTML object>"
      ]
     },
     "metadata": {},
     "output_type": "display_data"
    },
    {
     "data": {
      "text/html": [
       "<br>    <style><br>        .wandb-row {<br>            display: flex;<br>            flex-direction: row;<br>            flex-wrap: wrap;<br>            justify-content: flex-start;<br>            width: 100%;<br>        }<br>        .wandb-col {<br>            display: flex;<br>            flex-direction: column;<br>            flex-basis: 100%;<br>            flex: 1;<br>            padding: 10px;<br>        }<br>    </style><br><div class=\"wandb-row\"><div class=\"wandb-col\"><h3>Run history:</h3><br/><table class=\"wandb\"><tr><td>train/accuracy</td><td>▃▄▆▇▄▆▅▆▅▁▅▃▅█▃▅▅▆▅▅▅▅▄▄▆▅▅▆▅▅▃▅▅▇▁▆▅▃▆▆</td></tr><tr><td>train/loss</td><td>▂▇▅▃▂▄▃▆▄▄▄█▄▄▆▁▆▄▃▄▄▅▄▅▃▄▄▃▄▃▅▆▄▄▂▅▄▆▃▃</td></tr><tr><td>validation/accuracy</td><td>▁▁▁▁▁▁▁▁▁▁▁</td></tr><tr><td>validation/loss</td><td>▁▁▁▁▁▁▁▁▁▁▁</td></tr></table><br/></div><div class=\"wandb-col\"><h3>Run summary:</h3><br/><table class=\"wandb\"><tr><td>train/accuracy</td><td>0.67923</td></tr><tr><td>train/loss</td><td>32.07721</td></tr><tr><td>validation/accuracy</td><td>0.66927</td></tr><tr><td>validation/loss</td><td>33.07292</td></tr></table><br/></div></div>"
      ],
      "text/plain": [
       "<IPython.core.display.HTML object>"
      ]
     },
     "metadata": {},
     "output_type": "display_data"
    },
    {
     "data": {
      "text/html": [
       " View run <strong style=\"color:#cdcd00\">lr:0.1-b:128-d_c:0.2, d_f:0.2</strong> at: <a href='https://wandb.ai/mldogs-wut/iml_final_tests/runs/3bbr7qns' target=\"_blank\">https://wandb.ai/mldogs-wut/iml_final_tests/runs/3bbr7qns</a><br> View project at: <a href='https://wandb.ai/mldogs-wut/iml_final_tests' target=\"_blank\">https://wandb.ai/mldogs-wut/iml_final_tests</a><br>Synced 5 W&B file(s), 0 media file(s), 0 artifact file(s) and 0 other file(s)"
      ],
      "text/plain": [
       "<IPython.core.display.HTML object>"
      ]
     },
     "metadata": {},
     "output_type": "display_data"
    },
    {
     "data": {
      "text/html": [
       "Find logs at: <code>./wandb/run-20250119_183105-3bbr7qns/logs</code>"
      ],
      "text/plain": [
       "<IPython.core.display.HTML object>"
      ]
     },
     "metadata": {},
     "output_type": "display_data"
    },
    {
     "name": "stdout",
     "output_type": "stream",
     "text": [
      "lr:0.1-b:128-d_c:0.2, d_f:0.4\n"
     ]
    },
    {
     "data": {
      "text/html": [
       "Tracking run with wandb version 0.19.1"
      ],
      "text/plain": [
       "<IPython.core.display.HTML object>"
      ]
     },
     "metadata": {},
     "output_type": "display_data"
    },
    {
     "data": {
      "text/html": [
       "Run data is saved locally in <code>/home/migoox/dev/ml-dogs-sharepoint/notebook/training/wandb/run-20250119_183132-0fh2zyb8</code>"
      ],
      "text/plain": [
       "<IPython.core.display.HTML object>"
      ]
     },
     "metadata": {},
     "output_type": "display_data"
    },
    {
     "data": {
      "text/html": [
       "Syncing run <strong><a href='https://wandb.ai/mldogs-wut/iml_final_tests/runs/0fh2zyb8' target=\"_blank\">lr:0.1-b:128-d_c:0.2, d_f:0.4</a></strong> to <a href='https://wandb.ai/mldogs-wut/iml_final_tests' target=\"_blank\">Weights & Biases</a> (<a href='https://wandb.me/developer-guide' target=\"_blank\">docs</a>)<br>"
      ],
      "text/plain": [
       "<IPython.core.display.HTML object>"
      ]
     },
     "metadata": {},
     "output_type": "display_data"
    },
    {
     "data": {
      "text/html": [
       " View project at <a href='https://wandb.ai/mldogs-wut/iml_final_tests' target=\"_blank\">https://wandb.ai/mldogs-wut/iml_final_tests</a>"
      ],
      "text/plain": [
       "<IPython.core.display.HTML object>"
      ]
     },
     "metadata": {},
     "output_type": "display_data"
    },
    {
     "data": {
      "text/html": [
       " View run at <a href='https://wandb.ai/mldogs-wut/iml_final_tests/runs/0fh2zyb8' target=\"_blank\">https://wandb.ai/mldogs-wut/iml_final_tests/runs/0fh2zyb8</a>"
      ],
      "text/plain": [
       "<IPython.core.display.HTML object>"
      ]
     },
     "metadata": {},
     "output_type": "display_data"
    },
    {
     "name": "stdout",
     "output_type": "stream",
     "text": [
      "Epoch 1/30, Loss: 2.4461, F1 Score: 0.3995\n",
      "Epoch 2/30, Loss: 2.1238, F1 Score: 0.3996\n",
      "Epoch 3/30, Loss: 2.2612, F1 Score: 0.3996\n",
      "Epoch 4/30, Loss: 2.3629, F1 Score: 0.3996\n",
      "Epoch 5/30, Loss: 2.5491, F1 Score: 0.3996\n",
      "Epoch 6/30, Loss: 2.4474, F1 Score: 0.3996\n",
      "Epoch 7/30, Loss: 2.3946, F1 Score: 0.3996\n",
      "Epoch 8/30, Loss: 2.1410, F1 Score: 0.3996\n",
      "Epoch 9/30, Loss: 2.0565, F1 Score: 0.3996\n",
      "Epoch 10/30, Loss: 1.8861, F1 Score: 0.3996\n",
      "Epoch 11/30, Loss: 2.0380, F1 Score: 0.3996\n",
      "8 epochs without a val accuracy improvement. Stopping the train\n",
      "Training complete.\n"
     ]
    },
    {
     "data": {
      "text/html": [],
      "text/plain": [
       "<IPython.core.display.HTML object>"
      ]
     },
     "metadata": {},
     "output_type": "display_data"
    },
    {
     "data": {
      "text/html": [
       "<br>    <style><br>        .wandb-row {<br>            display: flex;<br>            flex-direction: row;<br>            flex-wrap: wrap;<br>            justify-content: flex-start;<br>            width: 100%;<br>        }<br>        .wandb-col {<br>            display: flex;<br>            flex-direction: column;<br>            flex-basis: 100%;<br>            flex: 1;<br>            padding: 10px;<br>        }<br>    </style><br><div class=\"wandb-row\"><div class=\"wandb-col\"><h3>Run history:</h3><br/><table class=\"wandb\"><tr><td>train/accuracy</td><td>▄▄▄▆▃▄▂▆▃▆▄▅█▃▁▆▃▄▄▅▃▄▄▅▅▂▃▅▆▃▄▆▃▄▃▅▄▇▄▄</td></tr><tr><td>train/loss</td><td>▄▆▆▄▄▃▆█▃▇▄▆▅▂▇█▁▇▆▅▃▇▅▆▅█▇▅▃▆▆▃▆▂▅██▂▆▆</td></tr><tr><td>validation/accuracy</td><td>▁▁▁▁▁▁▁▁▁▁▁</td></tr><tr><td>validation/loss</td><td>▁▁▁▁▁▁▁▁▁▁▁</td></tr></table><br/></div><div class=\"wandb-col\"><h3>Run summary:</h3><br/><table class=\"wandb\"><tr><td>train/accuracy</td><td>0.65901</td></tr><tr><td>train/loss</td><td>34.09926</td></tr><tr><td>validation/accuracy</td><td>0.66927</td></tr><tr><td>validation/loss</td><td>33.07292</td></tr></table><br/></div></div>"
      ],
      "text/plain": [
       "<IPython.core.display.HTML object>"
      ]
     },
     "metadata": {},
     "output_type": "display_data"
    },
    {
     "data": {
      "text/html": [
       " View run <strong style=\"color:#cdcd00\">lr:0.1-b:128-d_c:0.2, d_f:0.4</strong> at: <a href='https://wandb.ai/mldogs-wut/iml_final_tests/runs/0fh2zyb8' target=\"_blank\">https://wandb.ai/mldogs-wut/iml_final_tests/runs/0fh2zyb8</a><br> View project at: <a href='https://wandb.ai/mldogs-wut/iml_final_tests' target=\"_blank\">https://wandb.ai/mldogs-wut/iml_final_tests</a><br>Synced 5 W&B file(s), 0 media file(s), 0 artifact file(s) and 0 other file(s)"
      ],
      "text/plain": [
       "<IPython.core.display.HTML object>"
      ]
     },
     "metadata": {},
     "output_type": "display_data"
    },
    {
     "data": {
      "text/html": [
       "Find logs at: <code>./wandb/run-20250119_183132-0fh2zyb8/logs</code>"
      ],
      "text/plain": [
       "<IPython.core.display.HTML object>"
      ]
     },
     "metadata": {},
     "output_type": "display_data"
    },
    {
     "name": "stdout",
     "output_type": "stream",
     "text": [
      "lr:0.1-b:128-d_c:0.4, d_f:0\n"
     ]
    },
    {
     "data": {
      "text/html": [
       "Tracking run with wandb version 0.19.1"
      ],
      "text/plain": [
       "<IPython.core.display.HTML object>"
      ]
     },
     "metadata": {},
     "output_type": "display_data"
    },
    {
     "data": {
      "text/html": [
       "Run data is saved locally in <code>/home/migoox/dev/ml-dogs-sharepoint/notebook/training/wandb/run-20250119_183158-rz39f1hp</code>"
      ],
      "text/plain": [
       "<IPython.core.display.HTML object>"
      ]
     },
     "metadata": {},
     "output_type": "display_data"
    },
    {
     "data": {
      "text/html": [
       "Syncing run <strong><a href='https://wandb.ai/mldogs-wut/iml_final_tests/runs/rz39f1hp' target=\"_blank\">lr:0.1-b:128-d_c:0.4, d_f:0</a></strong> to <a href='https://wandb.ai/mldogs-wut/iml_final_tests' target=\"_blank\">Weights & Biases</a> (<a href='https://wandb.me/developer-guide' target=\"_blank\">docs</a>)<br>"
      ],
      "text/plain": [
       "<IPython.core.display.HTML object>"
      ]
     },
     "metadata": {},
     "output_type": "display_data"
    },
    {
     "data": {
      "text/html": [
       " View project at <a href='https://wandb.ai/mldogs-wut/iml_final_tests' target=\"_blank\">https://wandb.ai/mldogs-wut/iml_final_tests</a>"
      ],
      "text/plain": [
       "<IPython.core.display.HTML object>"
      ]
     },
     "metadata": {},
     "output_type": "display_data"
    },
    {
     "data": {
      "text/html": [
       " View run at <a href='https://wandb.ai/mldogs-wut/iml_final_tests/runs/rz39f1hp' target=\"_blank\">https://wandb.ai/mldogs-wut/iml_final_tests/runs/rz39f1hp</a>"
      ],
      "text/plain": [
       "<IPython.core.display.HTML object>"
      ]
     },
     "metadata": {},
     "output_type": "display_data"
    },
    {
     "name": "stdout",
     "output_type": "stream",
     "text": [
      "Epoch 1/30, Loss: 2.0380, F1 Score: 0.4125\n",
      "Epoch 2/30, Loss: 2.1938, F1 Score: 0.3996\n",
      "Epoch 3/30, Loss: 2.1410, F1 Score: 0.3996\n",
      "Epoch 4/30, Loss: 2.3312, F1 Score: 0.3996\n",
      "Epoch 5/30, Loss: 2.0023, F1 Score: 0.3996\n",
      "Epoch 6/30, Loss: 2.2269, F1 Score: 0.3996\n",
      "Epoch 7/30, Loss: 2.1397, F1 Score: 0.3996\n",
      "Epoch 8/30, Loss: 1.8531, F1 Score: 0.3996\n",
      "Epoch 9/30, Loss: 2.4316, F1 Score: 0.3996\n",
      "Epoch 10/30, Loss: 1.9891, F1 Score: 0.3996\n",
      "Epoch 11/30, Loss: 2.1899, F1 Score: 0.3996\n",
      "8 epochs without a val accuracy improvement. Stopping the train\n",
      "Training complete.\n"
     ]
    },
    {
     "data": {
      "text/html": [],
      "text/plain": [
       "<IPython.core.display.HTML object>"
      ]
     },
     "metadata": {},
     "output_type": "display_data"
    },
    {
     "data": {
      "text/html": [
       "<br>    <style><br>        .wandb-row {<br>            display: flex;<br>            flex-direction: row;<br>            flex-wrap: wrap;<br>            justify-content: flex-start;<br>            width: 100%;<br>        }<br>        .wandb-col {<br>            display: flex;<br>            flex-direction: column;<br>            flex-basis: 100%;<br>            flex: 1;<br>            padding: 10px;<br>        }<br>    </style><br><div class=\"wandb-row\"><div class=\"wandb-col\"><h3>Run history:</h3><br/><table class=\"wandb\"><tr><td>train/accuracy</td><td>▃▅▅▂▅▃▄▃▃▅▅▅▅▁▁█▂▃▃▅▄▃▃▄▆▃▃▂▆▅▂▄▇▃▄▄▅▂▃▄</td></tr><tr><td>train/loss</td><td>▃▇▄▄▇▄▆▄▆▆▅▄▄▄█▅▁▇▆▅▆▅▃▇▆▆▇▃▅▄▅▂▆▅▇▅▃▇▆▅</td></tr><tr><td>validation/accuracy</td><td>▁▁▁▁▁▁▁▁▁▁▁</td></tr><tr><td>validation/loss</td><td>▁▁▁▁▁▁▁▁▁▁▁</td></tr></table><br/></div><div class=\"wandb-col\"><h3>Run summary:</h3><br/><table class=\"wandb\"><tr><td>train/accuracy</td><td>0.66268</td></tr><tr><td>train/loss</td><td>33.73162</td></tr><tr><td>validation/accuracy</td><td>0.66927</td></tr><tr><td>validation/loss</td><td>33.07292</td></tr></table><br/></div></div>"
      ],
      "text/plain": [
       "<IPython.core.display.HTML object>"
      ]
     },
     "metadata": {},
     "output_type": "display_data"
    },
    {
     "data": {
      "text/html": [
       " View run <strong style=\"color:#cdcd00\">lr:0.1-b:128-d_c:0.4, d_f:0</strong> at: <a href='https://wandb.ai/mldogs-wut/iml_final_tests/runs/rz39f1hp' target=\"_blank\">https://wandb.ai/mldogs-wut/iml_final_tests/runs/rz39f1hp</a><br> View project at: <a href='https://wandb.ai/mldogs-wut/iml_final_tests' target=\"_blank\">https://wandb.ai/mldogs-wut/iml_final_tests</a><br>Synced 5 W&B file(s), 0 media file(s), 0 artifact file(s) and 0 other file(s)"
      ],
      "text/plain": [
       "<IPython.core.display.HTML object>"
      ]
     },
     "metadata": {},
     "output_type": "display_data"
    },
    {
     "data": {
      "text/html": [
       "Find logs at: <code>./wandb/run-20250119_183158-rz39f1hp/logs</code>"
      ],
      "text/plain": [
       "<IPython.core.display.HTML object>"
      ]
     },
     "metadata": {},
     "output_type": "display_data"
    },
    {
     "name": "stdout",
     "output_type": "stream",
     "text": [
      "lr:0.1-b:128-d_c:0.4, d_f:0.2\n"
     ]
    },
    {
     "data": {
      "text/html": [
       "Tracking run with wandb version 0.19.1"
      ],
      "text/plain": [
       "<IPython.core.display.HTML object>"
      ]
     },
     "metadata": {},
     "output_type": "display_data"
    },
    {
     "data": {
      "text/html": [
       "Run data is saved locally in <code>/home/migoox/dev/ml-dogs-sharepoint/notebook/training/wandb/run-20250119_183224-t025qt02</code>"
      ],
      "text/plain": [
       "<IPython.core.display.HTML object>"
      ]
     },
     "metadata": {},
     "output_type": "display_data"
    },
    {
     "data": {
      "text/html": [
       "Syncing run <strong><a href='https://wandb.ai/mldogs-wut/iml_final_tests/runs/t025qt02' target=\"_blank\">lr:0.1-b:128-d_c:0.4, d_f:0.2</a></strong> to <a href='https://wandb.ai/mldogs-wut/iml_final_tests' target=\"_blank\">Weights & Biases</a> (<a href='https://wandb.me/developer-guide' target=\"_blank\">docs</a>)<br>"
      ],
      "text/plain": [
       "<IPython.core.display.HTML object>"
      ]
     },
     "metadata": {},
     "output_type": "display_data"
    },
    {
     "data": {
      "text/html": [
       " View project at <a href='https://wandb.ai/mldogs-wut/iml_final_tests' target=\"_blank\">https://wandb.ai/mldogs-wut/iml_final_tests</a>"
      ],
      "text/plain": [
       "<IPython.core.display.HTML object>"
      ]
     },
     "metadata": {},
     "output_type": "display_data"
    },
    {
     "data": {
      "text/html": [
       " View run at <a href='https://wandb.ai/mldogs-wut/iml_final_tests/runs/t025qt02' target=\"_blank\">https://wandb.ai/mldogs-wut/iml_final_tests/runs/t025qt02</a>"
      ],
      "text/plain": [
       "<IPython.core.display.HTML object>"
      ]
     },
     "metadata": {},
     "output_type": "display_data"
    },
    {
     "name": "stdout",
     "output_type": "stream",
     "text": [
      "Epoch 1/30, Loss: 2.2955, F1 Score: 0.4065\n",
      "Epoch 2/30, Loss: 2.0036, F1 Score: 0.3996\n",
      "Epoch 3/30, Loss: 2.4976, F1 Score: 0.3996\n",
      "Epoch 4/30, Loss: 2.4474, F1 Score: 0.3996\n",
      "Epoch 5/30, Loss: 2.0736, F1 Score: 0.3996\n",
      "Epoch 6/30, Loss: 2.1093, F1 Score: 0.3996\n",
      "Epoch 7/30, Loss: 2.2599, F1 Score: 0.3996\n",
      "Epoch 8/30, Loss: 2.0908, F1 Score: 0.3996\n",
      "Epoch 9/30, Loss: 2.2467, F1 Score: 0.3996\n",
      "Epoch 10/30, Loss: 2.1423, F1 Score: 0.3996\n",
      "Epoch 11/30, Loss: 2.3959, F1 Score: 0.3996\n",
      "8 epochs without a val accuracy improvement. Stopping the train\n",
      "Training complete.\n"
     ]
    },
    {
     "data": {
      "text/html": [],
      "text/plain": [
       "<IPython.core.display.HTML object>"
      ]
     },
     "metadata": {},
     "output_type": "display_data"
    },
    {
     "data": {
      "text/html": [
       "<br>    <style><br>        .wandb-row {<br>            display: flex;<br>            flex-direction: row;<br>            flex-wrap: wrap;<br>            justify-content: flex-start;<br>            width: 100%;<br>        }<br>        .wandb-col {<br>            display: flex;<br>            flex-direction: column;<br>            flex-basis: 100%;<br>            flex: 1;<br>            padding: 10px;<br>        }<br>    </style><br><div class=\"wandb-row\"><div class=\"wandb-col\"><h3>Run history:</h3><br/><table class=\"wandb\"><tr><td>train/accuracy</td><td>▁▆▇▄▇▆▃▄▇▄▅▃▅▅▅▅▇▇▆▄▇▆▄▆▅█▄▆▇▅█▃▆▇▇▆▇▄▅▆</td></tr><tr><td>train/loss</td><td>▄▄▃▄▄▇▆▃▆▁█▁▅▆▆▆█▃▄▄▅▃▆▆▅▄▃▅▆▃▄▃▅▃▇▄▃▇▅▄</td></tr><tr><td>validation/accuracy</td><td>▁▁▁▁▁▁▁▁▁▁▁</td></tr><tr><td>validation/loss</td><td>▁▁▁▁▁▁▁▁▁▁▁</td></tr></table><br/></div><div class=\"wandb-col\"><h3>Run summary:</h3><br/><table class=\"wandb\"><tr><td>train/accuracy</td><td>0.6682</td></tr><tr><td>train/loss</td><td>33.18015</td></tr><tr><td>validation/accuracy</td><td>0.66927</td></tr><tr><td>validation/loss</td><td>33.07292</td></tr></table><br/></div></div>"
      ],
      "text/plain": [
       "<IPython.core.display.HTML object>"
      ]
     },
     "metadata": {},
     "output_type": "display_data"
    },
    {
     "data": {
      "text/html": [
       " View run <strong style=\"color:#cdcd00\">lr:0.1-b:128-d_c:0.4, d_f:0.2</strong> at: <a href='https://wandb.ai/mldogs-wut/iml_final_tests/runs/t025qt02' target=\"_blank\">https://wandb.ai/mldogs-wut/iml_final_tests/runs/t025qt02</a><br> View project at: <a href='https://wandb.ai/mldogs-wut/iml_final_tests' target=\"_blank\">https://wandb.ai/mldogs-wut/iml_final_tests</a><br>Synced 5 W&B file(s), 0 media file(s), 0 artifact file(s) and 0 other file(s)"
      ],
      "text/plain": [
       "<IPython.core.display.HTML object>"
      ]
     },
     "metadata": {},
     "output_type": "display_data"
    },
    {
     "data": {
      "text/html": [
       "Find logs at: <code>./wandb/run-20250119_183224-t025qt02/logs</code>"
      ],
      "text/plain": [
       "<IPython.core.display.HTML object>"
      ]
     },
     "metadata": {},
     "output_type": "display_data"
    },
    {
     "name": "stdout",
     "output_type": "stream",
     "text": [
      "lr:0.1-b:128-d_c:0.4, d_f:0.4\n"
     ]
    },
    {
     "data": {
      "text/html": [
       "Tracking run with wandb version 0.19.1"
      ],
      "text/plain": [
       "<IPython.core.display.HTML object>"
      ]
     },
     "metadata": {},
     "output_type": "display_data"
    },
    {
     "data": {
      "text/html": [
       "Run data is saved locally in <code>/home/migoox/dev/ml-dogs-sharepoint/notebook/training/wandb/run-20250119_183250-8g4jukul</code>"
      ],
      "text/plain": [
       "<IPython.core.display.HTML object>"
      ]
     },
     "metadata": {},
     "output_type": "display_data"
    },
    {
     "data": {
      "text/html": [
       "Syncing run <strong><a href='https://wandb.ai/mldogs-wut/iml_final_tests/runs/8g4jukul' target=\"_blank\">lr:0.1-b:128-d_c:0.4, d_f:0.4</a></strong> to <a href='https://wandb.ai/mldogs-wut/iml_final_tests' target=\"_blank\">Weights & Biases</a> (<a href='https://wandb.me/developer-guide' target=\"_blank\">docs</a>)<br>"
      ],
      "text/plain": [
       "<IPython.core.display.HTML object>"
      ]
     },
     "metadata": {},
     "output_type": "display_data"
    },
    {
     "data": {
      "text/html": [
       " View project at <a href='https://wandb.ai/mldogs-wut/iml_final_tests' target=\"_blank\">https://wandb.ai/mldogs-wut/iml_final_tests</a>"
      ],
      "text/plain": [
       "<IPython.core.display.HTML object>"
      ]
     },
     "metadata": {},
     "output_type": "display_data"
    },
    {
     "data": {
      "text/html": [
       " View run at <a href='https://wandb.ai/mldogs-wut/iml_final_tests/runs/8g4jukul' target=\"_blank\">https://wandb.ai/mldogs-wut/iml_final_tests/runs/8g4jukul</a>"
      ],
      "text/plain": [
       "<IPython.core.display.HTML object>"
      ]
     },
     "metadata": {},
     "output_type": "display_data"
    },
    {
     "name": "stdout",
     "output_type": "stream",
     "text": [
      "Epoch 1/30, Loss: 2.1767, F1 Score: 0.4109\n",
      "Epoch 2/30, Loss: 2.1608, F1 Score: 0.3996\n",
      "Epoch 3/30, Loss: 2.2586, F1 Score: 0.3996\n",
      "Epoch 4/30, Loss: 2.0921, F1 Score: 0.3996\n",
      "Epoch 5/30, Loss: 2.0208, F1 Score: 0.3996\n",
      "Epoch 6/30, Loss: 1.9204, F1 Score: 0.3996\n",
      "Epoch 7/30, Loss: 2.1886, F1 Score: 0.3996\n",
      "Epoch 8/30, Loss: 2.1080, F1 Score: 0.3996\n",
      "Epoch 9/30, Loss: 1.9693, F1 Score: 0.3996\n",
      "Epoch 10/30, Loss: 2.2269, F1 Score: 0.3996\n",
      "Epoch 11/30, Loss: 2.4805, F1 Score: 0.3996\n",
      "8 epochs without a val accuracy improvement. Stopping the train\n",
      "Training complete.\n"
     ]
    },
    {
     "data": {
      "text/html": [],
      "text/plain": [
       "<IPython.core.display.HTML object>"
      ]
     },
     "metadata": {},
     "output_type": "display_data"
    },
    {
     "data": {
      "text/html": [
       "<br>    <style><br>        .wandb-row {<br>            display: flex;<br>            flex-direction: row;<br>            flex-wrap: wrap;<br>            justify-content: flex-start;<br>            width: 100%;<br>        }<br>        .wandb-col {<br>            display: flex;<br>            flex-direction: column;<br>            flex-basis: 100%;<br>            flex: 1;<br>            padding: 10px;<br>        }<br>    </style><br><div class=\"wandb-row\"><div class=\"wandb-col\"><h3>Run history:</h3><br/><table class=\"wandb\"><tr><td>train/accuracy</td><td>▄▆▄▂▃▄▄█▆▁▆▅▃▄▄▅▅▂▆▇▄▆▄▂▅▄▇▅▄▅▅▄▅▄▆▄▅▅▄▂</td></tr><tr><td>train/loss</td><td>▁▆▄▆▇▃▆▅▆▃▄█▅▆▅▆▆▅▅▆▇▄▄▆▄▅▇▅█▆▅▅▆▅▅▅▆▅▅▇</td></tr><tr><td>validation/accuracy</td><td>▁▁▁▁▁▁▁▁▁▁▁</td></tr><tr><td>validation/loss</td><td>▁▁▁▁▁▁▁▁▁▁▁</td></tr></table><br/></div><div class=\"wandb-col\"><h3>Run summary:</h3><br/><table class=\"wandb\"><tr><td>train/accuracy</td><td>0.64982</td></tr><tr><td>train/loss</td><td>35.01838</td></tr><tr><td>validation/accuracy</td><td>0.66927</td></tr><tr><td>validation/loss</td><td>33.07292</td></tr></table><br/></div></div>"
      ],
      "text/plain": [
       "<IPython.core.display.HTML object>"
      ]
     },
     "metadata": {},
     "output_type": "display_data"
    },
    {
     "data": {
      "text/html": [
       " View run <strong style=\"color:#cdcd00\">lr:0.1-b:128-d_c:0.4, d_f:0.4</strong> at: <a href='https://wandb.ai/mldogs-wut/iml_final_tests/runs/8g4jukul' target=\"_blank\">https://wandb.ai/mldogs-wut/iml_final_tests/runs/8g4jukul</a><br> View project at: <a href='https://wandb.ai/mldogs-wut/iml_final_tests' target=\"_blank\">https://wandb.ai/mldogs-wut/iml_final_tests</a><br>Synced 5 W&B file(s), 0 media file(s), 0 artifact file(s) and 0 other file(s)"
      ],
      "text/plain": [
       "<IPython.core.display.HTML object>"
      ]
     },
     "metadata": {},
     "output_type": "display_data"
    },
    {
     "data": {
      "text/html": [
       "Find logs at: <code>./wandb/run-20250119_183250-8g4jukul/logs</code>"
      ],
      "text/plain": [
       "<IPython.core.display.HTML object>"
      ]
     },
     "metadata": {},
     "output_type": "display_data"
    },
    {
     "name": "stdout",
     "output_type": "stream",
     "text": [
      "lr:0.01-b:32-d_c:0, d_f:0\n"
     ]
    },
    {
     "data": {
      "text/html": [
       "Tracking run with wandb version 0.19.1"
      ],
      "text/plain": [
       "<IPython.core.display.HTML object>"
      ]
     },
     "metadata": {},
     "output_type": "display_data"
    },
    {
     "data": {
      "text/html": [
       "Run data is saved locally in <code>/home/migoox/dev/ml-dogs-sharepoint/notebook/training/wandb/run-20250119_183316-8u9sktnd</code>"
      ],
      "text/plain": [
       "<IPython.core.display.HTML object>"
      ]
     },
     "metadata": {},
     "output_type": "display_data"
    },
    {
     "data": {
      "text/html": [
       "Syncing run <strong><a href='https://wandb.ai/mldogs-wut/iml_final_tests/runs/8u9sktnd' target=\"_blank\">lr:0.01-b:32-d_c:0, d_f:0</a></strong> to <a href='https://wandb.ai/mldogs-wut/iml_final_tests' target=\"_blank\">Weights & Biases</a> (<a href='https://wandb.me/developer-guide' target=\"_blank\">docs</a>)<br>"
      ],
      "text/plain": [
       "<IPython.core.display.HTML object>"
      ]
     },
     "metadata": {},
     "output_type": "display_data"
    },
    {
     "data": {
      "text/html": [
       " View project at <a href='https://wandb.ai/mldogs-wut/iml_final_tests' target=\"_blank\">https://wandb.ai/mldogs-wut/iml_final_tests</a>"
      ],
      "text/plain": [
       "<IPython.core.display.HTML object>"
      ]
     },
     "metadata": {},
     "output_type": "display_data"
    },
    {
     "data": {
      "text/html": [
       " View run at <a href='https://wandb.ai/mldogs-wut/iml_final_tests/runs/8u9sktnd' target=\"_blank\">https://wandb.ai/mldogs-wut/iml_final_tests/runs/8u9sktnd</a>"
      ],
      "text/plain": [
       "<IPython.core.display.HTML object>"
      ]
     },
     "metadata": {},
     "output_type": "display_data"
    },
    {
     "name": "stdout",
     "output_type": "stream",
     "text": [
      "Epoch 1/30, Loss: 2.1608, F1 Score: 0.3996\n",
      "Epoch 2/30, Loss: 2.2110, F1 Score: 0.3996\n",
      "Epoch 3/30, Loss: 2.2084, F1 Score: 0.3996\n",
      "Epoch 4/30, Loss: 2.1925, F1 Score: 0.3996\n",
      "Epoch 5/30, Loss: 1.6827, F1 Score: 0.3996\n",
      "Epoch 6/30, Loss: 2.1925, F1 Score: 0.3996\n",
      "Epoch 7/30, Loss: 2.1899, F1 Score: 0.3996\n",
      "Epoch 8/30, Loss: 2.1582, F1 Score: 0.3996\n",
      "Epoch 9/30, Loss: 2.1569, F1 Score: 0.3996\n",
      "Epoch 10/30, Loss: 2.2269, F1 Score: 0.3996\n",
      "Epoch 11/30, Loss: 2.3312, F1 Score: 0.3996\n",
      "8 epochs without a val accuracy improvement. Stopping the train\n",
      "Training complete.\n"
     ]
    },
    {
     "data": {
      "text/html": [],
      "text/plain": [
       "<IPython.core.display.HTML object>"
      ]
     },
     "metadata": {},
     "output_type": "display_data"
    },
    {
     "data": {
      "text/html": [
       "<br>    <style><br>        .wandb-row {<br>            display: flex;<br>            flex-direction: row;<br>            flex-wrap: wrap;<br>            justify-content: flex-start;<br>            width: 100%;<br>        }<br>        .wandb-col {<br>            display: flex;<br>            flex-direction: column;<br>            flex-basis: 100%;<br>            flex: 1;<br>            padding: 10px;<br>        }<br>    </style><br><div class=\"wandb-row\"><div class=\"wandb-col\"><h3>Run history:</h3><br/><table class=\"wandb\"><tr><td>train/accuracy</td><td>▄█▄▃▄▅▆▆▁▃▆▄▂▄▄▄▅▇▅▄▃▂▅▆▃▄▄▄▆▄▅▄▅▅▆▅▄▅▅▇</td></tr><tr><td>train/loss</td><td>▂▁▅▅▅▅▄▄▃▃▃█▆▃▃▇▅▅▄▅▄▅▆▇▃▃▅▅▅▃▄▄▅▄▄▄▄▅▄▅</td></tr><tr><td>validation/accuracy</td><td>▁▁▁▁▁▁▁▁▁▁▁</td></tr><tr><td>validation/loss</td><td>▁▁▁▁▁▁▁▁▁▁▁</td></tr></table><br/></div><div class=\"wandb-col\"><h3>Run summary:</h3><br/><table class=\"wandb\"><tr><td>train/accuracy</td><td>0.6829</td></tr><tr><td>train/loss</td><td>31.70956</td></tr><tr><td>validation/accuracy</td><td>0.66927</td></tr><tr><td>validation/loss</td><td>33.07292</td></tr></table><br/></div></div>"
      ],
      "text/plain": [
       "<IPython.core.display.HTML object>"
      ]
     },
     "metadata": {},
     "output_type": "display_data"
    },
    {
     "data": {
      "text/html": [
       " View run <strong style=\"color:#cdcd00\">lr:0.01-b:32-d_c:0, d_f:0</strong> at: <a href='https://wandb.ai/mldogs-wut/iml_final_tests/runs/8u9sktnd' target=\"_blank\">https://wandb.ai/mldogs-wut/iml_final_tests/runs/8u9sktnd</a><br> View project at: <a href='https://wandb.ai/mldogs-wut/iml_final_tests' target=\"_blank\">https://wandb.ai/mldogs-wut/iml_final_tests</a><br>Synced 5 W&B file(s), 0 media file(s), 0 artifact file(s) and 0 other file(s)"
      ],
      "text/plain": [
       "<IPython.core.display.HTML object>"
      ]
     },
     "metadata": {},
     "output_type": "display_data"
    },
    {
     "data": {
      "text/html": [
       "Find logs at: <code>./wandb/run-20250119_183316-8u9sktnd/logs</code>"
      ],
      "text/plain": [
       "<IPython.core.display.HTML object>"
      ]
     },
     "metadata": {},
     "output_type": "display_data"
    },
    {
     "name": "stdout",
     "output_type": "stream",
     "text": [
      "lr:0.01-b:32-d_c:0, d_f:0.2\n"
     ]
    },
    {
     "data": {
      "text/html": [
       "Tracking run with wandb version 0.19.1"
      ],
      "text/plain": [
       "<IPython.core.display.HTML object>"
      ]
     },
     "metadata": {},
     "output_type": "display_data"
    },
    {
     "data": {
      "text/html": [
       "Run data is saved locally in <code>/home/migoox/dev/ml-dogs-sharepoint/notebook/training/wandb/run-20250119_183342-i3y21k4e</code>"
      ],
      "text/plain": [
       "<IPython.core.display.HTML object>"
      ]
     },
     "metadata": {},
     "output_type": "display_data"
    },
    {
     "data": {
      "text/html": [
       "Syncing run <strong><a href='https://wandb.ai/mldogs-wut/iml_final_tests/runs/i3y21k4e' target=\"_blank\">lr:0.01-b:32-d_c:0, d_f:0.2</a></strong> to <a href='https://wandb.ai/mldogs-wut/iml_final_tests' target=\"_blank\">Weights & Biases</a> (<a href='https://wandb.me/developer-guide' target=\"_blank\">docs</a>)<br>"
      ],
      "text/plain": [
       "<IPython.core.display.HTML object>"
      ]
     },
     "metadata": {},
     "output_type": "display_data"
    },
    {
     "data": {
      "text/html": [
       " View project at <a href='https://wandb.ai/mldogs-wut/iml_final_tests' target=\"_blank\">https://wandb.ai/mldogs-wut/iml_final_tests</a>"
      ],
      "text/plain": [
       "<IPython.core.display.HTML object>"
      ]
     },
     "metadata": {},
     "output_type": "display_data"
    },
    {
     "data": {
      "text/html": [
       " View run at <a href='https://wandb.ai/mldogs-wut/iml_final_tests/runs/i3y21k4e' target=\"_blank\">https://wandb.ai/mldogs-wut/iml_final_tests/runs/i3y21k4e</a>"
      ],
      "text/plain": [
       "<IPython.core.display.HTML object>"
      ]
     },
     "metadata": {},
     "output_type": "display_data"
    },
    {
     "name": "stdout",
     "output_type": "stream",
     "text": [
      "Epoch 1/30, Loss: 2.2929, F1 Score: 0.3996\n",
      "Epoch 2/30, Loss: 2.1582, F1 Score: 0.3996\n",
      "Epoch 3/30, Loss: 2.0908, F1 Score: 0.3996\n",
      "Epoch 4/30, Loss: 2.1582, F1 Score: 0.3996\n",
      "Epoch 5/30, Loss: 2.3972, F1 Score: 0.3996\n",
      "Epoch 6/30, Loss: 1.9548, F1 Score: 0.3996\n",
      "Epoch 7/30, Loss: 2.5161, F1 Score: 0.3996\n",
      "Epoch 8/30, Loss: 2.1436, F1 Score: 0.3996\n",
      "Epoch 9/30, Loss: 2.1912, F1 Score: 0.3996\n",
      "Epoch 10/30, Loss: 2.2612, F1 Score: 0.3996\n",
      "Epoch 11/30, Loss: 2.2586, F1 Score: 0.3996\n",
      "8 epochs without a val accuracy improvement. Stopping the train\n",
      "Training complete.\n"
     ]
    },
    {
     "data": {
      "text/html": [],
      "text/plain": [
       "<IPython.core.display.HTML object>"
      ]
     },
     "metadata": {},
     "output_type": "display_data"
    },
    {
     "data": {
      "text/html": [
       "<br>    <style><br>        .wandb-row {<br>            display: flex;<br>            flex-direction: row;<br>            flex-wrap: wrap;<br>            justify-content: flex-start;<br>            width: 100%;<br>        }<br>        .wandb-col {<br>            display: flex;<br>            flex-direction: column;<br>            flex-basis: 100%;<br>            flex: 1;<br>            padding: 10px;<br>        }<br>    </style><br><div class=\"wandb-row\"><div class=\"wandb-col\"><h3>Run history:</h3><br/><table class=\"wandb\"><tr><td>train/accuracy</td><td>▄▅▅▃▄▄▄▄▂▃▄▆▃▃▄▇▄▅▂▄▆▂▄▄▆▃█▅▂▁▃▅▅▇▅▅▁▇▅▄</td></tr><tr><td>train/loss</td><td>▁▄▃▅▄▄▄▃▄▅▂▄▃▅▄▂▄▃▄▃▆▄▄▄▂▅▁▃▃▅▆▅▃▄▂█▃▃▆▄</td></tr><tr><td>validation/accuracy</td><td>▁▁▁▁▁▁▁▁▁▁▁</td></tr><tr><td>validation/loss</td><td>▁▁▁▁▁▁▁▁▁▁▁</td></tr></table><br/></div><div class=\"wandb-col\"><h3>Run summary:</h3><br/><table class=\"wandb\"><tr><td>train/accuracy</td><td>0.66176</td></tr><tr><td>train/loss</td><td>33.82353</td></tr><tr><td>validation/accuracy</td><td>0.66927</td></tr><tr><td>validation/loss</td><td>33.07292</td></tr></table><br/></div></div>"
      ],
      "text/plain": [
       "<IPython.core.display.HTML object>"
      ]
     },
     "metadata": {},
     "output_type": "display_data"
    },
    {
     "data": {
      "text/html": [
       " View run <strong style=\"color:#cdcd00\">lr:0.01-b:32-d_c:0, d_f:0.2</strong> at: <a href='https://wandb.ai/mldogs-wut/iml_final_tests/runs/i3y21k4e' target=\"_blank\">https://wandb.ai/mldogs-wut/iml_final_tests/runs/i3y21k4e</a><br> View project at: <a href='https://wandb.ai/mldogs-wut/iml_final_tests' target=\"_blank\">https://wandb.ai/mldogs-wut/iml_final_tests</a><br>Synced 5 W&B file(s), 0 media file(s), 0 artifact file(s) and 0 other file(s)"
      ],
      "text/plain": [
       "<IPython.core.display.HTML object>"
      ]
     },
     "metadata": {},
     "output_type": "display_data"
    },
    {
     "data": {
      "text/html": [
       "Find logs at: <code>./wandb/run-20250119_183342-i3y21k4e/logs</code>"
      ],
      "text/plain": [
       "<IPython.core.display.HTML object>"
      ]
     },
     "metadata": {},
     "output_type": "display_data"
    },
    {
     "name": "stdout",
     "output_type": "stream",
     "text": [
      "lr:0.01-b:32-d_c:0, d_f:0.4\n"
     ]
    },
    {
     "data": {
      "text/html": [
       "Tracking run with wandb version 0.19.1"
      ],
      "text/plain": [
       "<IPython.core.display.HTML object>"
      ]
     },
     "metadata": {},
     "output_type": "display_data"
    },
    {
     "data": {
      "text/html": [
       "Run data is saved locally in <code>/home/migoox/dev/ml-dogs-sharepoint/notebook/training/wandb/run-20250119_183409-7tfquokw</code>"
      ],
      "text/plain": [
       "<IPython.core.display.HTML object>"
      ]
     },
     "metadata": {},
     "output_type": "display_data"
    },
    {
     "data": {
      "text/html": [
       "Syncing run <strong><a href='https://wandb.ai/mldogs-wut/iml_final_tests/runs/7tfquokw' target=\"_blank\">lr:0.01-b:32-d_c:0, d_f:0.4</a></strong> to <a href='https://wandb.ai/mldogs-wut/iml_final_tests' target=\"_blank\">Weights & Biases</a> (<a href='https://wandb.me/developer-guide' target=\"_blank\">docs</a>)<br>"
      ],
      "text/plain": [
       "<IPython.core.display.HTML object>"
      ]
     },
     "metadata": {},
     "output_type": "display_data"
    },
    {
     "data": {
      "text/html": [
       " View project at <a href='https://wandb.ai/mldogs-wut/iml_final_tests' target=\"_blank\">https://wandb.ai/mldogs-wut/iml_final_tests</a>"
      ],
      "text/plain": [
       "<IPython.core.display.HTML object>"
      ]
     },
     "metadata": {},
     "output_type": "display_data"
    },
    {
     "data": {
      "text/html": [
       " View run at <a href='https://wandb.ai/mldogs-wut/iml_final_tests/runs/7tfquokw' target=\"_blank\">https://wandb.ai/mldogs-wut/iml_final_tests/runs/7tfquokw</a>"
      ],
      "text/plain": [
       "<IPython.core.display.HTML object>"
      ]
     },
     "metadata": {},
     "output_type": "display_data"
    },
    {
     "name": "stdout",
     "output_type": "stream",
     "text": [
      "Epoch 1/30, Loss: 0.0454, F1 Score: 0.4110\n",
      "Epoch 2/30, Loss: 0.0411, F1 Score: 0.3996\n",
      "Epoch 3/30, Loss: 0.0415, F1 Score: 0.3996\n",
      "Epoch 4/30, Loss: 0.0439, F1 Score: 0.3996\n",
      "Epoch 5/30, Loss: 0.0434, F1 Score: 0.3996\n",
      "Epoch 6/30, Loss: 0.0411, F1 Score: 0.3996\n",
      "Epoch 7/30, Loss: 0.0400, F1 Score: 0.3996\n",
      "Epoch 8/30, Loss: 0.0405, F1 Score: 0.3996\n",
      "Epoch 9/30, Loss: 0.0400, F1 Score: 0.3996\n",
      "Epoch 10/30, Loss: 0.0394, F1 Score: 0.3996\n",
      "Epoch 11/30, Loss: 0.0416, F1 Score: 0.3996\n",
      "8 epochs without a val accuracy improvement. Stopping the train\n",
      "Training complete.\n"
     ]
    },
    {
     "data": {
      "text/html": [],
      "text/plain": [
       "<IPython.core.display.HTML object>"
      ]
     },
     "metadata": {},
     "output_type": "display_data"
    },
    {
     "data": {
      "text/html": [
       "<br>    <style><br>        .wandb-row {<br>            display: flex;<br>            flex-direction: row;<br>            flex-wrap: wrap;<br>            justify-content: flex-start;<br>            width: 100%;<br>        }<br>        .wandb-col {<br>            display: flex;<br>            flex-direction: column;<br>            flex-basis: 100%;<br>            flex: 1;<br>            padding: 10px;<br>        }<br>    </style><br><div class=\"wandb-row\"><div class=\"wandb-col\"><h3>Run history:</h3><br/><table class=\"wandb\"><tr><td>train/accuracy</td><td>▄▆▇▃▅▂▆▆▅▃▄▅▅▇▄▄▄▆▅▄▄█▁▅▆▅▃▄▅▃▄▇▂▃▅▅▄▆▃█</td></tr><tr><td>train/loss</td><td>█▁▁▂▁▂▂▁▁▂▁▂▂▂▂▂▂▂▂▂▂▂▁▂▂▂▂▂▂▂▁▁▂▂▁▁▆▂▂▂</td></tr><tr><td>validation/accuracy</td><td>████████▁██</td></tr><tr><td>validation/loss</td><td>▁▁▁▁▁▆▁▅▁█▁</td></tr></table><br/></div><div class=\"wandb-col\"><h3>Run summary:</h3><br/><table class=\"wandb\"><tr><td>train/accuracy</td><td>0.69669</td></tr><tr><td>train/loss</td><td>0.61501</td></tr><tr><td>validation/accuracy</td><td>0.66927</td></tr><tr><td>validation/loss</td><td>0.63472</td></tr></table><br/></div></div>"
      ],
      "text/plain": [
       "<IPython.core.display.HTML object>"
      ]
     },
     "metadata": {},
     "output_type": "display_data"
    },
    {
     "data": {
      "text/html": [
       " View run <strong style=\"color:#cdcd00\">lr:0.01-b:32-d_c:0, d_f:0.4</strong> at: <a href='https://wandb.ai/mldogs-wut/iml_final_tests/runs/7tfquokw' target=\"_blank\">https://wandb.ai/mldogs-wut/iml_final_tests/runs/7tfquokw</a><br> View project at: <a href='https://wandb.ai/mldogs-wut/iml_final_tests' target=\"_blank\">https://wandb.ai/mldogs-wut/iml_final_tests</a><br>Synced 5 W&B file(s), 0 media file(s), 0 artifact file(s) and 0 other file(s)"
      ],
      "text/plain": [
       "<IPython.core.display.HTML object>"
      ]
     },
     "metadata": {},
     "output_type": "display_data"
    },
    {
     "data": {
      "text/html": [
       "Find logs at: <code>./wandb/run-20250119_183409-7tfquokw/logs</code>"
      ],
      "text/plain": [
       "<IPython.core.display.HTML object>"
      ]
     },
     "metadata": {},
     "output_type": "display_data"
    },
    {
     "name": "stdout",
     "output_type": "stream",
     "text": [
      "lr:0.01-b:32-d_c:0.2, d_f:0\n"
     ]
    },
    {
     "data": {
      "text/html": [
       "Tracking run with wandb version 0.19.1"
      ],
      "text/plain": [
       "<IPython.core.display.HTML object>"
      ]
     },
     "metadata": {},
     "output_type": "display_data"
    },
    {
     "data": {
      "text/html": [
       "Run data is saved locally in <code>/home/migoox/dev/ml-dogs-sharepoint/notebook/training/wandb/run-20250119_183434-7jpl6d5o</code>"
      ],
      "text/plain": [
       "<IPython.core.display.HTML object>"
      ]
     },
     "metadata": {},
     "output_type": "display_data"
    },
    {
     "data": {
      "text/html": [
       "Syncing run <strong><a href='https://wandb.ai/mldogs-wut/iml_final_tests/runs/7jpl6d5o' target=\"_blank\">lr:0.01-b:32-d_c:0.2, d_f:0</a></strong> to <a href='https://wandb.ai/mldogs-wut/iml_final_tests' target=\"_blank\">Weights & Biases</a> (<a href='https://wandb.me/developer-guide' target=\"_blank\">docs</a>)<br>"
      ],
      "text/plain": [
       "<IPython.core.display.HTML object>"
      ]
     },
     "metadata": {},
     "output_type": "display_data"
    },
    {
     "data": {
      "text/html": [
       " View project at <a href='https://wandb.ai/mldogs-wut/iml_final_tests' target=\"_blank\">https://wandb.ai/mldogs-wut/iml_final_tests</a>"
      ],
      "text/plain": [
       "<IPython.core.display.HTML object>"
      ]
     },
     "metadata": {},
     "output_type": "display_data"
    },
    {
     "data": {
      "text/html": [
       " View run at <a href='https://wandb.ai/mldogs-wut/iml_final_tests/runs/7jpl6d5o' target=\"_blank\">https://wandb.ai/mldogs-wut/iml_final_tests/runs/7jpl6d5o</a>"
      ],
      "text/plain": [
       "<IPython.core.display.HTML object>"
      ]
     },
     "metadata": {},
     "output_type": "display_data"
    },
    {
     "name": "stdout",
     "output_type": "stream",
     "text": [
      "Epoch 1/30, Loss: 2.0380, F1 Score: 0.4119\n",
      "Epoch 2/30, Loss: 1.9204, F1 Score: 0.3996\n",
      "Epoch 3/30, Loss: 2.1740, F1 Score: 0.3996\n",
      "Epoch 4/30, Loss: 2.3286, F1 Score: 0.3996\n",
      "Epoch 5/30, Loss: 2.1053, F1 Score: 0.3996\n",
      "Epoch 6/30, Loss: 2.0380, F1 Score: 0.3996\n",
      "Epoch 7/30, Loss: 2.2929, F1 Score: 0.3996\n",
      "Epoch 8/30, Loss: 1.7989, F1 Score: 0.3996\n",
      "Epoch 9/30, Loss: 2.2586, F1 Score: 0.3996\n",
      "Epoch 10/30, Loss: 2.0869, F1 Score: 0.3996\n",
      "Epoch 11/30, Loss: 2.1582, F1 Score: 0.3996\n",
      "8 epochs without a val accuracy improvement. Stopping the train\n",
      "Training complete.\n"
     ]
    },
    {
     "data": {
      "text/html": [],
      "text/plain": [
       "<IPython.core.display.HTML object>"
      ]
     },
     "metadata": {},
     "output_type": "display_data"
    },
    {
     "data": {
      "text/html": [
       "<br>    <style><br>        .wandb-row {<br>            display: flex;<br>            flex-direction: row;<br>            flex-wrap: wrap;<br>            justify-content: flex-start;<br>            width: 100%;<br>        }<br>        .wandb-col {<br>            display: flex;<br>            flex-direction: column;<br>            flex-basis: 100%;<br>            flex: 1;<br>            padding: 10px;<br>        }<br>    </style><br><div class=\"wandb-row\"><div class=\"wandb-col\"><h3>Run history:</h3><br/><table class=\"wandb\"><tr><td>train/accuracy</td><td>█▅▃▅▂▃▇▃▆▅▅▅▄▆▃▇▃▂▄▃█▃▅▅▄▅▇▄▃▂▅▄▃▇▅▁▄▅▇▆</td></tr><tr><td>train/loss</td><td>▃▁▄▄▆▅▇▂▄▆▆▃▄▄▄▃▂▂▆▇▆▄▁▆▄▅▄▅▅▇▄▆▃▄█▃▅▄▂▃</td></tr><tr><td>validation/accuracy</td><td>▁▁▁▁▁▁▁▁▁▁▁</td></tr><tr><td>validation/loss</td><td>▁▁▁▁▁▁▁▁▁▁▁</td></tr></table><br/></div><div class=\"wandb-col\"><h3>Run summary:</h3><br/><table class=\"wandb\"><tr><td>train/accuracy</td><td>0.67004</td></tr><tr><td>train/loss</td><td>32.99632</td></tr><tr><td>validation/accuracy</td><td>0.66927</td></tr><tr><td>validation/loss</td><td>33.07292</td></tr></table><br/></div></div>"
      ],
      "text/plain": [
       "<IPython.core.display.HTML object>"
      ]
     },
     "metadata": {},
     "output_type": "display_data"
    },
    {
     "data": {
      "text/html": [
       " View run <strong style=\"color:#cdcd00\">lr:0.01-b:32-d_c:0.2, d_f:0</strong> at: <a href='https://wandb.ai/mldogs-wut/iml_final_tests/runs/7jpl6d5o' target=\"_blank\">https://wandb.ai/mldogs-wut/iml_final_tests/runs/7jpl6d5o</a><br> View project at: <a href='https://wandb.ai/mldogs-wut/iml_final_tests' target=\"_blank\">https://wandb.ai/mldogs-wut/iml_final_tests</a><br>Synced 5 W&B file(s), 0 media file(s), 0 artifact file(s) and 0 other file(s)"
      ],
      "text/plain": [
       "<IPython.core.display.HTML object>"
      ]
     },
     "metadata": {},
     "output_type": "display_data"
    },
    {
     "data": {
      "text/html": [
       "Find logs at: <code>./wandb/run-20250119_183434-7jpl6d5o/logs</code>"
      ],
      "text/plain": [
       "<IPython.core.display.HTML object>"
      ]
     },
     "metadata": {},
     "output_type": "display_data"
    },
    {
     "name": "stdout",
     "output_type": "stream",
     "text": [
      "lr:0.01-b:32-d_c:0.2, d_f:0.2\n"
     ]
    },
    {
     "data": {
      "text/html": [
       "Tracking run with wandb version 0.19.1"
      ],
      "text/plain": [
       "<IPython.core.display.HTML object>"
      ]
     },
     "metadata": {},
     "output_type": "display_data"
    },
    {
     "data": {
      "text/html": [
       "Run data is saved locally in <code>/home/migoox/dev/ml-dogs-sharepoint/notebook/training/wandb/run-20250119_183501-e9zp6h0y</code>"
      ],
      "text/plain": [
       "<IPython.core.display.HTML object>"
      ]
     },
     "metadata": {},
     "output_type": "display_data"
    },
    {
     "data": {
      "text/html": [
       "Syncing run <strong><a href='https://wandb.ai/mldogs-wut/iml_final_tests/runs/e9zp6h0y' target=\"_blank\">lr:0.01-b:32-d_c:0.2, d_f:0.2</a></strong> to <a href='https://wandb.ai/mldogs-wut/iml_final_tests' target=\"_blank\">Weights & Biases</a> (<a href='https://wandb.me/developer-guide' target=\"_blank\">docs</a>)<br>"
      ],
      "text/plain": [
       "<IPython.core.display.HTML object>"
      ]
     },
     "metadata": {},
     "output_type": "display_data"
    },
    {
     "data": {
      "text/html": [
       " View project at <a href='https://wandb.ai/mldogs-wut/iml_final_tests' target=\"_blank\">https://wandb.ai/mldogs-wut/iml_final_tests</a>"
      ],
      "text/plain": [
       "<IPython.core.display.HTML object>"
      ]
     },
     "metadata": {},
     "output_type": "display_data"
    },
    {
     "data": {
      "text/html": [
       " View run at <a href='https://wandb.ai/mldogs-wut/iml_final_tests/runs/e9zp6h0y' target=\"_blank\">https://wandb.ai/mldogs-wut/iml_final_tests/runs/e9zp6h0y</a>"
      ],
      "text/plain": [
       "<IPython.core.display.HTML object>"
      ]
     },
     "metadata": {},
     "output_type": "display_data"
    },
    {
     "name": "stdout",
     "output_type": "stream",
     "text": [
      "Epoch 1/30, Loss: 2.6680, F1 Score: 0.4113\n",
      "Epoch 2/30, Loss: 2.3325, F1 Score: 0.3996\n",
      "Epoch 3/30, Loss: 1.7831, F1 Score: 0.3996\n",
      "Epoch 4/30, Loss: 2.0921, F1 Score: 0.3996\n",
      "Epoch 5/30, Loss: 2.1093, F1 Score: 0.3996\n",
      "Epoch 6/30, Loss: 2.0063, F1 Score: 0.3996\n",
      "Epoch 7/30, Loss: 2.7525, F1 Score: 0.3996\n",
      "Epoch 8/30, Loss: 2.2612, F1 Score: 0.3996\n",
      "Epoch 9/30, Loss: 2.0221, F1 Score: 0.3996\n",
      "Epoch 10/30, Loss: 2.3114, F1 Score: 0.3996\n",
      "Epoch 11/30, Loss: 2.0538, F1 Score: 0.3996\n",
      "8 epochs without a val accuracy improvement. Stopping the train\n",
      "Training complete.\n"
     ]
    },
    {
     "data": {
      "text/html": [],
      "text/plain": [
       "<IPython.core.display.HTML object>"
      ]
     },
     "metadata": {},
     "output_type": "display_data"
    },
    {
     "data": {
      "text/html": [
       "<br>    <style><br>        .wandb-row {<br>            display: flex;<br>            flex-direction: row;<br>            flex-wrap: wrap;<br>            justify-content: flex-start;<br>            width: 100%;<br>        }<br>        .wandb-col {<br>            display: flex;<br>            flex-direction: column;<br>            flex-basis: 100%;<br>            flex: 1;<br>            padding: 10px;<br>        }<br>    </style><br><div class=\"wandb-row\"><div class=\"wandb-col\"><h3>Run history:</h3><br/><table class=\"wandb\"><tr><td>train/accuracy</td><td>▂▄█▇▆▅▄▇▆▄▇▄▆█▄▃▅▆█▅▅▅▆▇▅▅▄▆▅▁█▄▆▇▄▆▆▃▄▇</td></tr><tr><td>train/loss</td><td>▃▅▁▂▂▄▅▂▃▅▂▆▅▅▃▅▆▄▃▁▄▃▄▂▃▄█▂▁▅▄▂▅▄▃▅▅▅▅▂</td></tr><tr><td>validation/accuracy</td><td>▁▁▁▁▁▁▁▁▁▁▁</td></tr><tr><td>validation/loss</td><td>▁▁▁▁▁▁▁▁▁▁▁</td></tr></table><br/></div><div class=\"wandb-col\"><h3>Run summary:</h3><br/><table class=\"wandb\"><tr><td>train/accuracy</td><td>0.67831</td></tr><tr><td>train/loss</td><td>32.16912</td></tr><tr><td>validation/accuracy</td><td>0.66927</td></tr><tr><td>validation/loss</td><td>33.07292</td></tr></table><br/></div></div>"
      ],
      "text/plain": [
       "<IPython.core.display.HTML object>"
      ]
     },
     "metadata": {},
     "output_type": "display_data"
    },
    {
     "data": {
      "text/html": [
       " View run <strong style=\"color:#cdcd00\">lr:0.01-b:32-d_c:0.2, d_f:0.2</strong> at: <a href='https://wandb.ai/mldogs-wut/iml_final_tests/runs/e9zp6h0y' target=\"_blank\">https://wandb.ai/mldogs-wut/iml_final_tests/runs/e9zp6h0y</a><br> View project at: <a href='https://wandb.ai/mldogs-wut/iml_final_tests' target=\"_blank\">https://wandb.ai/mldogs-wut/iml_final_tests</a><br>Synced 5 W&B file(s), 0 media file(s), 0 artifact file(s) and 0 other file(s)"
      ],
      "text/plain": [
       "<IPython.core.display.HTML object>"
      ]
     },
     "metadata": {},
     "output_type": "display_data"
    },
    {
     "data": {
      "text/html": [
       "Find logs at: <code>./wandb/run-20250119_183501-e9zp6h0y/logs</code>"
      ],
      "text/plain": [
       "<IPython.core.display.HTML object>"
      ]
     },
     "metadata": {},
     "output_type": "display_data"
    },
    {
     "name": "stdout",
     "output_type": "stream",
     "text": [
      "lr:0.01-b:32-d_c:0.2, d_f:0.4\n"
     ]
    },
    {
     "data": {
      "text/html": [
       "Tracking run with wandb version 0.19.1"
      ],
      "text/plain": [
       "<IPython.core.display.HTML object>"
      ]
     },
     "metadata": {},
     "output_type": "display_data"
    },
    {
     "data": {
      "text/html": [
       "Run data is saved locally in <code>/home/migoox/dev/ml-dogs-sharepoint/notebook/training/wandb/run-20250119_183527-dls22muv</code>"
      ],
      "text/plain": [
       "<IPython.core.display.HTML object>"
      ]
     },
     "metadata": {},
     "output_type": "display_data"
    },
    {
     "data": {
      "text/html": [
       "Syncing run <strong><a href='https://wandb.ai/mldogs-wut/iml_final_tests/runs/dls22muv' target=\"_blank\">lr:0.01-b:32-d_c:0.2, d_f:0.4</a></strong> to <a href='https://wandb.ai/mldogs-wut/iml_final_tests' target=\"_blank\">Weights & Biases</a> (<a href='https://wandb.me/developer-guide' target=\"_blank\">docs</a>)<br>"
      ],
      "text/plain": [
       "<IPython.core.display.HTML object>"
      ]
     },
     "metadata": {},
     "output_type": "display_data"
    },
    {
     "data": {
      "text/html": [
       " View project at <a href='https://wandb.ai/mldogs-wut/iml_final_tests' target=\"_blank\">https://wandb.ai/mldogs-wut/iml_final_tests</a>"
      ],
      "text/plain": [
       "<IPython.core.display.HTML object>"
      ]
     },
     "metadata": {},
     "output_type": "display_data"
    },
    {
     "data": {
      "text/html": [
       " View run at <a href='https://wandb.ai/mldogs-wut/iml_final_tests/runs/dls22muv' target=\"_blank\">https://wandb.ai/mldogs-wut/iml_final_tests/runs/dls22muv</a>"
      ],
      "text/plain": [
       "<IPython.core.display.HTML object>"
      ]
     },
     "metadata": {},
     "output_type": "display_data"
    },
    {
     "name": "stdout",
     "output_type": "stream",
     "text": [
      "Epoch 1/30, Loss: 2.3154, F1 Score: 0.4101\n",
      "Epoch 2/30, Loss: 2.0736, F1 Score: 0.3996\n",
      "Epoch 3/30, Loss: 2.0050, F1 Score: 0.3996\n",
      "Epoch 4/30, Loss: 2.1080, F1 Score: 0.3996\n",
      "Epoch 5/30, Loss: 1.8346, F1 Score: 0.3996\n",
      "Epoch 6/30, Loss: 2.2084, F1 Score: 0.3996\n",
      "Epoch 7/30, Loss: 2.7050, F1 Score: 0.3996\n",
      "Epoch 8/30, Loss: 2.3629, F1 Score: 0.3996\n",
      "Epoch 9/30, Loss: 1.8319, F1 Score: 0.3996\n",
      "Epoch 10/30, Loss: 2.0208, F1 Score: 0.3996\n",
      "Epoch 11/30, Loss: 2.4474, F1 Score: 0.3996\n",
      "8 epochs without a val accuracy improvement. Stopping the train\n",
      "Training complete.\n"
     ]
    },
    {
     "data": {
      "text/html": [],
      "text/plain": [
       "<IPython.core.display.HTML object>"
      ]
     },
     "metadata": {},
     "output_type": "display_data"
    },
    {
     "data": {
      "text/html": [
       "<br>    <style><br>        .wandb-row {<br>            display: flex;<br>            flex-direction: row;<br>            flex-wrap: wrap;<br>            justify-content: flex-start;<br>            width: 100%;<br>        }<br>        .wandb-col {<br>            display: flex;<br>            flex-direction: column;<br>            flex-basis: 100%;<br>            flex: 1;<br>            padding: 10px;<br>        }<br>    </style><br><div class=\"wandb-row\"><div class=\"wandb-col\"><h3>Run history:</h3><br/><table class=\"wandb\"><tr><td>train/accuracy</td><td>▂▅▂▆▄▇▃▂▅▂▄▂▃█▃▆▄▃▃▂▂▄▄▅▆▄▃▃▇▄▁█▃▃▄▃▄▃▇▂</td></tr><tr><td>train/loss</td><td>▂▄▆▃▄▂▅▆▄▃▅▅▆▅▁▅▄█▃▄▆▄▅▃▃▆▄▅▂▄▇▁▅▄▇▅▄▅▂▆</td></tr><tr><td>validation/accuracy</td><td>▁▁▁▁▁▁▁▁▁▁▁</td></tr><tr><td>validation/loss</td><td>▁▁▁▁▁▁▁▁▁▁▁</td></tr></table><br/></div><div class=\"wandb-col\"><h3>Run summary:</h3><br/><table class=\"wandb\"><tr><td>train/accuracy</td><td>0.65165</td></tr><tr><td>train/loss</td><td>34.83456</td></tr><tr><td>validation/accuracy</td><td>0.66927</td></tr><tr><td>validation/loss</td><td>33.07292</td></tr></table><br/></div></div>"
      ],
      "text/plain": [
       "<IPython.core.display.HTML object>"
      ]
     },
     "metadata": {},
     "output_type": "display_data"
    },
    {
     "data": {
      "text/html": [
       " View run <strong style=\"color:#cdcd00\">lr:0.01-b:32-d_c:0.2, d_f:0.4</strong> at: <a href='https://wandb.ai/mldogs-wut/iml_final_tests/runs/dls22muv' target=\"_blank\">https://wandb.ai/mldogs-wut/iml_final_tests/runs/dls22muv</a><br> View project at: <a href='https://wandb.ai/mldogs-wut/iml_final_tests' target=\"_blank\">https://wandb.ai/mldogs-wut/iml_final_tests</a><br>Synced 5 W&B file(s), 0 media file(s), 0 artifact file(s) and 0 other file(s)"
      ],
      "text/plain": [
       "<IPython.core.display.HTML object>"
      ]
     },
     "metadata": {},
     "output_type": "display_data"
    },
    {
     "data": {
      "text/html": [
       "Find logs at: <code>./wandb/run-20250119_183527-dls22muv/logs</code>"
      ],
      "text/plain": [
       "<IPython.core.display.HTML object>"
      ]
     },
     "metadata": {},
     "output_type": "display_data"
    },
    {
     "name": "stdout",
     "output_type": "stream",
     "text": [
      "lr:0.01-b:32-d_c:0.4, d_f:0\n"
     ]
    },
    {
     "data": {
      "text/html": [
       "Tracking run with wandb version 0.19.1"
      ],
      "text/plain": [
       "<IPython.core.display.HTML object>"
      ]
     },
     "metadata": {},
     "output_type": "display_data"
    },
    {
     "data": {
      "text/html": [
       "Run data is saved locally in <code>/home/migoox/dev/ml-dogs-sharepoint/notebook/training/wandb/run-20250119_183553-pi5da4qi</code>"
      ],
      "text/plain": [
       "<IPython.core.display.HTML object>"
      ]
     },
     "metadata": {},
     "output_type": "display_data"
    },
    {
     "data": {
      "text/html": [
       "Syncing run <strong><a href='https://wandb.ai/mldogs-wut/iml_final_tests/runs/pi5da4qi' target=\"_blank\">lr:0.01-b:32-d_c:0.4, d_f:0</a></strong> to <a href='https://wandb.ai/mldogs-wut/iml_final_tests' target=\"_blank\">Weights & Biases</a> (<a href='https://wandb.me/developer-guide' target=\"_blank\">docs</a>)<br>"
      ],
      "text/plain": [
       "<IPython.core.display.HTML object>"
      ]
     },
     "metadata": {},
     "output_type": "display_data"
    },
    {
     "data": {
      "text/html": [
       " View project at <a href='https://wandb.ai/mldogs-wut/iml_final_tests' target=\"_blank\">https://wandb.ai/mldogs-wut/iml_final_tests</a>"
      ],
      "text/plain": [
       "<IPython.core.display.HTML object>"
      ]
     },
     "metadata": {},
     "output_type": "display_data"
    },
    {
     "data": {
      "text/html": [
       " View run at <a href='https://wandb.ai/mldogs-wut/iml_final_tests/runs/pi5da4qi' target=\"_blank\">https://wandb.ai/mldogs-wut/iml_final_tests/runs/pi5da4qi</a>"
      ],
      "text/plain": [
       "<IPython.core.display.HTML object>"
      ]
     },
     "metadata": {},
     "output_type": "display_data"
    },
    {
     "name": "stdout",
     "output_type": "stream",
     "text": [
      "Epoch 1/30, Loss: 2.2242, F1 Score: 0.3996\n",
      "Epoch 2/30, Loss: 2.6706, F1 Score: 0.3996\n",
      "Epoch 3/30, Loss: 2.0036, F1 Score: 0.3996\n",
      "Epoch 4/30, Loss: 2.2242, F1 Score: 0.3996\n",
      "Epoch 5/30, Loss: 2.6020, F1 Score: 0.3996\n",
      "Epoch 6/30, Loss: 2.3603, F1 Score: 0.3996\n",
      "Epoch 7/30, Loss: 2.1423, F1 Score: 0.3996\n",
      "Epoch 8/30, Loss: 2.4303, F1 Score: 0.3996\n",
      "Epoch 9/30, Loss: 1.9218, F1 Score: 0.3996\n",
      "Epoch 10/30, Loss: 2.3286, F1 Score: 0.3996\n",
      "Epoch 11/30, Loss: 2.4289, F1 Score: 0.3996\n",
      "8 epochs without a val accuracy improvement. Stopping the train\n",
      "Training complete.\n"
     ]
    },
    {
     "data": {
      "text/html": [],
      "text/plain": [
       "<IPython.core.display.HTML object>"
      ]
     },
     "metadata": {},
     "output_type": "display_data"
    },
    {
     "data": {
      "text/html": [
       "<br>    <style><br>        .wandb-row {<br>            display: flex;<br>            flex-direction: row;<br>            flex-wrap: wrap;<br>            justify-content: flex-start;<br>            width: 100%;<br>        }<br>        .wandb-col {<br>            display: flex;<br>            flex-direction: column;<br>            flex-basis: 100%;<br>            flex: 1;<br>            padding: 10px;<br>        }<br>    </style><br><div class=\"wandb-row\"><div class=\"wandb-col\"><h3>Run history:</h3><br/><table class=\"wandb\"><tr><td>train/accuracy</td><td>▆▅▅▅█▆▅▄▃▅▇▁▇▄▃▆▆▄▅▄▂▄▅▄▄▅█▁▄█▃▄▆▅▅▃▅▅▇▃</td></tr><tr><td>train/loss</td><td>▃▃▄▄▄▅▃▄▅▅▂▇▂▇▃▄▁▅▂▇▄▅▅▂▄▃█▃▅▁▅▅▃▄▄▆▄▄▁▆</td></tr><tr><td>validation/accuracy</td><td>▁▁▁▁▁▁▁▁▁▁▁</td></tr><tr><td>validation/loss</td><td>▁▁▁▁▁▁▁▁▁▁▁</td></tr></table><br/></div><div class=\"wandb-col\"><h3>Run summary:</h3><br/><table class=\"wandb\"><tr><td>train/accuracy</td><td>0.65074</td></tr><tr><td>train/loss</td><td>34.92647</td></tr><tr><td>validation/accuracy</td><td>0.66927</td></tr><tr><td>validation/loss</td><td>33.07292</td></tr></table><br/></div></div>"
      ],
      "text/plain": [
       "<IPython.core.display.HTML object>"
      ]
     },
     "metadata": {},
     "output_type": "display_data"
    },
    {
     "data": {
      "text/html": [
       " View run <strong style=\"color:#cdcd00\">lr:0.01-b:32-d_c:0.4, d_f:0</strong> at: <a href='https://wandb.ai/mldogs-wut/iml_final_tests/runs/pi5da4qi' target=\"_blank\">https://wandb.ai/mldogs-wut/iml_final_tests/runs/pi5da4qi</a><br> View project at: <a href='https://wandb.ai/mldogs-wut/iml_final_tests' target=\"_blank\">https://wandb.ai/mldogs-wut/iml_final_tests</a><br>Synced 5 W&B file(s), 0 media file(s), 0 artifact file(s) and 0 other file(s)"
      ],
      "text/plain": [
       "<IPython.core.display.HTML object>"
      ]
     },
     "metadata": {},
     "output_type": "display_data"
    },
    {
     "data": {
      "text/html": [
       "Find logs at: <code>./wandb/run-20250119_183553-pi5da4qi/logs</code>"
      ],
      "text/plain": [
       "<IPython.core.display.HTML object>"
      ]
     },
     "metadata": {},
     "output_type": "display_data"
    },
    {
     "name": "stdout",
     "output_type": "stream",
     "text": [
      "lr:0.01-b:32-d_c:0.4, d_f:0.2\n"
     ]
    },
    {
     "data": {
      "text/html": [
       "Tracking run with wandb version 0.19.1"
      ],
      "text/plain": [
       "<IPython.core.display.HTML object>"
      ]
     },
     "metadata": {},
     "output_type": "display_data"
    },
    {
     "data": {
      "text/html": [
       "Run data is saved locally in <code>/home/migoox/dev/ml-dogs-sharepoint/notebook/training/wandb/run-20250119_183619-sw7d87ki</code>"
      ],
      "text/plain": [
       "<IPython.core.display.HTML object>"
      ]
     },
     "metadata": {},
     "output_type": "display_data"
    },
    {
     "data": {
      "text/html": [
       "Syncing run <strong><a href='https://wandb.ai/mldogs-wut/iml_final_tests/runs/sw7d87ki' target=\"_blank\">lr:0.01-b:32-d_c:0.4, d_f:0.2</a></strong> to <a href='https://wandb.ai/mldogs-wut/iml_final_tests' target=\"_blank\">Weights & Biases</a> (<a href='https://wandb.me/developer-guide' target=\"_blank\">docs</a>)<br>"
      ],
      "text/plain": [
       "<IPython.core.display.HTML object>"
      ]
     },
     "metadata": {},
     "output_type": "display_data"
    },
    {
     "data": {
      "text/html": [
       " View project at <a href='https://wandb.ai/mldogs-wut/iml_final_tests' target=\"_blank\">https://wandb.ai/mldogs-wut/iml_final_tests</a>"
      ],
      "text/plain": [
       "<IPython.core.display.HTML object>"
      ]
     },
     "metadata": {},
     "output_type": "display_data"
    },
    {
     "data": {
      "text/html": [
       " View run at <a href='https://wandb.ai/mldogs-wut/iml_final_tests/runs/sw7d87ki' target=\"_blank\">https://wandb.ai/mldogs-wut/iml_final_tests/runs/sw7d87ki</a>"
      ],
      "text/plain": [
       "<IPython.core.display.HTML object>"
      ]
     },
     "metadata": {},
     "output_type": "display_data"
    },
    {
     "name": "stdout",
     "output_type": "stream",
     "text": [
      "Epoch 1/30, Loss: 1.7501, F1 Score: 0.4071\n",
      "Epoch 2/30, Loss: 2.0221, F1 Score: 0.3996\n",
      "Epoch 3/30, Loss: 1.9865, F1 Score: 0.3996\n",
      "Epoch 4/30, Loss: 2.2599, F1 Score: 0.3996\n",
      "Epoch 5/30, Loss: 2.7565, F1 Score: 0.3996\n",
      "Epoch 6/30, Loss: 2.3801, F1 Score: 0.3996\n",
      "Epoch 7/30, Loss: 2.7037, F1 Score: 0.3996\n",
      "Epoch 8/30, Loss: 2.1423, F1 Score: 0.3996\n",
      "Epoch 9/30, Loss: 2.1370, F1 Score: 0.3996\n",
      "Epoch 10/30, Loss: 2.1225, F1 Score: 0.3996\n",
      "Epoch 11/30, Loss: 2.2440, F1 Score: 0.3996\n",
      "8 epochs without a val accuracy improvement. Stopping the train\n",
      "Training complete.\n"
     ]
    },
    {
     "data": {
      "text/html": [],
      "text/plain": [
       "<IPython.core.display.HTML object>"
      ]
     },
     "metadata": {},
     "output_type": "display_data"
    },
    {
     "data": {
      "text/html": [
       "<br>    <style><br>        .wandb-row {<br>            display: flex;<br>            flex-direction: row;<br>            flex-wrap: wrap;<br>            justify-content: flex-start;<br>            width: 100%;<br>        }<br>        .wandb-col {<br>            display: flex;<br>            flex-direction: column;<br>            flex-basis: 100%;<br>            flex: 1;<br>            padding: 10px;<br>        }<br>    </style><br><div class=\"wandb-row\"><div class=\"wandb-col\"><h3>Run history:</h3><br/><table class=\"wandb\"><tr><td>train/accuracy</td><td>▁▃▃▇▅▄▄▂▅▆▆▂▇▆▆▇▆▅▅▃█▄█▇▆█▁█▄▆▄▃▄▆▃▄▆▄▅▄</td></tr><tr><td>train/loss</td><td>▃▆▆▄▂▅▅▅▇▄▇▂▃▃▆▂▃▄▄▆▁▅▆▁▅▁█▁▅▃▅▆▅▃▆▅▃▅▄▅</td></tr><tr><td>validation/accuracy</td><td>▁▁▁▁▁▁▁▁▁▁▁</td></tr><tr><td>validation/loss</td><td>▁▁▁▁▁▁▁▁▁▁▁</td></tr></table><br/></div><div class=\"wandb-col\"><h3>Run summary:</h3><br/><table class=\"wandb\"><tr><td>train/accuracy</td><td>0.65901</td></tr><tr><td>train/loss</td><td>34.09926</td></tr><tr><td>validation/accuracy</td><td>0.66927</td></tr><tr><td>validation/loss</td><td>33.07292</td></tr></table><br/></div></div>"
      ],
      "text/plain": [
       "<IPython.core.display.HTML object>"
      ]
     },
     "metadata": {},
     "output_type": "display_data"
    },
    {
     "data": {
      "text/html": [
       " View run <strong style=\"color:#cdcd00\">lr:0.01-b:32-d_c:0.4, d_f:0.2</strong> at: <a href='https://wandb.ai/mldogs-wut/iml_final_tests/runs/sw7d87ki' target=\"_blank\">https://wandb.ai/mldogs-wut/iml_final_tests/runs/sw7d87ki</a><br> View project at: <a href='https://wandb.ai/mldogs-wut/iml_final_tests' target=\"_blank\">https://wandb.ai/mldogs-wut/iml_final_tests</a><br>Synced 5 W&B file(s), 0 media file(s), 0 artifact file(s) and 0 other file(s)"
      ],
      "text/plain": [
       "<IPython.core.display.HTML object>"
      ]
     },
     "metadata": {},
     "output_type": "display_data"
    },
    {
     "data": {
      "text/html": [
       "Find logs at: <code>./wandb/run-20250119_183619-sw7d87ki/logs</code>"
      ],
      "text/plain": [
       "<IPython.core.display.HTML object>"
      ]
     },
     "metadata": {},
     "output_type": "display_data"
    },
    {
     "name": "stdout",
     "output_type": "stream",
     "text": [
      "lr:0.01-b:32-d_c:0.4, d_f:0.4\n"
     ]
    },
    {
     "data": {
      "text/html": [
       "Tracking run with wandb version 0.19.1"
      ],
      "text/plain": [
       "<IPython.core.display.HTML object>"
      ]
     },
     "metadata": {},
     "output_type": "display_data"
    },
    {
     "data": {
      "text/html": [
       "Run data is saved locally in <code>/home/migoox/dev/ml-dogs-sharepoint/notebook/training/wandb/run-20250119_183645-k8bmk3ks</code>"
      ],
      "text/plain": [
       "<IPython.core.display.HTML object>"
      ]
     },
     "metadata": {},
     "output_type": "display_data"
    },
    {
     "data": {
      "text/html": [
       "Syncing run <strong><a href='https://wandb.ai/mldogs-wut/iml_final_tests/runs/k8bmk3ks' target=\"_blank\">lr:0.01-b:32-d_c:0.4, d_f:0.4</a></strong> to <a href='https://wandb.ai/mldogs-wut/iml_final_tests' target=\"_blank\">Weights & Biases</a> (<a href='https://wandb.me/developer-guide' target=\"_blank\">docs</a>)<br>"
      ],
      "text/plain": [
       "<IPython.core.display.HTML object>"
      ]
     },
     "metadata": {},
     "output_type": "display_data"
    },
    {
     "data": {
      "text/html": [
       " View project at <a href='https://wandb.ai/mldogs-wut/iml_final_tests' target=\"_blank\">https://wandb.ai/mldogs-wut/iml_final_tests</a>"
      ],
      "text/plain": [
       "<IPython.core.display.HTML object>"
      ]
     },
     "metadata": {},
     "output_type": "display_data"
    },
    {
     "data": {
      "text/html": [
       " View run at <a href='https://wandb.ai/mldogs-wut/iml_final_tests/runs/k8bmk3ks' target=\"_blank\">https://wandb.ai/mldogs-wut/iml_final_tests/runs/k8bmk3ks</a>"
      ],
      "text/plain": [
       "<IPython.core.display.HTML object>"
      ]
     },
     "metadata": {},
     "output_type": "display_data"
    },
    {
     "name": "stdout",
     "output_type": "stream",
     "text": [
      "Epoch 1/30, Loss: 1.8518, F1 Score: 0.3991\n",
      "Epoch 2/30, Loss: 2.2757, F1 Score: 0.3996\n",
      "Epoch 3/30, Loss: 2.2625, F1 Score: 0.3996\n",
      "Epoch 4/30, Loss: 2.3286, F1 Score: 0.3996\n",
      "Epoch 5/30, Loss: 2.0565, F1 Score: 0.3996\n",
      "Epoch 6/30, Loss: 2.0552, F1 Score: 0.3996\n",
      "Epoch 7/30, Loss: 2.0895, F1 Score: 0.3996\n",
      "Epoch 8/30, Loss: 2.2638, F1 Score: 0.3996\n",
      "Epoch 9/30, Loss: 2.4303, F1 Score: 0.3996\n",
      "Epoch 10/30, Loss: 2.6350, F1 Score: 0.3996\n",
      "Epoch 11/30, Loss: 2.1080, F1 Score: 0.3996\n",
      "8 epochs without a val accuracy improvement. Stopping the train\n",
      "Training complete.\n"
     ]
    },
    {
     "data": {
      "text/html": [],
      "text/plain": [
       "<IPython.core.display.HTML object>"
      ]
     },
     "metadata": {},
     "output_type": "display_data"
    },
    {
     "data": {
      "text/html": [
       "<br>    <style><br>        .wandb-row {<br>            display: flex;<br>            flex-direction: row;<br>            flex-wrap: wrap;<br>            justify-content: flex-start;<br>            width: 100%;<br>        }<br>        .wandb-col {<br>            display: flex;<br>            flex-direction: column;<br>            flex-basis: 100%;<br>            flex: 1;<br>            padding: 10px;<br>        }<br>    </style><br><div class=\"wandb-row\"><div class=\"wandb-col\"><h3>Run history:</h3><br/><table class=\"wandb\"><tr><td>train/accuracy</td><td>▃▁▄▄▇▃▄▃▆▅▄▄▄▆▃▆▄▃▄▂▄█▄▆▅▅▂▅▂█▅▅▆▃▆▃▅▂▃▆</td></tr><tr><td>train/loss</td><td>▃▅▅▃▁▆█▅▇▄▄▅▅▅▃▅▃▅▆▇▆▆▁▅▄▇▄▄▇▁▄▆▄▃▆▃▄▇▆▃</td></tr><tr><td>validation/accuracy</td><td>▁▁▁▁▁▁▁▁▁▁▁</td></tr><tr><td>validation/loss</td><td>▁▁▁▁▁▁▁▁▁▁▁</td></tr></table><br/></div><div class=\"wandb-col\"><h3>Run summary:</h3><br/><table class=\"wandb\"><tr><td>train/accuracy</td><td>0.68015</td></tr><tr><td>train/loss</td><td>31.98529</td></tr><tr><td>validation/accuracy</td><td>0.66927</td></tr><tr><td>validation/loss</td><td>33.07292</td></tr></table><br/></div></div>"
      ],
      "text/plain": [
       "<IPython.core.display.HTML object>"
      ]
     },
     "metadata": {},
     "output_type": "display_data"
    },
    {
     "data": {
      "text/html": [
       " View run <strong style=\"color:#cdcd00\">lr:0.01-b:32-d_c:0.4, d_f:0.4</strong> at: <a href='https://wandb.ai/mldogs-wut/iml_final_tests/runs/k8bmk3ks' target=\"_blank\">https://wandb.ai/mldogs-wut/iml_final_tests/runs/k8bmk3ks</a><br> View project at: <a href='https://wandb.ai/mldogs-wut/iml_final_tests' target=\"_blank\">https://wandb.ai/mldogs-wut/iml_final_tests</a><br>Synced 5 W&B file(s), 0 media file(s), 0 artifact file(s) and 0 other file(s)"
      ],
      "text/plain": [
       "<IPython.core.display.HTML object>"
      ]
     },
     "metadata": {},
     "output_type": "display_data"
    },
    {
     "data": {
      "text/html": [
       "Find logs at: <code>./wandb/run-20250119_183645-k8bmk3ks/logs</code>"
      ],
      "text/plain": [
       "<IPython.core.display.HTML object>"
      ]
     },
     "metadata": {},
     "output_type": "display_data"
    },
    {
     "name": "stdout",
     "output_type": "stream",
     "text": [
      "lr:0.01-b:64-d_c:0, d_f:0\n"
     ]
    },
    {
     "data": {
      "text/html": [
       "Tracking run with wandb version 0.19.1"
      ],
      "text/plain": [
       "<IPython.core.display.HTML object>"
      ]
     },
     "metadata": {},
     "output_type": "display_data"
    },
    {
     "data": {
      "text/html": [
       "Run data is saved locally in <code>/home/migoox/dev/ml-dogs-sharepoint/notebook/training/wandb/run-20250119_183711-sclkxzdj</code>"
      ],
      "text/plain": [
       "<IPython.core.display.HTML object>"
      ]
     },
     "metadata": {},
     "output_type": "display_data"
    },
    {
     "data": {
      "text/html": [
       "Syncing run <strong><a href='https://wandb.ai/mldogs-wut/iml_final_tests/runs/sclkxzdj' target=\"_blank\">lr:0.01-b:64-d_c:0, d_f:0</a></strong> to <a href='https://wandb.ai/mldogs-wut/iml_final_tests' target=\"_blank\">Weights & Biases</a> (<a href='https://wandb.me/developer-guide' target=\"_blank\">docs</a>)<br>"
      ],
      "text/plain": [
       "<IPython.core.display.HTML object>"
      ]
     },
     "metadata": {},
     "output_type": "display_data"
    },
    {
     "data": {
      "text/html": [
       " View project at <a href='https://wandb.ai/mldogs-wut/iml_final_tests' target=\"_blank\">https://wandb.ai/mldogs-wut/iml_final_tests</a>"
      ],
      "text/plain": [
       "<IPython.core.display.HTML object>"
      ]
     },
     "metadata": {},
     "output_type": "display_data"
    },
    {
     "data": {
      "text/html": [
       " View run at <a href='https://wandb.ai/mldogs-wut/iml_final_tests/runs/sclkxzdj' target=\"_blank\">https://wandb.ai/mldogs-wut/iml_final_tests/runs/sclkxzdj</a>"
      ],
      "text/plain": [
       "<IPython.core.display.HTML object>"
      ]
     },
     "metadata": {},
     "output_type": "display_data"
    },
    {
     "name": "stdout",
     "output_type": "stream",
     "text": [
      "Epoch 1/30, Loss: 1.9363, F1 Score: 0.4083\n",
      "Epoch 2/30, Loss: 2.1767, F1 Score: 0.3996\n",
      "Epoch 3/30, Loss: 2.0393, F1 Score: 0.3996\n",
      "Epoch 4/30, Loss: 2.2255, F1 Score: 0.3996\n",
      "Epoch 5/30, Loss: 2.2427, F1 Score: 0.3996\n",
      "Epoch 6/30, Loss: 2.0895, F1 Score: 0.3996\n",
      "Epoch 7/30, Loss: 1.8174, F1 Score: 0.3996\n",
      "Epoch 8/30, Loss: 2.2440, F1 Score: 0.3996\n",
      "Epoch 9/30, Loss: 2.1555, F1 Score: 0.3996\n",
      "Epoch 10/30, Loss: 2.2929, F1 Score: 0.3996\n",
      "Epoch 11/30, Loss: 2.4448, F1 Score: 0.3996\n",
      "8 epochs without a val accuracy improvement. Stopping the train\n",
      "Training complete.\n"
     ]
    },
    {
     "data": {
      "text/html": [],
      "text/plain": [
       "<IPython.core.display.HTML object>"
      ]
     },
     "metadata": {},
     "output_type": "display_data"
    },
    {
     "data": {
      "text/html": [
       "<br>    <style><br>        .wandb-row {<br>            display: flex;<br>            flex-direction: row;<br>            flex-wrap: wrap;<br>            justify-content: flex-start;<br>            width: 100%;<br>        }<br>        .wandb-col {<br>            display: flex;<br>            flex-direction: column;<br>            flex-basis: 100%;<br>            flex: 1;<br>            padding: 10px;<br>        }<br>    </style><br><div class=\"wandb-row\"><div class=\"wandb-col\"><h3>Run history:</h3><br/><table class=\"wandb\"><tr><td>train/accuracy</td><td>▃▄▄▆▂▂▆▅▅▅▄▆▄▅█▁▅▃▄▆▃▅▅▂▄▃▅▄█▇▄▃█▄▃▆▅▇▄▅</td></tr><tr><td>train/loss</td><td>▂▅▃▅▃▃▄▄▄▅▃▄▂▄▆▅▅▂▃▄▄▆▅▁▃█▂▂▃▆▅▂▄▄▅▃▃▂▄▄</td></tr><tr><td>validation/accuracy</td><td>▁▁▁▁▁▁▁▁▁▁▁</td></tr><tr><td>validation/loss</td><td>▁▁▁▁▁▁▁▁▁▁▁</td></tr></table><br/></div><div class=\"wandb-col\"><h3>Run summary:</h3><br/><table class=\"wandb\"><tr><td>train/accuracy</td><td>0.66912</td></tr><tr><td>train/loss</td><td>33.08824</td></tr><tr><td>validation/accuracy</td><td>0.66927</td></tr><tr><td>validation/loss</td><td>33.07292</td></tr></table><br/></div></div>"
      ],
      "text/plain": [
       "<IPython.core.display.HTML object>"
      ]
     },
     "metadata": {},
     "output_type": "display_data"
    },
    {
     "data": {
      "text/html": [
       " View run <strong style=\"color:#cdcd00\">lr:0.01-b:64-d_c:0, d_f:0</strong> at: <a href='https://wandb.ai/mldogs-wut/iml_final_tests/runs/sclkxzdj' target=\"_blank\">https://wandb.ai/mldogs-wut/iml_final_tests/runs/sclkxzdj</a><br> View project at: <a href='https://wandb.ai/mldogs-wut/iml_final_tests' target=\"_blank\">https://wandb.ai/mldogs-wut/iml_final_tests</a><br>Synced 5 W&B file(s), 0 media file(s), 0 artifact file(s) and 0 other file(s)"
      ],
      "text/plain": [
       "<IPython.core.display.HTML object>"
      ]
     },
     "metadata": {},
     "output_type": "display_data"
    },
    {
     "data": {
      "text/html": [
       "Find logs at: <code>./wandb/run-20250119_183711-sclkxzdj/logs</code>"
      ],
      "text/plain": [
       "<IPython.core.display.HTML object>"
      ]
     },
     "metadata": {},
     "output_type": "display_data"
    },
    {
     "name": "stdout",
     "output_type": "stream",
     "text": [
      "lr:0.01-b:64-d_c:0, d_f:0.2\n"
     ]
    },
    {
     "data": {
      "text/html": [
       "Tracking run with wandb version 0.19.1"
      ],
      "text/plain": [
       "<IPython.core.display.HTML object>"
      ]
     },
     "metadata": {},
     "output_type": "display_data"
    },
    {
     "data": {
      "text/html": [
       "Run data is saved locally in <code>/home/migoox/dev/ml-dogs-sharepoint/notebook/training/wandb/run-20250119_183736-f3f9jkui</code>"
      ],
      "text/plain": [
       "<IPython.core.display.HTML object>"
      ]
     },
     "metadata": {},
     "output_type": "display_data"
    },
    {
     "data": {
      "text/html": [
       "Syncing run <strong><a href='https://wandb.ai/mldogs-wut/iml_final_tests/runs/f3f9jkui' target=\"_blank\">lr:0.01-b:64-d_c:0, d_f:0.2</a></strong> to <a href='https://wandb.ai/mldogs-wut/iml_final_tests' target=\"_blank\">Weights & Biases</a> (<a href='https://wandb.me/developer-guide' target=\"_blank\">docs</a>)<br>"
      ],
      "text/plain": [
       "<IPython.core.display.HTML object>"
      ]
     },
     "metadata": {},
     "output_type": "display_data"
    },
    {
     "data": {
      "text/html": [
       " View project at <a href='https://wandb.ai/mldogs-wut/iml_final_tests' target=\"_blank\">https://wandb.ai/mldogs-wut/iml_final_tests</a>"
      ],
      "text/plain": [
       "<IPython.core.display.HTML object>"
      ]
     },
     "metadata": {},
     "output_type": "display_data"
    },
    {
     "data": {
      "text/html": [
       " View run at <a href='https://wandb.ai/mldogs-wut/iml_final_tests/runs/f3f9jkui' target=\"_blank\">https://wandb.ai/mldogs-wut/iml_final_tests/runs/f3f9jkui</a>"
      ],
      "text/plain": [
       "<IPython.core.display.HTML object>"
      ]
     },
     "metadata": {},
     "output_type": "display_data"
    },
    {
     "name": "stdout",
     "output_type": "stream",
     "text": [
      "Epoch 1/30, Loss: 1.9204, F1 Score: 0.3996\n",
      "Epoch 2/30, Loss: 2.3484, F1 Score: 0.3996\n",
      "Epoch 3/30, Loss: 1.9363, F1 Score: 0.3996\n",
      "Epoch 4/30, Loss: 1.9865, F1 Score: 0.3996\n",
      "Epoch 5/30, Loss: 2.0195, F1 Score: 0.3996\n",
      "Epoch 6/30, Loss: 2.1767, F1 Score: 0.3996\n",
      "Epoch 7/30, Loss: 1.8518, F1 Score: 0.3996\n",
      "Epoch 8/30, Loss: 2.9612, F1 Score: 0.3996\n",
      "Epoch 9/30, Loss: 2.1397, F1 Score: 0.3996\n",
      "Epoch 10/30, Loss: 1.8861, F1 Score: 0.3996\n",
      "Epoch 11/30, Loss: 1.9891, F1 Score: 0.3996\n",
      "8 epochs without a val accuracy improvement. Stopping the train\n",
      "Training complete.\n"
     ]
    },
    {
     "data": {
      "text/html": [],
      "text/plain": [
       "<IPython.core.display.HTML object>"
      ]
     },
     "metadata": {},
     "output_type": "display_data"
    },
    {
     "data": {
      "text/html": [
       "<br>    <style><br>        .wandb-row {<br>            display: flex;<br>            flex-direction: row;<br>            flex-wrap: wrap;<br>            justify-content: flex-start;<br>            width: 100%;<br>        }<br>        .wandb-col {<br>            display: flex;<br>            flex-direction: column;<br>            flex-basis: 100%;<br>            flex: 1;<br>            padding: 10px;<br>        }<br>    </style><br><div class=\"wandb-row\"><div class=\"wandb-col\"><h3>Run history:</h3><br/><table class=\"wandb\"><tr><td>train/accuracy</td><td>▄▆▂▄▄▆▃▂▅▃▄▄▆▂▃▃▆▃▅▆▅▃▁▆▅▆▆▆▆▂▁▃▆█▄▆▂▆▅▆</td></tr><tr><td>train/loss</td><td>▂▃▇▆▅▃▆▇▄▆▅▃▇▆▄▃▇▆▄▅▆▄▆▃▆▅▃▃▇█▆▃▁▅▇▇▃▄▆▃</td></tr><tr><td>validation/accuracy</td><td>▁▁▁▁▁▁▁▁▁▁▁</td></tr><tr><td>validation/loss</td><td>▁▁▁▁▁▁▁▁▁▁▁</td></tr></table><br/></div><div class=\"wandb-col\"><h3>Run summary:</h3><br/><table class=\"wandb\"><tr><td>train/accuracy</td><td>0.67831</td></tr><tr><td>train/loss</td><td>32.16912</td></tr><tr><td>validation/accuracy</td><td>0.66927</td></tr><tr><td>validation/loss</td><td>33.07292</td></tr></table><br/></div></div>"
      ],
      "text/plain": [
       "<IPython.core.display.HTML object>"
      ]
     },
     "metadata": {},
     "output_type": "display_data"
    },
    {
     "data": {
      "text/html": [
       " View run <strong style=\"color:#cdcd00\">lr:0.01-b:64-d_c:0, d_f:0.2</strong> at: <a href='https://wandb.ai/mldogs-wut/iml_final_tests/runs/f3f9jkui' target=\"_blank\">https://wandb.ai/mldogs-wut/iml_final_tests/runs/f3f9jkui</a><br> View project at: <a href='https://wandb.ai/mldogs-wut/iml_final_tests' target=\"_blank\">https://wandb.ai/mldogs-wut/iml_final_tests</a><br>Synced 5 W&B file(s), 0 media file(s), 0 artifact file(s) and 0 other file(s)"
      ],
      "text/plain": [
       "<IPython.core.display.HTML object>"
      ]
     },
     "metadata": {},
     "output_type": "display_data"
    },
    {
     "data": {
      "text/html": [
       "Find logs at: <code>./wandb/run-20250119_183736-f3f9jkui/logs</code>"
      ],
      "text/plain": [
       "<IPython.core.display.HTML object>"
      ]
     },
     "metadata": {},
     "output_type": "display_data"
    },
    {
     "name": "stdout",
     "output_type": "stream",
     "text": [
      "lr:0.01-b:64-d_c:0, d_f:0.4\n"
     ]
    },
    {
     "data": {
      "text/html": [
       "Tracking run with wandb version 0.19.1"
      ],
      "text/plain": [
       "<IPython.core.display.HTML object>"
      ]
     },
     "metadata": {},
     "output_type": "display_data"
    },
    {
     "data": {
      "text/html": [
       "Run data is saved locally in <code>/home/migoox/dev/ml-dogs-sharepoint/notebook/training/wandb/run-20250119_183802-son777c0</code>"
      ],
      "text/plain": [
       "<IPython.core.display.HTML object>"
      ]
     },
     "metadata": {},
     "output_type": "display_data"
    },
    {
     "data": {
      "text/html": [
       "Syncing run <strong><a href='https://wandb.ai/mldogs-wut/iml_final_tests/runs/son777c0' target=\"_blank\">lr:0.01-b:64-d_c:0, d_f:0.4</a></strong> to <a href='https://wandb.ai/mldogs-wut/iml_final_tests' target=\"_blank\">Weights & Biases</a> (<a href='https://wandb.me/developer-guide' target=\"_blank\">docs</a>)<br>"
      ],
      "text/plain": [
       "<IPython.core.display.HTML object>"
      ]
     },
     "metadata": {},
     "output_type": "display_data"
    },
    {
     "data": {
      "text/html": [
       " View project at <a href='https://wandb.ai/mldogs-wut/iml_final_tests' target=\"_blank\">https://wandb.ai/mldogs-wut/iml_final_tests</a>"
      ],
      "text/plain": [
       "<IPython.core.display.HTML object>"
      ]
     },
     "metadata": {},
     "output_type": "display_data"
    },
    {
     "data": {
      "text/html": [
       " View run at <a href='https://wandb.ai/mldogs-wut/iml_final_tests/runs/son777c0' target=\"_blank\">https://wandb.ai/mldogs-wut/iml_final_tests/runs/son777c0</a>"
      ],
      "text/plain": [
       "<IPython.core.display.HTML object>"
      ]
     },
     "metadata": {},
     "output_type": "display_data"
    },
    {
     "name": "stdout",
     "output_type": "stream",
     "text": [
      "Epoch 1/30, Loss: 2.4448, F1 Score: 0.4059\n",
      "Epoch 2/30, Loss: 2.2070, F1 Score: 0.3996\n",
      "Epoch 3/30, Loss: 2.3946, F1 Score: 0.3996\n",
      "Epoch 4/30, Loss: 1.9548, F1 Score: 0.3996\n",
      "Epoch 5/30, Loss: 2.4989, F1 Score: 0.3996\n",
      "Epoch 6/30, Loss: 2.1753, F1 Score: 0.3996\n",
      "Epoch 7/30, Loss: 2.3655, F1 Score: 0.3996\n",
      "Epoch 8/30, Loss: 2.6205, F1 Score: 0.3996\n",
      "Epoch 9/30, Loss: 1.8874, F1 Score: 0.3996\n",
      "Epoch 10/30, Loss: 2.3286, F1 Score: 0.3996\n",
      "Epoch 11/30, Loss: 2.3444, F1 Score: 0.3996\n",
      "8 epochs without a val accuracy improvement. Stopping the train\n",
      "Training complete.\n"
     ]
    },
    {
     "data": {
      "text/html": [],
      "text/plain": [
       "<IPython.core.display.HTML object>"
      ]
     },
     "metadata": {},
     "output_type": "display_data"
    },
    {
     "data": {
      "text/html": [
       "<br>    <style><br>        .wandb-row {<br>            display: flex;<br>            flex-direction: row;<br>            flex-wrap: wrap;<br>            justify-content: flex-start;<br>            width: 100%;<br>        }<br>        .wandb-col {<br>            display: flex;<br>            flex-direction: column;<br>            flex-basis: 100%;<br>            flex: 1;<br>            padding: 10px;<br>        }<br>    </style><br><div class=\"wandb-row\"><div class=\"wandb-col\"><h3>Run history:</h3><br/><table class=\"wandb\"><tr><td>train/accuracy</td><td>▄▅▄▅▅▃▆▇▅▄▂▇▆▅▅▃▅▆▅▅▄█▅▆▅▅▃▇▆▅▅▅▅▃▇▇▅▇▁▅</td></tr><tr><td>train/loss</td><td>▁▅▄▅▅▃▂▅▄▅▇▃▄▄▄▅▃▄▄▆▅▄▄▄▃▄▆▄▃▅▄▅▄▆▂▃▅▃█▄</td></tr><tr><td>validation/accuracy</td><td>▁▁▁▁▁▁▁▁▁▁▁</td></tr><tr><td>validation/loss</td><td>▁▁▁▁▁▁▁▁▁▁▁</td></tr></table><br/></div><div class=\"wandb-col\"><h3>Run summary:</h3><br/><table class=\"wandb\"><tr><td>train/accuracy</td><td>0.6636</td></tr><tr><td>train/loss</td><td>33.63971</td></tr><tr><td>validation/accuracy</td><td>0.66927</td></tr><tr><td>validation/loss</td><td>33.07292</td></tr></table><br/></div></div>"
      ],
      "text/plain": [
       "<IPython.core.display.HTML object>"
      ]
     },
     "metadata": {},
     "output_type": "display_data"
    },
    {
     "data": {
      "text/html": [
       " View run <strong style=\"color:#cdcd00\">lr:0.01-b:64-d_c:0, d_f:0.4</strong> at: <a href='https://wandb.ai/mldogs-wut/iml_final_tests/runs/son777c0' target=\"_blank\">https://wandb.ai/mldogs-wut/iml_final_tests/runs/son777c0</a><br> View project at: <a href='https://wandb.ai/mldogs-wut/iml_final_tests' target=\"_blank\">https://wandb.ai/mldogs-wut/iml_final_tests</a><br>Synced 5 W&B file(s), 0 media file(s), 0 artifact file(s) and 0 other file(s)"
      ],
      "text/plain": [
       "<IPython.core.display.HTML object>"
      ]
     },
     "metadata": {},
     "output_type": "display_data"
    },
    {
     "data": {
      "text/html": [
       "Find logs at: <code>./wandb/run-20250119_183802-son777c0/logs</code>"
      ],
      "text/plain": [
       "<IPython.core.display.HTML object>"
      ]
     },
     "metadata": {},
     "output_type": "display_data"
    },
    {
     "name": "stdout",
     "output_type": "stream",
     "text": [
      "lr:0.01-b:64-d_c:0.2, d_f:0\n"
     ]
    },
    {
     "data": {
      "text/html": [
       "Tracking run with wandb version 0.19.1"
      ],
      "text/plain": [
       "<IPython.core.display.HTML object>"
      ]
     },
     "metadata": {},
     "output_type": "display_data"
    },
    {
     "data": {
      "text/html": [
       "Run data is saved locally in <code>/home/migoox/dev/ml-dogs-sharepoint/notebook/training/wandb/run-20250119_183829-8ol9mten</code>"
      ],
      "text/plain": [
       "<IPython.core.display.HTML object>"
      ]
     },
     "metadata": {},
     "output_type": "display_data"
    },
    {
     "data": {
      "text/html": [
       "Syncing run <strong><a href='https://wandb.ai/mldogs-wut/iml_final_tests/runs/8ol9mten' target=\"_blank\">lr:0.01-b:64-d_c:0.2, d_f:0</a></strong> to <a href='https://wandb.ai/mldogs-wut/iml_final_tests' target=\"_blank\">Weights & Biases</a> (<a href='https://wandb.me/developer-guide' target=\"_blank\">docs</a>)<br>"
      ],
      "text/plain": [
       "<IPython.core.display.HTML object>"
      ]
     },
     "metadata": {},
     "output_type": "display_data"
    },
    {
     "data": {
      "text/html": [
       " View project at <a href='https://wandb.ai/mldogs-wut/iml_final_tests' target=\"_blank\">https://wandb.ai/mldogs-wut/iml_final_tests</a>"
      ],
      "text/plain": [
       "<IPython.core.display.HTML object>"
      ]
     },
     "metadata": {},
     "output_type": "display_data"
    },
    {
     "data": {
      "text/html": [
       " View run at <a href='https://wandb.ai/mldogs-wut/iml_final_tests/runs/8ol9mten' target=\"_blank\">https://wandb.ai/mldogs-wut/iml_final_tests/runs/8ol9mten</a>"
      ],
      "text/plain": [
       "<IPython.core.display.HTML object>"
      ]
     },
     "metadata": {},
     "output_type": "display_data"
    },
    {
     "name": "stdout",
     "output_type": "stream",
     "text": [
      "Epoch 1/30, Loss: 2.1252, F1 Score: 0.4083\n",
      "Epoch 2/30, Loss: 2.2572, F1 Score: 0.3996\n",
      "Epoch 3/30, Loss: 2.1410, F1 Score: 0.3996\n",
      "Epoch 4/30, Loss: 1.8174, F1 Score: 0.3996\n",
      "Epoch 5/30, Loss: 2.3959, F1 Score: 0.3996\n",
      "Epoch 6/30, Loss: 2.1238, F1 Score: 0.3996\n",
      "Epoch 7/30, Loss: 2.4316, F1 Score: 0.3996\n",
      "Epoch 8/30, Loss: 2.3286, F1 Score: 0.3996\n",
      "Epoch 9/30, Loss: 2.2942, F1 Score: 0.3996\n",
      "Epoch 10/30, Loss: 1.9191, F1 Score: 0.3996\n",
      "Epoch 11/30, Loss: 2.0723, F1 Score: 0.3996\n",
      "8 epochs without a val accuracy improvement. Stopping the train\n",
      "Training complete.\n"
     ]
    },
    {
     "data": {
      "text/html": [],
      "text/plain": [
       "<IPython.core.display.HTML object>"
      ]
     },
     "metadata": {},
     "output_type": "display_data"
    },
    {
     "data": {
      "text/html": [
       "<br>    <style><br>        .wandb-row {<br>            display: flex;<br>            flex-direction: row;<br>            flex-wrap: wrap;<br>            justify-content: flex-start;<br>            width: 100%;<br>        }<br>        .wandb-col {<br>            display: flex;<br>            flex-direction: column;<br>            flex-basis: 100%;<br>            flex: 1;<br>            padding: 10px;<br>        }<br>    </style><br><div class=\"wandb-row\"><div class=\"wandb-col\"><h3>Run history:</h3><br/><table class=\"wandb\"><tr><td>train/accuracy</td><td>▄▆▅▆▄▃▆▄▇▅▅▃▆▁▆▅▅▇▄▃▆▅▆▅▄▅▃▆▇▄█▅▄▆▆▄▄█▃▅</td></tr><tr><td>train/loss</td><td>▃▆▃▃▄▄▆▃▅▂▃▄▆▆█▁▅▄▄▂▆▄▃▃▄▄▆▃▂▅▁▄▅▃▃▆▅▅▁▆</td></tr><tr><td>validation/accuracy</td><td>▁▁▁▁▁▁▁▁▁▁▁</td></tr><tr><td>validation/loss</td><td>▁▁▁▁▁▁▁▁▁▁▁</td></tr></table><br/></div><div class=\"wandb-col\"><h3>Run summary:</h3><br/><table class=\"wandb\"><tr><td>train/accuracy</td><td>0.6682</td></tr><tr><td>train/loss</td><td>33.18015</td></tr><tr><td>validation/accuracy</td><td>0.66927</td></tr><tr><td>validation/loss</td><td>33.07292</td></tr></table><br/></div></div>"
      ],
      "text/plain": [
       "<IPython.core.display.HTML object>"
      ]
     },
     "metadata": {},
     "output_type": "display_data"
    },
    {
     "data": {
      "text/html": [
       " View run <strong style=\"color:#cdcd00\">lr:0.01-b:64-d_c:0.2, d_f:0</strong> at: <a href='https://wandb.ai/mldogs-wut/iml_final_tests/runs/8ol9mten' target=\"_blank\">https://wandb.ai/mldogs-wut/iml_final_tests/runs/8ol9mten</a><br> View project at: <a href='https://wandb.ai/mldogs-wut/iml_final_tests' target=\"_blank\">https://wandb.ai/mldogs-wut/iml_final_tests</a><br>Synced 5 W&B file(s), 0 media file(s), 0 artifact file(s) and 0 other file(s)"
      ],
      "text/plain": [
       "<IPython.core.display.HTML object>"
      ]
     },
     "metadata": {},
     "output_type": "display_data"
    },
    {
     "data": {
      "text/html": [
       "Find logs at: <code>./wandb/run-20250119_183829-8ol9mten/logs</code>"
      ],
      "text/plain": [
       "<IPython.core.display.HTML object>"
      ]
     },
     "metadata": {},
     "output_type": "display_data"
    },
    {
     "name": "stdout",
     "output_type": "stream",
     "text": [
      "lr:0.01-b:64-d_c:0.2, d_f:0.2\n"
     ]
    },
    {
     "data": {
      "text/html": [
       "Tracking run with wandb version 0.19.1"
      ],
      "text/plain": [
       "<IPython.core.display.HTML object>"
      ]
     },
     "metadata": {},
     "output_type": "display_data"
    },
    {
     "data": {
      "text/html": [
       "Run data is saved locally in <code>/home/migoox/dev/ml-dogs-sharepoint/notebook/training/wandb/run-20250119_183855-va80ak5t</code>"
      ],
      "text/plain": [
       "<IPython.core.display.HTML object>"
      ]
     },
     "metadata": {},
     "output_type": "display_data"
    },
    {
     "data": {
      "text/html": [
       "Syncing run <strong><a href='https://wandb.ai/mldogs-wut/iml_final_tests/runs/va80ak5t' target=\"_blank\">lr:0.01-b:64-d_c:0.2, d_f:0.2</a></strong> to <a href='https://wandb.ai/mldogs-wut/iml_final_tests' target=\"_blank\">Weights & Biases</a> (<a href='https://wandb.me/developer-guide' target=\"_blank\">docs</a>)<br>"
      ],
      "text/plain": [
       "<IPython.core.display.HTML object>"
      ]
     },
     "metadata": {},
     "output_type": "display_data"
    },
    {
     "data": {
      "text/html": [
       " View project at <a href='https://wandb.ai/mldogs-wut/iml_final_tests' target=\"_blank\">https://wandb.ai/mldogs-wut/iml_final_tests</a>"
      ],
      "text/plain": [
       "<IPython.core.display.HTML object>"
      ]
     },
     "metadata": {},
     "output_type": "display_data"
    },
    {
     "data": {
      "text/html": [
       " View run at <a href='https://wandb.ai/mldogs-wut/iml_final_tests/runs/va80ak5t' target=\"_blank\">https://wandb.ai/mldogs-wut/iml_final_tests/runs/va80ak5t</a>"
      ],
      "text/plain": [
       "<IPython.core.display.HTML object>"
      ]
     },
     "metadata": {},
     "output_type": "display_data"
    },
    {
     "name": "stdout",
     "output_type": "stream",
     "text": [
      "Epoch 1/30, Loss: 2.1238, F1 Score: 0.3996\n",
      "Epoch 2/30, Loss: 2.2969, F1 Score: 0.3996\n",
      "Epoch 3/30, Loss: 1.9535, F1 Score: 0.3996\n",
      "Epoch 4/30, Loss: 2.3431, F1 Score: 0.3996\n",
      "Epoch 5/30, Loss: 1.9904, F1 Score: 0.3996\n",
      "Epoch 6/30, Loss: 2.2440, F1 Score: 0.3996\n",
      "Epoch 7/30, Loss: 2.3114, F1 Score: 0.3996\n",
      "Epoch 8/30, Loss: 2.0710, F1 Score: 0.3996\n",
      "Epoch 9/30, Loss: 2.4316, F1 Score: 0.3996\n",
      "Epoch 10/30, Loss: 2.0882, F1 Score: 0.3996\n",
      "Epoch 11/30, Loss: 2.4474, F1 Score: 0.3996\n",
      "8 epochs without a val accuracy improvement. Stopping the train\n",
      "Training complete.\n"
     ]
    },
    {
     "data": {
      "text/html": [],
      "text/plain": [
       "<IPython.core.display.HTML object>"
      ]
     },
     "metadata": {},
     "output_type": "display_data"
    },
    {
     "data": {
      "text/html": [
       "<br>    <style><br>        .wandb-row {<br>            display: flex;<br>            flex-direction: row;<br>            flex-wrap: wrap;<br>            justify-content: flex-start;<br>            width: 100%;<br>        }<br>        .wandb-col {<br>            display: flex;<br>            flex-direction: column;<br>            flex-basis: 100%;<br>            flex: 1;<br>            padding: 10px;<br>        }<br>    </style><br><div class=\"wandb-row\"><div class=\"wandb-col\"><h3>Run history:</h3><br/><table class=\"wandb\"><tr><td>train/accuracy</td><td>▁▄█▂▄▅▃▂▄▅▃▂▅▄▂▅▄▂▇▄▃▄▃▅▃▆▃▂▄▂▅▄▇▄▃▄▆▃▄▃</td></tr><tr><td>train/loss</td><td>▅▅▁▆▅▃▅▆▄▄▆▄▅▇▄▅▅▇▆▂▄▆▄▅▃▄▇▅▆▆▆▄▂▄▅▄█▃▆▆</td></tr><tr><td>validation/accuracy</td><td>▁▁▁▁▁▁▁▁▁▁▁</td></tr><tr><td>validation/loss</td><td>▁▁▁▁▁▁▁▁▁▁▁</td></tr></table><br/></div><div class=\"wandb-col\"><h3>Run summary:</h3><br/><table class=\"wandb\"><tr><td>train/accuracy</td><td>0.65717</td></tr><tr><td>train/loss</td><td>34.28309</td></tr><tr><td>validation/accuracy</td><td>0.66927</td></tr><tr><td>validation/loss</td><td>33.07292</td></tr></table><br/></div></div>"
      ],
      "text/plain": [
       "<IPython.core.display.HTML object>"
      ]
     },
     "metadata": {},
     "output_type": "display_data"
    },
    {
     "data": {
      "text/html": [
       " View run <strong style=\"color:#cdcd00\">lr:0.01-b:64-d_c:0.2, d_f:0.2</strong> at: <a href='https://wandb.ai/mldogs-wut/iml_final_tests/runs/va80ak5t' target=\"_blank\">https://wandb.ai/mldogs-wut/iml_final_tests/runs/va80ak5t</a><br> View project at: <a href='https://wandb.ai/mldogs-wut/iml_final_tests' target=\"_blank\">https://wandb.ai/mldogs-wut/iml_final_tests</a><br>Synced 5 W&B file(s), 0 media file(s), 0 artifact file(s) and 0 other file(s)"
      ],
      "text/plain": [
       "<IPython.core.display.HTML object>"
      ]
     },
     "metadata": {},
     "output_type": "display_data"
    },
    {
     "data": {
      "text/html": [
       "Find logs at: <code>./wandb/run-20250119_183855-va80ak5t/logs</code>"
      ],
      "text/plain": [
       "<IPython.core.display.HTML object>"
      ]
     },
     "metadata": {},
     "output_type": "display_data"
    },
    {
     "name": "stdout",
     "output_type": "stream",
     "text": [
      "lr:0.01-b:64-d_c:0.2, d_f:0.4\n"
     ]
    },
    {
     "data": {
      "text/html": [
       "Tracking run with wandb version 0.19.1"
      ],
      "text/plain": [
       "<IPython.core.display.HTML object>"
      ]
     },
     "metadata": {},
     "output_type": "display_data"
    },
    {
     "data": {
      "text/html": [
       "Run data is saved locally in <code>/home/migoox/dev/ml-dogs-sharepoint/notebook/training/wandb/run-20250119_183922-xodqlohz</code>"
      ],
      "text/plain": [
       "<IPython.core.display.HTML object>"
      ]
     },
     "metadata": {},
     "output_type": "display_data"
    },
    {
     "data": {
      "text/html": [
       "Syncing run <strong><a href='https://wandb.ai/mldogs-wut/iml_final_tests/runs/xodqlohz' target=\"_blank\">lr:0.01-b:64-d_c:0.2, d_f:0.4</a></strong> to <a href='https://wandb.ai/mldogs-wut/iml_final_tests' target=\"_blank\">Weights & Biases</a> (<a href='https://wandb.me/developer-guide' target=\"_blank\">docs</a>)<br>"
      ],
      "text/plain": [
       "<IPython.core.display.HTML object>"
      ]
     },
     "metadata": {},
     "output_type": "display_data"
    },
    {
     "data": {
      "text/html": [
       " View project at <a href='https://wandb.ai/mldogs-wut/iml_final_tests' target=\"_blank\">https://wandb.ai/mldogs-wut/iml_final_tests</a>"
      ],
      "text/plain": [
       "<IPython.core.display.HTML object>"
      ]
     },
     "metadata": {},
     "output_type": "display_data"
    },
    {
     "data": {
      "text/html": [
       " View run at <a href='https://wandb.ai/mldogs-wut/iml_final_tests/runs/xodqlohz' target=\"_blank\">https://wandb.ai/mldogs-wut/iml_final_tests/runs/xodqlohz</a>"
      ],
      "text/plain": [
       "<IPython.core.display.HTML object>"
      ]
     },
     "metadata": {},
     "output_type": "display_data"
    },
    {
     "name": "stdout",
     "output_type": "stream",
     "text": [
      "Epoch 1/30, Loss: 1.8531, F1 Score: 0.3996\n",
      "Epoch 2/30, Loss: 2.3457, F1 Score: 0.3996\n",
      "Epoch 3/30, Loss: 2.2929, F1 Score: 0.3996\n",
      "Epoch 4/30, Loss: 2.2784, F1 Score: 0.3996\n",
      "Epoch 5/30, Loss: 2.0367, F1 Score: 0.3996\n",
      "Epoch 6/30, Loss: 2.6693, F1 Score: 0.3996\n",
      "Epoch 7/30, Loss: 2.1938, F1 Score: 0.3996\n",
      "Epoch 8/30, Loss: 2.3972, F1 Score: 0.3996\n",
      "Epoch 9/30, Loss: 2.0380, F1 Score: 0.3996\n",
      "Epoch 10/30, Loss: 2.2810, F1 Score: 0.3996\n",
      "Epoch 11/30, Loss: 2.2731, F1 Score: 0.3996\n",
      "8 epochs without a val accuracy improvement. Stopping the train\n",
      "Training complete.\n"
     ]
    },
    {
     "data": {
      "text/html": [],
      "text/plain": [
       "<IPython.core.display.HTML object>"
      ]
     },
     "metadata": {},
     "output_type": "display_data"
    },
    {
     "data": {
      "text/html": [
       "<br>    <style><br>        .wandb-row {<br>            display: flex;<br>            flex-direction: row;<br>            flex-wrap: wrap;<br>            justify-content: flex-start;<br>            width: 100%;<br>        }<br>        .wandb-col {<br>            display: flex;<br>            flex-direction: column;<br>            flex-basis: 100%;<br>            flex: 1;<br>            padding: 10px;<br>        }<br>    </style><br><div class=\"wandb-row\"><div class=\"wandb-col\"><h3>Run history:</h3><br/><table class=\"wandb\"><tr><td>train/accuracy</td><td>▂▂▇▄▆▅▄▆▆▄▄▆▃▃▃▅▄▄▅▄█▂▆▅▃▆▅▁▄▃▄▁▄▆▅▆▄▄▄▃</td></tr><tr><td>train/loss</td><td>▄▇▃▇▄▃▃▅▃▆▆▃▃▄▅▄▅▆▆▁▃▄▆▂▃█▂▃▅█▃▄▄▆▃▅▅▆▃▆</td></tr><tr><td>validation/accuracy</td><td>▁▁▁▁▁▁▁▁▁▁▁</td></tr><tr><td>validation/loss</td><td>▁▁▁▁▁▁▁▁▁▁▁</td></tr></table><br/></div><div class=\"wandb-col\"><h3>Run summary:</h3><br/><table class=\"wandb\"><tr><td>train/accuracy</td><td>0.65625</td></tr><tr><td>train/loss</td><td>34.375</td></tr><tr><td>validation/accuracy</td><td>0.66927</td></tr><tr><td>validation/loss</td><td>33.07292</td></tr></table><br/></div></div>"
      ],
      "text/plain": [
       "<IPython.core.display.HTML object>"
      ]
     },
     "metadata": {},
     "output_type": "display_data"
    },
    {
     "data": {
      "text/html": [
       " View run <strong style=\"color:#cdcd00\">lr:0.01-b:64-d_c:0.2, d_f:0.4</strong> at: <a href='https://wandb.ai/mldogs-wut/iml_final_tests/runs/xodqlohz' target=\"_blank\">https://wandb.ai/mldogs-wut/iml_final_tests/runs/xodqlohz</a><br> View project at: <a href='https://wandb.ai/mldogs-wut/iml_final_tests' target=\"_blank\">https://wandb.ai/mldogs-wut/iml_final_tests</a><br>Synced 5 W&B file(s), 0 media file(s), 0 artifact file(s) and 0 other file(s)"
      ],
      "text/plain": [
       "<IPython.core.display.HTML object>"
      ]
     },
     "metadata": {},
     "output_type": "display_data"
    },
    {
     "data": {
      "text/html": [
       "Find logs at: <code>./wandb/run-20250119_183922-xodqlohz/logs</code>"
      ],
      "text/plain": [
       "<IPython.core.display.HTML object>"
      ]
     },
     "metadata": {},
     "output_type": "display_data"
    },
    {
     "name": "stdout",
     "output_type": "stream",
     "text": [
      "lr:0.01-b:64-d_c:0.4, d_f:0\n"
     ]
    },
    {
     "data": {
      "text/html": [
       "Tracking run with wandb version 0.19.1"
      ],
      "text/plain": [
       "<IPython.core.display.HTML object>"
      ]
     },
     "metadata": {},
     "output_type": "display_data"
    },
    {
     "data": {
      "text/html": [
       "Run data is saved locally in <code>/home/migoox/dev/ml-dogs-sharepoint/notebook/training/wandb/run-20250119_183947-ij8nyg8s</code>"
      ],
      "text/plain": [
       "<IPython.core.display.HTML object>"
      ]
     },
     "metadata": {},
     "output_type": "display_data"
    },
    {
     "data": {
      "text/html": [
       "Syncing run <strong><a href='https://wandb.ai/mldogs-wut/iml_final_tests/runs/ij8nyg8s' target=\"_blank\">lr:0.01-b:64-d_c:0.4, d_f:0</a></strong> to <a href='https://wandb.ai/mldogs-wut/iml_final_tests' target=\"_blank\">Weights & Biases</a> (<a href='https://wandb.me/developer-guide' target=\"_blank\">docs</a>)<br>"
      ],
      "text/plain": [
       "<IPython.core.display.HTML object>"
      ]
     },
     "metadata": {},
     "output_type": "display_data"
    },
    {
     "data": {
      "text/html": [
       " View project at <a href='https://wandb.ai/mldogs-wut/iml_final_tests' target=\"_blank\">https://wandb.ai/mldogs-wut/iml_final_tests</a>"
      ],
      "text/plain": [
       "<IPython.core.display.HTML object>"
      ]
     },
     "metadata": {},
     "output_type": "display_data"
    },
    {
     "data": {
      "text/html": [
       " View run at <a href='https://wandb.ai/mldogs-wut/iml_final_tests/runs/ij8nyg8s' target=\"_blank\">https://wandb.ai/mldogs-wut/iml_final_tests/runs/ij8nyg8s</a>"
      ],
      "text/plain": [
       "<IPython.core.display.HTML object>"
      ]
     },
     "metadata": {},
     "output_type": "display_data"
    },
    {
     "name": "stdout",
     "output_type": "stream",
     "text": [
      "Epoch 1/30, Loss: 2.2255, F1 Score: 0.4046\n",
      "Epoch 2/30, Loss: 2.2427, F1 Score: 0.3996\n",
      "Epoch 3/30, Loss: 2.3788, F1 Score: 0.3996\n",
      "Epoch 4/30, Loss: 2.5161, F1 Score: 0.3996\n",
      "Epoch 5/30, Loss: 2.5980, F1 Score: 0.3996\n",
      "Epoch 6/30, Loss: 1.9191, F1 Score: 0.3996\n",
      "Epoch 7/30, Loss: 1.8346, F1 Score: 0.3996\n",
      "Epoch 8/30, Loss: 2.2942, F1 Score: 0.3996\n",
      "Epoch 9/30, Loss: 2.0036, F1 Score: 0.3996\n",
      "Epoch 10/30, Loss: 2.1410, F1 Score: 0.3996\n",
      "Epoch 11/30, Loss: 2.1410, F1 Score: 0.3996\n",
      "8 epochs without a val accuracy improvement. Stopping the train\n",
      "Training complete.\n"
     ]
    },
    {
     "data": {
      "text/html": [],
      "text/plain": [
       "<IPython.core.display.HTML object>"
      ]
     },
     "metadata": {},
     "output_type": "display_data"
    },
    {
     "data": {
      "text/html": [
       "<br>    <style><br>        .wandb-row {<br>            display: flex;<br>            flex-direction: row;<br>            flex-wrap: wrap;<br>            justify-content: flex-start;<br>            width: 100%;<br>        }<br>        .wandb-col {<br>            display: flex;<br>            flex-direction: column;<br>            flex-basis: 100%;<br>            flex: 1;<br>            padding: 10px;<br>        }<br>    </style><br><div class=\"wandb-row\"><div class=\"wandb-col\"><h3>Run history:</h3><br/><table class=\"wandb\"><tr><td>train/accuracy</td><td>▂▇▃▅▃▄▅▅▆▃▄▅▁▇▆▄▆█▃▆▄▃▆▆▁▂▆▄▄▅▆▄▄▄▅▃▆▂▆▆</td></tr><tr><td>train/loss</td><td>█▂▆▄▆▅▄▁▄▃▅▄▅▇▂▆▅▃▆▃▅▃▃█▃▃▅▅▄▃▆▄▅▄▅▄▅▃▇▅</td></tr><tr><td>validation/accuracy</td><td>▁▁▁▁▁▁▁▁▁▁▁</td></tr><tr><td>validation/loss</td><td>▁▁▁▁▁▁▁▁▁▁▁</td></tr></table><br/></div><div class=\"wandb-col\"><h3>Run summary:</h3><br/><table class=\"wandb\"><tr><td>train/accuracy</td><td>0.67279</td></tr><tr><td>train/loss</td><td>32.72059</td></tr><tr><td>validation/accuracy</td><td>0.66927</td></tr><tr><td>validation/loss</td><td>33.07292</td></tr></table><br/></div></div>"
      ],
      "text/plain": [
       "<IPython.core.display.HTML object>"
      ]
     },
     "metadata": {},
     "output_type": "display_data"
    },
    {
     "data": {
      "text/html": [
       " View run <strong style=\"color:#cdcd00\">lr:0.01-b:64-d_c:0.4, d_f:0</strong> at: <a href='https://wandb.ai/mldogs-wut/iml_final_tests/runs/ij8nyg8s' target=\"_blank\">https://wandb.ai/mldogs-wut/iml_final_tests/runs/ij8nyg8s</a><br> View project at: <a href='https://wandb.ai/mldogs-wut/iml_final_tests' target=\"_blank\">https://wandb.ai/mldogs-wut/iml_final_tests</a><br>Synced 5 W&B file(s), 0 media file(s), 0 artifact file(s) and 0 other file(s)"
      ],
      "text/plain": [
       "<IPython.core.display.HTML object>"
      ]
     },
     "metadata": {},
     "output_type": "display_data"
    },
    {
     "data": {
      "text/html": [
       "Find logs at: <code>./wandb/run-20250119_183947-ij8nyg8s/logs</code>"
      ],
      "text/plain": [
       "<IPython.core.display.HTML object>"
      ]
     },
     "metadata": {},
     "output_type": "display_data"
    },
    {
     "name": "stdout",
     "output_type": "stream",
     "text": [
      "lr:0.01-b:64-d_c:0.4, d_f:0.2\n"
     ]
    },
    {
     "data": {
      "text/html": [
       "Tracking run with wandb version 0.19.1"
      ],
      "text/plain": [
       "<IPython.core.display.HTML object>"
      ]
     },
     "metadata": {},
     "output_type": "display_data"
    },
    {
     "data": {
      "text/html": [
       "Run data is saved locally in <code>/home/migoox/dev/ml-dogs-sharepoint/notebook/training/wandb/run-20250119_184013-ubf8oqnf</code>"
      ],
      "text/plain": [
       "<IPython.core.display.HTML object>"
      ]
     },
     "metadata": {},
     "output_type": "display_data"
    },
    {
     "data": {
      "text/html": [
       "Syncing run <strong><a href='https://wandb.ai/mldogs-wut/iml_final_tests/runs/ubf8oqnf' target=\"_blank\">lr:0.01-b:64-d_c:0.4, d_f:0.2</a></strong> to <a href='https://wandb.ai/mldogs-wut/iml_final_tests' target=\"_blank\">Weights & Biases</a> (<a href='https://wandb.me/developer-guide' target=\"_blank\">docs</a>)<br>"
      ],
      "text/plain": [
       "<IPython.core.display.HTML object>"
      ]
     },
     "metadata": {},
     "output_type": "display_data"
    },
    {
     "data": {
      "text/html": [
       " View project at <a href='https://wandb.ai/mldogs-wut/iml_final_tests' target=\"_blank\">https://wandb.ai/mldogs-wut/iml_final_tests</a>"
      ],
      "text/plain": [
       "<IPython.core.display.HTML object>"
      ]
     },
     "metadata": {},
     "output_type": "display_data"
    },
    {
     "data": {
      "text/html": [
       " View run at <a href='https://wandb.ai/mldogs-wut/iml_final_tests/runs/ubf8oqnf' target=\"_blank\">https://wandb.ai/mldogs-wut/iml_final_tests/runs/ubf8oqnf</a>"
      ],
      "text/plain": [
       "<IPython.core.display.HTML object>"
      ]
     },
     "metadata": {},
     "output_type": "display_data"
    },
    {
     "name": "stdout",
     "output_type": "stream",
     "text": [
      "Epoch 1/30, Loss: 2.2599, F1 Score: 0.4059\n",
      "Epoch 2/30, Loss: 2.2255, F1 Score: 0.3996\n",
      "Epoch 3/30, Loss: 2.4659, F1 Score: 0.3996\n",
      "Epoch 4/30, Loss: 2.1410, F1 Score: 0.3996\n",
      "Epoch 5/30, Loss: 2.3299, F1 Score: 0.3996\n",
      "Epoch 6/30, Loss: 2.2757, F1 Score: 0.3996\n",
      "Epoch 7/30, Loss: 2.2955, F1 Score: 0.3996\n",
      "Epoch 8/30, Loss: 2.6693, F1 Score: 0.3996\n",
      "Epoch 9/30, Loss: 1.9865, F1 Score: 0.3996\n",
      "Epoch 10/30, Loss: 2.1252, F1 Score: 0.3996\n",
      "Epoch 11/30, Loss: 2.0050, F1 Score: 0.3996\n",
      "8 epochs without a val accuracy improvement. Stopping the train\n",
      "Training complete.\n"
     ]
    },
    {
     "data": {
      "text/html": [],
      "text/plain": [
       "<IPython.core.display.HTML object>"
      ]
     },
     "metadata": {},
     "output_type": "display_data"
    },
    {
     "data": {
      "text/html": [
       "<br>    <style><br>        .wandb-row {<br>            display: flex;<br>            flex-direction: row;<br>            flex-wrap: wrap;<br>            justify-content: flex-start;<br>            width: 100%;<br>        }<br>        .wandb-col {<br>            display: flex;<br>            flex-direction: column;<br>            flex-basis: 100%;<br>            flex: 1;<br>            padding: 10px;<br>        }<br>    </style><br><div class=\"wandb-row\"><div class=\"wandb-col\"><h3>Run history:</h3><br/><table class=\"wandb\"><tr><td>train/accuracy</td><td>▄▄▃▅▂▄▄▄▆▃▂▃▅▆▅▂▄▃█▃▁▅▅▂▄▄▂▄▇▅▅▄▄▅▅▂▄▄▅▃</td></tr><tr><td>train/loss</td><td>▅▇▄▁█▆█▄▄▅▆█▄▂▃▅▇▄▆▆▃▄▇▅▅█▅▁▄▇▄▄▅▄▃▇▅▅▄▅</td></tr><tr><td>validation/accuracy</td><td>▁▁▁▁▁▁▁▁▁▁▁</td></tr><tr><td>validation/loss</td><td>▁▁▁▁▁▁▁▁▁▁▁</td></tr></table><br/></div><div class=\"wandb-col\"><h3>Run summary:</h3><br/><table class=\"wandb\"><tr><td>train/accuracy</td><td>0.66176</td></tr><tr><td>train/loss</td><td>33.82353</td></tr><tr><td>validation/accuracy</td><td>0.66927</td></tr><tr><td>validation/loss</td><td>33.07292</td></tr></table><br/></div></div>"
      ],
      "text/plain": [
       "<IPython.core.display.HTML object>"
      ]
     },
     "metadata": {},
     "output_type": "display_data"
    },
    {
     "data": {
      "text/html": [
       " View run <strong style=\"color:#cdcd00\">lr:0.01-b:64-d_c:0.4, d_f:0.2</strong> at: <a href='https://wandb.ai/mldogs-wut/iml_final_tests/runs/ubf8oqnf' target=\"_blank\">https://wandb.ai/mldogs-wut/iml_final_tests/runs/ubf8oqnf</a><br> View project at: <a href='https://wandb.ai/mldogs-wut/iml_final_tests' target=\"_blank\">https://wandb.ai/mldogs-wut/iml_final_tests</a><br>Synced 5 W&B file(s), 0 media file(s), 0 artifact file(s) and 0 other file(s)"
      ],
      "text/plain": [
       "<IPython.core.display.HTML object>"
      ]
     },
     "metadata": {},
     "output_type": "display_data"
    },
    {
     "data": {
      "text/html": [
       "Find logs at: <code>./wandb/run-20250119_184013-ubf8oqnf/logs</code>"
      ],
      "text/plain": [
       "<IPython.core.display.HTML object>"
      ]
     },
     "metadata": {},
     "output_type": "display_data"
    },
    {
     "name": "stdout",
     "output_type": "stream",
     "text": [
      "lr:0.01-b:64-d_c:0.4, d_f:0.4\n"
     ]
    },
    {
     "data": {
      "text/html": [
       "Tracking run with wandb version 0.19.1"
      ],
      "text/plain": [
       "<IPython.core.display.HTML object>"
      ]
     },
     "metadata": {},
     "output_type": "display_data"
    },
    {
     "data": {
      "text/html": [
       "Run data is saved locally in <code>/home/migoox/dev/ml-dogs-sharepoint/notebook/training/wandb/run-20250119_184038-c3j047x0</code>"
      ],
      "text/plain": [
       "<IPython.core.display.HTML object>"
      ]
     },
     "metadata": {},
     "output_type": "display_data"
    },
    {
     "data": {
      "text/html": [
       "Syncing run <strong><a href='https://wandb.ai/mldogs-wut/iml_final_tests/runs/c3j047x0' target=\"_blank\">lr:0.01-b:64-d_c:0.4, d_f:0.4</a></strong> to <a href='https://wandb.ai/mldogs-wut/iml_final_tests' target=\"_blank\">Weights & Biases</a> (<a href='https://wandb.me/developer-guide' target=\"_blank\">docs</a>)<br>"
      ],
      "text/plain": [
       "<IPython.core.display.HTML object>"
      ]
     },
     "metadata": {},
     "output_type": "display_data"
    },
    {
     "data": {
      "text/html": [
       " View project at <a href='https://wandb.ai/mldogs-wut/iml_final_tests' target=\"_blank\">https://wandb.ai/mldogs-wut/iml_final_tests</a>"
      ],
      "text/plain": [
       "<IPython.core.display.HTML object>"
      ]
     },
     "metadata": {},
     "output_type": "display_data"
    },
    {
     "data": {
      "text/html": [
       " View run at <a href='https://wandb.ai/mldogs-wut/iml_final_tests/runs/c3j047x0' target=\"_blank\">https://wandb.ai/mldogs-wut/iml_final_tests/runs/c3j047x0</a>"
      ],
      "text/plain": [
       "<IPython.core.display.HTML object>"
      ]
     },
     "metadata": {},
     "output_type": "display_data"
    },
    {
     "name": "stdout",
     "output_type": "stream",
     "text": [
      "Epoch 1/30, Loss: 2.2427, F1 Score: 0.4059\n",
      "Epoch 2/30, Loss: 2.6020, F1 Score: 0.3996\n",
      "Epoch 3/30, Loss: 2.2282, F1 Score: 0.3996\n",
      "Epoch 4/30, Loss: 2.1595, F1 Score: 0.3996\n",
      "Epoch 5/30, Loss: 2.0023, F1 Score: 0.3996\n",
      "Epoch 6/30, Loss: 1.9719, F1 Score: 0.3996\n",
      "Epoch 7/30, Loss: 1.9535, F1 Score: 0.3996\n",
      "Epoch 8/30, Loss: 1.6312, F1 Score: 0.3996\n",
      "Epoch 9/30, Loss: 1.9719, F1 Score: 0.3996\n",
      "Epoch 10/30, Loss: 2.3444, F1 Score: 0.3996\n",
      "Epoch 11/30, Loss: 2.2969, F1 Score: 0.3996\n",
      "8 epochs without a val accuracy improvement. Stopping the train\n",
      "Training complete.\n"
     ]
    },
    {
     "data": {
      "text/html": [],
      "text/plain": [
       "<IPython.core.display.HTML object>"
      ]
     },
     "metadata": {},
     "output_type": "display_data"
    },
    {
     "data": {
      "text/html": [
       "<br>    <style><br>        .wandb-row {<br>            display: flex;<br>            flex-direction: row;<br>            flex-wrap: wrap;<br>            justify-content: flex-start;<br>            width: 100%;<br>        }<br>        .wandb-col {<br>            display: flex;<br>            flex-direction: column;<br>            flex-basis: 100%;<br>            flex: 1;<br>            padding: 10px;<br>        }<br>    </style><br><div class=\"wandb-row\"><div class=\"wandb-col\"><h3>Run history:</h3><br/><table class=\"wandb\"><tr><td>train/accuracy</td><td>▃▅▄▆▆█▄▅▅▆▄▄▅▅█▁▃▅▄▇▆▅▇▄▄▅▅▅▆▆▅▆▆▄▆▇▄▃▇▄</td></tr><tr><td>train/loss</td><td>▂▄▆▃▃▂▅▃▄▄▅▅▄▁█▅▃▄▄▃▅▃▄▄▅▄▄▆▄▄▄▅▃▅▃▂▅▅▃▅</td></tr><tr><td>validation/accuracy</td><td>▁▁▁▁▁▁▁▁▁▁▁</td></tr><tr><td>validation/loss</td><td>▁▁▁▁▁▁▁▁▁▁▁</td></tr></table><br/></div><div class=\"wandb-col\"><h3>Run summary:</h3><br/><table class=\"wandb\"><tr><td>train/accuracy</td><td>0.65625</td></tr><tr><td>train/loss</td><td>34.375</td></tr><tr><td>validation/accuracy</td><td>0.66927</td></tr><tr><td>validation/loss</td><td>33.07292</td></tr></table><br/></div></div>"
      ],
      "text/plain": [
       "<IPython.core.display.HTML object>"
      ]
     },
     "metadata": {},
     "output_type": "display_data"
    },
    {
     "data": {
      "text/html": [
       " View run <strong style=\"color:#cdcd00\">lr:0.01-b:64-d_c:0.4, d_f:0.4</strong> at: <a href='https://wandb.ai/mldogs-wut/iml_final_tests/runs/c3j047x0' target=\"_blank\">https://wandb.ai/mldogs-wut/iml_final_tests/runs/c3j047x0</a><br> View project at: <a href='https://wandb.ai/mldogs-wut/iml_final_tests' target=\"_blank\">https://wandb.ai/mldogs-wut/iml_final_tests</a><br>Synced 5 W&B file(s), 0 media file(s), 0 artifact file(s) and 0 other file(s)"
      ],
      "text/plain": [
       "<IPython.core.display.HTML object>"
      ]
     },
     "metadata": {},
     "output_type": "display_data"
    },
    {
     "data": {
      "text/html": [
       "Find logs at: <code>./wandb/run-20250119_184038-c3j047x0/logs</code>"
      ],
      "text/plain": [
       "<IPython.core.display.HTML object>"
      ]
     },
     "metadata": {},
     "output_type": "display_data"
    },
    {
     "name": "stdout",
     "output_type": "stream",
     "text": [
      "lr:0.01-b:128-d_c:0, d_f:0\n"
     ]
    },
    {
     "data": {
      "text/html": [
       "Tracking run with wandb version 0.19.1"
      ],
      "text/plain": [
       "<IPython.core.display.HTML object>"
      ]
     },
     "metadata": {},
     "output_type": "display_data"
    },
    {
     "data": {
      "text/html": [
       "Run data is saved locally in <code>/home/migoox/dev/ml-dogs-sharepoint/notebook/training/wandb/run-20250119_184102-2jze3hk7</code>"
      ],
      "text/plain": [
       "<IPython.core.display.HTML object>"
      ]
     },
     "metadata": {},
     "output_type": "display_data"
    },
    {
     "data": {
      "text/html": [
       "Syncing run <strong><a href='https://wandb.ai/mldogs-wut/iml_final_tests/runs/2jze3hk7' target=\"_blank\">lr:0.01-b:128-d_c:0, d_f:0</a></strong> to <a href='https://wandb.ai/mldogs-wut/iml_final_tests' target=\"_blank\">Weights & Biases</a> (<a href='https://wandb.me/developer-guide' target=\"_blank\">docs</a>)<br>"
      ],
      "text/plain": [
       "<IPython.core.display.HTML object>"
      ]
     },
     "metadata": {},
     "output_type": "display_data"
    },
    {
     "data": {
      "text/html": [
       " View project at <a href='https://wandb.ai/mldogs-wut/iml_final_tests' target=\"_blank\">https://wandb.ai/mldogs-wut/iml_final_tests</a>"
      ],
      "text/plain": [
       "<IPython.core.display.HTML object>"
      ]
     },
     "metadata": {},
     "output_type": "display_data"
    },
    {
     "data": {
      "text/html": [
       " View run at <a href='https://wandb.ai/mldogs-wut/iml_final_tests/runs/2jze3hk7' target=\"_blank\">https://wandb.ai/mldogs-wut/iml_final_tests/runs/2jze3hk7</a>"
      ],
      "text/plain": [
       "<IPython.core.display.HTML object>"
      ]
     },
     "metadata": {},
     "output_type": "display_data"
    },
    {
     "name": "stdout",
     "output_type": "stream",
     "text": [
      "Epoch 1/30, Loss: 2.4659, F1 Score: 0.3996\n",
      "Epoch 2/30, Loss: 2.1740, F1 Score: 0.3996\n",
      "Epoch 3/30, Loss: 2.2784, F1 Score: 0.3996\n",
      "Epoch 4/30, Loss: 2.3959, F1 Score: 0.3996\n",
      "Epoch 5/30, Loss: 1.9548, F1 Score: 0.3996\n",
      "Epoch 6/30, Loss: 1.8689, F1 Score: 0.3996\n",
      "Epoch 7/30, Loss: 2.4316, F1 Score: 0.3996\n",
      "Epoch 8/30, Loss: 2.4118, F1 Score: 0.3996\n",
      "Epoch 9/30, Loss: 2.0565, F1 Score: 0.3996\n",
      "Epoch 10/30, Loss: 2.1952, F1 Score: 0.3996\n",
      "Epoch 11/30, Loss: 2.0525, F1 Score: 0.3996\n",
      "8 epochs without a val accuracy improvement. Stopping the train\n",
      "Training complete.\n"
     ]
    },
    {
     "data": {
      "text/html": [],
      "text/plain": [
       "<IPython.core.display.HTML object>"
      ]
     },
     "metadata": {},
     "output_type": "display_data"
    },
    {
     "data": {
      "text/html": [
       "<br>    <style><br>        .wandb-row {<br>            display: flex;<br>            flex-direction: row;<br>            flex-wrap: wrap;<br>            justify-content: flex-start;<br>            width: 100%;<br>        }<br>        .wandb-col {<br>            display: flex;<br>            flex-direction: column;<br>            flex-basis: 100%;<br>            flex: 1;<br>            padding: 10px;<br>        }<br>    </style><br><div class=\"wandb-row\"><div class=\"wandb-col\"><h3>Run history:</h3><br/><table class=\"wandb\"><tr><td>train/accuracy</td><td>▆▆▂▄▃█▂▁▅▅▄▆▄▄▅▂▁▄▄▇▂▁▅▁▄▆▃▇▄▂▁▆▃▅▅▂▇▃▂▅</td></tr><tr><td>train/loss</td><td>▄▇▆▃▁▆▄▄▄▆▃▅▅▄▁█▅▅▂▅█▅▃▃▆▅▇▄█▃▅▄▄▄▇▂▅▆▇▄</td></tr><tr><td>validation/accuracy</td><td>▁▁▁▁▁▁▁▁▁▁▁</td></tr><tr><td>validation/loss</td><td>▁▁▁▁▁▁▁▁▁▁▁</td></tr></table><br/></div><div class=\"wandb-col\"><h3>Run summary:</h3><br/><table class=\"wandb\"><tr><td>train/accuracy</td><td>0.6682</td></tr><tr><td>train/loss</td><td>33.18015</td></tr><tr><td>validation/accuracy</td><td>0.66927</td></tr><tr><td>validation/loss</td><td>33.07292</td></tr></table><br/></div></div>"
      ],
      "text/plain": [
       "<IPython.core.display.HTML object>"
      ]
     },
     "metadata": {},
     "output_type": "display_data"
    },
    {
     "data": {
      "text/html": [
       " View run <strong style=\"color:#cdcd00\">lr:0.01-b:128-d_c:0, d_f:0</strong> at: <a href='https://wandb.ai/mldogs-wut/iml_final_tests/runs/2jze3hk7' target=\"_blank\">https://wandb.ai/mldogs-wut/iml_final_tests/runs/2jze3hk7</a><br> View project at: <a href='https://wandb.ai/mldogs-wut/iml_final_tests' target=\"_blank\">https://wandb.ai/mldogs-wut/iml_final_tests</a><br>Synced 5 W&B file(s), 0 media file(s), 0 artifact file(s) and 0 other file(s)"
      ],
      "text/plain": [
       "<IPython.core.display.HTML object>"
      ]
     },
     "metadata": {},
     "output_type": "display_data"
    },
    {
     "data": {
      "text/html": [
       "Find logs at: <code>./wandb/run-20250119_184102-2jze3hk7/logs</code>"
      ],
      "text/plain": [
       "<IPython.core.display.HTML object>"
      ]
     },
     "metadata": {},
     "output_type": "display_data"
    },
    {
     "name": "stdout",
     "output_type": "stream",
     "text": [
      "lr:0.01-b:128-d_c:0, d_f:0.2\n"
     ]
    },
    {
     "data": {
      "text/html": [
       "Tracking run with wandb version 0.19.1"
      ],
      "text/plain": [
       "<IPython.core.display.HTML object>"
      ]
     },
     "metadata": {},
     "output_type": "display_data"
    },
    {
     "data": {
      "text/html": [
       "Run data is saved locally in <code>/home/migoox/dev/ml-dogs-sharepoint/notebook/training/wandb/run-20250119_184127-hmb21cx5</code>"
      ],
      "text/plain": [
       "<IPython.core.display.HTML object>"
      ]
     },
     "metadata": {},
     "output_type": "display_data"
    },
    {
     "data": {
      "text/html": [
       "Syncing run <strong><a href='https://wandb.ai/mldogs-wut/iml_final_tests/runs/hmb21cx5' target=\"_blank\">lr:0.01-b:128-d_c:0, d_f:0.2</a></strong> to <a href='https://wandb.ai/mldogs-wut/iml_final_tests' target=\"_blank\">Weights & Biases</a> (<a href='https://wandb.me/developer-guide' target=\"_blank\">docs</a>)<br>"
      ],
      "text/plain": [
       "<IPython.core.display.HTML object>"
      ]
     },
     "metadata": {},
     "output_type": "display_data"
    },
    {
     "data": {
      "text/html": [
       " View project at <a href='https://wandb.ai/mldogs-wut/iml_final_tests' target=\"_blank\">https://wandb.ai/mldogs-wut/iml_final_tests</a>"
      ],
      "text/plain": [
       "<IPython.core.display.HTML object>"
      ]
     },
     "metadata": {},
     "output_type": "display_data"
    },
    {
     "data": {
      "text/html": [
       " View run at <a href='https://wandb.ai/mldogs-wut/iml_final_tests/runs/hmb21cx5' target=\"_blank\">https://wandb.ai/mldogs-wut/iml_final_tests/runs/hmb21cx5</a>"
      ],
      "text/plain": [
       "<IPython.core.display.HTML object>"
      ]
     },
     "metadata": {},
     "output_type": "display_data"
    },
    {
     "name": "stdout",
     "output_type": "stream",
     "text": [
      "Epoch 1/30, Loss: 2.6522, F1 Score: 0.3996\n",
      "Epoch 2/30, Loss: 1.9852, F1 Score: 0.3996\n",
      "Epoch 3/30, Loss: 1.9389, F1 Score: 0.3996\n",
      "Epoch 4/30, Loss: 2.3101, F1 Score: 0.3996\n",
      "Epoch 5/30, Loss: 2.2638, F1 Score: 0.3996\n",
      "Epoch 6/30, Loss: 2.1753, F1 Score: 0.3996\n",
      "Epoch 7/30, Loss: 2.0908, F1 Score: 0.3996\n",
      "Epoch 8/30, Loss: 2.1595, F1 Score: 0.3996\n",
      "Epoch 9/30, Loss: 2.3814, F1 Score: 0.3996\n",
      "Epoch 10/30, Loss: 2.3087, F1 Score: 0.3996\n",
      "Epoch 11/30, Loss: 2.2097, F1 Score: 0.3996\n",
      "8 epochs without a val accuracy improvement. Stopping the train\n",
      "Training complete.\n"
     ]
    },
    {
     "data": {
      "text/html": [],
      "text/plain": [
       "<IPython.core.display.HTML object>"
      ]
     },
     "metadata": {},
     "output_type": "display_data"
    },
    {
     "data": {
      "text/html": [
       "<br>    <style><br>        .wandb-row {<br>            display: flex;<br>            flex-direction: row;<br>            flex-wrap: wrap;<br>            justify-content: flex-start;<br>            width: 100%;<br>        }<br>        .wandb-col {<br>            display: flex;<br>            flex-direction: column;<br>            flex-basis: 100%;<br>            flex: 1;<br>            padding: 10px;<br>        }<br>    </style><br><div class=\"wandb-row\"><div class=\"wandb-col\"><h3>Run history:</h3><br/><table class=\"wandb\"><tr><td>train/accuracy</td><td>▇▆▆▄▂▅▅▅▂▄▇▅▂▇▄▅▅▅▆▄▆▁▄▃▄▂▂██▄▅▂▄▂▇▄▆▃▆▅</td></tr><tr><td>train/loss</td><td>▅▃▅▆▆▄▄▆▄▂▆▂▄▄▄▃▅▁▇▄▅▃▆▆▂▅▄▄▆▅▄▂▂▃▄▆▃▄█▄</td></tr><tr><td>validation/accuracy</td><td>▁▁▁▁▁▁▁▁▁▁▁</td></tr><tr><td>validation/loss</td><td>▁▁▁▁▁▁▁▁▁▁▁</td></tr></table><br/></div><div class=\"wandb-col\"><h3>Run summary:</h3><br/><table class=\"wandb\"><tr><td>train/accuracy</td><td>0.67004</td></tr><tr><td>train/loss</td><td>32.99632</td></tr><tr><td>validation/accuracy</td><td>0.66927</td></tr><tr><td>validation/loss</td><td>33.07292</td></tr></table><br/></div></div>"
      ],
      "text/plain": [
       "<IPython.core.display.HTML object>"
      ]
     },
     "metadata": {},
     "output_type": "display_data"
    },
    {
     "data": {
      "text/html": [
       " View run <strong style=\"color:#cdcd00\">lr:0.01-b:128-d_c:0, d_f:0.2</strong> at: <a href='https://wandb.ai/mldogs-wut/iml_final_tests/runs/hmb21cx5' target=\"_blank\">https://wandb.ai/mldogs-wut/iml_final_tests/runs/hmb21cx5</a><br> View project at: <a href='https://wandb.ai/mldogs-wut/iml_final_tests' target=\"_blank\">https://wandb.ai/mldogs-wut/iml_final_tests</a><br>Synced 5 W&B file(s), 0 media file(s), 0 artifact file(s) and 0 other file(s)"
      ],
      "text/plain": [
       "<IPython.core.display.HTML object>"
      ]
     },
     "metadata": {},
     "output_type": "display_data"
    },
    {
     "data": {
      "text/html": [
       "Find logs at: <code>./wandb/run-20250119_184127-hmb21cx5/logs</code>"
      ],
      "text/plain": [
       "<IPython.core.display.HTML object>"
      ]
     },
     "metadata": {},
     "output_type": "display_data"
    },
    {
     "name": "stdout",
     "output_type": "stream",
     "text": [
      "lr:0.01-b:128-d_c:0, d_f:0.4\n"
     ]
    },
    {
     "data": {
      "text/html": [
       "Tracking run with wandb version 0.19.1"
      ],
      "text/plain": [
       "<IPython.core.display.HTML object>"
      ]
     },
     "metadata": {},
     "output_type": "display_data"
    },
    {
     "data": {
      "text/html": [
       "Run data is saved locally in <code>/home/migoox/dev/ml-dogs-sharepoint/notebook/training/wandb/run-20250119_184153-s1zy3iq5</code>"
      ],
      "text/plain": [
       "<IPython.core.display.HTML object>"
      ]
     },
     "metadata": {},
     "output_type": "display_data"
    },
    {
     "data": {
      "text/html": [
       "Syncing run <strong><a href='https://wandb.ai/mldogs-wut/iml_final_tests/runs/s1zy3iq5' target=\"_blank\">lr:0.01-b:128-d_c:0, d_f:0.4</a></strong> to <a href='https://wandb.ai/mldogs-wut/iml_final_tests' target=\"_blank\">Weights & Biases</a> (<a href='https://wandb.me/developer-guide' target=\"_blank\">docs</a>)<br>"
      ],
      "text/plain": [
       "<IPython.core.display.HTML object>"
      ]
     },
     "metadata": {},
     "output_type": "display_data"
    },
    {
     "data": {
      "text/html": [
       " View project at <a href='https://wandb.ai/mldogs-wut/iml_final_tests' target=\"_blank\">https://wandb.ai/mldogs-wut/iml_final_tests</a>"
      ],
      "text/plain": [
       "<IPython.core.display.HTML object>"
      ]
     },
     "metadata": {},
     "output_type": "display_data"
    },
    {
     "data": {
      "text/html": [
       " View run at <a href='https://wandb.ai/mldogs-wut/iml_final_tests/runs/s1zy3iq5' target=\"_blank\">https://wandb.ai/mldogs-wut/iml_final_tests/runs/s1zy3iq5</a>"
      ],
      "text/plain": [
       "<IPython.core.display.HTML object>"
      ]
     },
     "metadata": {},
     "output_type": "display_data"
    },
    {
     "name": "stdout",
     "output_type": "stream",
     "text": [
      "Epoch 1/30, Loss: 2.3669, F1 Score: 0.4083\n",
      "Epoch 2/30, Loss: 2.1397, F1 Score: 0.3996\n",
      "Epoch 3/30, Loss: 2.5993, F1 Score: 0.3996\n",
      "Epoch 4/30, Loss: 2.2440, F1 Score: 0.3996\n",
      "Epoch 5/30, Loss: 2.3127, F1 Score: 0.3996\n",
      "Epoch 6/30, Loss: 1.6972, F1 Score: 0.3996\n",
      "Epoch 7/30, Loss: 1.9693, F1 Score: 0.3996\n",
      "Epoch 8/30, Loss: 2.3788, F1 Score: 0.3996\n",
      "Epoch 9/30, Loss: 2.0221, F1 Score: 0.3996\n",
      "Epoch 10/30, Loss: 2.2784, F1 Score: 0.3996\n",
      "Epoch 11/30, Loss: 2.0406, F1 Score: 0.3996\n",
      "8 epochs without a val accuracy improvement. Stopping the train\n",
      "Training complete.\n"
     ]
    },
    {
     "data": {
      "text/html": [],
      "text/plain": [
       "<IPython.core.display.HTML object>"
      ]
     },
     "metadata": {},
     "output_type": "display_data"
    },
    {
     "data": {
      "text/html": [
       "<br>    <style><br>        .wandb-row {<br>            display: flex;<br>            flex-direction: row;<br>            flex-wrap: wrap;<br>            justify-content: flex-start;<br>            width: 100%;<br>        }<br>        .wandb-col {<br>            display: flex;<br>            flex-direction: column;<br>            flex-basis: 100%;<br>            flex: 1;<br>            padding: 10px;<br>        }<br>    </style><br><div class=\"wandb-row\"><div class=\"wandb-col\"><h3>Run history:</h3><br/><table class=\"wandb\"><tr><td>train/accuracy</td><td>▄▇▆▅▃▇▂▄▇▇▆▆▅▆▄▆▆▆▆▄█▁▆▄█▆▄▃▆▄▄▇▄▆▅▅▇▆▃█</td></tr><tr><td>train/loss</td><td>▁▃▃▄▆▃▇▅▂▂▃▄▄▄▄▄▃▃▅▅█▅▅▄▅▅▃▅▃▄▂▅▅▃▄▃▄▆▄▂</td></tr><tr><td>validation/accuracy</td><td>▁▁▁▁▁▁▁▁▁▁▁</td></tr><tr><td>validation/loss</td><td>▁▁▁▁▁▁▁▁▁▁▁</td></tr></table><br/></div><div class=\"wandb-col\"><h3>Run summary:</h3><br/><table class=\"wandb\"><tr><td>train/accuracy</td><td>0.68658</td></tr><tr><td>train/loss</td><td>31.34191</td></tr><tr><td>validation/accuracy</td><td>0.66927</td></tr><tr><td>validation/loss</td><td>33.07292</td></tr></table><br/></div></div>"
      ],
      "text/plain": [
       "<IPython.core.display.HTML object>"
      ]
     },
     "metadata": {},
     "output_type": "display_data"
    },
    {
     "data": {
      "text/html": [
       " View run <strong style=\"color:#cdcd00\">lr:0.01-b:128-d_c:0, d_f:0.4</strong> at: <a href='https://wandb.ai/mldogs-wut/iml_final_tests/runs/s1zy3iq5' target=\"_blank\">https://wandb.ai/mldogs-wut/iml_final_tests/runs/s1zy3iq5</a><br> View project at: <a href='https://wandb.ai/mldogs-wut/iml_final_tests' target=\"_blank\">https://wandb.ai/mldogs-wut/iml_final_tests</a><br>Synced 5 W&B file(s), 0 media file(s), 0 artifact file(s) and 0 other file(s)"
      ],
      "text/plain": [
       "<IPython.core.display.HTML object>"
      ]
     },
     "metadata": {},
     "output_type": "display_data"
    },
    {
     "data": {
      "text/html": [
       "Find logs at: <code>./wandb/run-20250119_184153-s1zy3iq5/logs</code>"
      ],
      "text/plain": [
       "<IPython.core.display.HTML object>"
      ]
     },
     "metadata": {},
     "output_type": "display_data"
    },
    {
     "name": "stdout",
     "output_type": "stream",
     "text": [
      "lr:0.01-b:128-d_c:0.2, d_f:0\n"
     ]
    },
    {
     "data": {
      "text/html": [
       "Tracking run with wandb version 0.19.1"
      ],
      "text/plain": [
       "<IPython.core.display.HTML object>"
      ]
     },
     "metadata": {},
     "output_type": "display_data"
    },
    {
     "data": {
      "text/html": [
       "Run data is saved locally in <code>/home/migoox/dev/ml-dogs-sharepoint/notebook/training/wandb/run-20250119_184217-ll081oa2</code>"
      ],
      "text/plain": [
       "<IPython.core.display.HTML object>"
      ]
     },
     "metadata": {},
     "output_type": "display_data"
    },
    {
     "data": {
      "text/html": [
       "Syncing run <strong><a href='https://wandb.ai/mldogs-wut/iml_final_tests/runs/ll081oa2' target=\"_blank\">lr:0.01-b:128-d_c:0.2, d_f:0</a></strong> to <a href='https://wandb.ai/mldogs-wut/iml_final_tests' target=\"_blank\">Weights & Biases</a> (<a href='https://wandb.me/developer-guide' target=\"_blank\">docs</a>)<br>"
      ],
      "text/plain": [
       "<IPython.core.display.HTML object>"
      ]
     },
     "metadata": {},
     "output_type": "display_data"
    },
    {
     "data": {
      "text/html": [
       " View project at <a href='https://wandb.ai/mldogs-wut/iml_final_tests' target=\"_blank\">https://wandb.ai/mldogs-wut/iml_final_tests</a>"
      ],
      "text/plain": [
       "<IPython.core.display.HTML object>"
      ]
     },
     "metadata": {},
     "output_type": "display_data"
    },
    {
     "data": {
      "text/html": [
       " View run at <a href='https://wandb.ai/mldogs-wut/iml_final_tests/runs/ll081oa2' target=\"_blank\">https://wandb.ai/mldogs-wut/iml_final_tests/runs/ll081oa2</a>"
      ],
      "text/plain": [
       "<IPython.core.display.HTML object>"
      ]
     },
     "metadata": {},
     "output_type": "display_data"
    },
    {
     "name": "stdout",
     "output_type": "stream",
     "text": [
      "Epoch 1/30, Loss: 2.3127, F1 Score: 0.4131\n",
      "Epoch 2/30, Loss: 2.0895, F1 Score: 0.3996\n",
      "Epoch 3/30, Loss: 2.1912, F1 Score: 0.3996\n",
      "Epoch 4/30, Loss: 2.0208, F1 Score: 0.3996\n",
      "Epoch 5/30, Loss: 2.4488, F1 Score: 0.3996\n",
      "Epoch 6/30, Loss: 2.1595, F1 Score: 0.3996\n",
      "Epoch 7/30, Loss: 2.0736, F1 Score: 0.3996\n",
      "Epoch 8/30, Loss: 2.3286, F1 Score: 0.3996\n",
      "Epoch 9/30, Loss: 2.1410, F1 Score: 0.3996\n",
      "Epoch 10/30, Loss: 2.2110, F1 Score: 0.3996\n",
      "Epoch 11/30, Loss: 2.0750, F1 Score: 0.3996\n",
      "8 epochs without a val accuracy improvement. Stopping the train\n",
      "Training complete.\n"
     ]
    },
    {
     "data": {
      "text/html": [],
      "text/plain": [
       "<IPython.core.display.HTML object>"
      ]
     },
     "metadata": {},
     "output_type": "display_data"
    },
    {
     "data": {
      "text/html": [
       "<br>    <style><br>        .wandb-row {<br>            display: flex;<br>            flex-direction: row;<br>            flex-wrap: wrap;<br>            justify-content: flex-start;<br>            width: 100%;<br>        }<br>        .wandb-col {<br>            display: flex;<br>            flex-direction: column;<br>            flex-basis: 100%;<br>            flex: 1;<br>            padding: 10px;<br>        }<br>    </style><br><div class=\"wandb-row\"><div class=\"wandb-col\"><h3>Run history:</h3><br/><table class=\"wandb\"><tr><td>train/accuracy</td><td>▅▅▅▇▆▇▅▆▇▅▄▆▄▅▆█▅▆▄▆▅▅▆▄▆▆▅▅▆▆▁█▄▇▃▇▆▆▆▄</td></tr><tr><td>train/loss</td><td>▁▄▅▂▄▄▃▂▅▃▃▅▄▁▃▃▅▃▄▄▅▄▁▅▃▄▃▃▃█▁▂▅▂▆▂▃▃▄▅</td></tr><tr><td>validation/accuracy</td><td>▁▁▁▁▁▁▁▁▁▁▁</td></tr><tr><td>validation/loss</td><td>▁▁▁▁▁▁▁▁▁▁▁</td></tr></table><br/></div><div class=\"wandb-col\"><h3>Run summary:</h3><br/><table class=\"wandb\"><tr><td>train/accuracy</td><td>0.64982</td></tr><tr><td>train/loss</td><td>35.01838</td></tr><tr><td>validation/accuracy</td><td>0.66927</td></tr><tr><td>validation/loss</td><td>33.07292</td></tr></table><br/></div></div>"
      ],
      "text/plain": [
       "<IPython.core.display.HTML object>"
      ]
     },
     "metadata": {},
     "output_type": "display_data"
    },
    {
     "data": {
      "text/html": [
       " View run <strong style=\"color:#cdcd00\">lr:0.01-b:128-d_c:0.2, d_f:0</strong> at: <a href='https://wandb.ai/mldogs-wut/iml_final_tests/runs/ll081oa2' target=\"_blank\">https://wandb.ai/mldogs-wut/iml_final_tests/runs/ll081oa2</a><br> View project at: <a href='https://wandb.ai/mldogs-wut/iml_final_tests' target=\"_blank\">https://wandb.ai/mldogs-wut/iml_final_tests</a><br>Synced 5 W&B file(s), 0 media file(s), 0 artifact file(s) and 0 other file(s)"
      ],
      "text/plain": [
       "<IPython.core.display.HTML object>"
      ]
     },
     "metadata": {},
     "output_type": "display_data"
    },
    {
     "data": {
      "text/html": [
       "Find logs at: <code>./wandb/run-20250119_184217-ll081oa2/logs</code>"
      ],
      "text/plain": [
       "<IPython.core.display.HTML object>"
      ]
     },
     "metadata": {},
     "output_type": "display_data"
    },
    {
     "name": "stdout",
     "output_type": "stream",
     "text": [
      "lr:0.01-b:128-d_c:0.2, d_f:0.2\n"
     ]
    },
    {
     "data": {
      "text/html": [
       "Tracking run with wandb version 0.19.1"
      ],
      "text/plain": [
       "<IPython.core.display.HTML object>"
      ]
     },
     "metadata": {},
     "output_type": "display_data"
    },
    {
     "data": {
      "text/html": [
       "Run data is saved locally in <code>/home/migoox/dev/ml-dogs-sharepoint/notebook/training/wandb/run-20250119_184242-k4knjtih</code>"
      ],
      "text/plain": [
       "<IPython.core.display.HTML object>"
      ]
     },
     "metadata": {},
     "output_type": "display_data"
    },
    {
     "data": {
      "text/html": [
       "Syncing run <strong><a href='https://wandb.ai/mldogs-wut/iml_final_tests/runs/k4knjtih' target=\"_blank\">lr:0.01-b:128-d_c:0.2, d_f:0.2</a></strong> to <a href='https://wandb.ai/mldogs-wut/iml_final_tests' target=\"_blank\">Weights & Biases</a> (<a href='https://wandb.me/developer-guide' target=\"_blank\">docs</a>)<br>"
      ],
      "text/plain": [
       "<IPython.core.display.HTML object>"
      ]
     },
     "metadata": {},
     "output_type": "display_data"
    },
    {
     "data": {
      "text/html": [
       " View project at <a href='https://wandb.ai/mldogs-wut/iml_final_tests' target=\"_blank\">https://wandb.ai/mldogs-wut/iml_final_tests</a>"
      ],
      "text/plain": [
       "<IPython.core.display.HTML object>"
      ]
     },
     "metadata": {},
     "output_type": "display_data"
    },
    {
     "data": {
      "text/html": [
       " View run at <a href='https://wandb.ai/mldogs-wut/iml_final_tests/runs/k4knjtih' target=\"_blank\">https://wandb.ai/mldogs-wut/iml_final_tests/runs/k4knjtih</a>"
      ],
      "text/plain": [
       "<IPython.core.display.HTML object>"
      ]
     },
     "metadata": {},
     "output_type": "display_data"
    },
    {
     "name": "stdout",
     "output_type": "stream",
     "text": [
      "Epoch 1/30, Loss: 1.9033, F1 Score: 0.4023\n",
      "Epoch 2/30, Loss: 2.2955, F1 Score: 0.3996\n",
      "Epoch 3/30, Loss: 2.0908, F1 Score: 0.3996\n",
      "Epoch 4/30, Loss: 1.9178, F1 Score: 0.3996\n",
      "Epoch 5/30, Loss: 1.8861, F1 Score: 0.3996\n",
      "Epoch 6/30, Loss: 2.4488, F1 Score: 0.3996\n",
      "Epoch 7/30, Loss: 1.8689, F1 Score: 0.3996\n",
      "Epoch 8/30, Loss: 2.0393, F1 Score: 0.3996\n",
      "Epoch 9/30, Loss: 2.2942, F1 Score: 0.3996\n",
      "Epoch 10/30, Loss: 2.3642, F1 Score: 0.3996\n",
      "Epoch 11/30, Loss: 2.8067, F1 Score: 0.3996\n",
      "8 epochs without a val accuracy improvement. Stopping the train\n",
      "Training complete.\n"
     ]
    },
    {
     "data": {
      "text/html": [],
      "text/plain": [
       "<IPython.core.display.HTML object>"
      ]
     },
     "metadata": {},
     "output_type": "display_data"
    },
    {
     "data": {
      "text/html": [
       "<br>    <style><br>        .wandb-row {<br>            display: flex;<br>            flex-direction: row;<br>            flex-wrap: wrap;<br>            justify-content: flex-start;<br>            width: 100%;<br>        }<br>        .wandb-col {<br>            display: flex;<br>            flex-direction: column;<br>            flex-basis: 100%;<br>            flex: 1;<br>            padding: 10px;<br>        }<br>    </style><br><div class=\"wandb-row\"><div class=\"wandb-col\"><h3>Run history:</h3><br/><table class=\"wandb\"><tr><td>train/accuracy</td><td>▂▅▇▆▆█▄▂▇▇▄▇▆▃▆▆▅▄▅▇▃▅▄▆▅▅▆▅▆▅▅▁▇█▃▆█▆▄▆</td></tr><tr><td>train/loss</td><td>▆▅▄▄▄▆▇▄▄▆▅▇▅▅▅▅▆▅▄▆▃▅▆▅▆▅▅▅▅▅▆▁█▆▅▄▇▅▅▅</td></tr><tr><td>validation/accuracy</td><td>▁▁▁▁▁▁▁▁▁▁▁</td></tr><tr><td>validation/loss</td><td>▁▁▁▁▁▁▁▁▁▁▁</td></tr></table><br/></div><div class=\"wandb-col\"><h3>Run summary:</h3><br/><table class=\"wandb\"><tr><td>train/accuracy</td><td>0.67371</td></tr><tr><td>train/loss</td><td>32.62868</td></tr><tr><td>validation/accuracy</td><td>0.66927</td></tr><tr><td>validation/loss</td><td>33.07292</td></tr></table><br/></div></div>"
      ],
      "text/plain": [
       "<IPython.core.display.HTML object>"
      ]
     },
     "metadata": {},
     "output_type": "display_data"
    },
    {
     "data": {
      "text/html": [
       " View run <strong style=\"color:#cdcd00\">lr:0.01-b:128-d_c:0.2, d_f:0.2</strong> at: <a href='https://wandb.ai/mldogs-wut/iml_final_tests/runs/k4knjtih' target=\"_blank\">https://wandb.ai/mldogs-wut/iml_final_tests/runs/k4knjtih</a><br> View project at: <a href='https://wandb.ai/mldogs-wut/iml_final_tests' target=\"_blank\">https://wandb.ai/mldogs-wut/iml_final_tests</a><br>Synced 5 W&B file(s), 0 media file(s), 0 artifact file(s) and 0 other file(s)"
      ],
      "text/plain": [
       "<IPython.core.display.HTML object>"
      ]
     },
     "metadata": {},
     "output_type": "display_data"
    },
    {
     "data": {
      "text/html": [
       "Find logs at: <code>./wandb/run-20250119_184242-k4knjtih/logs</code>"
      ],
      "text/plain": [
       "<IPython.core.display.HTML object>"
      ]
     },
     "metadata": {},
     "output_type": "display_data"
    },
    {
     "name": "stdout",
     "output_type": "stream",
     "text": [
      "lr:0.01-b:128-d_c:0.2, d_f:0.4\n"
     ]
    },
    {
     "data": {
      "text/html": [
       "Tracking run with wandb version 0.19.1"
      ],
      "text/plain": [
       "<IPython.core.display.HTML object>"
      ]
     },
     "metadata": {},
     "output_type": "display_data"
    },
    {
     "data": {
      "text/html": [
       "Run data is saved locally in <code>/home/migoox/dev/ml-dogs-sharepoint/notebook/training/wandb/run-20250119_184308-btqc85qe</code>"
      ],
      "text/plain": [
       "<IPython.core.display.HTML object>"
      ]
     },
     "metadata": {},
     "output_type": "display_data"
    },
    {
     "data": {
      "text/html": [
       "Syncing run <strong><a href='https://wandb.ai/mldogs-wut/iml_final_tests/runs/btqc85qe' target=\"_blank\">lr:0.01-b:128-d_c:0.2, d_f:0.4</a></strong> to <a href='https://wandb.ai/mldogs-wut/iml_final_tests' target=\"_blank\">Weights & Biases</a> (<a href='https://wandb.me/developer-guide' target=\"_blank\">docs</a>)<br>"
      ],
      "text/plain": [
       "<IPython.core.display.HTML object>"
      ]
     },
     "metadata": {},
     "output_type": "display_data"
    },
    {
     "data": {
      "text/html": [
       " View project at <a href='https://wandb.ai/mldogs-wut/iml_final_tests' target=\"_blank\">https://wandb.ai/mldogs-wut/iml_final_tests</a>"
      ],
      "text/plain": [
       "<IPython.core.display.HTML object>"
      ]
     },
     "metadata": {},
     "output_type": "display_data"
    },
    {
     "data": {
      "text/html": [
       " View run at <a href='https://wandb.ai/mldogs-wut/iml_final_tests/runs/btqc85qe' target=\"_blank\">https://wandb.ai/mldogs-wut/iml_final_tests/runs/btqc85qe</a>"
      ],
      "text/plain": [
       "<IPython.core.display.HTML object>"
      ]
     },
     "metadata": {},
     "output_type": "display_data"
    },
    {
     "name": "stdout",
     "output_type": "stream",
     "text": [
      "Epoch 1/30, Loss: 2.4316, F1 Score: 0.3996\n",
      "Epoch 2/30, Loss: 2.0036, F1 Score: 0.3996\n",
      "Epoch 3/30, Loss: 1.9706, F1 Score: 0.3996\n",
      "Epoch 4/30, Loss: 2.1423, F1 Score: 0.3996\n",
      "Epoch 5/30, Loss: 2.5491, F1 Score: 0.3996\n",
      "Epoch 6/30, Loss: 2.6865, F1 Score: 0.3996\n",
      "Epoch 7/30, Loss: 2.5689, F1 Score: 0.3996\n",
      "Epoch 8/30, Loss: 2.2255, F1 Score: 0.3996\n",
      "Epoch 9/30, Loss: 2.2929, F1 Score: 0.3996\n",
      "Epoch 10/30, Loss: 2.4659, F1 Score: 0.3996\n",
      "Epoch 11/30, Loss: 2.0736, F1 Score: 0.3996\n",
      "8 epochs without a val accuracy improvement. Stopping the train\n",
      "Training complete.\n"
     ]
    },
    {
     "data": {
      "text/html": [],
      "text/plain": [
       "<IPython.core.display.HTML object>"
      ]
     },
     "metadata": {},
     "output_type": "display_data"
    },
    {
     "data": {
      "text/html": [
       "<br>    <style><br>        .wandb-row {<br>            display: flex;<br>            flex-direction: row;<br>            flex-wrap: wrap;<br>            justify-content: flex-start;<br>            width: 100%;<br>        }<br>        .wandb-col {<br>            display: flex;<br>            flex-direction: column;<br>            flex-basis: 100%;<br>            flex: 1;<br>            padding: 10px;<br>        }<br>    </style><br><div class=\"wandb-row\"><div class=\"wandb-col\"><h3>Run history:</h3><br/><table class=\"wandb\"><tr><td>train/accuracy</td><td>▆▄▄▄▄▄▃▄▆▁▆▆▅▄▅▆▃▄▅▄▄▃▅▆▄█▃▄▅▆▄▄▄▆▃▆▇▅▄▅</td></tr><tr><td>train/loss</td><td>▁▅▅▄▅▅▆▅▂█▃▃▃▅▄▃▆▃▅▄▅▅▃▃▄▄▄▃▅▅▅▅▅▂▃▃▂▄▅▄</td></tr><tr><td>validation/accuracy</td><td>▁▁▁▁▁▁▁▁▁▁▁</td></tr><tr><td>validation/loss</td><td>▁▁▁▁▁▁▁▁▁▁▁</td></tr></table><br/></div><div class=\"wandb-col\"><h3>Run summary:</h3><br/><table class=\"wandb\"><tr><td>train/accuracy</td><td>0.67004</td></tr><tr><td>train/loss</td><td>32.99632</td></tr><tr><td>validation/accuracy</td><td>0.66927</td></tr><tr><td>validation/loss</td><td>33.07292</td></tr></table><br/></div></div>"
      ],
      "text/plain": [
       "<IPython.core.display.HTML object>"
      ]
     },
     "metadata": {},
     "output_type": "display_data"
    },
    {
     "data": {
      "text/html": [
       " View run <strong style=\"color:#cdcd00\">lr:0.01-b:128-d_c:0.2, d_f:0.4</strong> at: <a href='https://wandb.ai/mldogs-wut/iml_final_tests/runs/btqc85qe' target=\"_blank\">https://wandb.ai/mldogs-wut/iml_final_tests/runs/btqc85qe</a><br> View project at: <a href='https://wandb.ai/mldogs-wut/iml_final_tests' target=\"_blank\">https://wandb.ai/mldogs-wut/iml_final_tests</a><br>Synced 5 W&B file(s), 0 media file(s), 0 artifact file(s) and 0 other file(s)"
      ],
      "text/plain": [
       "<IPython.core.display.HTML object>"
      ]
     },
     "metadata": {},
     "output_type": "display_data"
    },
    {
     "data": {
      "text/html": [
       "Find logs at: <code>./wandb/run-20250119_184308-btqc85qe/logs</code>"
      ],
      "text/plain": [
       "<IPython.core.display.HTML object>"
      ]
     },
     "metadata": {},
     "output_type": "display_data"
    },
    {
     "name": "stdout",
     "output_type": "stream",
     "text": [
      "lr:0.01-b:128-d_c:0.4, d_f:0\n"
     ]
    },
    {
     "data": {
      "text/html": [
       "Tracking run with wandb version 0.19.1"
      ],
      "text/plain": [
       "<IPython.core.display.HTML object>"
      ]
     },
     "metadata": {},
     "output_type": "display_data"
    },
    {
     "data": {
      "text/html": [
       "Run data is saved locally in <code>/home/migoox/dev/ml-dogs-sharepoint/notebook/training/wandb/run-20250119_184334-fk3z81fm</code>"
      ],
      "text/plain": [
       "<IPython.core.display.HTML object>"
      ]
     },
     "metadata": {},
     "output_type": "display_data"
    },
    {
     "data": {
      "text/html": [
       "Syncing run <strong><a href='https://wandb.ai/mldogs-wut/iml_final_tests/runs/fk3z81fm' target=\"_blank\">lr:0.01-b:128-d_c:0.4, d_f:0</a></strong> to <a href='https://wandb.ai/mldogs-wut/iml_final_tests' target=\"_blank\">Weights & Biases</a> (<a href='https://wandb.me/developer-guide' target=\"_blank\">docs</a>)<br>"
      ],
      "text/plain": [
       "<IPython.core.display.HTML object>"
      ]
     },
     "metadata": {},
     "output_type": "display_data"
    },
    {
     "data": {
      "text/html": [
       " View project at <a href='https://wandb.ai/mldogs-wut/iml_final_tests' target=\"_blank\">https://wandb.ai/mldogs-wut/iml_final_tests</a>"
      ],
      "text/plain": [
       "<IPython.core.display.HTML object>"
      ]
     },
     "metadata": {},
     "output_type": "display_data"
    },
    {
     "data": {
      "text/html": [
       " View run at <a href='https://wandb.ai/mldogs-wut/iml_final_tests/runs/fk3z81fm' target=\"_blank\">https://wandb.ai/mldogs-wut/iml_final_tests/runs/fk3z81fm</a>"
      ],
      "text/plain": [
       "<IPython.core.display.HTML object>"
      ]
     },
     "metadata": {},
     "output_type": "display_data"
    },
    {
     "name": "stdout",
     "output_type": "stream",
     "text": [
      "Epoch 1/30, Loss: 2.3946, F1 Score: 0.3996\n",
      "Epoch 2/30, Loss: 2.2427, F1 Score: 0.3996\n",
      "Epoch 3/30, Loss: 2.0763, F1 Score: 0.3996\n",
      "Epoch 4/30, Loss: 1.9389, F1 Score: 0.3996\n",
      "Epoch 5/30, Loss: 2.5148, F1 Score: 0.3996\n",
      "Epoch 6/30, Loss: 2.4963, F1 Score: 0.3996\n",
      "Epoch 7/30, Loss: 2.3788, F1 Score: 0.3996\n",
      "Epoch 8/30, Loss: 2.2586, F1 Score: 0.3996\n",
      "Epoch 9/30, Loss: 2.6363, F1 Score: 0.3996\n",
      "Epoch 10/30, Loss: 2.4118, F1 Score: 0.3996\n",
      "Epoch 11/30, Loss: 2.0723, F1 Score: 0.3996\n",
      "8 epochs without a val accuracy improvement. Stopping the train\n",
      "Training complete.\n"
     ]
    },
    {
     "data": {
      "text/html": [],
      "text/plain": [
       "<IPython.core.display.HTML object>"
      ]
     },
     "metadata": {},
     "output_type": "display_data"
    },
    {
     "data": {
      "text/html": [
       "<br>    <style><br>        .wandb-row {<br>            display: flex;<br>            flex-direction: row;<br>            flex-wrap: wrap;<br>            justify-content: flex-start;<br>            width: 100%;<br>        }<br>        .wandb-col {<br>            display: flex;<br>            flex-direction: column;<br>            flex-basis: 100%;<br>            flex: 1;<br>            padding: 10px;<br>        }<br>    </style><br><div class=\"wandb-row\"><div class=\"wandb-col\"><h3>Run history:</h3><br/><table class=\"wandb\"><tr><td>train/accuracy</td><td>▃▅▂▄▃▂▅▃▃▂▄▄▃▅▃▄▁▅▆█▄▅▁▅▂▄▄▅▃▄▄▆▃▅▂▁▃▁▅▇</td></tr><tr><td>train/loss</td><td>▁▇▅▃▆▅▅▆▃▂▄▃▅▃▅▄█▃▁█▃█▃▆▅▄▄▂▅▃▄▂▅▃▇█▁▅█▆</td></tr><tr><td>validation/accuracy</td><td>▁▁▁▁▁▁▁▁▁▁▁</td></tr><tr><td>validation/loss</td><td>▁▁▁▁▁▁▁▁▁▁▁</td></tr></table><br/></div><div class=\"wandb-col\"><h3>Run summary:</h3><br/><table class=\"wandb\"><tr><td>train/accuracy</td><td>0.69026</td></tr><tr><td>train/loss</td><td>30.97426</td></tr><tr><td>validation/accuracy</td><td>0.66927</td></tr><tr><td>validation/loss</td><td>33.07292</td></tr></table><br/></div></div>"
      ],
      "text/plain": [
       "<IPython.core.display.HTML object>"
      ]
     },
     "metadata": {},
     "output_type": "display_data"
    },
    {
     "data": {
      "text/html": [
       " View run <strong style=\"color:#cdcd00\">lr:0.01-b:128-d_c:0.4, d_f:0</strong> at: <a href='https://wandb.ai/mldogs-wut/iml_final_tests/runs/fk3z81fm' target=\"_blank\">https://wandb.ai/mldogs-wut/iml_final_tests/runs/fk3z81fm</a><br> View project at: <a href='https://wandb.ai/mldogs-wut/iml_final_tests' target=\"_blank\">https://wandb.ai/mldogs-wut/iml_final_tests</a><br>Synced 5 W&B file(s), 0 media file(s), 0 artifact file(s) and 0 other file(s)"
      ],
      "text/plain": [
       "<IPython.core.display.HTML object>"
      ]
     },
     "metadata": {},
     "output_type": "display_data"
    },
    {
     "data": {
      "text/html": [
       "Find logs at: <code>./wandb/run-20250119_184334-fk3z81fm/logs</code>"
      ],
      "text/plain": [
       "<IPython.core.display.HTML object>"
      ]
     },
     "metadata": {},
     "output_type": "display_data"
    },
    {
     "name": "stdout",
     "output_type": "stream",
     "text": [
      "lr:0.01-b:128-d_c:0.4, d_f:0.2\n"
     ]
    },
    {
     "data": {
      "text/html": [
       "Tracking run with wandb version 0.19.1"
      ],
      "text/plain": [
       "<IPython.core.display.HTML object>"
      ]
     },
     "metadata": {},
     "output_type": "display_data"
    },
    {
     "data": {
      "text/html": [
       "Run data is saved locally in <code>/home/migoox/dev/ml-dogs-sharepoint/notebook/training/wandb/run-20250119_184359-1phtjl7h</code>"
      ],
      "text/plain": [
       "<IPython.core.display.HTML object>"
      ]
     },
     "metadata": {},
     "output_type": "display_data"
    },
    {
     "data": {
      "text/html": [
       "Syncing run <strong><a href='https://wandb.ai/mldogs-wut/iml_final_tests/runs/1phtjl7h' target=\"_blank\">lr:0.01-b:128-d_c:0.4, d_f:0.2</a></strong> to <a href='https://wandb.ai/mldogs-wut/iml_final_tests' target=\"_blank\">Weights & Biases</a> (<a href='https://wandb.me/developer-guide' target=\"_blank\">docs</a>)<br>"
      ],
      "text/plain": [
       "<IPython.core.display.HTML object>"
      ]
     },
     "metadata": {},
     "output_type": "display_data"
    },
    {
     "data": {
      "text/html": [
       " View project at <a href='https://wandb.ai/mldogs-wut/iml_final_tests' target=\"_blank\">https://wandb.ai/mldogs-wut/iml_final_tests</a>"
      ],
      "text/plain": [
       "<IPython.core.display.HTML object>"
      ]
     },
     "metadata": {},
     "output_type": "display_data"
    },
    {
     "data": {
      "text/html": [
       " View run at <a href='https://wandb.ai/mldogs-wut/iml_final_tests/runs/1phtjl7h' target=\"_blank\">https://wandb.ai/mldogs-wut/iml_final_tests/runs/1phtjl7h</a>"
      ],
      "text/plain": [
       "<IPython.core.display.HTML object>"
      ]
     },
     "metadata": {},
     "output_type": "display_data"
    },
    {
     "name": "stdout",
     "output_type": "stream",
     "text": [
      "Epoch 1/30, Loss: 2.1582, F1 Score: 0.4071\n",
      "Epoch 2/30, Loss: 2.1621, F1 Score: 0.3996\n",
      "Epoch 3/30, Loss: 2.2440, F1 Score: 0.3996\n",
      "Epoch 4/30, Loss: 2.1925, F1 Score: 0.3996\n",
      "Epoch 5/30, Loss: 2.1225, F1 Score: 0.3996\n",
      "Epoch 6/30, Loss: 1.8333, F1 Score: 0.3996\n",
      "Epoch 7/30, Loss: 1.8333, F1 Score: 0.3996\n",
      "Epoch 8/30, Loss: 2.2757, F1 Score: 0.3996\n",
      "Epoch 9/30, Loss: 2.1067, F1 Score: 0.3996\n",
      "Epoch 10/30, Loss: 2.1767, F1 Score: 0.3996\n",
      "Epoch 11/30, Loss: 2.3801, F1 Score: 0.3996\n",
      "8 epochs without a val accuracy improvement. Stopping the train\n",
      "Training complete.\n"
     ]
    },
    {
     "data": {
      "text/html": [],
      "text/plain": [
       "<IPython.core.display.HTML object>"
      ]
     },
     "metadata": {},
     "output_type": "display_data"
    },
    {
     "data": {
      "text/html": [
       "<br>    <style><br>        .wandb-row {<br>            display: flex;<br>            flex-direction: row;<br>            flex-wrap: wrap;<br>            justify-content: flex-start;<br>            width: 100%;<br>        }<br>        .wandb-col {<br>            display: flex;<br>            flex-direction: column;<br>            flex-basis: 100%;<br>            flex: 1;<br>            padding: 10px;<br>        }<br>    </style><br><div class=\"wandb-row\"><div class=\"wandb-col\"><h3>Run history:</h3><br/><table class=\"wandb\"><tr><td>train/accuracy</td><td>▁▅▄▇▄▃▄▆▃▄▆▆▆█▁▇▅▃▇▂▂▇▄▃█▆▃▇▄▅▅▆▅▄▄▆█▇▇▄</td></tr><tr><td>train/loss</td><td>▁▃▄▂▅▂▃▅▄▃▃▁▇▄▄▆▅▂▆▂▅▁▅▅▃▂▄▃▃▃▅▄█▃▁▂▂▄▅▂</td></tr><tr><td>validation/accuracy</td><td>▁▁▁▁▁▁▁▁▁▁▁</td></tr><tr><td>validation/loss</td><td>▁▁▁▁▁▁▁▁▁▁▁</td></tr></table><br/></div><div class=\"wandb-col\"><h3>Run summary:</h3><br/><table class=\"wandb\"><tr><td>train/accuracy</td><td>0.68015</td></tr><tr><td>train/loss</td><td>31.98529</td></tr><tr><td>validation/accuracy</td><td>0.66927</td></tr><tr><td>validation/loss</td><td>33.07292</td></tr></table><br/></div></div>"
      ],
      "text/plain": [
       "<IPython.core.display.HTML object>"
      ]
     },
     "metadata": {},
     "output_type": "display_data"
    },
    {
     "data": {
      "text/html": [
       " View run <strong style=\"color:#cdcd00\">lr:0.01-b:128-d_c:0.4, d_f:0.2</strong> at: <a href='https://wandb.ai/mldogs-wut/iml_final_tests/runs/1phtjl7h' target=\"_blank\">https://wandb.ai/mldogs-wut/iml_final_tests/runs/1phtjl7h</a><br> View project at: <a href='https://wandb.ai/mldogs-wut/iml_final_tests' target=\"_blank\">https://wandb.ai/mldogs-wut/iml_final_tests</a><br>Synced 5 W&B file(s), 0 media file(s), 0 artifact file(s) and 0 other file(s)"
      ],
      "text/plain": [
       "<IPython.core.display.HTML object>"
      ]
     },
     "metadata": {},
     "output_type": "display_data"
    },
    {
     "data": {
      "text/html": [
       "Find logs at: <code>./wandb/run-20250119_184359-1phtjl7h/logs</code>"
      ],
      "text/plain": [
       "<IPython.core.display.HTML object>"
      ]
     },
     "metadata": {},
     "output_type": "display_data"
    },
    {
     "name": "stdout",
     "output_type": "stream",
     "text": [
      "lr:0.01-b:128-d_c:0.4, d_f:0.4\n"
     ]
    },
    {
     "data": {
      "text/html": [
       "Tracking run with wandb version 0.19.1"
      ],
      "text/plain": [
       "<IPython.core.display.HTML object>"
      ]
     },
     "metadata": {},
     "output_type": "display_data"
    },
    {
     "data": {
      "text/html": [
       "Run data is saved locally in <code>/home/migoox/dev/ml-dogs-sharepoint/notebook/training/wandb/run-20250119_184425-07tfayee</code>"
      ],
      "text/plain": [
       "<IPython.core.display.HTML object>"
      ]
     },
     "metadata": {},
     "output_type": "display_data"
    },
    {
     "data": {
      "text/html": [
       "Syncing run <strong><a href='https://wandb.ai/mldogs-wut/iml_final_tests/runs/07tfayee' target=\"_blank\">lr:0.01-b:128-d_c:0.4, d_f:0.4</a></strong> to <a href='https://wandb.ai/mldogs-wut/iml_final_tests' target=\"_blank\">Weights & Biases</a> (<a href='https://wandb.me/developer-guide' target=\"_blank\">docs</a>)<br>"
      ],
      "text/plain": [
       "<IPython.core.display.HTML object>"
      ]
     },
     "metadata": {},
     "output_type": "display_data"
    },
    {
     "data": {
      "text/html": [
       " View project at <a href='https://wandb.ai/mldogs-wut/iml_final_tests' target=\"_blank\">https://wandb.ai/mldogs-wut/iml_final_tests</a>"
      ],
      "text/plain": [
       "<IPython.core.display.HTML object>"
      ]
     },
     "metadata": {},
     "output_type": "display_data"
    },
    {
     "data": {
      "text/html": [
       " View run at <a href='https://wandb.ai/mldogs-wut/iml_final_tests/runs/07tfayee' target=\"_blank\">https://wandb.ai/mldogs-wut/iml_final_tests/runs/07tfayee</a>"
      ],
      "text/plain": [
       "<IPython.core.display.HTML object>"
      ]
     },
     "metadata": {},
     "output_type": "display_data"
    },
    {
     "name": "stdout",
     "output_type": "stream",
     "text": [
      "Epoch 1/30, Loss: 1.8504, F1 Score: 0.4077\n",
      "Epoch 2/30, Loss: 1.9350, F1 Score: 0.3996\n",
      "Epoch 3/30, Loss: 1.9363, F1 Score: 0.3996\n",
      "Epoch 4/30, Loss: 2.1238, F1 Score: 0.3996\n",
      "Epoch 5/30, Loss: 1.8663, F1 Score: 0.3996\n",
      "Epoch 6/30, Loss: 2.0208, F1 Score: 0.3996\n",
      "Epoch 7/30, Loss: 2.0393, F1 Score: 0.3996\n",
      "Epoch 8/30, Loss: 2.1899, F1 Score: 0.3996\n",
      "Epoch 9/30, Loss: 2.1740, F1 Score: 0.3996\n",
      "Epoch 10/30, Loss: 2.0367, F1 Score: 0.3996\n",
      "Epoch 11/30, Loss: 2.2269, F1 Score: 0.3996\n",
      "8 epochs without a val accuracy improvement. Stopping the train\n",
      "Training complete.\n"
     ]
    },
    {
     "data": {
      "text/html": [],
      "text/plain": [
       "<IPython.core.display.HTML object>"
      ]
     },
     "metadata": {},
     "output_type": "display_data"
    },
    {
     "data": {
      "text/html": [
       "<br>    <style><br>        .wandb-row {<br>            display: flex;<br>            flex-direction: row;<br>            flex-wrap: wrap;<br>            justify-content: flex-start;<br>            width: 100%;<br>        }<br>        .wandb-col {<br>            display: flex;<br>            flex-direction: column;<br>            flex-basis: 100%;<br>            flex: 1;<br>            padding: 10px;<br>        }<br>    </style><br><div class=\"wandb-row\"><div class=\"wandb-col\"><h3>Run history:</h3><br/><table class=\"wandb\"><tr><td>train/accuracy</td><td>▅▄▁▄▇▄▃▆▃▇▅▄▃▅█▃▁▃▃▃▇▆▂█▆▆▄▃▆▁▂▂▅▂█▆▆▃▄▇</td></tr><tr><td>train/loss</td><td>▁▅▅▇▅▄▅▆▄▆▅▅▅▆▃▆▇▆▆▆▄▇▃▄▇▆▄▇▂▅▆▆▅▆█▄▄▄▆▄</td></tr><tr><td>validation/accuracy</td><td>▁▁▁▁▁▁▁▁▁▁▁</td></tr><tr><td>validation/loss</td><td>▁▁▁▁▁▁▁▁▁▁▁</td></tr></table><br/></div><div class=\"wandb-col\"><h3>Run summary:</h3><br/><table class=\"wandb\"><tr><td>train/accuracy</td><td>0.67463</td></tr><tr><td>train/loss</td><td>32.53676</td></tr><tr><td>validation/accuracy</td><td>0.66927</td></tr><tr><td>validation/loss</td><td>33.07292</td></tr></table><br/></div></div>"
      ],
      "text/plain": [
       "<IPython.core.display.HTML object>"
      ]
     },
     "metadata": {},
     "output_type": "display_data"
    },
    {
     "data": {
      "text/html": [
       " View run <strong style=\"color:#cdcd00\">lr:0.01-b:128-d_c:0.4, d_f:0.4</strong> at: <a href='https://wandb.ai/mldogs-wut/iml_final_tests/runs/07tfayee' target=\"_blank\">https://wandb.ai/mldogs-wut/iml_final_tests/runs/07tfayee</a><br> View project at: <a href='https://wandb.ai/mldogs-wut/iml_final_tests' target=\"_blank\">https://wandb.ai/mldogs-wut/iml_final_tests</a><br>Synced 5 W&B file(s), 0 media file(s), 0 artifact file(s) and 0 other file(s)"
      ],
      "text/plain": [
       "<IPython.core.display.HTML object>"
      ]
     },
     "metadata": {},
     "output_type": "display_data"
    },
    {
     "data": {
      "text/html": [
       "Find logs at: <code>./wandb/run-20250119_184425-07tfayee/logs</code>"
      ],
      "text/plain": [
       "<IPython.core.display.HTML object>"
      ]
     },
     "metadata": {},
     "output_type": "display_data"
    },
    {
     "name": "stdout",
     "output_type": "stream",
     "text": [
      "lr:0.001-b:32-d_c:0, d_f:0\n"
     ]
    },
    {
     "data": {
      "text/html": [
       "Tracking run with wandb version 0.19.1"
      ],
      "text/plain": [
       "<IPython.core.display.HTML object>"
      ]
     },
     "metadata": {},
     "output_type": "display_data"
    },
    {
     "data": {
      "text/html": [
       "Run data is saved locally in <code>/home/migoox/dev/ml-dogs-sharepoint/notebook/training/wandb/run-20250119_184449-d8luq2id</code>"
      ],
      "text/plain": [
       "<IPython.core.display.HTML object>"
      ]
     },
     "metadata": {},
     "output_type": "display_data"
    },
    {
     "data": {
      "text/html": [
       "Syncing run <strong><a href='https://wandb.ai/mldogs-wut/iml_final_tests/runs/d8luq2id' target=\"_blank\">lr:0.001-b:32-d_c:0, d_f:0</a></strong> to <a href='https://wandb.ai/mldogs-wut/iml_final_tests' target=\"_blank\">Weights & Biases</a> (<a href='https://wandb.me/developer-guide' target=\"_blank\">docs</a>)<br>"
      ],
      "text/plain": [
       "<IPython.core.display.HTML object>"
      ]
     },
     "metadata": {},
     "output_type": "display_data"
    },
    {
     "data": {
      "text/html": [
       " View project at <a href='https://wandb.ai/mldogs-wut/iml_final_tests' target=\"_blank\">https://wandb.ai/mldogs-wut/iml_final_tests</a>"
      ],
      "text/plain": [
       "<IPython.core.display.HTML object>"
      ]
     },
     "metadata": {},
     "output_type": "display_data"
    },
    {
     "data": {
      "text/html": [
       " View run at <a href='https://wandb.ai/mldogs-wut/iml_final_tests/runs/d8luq2id' target=\"_blank\">https://wandb.ai/mldogs-wut/iml_final_tests/runs/d8luq2id</a>"
      ],
      "text/plain": [
       "<IPython.core.display.HTML object>"
      ]
     },
     "metadata": {},
     "output_type": "display_data"
    },
    {
     "name": "stdout",
     "output_type": "stream",
     "text": [
      "Epoch 1/30, Loss: 0.0235, F1 Score: 0.6412\n",
      "Epoch 2/30, Loss: 0.0152, F1 Score: 0.8793\n",
      "Epoch 3/30, Loss: 0.0055, F1 Score: 0.9368\n",
      "Epoch 4/30, Loss: 0.0058, F1 Score: 0.9650\n",
      "Epoch 5/30, Loss: 0.0049, F1 Score: 0.9784\n",
      "Epoch 6/30, Loss: 0.0019, F1 Score: 0.9811\n",
      "Epoch 7/30, Loss: 0.0010, F1 Score: 0.9924\n",
      "Epoch 8/30, Loss: 0.0008, F1 Score: 0.9967\n",
      "Epoch 9/30, Loss: 0.0012, F1 Score: 0.9948\n",
      "Epoch 10/30, Loss: 0.0002, F1 Score: 0.9930\n",
      "Epoch 11/30, Loss: 0.0002, F1 Score: 0.9975\n",
      "Epoch 12/30, Loss: 0.0006, F1 Score: 0.9973\n",
      "Epoch 13/30, Loss: 0.0001, F1 Score: 0.9982\n",
      "Epoch 14/30, Loss: 0.0003, F1 Score: 0.9992\n",
      "Epoch 15/30, Loss: 0.0005, F1 Score: 0.9981\n",
      "Epoch 16/30, Loss: 0.0009, F1 Score: 0.9953\n",
      "Epoch 17/30, Loss: 0.0008, F1 Score: 0.9930\n",
      "Too low accuracy. Stopping the train\n",
      "Training complete.\n"
     ]
    },
    {
     "data": {
      "text/html": [],
      "text/plain": [
       "<IPython.core.display.HTML object>"
      ]
     },
     "metadata": {},
     "output_type": "display_data"
    },
    {
     "data": {
      "text/html": [
       "<br>    <style><br>        .wandb-row {<br>            display: flex;<br>            flex-direction: row;<br>            flex-wrap: wrap;<br>            justify-content: flex-start;<br>            width: 100%;<br>        }<br>        .wandb-col {<br>            display: flex;<br>            flex-direction: column;<br>            flex-basis: 100%;<br>            flex: 1;<br>            padding: 10px;<br>        }<br>    </style><br><div class=\"wandb-row\"><div class=\"wandb-col\"><h3>Run history:</h3><br/><table class=\"wandb\"><tr><td>train/accuracy</td><td>▁▃▅▅▆▇▇▇▇▇▇▇████████████████████████████</td></tr><tr><td>train/loss</td><td>██▇▆▄▄▄▃▃▃▂▁▂▂▂▁▁▁▁▁▁▁▁▁▁▁▁▁▁▁▁▁▁▁▁▁▁▁▁▁</td></tr><tr><td>validation/accuracy</td><td>▁▃▄▅▅▇▆▆▅▇█▆▇███▇</td></tr><tr><td>validation/loss</td><td>▁▁▁▂▂▁▂▃█▂▃▃▅█▆▃▁</td></tr></table><br/></div><div class=\"wandb-col\"><h3>Run summary:</h3><br/><table class=\"wandb\"><tr><td>train/accuracy</td><td>0.98989</td></tr><tr><td>train/loss</td><td>0.02762</td></tr><tr><td>validation/accuracy</td><td>0.89873</td></tr><tr><td>validation/loss</td><td>0.42968</td></tr></table><br/></div></div>"
      ],
      "text/plain": [
       "<IPython.core.display.HTML object>"
      ]
     },
     "metadata": {},
     "output_type": "display_data"
    },
    {
     "data": {
      "text/html": [
       " View run <strong style=\"color:#cdcd00\">lr:0.001-b:32-d_c:0, d_f:0</strong> at: <a href='https://wandb.ai/mldogs-wut/iml_final_tests/runs/d8luq2id' target=\"_blank\">https://wandb.ai/mldogs-wut/iml_final_tests/runs/d8luq2id</a><br> View project at: <a href='https://wandb.ai/mldogs-wut/iml_final_tests' target=\"_blank\">https://wandb.ai/mldogs-wut/iml_final_tests</a><br>Synced 5 W&B file(s), 0 media file(s), 0 artifact file(s) and 0 other file(s)"
      ],
      "text/plain": [
       "<IPython.core.display.HTML object>"
      ]
     },
     "metadata": {},
     "output_type": "display_data"
    },
    {
     "data": {
      "text/html": [
       "Find logs at: <code>./wandb/run-20250119_184449-d8luq2id/logs</code>"
      ],
      "text/plain": [
       "<IPython.core.display.HTML object>"
      ]
     },
     "metadata": {},
     "output_type": "display_data"
    },
    {
     "name": "stdout",
     "output_type": "stream",
     "text": [
      "lr:0.001-b:32-d_c:0, d_f:0.2\n"
     ]
    },
    {
     "data": {
      "text/html": [
       "Tracking run with wandb version 0.19.1"
      ],
      "text/plain": [
       "<IPython.core.display.HTML object>"
      ]
     },
     "metadata": {},
     "output_type": "display_data"
    },
    {
     "data": {
      "text/html": [
       "Run data is saved locally in <code>/home/migoox/dev/ml-dogs-sharepoint/notebook/training/wandb/run-20250119_184529-wgd44ow1</code>"
      ],
      "text/plain": [
       "<IPython.core.display.HTML object>"
      ]
     },
     "metadata": {},
     "output_type": "display_data"
    },
    {
     "data": {
      "text/html": [
       "Syncing run <strong><a href='https://wandb.ai/mldogs-wut/iml_final_tests/runs/wgd44ow1' target=\"_blank\">lr:0.001-b:32-d_c:0, d_f:0.2</a></strong> to <a href='https://wandb.ai/mldogs-wut/iml_final_tests' target=\"_blank\">Weights & Biases</a> (<a href='https://wandb.me/developer-guide' target=\"_blank\">docs</a>)<br>"
      ],
      "text/plain": [
       "<IPython.core.display.HTML object>"
      ]
     },
     "metadata": {},
     "output_type": "display_data"
    },
    {
     "data": {
      "text/html": [
       " View project at <a href='https://wandb.ai/mldogs-wut/iml_final_tests' target=\"_blank\">https://wandb.ai/mldogs-wut/iml_final_tests</a>"
      ],
      "text/plain": [
       "<IPython.core.display.HTML object>"
      ]
     },
     "metadata": {},
     "output_type": "display_data"
    },
    {
     "data": {
      "text/html": [
       " View run at <a href='https://wandb.ai/mldogs-wut/iml_final_tests/runs/wgd44ow1' target=\"_blank\">https://wandb.ai/mldogs-wut/iml_final_tests/runs/wgd44ow1</a>"
      ],
      "text/plain": [
       "<IPython.core.display.HTML object>"
      ]
     },
     "metadata": {},
     "output_type": "display_data"
    },
    {
     "name": "stdout",
     "output_type": "stream",
     "text": [
      "Epoch 1/30, Loss: 0.0398, F1 Score: 0.3996\n",
      "Epoch 2/30, Loss: 0.0193, F1 Score: 0.7539\n",
      "Epoch 3/30, Loss: 0.0139, F1 Score: 0.9051\n",
      "Epoch 4/30, Loss: 0.0064, F1 Score: 0.9456\n",
      "Epoch 5/30, Loss: 0.0038, F1 Score: 0.9662\n",
      "Epoch 6/30, Loss: 0.0011, F1 Score: 0.9759\n",
      "Epoch 7/30, Loss: 0.0009, F1 Score: 0.9918\n",
      "Epoch 8/30, Loss: 0.0006, F1 Score: 0.9971\n",
      "Epoch 9/30, Loss: 0.0004, F1 Score: 0.9961\n",
      "Epoch 10/30, Loss: 0.0005, F1 Score: 0.9990\n",
      "Epoch 11/30, Loss: 0.0008, F1 Score: 0.9982\n",
      "Epoch 12/30, Loss: 0.0005, F1 Score: 0.9961\n",
      "Epoch 13/30, Loss: 0.0037, F1 Score: 0.9897\n",
      "Epoch 14/30, Loss: 0.0008, F1 Score: 0.9932\n",
      "Epoch 15/30, Loss: 0.0000, F1 Score: 0.9988\n",
      "Epoch 16/30, Loss: 0.0001, F1 Score: 1.0000\n",
      "8 epochs without a val accuracy improvement. Stopping the train\n",
      "Training complete.\n"
     ]
    },
    {
     "data": {
      "text/html": [],
      "text/plain": [
       "<IPython.core.display.HTML object>"
      ]
     },
     "metadata": {},
     "output_type": "display_data"
    },
    {
     "data": {
      "text/html": [
       "<br>    <style><br>        .wandb-row {<br>            display: flex;<br>            flex-direction: row;<br>            flex-wrap: wrap;<br>            justify-content: flex-start;<br>            width: 100%;<br>        }<br>        .wandb-col {<br>            display: flex;<br>            flex-direction: column;<br>            flex-basis: 100%;<br>            flex: 1;<br>            padding: 10px;<br>        }<br>    </style><br><div class=\"wandb-row\"><div class=\"wandb-col\"><h3>Run history:</h3><br/><table class=\"wandb\"><tr><td>train/accuracy</td><td>▁▁▁▁▂▅▆▆▇▆▇▇▇▇▇█▇███████████████████████</td></tr><tr><td>train/loss</td><td>███▇▆▅▃▃▄▂▂▂▂▂▂▁▁▁▁▁▁▁▁▁▁▁▁▁▁▁▁▁▂▁▁▁▁▁▁▁</td></tr><tr><td>validation/accuracy</td><td>▁▅▇▇█████▇▇█████</td></tr><tr><td>validation/loss</td><td>▅▃▁▁▂▁▂▂▂▄█▄▃▃▇▇</td></tr></table><br/></div><div class=\"wandb-col\"><h3>Run summary:</h3><br/><table class=\"wandb\"><tr><td>train/accuracy</td><td>1</td></tr><tr><td>train/loss</td><td>0.00041</td></tr><tr><td>validation/accuracy</td><td>0.90796</td></tr><tr><td>validation/loss</td><td>0.90404</td></tr></table><br/></div></div>"
      ],
      "text/plain": [
       "<IPython.core.display.HTML object>"
      ]
     },
     "metadata": {},
     "output_type": "display_data"
    },
    {
     "data": {
      "text/html": [
       " View run <strong style=\"color:#cdcd00\">lr:0.001-b:32-d_c:0, d_f:0.2</strong> at: <a href='https://wandb.ai/mldogs-wut/iml_final_tests/runs/wgd44ow1' target=\"_blank\">https://wandb.ai/mldogs-wut/iml_final_tests/runs/wgd44ow1</a><br> View project at: <a href='https://wandb.ai/mldogs-wut/iml_final_tests' target=\"_blank\">https://wandb.ai/mldogs-wut/iml_final_tests</a><br>Synced 5 W&B file(s), 0 media file(s), 0 artifact file(s) and 0 other file(s)"
      ],
      "text/plain": [
       "<IPython.core.display.HTML object>"
      ]
     },
     "metadata": {},
     "output_type": "display_data"
    },
    {
     "data": {
      "text/html": [
       "Find logs at: <code>./wandb/run-20250119_184529-wgd44ow1/logs</code>"
      ],
      "text/plain": [
       "<IPython.core.display.HTML object>"
      ]
     },
     "metadata": {},
     "output_type": "display_data"
    },
    {
     "name": "stdout",
     "output_type": "stream",
     "text": [
      "lr:0.001-b:32-d_c:0, d_f:0.4\n"
     ]
    },
    {
     "data": {
      "text/html": [
       "Tracking run with wandb version 0.19.1"
      ],
      "text/plain": [
       "<IPython.core.display.HTML object>"
      ]
     },
     "metadata": {},
     "output_type": "display_data"
    },
    {
     "data": {
      "text/html": [
       "Run data is saved locally in <code>/home/migoox/dev/ml-dogs-sharepoint/notebook/training/wandb/run-20250119_184604-qgqs199d</code>"
      ],
      "text/plain": [
       "<IPython.core.display.HTML object>"
      ]
     },
     "metadata": {},
     "output_type": "display_data"
    },
    {
     "data": {
      "text/html": [
       "Syncing run <strong><a href='https://wandb.ai/mldogs-wut/iml_final_tests/runs/qgqs199d' target=\"_blank\">lr:0.001-b:32-d_c:0, d_f:0.4</a></strong> to <a href='https://wandb.ai/mldogs-wut/iml_final_tests' target=\"_blank\">Weights & Biases</a> (<a href='https://wandb.me/developer-guide' target=\"_blank\">docs</a>)<br>"
      ],
      "text/plain": [
       "<IPython.core.display.HTML object>"
      ]
     },
     "metadata": {},
     "output_type": "display_data"
    },
    {
     "data": {
      "text/html": [
       " View project at <a href='https://wandb.ai/mldogs-wut/iml_final_tests' target=\"_blank\">https://wandb.ai/mldogs-wut/iml_final_tests</a>"
      ],
      "text/plain": [
       "<IPython.core.display.HTML object>"
      ]
     },
     "metadata": {},
     "output_type": "display_data"
    },
    {
     "data": {
      "text/html": [
       " View run at <a href='https://wandb.ai/mldogs-wut/iml_final_tests/runs/qgqs199d' target=\"_blank\">https://wandb.ai/mldogs-wut/iml_final_tests/runs/qgqs199d</a>"
      ],
      "text/plain": [
       "<IPython.core.display.HTML object>"
      ]
     },
     "metadata": {},
     "output_type": "display_data"
    },
    {
     "name": "stdout",
     "output_type": "stream",
     "text": [
      "Epoch 1/30, Loss: 0.0253, F1 Score: 0.5606\n",
      "Epoch 2/30, Loss: 0.0124, F1 Score: 0.8636\n",
      "Epoch 3/30, Loss: 0.0079, F1 Score: 0.9331\n",
      "Epoch 4/30, Loss: 0.0072, F1 Score: 0.9610\n",
      "Epoch 5/30, Loss: 0.0028, F1 Score: 0.9814\n",
      "Epoch 6/30, Loss: 0.0014, F1 Score: 0.9901\n",
      "Epoch 7/30, Loss: 0.0028, F1 Score: 0.9944\n",
      "Epoch 8/30, Loss: 0.0006, F1 Score: 0.9932\n",
      "Epoch 9/30, Loss: 0.0002, F1 Score: 0.9988\n",
      "Epoch 10/30, Loss: 0.0000, F1 Score: 1.0000\n",
      "Epoch 11/30, Loss: 0.0000, F1 Score: 1.0000\n",
      "Epoch 12/30, Loss: 0.0000, F1 Score: 1.0000\n",
      "Epoch 13/30, Loss: 0.0000, F1 Score: 1.0000\n",
      "Epoch 14/30, Loss: 0.0000, F1 Score: 1.0000\n",
      "Epoch 15/30, Loss: 0.0000, F1 Score: 1.0000\n",
      "Epoch 16/30, Loss: 0.0000, F1 Score: 1.0000\n",
      "Epoch 17/30, Loss: 0.0000, F1 Score: 1.0000\n",
      "Too low accuracy. Stopping the train\n",
      "Training complete.\n"
     ]
    },
    {
     "data": {
      "text/html": [],
      "text/plain": [
       "<IPython.core.display.HTML object>"
      ]
     },
     "metadata": {},
     "output_type": "display_data"
    },
    {
     "data": {
      "text/html": [
       "<br>    <style><br>        .wandb-row {<br>            display: flex;<br>            flex-direction: row;<br>            flex-wrap: wrap;<br>            justify-content: flex-start;<br>            width: 100%;<br>        }<br>        .wandb-col {<br>            display: flex;<br>            flex-direction: column;<br>            flex-basis: 100%;<br>            flex: 1;<br>            padding: 10px;<br>        }<br>    </style><br><div class=\"wandb-row\"><div class=\"wandb-col\"><h3>Run history:</h3><br/><table class=\"wandb\"><tr><td>train/accuracy</td><td>▁▂▃▅▆▇▇▇▇▇██████████████████████████████</td></tr><tr><td>train/loss</td><td>█▆▅▅▄▂▃▂▂▂▂▁▁▁▂▁▁▁▁▁▁▁▁▁▁▁▁▁▁▁▁▁▁▁▁▁▁▁▁▁</td></tr><tr><td>validation/accuracy</td><td>▁▅▆▅▇████████████</td></tr><tr><td>validation/loss</td><td>▂▁▁▃▂▂▁▂▄▅▅▆▆▇▇██</td></tr></table><br/></div><div class=\"wandb-col\"><h3>Run summary:</h3><br/><table class=\"wandb\"><tr><td>train/accuracy</td><td>1</td></tr><tr><td>train/loss</td><td>2e-05</td></tr><tr><td>validation/accuracy</td><td>0.8897</td></tr><tr><td>validation/loss</td><td>1.64596</td></tr></table><br/></div></div>"
      ],
      "text/plain": [
       "<IPython.core.display.HTML object>"
      ]
     },
     "metadata": {},
     "output_type": "display_data"
    },
    {
     "data": {
      "text/html": [
       " View run <strong style=\"color:#cdcd00\">lr:0.001-b:32-d_c:0, d_f:0.4</strong> at: <a href='https://wandb.ai/mldogs-wut/iml_final_tests/runs/qgqs199d' target=\"_blank\">https://wandb.ai/mldogs-wut/iml_final_tests/runs/qgqs199d</a><br> View project at: <a href='https://wandb.ai/mldogs-wut/iml_final_tests' target=\"_blank\">https://wandb.ai/mldogs-wut/iml_final_tests</a><br>Synced 5 W&B file(s), 0 media file(s), 0 artifact file(s) and 0 other file(s)"
      ],
      "text/plain": [
       "<IPython.core.display.HTML object>"
      ]
     },
     "metadata": {},
     "output_type": "display_data"
    },
    {
     "data": {
      "text/html": [
       "Find logs at: <code>./wandb/run-20250119_184604-qgqs199d/logs</code>"
      ],
      "text/plain": [
       "<IPython.core.display.HTML object>"
      ]
     },
     "metadata": {},
     "output_type": "display_data"
    },
    {
     "name": "stdout",
     "output_type": "stream",
     "text": [
      "lr:0.001-b:32-d_c:0.2, d_f:0\n"
     ]
    },
    {
     "data": {
      "text/html": [
       "Tracking run with wandb version 0.19.1"
      ],
      "text/plain": [
       "<IPython.core.display.HTML object>"
      ]
     },
     "metadata": {},
     "output_type": "display_data"
    },
    {
     "data": {
      "text/html": [
       "Run data is saved locally in <code>/home/migoox/dev/ml-dogs-sharepoint/notebook/training/wandb/run-20250119_184642-sezznw47</code>"
      ],
      "text/plain": [
       "<IPython.core.display.HTML object>"
      ]
     },
     "metadata": {},
     "output_type": "display_data"
    },
    {
     "data": {
      "text/html": [
       "Syncing run <strong><a href='https://wandb.ai/mldogs-wut/iml_final_tests/runs/sezznw47' target=\"_blank\">lr:0.001-b:32-d_c:0.2, d_f:0</a></strong> to <a href='https://wandb.ai/mldogs-wut/iml_final_tests' target=\"_blank\">Weights & Biases</a> (<a href='https://wandb.me/developer-guide' target=\"_blank\">docs</a>)<br>"
      ],
      "text/plain": [
       "<IPython.core.display.HTML object>"
      ]
     },
     "metadata": {},
     "output_type": "display_data"
    },
    {
     "data": {
      "text/html": [
       " View project at <a href='https://wandb.ai/mldogs-wut/iml_final_tests' target=\"_blank\">https://wandb.ai/mldogs-wut/iml_final_tests</a>"
      ],
      "text/plain": [
       "<IPython.core.display.HTML object>"
      ]
     },
     "metadata": {},
     "output_type": "display_data"
    },
    {
     "data": {
      "text/html": [
       " View run at <a href='https://wandb.ai/mldogs-wut/iml_final_tests/runs/sezznw47' target=\"_blank\">https://wandb.ai/mldogs-wut/iml_final_tests/runs/sezznw47</a>"
      ],
      "text/plain": [
       "<IPython.core.display.HTML object>"
      ]
     },
     "metadata": {},
     "output_type": "display_data"
    },
    {
     "name": "stdout",
     "output_type": "stream",
     "text": [
      "Epoch 1/30, Loss: 0.0375, F1 Score: 0.4053\n",
      "Epoch 2/30, Loss: 0.0338, F1 Score: 0.5967\n",
      "Epoch 3/30, Loss: 0.0184, F1 Score: 0.7889\n",
      "Epoch 4/30, Loss: 0.0115, F1 Score: 0.8995\n",
      "Epoch 5/30, Loss: 0.0068, F1 Score: 0.9496\n",
      "Epoch 6/30, Loss: 0.0026, F1 Score: 0.9780\n",
      "Epoch 7/30, Loss: 0.0010, F1 Score: 0.9891\n",
      "Epoch 8/30, Loss: 0.0036, F1 Score: 0.9907\n",
      "Epoch 9/30, Loss: 0.0006, F1 Score: 0.9951\n",
      "Epoch 10/30, Loss: 0.0007, F1 Score: 0.9967\n",
      "Epoch 11/30, Loss: 0.0017, F1 Score: 0.9924\n",
      "Epoch 12/30, Loss: 0.0001, F1 Score: 0.9934\n",
      "Epoch 13/30, Loss: 0.0007, F1 Score: 0.9955\n",
      "Epoch 14/30, Loss: 0.0001, F1 Score: 0.9981\n",
      "Epoch 15/30, Loss: 0.0004, F1 Score: 0.9996\n",
      "Epoch 16/30, Loss: 0.0001, F1 Score: 0.9996\n",
      "Epoch 17/30, Loss: 0.0000, F1 Score: 0.9998\n",
      "Too low accuracy. Stopping the train\n",
      "Training complete.\n"
     ]
    },
    {
     "data": {
      "text/html": [],
      "text/plain": [
       "<IPython.core.display.HTML object>"
      ]
     },
     "metadata": {},
     "output_type": "display_data"
    },
    {
     "data": {
      "text/html": [
       "<br>    <style><br>        .wandb-row {<br>            display: flex;<br>            flex-direction: row;<br>            flex-wrap: wrap;<br>            justify-content: flex-start;<br>            width: 100%;<br>        }<br>        .wandb-col {<br>            display: flex;<br>            flex-direction: column;<br>            flex-basis: 100%;<br>            flex: 1;<br>            padding: 10px;<br>        }<br>    </style><br><div class=\"wandb-row\"><div class=\"wandb-col\"><h3>Run history:</h3><br/><table class=\"wandb\"><tr><td>train/accuracy</td><td>▁▁▂▂▂▂▄▅▆▆▇▇████████████████████████████</td></tr><tr><td>train/loss</td><td>██▇▇▇▇▆▅▃▃▂▂▁▂▁▁▁▁▁▁▁▁▁▁▁▁▁▁▁▁▁▁▁▁▁▁▁▁▁▁</td></tr><tr><td>validation/accuracy</td><td>▁▂▄▆▇▇▇▇▇█▆▇▇█▇██</td></tr><tr><td>validation/loss</td><td>▃▃▃▁▁▂▁▁▄▂▅▅▃▃▄▃█</td></tr></table><br/></div><div class=\"wandb-col\"><h3>Run summary:</h3><br/><table class=\"wandb\"><tr><td>train/accuracy</td><td>1</td></tr><tr><td>train/loss</td><td>0.00013</td></tr><tr><td>validation/accuracy</td><td>0.88889</td></tr><tr><td>validation/loss</td><td>1.26181</td></tr></table><br/></div></div>"
      ],
      "text/plain": [
       "<IPython.core.display.HTML object>"
      ]
     },
     "metadata": {},
     "output_type": "display_data"
    },
    {
     "data": {
      "text/html": [
       " View run <strong style=\"color:#cdcd00\">lr:0.001-b:32-d_c:0.2, d_f:0</strong> at: <a href='https://wandb.ai/mldogs-wut/iml_final_tests/runs/sezznw47' target=\"_blank\">https://wandb.ai/mldogs-wut/iml_final_tests/runs/sezznw47</a><br> View project at: <a href='https://wandb.ai/mldogs-wut/iml_final_tests' target=\"_blank\">https://wandb.ai/mldogs-wut/iml_final_tests</a><br>Synced 5 W&B file(s), 0 media file(s), 0 artifact file(s) and 0 other file(s)"
      ],
      "text/plain": [
       "<IPython.core.display.HTML object>"
      ]
     },
     "metadata": {},
     "output_type": "display_data"
    },
    {
     "data": {
      "text/html": [
       "Find logs at: <code>./wandb/run-20250119_184642-sezznw47/logs</code>"
      ],
      "text/plain": [
       "<IPython.core.display.HTML object>"
      ]
     },
     "metadata": {},
     "output_type": "display_data"
    },
    {
     "name": "stdout",
     "output_type": "stream",
     "text": [
      "lr:0.001-b:32-d_c:0.2, d_f:0.2\n"
     ]
    },
    {
     "data": {
      "text/html": [
       "Tracking run with wandb version 0.19.1"
      ],
      "text/plain": [
       "<IPython.core.display.HTML object>"
      ]
     },
     "metadata": {},
     "output_type": "display_data"
    },
    {
     "data": {
      "text/html": [
       "Run data is saved locally in <code>/home/migoox/dev/ml-dogs-sharepoint/notebook/training/wandb/run-20250119_184722-lhnsa3mh</code>"
      ],
      "text/plain": [
       "<IPython.core.display.HTML object>"
      ]
     },
     "metadata": {},
     "output_type": "display_data"
    },
    {
     "data": {
      "text/html": [
       "Syncing run <strong><a href='https://wandb.ai/mldogs-wut/iml_final_tests/runs/lhnsa3mh' target=\"_blank\">lr:0.001-b:32-d_c:0.2, d_f:0.2</a></strong> to <a href='https://wandb.ai/mldogs-wut/iml_final_tests' target=\"_blank\">Weights & Biases</a> (<a href='https://wandb.me/developer-guide' target=\"_blank\">docs</a>)<br>"
      ],
      "text/plain": [
       "<IPython.core.display.HTML object>"
      ]
     },
     "metadata": {},
     "output_type": "display_data"
    },
    {
     "data": {
      "text/html": [
       " View project at <a href='https://wandb.ai/mldogs-wut/iml_final_tests' target=\"_blank\">https://wandb.ai/mldogs-wut/iml_final_tests</a>"
      ],
      "text/plain": [
       "<IPython.core.display.HTML object>"
      ]
     },
     "metadata": {},
     "output_type": "display_data"
    },
    {
     "data": {
      "text/html": [
       " View run at <a href='https://wandb.ai/mldogs-wut/iml_final_tests/runs/lhnsa3mh' target=\"_blank\">https://wandb.ai/mldogs-wut/iml_final_tests/runs/lhnsa3mh</a>"
      ],
      "text/plain": [
       "<IPython.core.display.HTML object>"
      ]
     },
     "metadata": {},
     "output_type": "display_data"
    },
    {
     "name": "stdout",
     "output_type": "stream",
     "text": [
      "Epoch 1/30, Loss: 0.0226, F1 Score: 0.5874\n",
      "Epoch 2/30, Loss: 0.0146, F1 Score: 0.8720\n",
      "Epoch 3/30, Loss: 0.0098, F1 Score: 0.9242\n",
      "Epoch 4/30, Loss: 0.0081, F1 Score: 0.9421\n",
      "Epoch 5/30, Loss: 0.0099, F1 Score: 0.9668\n",
      "Epoch 6/30, Loss: 0.0018, F1 Score: 0.9717\n",
      "Epoch 7/30, Loss: 0.0018, F1 Score: 0.9885\n",
      "Epoch 8/30, Loss: 0.0024, F1 Score: 0.9897\n",
      "Epoch 9/30, Loss: 0.0003, F1 Score: 0.9949\n",
      "Epoch 10/30, Loss: 0.0007, F1 Score: 0.9951\n",
      "Epoch 11/30, Loss: 0.0004, F1 Score: 0.9938\n",
      "Epoch 12/30, Loss: 0.0011, F1 Score: 0.9979\n",
      "Epoch 13/30, Loss: 0.0000, F1 Score: 0.9957\n",
      "Epoch 14/30, Loss: 0.0001, F1 Score: 0.9981\n",
      "Epoch 15/30, Loss: 0.0000, F1 Score: 1.0000\n",
      "Epoch 16/30, Loss: 0.0000, F1 Score: 1.0000\n",
      "Epoch 17/30, Loss: 0.0000, F1 Score: 1.0000\n",
      "Epoch 18/30, Loss: 0.0000, F1 Score: 1.0000\n",
      "Epoch 19/30, Loss: 0.0000, F1 Score: 1.0000\n",
      "Epoch 20/30, Loss: 0.0000, F1 Score: 1.0000\n",
      "Epoch 21/30, Loss: 0.0000, F1 Score: 1.0000\n",
      "Epoch 22/30, Loss: 0.0000, F1 Score: 1.0000\n",
      "Epoch 23/30, Loss: 0.0000, F1 Score: 1.0000\n",
      "8 epochs without a val accuracy improvement. Stopping the train\n",
      "Training complete.\n"
     ]
    },
    {
     "data": {
      "text/html": [],
      "text/plain": [
       "<IPython.core.display.HTML object>"
      ]
     },
     "metadata": {},
     "output_type": "display_data"
    },
    {
     "data": {
      "text/html": [
       "<br>    <style><br>        .wandb-row {<br>            display: flex;<br>            flex-direction: row;<br>            flex-wrap: wrap;<br>            justify-content: flex-start;<br>            width: 100%;<br>        }<br>        .wandb-col {<br>            display: flex;<br>            flex-direction: column;<br>            flex-basis: 100%;<br>            flex: 1;<br>            padding: 10px;<br>        }<br>    </style><br><div class=\"wandb-row\"><div class=\"wandb-col\"><h3>Run history:</h3><br/><table class=\"wandb\"><tr><td>train/accuracy</td><td>▁▆▆▅▆▇▇▇▇██▇████████████████████████████</td></tr><tr><td>train/loss</td><td>█▅▅▄▃▃▃▂▂▁▁▁▁▁▁▁▁▁▁▁▁▁▁▁▁▁▁▁▁▁▁▁▁▁▁▁▁▁▁▁</td></tr><tr><td>validation/accuracy</td><td>▁▃▅▁▅▇▇▆▆▇▇▄███████████</td></tr><tr><td>validation/loss</td><td>▂▁▁▄▁▁▂▄▅▅▃▃▄▆█▇▇▇▇▇███</td></tr></table><br/></div><div class=\"wandb-col\"><h3>Run summary:</h3><br/><table class=\"wandb\"><tr><td>train/accuracy</td><td>1</td></tr><tr><td>train/loss</td><td>3e-05</td></tr><tr><td>validation/accuracy</td><td>0.92405</td></tr><tr><td>validation/loss</td><td>1.09785</td></tr></table><br/></div></div>"
      ],
      "text/plain": [
       "<IPython.core.display.HTML object>"
      ]
     },
     "metadata": {},
     "output_type": "display_data"
    },
    {
     "data": {
      "text/html": [
       " View run <strong style=\"color:#cdcd00\">lr:0.001-b:32-d_c:0.2, d_f:0.2</strong> at: <a href='https://wandb.ai/mldogs-wut/iml_final_tests/runs/lhnsa3mh' target=\"_blank\">https://wandb.ai/mldogs-wut/iml_final_tests/runs/lhnsa3mh</a><br> View project at: <a href='https://wandb.ai/mldogs-wut/iml_final_tests' target=\"_blank\">https://wandb.ai/mldogs-wut/iml_final_tests</a><br>Synced 5 W&B file(s), 0 media file(s), 0 artifact file(s) and 0 other file(s)"
      ],
      "text/plain": [
       "<IPython.core.display.HTML object>"
      ]
     },
     "metadata": {},
     "output_type": "display_data"
    },
    {
     "data": {
      "text/html": [
       "Find logs at: <code>./wandb/run-20250119_184722-lhnsa3mh/logs</code>"
      ],
      "text/plain": [
       "<IPython.core.display.HTML object>"
      ]
     },
     "metadata": {},
     "output_type": "display_data"
    },
    {
     "name": "stdout",
     "output_type": "stream",
     "text": [
      "lr:0.001-b:32-d_c:0.2, d_f:0.4\n"
     ]
    },
    {
     "data": {
      "text/html": [
       "Tracking run with wandb version 0.19.1"
      ],
      "text/plain": [
       "<IPython.core.display.HTML object>"
      ]
     },
     "metadata": {},
     "output_type": "display_data"
    },
    {
     "data": {
      "text/html": [
       "Run data is saved locally in <code>/home/migoox/dev/ml-dogs-sharepoint/notebook/training/wandb/run-20250119_184812-4uis8wf8</code>"
      ],
      "text/plain": [
       "<IPython.core.display.HTML object>"
      ]
     },
     "metadata": {},
     "output_type": "display_data"
    },
    {
     "data": {
      "text/html": [
       "Syncing run <strong><a href='https://wandb.ai/mldogs-wut/iml_final_tests/runs/4uis8wf8' target=\"_blank\">lr:0.001-b:32-d_c:0.2, d_f:0.4</a></strong> to <a href='https://wandb.ai/mldogs-wut/iml_final_tests' target=\"_blank\">Weights & Biases</a> (<a href='https://wandb.me/developer-guide' target=\"_blank\">docs</a>)<br>"
      ],
      "text/plain": [
       "<IPython.core.display.HTML object>"
      ]
     },
     "metadata": {},
     "output_type": "display_data"
    },
    {
     "data": {
      "text/html": [
       " View project at <a href='https://wandb.ai/mldogs-wut/iml_final_tests' target=\"_blank\">https://wandb.ai/mldogs-wut/iml_final_tests</a>"
      ],
      "text/plain": [
       "<IPython.core.display.HTML object>"
      ]
     },
     "metadata": {},
     "output_type": "display_data"
    },
    {
     "data": {
      "text/html": [
       " View run at <a href='https://wandb.ai/mldogs-wut/iml_final_tests/runs/4uis8wf8' target=\"_blank\">https://wandb.ai/mldogs-wut/iml_final_tests/runs/4uis8wf8</a>"
      ],
      "text/plain": [
       "<IPython.core.display.HTML object>"
      ]
     },
     "metadata": {},
     "output_type": "display_data"
    },
    {
     "name": "stdout",
     "output_type": "stream",
     "text": [
      "Epoch 1/30, Loss: 0.0395, F1 Score: 0.4095\n",
      "Epoch 2/30, Loss: 0.0270, F1 Score: 0.6659\n",
      "Epoch 3/30, Loss: 0.0078, F1 Score: 0.8912\n",
      "Epoch 4/30, Loss: 0.0059, F1 Score: 0.9521\n",
      "Epoch 5/30, Loss: 0.0023, F1 Score: 0.9815\n",
      "Epoch 6/30, Loss: 0.0011, F1 Score: 0.9899\n",
      "Epoch 7/30, Loss: 0.0001, F1 Score: 0.9965\n",
      "Epoch 8/30, Loss: 0.0002, F1 Score: 0.9994\n",
      "Epoch 9/30, Loss: 0.0000, F1 Score: 0.9998\n",
      "Epoch 10/30, Loss: 0.0001, F1 Score: 0.9998\n",
      "Epoch 11/30, Loss: 0.0000, F1 Score: 1.0000\n",
      "Epoch 12/30, Loss: 0.0000, F1 Score: 1.0000\n",
      "Epoch 13/30, Loss: 0.0000, F1 Score: 1.0000\n",
      "Epoch 14/30, Loss: 0.0000, F1 Score: 1.0000\n",
      "Epoch 15/30, Loss: 0.0000, F1 Score: 1.0000\n",
      "Epoch 16/30, Loss: 0.0000, F1 Score: 1.0000\n",
      "Epoch 17/30, Loss: 0.0000, F1 Score: 1.0000\n",
      "8 epochs without a val accuracy improvement. Stopping the train\n",
      "Training complete.\n"
     ]
    },
    {
     "data": {
      "text/html": [],
      "text/plain": [
       "<IPython.core.display.HTML object>"
      ]
     },
     "metadata": {},
     "output_type": "display_data"
    },
    {
     "data": {
      "text/html": [
       "<br>    <style><br>        .wandb-row {<br>            display: flex;<br>            flex-direction: row;<br>            flex-wrap: wrap;<br>            justify-content: flex-start;<br>            width: 100%;<br>        }<br>        .wandb-col {<br>            display: flex;<br>            flex-direction: column;<br>            flex-basis: 100%;<br>            flex: 1;<br>            padding: 10px;<br>        }<br>    </style><br><div class=\"wandb-row\"><div class=\"wandb-col\"><h3>Run history:</h3><br/><table class=\"wandb\"><tr><td>train/accuracy</td><td>▂▁▂▂▁▄▅▆▇▆▇▇████████████████████████████</td></tr><tr><td>train/loss</td><td>███▇▆▄▃▃▂▂▂▂▂▂▁▁▁▁▁▁▁▁▁▁▁▁▁▁▁▁▁▁▁▁▁▁▁▁▁▁</td></tr><tr><td>validation/accuracy</td><td>▁▅▆▇███▇█████████</td></tr><tr><td>validation/loss</td><td>▂▁▁▂▂▂▂█▅█▆▇▇▇▇██</td></tr></table><br/></div><div class=\"wandb-col\"><h3>Run summary:</h3><br/><table class=\"wandb\"><tr><td>train/accuracy</td><td>1</td></tr><tr><td>train/loss</td><td>5e-05</td></tr><tr><td>validation/accuracy</td><td>0.868</td></tr><tr><td>validation/loss</td><td>2.2835</td></tr></table><br/></div></div>"
      ],
      "text/plain": [
       "<IPython.core.display.HTML object>"
      ]
     },
     "metadata": {},
     "output_type": "display_data"
    },
    {
     "data": {
      "text/html": [
       " View run <strong style=\"color:#cdcd00\">lr:0.001-b:32-d_c:0.2, d_f:0.4</strong> at: <a href='https://wandb.ai/mldogs-wut/iml_final_tests/runs/4uis8wf8' target=\"_blank\">https://wandb.ai/mldogs-wut/iml_final_tests/runs/4uis8wf8</a><br> View project at: <a href='https://wandb.ai/mldogs-wut/iml_final_tests' target=\"_blank\">https://wandb.ai/mldogs-wut/iml_final_tests</a><br>Synced 5 W&B file(s), 0 media file(s), 0 artifact file(s) and 0 other file(s)"
      ],
      "text/plain": [
       "<IPython.core.display.HTML object>"
      ]
     },
     "metadata": {},
     "output_type": "display_data"
    },
    {
     "data": {
      "text/html": [
       "Find logs at: <code>./wandb/run-20250119_184812-4uis8wf8/logs</code>"
      ],
      "text/plain": [
       "<IPython.core.display.HTML object>"
      ]
     },
     "metadata": {},
     "output_type": "display_data"
    },
    {
     "name": "stdout",
     "output_type": "stream",
     "text": [
      "lr:0.001-b:32-d_c:0.4, d_f:0\n"
     ]
    },
    {
     "data": {
      "text/html": [
       "Tracking run with wandb version 0.19.1"
      ],
      "text/plain": [
       "<IPython.core.display.HTML object>"
      ]
     },
     "metadata": {},
     "output_type": "display_data"
    },
    {
     "data": {
      "text/html": [
       "Run data is saved locally in <code>/home/migoox/dev/ml-dogs-sharepoint/notebook/training/wandb/run-20250119_184849-01hiz6bo</code>"
      ],
      "text/plain": [
       "<IPython.core.display.HTML object>"
      ]
     },
     "metadata": {},
     "output_type": "display_data"
    },
    {
     "data": {
      "text/html": [
       "Syncing run <strong><a href='https://wandb.ai/mldogs-wut/iml_final_tests/runs/01hiz6bo' target=\"_blank\">lr:0.001-b:32-d_c:0.4, d_f:0</a></strong> to <a href='https://wandb.ai/mldogs-wut/iml_final_tests' target=\"_blank\">Weights & Biases</a> (<a href='https://wandb.me/developer-guide' target=\"_blank\">docs</a>)<br>"
      ],
      "text/plain": [
       "<IPython.core.display.HTML object>"
      ]
     },
     "metadata": {},
     "output_type": "display_data"
    },
    {
     "data": {
      "text/html": [
       " View project at <a href='https://wandb.ai/mldogs-wut/iml_final_tests' target=\"_blank\">https://wandb.ai/mldogs-wut/iml_final_tests</a>"
      ],
      "text/plain": [
       "<IPython.core.display.HTML object>"
      ]
     },
     "metadata": {},
     "output_type": "display_data"
    },
    {
     "data": {
      "text/html": [
       " View run at <a href='https://wandb.ai/mldogs-wut/iml_final_tests/runs/01hiz6bo' target=\"_blank\">https://wandb.ai/mldogs-wut/iml_final_tests/runs/01hiz6bo</a>"
      ],
      "text/plain": [
       "<IPython.core.display.HTML object>"
      ]
     },
     "metadata": {},
     "output_type": "display_data"
    },
    {
     "name": "stdout",
     "output_type": "stream",
     "text": [
      "Epoch 1/30, Loss: 0.0296, F1 Score: 0.5035\n",
      "Epoch 2/30, Loss: 0.0108, F1 Score: 0.8541\n",
      "Epoch 3/30, Loss: 0.0103, F1 Score: 0.9344\n",
      "Epoch 4/30, Loss: 0.0069, F1 Score: 0.9670\n",
      "Epoch 5/30, Loss: 0.0011, F1 Score: 0.9825\n",
      "Epoch 6/30, Loss: 0.0010, F1 Score: 0.9920\n",
      "Epoch 7/30, Loss: 0.0002, F1 Score: 0.9971\n",
      "Epoch 8/30, Loss: 0.0001, F1 Score: 0.9996\n",
      "Epoch 9/30, Loss: 0.0000, F1 Score: 1.0000\n",
      "Epoch 10/30, Loss: 0.0001, F1 Score: 1.0000\n",
      "Epoch 11/30, Loss: 0.0000, F1 Score: 1.0000\n",
      "Epoch 12/30, Loss: 0.0000, F1 Score: 1.0000\n",
      "Epoch 13/30, Loss: 0.0000, F1 Score: 1.0000\n",
      "Epoch 14/30, Loss: 0.0000, F1 Score: 1.0000\n",
      "Epoch 15/30, Loss: 0.0000, F1 Score: 1.0000\n",
      "Epoch 16/30, Loss: 0.0000, F1 Score: 1.0000\n",
      "Epoch 17/30, Loss: 0.0000, F1 Score: 1.0000\n",
      "8 epochs without a val accuracy improvement. Stopping the train\n",
      "Training complete.\n"
     ]
    },
    {
     "data": {
      "text/html": [],
      "text/plain": [
       "<IPython.core.display.HTML object>"
      ]
     },
     "metadata": {},
     "output_type": "display_data"
    },
    {
     "data": {
      "text/html": [
       "<br>    <style><br>        .wandb-row {<br>            display: flex;<br>            flex-direction: row;<br>            flex-wrap: wrap;<br>            justify-content: flex-start;<br>            width: 100%;<br>        }<br>        .wandb-col {<br>            display: flex;<br>            flex-direction: column;<br>            flex-basis: 100%;<br>            flex: 1;<br>            padding: 10px;<br>        }<br>    </style><br><div class=\"wandb-row\"><div class=\"wandb-col\"><h3>Run history:</h3><br/><table class=\"wandb\"><tr><td>train/accuracy</td><td>▁▂▂▅▆▇▇▇▇▇██████████████████████████████</td></tr><tr><td>train/loss</td><td>█▅▅▄▃▂▂▂▂▂▁▁▁▁▁▁▁▁▁▁▁▁▁▁▁▁▁▁▁▁▁▁▁▁▁▁▁▁▁▁</td></tr><tr><td>validation/accuracy</td><td>▁▅▃▆▇▆█▇▇▇▇▇▇▇▇▇▇</td></tr><tr><td>validation/loss</td><td>▂▁▂▂▂▃▂▄▅▆▆▇▆▇▇██</td></tr></table><br/></div><div class=\"wandb-col\"><h3>Run summary:</h3><br/><table class=\"wandb\"><tr><td>train/accuracy</td><td>1</td></tr><tr><td>train/loss</td><td>6e-05</td></tr><tr><td>validation/accuracy</td><td>0.86971</td></tr><tr><td>validation/loss</td><td>1.96056</td></tr></table><br/></div></div>"
      ],
      "text/plain": [
       "<IPython.core.display.HTML object>"
      ]
     },
     "metadata": {},
     "output_type": "display_data"
    },
    {
     "data": {
      "text/html": [
       " View run <strong style=\"color:#cdcd00\">lr:0.001-b:32-d_c:0.4, d_f:0</strong> at: <a href='https://wandb.ai/mldogs-wut/iml_final_tests/runs/01hiz6bo' target=\"_blank\">https://wandb.ai/mldogs-wut/iml_final_tests/runs/01hiz6bo</a><br> View project at: <a href='https://wandb.ai/mldogs-wut/iml_final_tests' target=\"_blank\">https://wandb.ai/mldogs-wut/iml_final_tests</a><br>Synced 5 W&B file(s), 0 media file(s), 0 artifact file(s) and 0 other file(s)"
      ],
      "text/plain": [
       "<IPython.core.display.HTML object>"
      ]
     },
     "metadata": {},
     "output_type": "display_data"
    },
    {
     "data": {
      "text/html": [
       "Find logs at: <code>./wandb/run-20250119_184849-01hiz6bo/logs</code>"
      ],
      "text/plain": [
       "<IPython.core.display.HTML object>"
      ]
     },
     "metadata": {},
     "output_type": "display_data"
    },
    {
     "name": "stdout",
     "output_type": "stream",
     "text": [
      "lr:0.001-b:32-d_c:0.4, d_f:0.2\n"
     ]
    },
    {
     "data": {
      "text/html": [
       "Tracking run with wandb version 0.19.1"
      ],
      "text/plain": [
       "<IPython.core.display.HTML object>"
      ]
     },
     "metadata": {},
     "output_type": "display_data"
    },
    {
     "data": {
      "text/html": [
       "Run data is saved locally in <code>/home/migoox/dev/ml-dogs-sharepoint/notebook/training/wandb/run-20250119_184926-8keid3e8</code>"
      ],
      "text/plain": [
       "<IPython.core.display.HTML object>"
      ]
     },
     "metadata": {},
     "output_type": "display_data"
    },
    {
     "data": {
      "text/html": [
       "Syncing run <strong><a href='https://wandb.ai/mldogs-wut/iml_final_tests/runs/8keid3e8' target=\"_blank\">lr:0.001-b:32-d_c:0.4, d_f:0.2</a></strong> to <a href='https://wandb.ai/mldogs-wut/iml_final_tests' target=\"_blank\">Weights & Biases</a> (<a href='https://wandb.me/developer-guide' target=\"_blank\">docs</a>)<br>"
      ],
      "text/plain": [
       "<IPython.core.display.HTML object>"
      ]
     },
     "metadata": {},
     "output_type": "display_data"
    },
    {
     "data": {
      "text/html": [
       " View project at <a href='https://wandb.ai/mldogs-wut/iml_final_tests' target=\"_blank\">https://wandb.ai/mldogs-wut/iml_final_tests</a>"
      ],
      "text/plain": [
       "<IPython.core.display.HTML object>"
      ]
     },
     "metadata": {},
     "output_type": "display_data"
    },
    {
     "data": {
      "text/html": [
       " View run at <a href='https://wandb.ai/mldogs-wut/iml_final_tests/runs/8keid3e8' target=\"_blank\">https://wandb.ai/mldogs-wut/iml_final_tests/runs/8keid3e8</a>"
      ],
      "text/plain": [
       "<IPython.core.display.HTML object>"
      ]
     },
     "metadata": {},
     "output_type": "display_data"
    },
    {
     "name": "stdout",
     "output_type": "stream",
     "text": [
      "Epoch 1/30, Loss: 0.0285, F1 Score: 0.5189\n",
      "Epoch 2/30, Loss: 0.0114, F1 Score: 0.8879\n",
      "Epoch 3/30, Loss: 0.0062, F1 Score: 0.9485\n",
      "Epoch 4/30, Loss: 0.0041, F1 Score: 0.9728\n",
      "Epoch 5/30, Loss: 0.0033, F1 Score: 0.9833\n",
      "Epoch 6/30, Loss: 0.0023, F1 Score: 0.9862\n",
      "Epoch 7/30, Loss: 0.0010, F1 Score: 0.9947\n",
      "Epoch 8/30, Loss: 0.0005, F1 Score: 0.9961\n",
      "Epoch 9/30, Loss: 0.0003, F1 Score: 0.9979\n",
      "Epoch 10/30, Loss: 0.0001, F1 Score: 0.9992\n",
      "Epoch 11/30, Loss: 0.0000, F1 Score: 1.0000\n",
      "Epoch 12/30, Loss: 0.0000, F1 Score: 1.0000\n",
      "Epoch 13/30, Loss: 0.0000, F1 Score: 1.0000\n",
      "Epoch 14/30, Loss: 0.0000, F1 Score: 1.0000\n",
      "Epoch 15/30, Loss: 0.0000, F1 Score: 1.0000\n",
      "Epoch 16/30, Loss: 0.0000, F1 Score: 1.0000\n",
      "Epoch 17/30, Loss: 0.0000, F1 Score: 1.0000\n",
      "Too low accuracy. Stopping the train\n",
      "Training complete.\n"
     ]
    },
    {
     "data": {
      "text/html": [],
      "text/plain": [
       "<IPython.core.display.HTML object>"
      ]
     },
     "metadata": {},
     "output_type": "display_data"
    },
    {
     "data": {
      "text/html": [
       "<br>    <style><br>        .wandb-row {<br>            display: flex;<br>            flex-direction: row;<br>            flex-wrap: wrap;<br>            justify-content: flex-start;<br>            width: 100%;<br>        }<br>        .wandb-col {<br>            display: flex;<br>            flex-direction: column;<br>            flex-basis: 100%;<br>            flex: 1;<br>            padding: 10px;<br>        }<br>    </style><br><div class=\"wandb-row\"><div class=\"wandb-col\"><h3>Run history:</h3><br/><table class=\"wandb\"><tr><td>train/accuracy</td><td>▁▁▂▂▃▇▇▇▇▇▇███▇█████████████████████████</td></tr><tr><td>train/loss</td><td>█▇▆▄▄▂▂▂▂▂▁▂▂▁▁▁▁▁▁▁▁▁▁▁▁▁▁▁▁▁▁▁▁▁▁▁▁▁▁▁</td></tr><tr><td>validation/accuracy</td><td>▁▆▆▆█▇▇█▇▇███████</td></tr><tr><td>validation/loss</td><td>▂▁▃▂▁▂▃▃▇▃▇▆▇████</td></tr></table><br/></div><div class=\"wandb-col\"><h3>Run summary:</h3><br/><table class=\"wandb\"><tr><td>train/accuracy</td><td>1</td></tr><tr><td>train/loss</td><td>4e-05</td></tr><tr><td>validation/accuracy</td><td>0.89228</td></tr><tr><td>validation/loss</td><td>1.6661</td></tr></table><br/></div></div>"
      ],
      "text/plain": [
       "<IPython.core.display.HTML object>"
      ]
     },
     "metadata": {},
     "output_type": "display_data"
    },
    {
     "data": {
      "text/html": [
       " View run <strong style=\"color:#cdcd00\">lr:0.001-b:32-d_c:0.4, d_f:0.2</strong> at: <a href='https://wandb.ai/mldogs-wut/iml_final_tests/runs/8keid3e8' target=\"_blank\">https://wandb.ai/mldogs-wut/iml_final_tests/runs/8keid3e8</a><br> View project at: <a href='https://wandb.ai/mldogs-wut/iml_final_tests' target=\"_blank\">https://wandb.ai/mldogs-wut/iml_final_tests</a><br>Synced 5 W&B file(s), 0 media file(s), 0 artifact file(s) and 0 other file(s)"
      ],
      "text/plain": [
       "<IPython.core.display.HTML object>"
      ]
     },
     "metadata": {},
     "output_type": "display_data"
    },
    {
     "data": {
      "text/html": [
       "Find logs at: <code>./wandb/run-20250119_184926-8keid3e8/logs</code>"
      ],
      "text/plain": [
       "<IPython.core.display.HTML object>"
      ]
     },
     "metadata": {},
     "output_type": "display_data"
    },
    {
     "name": "stdout",
     "output_type": "stream",
     "text": [
      "lr:0.001-b:32-d_c:0.4, d_f:0.4\n"
     ]
    },
    {
     "data": {
      "text/html": [
       "Tracking run with wandb version 0.19.1"
      ],
      "text/plain": [
       "<IPython.core.display.HTML object>"
      ]
     },
     "metadata": {},
     "output_type": "display_data"
    },
    {
     "data": {
      "text/html": [
       "Run data is saved locally in <code>/home/migoox/dev/ml-dogs-sharepoint/notebook/training/wandb/run-20250119_185003-2jk3pa0j</code>"
      ],
      "text/plain": [
       "<IPython.core.display.HTML object>"
      ]
     },
     "metadata": {},
     "output_type": "display_data"
    },
    {
     "data": {
      "text/html": [
       "Syncing run <strong><a href='https://wandb.ai/mldogs-wut/iml_final_tests/runs/2jk3pa0j' target=\"_blank\">lr:0.001-b:32-d_c:0.4, d_f:0.4</a></strong> to <a href='https://wandb.ai/mldogs-wut/iml_final_tests' target=\"_blank\">Weights & Biases</a> (<a href='https://wandb.me/developer-guide' target=\"_blank\">docs</a>)<br>"
      ],
      "text/plain": [
       "<IPython.core.display.HTML object>"
      ]
     },
     "metadata": {},
     "output_type": "display_data"
    },
    {
     "data": {
      "text/html": [
       " View project at <a href='https://wandb.ai/mldogs-wut/iml_final_tests' target=\"_blank\">https://wandb.ai/mldogs-wut/iml_final_tests</a>"
      ],
      "text/plain": [
       "<IPython.core.display.HTML object>"
      ]
     },
     "metadata": {},
     "output_type": "display_data"
    },
    {
     "data": {
      "text/html": [
       " View run at <a href='https://wandb.ai/mldogs-wut/iml_final_tests/runs/2jk3pa0j' target=\"_blank\">https://wandb.ai/mldogs-wut/iml_final_tests/runs/2jk3pa0j</a>"
      ],
      "text/plain": [
       "<IPython.core.display.HTML object>"
      ]
     },
     "metadata": {},
     "output_type": "display_data"
    },
    {
     "name": "stdout",
     "output_type": "stream",
     "text": [
      "Epoch 1/30, Loss: 0.0274, F1 Score: 0.5522\n",
      "Epoch 2/30, Loss: 0.0152, F1 Score: 0.8430\n",
      "Epoch 3/30, Loss: 0.0183, F1 Score: 0.9074\n",
      "Epoch 4/30, Loss: 0.0096, F1 Score: 0.9394\n",
      "Epoch 5/30, Loss: 0.0064, F1 Score: 0.9523\n",
      "Epoch 6/30, Loss: 0.0047, F1 Score: 0.9670\n",
      "Epoch 7/30, Loss: 0.0012, F1 Score: 0.9870\n",
      "Epoch 8/30, Loss: 0.0033, F1 Score: 0.9885\n",
      "Epoch 9/30, Loss: 0.0014, F1 Score: 0.9885\n",
      "Epoch 10/30, Loss: 0.0003, F1 Score: 0.9975\n",
      "Epoch 11/30, Loss: 0.0002, F1 Score: 0.9986\n",
      "Epoch 12/30, Loss: 0.0002, F1 Score: 0.9988\n",
      "Epoch 13/30, Loss: 0.0027, F1 Score: 0.9885\n",
      "Epoch 14/30, Loss: 0.0006, F1 Score: 0.9938\n",
      "Epoch 15/30, Loss: 0.0001, F1 Score: 0.9986\n",
      "Epoch 16/30, Loss: 0.0000, F1 Score: 1.0000\n",
      "Epoch 17/30, Loss: 0.0000, F1 Score: 1.0000\n",
      "Too low accuracy. Stopping the train\n",
      "Training complete.\n"
     ]
    },
    {
     "data": {
      "text/html": [],
      "text/plain": [
       "<IPython.core.display.HTML object>"
      ]
     },
     "metadata": {},
     "output_type": "display_data"
    },
    {
     "data": {
      "text/html": [
       "<br>    <style><br>        .wandb-row {<br>            display: flex;<br>            flex-direction: row;<br>            flex-wrap: wrap;<br>            justify-content: flex-start;<br>            width: 100%;<br>        }<br>        .wandb-col {<br>            display: flex;<br>            flex-direction: column;<br>            flex-basis: 100%;<br>            flex: 1;<br>            padding: 10px;<br>        }<br>    </style><br><div class=\"wandb-row\"><div class=\"wandb-col\"><h3>Run history:</h3><br/><table class=\"wandb\"><tr><td>train/accuracy</td><td>▁▁▄▅▅▆▆▇▆▆▇▇▇▇▇▇▇██████████████▇████████</td></tr><tr><td>train/loss</td><td>██▆▅▃▃▂▂▂▂▂▂▂▁▁▁▁▂▁▁▁▁▁▁▁▁▁▁▁▁▁▁▁▁▁▁▁▁▁▁</td></tr><tr><td>validation/accuracy</td><td>▁▅▆▅▇▇▇▆▇▇▇▇████▇</td></tr><tr><td>validation/loss</td><td>▃▁▁▃▁▂▃▂▃█▅▅▃▃▅▆▆</td></tr></table><br/></div><div class=\"wandb-col\"><h3>Run summary:</h3><br/><table class=\"wandb\"><tr><td>train/accuracy</td><td>1</td></tr><tr><td>train/loss</td><td>0.00037</td></tr><tr><td>validation/accuracy</td><td>0.88449</td></tr><tr><td>validation/loss</td><td>1.46978</td></tr></table><br/></div></div>"
      ],
      "text/plain": [
       "<IPython.core.display.HTML object>"
      ]
     },
     "metadata": {},
     "output_type": "display_data"
    },
    {
     "data": {
      "text/html": [
       " View run <strong style=\"color:#cdcd00\">lr:0.001-b:32-d_c:0.4, d_f:0.4</strong> at: <a href='https://wandb.ai/mldogs-wut/iml_final_tests/runs/2jk3pa0j' target=\"_blank\">https://wandb.ai/mldogs-wut/iml_final_tests/runs/2jk3pa0j</a><br> View project at: <a href='https://wandb.ai/mldogs-wut/iml_final_tests' target=\"_blank\">https://wandb.ai/mldogs-wut/iml_final_tests</a><br>Synced 5 W&B file(s), 0 media file(s), 0 artifact file(s) and 0 other file(s)"
      ],
      "text/plain": [
       "<IPython.core.display.HTML object>"
      ]
     },
     "metadata": {},
     "output_type": "display_data"
    },
    {
     "data": {
      "text/html": [
       "Find logs at: <code>./wandb/run-20250119_185003-2jk3pa0j/logs</code>"
      ],
      "text/plain": [
       "<IPython.core.display.HTML object>"
      ]
     },
     "metadata": {},
     "output_type": "display_data"
    },
    {
     "name": "stdout",
     "output_type": "stream",
     "text": [
      "lr:0.001-b:64-d_c:0, d_f:0\n"
     ]
    },
    {
     "data": {
      "text/html": [
       "Tracking run with wandb version 0.19.1"
      ],
      "text/plain": [
       "<IPython.core.display.HTML object>"
      ]
     },
     "metadata": {},
     "output_type": "display_data"
    },
    {
     "data": {
      "text/html": [
       "Run data is saved locally in <code>/home/migoox/dev/ml-dogs-sharepoint/notebook/training/wandb/run-20250119_185041-gch0j0is</code>"
      ],
      "text/plain": [
       "<IPython.core.display.HTML object>"
      ]
     },
     "metadata": {},
     "output_type": "display_data"
    },
    {
     "data": {
      "text/html": [
       "Syncing run <strong><a href='https://wandb.ai/mldogs-wut/iml_final_tests/runs/gch0j0is' target=\"_blank\">lr:0.001-b:64-d_c:0, d_f:0</a></strong> to <a href='https://wandb.ai/mldogs-wut/iml_final_tests' target=\"_blank\">Weights & Biases</a> (<a href='https://wandb.me/developer-guide' target=\"_blank\">docs</a>)<br>"
      ],
      "text/plain": [
       "<IPython.core.display.HTML object>"
      ]
     },
     "metadata": {},
     "output_type": "display_data"
    },
    {
     "data": {
      "text/html": [
       " View project at <a href='https://wandb.ai/mldogs-wut/iml_final_tests' target=\"_blank\">https://wandb.ai/mldogs-wut/iml_final_tests</a>"
      ],
      "text/plain": [
       "<IPython.core.display.HTML object>"
      ]
     },
     "metadata": {},
     "output_type": "display_data"
    },
    {
     "data": {
      "text/html": [
       " View run at <a href='https://wandb.ai/mldogs-wut/iml_final_tests/runs/gch0j0is' target=\"_blank\">https://wandb.ai/mldogs-wut/iml_final_tests/runs/gch0j0is</a>"
      ],
      "text/plain": [
       "<IPython.core.display.HTML object>"
      ]
     },
     "metadata": {},
     "output_type": "display_data"
    },
    {
     "name": "stdout",
     "output_type": "stream",
     "text": [
      "Epoch 1/30, Loss: 0.0241, F1 Score: 0.5827\n",
      "Epoch 2/30, Loss: 0.0150, F1 Score: 0.8600\n",
      "Epoch 3/30, Loss: 0.0058, F1 Score: 0.9328\n",
      "Epoch 4/30, Loss: 0.0105, F1 Score: 0.9624\n",
      "Epoch 5/30, Loss: 0.0020, F1 Score: 0.9745\n",
      "Epoch 6/30, Loss: 0.0028, F1 Score: 0.9897\n",
      "Epoch 7/30, Loss: 0.0018, F1 Score: 0.9903\n",
      "Epoch 8/30, Loss: 0.0016, F1 Score: 0.9916\n",
      "Epoch 9/30, Loss: 0.0023, F1 Score: 0.9887\n",
      "Epoch 10/30, Loss: 0.0004, F1 Score: 0.9936\n",
      "Epoch 11/30, Loss: 0.0001, F1 Score: 0.9951\n",
      "Epoch 12/30, Loss: 0.0001, F1 Score: 0.9986\n",
      "Epoch 13/30, Loss: 0.0000, F1 Score: 0.9998\n",
      "Epoch 14/30, Loss: 0.0000, F1 Score: 1.0000\n",
      "Epoch 15/30, Loss: 0.0000, F1 Score: 1.0000\n",
      "Epoch 16/30, Loss: 0.0000, F1 Score: 1.0000\n",
      "Epoch 17/30, Loss: 0.0000, F1 Score: 1.0000\n",
      "8 epochs without a val accuracy improvement. Stopping the train\n",
      "Training complete.\n"
     ]
    },
    {
     "data": {
      "text/html": [],
      "text/plain": [
       "<IPython.core.display.HTML object>"
      ]
     },
     "metadata": {},
     "output_type": "display_data"
    },
    {
     "data": {
      "text/html": [
       "<br>    <style><br>        .wandb-row {<br>            display: flex;<br>            flex-direction: row;<br>            flex-wrap: wrap;<br>            justify-content: flex-start;<br>            width: 100%;<br>        }<br>        .wandb-col {<br>            display: flex;<br>            flex-direction: column;<br>            flex-basis: 100%;<br>            flex: 1;<br>            padding: 10px;<br>        }<br>    </style><br><div class=\"wandb-row\"><div class=\"wandb-col\"><h3>Run history:</h3><br/><table class=\"wandb\"><tr><td>train/accuracy</td><td>▁▁▃▅▅▆▇▇▇▇██████████████████████████████</td></tr><tr><td>train/loss</td><td>█▇▆▅▄▃▃▂▂▂▂▂▂▁▁▁▁▁▁▁▁▁▁▁▁▁▁▁▁▁▁▁▁▁▁▁▁▁▁▁</td></tr><tr><td>validation/accuracy</td><td>▁▄▅▅▇▆█▇▆▇▇▇█████</td></tr><tr><td>validation/loss</td><td>▃▁▃▃▂▄▁▃▃▄▅█▇▇███</td></tr></table><br/></div><div class=\"wandb-col\"><h3>Run summary:</h3><br/><table class=\"wandb\"><tr><td>train/accuracy</td><td>1</td></tr><tr><td>train/loss</td><td>6e-05</td></tr><tr><td>validation/accuracy</td><td>0.89236</td></tr><tr><td>validation/loss</td><td>1.02779</td></tr></table><br/></div></div>"
      ],
      "text/plain": [
       "<IPython.core.display.HTML object>"
      ]
     },
     "metadata": {},
     "output_type": "display_data"
    },
    {
     "data": {
      "text/html": [
       " View run <strong style=\"color:#cdcd00\">lr:0.001-b:64-d_c:0, d_f:0</strong> at: <a href='https://wandb.ai/mldogs-wut/iml_final_tests/runs/gch0j0is' target=\"_blank\">https://wandb.ai/mldogs-wut/iml_final_tests/runs/gch0j0is</a><br> View project at: <a href='https://wandb.ai/mldogs-wut/iml_final_tests' target=\"_blank\">https://wandb.ai/mldogs-wut/iml_final_tests</a><br>Synced 5 W&B file(s), 0 media file(s), 0 artifact file(s) and 0 other file(s)"
      ],
      "text/plain": [
       "<IPython.core.display.HTML object>"
      ]
     },
     "metadata": {},
     "output_type": "display_data"
    },
    {
     "data": {
      "text/html": [
       "Find logs at: <code>./wandb/run-20250119_185041-gch0j0is/logs</code>"
      ],
      "text/plain": [
       "<IPython.core.display.HTML object>"
      ]
     },
     "metadata": {},
     "output_type": "display_data"
    },
    {
     "name": "stdout",
     "output_type": "stream",
     "text": [
      "lr:0.001-b:64-d_c:0, d_f:0.2\n"
     ]
    },
    {
     "data": {
      "text/html": [
       "Tracking run with wandb version 0.19.1"
      ],
      "text/plain": [
       "<IPython.core.display.HTML object>"
      ]
     },
     "metadata": {},
     "output_type": "display_data"
    },
    {
     "data": {
      "text/html": [
       "Run data is saved locally in <code>/home/migoox/dev/ml-dogs-sharepoint/notebook/training/wandb/run-20250119_185119-nmtvkq4p</code>"
      ],
      "text/plain": [
       "<IPython.core.display.HTML object>"
      ]
     },
     "metadata": {},
     "output_type": "display_data"
    },
    {
     "data": {
      "text/html": [
       "Syncing run <strong><a href='https://wandb.ai/mldogs-wut/iml_final_tests/runs/nmtvkq4p' target=\"_blank\">lr:0.001-b:64-d_c:0, d_f:0.2</a></strong> to <a href='https://wandb.ai/mldogs-wut/iml_final_tests' target=\"_blank\">Weights & Biases</a> (<a href='https://wandb.me/developer-guide' target=\"_blank\">docs</a>)<br>"
      ],
      "text/plain": [
       "<IPython.core.display.HTML object>"
      ]
     },
     "metadata": {},
     "output_type": "display_data"
    },
    {
     "data": {
      "text/html": [
       " View project at <a href='https://wandb.ai/mldogs-wut/iml_final_tests' target=\"_blank\">https://wandb.ai/mldogs-wut/iml_final_tests</a>"
      ],
      "text/plain": [
       "<IPython.core.display.HTML object>"
      ]
     },
     "metadata": {},
     "output_type": "display_data"
    },
    {
     "data": {
      "text/html": [
       " View run at <a href='https://wandb.ai/mldogs-wut/iml_final_tests/runs/nmtvkq4p' target=\"_blank\">https://wandb.ai/mldogs-wut/iml_final_tests/runs/nmtvkq4p</a>"
      ],
      "text/plain": [
       "<IPython.core.display.HTML object>"
      ]
     },
     "metadata": {},
     "output_type": "display_data"
    },
    {
     "name": "stdout",
     "output_type": "stream",
     "text": [
      "Epoch 1/30, Loss: 0.0378, F1 Score: 0.4040\n",
      "Epoch 2/30, Loss: 0.0189, F1 Score: 0.7761\n",
      "Epoch 3/30, Loss: 0.0097, F1 Score: 0.9105\n",
      "Epoch 4/30, Loss: 0.0047, F1 Score: 0.9437\n",
      "Epoch 5/30, Loss: 0.0035, F1 Score: 0.9675\n",
      "Epoch 6/30, Loss: 0.0030, F1 Score: 0.9856\n",
      "Epoch 7/30, Loss: 0.0010, F1 Score: 0.9881\n",
      "Epoch 8/30, Loss: 0.0005, F1 Score: 0.9967\n",
      "Epoch 9/30, Loss: 0.0010, F1 Score: 0.9975\n",
      "Epoch 10/30, Loss: 0.0001, F1 Score: 0.9984\n",
      "Epoch 11/30, Loss: 0.0002, F1 Score: 0.9984\n",
      "Epoch 12/30, Loss: 0.0000, F1 Score: 1.0000\n",
      "Epoch 13/30, Loss: 0.0000, F1 Score: 1.0000\n",
      "Epoch 14/30, Loss: 0.0000, F1 Score: 1.0000\n",
      "Epoch 15/30, Loss: 0.0000, F1 Score: 1.0000\n",
      "Epoch 16/30, Loss: 0.0000, F1 Score: 1.0000\n",
      "Epoch 17/30, Loss: 0.0000, F1 Score: 1.0000\n",
      "Epoch 18/30, Loss: 0.0000, F1 Score: 1.0000\n",
      "8 epochs without a val accuracy improvement. Stopping the train\n",
      "Training complete.\n"
     ]
    },
    {
     "data": {
      "text/html": [],
      "text/plain": [
       "<IPython.core.display.HTML object>"
      ]
     },
     "metadata": {},
     "output_type": "display_data"
    },
    {
     "data": {
      "text/html": [
       "<br>    <style><br>        .wandb-row {<br>            display: flex;<br>            flex-direction: row;<br>            flex-wrap: wrap;<br>            justify-content: flex-start;<br>            width: 100%;<br>        }<br>        .wandb-col {<br>            display: flex;<br>            flex-direction: column;<br>            flex-basis: 100%;<br>            flex: 1;<br>            padding: 10px;<br>        }<br>    </style><br><div class=\"wandb-row\"><div class=\"wandb-col\"><h3>Run history:</h3><br/><table class=\"wandb\"><tr><td>train/accuracy</td><td>▁▁▁▂▃▆▆▇▇▇▇█████████████████████████████</td></tr><tr><td>train/loss</td><td>███▇▅▃▃▃▂▂▂▁▂▁▁▁▁▁▁▁▁▁▁▁▁▁▁▁▁▁▁▁▁▁▁▁▁▁▁▁</td></tr><tr><td>validation/accuracy</td><td>▁▆▇▇█▇██▇█████████</td></tr><tr><td>validation/loss</td><td>▃▁▁▁▁▂▃▂▅▄▅▇█▆▇███</td></tr></table><br/></div><div class=\"wandb-col\"><h3>Run summary:</h3><br/><table class=\"wandb\"><tr><td>train/accuracy</td><td>1</td></tr><tr><td>train/loss</td><td>7e-05</td></tr><tr><td>validation/accuracy</td><td>0.91146</td></tr><tr><td>validation/loss</td><td>1.26729</td></tr></table><br/></div></div>"
      ],
      "text/plain": [
       "<IPython.core.display.HTML object>"
      ]
     },
     "metadata": {},
     "output_type": "display_data"
    },
    {
     "data": {
      "text/html": [
       " View run <strong style=\"color:#cdcd00\">lr:0.001-b:64-d_c:0, d_f:0.2</strong> at: <a href='https://wandb.ai/mldogs-wut/iml_final_tests/runs/nmtvkq4p' target=\"_blank\">https://wandb.ai/mldogs-wut/iml_final_tests/runs/nmtvkq4p</a><br> View project at: <a href='https://wandb.ai/mldogs-wut/iml_final_tests' target=\"_blank\">https://wandb.ai/mldogs-wut/iml_final_tests</a><br>Synced 5 W&B file(s), 0 media file(s), 0 artifact file(s) and 0 other file(s)"
      ],
      "text/plain": [
       "<IPython.core.display.HTML object>"
      ]
     },
     "metadata": {},
     "output_type": "display_data"
    },
    {
     "data": {
      "text/html": [
       "Find logs at: <code>./wandb/run-20250119_185119-nmtvkq4p/logs</code>"
      ],
      "text/plain": [
       "<IPython.core.display.HTML object>"
      ]
     },
     "metadata": {},
     "output_type": "display_data"
    },
    {
     "name": "stdout",
     "output_type": "stream",
     "text": [
      "lr:0.001-b:64-d_c:0, d_f:0.4\n"
     ]
    },
    {
     "data": {
      "text/html": [
       "Tracking run with wandb version 0.19.1"
      ],
      "text/plain": [
       "<IPython.core.display.HTML object>"
      ]
     },
     "metadata": {},
     "output_type": "display_data"
    },
    {
     "data": {
      "text/html": [
       "Run data is saved locally in <code>/home/migoox/dev/ml-dogs-sharepoint/notebook/training/wandb/run-20250119_185200-zc8mez9x</code>"
      ],
      "text/plain": [
       "<IPython.core.display.HTML object>"
      ]
     },
     "metadata": {},
     "output_type": "display_data"
    },
    {
     "data": {
      "text/html": [
       "Syncing run <strong><a href='https://wandb.ai/mldogs-wut/iml_final_tests/runs/zc8mez9x' target=\"_blank\">lr:0.001-b:64-d_c:0, d_f:0.4</a></strong> to <a href='https://wandb.ai/mldogs-wut/iml_final_tests' target=\"_blank\">Weights & Biases</a> (<a href='https://wandb.me/developer-guide' target=\"_blank\">docs</a>)<br>"
      ],
      "text/plain": [
       "<IPython.core.display.HTML object>"
      ]
     },
     "metadata": {},
     "output_type": "display_data"
    },
    {
     "data": {
      "text/html": [
       " View project at <a href='https://wandb.ai/mldogs-wut/iml_final_tests' target=\"_blank\">https://wandb.ai/mldogs-wut/iml_final_tests</a>"
      ],
      "text/plain": [
       "<IPython.core.display.HTML object>"
      ]
     },
     "metadata": {},
     "output_type": "display_data"
    },
    {
     "data": {
      "text/html": [
       " View run at <a href='https://wandb.ai/mldogs-wut/iml_final_tests/runs/zc8mez9x' target=\"_blank\">https://wandb.ai/mldogs-wut/iml_final_tests/runs/zc8mez9x</a>"
      ],
      "text/plain": [
       "<IPython.core.display.HTML object>"
      ]
     },
     "metadata": {},
     "output_type": "display_data"
    },
    {
     "name": "stdout",
     "output_type": "stream",
     "text": [
      "Epoch 1/30, Loss: 0.0336, F1 Score: 0.5777\n",
      "Epoch 2/30, Loss: 0.0109, F1 Score: 0.8832\n",
      "Epoch 3/30, Loss: 0.0053, F1 Score: 0.9533\n",
      "Epoch 4/30, Loss: 0.0034, F1 Score: 0.9757\n",
      "Epoch 5/30, Loss: 0.0012, F1 Score: 0.9866\n",
      "Epoch 6/30, Loss: 0.0003, F1 Score: 0.9936\n",
      "Epoch 7/30, Loss: 0.0005, F1 Score: 0.9988\n",
      "Epoch 8/30, Loss: 0.0004, F1 Score: 0.9979\n",
      "Epoch 9/30, Loss: 0.0013, F1 Score: 0.9951\n",
      "Epoch 10/30, Loss: 0.0002, F1 Score: 0.9973\n",
      "Epoch 11/30, Loss: 0.0002, F1 Score: 0.9965\n",
      "Epoch 12/30, Loss: 0.0039, F1 Score: 0.9856\n",
      "Epoch 13/30, Loss: 0.0003, F1 Score: 0.9957\n",
      "Epoch 14/30, Loss: 0.0001, F1 Score: 0.9998\n",
      "Epoch 15/30, Loss: 0.0000, F1 Score: 1.0000\n",
      "Epoch 16/30, Loss: 0.0000, F1 Score: 1.0000\n",
      "Epoch 17/30, Loss: 0.0000, F1 Score: 1.0000\n",
      "Epoch 18/30, Loss: 0.0000, F1 Score: 1.0000\n",
      "Epoch 19/30, Loss: 0.0000, F1 Score: 1.0000\n",
      "Epoch 20/30, Loss: 0.0000, F1 Score: 1.0000\n",
      "Epoch 21/30, Loss: 0.0000, F1 Score: 1.0000\n",
      "Epoch 22/30, Loss: 0.0000, F1 Score: 1.0000\n",
      "Epoch 23/30, Loss: 0.0000, F1 Score: 1.0000\n",
      "Epoch 24/30, Loss: 0.0000, F1 Score: 1.0000\n",
      "Epoch 25/30, Loss: 0.0000, F1 Score: 1.0000\n",
      "Epoch 26/30, Loss: 0.0000, F1 Score: 1.0000\n",
      "Epoch 27/30, Loss: 0.0000, F1 Score: 1.0000\n",
      "Epoch 28/30, Loss: 0.0000, F1 Score: 1.0000\n",
      "Epoch 29/30, Loss: 0.0000, F1 Score: 1.0000\n",
      "Epoch 30/30, Loss: 0.0000, F1 Score: 1.0000\n",
      "Training complete.\n"
     ]
    },
    {
     "data": {
      "text/html": [],
      "text/plain": [
       "<IPython.core.display.HTML object>"
      ]
     },
     "metadata": {},
     "output_type": "display_data"
    },
    {
     "data": {
      "text/html": [
       "<br>    <style><br>        .wandb-row {<br>            display: flex;<br>            flex-direction: row;<br>            flex-wrap: wrap;<br>            justify-content: flex-start;<br>            width: 100%;<br>        }<br>        .wandb-col {<br>            display: flex;<br>            flex-direction: column;<br>            flex-basis: 100%;<br>            flex: 1;<br>            padding: 10px;<br>        }<br>    </style><br><div class=\"wandb-row\"><div class=\"wandb-col\"><h3>Run history:</h3><br/><table class=\"wandb\"><tr><td>train/accuracy</td><td>▁▁▅▅██████████▇█████████████████████████</td></tr><tr><td>train/loss</td><td>█▇▃▃▂▂▁▁▁▁▁▁▁▁▁▁▁▁▁▁▁▁▁▁▁▁▁▁▁▁▁▁▁▁▁▁▁▁▁▁</td></tr><tr><td>validation/accuracy</td><td>▁▄▅▆▇▆▆▆▇▇█▇▇█████████████████</td></tr><tr><td>validation/loss</td><td>▁▁▁▁▁▂▂▂▁▂▂▁▂▃▄▅▆▆▆▇▇▇▇▇▇▇████</td></tr></table><br/></div><div class=\"wandb-col\"><h3>Run summary:</h3><br/><table class=\"wandb\"><tr><td>train/accuracy</td><td>1</td></tr><tr><td>train/loss</td><td>0.0</td></tr><tr><td>validation/accuracy</td><td>0.92402</td></tr><tr><td>validation/loss</td><td>1.51032</td></tr></table><br/></div></div>"
      ],
      "text/plain": [
       "<IPython.core.display.HTML object>"
      ]
     },
     "metadata": {},
     "output_type": "display_data"
    },
    {
     "data": {
      "text/html": [
       " View run <strong style=\"color:#cdcd00\">lr:0.001-b:64-d_c:0, d_f:0.4</strong> at: <a href='https://wandb.ai/mldogs-wut/iml_final_tests/runs/zc8mez9x' target=\"_blank\">https://wandb.ai/mldogs-wut/iml_final_tests/runs/zc8mez9x</a><br> View project at: <a href='https://wandb.ai/mldogs-wut/iml_final_tests' target=\"_blank\">https://wandb.ai/mldogs-wut/iml_final_tests</a><br>Synced 5 W&B file(s), 0 media file(s), 0 artifact file(s) and 0 other file(s)"
      ],
      "text/plain": [
       "<IPython.core.display.HTML object>"
      ]
     },
     "metadata": {},
     "output_type": "display_data"
    },
    {
     "data": {
      "text/html": [
       "Find logs at: <code>./wandb/run-20250119_185200-zc8mez9x/logs</code>"
      ],
      "text/plain": [
       "<IPython.core.display.HTML object>"
      ]
     },
     "metadata": {},
     "output_type": "display_data"
    },
    {
     "name": "stdout",
     "output_type": "stream",
     "text": [
      "lr:0.001-b:64-d_c:0.2, d_f:0\n"
     ]
    },
    {
     "data": {
      "text/html": [
       "Tracking run with wandb version 0.19.1"
      ],
      "text/plain": [
       "<IPython.core.display.HTML object>"
      ]
     },
     "metadata": {},
     "output_type": "display_data"
    },
    {
     "data": {
      "text/html": [
       "Run data is saved locally in <code>/home/migoox/dev/ml-dogs-sharepoint/notebook/training/wandb/run-20250119_185307-rtanv74g</code>"
      ],
      "text/plain": [
       "<IPython.core.display.HTML object>"
      ]
     },
     "metadata": {},
     "output_type": "display_data"
    },
    {
     "data": {
      "text/html": [
       "Syncing run <strong><a href='https://wandb.ai/mldogs-wut/iml_final_tests/runs/rtanv74g' target=\"_blank\">lr:0.001-b:64-d_c:0.2, d_f:0</a></strong> to <a href='https://wandb.ai/mldogs-wut/iml_final_tests' target=\"_blank\">Weights & Biases</a> (<a href='https://wandb.me/developer-guide' target=\"_blank\">docs</a>)<br>"
      ],
      "text/plain": [
       "<IPython.core.display.HTML object>"
      ]
     },
     "metadata": {},
     "output_type": "display_data"
    },
    {
     "data": {
      "text/html": [
       " View project at <a href='https://wandb.ai/mldogs-wut/iml_final_tests' target=\"_blank\">https://wandb.ai/mldogs-wut/iml_final_tests</a>"
      ],
      "text/plain": [
       "<IPython.core.display.HTML object>"
      ]
     },
     "metadata": {},
     "output_type": "display_data"
    },
    {
     "data": {
      "text/html": [
       " View run at <a href='https://wandb.ai/mldogs-wut/iml_final_tests/runs/rtanv74g' target=\"_blank\">https://wandb.ai/mldogs-wut/iml_final_tests/runs/rtanv74g</a>"
      ],
      "text/plain": [
       "<IPython.core.display.HTML object>"
      ]
     },
     "metadata": {},
     "output_type": "display_data"
    },
    {
     "name": "stdout",
     "output_type": "stream",
     "text": [
      "Epoch 1/30, Loss: 0.0277, F1 Score: 0.5215\n",
      "Epoch 2/30, Loss: 0.0124, F1 Score: 0.8488\n",
      "Epoch 3/30, Loss: 0.0113, F1 Score: 0.9037\n",
      "Epoch 4/30, Loss: 0.0068, F1 Score: 0.9461\n",
      "Epoch 5/30, Loss: 0.0050, F1 Score: 0.9646\n",
      "Epoch 6/30, Loss: 0.0032, F1 Score: 0.9798\n",
      "Epoch 7/30, Loss: 0.0017, F1 Score: 0.9852\n",
      "Epoch 8/30, Loss: 0.0011, F1 Score: 0.9936\n",
      "Epoch 9/30, Loss: 0.0018, F1 Score: 0.9955\n",
      "Epoch 10/30, Loss: 0.0004, F1 Score: 0.9942\n",
      "Epoch 11/30, Loss: 0.0000, F1 Score: 0.9975\n",
      "Epoch 12/30, Loss: 0.0004, F1 Score: 0.9994\n",
      "Epoch 13/30, Loss: 0.0001, F1 Score: 0.9994\n",
      "Epoch 14/30, Loss: 0.0002, F1 Score: 0.9942\n",
      "Epoch 15/30, Loss: 0.0003, F1 Score: 0.9957\n",
      "Epoch 16/30, Loss: 0.0000, F1 Score: 1.0000\n",
      "Epoch 17/30, Loss: 0.0000, F1 Score: 1.0000\n",
      "Too low accuracy. Stopping the train\n",
      "Training complete.\n"
     ]
    },
    {
     "data": {
      "text/html": [],
      "text/plain": [
       "<IPython.core.display.HTML object>"
      ]
     },
     "metadata": {},
     "output_type": "display_data"
    },
    {
     "data": {
      "text/html": [
       "<br>    <style><br>        .wandb-row {<br>            display: flex;<br>            flex-direction: row;<br>            flex-wrap: wrap;<br>            justify-content: flex-start;<br>            width: 100%;<br>        }<br>        .wandb-col {<br>            display: flex;<br>            flex-direction: column;<br>            flex-basis: 100%;<br>            flex: 1;<br>            padding: 10px;<br>        }<br>    </style><br><div class=\"wandb-row\"><div class=\"wandb-col\"><h3>Run history:</h3><br/><table class=\"wandb\"><tr><td>train/accuracy</td><td>▁▁▃▅▆▆▆▆▆▇▇▇▇███████████████████████████</td></tr><tr><td>train/loss</td><td>██▅▅▄▄▄▃▃▃▃▂▂▂▂▂▂▂▁▂▁▁▁▁▁▁▁▁▁▁▁▁▁▁▁▁▁▁▁▁</td></tr><tr><td>validation/accuracy</td><td>▁▅▇▆▆▇▇▆██▇▇▇▇▇██</td></tr><tr><td>validation/loss</td><td>▂▁▁▂▁▂▂▄▂▅▇▄▇▅█▇▆</td></tr></table><br/></div><div class=\"wandb-col\"><h3>Run summary:</h3><br/><table class=\"wandb\"><tr><td>train/accuracy</td><td>1</td></tr><tr><td>train/loss</td><td>0.00049</td></tr><tr><td>validation/accuracy</td><td>0.88539</td></tr><tr><td>validation/loss</td><td>1.29123</td></tr></table><br/></div></div>"
      ],
      "text/plain": [
       "<IPython.core.display.HTML object>"
      ]
     },
     "metadata": {},
     "output_type": "display_data"
    },
    {
     "data": {
      "text/html": [
       " View run <strong style=\"color:#cdcd00\">lr:0.001-b:64-d_c:0.2, d_f:0</strong> at: <a href='https://wandb.ai/mldogs-wut/iml_final_tests/runs/rtanv74g' target=\"_blank\">https://wandb.ai/mldogs-wut/iml_final_tests/runs/rtanv74g</a><br> View project at: <a href='https://wandb.ai/mldogs-wut/iml_final_tests' target=\"_blank\">https://wandb.ai/mldogs-wut/iml_final_tests</a><br>Synced 5 W&B file(s), 0 media file(s), 0 artifact file(s) and 0 other file(s)"
      ],
      "text/plain": [
       "<IPython.core.display.HTML object>"
      ]
     },
     "metadata": {},
     "output_type": "display_data"
    },
    {
     "data": {
      "text/html": [
       "Find logs at: <code>./wandb/run-20250119_185307-rtanv74g/logs</code>"
      ],
      "text/plain": [
       "<IPython.core.display.HTML object>"
      ]
     },
     "metadata": {},
     "output_type": "display_data"
    },
    {
     "name": "stdout",
     "output_type": "stream",
     "text": [
      "lr:0.001-b:64-d_c:0.2, d_f:0.2\n"
     ]
    },
    {
     "data": {
      "text/html": [
       "Tracking run with wandb version 0.19.1"
      ],
      "text/plain": [
       "<IPython.core.display.HTML object>"
      ]
     },
     "metadata": {},
     "output_type": "display_data"
    },
    {
     "data": {
      "text/html": [
       "Run data is saved locally in <code>/home/migoox/dev/ml-dogs-sharepoint/notebook/training/wandb/run-20250119_185346-uu394lm1</code>"
      ],
      "text/plain": [
       "<IPython.core.display.HTML object>"
      ]
     },
     "metadata": {},
     "output_type": "display_data"
    },
    {
     "data": {
      "text/html": [
       "Syncing run <strong><a href='https://wandb.ai/mldogs-wut/iml_final_tests/runs/uu394lm1' target=\"_blank\">lr:0.001-b:64-d_c:0.2, d_f:0.2</a></strong> to <a href='https://wandb.ai/mldogs-wut/iml_final_tests' target=\"_blank\">Weights & Biases</a> (<a href='https://wandb.me/developer-guide' target=\"_blank\">docs</a>)<br>"
      ],
      "text/plain": [
       "<IPython.core.display.HTML object>"
      ]
     },
     "metadata": {},
     "output_type": "display_data"
    },
    {
     "data": {
      "text/html": [
       " View project at <a href='https://wandb.ai/mldogs-wut/iml_final_tests' target=\"_blank\">https://wandb.ai/mldogs-wut/iml_final_tests</a>"
      ],
      "text/plain": [
       "<IPython.core.display.HTML object>"
      ]
     },
     "metadata": {},
     "output_type": "display_data"
    },
    {
     "data": {
      "text/html": [
       " View run at <a href='https://wandb.ai/mldogs-wut/iml_final_tests/runs/uu394lm1' target=\"_blank\">https://wandb.ai/mldogs-wut/iml_final_tests/runs/uu394lm1</a>"
      ],
      "text/plain": [
       "<IPython.core.display.HTML object>"
      ]
     },
     "metadata": {},
     "output_type": "display_data"
    },
    {
     "name": "stdout",
     "output_type": "stream",
     "text": [
      "Epoch 1/30, Loss: 0.0307, F1 Score: 0.5098\n",
      "Epoch 2/30, Loss: 0.0144, F1 Score: 0.8698\n",
      "Epoch 3/30, Loss: 0.0075, F1 Score: 0.9330\n",
      "Epoch 4/30, Loss: 0.0039, F1 Score: 0.9825\n",
      "Epoch 5/30, Loss: 0.0022, F1 Score: 0.9899\n",
      "Epoch 6/30, Loss: 0.0012, F1 Score: 0.9938\n",
      "Epoch 7/30, Loss: 0.0005, F1 Score: 0.9957\n",
      "Epoch 8/30, Loss: 0.0009, F1 Score: 0.9967\n",
      "Epoch 9/30, Loss: 0.0003, F1 Score: 0.9967\n",
      "Epoch 10/30, Loss: 0.0002, F1 Score: 0.9963\n",
      "Epoch 11/30, Loss: 0.0000, F1 Score: 0.9998\n",
      "Epoch 12/30, Loss: 0.0000, F1 Score: 1.0000\n",
      "Epoch 13/30, Loss: 0.0000, F1 Score: 1.0000\n",
      "Epoch 14/30, Loss: 0.0000, F1 Score: 1.0000\n",
      "Epoch 15/30, Loss: 0.0000, F1 Score: 1.0000\n",
      "Epoch 16/30, Loss: 0.0000, F1 Score: 1.0000\n",
      "Epoch 17/30, Loss: 0.0000, F1 Score: 1.0000\n",
      "Too low accuracy. Stopping the train\n",
      "Training complete.\n"
     ]
    },
    {
     "data": {
      "text/html": [],
      "text/plain": [
       "<IPython.core.display.HTML object>"
      ]
     },
     "metadata": {},
     "output_type": "display_data"
    },
    {
     "data": {
      "text/html": [
       "<br>    <style><br>        .wandb-row {<br>            display: flex;<br>            flex-direction: row;<br>            flex-wrap: wrap;<br>            justify-content: flex-start;<br>            width: 100%;<br>        }<br>        .wandb-col {<br>            display: flex;<br>            flex-direction: column;<br>            flex-basis: 100%;<br>            flex: 1;<br>            padding: 10px;<br>        }<br>    </style><br><div class=\"wandb-row\"><div class=\"wandb-col\"><h3>Run history:</h3><br/><table class=\"wandb\"><tr><td>train/accuracy</td><td>▁▁▁▃▅▇▇▇████████████████████████████████</td></tr><tr><td>train/loss</td><td>██▅▄▃▂▂▂▂▁▁▁▁▁▁▁▁▁▁▁▁▁▁▁▁▁▁▁▁▁▁▁▁▁▁▁▁▁▁▁</td></tr><tr><td>validation/accuracy</td><td>▁▆▇▇▇▇███▇███████</td></tr><tr><td>validation/loss</td><td>▂▁▁▁▂▆▃▄▃▄▅█▆▇██▇</td></tr></table><br/></div><div class=\"wandb-col\"><h3>Run summary:</h3><br/><table class=\"wandb\"><tr><td>train/accuracy</td><td>1</td></tr><tr><td>train/loss</td><td>5e-05</td></tr><tr><td>validation/accuracy</td><td>0.89618</td></tr><tr><td>validation/loss</td><td>1.21409</td></tr></table><br/></div></div>"
      ],
      "text/plain": [
       "<IPython.core.display.HTML object>"
      ]
     },
     "metadata": {},
     "output_type": "display_data"
    },
    {
     "data": {
      "text/html": [
       " View run <strong style=\"color:#cdcd00\">lr:0.001-b:64-d_c:0.2, d_f:0.2</strong> at: <a href='https://wandb.ai/mldogs-wut/iml_final_tests/runs/uu394lm1' target=\"_blank\">https://wandb.ai/mldogs-wut/iml_final_tests/runs/uu394lm1</a><br> View project at: <a href='https://wandb.ai/mldogs-wut/iml_final_tests' target=\"_blank\">https://wandb.ai/mldogs-wut/iml_final_tests</a><br>Synced 5 W&B file(s), 0 media file(s), 0 artifact file(s) and 0 other file(s)"
      ],
      "text/plain": [
       "<IPython.core.display.HTML object>"
      ]
     },
     "metadata": {},
     "output_type": "display_data"
    },
    {
     "data": {
      "text/html": [
       "Find logs at: <code>./wandb/run-20250119_185346-uu394lm1/logs</code>"
      ],
      "text/plain": [
       "<IPython.core.display.HTML object>"
      ]
     },
     "metadata": {},
     "output_type": "display_data"
    },
    {
     "name": "stdout",
     "output_type": "stream",
     "text": [
      "lr:0.001-b:64-d_c:0.2, d_f:0.4\n"
     ]
    },
    {
     "data": {
      "text/html": [
       "Tracking run with wandb version 0.19.1"
      ],
      "text/plain": [
       "<IPython.core.display.HTML object>"
      ]
     },
     "metadata": {},
     "output_type": "display_data"
    },
    {
     "data": {
      "text/html": [
       "Run data is saved locally in <code>/home/migoox/dev/ml-dogs-sharepoint/notebook/training/wandb/run-20250119_185423-m00szw2t</code>"
      ],
      "text/plain": [
       "<IPython.core.display.HTML object>"
      ]
     },
     "metadata": {},
     "output_type": "display_data"
    },
    {
     "data": {
      "text/html": [
       "Syncing run <strong><a href='https://wandb.ai/mldogs-wut/iml_final_tests/runs/m00szw2t' target=\"_blank\">lr:0.001-b:64-d_c:0.2, d_f:0.4</a></strong> to <a href='https://wandb.ai/mldogs-wut/iml_final_tests' target=\"_blank\">Weights & Biases</a> (<a href='https://wandb.me/developer-guide' target=\"_blank\">docs</a>)<br>"
      ],
      "text/plain": [
       "<IPython.core.display.HTML object>"
      ]
     },
     "metadata": {},
     "output_type": "display_data"
    },
    {
     "data": {
      "text/html": [
       " View project at <a href='https://wandb.ai/mldogs-wut/iml_final_tests' target=\"_blank\">https://wandb.ai/mldogs-wut/iml_final_tests</a>"
      ],
      "text/plain": [
       "<IPython.core.display.HTML object>"
      ]
     },
     "metadata": {},
     "output_type": "display_data"
    },
    {
     "data": {
      "text/html": [
       " View run at <a href='https://wandb.ai/mldogs-wut/iml_final_tests/runs/m00szw2t' target=\"_blank\">https://wandb.ai/mldogs-wut/iml_final_tests/runs/m00szw2t</a>"
      ],
      "text/plain": [
       "<IPython.core.display.HTML object>"
      ]
     },
     "metadata": {},
     "output_type": "display_data"
    },
    {
     "name": "stdout",
     "output_type": "stream",
     "text": [
      "Epoch 1/30, Loss: 0.0155, F1 Score: 0.6816\n",
      "Epoch 2/30, Loss: 0.0114, F1 Score: 0.8945\n",
      "Epoch 3/30, Loss: 0.0052, F1 Score: 0.9561\n",
      "Epoch 4/30, Loss: 0.0043, F1 Score: 0.9817\n",
      "Epoch 5/30, Loss: 0.0022, F1 Score: 0.9876\n",
      "Epoch 6/30, Loss: 0.0007, F1 Score: 0.9907\n",
      "Epoch 7/30, Loss: 0.0005, F1 Score: 0.9895\n",
      "Epoch 8/30, Loss: 0.0020, F1 Score: 0.9924\n",
      "Epoch 9/30, Loss: 0.0001, F1 Score: 0.9963\n",
      "Epoch 10/30, Loss: 0.0001, F1 Score: 0.9990\n",
      "Epoch 11/30, Loss: 0.0001, F1 Score: 0.9969\n",
      "Epoch 12/30, Loss: 0.0000, F1 Score: 0.9998\n",
      "Epoch 13/30, Loss: 0.0000, F1 Score: 1.0000\n",
      "Epoch 14/30, Loss: 0.0000, F1 Score: 1.0000\n",
      "Epoch 15/30, Loss: 0.0000, F1 Score: 1.0000\n",
      "Epoch 16/30, Loss: 0.0000, F1 Score: 1.0000\n",
      "Epoch 17/30, Loss: 0.0000, F1 Score: 1.0000\n",
      "Epoch 18/30, Loss: 0.0000, F1 Score: 1.0000\n",
      "Epoch 19/30, Loss: 0.0000, F1 Score: 1.0000\n",
      "Epoch 20/30, Loss: 0.0000, F1 Score: 1.0000\n",
      "Epoch 21/30, Loss: 0.0000, F1 Score: 1.0000\n",
      "Epoch 22/30, Loss: 0.0000, F1 Score: 1.0000\n",
      "Epoch 23/30, Loss: 0.0000, F1 Score: 1.0000\n",
      "Epoch 24/30, Loss: 0.0000, F1 Score: 1.0000\n",
      "Epoch 25/30, Loss: 0.0000, F1 Score: 1.0000\n",
      "Epoch 26/30, Loss: 0.0000, F1 Score: 1.0000\n",
      "Epoch 27/30, Loss: 0.0000, F1 Score: 1.0000\n",
      "Epoch 28/30, Loss: 0.0000, F1 Score: 1.0000\n",
      "Epoch 29/30, Loss: 0.0000, F1 Score: 1.0000\n",
      "Epoch 30/30, Loss: 0.0000, F1 Score: 1.0000\n",
      "Training complete.\n"
     ]
    },
    {
     "data": {
      "text/html": [],
      "text/plain": [
       "<IPython.core.display.HTML object>"
      ]
     },
     "metadata": {},
     "output_type": "display_data"
    },
    {
     "data": {
      "text/html": [
       "<br>    <style><br>        .wandb-row {<br>            display: flex;<br>            flex-direction: row;<br>            flex-wrap: wrap;<br>            justify-content: flex-start;<br>            width: 100%;<br>        }<br>        .wandb-col {<br>            display: flex;<br>            flex-direction: column;<br>            flex-basis: 100%;<br>            flex: 1;<br>            padding: 10px;<br>        }<br>    </style><br><div class=\"wandb-row\"><div class=\"wandb-col\"><h3>Run history:</h3><br/><table class=\"wandb\"><tr><td>train/accuracy</td><td>▁▅▇▇▇███████████████████████████████████</td></tr><tr><td>train/loss</td><td>█▃▂▂▂▁▁▁▁▁▁▁▁▁▁▁▁▁▁▁▁▁▁▁▁▁▁▁▁▁▁▁▁▁▁▁▁▁▁▁</td></tr><tr><td>validation/accuracy</td><td>▁▁▃▃▃▅▄▆▆▆▇█▇▇████████████████</td></tr><tr><td>validation/loss</td><td>▁▁▁▂▂▁▂▁▂▅▃▃▆▅▅▅▆▆▆▆▆▇▇▇▇▇▇███</td></tr></table><br/></div><div class=\"wandb-col\"><h3>Run summary:</h3><br/><table class=\"wandb\"><tr><td>train/accuracy</td><td>1</td></tr><tr><td>train/loss</td><td>1e-05</td></tr><tr><td>validation/accuracy</td><td>0.91919</td></tr><tr><td>validation/loss</td><td>1.43201</td></tr></table><br/></div></div>"
      ],
      "text/plain": [
       "<IPython.core.display.HTML object>"
      ]
     },
     "metadata": {},
     "output_type": "display_data"
    },
    {
     "data": {
      "text/html": [
       " View run <strong style=\"color:#cdcd00\">lr:0.001-b:64-d_c:0.2, d_f:0.4</strong> at: <a href='https://wandb.ai/mldogs-wut/iml_final_tests/runs/m00szw2t' target=\"_blank\">https://wandb.ai/mldogs-wut/iml_final_tests/runs/m00szw2t</a><br> View project at: <a href='https://wandb.ai/mldogs-wut/iml_final_tests' target=\"_blank\">https://wandb.ai/mldogs-wut/iml_final_tests</a><br>Synced 5 W&B file(s), 0 media file(s), 0 artifact file(s) and 0 other file(s)"
      ],
      "text/plain": [
       "<IPython.core.display.HTML object>"
      ]
     },
     "metadata": {},
     "output_type": "display_data"
    },
    {
     "data": {
      "text/html": [
       "Find logs at: <code>./wandb/run-20250119_185423-m00szw2t/logs</code>"
      ],
      "text/plain": [
       "<IPython.core.display.HTML object>"
      ]
     },
     "metadata": {},
     "output_type": "display_data"
    },
    {
     "name": "stdout",
     "output_type": "stream",
     "text": [
      "lr:0.001-b:64-d_c:0.4, d_f:0\n"
     ]
    },
    {
     "data": {
      "text/html": [
       "Tracking run with wandb version 0.19.1"
      ],
      "text/plain": [
       "<IPython.core.display.HTML object>"
      ]
     },
     "metadata": {},
     "output_type": "display_data"
    },
    {
     "data": {
      "text/html": [
       "Run data is saved locally in <code>/home/migoox/dev/ml-dogs-sharepoint/notebook/training/wandb/run-20250119_185527-0y5afuts</code>"
      ],
      "text/plain": [
       "<IPython.core.display.HTML object>"
      ]
     },
     "metadata": {},
     "output_type": "display_data"
    },
    {
     "data": {
      "text/html": [
       "Syncing run <strong><a href='https://wandb.ai/mldogs-wut/iml_final_tests/runs/0y5afuts' target=\"_blank\">lr:0.001-b:64-d_c:0.4, d_f:0</a></strong> to <a href='https://wandb.ai/mldogs-wut/iml_final_tests' target=\"_blank\">Weights & Biases</a> (<a href='https://wandb.me/developer-guide' target=\"_blank\">docs</a>)<br>"
      ],
      "text/plain": [
       "<IPython.core.display.HTML object>"
      ]
     },
     "metadata": {},
     "output_type": "display_data"
    },
    {
     "data": {
      "text/html": [
       " View project at <a href='https://wandb.ai/mldogs-wut/iml_final_tests' target=\"_blank\">https://wandb.ai/mldogs-wut/iml_final_tests</a>"
      ],
      "text/plain": [
       "<IPython.core.display.HTML object>"
      ]
     },
     "metadata": {},
     "output_type": "display_data"
    },
    {
     "data": {
      "text/html": [
       " View run at <a href='https://wandb.ai/mldogs-wut/iml_final_tests/runs/0y5afuts' target=\"_blank\">https://wandb.ai/mldogs-wut/iml_final_tests/runs/0y5afuts</a>"
      ],
      "text/plain": [
       "<IPython.core.display.HTML object>"
      ]
     },
     "metadata": {},
     "output_type": "display_data"
    },
    {
     "name": "stdout",
     "output_type": "stream",
     "text": [
      "Epoch 1/30, Loss: 0.0388, F1 Score: 0.3996\n",
      "Epoch 2/30, Loss: 0.0181, F1 Score: 0.7176\n",
      "Epoch 3/30, Loss: 0.0118, F1 Score: 0.8938\n",
      "Epoch 4/30, Loss: 0.0073, F1 Score: 0.9322\n",
      "Epoch 5/30, Loss: 0.0067, F1 Score: 0.9638\n",
      "Epoch 6/30, Loss: 0.0031, F1 Score: 0.9767\n",
      "Epoch 7/30, Loss: 0.0050, F1 Score: 0.9880\n",
      "Epoch 8/30, Loss: 0.0026, F1 Score: 0.9920\n",
      "Epoch 9/30, Loss: 0.0006, F1 Score: 0.9947\n",
      "Epoch 10/30, Loss: 0.0002, F1 Score: 0.9961\n",
      "Epoch 11/30, Loss: 0.0001, F1 Score: 0.9988\n",
      "Epoch 12/30, Loss: 0.0001, F1 Score: 1.0000\n",
      "Epoch 13/30, Loss: 0.0000, F1 Score: 1.0000\n",
      "Epoch 14/30, Loss: 0.0000, F1 Score: 1.0000\n",
      "Epoch 15/30, Loss: 0.0000, F1 Score: 1.0000\n",
      "Epoch 16/30, Loss: 0.0000, F1 Score: 1.0000\n",
      "Epoch 17/30, Loss: 0.0000, F1 Score: 1.0000\n",
      "Too low accuracy. Stopping the train\n",
      "Training complete.\n"
     ]
    },
    {
     "data": {
      "text/html": [],
      "text/plain": [
       "<IPython.core.display.HTML object>"
      ]
     },
     "metadata": {},
     "output_type": "display_data"
    },
    {
     "data": {
      "text/html": [
       "<br>    <style><br>        .wandb-row {<br>            display: flex;<br>            flex-direction: row;<br>            flex-wrap: wrap;<br>            justify-content: flex-start;<br>            width: 100%;<br>        }<br>        .wandb-col {<br>            display: flex;<br>            flex-direction: column;<br>            flex-basis: 100%;<br>            flex: 1;<br>            padding: 10px;<br>        }<br>    </style><br><div class=\"wandb-row\"><div class=\"wandb-col\"><h3>Run history:</h3><br/><table class=\"wandb\"><tr><td>train/accuracy</td><td>▁▁▄▆▆▇▇▇▇███████████████████████████████</td></tr><tr><td>train/loss</td><td>██▇▇▇▄▃▃▃▃▂▂▂▂▂▁▁▁▁▁▁▁▁▁▁▁▁▁▁▁▁▁▁▁▁▁▁▁▁▁</td></tr><tr><td>validation/accuracy</td><td>▁▆▇▇█▇██▇████████</td></tr><tr><td>validation/loss</td><td>▃▁▁▁▁▂▂▁▃▄▄▄▆▆▇▇█</td></tr></table><br/></div><div class=\"wandb-col\"><h3>Run summary:</h3><br/><table class=\"wandb\"><tr><td>train/accuracy</td><td>1</td></tr><tr><td>train/loss</td><td>9e-05</td></tr><tr><td>validation/accuracy</td><td>0.89277</td></tr><tr><td>validation/loss</td><td>1.46586</td></tr></table><br/></div></div>"
      ],
      "text/plain": [
       "<IPython.core.display.HTML object>"
      ]
     },
     "metadata": {},
     "output_type": "display_data"
    },
    {
     "data": {
      "text/html": [
       " View run <strong style=\"color:#cdcd00\">lr:0.001-b:64-d_c:0.4, d_f:0</strong> at: <a href='https://wandb.ai/mldogs-wut/iml_final_tests/runs/0y5afuts' target=\"_blank\">https://wandb.ai/mldogs-wut/iml_final_tests/runs/0y5afuts</a><br> View project at: <a href='https://wandb.ai/mldogs-wut/iml_final_tests' target=\"_blank\">https://wandb.ai/mldogs-wut/iml_final_tests</a><br>Synced 5 W&B file(s), 0 media file(s), 0 artifact file(s) and 0 other file(s)"
      ],
      "text/plain": [
       "<IPython.core.display.HTML object>"
      ]
     },
     "metadata": {},
     "output_type": "display_data"
    },
    {
     "data": {
      "text/html": [
       "Find logs at: <code>./wandb/run-20250119_185527-0y5afuts/logs</code>"
      ],
      "text/plain": [
       "<IPython.core.display.HTML object>"
      ]
     },
     "metadata": {},
     "output_type": "display_data"
    },
    {
     "name": "stdout",
     "output_type": "stream",
     "text": [
      "lr:0.001-b:64-d_c:0.4, d_f:0.2\n"
     ]
    },
    {
     "data": {
      "text/html": [
       "Tracking run with wandb version 0.19.1"
      ],
      "text/plain": [
       "<IPython.core.display.HTML object>"
      ]
     },
     "metadata": {},
     "output_type": "display_data"
    },
    {
     "data": {
      "text/html": [
       "Run data is saved locally in <code>/home/migoox/dev/ml-dogs-sharepoint/notebook/training/wandb/run-20250119_185604-318b4hpp</code>"
      ],
      "text/plain": [
       "<IPython.core.display.HTML object>"
      ]
     },
     "metadata": {},
     "output_type": "display_data"
    },
    {
     "data": {
      "text/html": [
       "Syncing run <strong><a href='https://wandb.ai/mldogs-wut/iml_final_tests/runs/318b4hpp' target=\"_blank\">lr:0.001-b:64-d_c:0.4, d_f:0.2</a></strong> to <a href='https://wandb.ai/mldogs-wut/iml_final_tests' target=\"_blank\">Weights & Biases</a> (<a href='https://wandb.me/developer-guide' target=\"_blank\">docs</a>)<br>"
      ],
      "text/plain": [
       "<IPython.core.display.HTML object>"
      ]
     },
     "metadata": {},
     "output_type": "display_data"
    },
    {
     "data": {
      "text/html": [
       " View project at <a href='https://wandb.ai/mldogs-wut/iml_final_tests' target=\"_blank\">https://wandb.ai/mldogs-wut/iml_final_tests</a>"
      ],
      "text/plain": [
       "<IPython.core.display.HTML object>"
      ]
     },
     "metadata": {},
     "output_type": "display_data"
    },
    {
     "data": {
      "text/html": [
       " View run at <a href='https://wandb.ai/mldogs-wut/iml_final_tests/runs/318b4hpp' target=\"_blank\">https://wandb.ai/mldogs-wut/iml_final_tests/runs/318b4hpp</a>"
      ],
      "text/plain": [
       "<IPython.core.display.HTML object>"
      ]
     },
     "metadata": {},
     "output_type": "display_data"
    },
    {
     "name": "stdout",
     "output_type": "stream",
     "text": [
      "Epoch 1/30, Loss: 0.0372, F1 Score: 0.4083\n",
      "Epoch 2/30, Loss: 0.0317, F1 Score: 0.7270\n",
      "Epoch 3/30, Loss: 0.0201, F1 Score: 0.8408\n",
      "Epoch 4/30, Loss: 0.0117, F1 Score: 0.8991\n",
      "Epoch 5/30, Loss: 0.0068, F1 Score: 0.9399\n",
      "Epoch 6/30, Loss: 0.0071, F1 Score: 0.9525\n",
      "Epoch 7/30, Loss: 0.0125, F1 Score: 0.9728\n",
      "Epoch 8/30, Loss: 0.0054, F1 Score: 0.9717\n",
      "Epoch 9/30, Loss: 0.0027, F1 Score: 0.9860\n",
      "Epoch 10/30, Loss: 0.0021, F1 Score: 0.9891\n",
      "Epoch 11/30, Loss: 0.0008, F1 Score: 0.9963\n",
      "Epoch 12/30, Loss: 0.0029, F1 Score: 0.9932\n",
      "Epoch 13/30, Loss: 0.0021, F1 Score: 0.9777\n",
      "Epoch 14/30, Loss: 0.0004, F1 Score: 0.9965\n",
      "Epoch 15/30, Loss: 0.0002, F1 Score: 0.9981\n",
      "Epoch 16/30, Loss: 0.0001, F1 Score: 0.9996\n",
      "Epoch 17/30, Loss: 0.0000, F1 Score: 1.0000\n",
      "Epoch 18/30, Loss: 0.0000, F1 Score: 1.0000\n",
      "Epoch 19/30, Loss: 0.0000, F1 Score: 1.0000\n",
      "Epoch 20/30, Loss: 0.0000, F1 Score: 1.0000\n",
      "Epoch 21/30, Loss: 0.0000, F1 Score: 1.0000\n",
      "Epoch 22/30, Loss: 0.0000, F1 Score: 1.0000\n",
      "Epoch 23/30, Loss: 0.0000, F1 Score: 1.0000\n",
      "Epoch 24/30, Loss: 0.0000, F1 Score: 1.0000\n",
      "Epoch 25/30, Loss: 0.0000, F1 Score: 1.0000\n",
      "8 epochs without a val accuracy improvement. Stopping the train\n",
      "Training complete.\n"
     ]
    },
    {
     "data": {
      "text/html": [],
      "text/plain": [
       "<IPython.core.display.HTML object>"
      ]
     },
     "metadata": {},
     "output_type": "display_data"
    },
    {
     "data": {
      "text/html": [
       "<br>    <style><br>        .wandb-row {<br>            display: flex;<br>            flex-direction: row;<br>            flex-wrap: wrap;<br>            justify-content: flex-start;<br>            width: 100%;<br>        }<br>        .wandb-col {<br>            display: flex;<br>            flex-direction: column;<br>            flex-basis: 100%;<br>            flex: 1;<br>            padding: 10px;<br>        }<br>    </style><br><div class=\"wandb-row\"><div class=\"wandb-col\"><h3>Run history:</h3><br/><table class=\"wandb\"><tr><td>train/accuracy</td><td>▁▃▅▅▅▆▇▇▇▇▇█▇███████████████████████████</td></tr><tr><td>train/loss</td><td>██▇▇▆▄▃▂▂▂▂▁▁▁▁▁▁▂▁▁▁▁▁▁▁▁▁▁▁▁▁▁▁▁▁▁▁▁▁▁</td></tr><tr><td>validation/accuracy</td><td>▁▄▆▇██▇▇█████████████████</td></tr><tr><td>validation/loss</td><td>▃▂▁▁▁▁▂▁▁▂▂▂▂▃▃▄▅▅▅▅▆▆▇▇█</td></tr></table><br/></div><div class=\"wandb-col\"><h3>Run summary:</h3><br/><table class=\"wandb\"><tr><td>train/accuracy</td><td>1</td></tr><tr><td>train/loss</td><td>2e-05</td></tr><tr><td>validation/accuracy</td><td>0.90533</td></tr><tr><td>validation/loss</td><td>1.76583</td></tr></table><br/></div></div>"
      ],
      "text/plain": [
       "<IPython.core.display.HTML object>"
      ]
     },
     "metadata": {},
     "output_type": "display_data"
    },
    {
     "data": {
      "text/html": [
       " View run <strong style=\"color:#cdcd00\">lr:0.001-b:64-d_c:0.4, d_f:0.2</strong> at: <a href='https://wandb.ai/mldogs-wut/iml_final_tests/runs/318b4hpp' target=\"_blank\">https://wandb.ai/mldogs-wut/iml_final_tests/runs/318b4hpp</a><br> View project at: <a href='https://wandb.ai/mldogs-wut/iml_final_tests' target=\"_blank\">https://wandb.ai/mldogs-wut/iml_final_tests</a><br>Synced 5 W&B file(s), 0 media file(s), 0 artifact file(s) and 0 other file(s)"
      ],
      "text/plain": [
       "<IPython.core.display.HTML object>"
      ]
     },
     "metadata": {},
     "output_type": "display_data"
    },
    {
     "data": {
      "text/html": [
       "Find logs at: <code>./wandb/run-20250119_185604-318b4hpp/logs</code>"
      ],
      "text/plain": [
       "<IPython.core.display.HTML object>"
      ]
     },
     "metadata": {},
     "output_type": "display_data"
    },
    {
     "name": "stdout",
     "output_type": "stream",
     "text": [
      "lr:0.001-b:64-d_c:0.4, d_f:0.4\n"
     ]
    },
    {
     "data": {
      "text/html": [
       "Tracking run with wandb version 0.19.1"
      ],
      "text/plain": [
       "<IPython.core.display.HTML object>"
      ]
     },
     "metadata": {},
     "output_type": "display_data"
    },
    {
     "data": {
      "text/html": [
       "Run data is saved locally in <code>/home/migoox/dev/ml-dogs-sharepoint/notebook/training/wandb/run-20250119_185659-mdfkfwps</code>"
      ],
      "text/plain": [
       "<IPython.core.display.HTML object>"
      ]
     },
     "metadata": {},
     "output_type": "display_data"
    },
    {
     "data": {
      "text/html": [
       "Syncing run <strong><a href='https://wandb.ai/mldogs-wut/iml_final_tests/runs/mdfkfwps' target=\"_blank\">lr:0.001-b:64-d_c:0.4, d_f:0.4</a></strong> to <a href='https://wandb.ai/mldogs-wut/iml_final_tests' target=\"_blank\">Weights & Biases</a> (<a href='https://wandb.me/developer-guide' target=\"_blank\">docs</a>)<br>"
      ],
      "text/plain": [
       "<IPython.core.display.HTML object>"
      ]
     },
     "metadata": {},
     "output_type": "display_data"
    },
    {
     "data": {
      "text/html": [
       " View project at <a href='https://wandb.ai/mldogs-wut/iml_final_tests' target=\"_blank\">https://wandb.ai/mldogs-wut/iml_final_tests</a>"
      ],
      "text/plain": [
       "<IPython.core.display.HTML object>"
      ]
     },
     "metadata": {},
     "output_type": "display_data"
    },
    {
     "data": {
      "text/html": [
       " View run at <a href='https://wandb.ai/mldogs-wut/iml_final_tests/runs/mdfkfwps' target=\"_blank\">https://wandb.ai/mldogs-wut/iml_final_tests/runs/mdfkfwps</a>"
      ],
      "text/plain": [
       "<IPython.core.display.HTML object>"
      ]
     },
     "metadata": {},
     "output_type": "display_data"
    },
    {
     "name": "stdout",
     "output_type": "stream",
     "text": [
      "Epoch 1/30, Loss: 0.0400, F1 Score: 0.4139\n",
      "Epoch 2/30, Loss: 0.0378, F1 Score: 0.4375\n",
      "Epoch 3/30, Loss: 0.0185, F1 Score: 0.7318\n",
      "Epoch 4/30, Loss: 0.0126, F1 Score: 0.8795\n",
      "Epoch 5/30, Loss: 0.0060, F1 Score: 0.9435\n",
      "Epoch 6/30, Loss: 0.0038, F1 Score: 0.9720\n",
      "Epoch 7/30, Loss: 0.0026, F1 Score: 0.9770\n",
      "Epoch 8/30, Loss: 0.0015, F1 Score: 0.9930\n",
      "Epoch 9/30, Loss: 0.0005, F1 Score: 0.9965\n",
      "Epoch 10/30, Loss: 0.0003, F1 Score: 0.9988\n",
      "Epoch 11/30, Loss: 0.0007, F1 Score: 0.9998\n",
      "Epoch 12/30, Loss: 0.0014, F1 Score: 0.9953\n",
      "Epoch 13/30, Loss: 0.0011, F1 Score: 0.9833\n",
      "Epoch 14/30, Loss: 0.0002, F1 Score: 0.9975\n",
      "Epoch 15/30, Loss: 0.0000, F1 Score: 0.9996\n",
      "Epoch 16/30, Loss: 0.0000, F1 Score: 1.0000\n",
      "Epoch 17/30, Loss: 0.0000, F1 Score: 1.0000\n",
      "Too low accuracy. Stopping the train\n",
      "Training complete.\n"
     ]
    },
    {
     "data": {
      "text/html": [],
      "text/plain": [
       "<IPython.core.display.HTML object>"
      ]
     },
     "metadata": {},
     "output_type": "display_data"
    },
    {
     "data": {
      "text/html": [
       "<br>    <style><br>        .wandb-row {<br>            display: flex;<br>            flex-direction: row;<br>            flex-wrap: wrap;<br>            justify-content: flex-start;<br>            width: 100%;<br>        }<br>        .wandb-col {<br>            display: flex;<br>            flex-direction: column;<br>            flex-basis: 100%;<br>            flex: 1;<br>            padding: 10px;<br>        }<br>    </style><br><div class=\"wandb-row\"><div class=\"wandb-col\"><h3>Run history:</h3><br/><table class=\"wandb\"><tr><td>train/accuracy</td><td>▁▂▂▂▂▂▂▂▄▅▆▇▇▇▇██▇██████████████████████</td></tr><tr><td>train/loss</td><td>█▇▇▇▇▆▅▅▄▄▂▂▂▂▂▁▁▁▁▁▁▁▁▁▁▁▁▁▁▁▂▂▁▁▁▁▁▁▁▁</td></tr><tr><td>validation/accuracy</td><td>▁▁▅▅▆▆▇▇▇▇▇▇▇████</td></tr><tr><td>validation/loss</td><td>▂▄▁▁▂▄▁▃▅▄█▇▆▃▆▆▆</td></tr></table><br/></div><div class=\"wandb-col\"><h3>Run summary:</h3><br/><table class=\"wandb\"><tr><td>train/accuracy</td><td>1</td></tr><tr><td>train/loss</td><td>0.0002</td></tr><tr><td>validation/accuracy</td><td>0.89144</td></tr><tr><td>validation/loss</td><td>1.02417</td></tr></table><br/></div></div>"
      ],
      "text/plain": [
       "<IPython.core.display.HTML object>"
      ]
     },
     "metadata": {},
     "output_type": "display_data"
    },
    {
     "data": {
      "text/html": [
       " View run <strong style=\"color:#cdcd00\">lr:0.001-b:64-d_c:0.4, d_f:0.4</strong> at: <a href='https://wandb.ai/mldogs-wut/iml_final_tests/runs/mdfkfwps' target=\"_blank\">https://wandb.ai/mldogs-wut/iml_final_tests/runs/mdfkfwps</a><br> View project at: <a href='https://wandb.ai/mldogs-wut/iml_final_tests' target=\"_blank\">https://wandb.ai/mldogs-wut/iml_final_tests</a><br>Synced 5 W&B file(s), 0 media file(s), 0 artifact file(s) and 0 other file(s)"
      ],
      "text/plain": [
       "<IPython.core.display.HTML object>"
      ]
     },
     "metadata": {},
     "output_type": "display_data"
    },
    {
     "data": {
      "text/html": [
       "Find logs at: <code>./wandb/run-20250119_185659-mdfkfwps/logs</code>"
      ],
      "text/plain": [
       "<IPython.core.display.HTML object>"
      ]
     },
     "metadata": {},
     "output_type": "display_data"
    },
    {
     "name": "stdout",
     "output_type": "stream",
     "text": [
      "lr:0.001-b:128-d_c:0, d_f:0\n"
     ]
    },
    {
     "data": {
      "text/html": [
       "Tracking run with wandb version 0.19.1"
      ],
      "text/plain": [
       "<IPython.core.display.HTML object>"
      ]
     },
     "metadata": {},
     "output_type": "display_data"
    },
    {
     "data": {
      "text/html": [
       "Run data is saved locally in <code>/home/migoox/dev/ml-dogs-sharepoint/notebook/training/wandb/run-20250119_185736-sfdxef7j</code>"
      ],
      "text/plain": [
       "<IPython.core.display.HTML object>"
      ]
     },
     "metadata": {},
     "output_type": "display_data"
    },
    {
     "data": {
      "text/html": [
       "Syncing run <strong><a href='https://wandb.ai/mldogs-wut/iml_final_tests/runs/sfdxef7j' target=\"_blank\">lr:0.001-b:128-d_c:0, d_f:0</a></strong> to <a href='https://wandb.ai/mldogs-wut/iml_final_tests' target=\"_blank\">Weights & Biases</a> (<a href='https://wandb.me/developer-guide' target=\"_blank\">docs</a>)<br>"
      ],
      "text/plain": [
       "<IPython.core.display.HTML object>"
      ]
     },
     "metadata": {},
     "output_type": "display_data"
    },
    {
     "data": {
      "text/html": [
       " View project at <a href='https://wandb.ai/mldogs-wut/iml_final_tests' target=\"_blank\">https://wandb.ai/mldogs-wut/iml_final_tests</a>"
      ],
      "text/plain": [
       "<IPython.core.display.HTML object>"
      ]
     },
     "metadata": {},
     "output_type": "display_data"
    },
    {
     "data": {
      "text/html": [
       " View run at <a href='https://wandb.ai/mldogs-wut/iml_final_tests/runs/sfdxef7j' target=\"_blank\">https://wandb.ai/mldogs-wut/iml_final_tests/runs/sfdxef7j</a>"
      ],
      "text/plain": [
       "<IPython.core.display.HTML object>"
      ]
     },
     "metadata": {},
     "output_type": "display_data"
    },
    {
     "name": "stdout",
     "output_type": "stream",
     "text": [
      "Epoch 1/30, Loss: 0.0325, F1 Score: 0.5541\n",
      "Epoch 2/30, Loss: 0.0108, F1 Score: 0.8586\n",
      "Epoch 3/30, Loss: 0.0073, F1 Score: 0.9275\n",
      "Epoch 4/30, Loss: 0.0052, F1 Score: 0.9625\n",
      "Epoch 5/30, Loss: 0.0031, F1 Score: 0.9761\n",
      "Epoch 6/30, Loss: 0.0041, F1 Score: 0.9846\n",
      "Epoch 7/30, Loss: 0.0032, F1 Score: 0.9860\n",
      "Epoch 8/30, Loss: 0.0023, F1 Score: 0.9924\n",
      "Epoch 9/30, Loss: 0.0009, F1 Score: 0.9963\n",
      "Epoch 10/30, Loss: 0.0004, F1 Score: 0.9990\n",
      "Epoch 11/30, Loss: 0.0009, F1 Score: 0.9981\n",
      "Epoch 12/30, Loss: 0.0004, F1 Score: 0.9975\n",
      "Epoch 13/30, Loss: 0.0001, F1 Score: 0.9992\n",
      "Epoch 14/30, Loss: 0.0001, F1 Score: 0.9988\n",
      "Epoch 15/30, Loss: 0.0000, F1 Score: 1.0000\n",
      "Epoch 16/30, Loss: 0.0000, F1 Score: 1.0000\n",
      "Epoch 17/30, Loss: 0.0000, F1 Score: 1.0000\n",
      "Too low accuracy. Stopping the train\n",
      "Training complete.\n"
     ]
    },
    {
     "data": {
      "text/html": [],
      "text/plain": [
       "<IPython.core.display.HTML object>"
      ]
     },
     "metadata": {},
     "output_type": "display_data"
    },
    {
     "data": {
      "text/html": [
       "<br>    <style><br>        .wandb-row {<br>            display: flex;<br>            flex-direction: row;<br>            flex-wrap: wrap;<br>            justify-content: flex-start;<br>            width: 100%;<br>        }<br>        .wandb-col {<br>            display: flex;<br>            flex-direction: column;<br>            flex-basis: 100%;<br>            flex: 1;<br>            padding: 10px;<br>        }<br>    </style><br><div class=\"wandb-row\"><div class=\"wandb-col\"><h3>Run history:</h3><br/><table class=\"wandb\"><tr><td>train/accuracy</td><td>▁▃▃▄▅▆▇▇▇▇█▇████████████████████████████</td></tr><tr><td>train/loss</td><td>█▇▄▃▃▂▂▂▂▂▂▁▂▁▁▁▁▁▁▁▁▁▁▁▁▁▁▁▁▁▁▁▁▁▁▁▁▁▁▁</td></tr><tr><td>validation/accuracy</td><td>▁▁▅▆▅▅▇▅▆▇██▇████</td></tr><tr><td>validation/loss</td><td>▂▂▁▂▂▂▂▂▇▇▃▇▄▆█▇█</td></tr></table><br/></div><div class=\"wandb-col\"><h3>Run summary:</h3><br/><table class=\"wandb\"><tr><td>train/accuracy</td><td>1</td></tr><tr><td>train/loss</td><td>4e-05</td></tr><tr><td>validation/accuracy</td><td>0.89103</td></tr><tr><td>validation/loss</td><td>1.67669</td></tr></table><br/></div></div>"
      ],
      "text/plain": [
       "<IPython.core.display.HTML object>"
      ]
     },
     "metadata": {},
     "output_type": "display_data"
    },
    {
     "data": {
      "text/html": [
       " View run <strong style=\"color:#cdcd00\">lr:0.001-b:128-d_c:0, d_f:0</strong> at: <a href='https://wandb.ai/mldogs-wut/iml_final_tests/runs/sfdxef7j' target=\"_blank\">https://wandb.ai/mldogs-wut/iml_final_tests/runs/sfdxef7j</a><br> View project at: <a href='https://wandb.ai/mldogs-wut/iml_final_tests' target=\"_blank\">https://wandb.ai/mldogs-wut/iml_final_tests</a><br>Synced 5 W&B file(s), 0 media file(s), 0 artifact file(s) and 0 other file(s)"
      ],
      "text/plain": [
       "<IPython.core.display.HTML object>"
      ]
     },
     "metadata": {},
     "output_type": "display_data"
    },
    {
     "data": {
      "text/html": [
       "Find logs at: <code>./wandb/run-20250119_185736-sfdxef7j/logs</code>"
      ],
      "text/plain": [
       "<IPython.core.display.HTML object>"
      ]
     },
     "metadata": {},
     "output_type": "display_data"
    },
    {
     "name": "stdout",
     "output_type": "stream",
     "text": [
      "lr:0.001-b:128-d_c:0, d_f:0.2\n"
     ]
    },
    {
     "data": {
      "text/html": [
       "Tracking run with wandb version 0.19.1"
      ],
      "text/plain": [
       "<IPython.core.display.HTML object>"
      ]
     },
     "metadata": {},
     "output_type": "display_data"
    },
    {
     "data": {
      "text/html": [
       "Run data is saved locally in <code>/home/migoox/dev/ml-dogs-sharepoint/notebook/training/wandb/run-20250119_185813-4fc2b584</code>"
      ],
      "text/plain": [
       "<IPython.core.display.HTML object>"
      ]
     },
     "metadata": {},
     "output_type": "display_data"
    },
    {
     "data": {
      "text/html": [
       "Syncing run <strong><a href='https://wandb.ai/mldogs-wut/iml_final_tests/runs/4fc2b584' target=\"_blank\">lr:0.001-b:128-d_c:0, d_f:0.2</a></strong> to <a href='https://wandb.ai/mldogs-wut/iml_final_tests' target=\"_blank\">Weights & Biases</a> (<a href='https://wandb.me/developer-guide' target=\"_blank\">docs</a>)<br>"
      ],
      "text/plain": [
       "<IPython.core.display.HTML object>"
      ]
     },
     "metadata": {},
     "output_type": "display_data"
    },
    {
     "data": {
      "text/html": [
       " View project at <a href='https://wandb.ai/mldogs-wut/iml_final_tests' target=\"_blank\">https://wandb.ai/mldogs-wut/iml_final_tests</a>"
      ],
      "text/plain": [
       "<IPython.core.display.HTML object>"
      ]
     },
     "metadata": {},
     "output_type": "display_data"
    },
    {
     "data": {
      "text/html": [
       " View run at <a href='https://wandb.ai/mldogs-wut/iml_final_tests/runs/4fc2b584' target=\"_blank\">https://wandb.ai/mldogs-wut/iml_final_tests/runs/4fc2b584</a>"
      ],
      "text/plain": [
       "<IPython.core.display.HTML object>"
      ]
     },
     "metadata": {},
     "output_type": "display_data"
    },
    {
     "name": "stdout",
     "output_type": "stream",
     "text": [
      "Epoch 1/30, Loss: 0.0266, F1 Score: 0.5949\n",
      "Epoch 2/30, Loss: 0.0196, F1 Score: 0.8665\n",
      "Epoch 3/30, Loss: 0.0103, F1 Score: 0.9286\n",
      "Epoch 4/30, Loss: 0.0056, F1 Score: 0.9714\n",
      "Epoch 5/30, Loss: 0.0026, F1 Score: 0.9829\n",
      "Epoch 6/30, Loss: 0.0008, F1 Score: 0.9874\n",
      "Epoch 7/30, Loss: 0.0035, F1 Score: 0.9856\n",
      "Epoch 8/30, Loss: 0.0005, F1 Score: 0.9883\n",
      "Epoch 9/30, Loss: 0.0010, F1 Score: 0.9967\n",
      "Epoch 10/30, Loss: 0.0000, F1 Score: 0.9990\n",
      "Epoch 11/30, Loss: 0.0000, F1 Score: 1.0000\n",
      "Epoch 12/30, Loss: 0.0000, F1 Score: 1.0000\n",
      "Epoch 13/30, Loss: 0.0000, F1 Score: 1.0000\n",
      "Epoch 14/30, Loss: 0.0000, F1 Score: 1.0000\n",
      "Epoch 15/30, Loss: 0.0000, F1 Score: 1.0000\n",
      "Epoch 16/30, Loss: 0.0000, F1 Score: 1.0000\n",
      "Epoch 17/30, Loss: 0.0000, F1 Score: 1.0000\n",
      "Too low accuracy. Stopping the train\n",
      "Training complete.\n"
     ]
    },
    {
     "data": {
      "text/html": [],
      "text/plain": [
       "<IPython.core.display.HTML object>"
      ]
     },
     "metadata": {},
     "output_type": "display_data"
    },
    {
     "data": {
      "text/html": [
       "<br>    <style><br>        .wandb-row {<br>            display: flex;<br>            flex-direction: row;<br>            flex-wrap: wrap;<br>            justify-content: flex-start;<br>            width: 100%;<br>        }<br>        .wandb-col {<br>            display: flex;<br>            flex-direction: column;<br>            flex-basis: 100%;<br>            flex: 1;<br>            padding: 10px;<br>        }<br>    </style><br><div class=\"wandb-row\"><div class=\"wandb-col\"><h3>Run history:</h3><br/><table class=\"wandb\"><tr><td>train/accuracy</td><td>▁▂▂▅▅▇▇▇▇███████▇███████████████████████</td></tr><tr><td>train/loss</td><td>█▆▄▃▄▂▂▂▂▂▁▁▁▁▁▁▁▁▁▁▁▁▁▁▁▁▁▁▁▁▁▁▁▁▁▁▁▁▁▁</td></tr><tr><td>validation/accuracy</td><td>▁▃▅▅▆▇▆▇█▇███████</td></tr><tr><td>validation/loss</td><td>▁▁▁▁▂▂▂▂▂▆▆▆▇▇███</td></tr></table><br/></div><div class=\"wandb-col\"><h3>Run summary:</h3><br/><table class=\"wandb\"><tr><td>train/accuracy</td><td>1</td></tr><tr><td>train/loss</td><td>9e-05</td></tr><tr><td>validation/accuracy</td><td>0.88929</td></tr><tr><td>validation/loss</td><td>1.61534</td></tr></table><br/></div></div>"
      ],
      "text/plain": [
       "<IPython.core.display.HTML object>"
      ]
     },
     "metadata": {},
     "output_type": "display_data"
    },
    {
     "data": {
      "text/html": [
       " View run <strong style=\"color:#cdcd00\">lr:0.001-b:128-d_c:0, d_f:0.2</strong> at: <a href='https://wandb.ai/mldogs-wut/iml_final_tests/runs/4fc2b584' target=\"_blank\">https://wandb.ai/mldogs-wut/iml_final_tests/runs/4fc2b584</a><br> View project at: <a href='https://wandb.ai/mldogs-wut/iml_final_tests' target=\"_blank\">https://wandb.ai/mldogs-wut/iml_final_tests</a><br>Synced 5 W&B file(s), 0 media file(s), 0 artifact file(s) and 0 other file(s)"
      ],
      "text/plain": [
       "<IPython.core.display.HTML object>"
      ]
     },
     "metadata": {},
     "output_type": "display_data"
    },
    {
     "data": {
      "text/html": [
       "Find logs at: <code>./wandb/run-20250119_185813-4fc2b584/logs</code>"
      ],
      "text/plain": [
       "<IPython.core.display.HTML object>"
      ]
     },
     "metadata": {},
     "output_type": "display_data"
    },
    {
     "name": "stdout",
     "output_type": "stream",
     "text": [
      "lr:0.001-b:128-d_c:0, d_f:0.4\n"
     ]
    },
    {
     "data": {
      "text/html": [
       "Tracking run with wandb version 0.19.1"
      ],
      "text/plain": [
       "<IPython.core.display.HTML object>"
      ]
     },
     "metadata": {},
     "output_type": "display_data"
    },
    {
     "data": {
      "text/html": [
       "Run data is saved locally in <code>/home/migoox/dev/ml-dogs-sharepoint/notebook/training/wandb/run-20250119_185851-aj6srlmd</code>"
      ],
      "text/plain": [
       "<IPython.core.display.HTML object>"
      ]
     },
     "metadata": {},
     "output_type": "display_data"
    },
    {
     "data": {
      "text/html": [
       "Syncing run <strong><a href='https://wandb.ai/mldogs-wut/iml_final_tests/runs/aj6srlmd' target=\"_blank\">lr:0.001-b:128-d_c:0, d_f:0.4</a></strong> to <a href='https://wandb.ai/mldogs-wut/iml_final_tests' target=\"_blank\">Weights & Biases</a> (<a href='https://wandb.me/developer-guide' target=\"_blank\">docs</a>)<br>"
      ],
      "text/plain": [
       "<IPython.core.display.HTML object>"
      ]
     },
     "metadata": {},
     "output_type": "display_data"
    },
    {
     "data": {
      "text/html": [
       " View project at <a href='https://wandb.ai/mldogs-wut/iml_final_tests' target=\"_blank\">https://wandb.ai/mldogs-wut/iml_final_tests</a>"
      ],
      "text/plain": [
       "<IPython.core.display.HTML object>"
      ]
     },
     "metadata": {},
     "output_type": "display_data"
    },
    {
     "data": {
      "text/html": [
       " View run at <a href='https://wandb.ai/mldogs-wut/iml_final_tests/runs/aj6srlmd' target=\"_blank\">https://wandb.ai/mldogs-wut/iml_final_tests/runs/aj6srlmd</a>"
      ],
      "text/plain": [
       "<IPython.core.display.HTML object>"
      ]
     },
     "metadata": {},
     "output_type": "display_data"
    },
    {
     "name": "stdout",
     "output_type": "stream",
     "text": [
      "Epoch 1/30, Loss: 0.0406, F1 Score: 0.4095\n",
      "Epoch 2/30, Loss: 0.0356, F1 Score: 0.5117\n",
      "Epoch 3/30, Loss: 0.0187, F1 Score: 0.8024\n",
      "Epoch 4/30, Loss: 0.0091, F1 Score: 0.9212\n",
      "Epoch 5/30, Loss: 0.0056, F1 Score: 0.9556\n",
      "Epoch 6/30, Loss: 0.0033, F1 Score: 0.9778\n",
      "Epoch 7/30, Loss: 0.0021, F1 Score: 0.9782\n",
      "Epoch 8/30, Loss: 0.0009, F1 Score: 0.9957\n",
      "Epoch 9/30, Loss: 0.0003, F1 Score: 0.9981\n",
      "Epoch 10/30, Loss: 0.0011, F1 Score: 0.9982\n",
      "Epoch 11/30, Loss: 0.0009, F1 Score: 0.9977\n",
      "Epoch 12/30, Loss: 0.0010, F1 Score: 0.9872\n",
      "Epoch 13/30, Loss: 0.0007, F1 Score: 0.9955\n",
      "Epoch 14/30, Loss: 0.0005, F1 Score: 0.9967\n",
      "Epoch 15/30, Loss: 0.0001, F1 Score: 0.9994\n",
      "Epoch 16/30, Loss: 0.0000, F1 Score: 0.9992\n",
      "Epoch 17/30, Loss: 0.0004, F1 Score: 0.9981\n",
      "Too low accuracy. Stopping the train\n",
      "Training complete.\n"
     ]
    },
    {
     "data": {
      "text/html": [],
      "text/plain": [
       "<IPython.core.display.HTML object>"
      ]
     },
     "metadata": {},
     "output_type": "display_data"
    },
    {
     "data": {
      "text/html": [
       "<br>    <style><br>        .wandb-row {<br>            display: flex;<br>            flex-direction: row;<br>            flex-wrap: wrap;<br>            justify-content: flex-start;<br>            width: 100%;<br>        }<br>        .wandb-col {<br>            display: flex;<br>            flex-direction: column;<br>            flex-basis: 100%;<br>            flex: 1;<br>            padding: 10px;<br>        }<br>    </style><br><div class=\"wandb-row\"><div class=\"wandb-col\"><h3>Run history:</h3><br/><table class=\"wandb\"><tr><td>train/accuracy</td><td>▁▂▂▂▂▃▅▅▇▇▇▇▇██▇██▇█████████████████████</td></tr><tr><td>train/loss</td><td>███▆▃▂▂▂▁▁▁▂▁▂▁▁▁▁▁▁▁▁▁▁▁▁▁▁▁▁▁▁▁▁▁▁▁▁▁▁</td></tr><tr><td>validation/accuracy</td><td>▁▂▆██▇█▇████▇▇███</td></tr><tr><td>validation/loss</td><td>▃▃▁▁▂▂▂▅▄▄▆▃█▆▇▄█</td></tr></table><br/></div><div class=\"wandb-col\"><h3>Run summary:</h3><br/><table class=\"wandb\"><tr><td>train/accuracy</td><td>1</td></tr><tr><td>train/loss</td><td>0.00238</td></tr><tr><td>validation/accuracy</td><td>0.87234</td></tr><tr><td>validation/loss</td><td>1.36173</td></tr></table><br/></div></div>"
      ],
      "text/plain": [
       "<IPython.core.display.HTML object>"
      ]
     },
     "metadata": {},
     "output_type": "display_data"
    },
    {
     "data": {
      "text/html": [
       " View run <strong style=\"color:#cdcd00\">lr:0.001-b:128-d_c:0, d_f:0.4</strong> at: <a href='https://wandb.ai/mldogs-wut/iml_final_tests/runs/aj6srlmd' target=\"_blank\">https://wandb.ai/mldogs-wut/iml_final_tests/runs/aj6srlmd</a><br> View project at: <a href='https://wandb.ai/mldogs-wut/iml_final_tests' target=\"_blank\">https://wandb.ai/mldogs-wut/iml_final_tests</a><br>Synced 5 W&B file(s), 0 media file(s), 0 artifact file(s) and 0 other file(s)"
      ],
      "text/plain": [
       "<IPython.core.display.HTML object>"
      ]
     },
     "metadata": {},
     "output_type": "display_data"
    },
    {
     "data": {
      "text/html": [
       "Find logs at: <code>./wandb/run-20250119_185851-aj6srlmd/logs</code>"
      ],
      "text/plain": [
       "<IPython.core.display.HTML object>"
      ]
     },
     "metadata": {},
     "output_type": "display_data"
    },
    {
     "name": "stdout",
     "output_type": "stream",
     "text": [
      "lr:0.001-b:128-d_c:0.2, d_f:0\n"
     ]
    },
    {
     "data": {
      "text/html": [
       "Tracking run with wandb version 0.19.1"
      ],
      "text/plain": [
       "<IPython.core.display.HTML object>"
      ]
     },
     "metadata": {},
     "output_type": "display_data"
    },
    {
     "data": {
      "text/html": [
       "Run data is saved locally in <code>/home/migoox/dev/ml-dogs-sharepoint/notebook/training/wandb/run-20250119_185927-mna8touy</code>"
      ],
      "text/plain": [
       "<IPython.core.display.HTML object>"
      ]
     },
     "metadata": {},
     "output_type": "display_data"
    },
    {
     "data": {
      "text/html": [
       "Syncing run <strong><a href='https://wandb.ai/mldogs-wut/iml_final_tests/runs/mna8touy' target=\"_blank\">lr:0.001-b:128-d_c:0.2, d_f:0</a></strong> to <a href='https://wandb.ai/mldogs-wut/iml_final_tests' target=\"_blank\">Weights & Biases</a> (<a href='https://wandb.me/developer-guide' target=\"_blank\">docs</a>)<br>"
      ],
      "text/plain": [
       "<IPython.core.display.HTML object>"
      ]
     },
     "metadata": {},
     "output_type": "display_data"
    },
    {
     "data": {
      "text/html": [
       " View project at <a href='https://wandb.ai/mldogs-wut/iml_final_tests' target=\"_blank\">https://wandb.ai/mldogs-wut/iml_final_tests</a>"
      ],
      "text/plain": [
       "<IPython.core.display.HTML object>"
      ]
     },
     "metadata": {},
     "output_type": "display_data"
    },
    {
     "data": {
      "text/html": [
       " View run at <a href='https://wandb.ai/mldogs-wut/iml_final_tests/runs/mna8touy' target=\"_blank\">https://wandb.ai/mldogs-wut/iml_final_tests/runs/mna8touy</a>"
      ],
      "text/plain": [
       "<IPython.core.display.HTML object>"
      ]
     },
     "metadata": {},
     "output_type": "display_data"
    },
    {
     "name": "stdout",
     "output_type": "stream",
     "text": [
      "Epoch 1/30, Loss: 0.0222, F1 Score: 0.6359\n",
      "Epoch 2/30, Loss: 0.0135, F1 Score: 0.8729\n",
      "Epoch 3/30, Loss: 0.0065, F1 Score: 0.9417\n",
      "Epoch 4/30, Loss: 0.0042, F1 Score: 0.9724\n",
      "Epoch 5/30, Loss: 0.0019, F1 Score: 0.9850\n",
      "Epoch 6/30, Loss: 0.0010, F1 Score: 0.9893\n",
      "Epoch 7/30, Loss: 0.0009, F1 Score: 0.9936\n",
      "Epoch 8/30, Loss: 0.0008, F1 Score: 0.9963\n",
      "Epoch 9/30, Loss: 0.0001, F1 Score: 0.9990\n",
      "Epoch 10/30, Loss: 0.0000, F1 Score: 1.0000\n",
      "Epoch 11/30, Loss: 0.0000, F1 Score: 1.0000\n",
      "Epoch 12/30, Loss: 0.0000, F1 Score: 1.0000\n",
      "Epoch 13/30, Loss: 0.0000, F1 Score: 1.0000\n",
      "Epoch 14/30, Loss: 0.0000, F1 Score: 1.0000\n",
      "Epoch 15/30, Loss: 0.0000, F1 Score: 1.0000\n",
      "Epoch 16/30, Loss: 0.0000, F1 Score: 1.0000\n",
      "Epoch 17/30, Loss: 0.0000, F1 Score: 1.0000\n",
      "Too low accuracy. Stopping the train\n",
      "Training complete.\n"
     ]
    },
    {
     "data": {
      "text/html": [],
      "text/plain": [
       "<IPython.core.display.HTML object>"
      ]
     },
     "metadata": {},
     "output_type": "display_data"
    },
    {
     "data": {
      "text/html": [
       "<br>    <style><br>        .wandb-row {<br>            display: flex;<br>            flex-direction: row;<br>            flex-wrap: wrap;<br>            justify-content: flex-start;<br>            width: 100%;<br>        }<br>        .wandb-col {<br>            display: flex;<br>            flex-direction: column;<br>            flex-basis: 100%;<br>            flex: 1;<br>            padding: 10px;<br>        }<br>    </style><br><div class=\"wandb-row\"><div class=\"wandb-col\"><h3>Run history:</h3><br/><table class=\"wandb\"><tr><td>train/accuracy</td><td>▁▁▂▃▄▇▇▇▇▇██████████████████████████████</td></tr><tr><td>train/loss</td><td>██▇▇▆▄▃▃▂▂▂▂▁▁▁▁▁▁▁▁▁▁▁▁▁▁▁▁▁▁▁▁▁▁▁▁▁▁▁▁</td></tr><tr><td>validation/accuracy</td><td>▁▅▇▅▇█▇███▇██████</td></tr><tr><td>validation/loss</td><td>▂▁▁▂▂▂▃▃▅▅▇▇▇████</td></tr></table><br/></div><div class=\"wandb-col\"><h3>Run summary:</h3><br/><table class=\"wandb\"><tr><td>train/accuracy</td><td>1</td></tr><tr><td>train/loss</td><td>6e-05</td></tr><tr><td>validation/accuracy</td><td>0.8945</td></tr><tr><td>validation/loss</td><td>1.42713</td></tr></table><br/></div></div>"
      ],
      "text/plain": [
       "<IPython.core.display.HTML object>"
      ]
     },
     "metadata": {},
     "output_type": "display_data"
    },
    {
     "data": {
      "text/html": [
       " View run <strong style=\"color:#cdcd00\">lr:0.001-b:128-d_c:0.2, d_f:0</strong> at: <a href='https://wandb.ai/mldogs-wut/iml_final_tests/runs/mna8touy' target=\"_blank\">https://wandb.ai/mldogs-wut/iml_final_tests/runs/mna8touy</a><br> View project at: <a href='https://wandb.ai/mldogs-wut/iml_final_tests' target=\"_blank\">https://wandb.ai/mldogs-wut/iml_final_tests</a><br>Synced 5 W&B file(s), 0 media file(s), 0 artifact file(s) and 0 other file(s)"
      ],
      "text/plain": [
       "<IPython.core.display.HTML object>"
      ]
     },
     "metadata": {},
     "output_type": "display_data"
    },
    {
     "data": {
      "text/html": [
       "Find logs at: <code>./wandb/run-20250119_185927-mna8touy/logs</code>"
      ],
      "text/plain": [
       "<IPython.core.display.HTML object>"
      ]
     },
     "metadata": {},
     "output_type": "display_data"
    },
    {
     "name": "stdout",
     "output_type": "stream",
     "text": [
      "lr:0.001-b:128-d_c:0.2, d_f:0.2\n"
     ]
    },
    {
     "data": {
      "text/html": [
       "Tracking run with wandb version 0.19.1"
      ],
      "text/plain": [
       "<IPython.core.display.HTML object>"
      ]
     },
     "metadata": {},
     "output_type": "display_data"
    },
    {
     "data": {
      "text/html": [
       "Run data is saved locally in <code>/home/migoox/dev/ml-dogs-sharepoint/notebook/training/wandb/run-20250119_190005-fznp41ng</code>"
      ],
      "text/plain": [
       "<IPython.core.display.HTML object>"
      ]
     },
     "metadata": {},
     "output_type": "display_data"
    },
    {
     "data": {
      "text/html": [
       "Syncing run <strong><a href='https://wandb.ai/mldogs-wut/iml_final_tests/runs/fznp41ng' target=\"_blank\">lr:0.001-b:128-d_c:0.2, d_f:0.2</a></strong> to <a href='https://wandb.ai/mldogs-wut/iml_final_tests' target=\"_blank\">Weights & Biases</a> (<a href='https://wandb.me/developer-guide' target=\"_blank\">docs</a>)<br>"
      ],
      "text/plain": [
       "<IPython.core.display.HTML object>"
      ]
     },
     "metadata": {},
     "output_type": "display_data"
    },
    {
     "data": {
      "text/html": [
       " View project at <a href='https://wandb.ai/mldogs-wut/iml_final_tests' target=\"_blank\">https://wandb.ai/mldogs-wut/iml_final_tests</a>"
      ],
      "text/plain": [
       "<IPython.core.display.HTML object>"
      ]
     },
     "metadata": {},
     "output_type": "display_data"
    },
    {
     "data": {
      "text/html": [
       " View run at <a href='https://wandb.ai/mldogs-wut/iml_final_tests/runs/fznp41ng' target=\"_blank\">https://wandb.ai/mldogs-wut/iml_final_tests/runs/fznp41ng</a>"
      ],
      "text/plain": [
       "<IPython.core.display.HTML object>"
      ]
     },
     "metadata": {},
     "output_type": "display_data"
    },
    {
     "name": "stdout",
     "output_type": "stream",
     "text": [
      "Epoch 1/30, Loss: 0.0272, F1 Score: 0.5552\n",
      "Epoch 2/30, Loss: 0.0127, F1 Score: 0.8661\n",
      "Epoch 3/30, Loss: 0.0056, F1 Score: 0.9410\n",
      "Epoch 4/30, Loss: 0.0021, F1 Score: 0.9728\n",
      "Epoch 5/30, Loss: 0.0044, F1 Score: 0.9803\n",
      "Epoch 6/30, Loss: 0.0017, F1 Score: 0.9897\n",
      "Epoch 7/30, Loss: 0.0037, F1 Score: 0.9924\n",
      "Epoch 8/30, Loss: 0.0027, F1 Score: 0.9940\n",
      "Epoch 9/30, Loss: 0.0006, F1 Score: 0.9856\n",
      "Epoch 10/30, Loss: 0.0001, F1 Score: 0.9963\n",
      "Epoch 11/30, Loss: 0.0000, F1 Score: 0.9992\n",
      "Epoch 12/30, Loss: 0.0000, F1 Score: 0.9998\n",
      "Epoch 13/30, Loss: 0.0000, F1 Score: 1.0000\n",
      "Epoch 14/30, Loss: 0.0000, F1 Score: 1.0000\n",
      "Epoch 15/30, Loss: 0.0000, F1 Score: 1.0000\n",
      "Epoch 16/30, Loss: 0.0000, F1 Score: 1.0000\n"
     ]
    },
    {
     "ename": "KeyboardInterrupt",
     "evalue": "",
     "output_type": "error",
     "traceback": [
      "\u001b[0;31m---------------------------------------------------------------------------\u001b[0m",
      "\u001b[0;31mKeyboardInterrupt\u001b[0m                         Traceback (most recent call last)",
      "Cell \u001b[0;32mIn[8], line 30\u001b[0m\n\u001b[1;32m     27\u001b[0m test_dataset \u001b[38;5;241m=\u001b[39m SpectrogramDataset(data_dir\u001b[38;5;241m=\u001b[39mos\u001b[38;5;241m.\u001b[39mpath\u001b[38;5;241m.\u001b[39mjoin(DATA_DIR, \u001b[38;5;124m\"\u001b[39m\u001b[38;5;124mtest\u001b[39m\u001b[38;5;124m\"\u001b[39m),transform\u001b[38;5;241m=\u001b[39mtransform)\n\u001b[1;32m     28\u001b[0m test_loader \u001b[38;5;241m=\u001b[39m DataLoader(test_dataset, batch_size\u001b[38;5;241m=\u001b[39mBATCH_SIZE, shuffle\u001b[38;5;241m=\u001b[39m\u001b[38;5;28;01mTrue\u001b[39;00m)\n\u001b[0;32m---> 30\u001b[0m \u001b[43mtrain\u001b[49m\u001b[43m(\u001b[49m\u001b[43mmodel\u001b[49m\u001b[43m,\u001b[49m\u001b[43m \u001b[49m\u001b[43mcriterion\u001b[49m\u001b[43m,\u001b[49m\u001b[43m \u001b[49m\u001b[43moptimizer\u001b[49m\u001b[43m,\u001b[49m\u001b[43m \u001b[49m\u001b[43mEPOCHS\u001b[49m\u001b[43m,\u001b[49m\u001b[43m \u001b[49m\u001b[43mtrain_loader\u001b[49m\u001b[43m,\u001b[49m\u001b[43m \u001b[49m\u001b[43mval_loader\u001b[49m\u001b[43m,\u001b[49m\u001b[43m \u001b[49m\u001b[43mmodel_name\u001b[49m\u001b[38;5;241;43m=\u001b[39;49m\u001b[38;5;124;43m\"\u001b[39;49m\u001b[38;5;124;43msimple_cnn\u001b[39;49m\u001b[38;5;124;43m\"\u001b[39;49m\u001b[43m)\u001b[49m\n\u001b[1;32m     32\u001b[0m wandb\u001b[38;5;241m.\u001b[39mfinish()\n",
      "Cell \u001b[0;32mIn[4], line 18\u001b[0m, in \u001b[0;36mtrain\u001b[0;34m(model, criterion, optimizer, num_epochs, train_loader, val_loader, model_name)\u001b[0m\n\u001b[1;32m     15\u001b[0m all_labels \u001b[38;5;241m=\u001b[39m []\n\u001b[1;32m     16\u001b[0m all_preds \u001b[38;5;241m=\u001b[39m []\n\u001b[0;32m---> 18\u001b[0m \u001b[43m\u001b[49m\u001b[38;5;28;43;01mfor\u001b[39;49;00m\u001b[43m  \u001b[49m\u001b[43mi\u001b[49m\u001b[43m,\u001b[49m\u001b[43m \u001b[49m\u001b[43mdata\u001b[49m\u001b[43m \u001b[49m\u001b[38;5;129;43;01min\u001b[39;49;00m\u001b[43m \u001b[49m\u001b[38;5;28;43menumerate\u001b[39;49m\u001b[43m(\u001b[49m\u001b[43mtrain_loader\u001b[49m\u001b[43m)\u001b[49m\u001b[43m:\u001b[49m\n\u001b[1;32m     19\u001b[0m \u001b[43m    \u001b[49m\u001b[43minputs\u001b[49m\u001b[43m,\u001b[49m\u001b[43m \u001b[49m\u001b[43mlabels\u001b[49m\u001b[43m \u001b[49m\u001b[38;5;241;43m=\u001b[39;49m\u001b[43m \u001b[49m\u001b[43mdata\u001b[49m\n\u001b[1;32m     20\u001b[0m \u001b[43m    \u001b[49m\u001b[43minputs\u001b[49m\u001b[43m \u001b[49m\u001b[38;5;241;43m=\u001b[39;49m\u001b[43m \u001b[49m\u001b[43minputs\u001b[49m\u001b[38;5;241;43m.\u001b[39;49m\u001b[43mto\u001b[49m\u001b[43m(\u001b[49m\u001b[43mdevice\u001b[49m\u001b[43m)\u001b[49m\n",
      "File \u001b[0;32m~/dev/ml-dogs-sharepoint/.venv/lib/python3.12/site-packages/torch/utils/data/dataloader.py:701\u001b[0m, in \u001b[0;36m_BaseDataLoaderIter.__next__\u001b[0;34m(self)\u001b[0m\n\u001b[1;32m    698\u001b[0m \u001b[38;5;28;01mif\u001b[39;00m \u001b[38;5;28mself\u001b[39m\u001b[38;5;241m.\u001b[39m_sampler_iter \u001b[38;5;129;01mis\u001b[39;00m \u001b[38;5;28;01mNone\u001b[39;00m:\n\u001b[1;32m    699\u001b[0m     \u001b[38;5;66;03m# TODO(https://github.com/pytorch/pytorch/issues/76750)\u001b[39;00m\n\u001b[1;32m    700\u001b[0m     \u001b[38;5;28mself\u001b[39m\u001b[38;5;241m.\u001b[39m_reset()  \u001b[38;5;66;03m# type: ignore[call-arg]\u001b[39;00m\n\u001b[0;32m--> 701\u001b[0m data \u001b[38;5;241m=\u001b[39m \u001b[38;5;28;43mself\u001b[39;49m\u001b[38;5;241;43m.\u001b[39;49m\u001b[43m_next_data\u001b[49m\u001b[43m(\u001b[49m\u001b[43m)\u001b[49m\n\u001b[1;32m    702\u001b[0m \u001b[38;5;28mself\u001b[39m\u001b[38;5;241m.\u001b[39m_num_yielded \u001b[38;5;241m+\u001b[39m\u001b[38;5;241m=\u001b[39m \u001b[38;5;241m1\u001b[39m\n\u001b[1;32m    703\u001b[0m \u001b[38;5;28;01mif\u001b[39;00m (\n\u001b[1;32m    704\u001b[0m     \u001b[38;5;28mself\u001b[39m\u001b[38;5;241m.\u001b[39m_dataset_kind \u001b[38;5;241m==\u001b[39m _DatasetKind\u001b[38;5;241m.\u001b[39mIterable\n\u001b[1;32m    705\u001b[0m     \u001b[38;5;129;01mand\u001b[39;00m \u001b[38;5;28mself\u001b[39m\u001b[38;5;241m.\u001b[39m_IterableDataset_len_called \u001b[38;5;129;01mis\u001b[39;00m \u001b[38;5;129;01mnot\u001b[39;00m \u001b[38;5;28;01mNone\u001b[39;00m\n\u001b[1;32m    706\u001b[0m     \u001b[38;5;129;01mand\u001b[39;00m \u001b[38;5;28mself\u001b[39m\u001b[38;5;241m.\u001b[39m_num_yielded \u001b[38;5;241m>\u001b[39m \u001b[38;5;28mself\u001b[39m\u001b[38;5;241m.\u001b[39m_IterableDataset_len_called\n\u001b[1;32m    707\u001b[0m ):\n",
      "File \u001b[0;32m~/dev/ml-dogs-sharepoint/.venv/lib/python3.12/site-packages/torch/utils/data/dataloader.py:757\u001b[0m, in \u001b[0;36m_SingleProcessDataLoaderIter._next_data\u001b[0;34m(self)\u001b[0m\n\u001b[1;32m    755\u001b[0m \u001b[38;5;28;01mdef\u001b[39;00m \u001b[38;5;21m_next_data\u001b[39m(\u001b[38;5;28mself\u001b[39m):\n\u001b[1;32m    756\u001b[0m     index \u001b[38;5;241m=\u001b[39m \u001b[38;5;28mself\u001b[39m\u001b[38;5;241m.\u001b[39m_next_index()  \u001b[38;5;66;03m# may raise StopIteration\u001b[39;00m\n\u001b[0;32m--> 757\u001b[0m     data \u001b[38;5;241m=\u001b[39m \u001b[38;5;28;43mself\u001b[39;49m\u001b[38;5;241;43m.\u001b[39;49m\u001b[43m_dataset_fetcher\u001b[49m\u001b[38;5;241;43m.\u001b[39;49m\u001b[43mfetch\u001b[49m\u001b[43m(\u001b[49m\u001b[43mindex\u001b[49m\u001b[43m)\u001b[49m  \u001b[38;5;66;03m# may raise StopIteration\u001b[39;00m\n\u001b[1;32m    758\u001b[0m     \u001b[38;5;28;01mif\u001b[39;00m \u001b[38;5;28mself\u001b[39m\u001b[38;5;241m.\u001b[39m_pin_memory:\n\u001b[1;32m    759\u001b[0m         data \u001b[38;5;241m=\u001b[39m _utils\u001b[38;5;241m.\u001b[39mpin_memory\u001b[38;5;241m.\u001b[39mpin_memory(data, \u001b[38;5;28mself\u001b[39m\u001b[38;5;241m.\u001b[39m_pin_memory_device)\n",
      "File \u001b[0;32m~/dev/ml-dogs-sharepoint/.venv/lib/python3.12/site-packages/torch/utils/data/_utils/fetch.py:52\u001b[0m, in \u001b[0;36m_MapDatasetFetcher.fetch\u001b[0;34m(self, possibly_batched_index)\u001b[0m\n\u001b[1;32m     50\u001b[0m         data \u001b[38;5;241m=\u001b[39m \u001b[38;5;28mself\u001b[39m\u001b[38;5;241m.\u001b[39mdataset\u001b[38;5;241m.\u001b[39m__getitems__(possibly_batched_index)\n\u001b[1;32m     51\u001b[0m     \u001b[38;5;28;01melse\u001b[39;00m:\n\u001b[0;32m---> 52\u001b[0m         data \u001b[38;5;241m=\u001b[39m [\u001b[38;5;28;43mself\u001b[39;49m\u001b[38;5;241;43m.\u001b[39;49m\u001b[43mdataset\u001b[49m\u001b[43m[\u001b[49m\u001b[43midx\u001b[49m\u001b[43m]\u001b[49m \u001b[38;5;28;01mfor\u001b[39;00m idx \u001b[38;5;129;01min\u001b[39;00m possibly_batched_index]\n\u001b[1;32m     53\u001b[0m \u001b[38;5;28;01melse\u001b[39;00m:\n\u001b[1;32m     54\u001b[0m     data \u001b[38;5;241m=\u001b[39m \u001b[38;5;28mself\u001b[39m\u001b[38;5;241m.\u001b[39mdataset[possibly_batched_index]\n",
      "File \u001b[0;32m~/dev/ml-dogs-sharepoint/src/model/spectogram_dataset.py:30\u001b[0m, in \u001b[0;36mSpectrogramDataset.__getitem__\u001b[0;34m(self, idx)\u001b[0m\n\u001b[1;32m     27\u001b[0m label \u001b[38;5;241m=\u001b[39m torch\u001b[38;5;241m.\u001b[39mtensor(\u001b[38;5;28mself\u001b[39m\u001b[38;5;241m.\u001b[39mlabels[idx], dtype\u001b[38;5;241m=\u001b[39mtorch\u001b[38;5;241m.\u001b[39mfloat32)\n\u001b[1;32m     29\u001b[0m \u001b[38;5;28;01mif\u001b[39;00m \u001b[38;5;28mself\u001b[39m\u001b[38;5;241m.\u001b[39mtransform:\n\u001b[0;32m---> 30\u001b[0m     image \u001b[38;5;241m=\u001b[39m \u001b[38;5;28;43mself\u001b[39;49m\u001b[38;5;241;43m.\u001b[39;49m\u001b[43mtransform\u001b[49m\u001b[43m(\u001b[49m\u001b[43mimage\u001b[49m\u001b[43m)\u001b[49m\n\u001b[1;32m     32\u001b[0m \u001b[38;5;28;01mreturn\u001b[39;00m image, label\n",
      "File \u001b[0;32m~/dev/ml-dogs-sharepoint/.venv/lib/python3.12/site-packages/torchvision/transforms/transforms.py:137\u001b[0m, in \u001b[0;36mToTensor.__call__\u001b[0;34m(self, pic)\u001b[0m\n\u001b[1;32m    129\u001b[0m \u001b[38;5;28;01mdef\u001b[39;00m \u001b[38;5;21m__call__\u001b[39m(\u001b[38;5;28mself\u001b[39m, pic):\n\u001b[1;32m    130\u001b[0m \u001b[38;5;250m    \u001b[39m\u001b[38;5;124;03m\"\"\"\u001b[39;00m\n\u001b[1;32m    131\u001b[0m \u001b[38;5;124;03m    Args:\u001b[39;00m\n\u001b[1;32m    132\u001b[0m \u001b[38;5;124;03m        pic (PIL Image or numpy.ndarray): Image to be converted to tensor.\u001b[39;00m\n\u001b[0;32m   (...)\u001b[0m\n\u001b[1;32m    135\u001b[0m \u001b[38;5;124;03m        Tensor: Converted image.\u001b[39;00m\n\u001b[1;32m    136\u001b[0m \u001b[38;5;124;03m    \"\"\"\u001b[39;00m\n\u001b[0;32m--> 137\u001b[0m     \u001b[38;5;28;01mreturn\u001b[39;00m \u001b[43mF\u001b[49m\u001b[38;5;241;43m.\u001b[39;49m\u001b[43mto_tensor\u001b[49m\u001b[43m(\u001b[49m\u001b[43mpic\u001b[49m\u001b[43m)\u001b[49m\n",
      "File \u001b[0;32m~/dev/ml-dogs-sharepoint/.venv/lib/python3.12/site-packages/torchvision/transforms/functional.py:168\u001b[0m, in \u001b[0;36mto_tensor\u001b[0;34m(pic)\u001b[0m\n\u001b[1;32m    166\u001b[0m \u001b[38;5;66;03m# handle PIL Image\u001b[39;00m\n\u001b[1;32m    167\u001b[0m mode_to_nptype \u001b[38;5;241m=\u001b[39m {\u001b[38;5;124m\"\u001b[39m\u001b[38;5;124mI\u001b[39m\u001b[38;5;124m\"\u001b[39m: np\u001b[38;5;241m.\u001b[39mint32, \u001b[38;5;124m\"\u001b[39m\u001b[38;5;124mI;16\u001b[39m\u001b[38;5;124m\"\u001b[39m \u001b[38;5;28;01mif\u001b[39;00m sys\u001b[38;5;241m.\u001b[39mbyteorder \u001b[38;5;241m==\u001b[39m \u001b[38;5;124m\"\u001b[39m\u001b[38;5;124mlittle\u001b[39m\u001b[38;5;124m\"\u001b[39m \u001b[38;5;28;01melse\u001b[39;00m \u001b[38;5;124m\"\u001b[39m\u001b[38;5;124mI;16B\u001b[39m\u001b[38;5;124m\"\u001b[39m: np\u001b[38;5;241m.\u001b[39mint16, \u001b[38;5;124m\"\u001b[39m\u001b[38;5;124mF\u001b[39m\u001b[38;5;124m\"\u001b[39m: np\u001b[38;5;241m.\u001b[39mfloat32}\n\u001b[0;32m--> 168\u001b[0m img \u001b[38;5;241m=\u001b[39m torch\u001b[38;5;241m.\u001b[39mfrom_numpy(\u001b[43mnp\u001b[49m\u001b[38;5;241;43m.\u001b[39;49m\u001b[43marray\u001b[49m\u001b[43m(\u001b[49m\u001b[43mpic\u001b[49m\u001b[43m,\u001b[49m\u001b[43m \u001b[49m\u001b[43mmode_to_nptype\u001b[49m\u001b[38;5;241;43m.\u001b[39;49m\u001b[43mget\u001b[49m\u001b[43m(\u001b[49m\u001b[43mpic\u001b[49m\u001b[38;5;241;43m.\u001b[39;49m\u001b[43mmode\u001b[49m\u001b[43m,\u001b[49m\u001b[43m \u001b[49m\u001b[43mnp\u001b[49m\u001b[38;5;241;43m.\u001b[39;49m\u001b[43muint8\u001b[49m\u001b[43m)\u001b[49m\u001b[43m,\u001b[49m\u001b[43m \u001b[49m\u001b[43mcopy\u001b[49m\u001b[38;5;241;43m=\u001b[39;49m\u001b[38;5;28;43;01mTrue\u001b[39;49;00m\u001b[43m)\u001b[49m)\n\u001b[1;32m    170\u001b[0m \u001b[38;5;28;01mif\u001b[39;00m pic\u001b[38;5;241m.\u001b[39mmode \u001b[38;5;241m==\u001b[39m \u001b[38;5;124m\"\u001b[39m\u001b[38;5;124m1\u001b[39m\u001b[38;5;124m\"\u001b[39m:\n\u001b[1;32m    171\u001b[0m     img \u001b[38;5;241m=\u001b[39m \u001b[38;5;241m255\u001b[39m \u001b[38;5;241m*\u001b[39m img\n",
      "File \u001b[0;32m~/dev/ml-dogs-sharepoint/.venv/lib/python3.12/site-packages/PIL/Image.py:747\u001b[0m, in \u001b[0;36mImage.__array_interface__\u001b[0;34m(self)\u001b[0m\n\u001b[1;32m    745\u001b[0m     new[\u001b[38;5;124m\"\u001b[39m\u001b[38;5;124mdata\u001b[39m\u001b[38;5;124m\"\u001b[39m] \u001b[38;5;241m=\u001b[39m \u001b[38;5;28mself\u001b[39m\u001b[38;5;241m.\u001b[39mtobytes(\u001b[38;5;124m\"\u001b[39m\u001b[38;5;124mraw\u001b[39m\u001b[38;5;124m\"\u001b[39m, \u001b[38;5;124m\"\u001b[39m\u001b[38;5;124mL\u001b[39m\u001b[38;5;124m\"\u001b[39m)\n\u001b[1;32m    746\u001b[0m \u001b[38;5;28;01melse\u001b[39;00m:\n\u001b[0;32m--> 747\u001b[0m     new[\u001b[38;5;124m\"\u001b[39m\u001b[38;5;124mdata\u001b[39m\u001b[38;5;124m\"\u001b[39m] \u001b[38;5;241m=\u001b[39m \u001b[38;5;28;43mself\u001b[39;49m\u001b[38;5;241;43m.\u001b[39;49m\u001b[43mtobytes\u001b[49m\u001b[43m(\u001b[49m\u001b[43m)\u001b[49m\n\u001b[1;32m    748\u001b[0m new[\u001b[38;5;124m\"\u001b[39m\u001b[38;5;124mshape\u001b[39m\u001b[38;5;124m\"\u001b[39m], new[\u001b[38;5;124m\"\u001b[39m\u001b[38;5;124mtypestr\u001b[39m\u001b[38;5;124m\"\u001b[39m] \u001b[38;5;241m=\u001b[39m _conv_type_shape(\u001b[38;5;28mself\u001b[39m)\n\u001b[1;32m    749\u001b[0m \u001b[38;5;28;01mreturn\u001b[39;00m new\n",
      "File \u001b[0;32m~/dev/ml-dogs-sharepoint/.venv/lib/python3.12/site-packages/PIL/Image.py:796\u001b[0m, in \u001b[0;36mImage.tobytes\u001b[0;34m(self, encoder_name, *args)\u001b[0m\n\u001b[1;32m    793\u001b[0m \u001b[38;5;28;01mif\u001b[39;00m encoder_name \u001b[38;5;241m==\u001b[39m \u001b[38;5;124m\"\u001b[39m\u001b[38;5;124mraw\u001b[39m\u001b[38;5;124m\"\u001b[39m \u001b[38;5;129;01mand\u001b[39;00m encoder_args \u001b[38;5;241m==\u001b[39m ():\n\u001b[1;32m    794\u001b[0m     encoder_args \u001b[38;5;241m=\u001b[39m \u001b[38;5;28mself\u001b[39m\u001b[38;5;241m.\u001b[39mmode\n\u001b[0;32m--> 796\u001b[0m \u001b[38;5;28;43mself\u001b[39;49m\u001b[38;5;241;43m.\u001b[39;49m\u001b[43mload\u001b[49m\u001b[43m(\u001b[49m\u001b[43m)\u001b[49m\n\u001b[1;32m    798\u001b[0m \u001b[38;5;28;01mif\u001b[39;00m \u001b[38;5;28mself\u001b[39m\u001b[38;5;241m.\u001b[39mwidth \u001b[38;5;241m==\u001b[39m \u001b[38;5;241m0\u001b[39m \u001b[38;5;129;01mor\u001b[39;00m \u001b[38;5;28mself\u001b[39m\u001b[38;5;241m.\u001b[39mheight \u001b[38;5;241m==\u001b[39m \u001b[38;5;241m0\u001b[39m:\n\u001b[1;32m    799\u001b[0m     \u001b[38;5;28;01mreturn\u001b[39;00m \u001b[38;5;124mb\u001b[39m\u001b[38;5;124m\"\u001b[39m\u001b[38;5;124m\"\u001b[39m\n",
      "File \u001b[0;32m~/dev/ml-dogs-sharepoint/.venv/lib/python3.12/site-packages/PIL/ImageFile.py:300\u001b[0m, in \u001b[0;36mImageFile.load\u001b[0;34m(self)\u001b[0m\n\u001b[1;32m    297\u001b[0m         \u001b[38;5;28;01mraise\u001b[39;00m \u001b[38;5;167;01mOSError\u001b[39;00m(msg)\n\u001b[1;32m    299\u001b[0m b \u001b[38;5;241m=\u001b[39m b \u001b[38;5;241m+\u001b[39m s\n\u001b[0;32m--> 300\u001b[0m n, err_code \u001b[38;5;241m=\u001b[39m \u001b[43mdecoder\u001b[49m\u001b[38;5;241;43m.\u001b[39;49m\u001b[43mdecode\u001b[49m\u001b[43m(\u001b[49m\u001b[43mb\u001b[49m\u001b[43m)\u001b[49m\n\u001b[1;32m    301\u001b[0m \u001b[38;5;28;01mif\u001b[39;00m n \u001b[38;5;241m<\u001b[39m \u001b[38;5;241m0\u001b[39m:\n\u001b[1;32m    302\u001b[0m     \u001b[38;5;28;01mbreak\u001b[39;00m\n",
      "\u001b[0;31mKeyboardInterrupt\u001b[0m: "
     ]
    }
   ],
   "source": [
    "for lr, b, d1, d2 in itertools.product(LEARNING_RATE_ARRAY, BATCH_SIZE_ARRAY, DROPOUT_ARRAY, DROPOUT_ARRAY):\n",
    "    print(f\"lr:{lr}-b:{b}-d_c:{d1}, d_f:{d2}\")\n",
    "    wandb.init(\n",
    "        project=\"iml_final_tests\",\n",
    "        config={\n",
    "            \"learning_rate\": lr,\n",
    "            \"learning_rate_decay\": LR_DECAY,\n",
    "            \"batch_size\": b,\n",
    "            \"input_resolution\": (INPUT_WIDTH, INPUT_HEIGHT),\n",
    "            \"architecture\": \"CNN\",\n",
    "            \"dataset\": \"DAPS\",\n",
    "            \"fixed\": \"true\"\n",
    "        },\n",
    "        name=f\"lr:{lr}-b:{b}-d_c:{d1}, d_f:{d2}\"\n",
    "    )\n",
    "    model = Net()\n",
    "    criterion = nn.BCELoss()\n",
    "    optimizer = optim.Adam(model.parameters(), lr=lr)\n",
    "    transform = transforms.ToTensor()\n",
    "    \n",
    "    train_dataset = SpectrogramDataset(data_dir=os.path.join(DATA_DIR, \"train\"), transform=transform)\n",
    "    train_loader = DataLoader(train_dataset, batch_size=BATCH_SIZE, shuffle=True)\n",
    "    \n",
    "    val_dataset = SpectrogramDataset(data_dir=os.path.join(DATA_DIR, \"validation\"), transform=transform)\n",
    "    val_loader = DataLoader(val_dataset, batch_size=BATCH_SIZE, shuffle=False)\n",
    "    \n",
    "    test_dataset = SpectrogramDataset(data_dir=os.path.join(DATA_DIR, \"test\"),transform=transform)\n",
    "    test_loader = DataLoader(test_dataset, batch_size=BATCH_SIZE, shuffle=True)\n",
    "    \n",
    "    train(model, criterion, optimizer, EPOCHS, train_loader, val_loader, model_name=\"simple_cnn\")\n",
    "\n",
    "    wandb.finish()\n"
   ]
  },
  {
   "cell_type": "code",
   "execution_count": 17,
   "metadata": {},
   "outputs": [
    {
     "data": {
      "text/html": [
       "\n",
       "    <style>\n",
       "        .wandb-row {\n",
       "            display: flex;\n",
       "            flex-direction: row;\n",
       "            flex-wrap: wrap;\n",
       "            justify-content: flex-start;\n",
       "            width: 100%;\n",
       "        }\n",
       "        .wandb-col {\n",
       "            display: flex;\n",
       "            flex-direction: column;\n",
       "            flex-basis: 100%;\n",
       "            flex: 1;\n",
       "            padding: 10px;\n",
       "        }\n",
       "    </style>\n",
       "<div class=\"wandb-row\"><div class=\"wandb-col\"><h3>Run history:</h3><br/><table class=\"wandb\"><tr><td>train/accuracy</td><td>▁</td></tr><tr><td>train/loss</td><td>▁</td></tr></table><br/></div><div class=\"wandb-col\"><h3>Run summary:</h3><br/><table class=\"wandb\"><tr><td>train/accuracy</td><td>0.70072</td></tr><tr><td>train/loss</td><td>0.58681</td></tr></table><br/></div></div>"
      ],
      "text/plain": [
       "<IPython.core.display.HTML object>"
      ]
     },
     "metadata": {},
     "output_type": "display_data"
    },
    {
     "data": {
      "text/html": [
       " View run <strong style=\"color:#cdcd00\">lr:0.03-b:32-d_c:0, d_f:0-d</strong> at: <a href='https://wandb.ai/mldogs-wut/iml_m3_wn/runs/8cperxbz' target=\"_blank\">https://wandb.ai/mldogs-wut/iml_m3_wn/runs/8cperxbz</a><br/> View project at: <a href='https://wandb.ai/mldogs-wut/iml_m3_wn' target=\"_blank\">https://wandb.ai/mldogs-wut/iml_m3_wn</a><br/>Synced 5 W&B file(s), 0 media file(s), 0 artifact file(s) and 0 other file(s)"
      ],
      "text/plain": [
       "<IPython.core.display.HTML object>"
      ]
     },
     "metadata": {},
     "output_type": "display_data"
    },
    {
     "data": {
      "text/html": [
       "Find logs at: <code>./wandb/run-20241218_213541-8cperxbz/logs</code>"
      ],
      "text/plain": [
       "<IPython.core.display.HTML object>"
      ]
     },
     "metadata": {},
     "output_type": "display_data"
    }
   ],
   "source": [
    "wandb.finish()"
   ]
  },
  {
   "cell_type": "code",
   "execution_count": null,
   "metadata": {},
   "outputs": [],
   "source": []
  }
 ],
 "metadata": {
  "kernelspec": {
   "display_name": "Python 3 (ipykernel)",
   "language": "python",
   "name": "python3"
  },
  "language_info": {
   "codemirror_mode": {
    "name": "ipython",
    "version": 3
   },
   "file_extension": ".py",
   "mimetype": "text/x-python",
   "name": "python",
   "nbconvert_exporter": "python",
   "pygments_lexer": "ipython3",
   "version": "3.12.7"
  }
 },
 "nbformat": 4,
 "nbformat_minor": 4
}
