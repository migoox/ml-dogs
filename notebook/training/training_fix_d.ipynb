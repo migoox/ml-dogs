{
 "cells": [
  {
   "cell_type": "markdown",
   "metadata": {},
   "source": [
    "## Setup"
   ]
  },
  {
   "cell_type": "code",
   "execution_count": 1,
   "metadata": {},
   "outputs": [
    {
     "name": "stderr",
     "output_type": "stream",
     "text": [
      "\u001b[34m\u001b[1mwandb\u001b[0m: Using wandb-core as the SDK backend.  Please refer to https://wandb.me/wandb-core for more information.\n",
      "\u001b[34m\u001b[1mwandb\u001b[0m: Currently logged in as: \u001b[33mmldogs\u001b[0m (\u001b[33mmldogs-wut\u001b[0m). Use \u001b[1m`wandb login --relogin`\u001b[0m to force relogin\n"
     ]
    },
    {
     "data": {
      "text/plain": [
       "True"
      ]
     },
     "execution_count": 1,
     "metadata": {},
     "output_type": "execute_result"
    }
   ],
   "source": [
    "import os, sys\n",
    "sys.path.append(os.path.abspath('../../src/'))\n",
    "\n",
    "import torch\n",
    "import torch.optim as optim\n",
    "import torch.nn as nn\n",
    "import itertools\n",
    "import torch.nn.functional as F\n",
    "import torchvision.transforms as transforms\n",
    "from torch.utils.data import DataLoader\n",
    "from torch.optim.lr_scheduler import StepLR\n",
    "\n",
    "from model.spectogram_dataset import SpectrogramDataset\n",
    "\n",
    "import wandb\n",
    "\n",
    "wandb.login()"
   ]
  },
  {
   "cell_type": "code",
   "execution_count": 2,
   "metadata": {},
   "outputs": [
    {
     "name": "stdout",
     "output_type": "stream",
     "text": [
      "cuda:0\n"
     ]
    }
   ],
   "source": [
    "device = torch.device('cuda:0' if torch.cuda.is_available() else 'cpu')\n",
    "print(device)"
   ]
  },
  {
   "cell_type": "markdown",
   "metadata": {},
   "source": [
    "## CNN"
   ]
  },
  {
   "cell_type": "code",
   "execution_count": 3,
   "metadata": {},
   "outputs": [],
   "source": [
    "import torch\n",
    "import torch.nn as nn\n",
    "import torch.nn.functional as F\n",
    "\n",
    "class Net(nn.Module):\n",
    "    def __init__(self, dropout_conv_p=0.0, dropout_fc_p=0.0):\n",
    "        super(Net, self).__init__()\n",
    "\n",
    "        # Convolutional and pooling layers\n",
    "        self.conv1 = nn.Conv2d(1, 16, kernel_size=5)  # Output: (16, 169, 82)\n",
    "        self.pool1 = nn.MaxPool2d(2, 2)              # Output: (16, 84, 41)\n",
    "\n",
    "        self.conv2 = nn.Conv2d(16, 32, kernel_size=5) # Output: (32, 80, 37)\n",
    "        self.pool2 = nn.MaxPool2d(2, 2)              # Output: (32, 40, 18)\n",
    "\n",
    "        # Dropout after convolutional layers\n",
    "        self.dropout_conv = nn.Dropout2d(p=dropout_conv_p)  # Dropout2d for 2D data\n",
    "\n",
    "        # Fully connected layers\n",
    "        self.fc1 = nn.Linear(32 * 40 * 18, 256)      # Adjusted input size\n",
    "        self.fc2 = nn.Linear(256, 128)              # Fully connected layer 2\n",
    "        self.fc3 = nn.Linear(128, 1)              \n",
    "\n",
    "        # Dropout for fully connected layers\n",
    "        self.dropout_fc = nn.Dropout(p=dropout_fc_p)\n",
    "\n",
    "    def forward(self, x):\n",
    "        # Convolutional layers\n",
    "        x = self.conv1(x)\n",
    "        x = F.relu(x)  # Apply ReLU activation\n",
    "        x = self.pool1(x)  # Pooling\n",
    "        x = self.dropout_conv(x)  # Dropout (no effect if p=0.0)\n",
    "\n",
    "        x = self.conv2(x)\n",
    "        x = F.relu(x)  # Apply ReLU activation\n",
    "        x = self.pool2(x)  # Pooling\n",
    "        x = self.dropout_conv(x)  # Dropout (no effect if p=0.0)\n",
    "\n",
    "        # Flatten\n",
    "        x = torch.flatten(x, 1)\n",
    "\n",
    "        # Fully connected layers\n",
    "        x = self.fc1(x)\n",
    "        x = F.relu(x)  # Apply ReLU activation\n",
    "        x = self.dropout_fc(x)  # Dropout (no effect if p=0.0)\n",
    "\n",
    "        x = self.fc2(x)\n",
    "        x = F.relu(x)  # Apply ReLU activation\n",
    "        x = self.dropout_fc(x)  # Dropout (no effect if p=0.0)\n",
    "        x = torch.sigmoid(self.fc3(x))  # Output layer\n",
    "        \n",
    "        return x"
   ]
  },
  {
   "cell_type": "code",
   "execution_count": 4,
   "metadata": {},
   "outputs": [],
   "source": [
    "from sklearn.metrics import f1_score\n",
    "\n",
    "def train(model, criterion, optimizer, scheduler, num_epochs, train_loader, val_loader, model_name = \"cnn\"):\n",
    "    model.to(device)\n",
    "    \n",
    "    PRINT_STEP = len(train_loader) // 5 - 1\n",
    "    epochs_without_val_acc_improvement = 0\n",
    "    best_val_acc = 0.0\n",
    "\n",
    "    for epoch in range(num_epochs):\n",
    "        model.train()\n",
    "\n",
    "        running_loss = 0.0\n",
    "        correct = 0\n",
    "        all_labels = []\n",
    "        all_preds = []\n",
    "\n",
    "        for  i, data in enumerate(train_loader):\n",
    "            inputs, labels = data\n",
    "            inputs = inputs.to(device)\n",
    "            labels = labels.to(device)\n",
    "            labels = labels.unsqueeze(1)\n",
    "\n",
    "            # Forward pass\n",
    "            outputs = model(inputs)\n",
    "            loss = criterion(outputs, labels)\n",
    "\n",
    "            # Backward pass and optimization\n",
    "            optimizer.zero_grad()\n",
    "            loss.backward()\n",
    "            optimizer.step()\n",
    "\n",
    "            preds = (outputs > 0.5).float()  # Binary prediction with threshold 0.5\n",
    "            all_labels.extend(labels.cpu().numpy().flatten())\n",
    "            all_preds.extend(preds.detach().cpu().numpy().flatten())\n",
    "\n",
    "            correct += (preds == labels).float().mean().item()\n",
    "            \n",
    "            running_loss += loss.item()\n",
    "\n",
    "            if i % PRINT_STEP == PRINT_STEP-1:\n",
    "                accuracy = correct / PRINT_STEP\n",
    "                loss = running_loss / PRINT_STEP\n",
    "                step = epoch * len(train_loader) + i\n",
    "                wandb.log({\n",
    "                        \"train/accuracy\": accuracy,\n",
    "                        \"train/loss\": loss\n",
    "                    },\n",
    "                    step=step\n",
    "                )\n",
    "                running_loss = 0.0\n",
    "                correct = 0\n",
    "\n",
    "        f1 = f1_score(all_labels, all_preds, average='macro')\n",
    "        print(f\"Epoch {epoch + 1}/{num_epochs}, Loss: {running_loss / len(train_loader):.4f}, F1 Score: {f1:.4f}\")\n",
    "\n",
    "        if scheduler is not None:\n",
    "            scheduler.step()\n",
    "        \n",
    "        # Validation\n",
    "        model.eval()\n",
    "\n",
    "        val_loss = 0.0\n",
    "        val_correct = 0\n",
    "\n",
    "        with torch.no_grad():\n",
    "            for j, data in enumerate(val_loader):\n",
    "                inputs, labels = data\n",
    "                inputs = inputs.to(device)\n",
    "                labels = labels.to(device)\n",
    "                labels = labels.unsqueeze(1)\n",
    "\n",
    "                outputs = model(inputs)\n",
    "                loss = criterion(outputs, labels)\n",
    "                val_loss += loss.item()\n",
    "\n",
    "                # Binary predictions\n",
    "                preds = (outputs > 0.5).float()\n",
    "                val_correct += (preds == labels).float().mean().item()\n",
    "\n",
    "        accuracy = val_correct / len(val_loader)\n",
    "        loss = val_loss / len(val_loader)\n",
    "        wandb.log({\n",
    "                \"validation/accuracy\": accuracy,\n",
    "                \"validation/loss\": loss\n",
    "            },\n",
    "            step=(epoch + 1) * len(train_loader)\n",
    "        )\n",
    "\n",
    "        if accuracy > best_val_acc:\n",
    "            best_val_acc = accuracy\n",
    "            epochs_without_val_acc_improvement = 0\n",
    "        else:\n",
    "            epochs_without_val_acc_improvement += 1\n",
    "        if epochs_without_val_acc_improvement >= 10:\n",
    "            print(\"8 epochs without a val accuracy improvement. Stopping the train\")\n",
    "            break\n",
    "        if epoch > 15 and accuracy < 0.9:\n",
    "            print(\"Too low accuracy. Stopping the train\")\n",
    "            break\n",
    "\n",
    "    print(\"Training complete.\")\n",
    "    \n",
    "def test(model, test_loader):\n",
    "    model.eval()\n",
    "\n",
    "    correct = 0\n",
    "    total = 0\n",
    "\n",
    "    with torch.no_grad():\n",
    "        for data in test_loader:\n",
    "            images, labels = data\n",
    "            outputs = model(images)\n",
    "            _, predicted = torch.max(outputs.data, 1)\n",
    "            total += labels.size(0)\n",
    "            correct += (predicted == labels).sum().item()\n",
    "\n",
    "    print(f'Accuracy of the network on test images: {100 * correct // total} %')"
   ]
  },
  {
   "cell_type": "markdown",
   "metadata": {},
   "source": [
    "## Data"
   ]
  },
  {
   "cell_type": "code",
   "execution_count": 5,
   "metadata": {},
   "outputs": [],
   "source": [
    "from utils.dataset_creator import SpecgramsRandomFilter, SpecgramsSilentFilter\n",
    "\n",
    "DATASETS_PARENT_PATH = 'datasets'\n",
    "DATASET_PATH = 'dataset'\n",
    "DATA_DIR = os.path.join('../../', DATASETS_PARENT_PATH, DATASET_PATH)"
   ]
  },
  {
   "cell_type": "code",
   "execution_count": 6,
   "metadata": {},
   "outputs": [
    {
     "name": "stdout",
     "output_type": "stream",
     "text": [
      "DatasetCreator: Exporting the dataset with the following parameters:\n",
      "    n_fft=1024\n",
      "    n_mels=86\n",
      "    duration_seconds=2s\n",
      "    multithreading=True\n",
      "Class 0 recordings count: 270\n",
      "Class 1 recordings count: 630\n",
      "Image properties:\n",
      "    width=173px\n",
      "    height=86px\n",
      "Removing directory /home/migoox/dev/ml-dogs-sharepoint/src/../datasets/dataset/train/0\n",
      "Removing directory /home/migoox/dev/ml-dogs-sharepoint/src/../datasets/dataset/train/1\n",
      "Finished [900/900]Dataset has been exported. Elapsed time: 139.80219292640686s.\n",
      "DatasetCreator: Exporting the dataset with the following parameters:\n",
      "    n_fft=1024\n",
      "    n_mels=86\n",
      "    duration_seconds=2s\n",
      "    multithreading=True\n",
      "Class 0 recordings count: 90\n",
      "Class 1 recordings count: 210\n",
      "Image properties:\n",
      "    width=173px\n",
      "    height=86px\n",
      "Removing directory /home/migoox/dev/ml-dogs-sharepoint/src/../datasets/dataset/validation/0\n",
      "Removing directory /home/migoox/dev/ml-dogs-sharepoint/src/../datasets/dataset/validation/1\n",
      "Finished [300/300]Dataset has been exported. Elapsed time: 53.33736515045166s.\n",
      "DatasetCreator: Exporting the dataset with the following parameters:\n",
      "    n_fft=1024\n",
      "    n_mels=86\n",
      "    duration_seconds=2s\n",
      "    multithreading=True\n",
      "Class 0 recordings count: 90\n",
      "Class 1 recordings count: 210\n",
      "Image properties:\n",
      "    width=173px\n",
      "    height=86px\n",
      "Removing directory /home/migoox/dev/ml-dogs-sharepoint/src/../datasets/dataset/test/0\n",
      "Removing directory /home/migoox/dev/ml-dogs-sharepoint/src/../datasets/dataset/test/1\n",
      "Finished [300/300]Dataset has been exported. Elapsed time: 41.711612701416016s.\n"
     ]
    }
   ],
   "source": [
    "from prepare_datasets import create_datasets\n",
    "\n",
    "create_datasets(DATASETS_PARENT_PATH, DATASET_PATH, [\n",
    "    SpecgramsSilentFilter(1.1)\n",
    "])"
   ]
  },
  {
   "cell_type": "code",
   "execution_count": 8,
   "metadata": {},
   "outputs": [],
   "source": [
    "INPUT_WIDTH = 67\n",
    "INPUT_HEIGHT = 66\n",
    "\n",
    "LEARNING_RATE = 0.001\n",
    "LR_DECAY = 0.95\n",
    "BATCH_SIZE = 32\n",
    "EPOCHS = 30\n",
    "\n",
    "DROPOUT_ARRAY = [0.2, 0.3, 0.4]\n"
   ]
  },
  {
   "cell_type": "markdown",
   "metadata": {},
   "source": [
    "## Training"
   ]
  },
  {
   "cell_type": "code",
   "execution_count": 9,
   "metadata": {},
   "outputs": [
    {
     "name": "stdout",
     "output_type": "stream",
     "text": [
      "d_c:0.2, d_f:0.2\n"
     ]
    },
    {
     "data": {
      "text/html": [
       "Tracking run with wandb version 0.19.1"
      ],
      "text/plain": [
       "<IPython.core.display.HTML object>"
      ]
     },
     "metadata": {},
     "output_type": "display_data"
    },
    {
     "data": {
      "text/html": [
       "Run data is saved locally in <code>/home/migoox/dev/ml-dogs-sharepoint/notebook/training/wandb/run-20250119_202722-a0ib10fv</code>"
      ],
      "text/plain": [
       "<IPython.core.display.HTML object>"
      ]
     },
     "metadata": {},
     "output_type": "display_data"
    },
    {
     "data": {
      "text/html": [
       "Syncing run <strong><a href='https://wandb.ai/mldogs-wut/iml_final_tests_2/runs/a0ib10fv' target=\"_blank\">d_c:0.2, d_f:0.2-sched</a></strong> to <a href='https://wandb.ai/mldogs-wut/iml_final_tests_2' target=\"_blank\">Weights & Biases</a> (<a href='https://wandb.me/developer-guide' target=\"_blank\">docs</a>)<br>"
      ],
      "text/plain": [
       "<IPython.core.display.HTML object>"
      ]
     },
     "metadata": {},
     "output_type": "display_data"
    },
    {
     "data": {
      "text/html": [
       " View project at <a href='https://wandb.ai/mldogs-wut/iml_final_tests_2' target=\"_blank\">https://wandb.ai/mldogs-wut/iml_final_tests_2</a>"
      ],
      "text/plain": [
       "<IPython.core.display.HTML object>"
      ]
     },
     "metadata": {},
     "output_type": "display_data"
    },
    {
     "data": {
      "text/html": [
       " View run at <a href='https://wandb.ai/mldogs-wut/iml_final_tests_2/runs/a0ib10fv' target=\"_blank\">https://wandb.ai/mldogs-wut/iml_final_tests_2/runs/a0ib10fv</a>"
      ],
      "text/plain": [
       "<IPython.core.display.HTML object>"
      ]
     },
     "metadata": {},
     "output_type": "display_data"
    },
    {
     "name": "stdout",
     "output_type": "stream",
     "text": [
      "Epoch 1/30, Loss: 0.0200, F1 Score: 0.4140\n",
      "Epoch 2/30, Loss: 0.0125, F1 Score: 0.6919\n",
      "Epoch 3/30, Loss: 0.0068, F1 Score: 0.8564\n",
      "Epoch 4/30, Loss: 0.0059, F1 Score: 0.9044\n",
      "Epoch 5/30, Loss: 0.0047, F1 Score: 0.9311\n",
      "Epoch 6/30, Loss: 0.0034, F1 Score: 0.9484\n",
      "Epoch 7/30, Loss: 0.0029, F1 Score: 0.9662\n",
      "Epoch 8/30, Loss: 0.0025, F1 Score: 0.9708\n",
      "Epoch 9/30, Loss: 0.0020, F1 Score: 0.9749\n",
      "Epoch 10/30, Loss: 0.0010, F1 Score: 0.9763\n",
      "Epoch 11/30, Loss: 0.0017, F1 Score: 0.9831\n",
      "Epoch 12/30, Loss: 0.0017, F1 Score: 0.9813\n",
      "Epoch 13/30, Loss: 0.0011, F1 Score: 0.9874\n",
      "Epoch 14/30, Loss: 0.0021, F1 Score: 0.9897\n",
      "Epoch 15/30, Loss: 0.0012, F1 Score: 0.9903\n",
      "Epoch 16/30, Loss: 0.0004, F1 Score: 0.9905\n",
      "Epoch 17/30, Loss: 0.0003, F1 Score: 0.9910\n",
      "Epoch 18/30, Loss: 0.0005, F1 Score: 0.9918\n",
      "Epoch 19/30, Loss: 0.0006, F1 Score: 0.9928\n",
      "Epoch 20/30, Loss: 0.0003, F1 Score: 0.9914\n",
      "Epoch 21/30, Loss: 0.0003, F1 Score: 0.9946\n",
      "Epoch 22/30, Loss: 0.0003, F1 Score: 0.9936\n",
      "Epoch 23/30, Loss: 0.0010, F1 Score: 0.9946\n",
      "Epoch 24/30, Loss: 0.0009, F1 Score: 0.9953\n",
      "Epoch 25/30, Loss: 0.0001, F1 Score: 0.9928\n",
      "Epoch 26/30, Loss: 0.0002, F1 Score: 0.9961\n",
      "Epoch 27/30, Loss: 0.0000, F1 Score: 0.9967\n",
      "Epoch 28/30, Loss: 0.0001, F1 Score: 0.9940\n",
      "Epoch 29/30, Loss: 0.0001, F1 Score: 0.9947\n",
      "Epoch 30/30, Loss: 0.0001, F1 Score: 0.9973\n",
      "Training complete.\n"
     ]
    },
    {
     "data": {
      "text/html": [],
      "text/plain": [
       "<IPython.core.display.HTML object>"
      ]
     },
     "metadata": {},
     "output_type": "display_data"
    },
    {
     "data": {
      "text/html": [
       "<br>    <style><br>        .wandb-row {<br>            display: flex;<br>            flex-direction: row;<br>            flex-wrap: wrap;<br>            justify-content: flex-start;<br>            width: 100%;<br>        }<br>        .wandb-col {<br>            display: flex;<br>            flex-direction: column;<br>            flex-basis: 100%;<br>            flex: 1;<br>            padding: 10px;<br>        }<br>    </style><br><div class=\"wandb-row\"><div class=\"wandb-col\"><h3>Run history:</h3><br/><table class=\"wandb\"><tr><td>train/accuracy</td><td>▁▁▁▁▂▄▄▅▆▇▇▇▇▇▇█████████████████████████</td></tr><tr><td>train/loss</td><td>██▇▅▃▃▃▂▂▂▂▂▂▂▂▁▁▂▁▂▁▁▁▁▁▁▁▁▁▁▁▁▁▁▁▁▁▁▁▁</td></tr><tr><td>validation/accuracy</td><td>▁▄▅▆▆▆▇▇▇▇▇▇██▇██▇███▇████████</td></tr><tr><td>validation/loss</td><td>█▆▄▄▃▃▃▄▄▃▂▁▁▂▅▂▂▃▃▃▄▅▃▃▄▄▂▃▃▂</td></tr></table><br/></div><div class=\"wandb-col\"><h3>Run summary:</h3><br/><table class=\"wandb\"><tr><td>train/accuracy</td><td>0.99821</td></tr><tr><td>train/loss</td><td>0.00533</td></tr><tr><td>validation/accuracy</td><td>0.94937</td></tr><tr><td>validation/loss</td><td>0.274</td></tr></table><br/></div></div>"
      ],
      "text/plain": [
       "<IPython.core.display.HTML object>"
      ]
     },
     "metadata": {},
     "output_type": "display_data"
    },
    {
     "data": {
      "text/html": [
       " View run <strong style=\"color:#cdcd00\">d_c:0.2, d_f:0.2-sched</strong> at: <a href='https://wandb.ai/mldogs-wut/iml_final_tests_2/runs/a0ib10fv' target=\"_blank\">https://wandb.ai/mldogs-wut/iml_final_tests_2/runs/a0ib10fv</a><br> View project at: <a href='https://wandb.ai/mldogs-wut/iml_final_tests_2' target=\"_blank\">https://wandb.ai/mldogs-wut/iml_final_tests_2</a><br>Synced 5 W&B file(s), 0 media file(s), 0 artifact file(s) and 0 other file(s)"
      ],
      "text/plain": [
       "<IPython.core.display.HTML object>"
      ]
     },
     "metadata": {},
     "output_type": "display_data"
    },
    {
     "data": {
      "text/html": [
       "Find logs at: <code>./wandb/run-20250119_202722-a0ib10fv/logs</code>"
      ],
      "text/plain": [
       "<IPython.core.display.HTML object>"
      ]
     },
     "metadata": {},
     "output_type": "display_data"
    },
    {
     "name": "stdout",
     "output_type": "stream",
     "text": [
      "d_c:0.2, d_f:0.3\n"
     ]
    },
    {
     "data": {
      "text/html": [
       "Tracking run with wandb version 0.19.1"
      ],
      "text/plain": [
       "<IPython.core.display.HTML object>"
      ]
     },
     "metadata": {},
     "output_type": "display_data"
    },
    {
     "data": {
      "text/html": [
       "Run data is saved locally in <code>/home/migoox/dev/ml-dogs-sharepoint/notebook/training/wandb/run-20250119_202828-h6aiu0nx</code>"
      ],
      "text/plain": [
       "<IPython.core.display.HTML object>"
      ]
     },
     "metadata": {},
     "output_type": "display_data"
    },
    {
     "data": {
      "text/html": [
       "Syncing run <strong><a href='https://wandb.ai/mldogs-wut/iml_final_tests_2/runs/h6aiu0nx' target=\"_blank\">d_c:0.2, d_f:0.3-sched</a></strong> to <a href='https://wandb.ai/mldogs-wut/iml_final_tests_2' target=\"_blank\">Weights & Biases</a> (<a href='https://wandb.me/developer-guide' target=\"_blank\">docs</a>)<br>"
      ],
      "text/plain": [
       "<IPython.core.display.HTML object>"
      ]
     },
     "metadata": {},
     "output_type": "display_data"
    },
    {
     "data": {
      "text/html": [
       " View project at <a href='https://wandb.ai/mldogs-wut/iml_final_tests_2' target=\"_blank\">https://wandb.ai/mldogs-wut/iml_final_tests_2</a>"
      ],
      "text/plain": [
       "<IPython.core.display.HTML object>"
      ]
     },
     "metadata": {},
     "output_type": "display_data"
    },
    {
     "data": {
      "text/html": [
       " View run at <a href='https://wandb.ai/mldogs-wut/iml_final_tests_2/runs/h6aiu0nx' target=\"_blank\">https://wandb.ai/mldogs-wut/iml_final_tests_2/runs/h6aiu0nx</a>"
      ],
      "text/plain": [
       "<IPython.core.display.HTML object>"
      ]
     },
     "metadata": {},
     "output_type": "display_data"
    },
    {
     "name": "stdout",
     "output_type": "stream",
     "text": [
      "Epoch 1/30, Loss: 0.0211, F1 Score: 0.4315\n",
      "Epoch 2/30, Loss: 0.0182, F1 Score: 0.3996\n",
      "Epoch 3/30, Loss: 0.0132, F1 Score: 0.5732\n",
      "Epoch 4/30, Loss: 0.0081, F1 Score: 0.8449\n",
      "Epoch 5/30, Loss: 0.0060, F1 Score: 0.9070\n",
      "Epoch 6/30, Loss: 0.0039, F1 Score: 0.9363\n",
      "Epoch 7/30, Loss: 0.0041, F1 Score: 0.9541\n",
      "Epoch 8/30, Loss: 0.0022, F1 Score: 0.9673\n",
      "Epoch 9/30, Loss: 0.0016, F1 Score: 0.9714\n",
      "Epoch 10/30, Loss: 0.0016, F1 Score: 0.9737\n",
      "Epoch 11/30, Loss: 0.0022, F1 Score: 0.9795\n",
      "Epoch 12/30, Loss: 0.0012, F1 Score: 0.9815\n",
      "Epoch 13/30, Loss: 0.0008, F1 Score: 0.9838\n",
      "Epoch 14/30, Loss: 0.0012, F1 Score: 0.9883\n",
      "Epoch 15/30, Loss: 0.0016, F1 Score: 0.9893\n",
      "Epoch 16/30, Loss: 0.0012, F1 Score: 0.9907\n",
      "Epoch 17/30, Loss: 0.0012, F1 Score: 0.9909\n",
      "Epoch 18/30, Loss: 0.0009, F1 Score: 0.9883\n",
      "Epoch 19/30, Loss: 0.0004, F1 Score: 0.9911\n",
      "Epoch 20/30, Loss: 0.0001, F1 Score: 0.9920\n",
      "Epoch 21/30, Loss: 0.0010, F1 Score: 0.9916\n",
      "Epoch 22/30, Loss: 0.0002, F1 Score: 0.9942\n",
      "Epoch 23/30, Loss: 0.0016, F1 Score: 0.9932\n",
      "Epoch 24/30, Loss: 0.0011, F1 Score: 0.9899\n",
      "Epoch 25/30, Loss: 0.0004, F1 Score: 0.9951\n",
      "Epoch 26/30, Loss: 0.0009, F1 Score: 0.9959\n",
      "8 epochs without a val accuracy improvement. Stopping the train\n",
      "Training complete.\n"
     ]
    },
    {
     "data": {
      "text/html": [],
      "text/plain": [
       "<IPython.core.display.HTML object>"
      ]
     },
     "metadata": {},
     "output_type": "display_data"
    },
    {
     "data": {
      "text/html": [
       "<br>    <style><br>        .wandb-row {<br>            display: flex;<br>            flex-direction: row;<br>            flex-wrap: wrap;<br>            justify-content: flex-start;<br>            width: 100%;<br>        }<br>        .wandb-col {<br>            display: flex;<br>            flex-direction: column;<br>            flex-basis: 100%;<br>            flex: 1;<br>            padding: 10px;<br>        }<br>    </style><br><div class=\"wandb-row\"><div class=\"wandb-col\"><h3>Run history:</h3><br/><table class=\"wandb\"><tr><td>train/accuracy</td><td>▁▁▂▄▆▆▇▇█▇▇█████████████████████████████</td></tr><tr><td>train/loss</td><td>█▇▇▇▃▃▂▂▂▂▂▂▂▂▂▁▁▁▂▁▁▁▁▁▁▁▁▁▁▁▁▁▁▁▁▁▁▁▁▁</td></tr><tr><td>validation/accuracy</td><td>▁▁▃▅▆▇▇▇▇▇▇███████████████</td></tr><tr><td>validation/loss</td><td>▆█▄▃▂▂▂▃▂▁▁▁▁▃▃▂▄▂▂▂▁▃▇▁▂▃</td></tr></table><br/></div><div class=\"wandb-col\"><h3>Run summary:</h3><br/><table class=\"wandb\"><tr><td>train/accuracy</td><td>0.99375</td></tr><tr><td>train/loss</td><td>0.01989</td></tr><tr><td>validation/accuracy</td><td>0.94762</td></tr><tr><td>validation/loss</td><td>0.41867</td></tr></table><br/></div></div>"
      ],
      "text/plain": [
       "<IPython.core.display.HTML object>"
      ]
     },
     "metadata": {},
     "output_type": "display_data"
    },
    {
     "data": {
      "text/html": [
       " View run <strong style=\"color:#cdcd00\">d_c:0.2, d_f:0.3-sched</strong> at: <a href='https://wandb.ai/mldogs-wut/iml_final_tests_2/runs/h6aiu0nx' target=\"_blank\">https://wandb.ai/mldogs-wut/iml_final_tests_2/runs/h6aiu0nx</a><br> View project at: <a href='https://wandb.ai/mldogs-wut/iml_final_tests_2' target=\"_blank\">https://wandb.ai/mldogs-wut/iml_final_tests_2</a><br>Synced 5 W&B file(s), 0 media file(s), 0 artifact file(s) and 0 other file(s)"
      ],
      "text/plain": [
       "<IPython.core.display.HTML object>"
      ]
     },
     "metadata": {},
     "output_type": "display_data"
    },
    {
     "data": {
      "text/html": [
       "Find logs at: <code>./wandb/run-20250119_202828-h6aiu0nx/logs</code>"
      ],
      "text/plain": [
       "<IPython.core.display.HTML object>"
      ]
     },
     "metadata": {},
     "output_type": "display_data"
    },
    {
     "name": "stdout",
     "output_type": "stream",
     "text": [
      "d_c:0.2, d_f:0.4\n"
     ]
    },
    {
     "data": {
      "text/html": [
       "Tracking run with wandb version 0.19.1"
      ],
      "text/plain": [
       "<IPython.core.display.HTML object>"
      ]
     },
     "metadata": {},
     "output_type": "display_data"
    },
    {
     "data": {
      "text/html": [
       "Run data is saved locally in <code>/home/migoox/dev/ml-dogs-sharepoint/notebook/training/wandb/run-20250119_202928-z14ckjzz</code>"
      ],
      "text/plain": [
       "<IPython.core.display.HTML object>"
      ]
     },
     "metadata": {},
     "output_type": "display_data"
    },
    {
     "data": {
      "text/html": [
       "Syncing run <strong><a href='https://wandb.ai/mldogs-wut/iml_final_tests_2/runs/z14ckjzz' target=\"_blank\">d_c:0.2, d_f:0.4-sched</a></strong> to <a href='https://wandb.ai/mldogs-wut/iml_final_tests_2' target=\"_blank\">Weights & Biases</a> (<a href='https://wandb.me/developer-guide' target=\"_blank\">docs</a>)<br>"
      ],
      "text/plain": [
       "<IPython.core.display.HTML object>"
      ]
     },
     "metadata": {},
     "output_type": "display_data"
    },
    {
     "data": {
      "text/html": [
       " View project at <a href='https://wandb.ai/mldogs-wut/iml_final_tests_2' target=\"_blank\">https://wandb.ai/mldogs-wut/iml_final_tests_2</a>"
      ],
      "text/plain": [
       "<IPython.core.display.HTML object>"
      ]
     },
     "metadata": {},
     "output_type": "display_data"
    },
    {
     "data": {
      "text/html": [
       " View run at <a href='https://wandb.ai/mldogs-wut/iml_final_tests_2/runs/z14ckjzz' target=\"_blank\">https://wandb.ai/mldogs-wut/iml_final_tests_2/runs/z14ckjzz</a>"
      ],
      "text/plain": [
       "<IPython.core.display.HTML object>"
      ]
     },
     "metadata": {},
     "output_type": "display_data"
    },
    {
     "name": "stdout",
     "output_type": "stream",
     "text": [
      "Epoch 1/30, Loss: 0.0199, F1 Score: 0.4089\n",
      "Epoch 2/30, Loss: 0.0195, F1 Score: 0.4048\n",
      "Epoch 3/30, Loss: 0.0124, F1 Score: 0.6491\n",
      "Epoch 4/30, Loss: 0.0119, F1 Score: 0.8169\n",
      "Epoch 5/30, Loss: 0.0047, F1 Score: 0.8725\n",
      "Epoch 6/30, Loss: 0.0044, F1 Score: 0.9139\n",
      "Epoch 7/30, Loss: 0.0065, F1 Score: 0.9369\n",
      "Epoch 8/30, Loss: 0.0020, F1 Score: 0.9439\n",
      "Epoch 9/30, Loss: 0.0017, F1 Score: 0.9626\n",
      "Epoch 10/30, Loss: 0.0030, F1 Score: 0.9702\n",
      "Epoch 11/30, Loss: 0.0014, F1 Score: 0.9731\n",
      "Epoch 12/30, Loss: 0.0014, F1 Score: 0.9788\n",
      "Epoch 13/30, Loss: 0.0010, F1 Score: 0.9773\n",
      "Epoch 14/30, Loss: 0.0016, F1 Score: 0.9739\n",
      "Epoch 15/30, Loss: 0.0017, F1 Score: 0.9807\n",
      "Epoch 16/30, Loss: 0.0008, F1 Score: 0.9842\n",
      "Epoch 17/30, Loss: 0.0008, F1 Score: 0.9813\n",
      "Epoch 18/30, Loss: 0.0026, F1 Score: 0.9805\n",
      "Epoch 19/30, Loss: 0.0005, F1 Score: 0.9864\n",
      "Epoch 20/30, Loss: 0.0006, F1 Score: 0.9866\n",
      "Epoch 21/30, Loss: 0.0017, F1 Score: 0.9844\n",
      "Epoch 22/30, Loss: 0.0005, F1 Score: 0.9877\n",
      "Epoch 23/30, Loss: 0.0006, F1 Score: 0.9850\n",
      "Epoch 24/30, Loss: 0.0033, F1 Score: 0.9875\n",
      "Epoch 25/30, Loss: 0.0019, F1 Score: 0.9903\n",
      "Epoch 26/30, Loss: 0.0009, F1 Score: 0.9903\n",
      "Epoch 27/30, Loss: 0.0006, F1 Score: 0.9891\n",
      "Epoch 28/30, Loss: 0.0004, F1 Score: 0.9891\n",
      "Epoch 29/30, Loss: 0.0012, F1 Score: 0.9897\n",
      "Epoch 30/30, Loss: 0.0002, F1 Score: 0.9904\n",
      "Training complete.\n"
     ]
    },
    {
     "data": {
      "text/html": [],
      "text/plain": [
       "<IPython.core.display.HTML object>"
      ]
     },
     "metadata": {},
     "output_type": "display_data"
    },
    {
     "data": {
      "text/html": [
       "<br>    <style><br>        .wandb-row {<br>            display: flex;<br>            flex-direction: row;<br>            flex-wrap: wrap;<br>            justify-content: flex-start;<br>            width: 100%;<br>        }<br>        .wandb-col {<br>            display: flex;<br>            flex-direction: column;<br>            flex-basis: 100%;<br>            flex: 1;<br>            padding: 10px;<br>        }<br>    </style><br><div class=\"wandb-row\"><div class=\"wandb-col\"><h3>Run history:</h3><br/><table class=\"wandb\"><tr><td>train/accuracy</td><td>▁▂▁▂▁▂▃▄▄▅▇▇▇▇▇█████████████████████████</td></tr><tr><td>train/loss</td><td>██▇▇▆▃▃▃▃▂▂▂▂▂▂▁▁▁▁▂▁▁▁▁▁▁▁▁▁▁▁▁▁▁▁▁▁▁▁▁</td></tr><tr><td>validation/accuracy</td><td>▁▁▅▆▆▆▆▇▇▇▇▇▇▇▇███▇███████████</td></tr><tr><td>validation/loss</td><td>▆▇▃▃▂▄█▃▃▁▂▁▅▁▂▁▁▁▂▁▂▁▁▁▁▂▂▂▁▁</td></tr></table><br/></div><div class=\"wandb-col\"><h3>Run summary:</h3><br/><table class=\"wandb\"><tr><td>train/accuracy</td><td>0.99286</td></tr><tr><td>train/loss</td><td>0.01775</td></tr><tr><td>validation/accuracy</td><td>0.94762</td></tr><tr><td>validation/loss</td><td>0.26103</td></tr></table><br/></div></div>"
      ],
      "text/plain": [
       "<IPython.core.display.HTML object>"
      ]
     },
     "metadata": {},
     "output_type": "display_data"
    },
    {
     "data": {
      "text/html": [
       " View run <strong style=\"color:#cdcd00\">d_c:0.2, d_f:0.4-sched</strong> at: <a href='https://wandb.ai/mldogs-wut/iml_final_tests_2/runs/z14ckjzz' target=\"_blank\">https://wandb.ai/mldogs-wut/iml_final_tests_2/runs/z14ckjzz</a><br> View project at: <a href='https://wandb.ai/mldogs-wut/iml_final_tests_2' target=\"_blank\">https://wandb.ai/mldogs-wut/iml_final_tests_2</a><br>Synced 5 W&B file(s), 0 media file(s), 0 artifact file(s) and 0 other file(s)"
      ],
      "text/plain": [
       "<IPython.core.display.HTML object>"
      ]
     },
     "metadata": {},
     "output_type": "display_data"
    },
    {
     "data": {
      "text/html": [
       "Find logs at: <code>./wandb/run-20250119_202928-z14ckjzz/logs</code>"
      ],
      "text/plain": [
       "<IPython.core.display.HTML object>"
      ]
     },
     "metadata": {},
     "output_type": "display_data"
    },
    {
     "name": "stdout",
     "output_type": "stream",
     "text": [
      "d_c:0.3, d_f:0.2\n"
     ]
    },
    {
     "data": {
      "text/html": [
       "Tracking run with wandb version 0.19.1"
      ],
      "text/plain": [
       "<IPython.core.display.HTML object>"
      ]
     },
     "metadata": {},
     "output_type": "display_data"
    },
    {
     "data": {
      "text/html": [
       "Run data is saved locally in <code>/home/migoox/dev/ml-dogs-sharepoint/notebook/training/wandb/run-20250119_203032-1to6c8q4</code>"
      ],
      "text/plain": [
       "<IPython.core.display.HTML object>"
      ]
     },
     "metadata": {},
     "output_type": "display_data"
    },
    {
     "data": {
      "text/html": [
       "Syncing run <strong><a href='https://wandb.ai/mldogs-wut/iml_final_tests_2/runs/1to6c8q4' target=\"_blank\">d_c:0.3, d_f:0.2-sched</a></strong> to <a href='https://wandb.ai/mldogs-wut/iml_final_tests_2' target=\"_blank\">Weights & Biases</a> (<a href='https://wandb.me/developer-guide' target=\"_blank\">docs</a>)<br>"
      ],
      "text/plain": [
       "<IPython.core.display.HTML object>"
      ]
     },
     "metadata": {},
     "output_type": "display_data"
    },
    {
     "data": {
      "text/html": [
       " View project at <a href='https://wandb.ai/mldogs-wut/iml_final_tests_2' target=\"_blank\">https://wandb.ai/mldogs-wut/iml_final_tests_2</a>"
      ],
      "text/plain": [
       "<IPython.core.display.HTML object>"
      ]
     },
     "metadata": {},
     "output_type": "display_data"
    },
    {
     "data": {
      "text/html": [
       " View run at <a href='https://wandb.ai/mldogs-wut/iml_final_tests_2/runs/1to6c8q4' target=\"_blank\">https://wandb.ai/mldogs-wut/iml_final_tests_2/runs/1to6c8q4</a>"
      ],
      "text/plain": [
       "<IPython.core.display.HTML object>"
      ]
     },
     "metadata": {},
     "output_type": "display_data"
    },
    {
     "name": "stdout",
     "output_type": "stream",
     "text": [
      "Epoch 1/30, Loss: 0.0187, F1 Score: 0.3996\n",
      "Epoch 2/30, Loss: 0.0131, F1 Score: 0.5528\n",
      "Epoch 3/30, Loss: 0.0086, F1 Score: 0.8387\n",
      "Epoch 4/30, Loss: 0.0042, F1 Score: 0.9024\n",
      "Epoch 5/30, Loss: 0.0042, F1 Score: 0.9354\n",
      "Epoch 6/30, Loss: 0.0038, F1 Score: 0.9621\n",
      "Epoch 7/30, Loss: 0.0012, F1 Score: 0.9735\n",
      "Epoch 8/30, Loss: 0.0011, F1 Score: 0.9790\n",
      "Epoch 9/30, Loss: 0.0020, F1 Score: 0.9795\n",
      "Epoch 10/30, Loss: 0.0018, F1 Score: 0.9858\n",
      "Epoch 11/30, Loss: 0.0021, F1 Score: 0.9862\n",
      "Epoch 12/30, Loss: 0.0011, F1 Score: 0.9877\n",
      "Epoch 13/30, Loss: 0.0001, F1 Score: 0.9885\n",
      "Epoch 14/30, Loss: 0.0009, F1 Score: 0.9899\n",
      "Epoch 15/30, Loss: 0.0006, F1 Score: 0.9910\n",
      "Epoch 16/30, Loss: 0.0001, F1 Score: 0.9909\n",
      "Epoch 17/30, Loss: 0.0008, F1 Score: 0.9920\n",
      "Epoch 18/30, Loss: 0.0002, F1 Score: 0.9914\n",
      "Epoch 19/30, Loss: 0.0000, F1 Score: 0.9959\n",
      "Epoch 20/30, Loss: 0.0003, F1 Score: 0.9967\n",
      "Epoch 21/30, Loss: 0.0010, F1 Score: 0.9942\n",
      "Epoch 22/30, Loss: 0.0002, F1 Score: 0.9940\n",
      "Epoch 23/30, Loss: 0.0007, F1 Score: 0.9932\n",
      "Epoch 24/30, Loss: 0.0000, F1 Score: 0.9959\n",
      "Epoch 25/30, Loss: 0.0005, F1 Score: 0.9947\n",
      "Epoch 26/30, Loss: 0.0000, F1 Score: 0.9969\n",
      "Epoch 27/30, Loss: 0.0004, F1 Score: 0.9924\n",
      "Epoch 28/30, Loss: 0.0003, F1 Score: 0.9965\n",
      "Epoch 29/30, Loss: 0.0000, F1 Score: 0.9944\n",
      "Epoch 30/30, Loss: 0.0003, F1 Score: 0.9957\n",
      "Training complete.\n"
     ]
    },
    {
     "data": {
      "text/html": [],
      "text/plain": [
       "<IPython.core.display.HTML object>"
      ]
     },
     "metadata": {},
     "output_type": "display_data"
    },
    {
     "data": {
      "text/html": [
       "<br>    <style><br>        .wandb-row {<br>            display: flex;<br>            flex-direction: row;<br>            flex-wrap: wrap;<br>            justify-content: flex-start;<br>            width: 100%;<br>        }<br>        .wandb-col {<br>            display: flex;<br>            flex-direction: column;<br>            flex-basis: 100%;<br>            flex: 1;<br>            padding: 10px;<br>        }<br>    </style><br><div class=\"wandb-row\"><div class=\"wandb-col\"><h3>Run history:</h3><br/><table class=\"wandb\"><tr><td>train/accuracy</td><td>▁▂▃▅▅▆▆▆▇▇▇▇▇███████████████████████████</td></tr><tr><td>train/loss</td><td>██▇▇▆▅▄▃▃▂▂▂▁▁▁▁▁▁▁▁▁▁▁▁▁▁▁▁▁▁▁▁▁▁▁▁▁▁▁▁</td></tr><tr><td>validation/accuracy</td><td>▁▄▅▆▆▇▇█▇▇█▇███▇███████████▇██</td></tr><tr><td>validation/loss</td><td>█▆▃▄▂▃▂▁▅▃▂▃▃▁▂▇▂▁▁▁▄▃▄▃▂▆▁▃▁▂</td></tr></table><br/></div><div class=\"wandb-col\"><h3>Run summary:</h3><br/><table class=\"wandb\"><tr><td>train/accuracy</td><td>0.99821</td></tr><tr><td>train/loss</td><td>0.0085</td></tr><tr><td>validation/accuracy</td><td>0.95596</td></tr><tr><td>validation/loss</td><td>0.25752</td></tr></table><br/></div></div>"
      ],
      "text/plain": [
       "<IPython.core.display.HTML object>"
      ]
     },
     "metadata": {},
     "output_type": "display_data"
    },
    {
     "data": {
      "text/html": [
       " View run <strong style=\"color:#cdcd00\">d_c:0.3, d_f:0.2-sched</strong> at: <a href='https://wandb.ai/mldogs-wut/iml_final_tests_2/runs/1to6c8q4' target=\"_blank\">https://wandb.ai/mldogs-wut/iml_final_tests_2/runs/1to6c8q4</a><br> View project at: <a href='https://wandb.ai/mldogs-wut/iml_final_tests_2' target=\"_blank\">https://wandb.ai/mldogs-wut/iml_final_tests_2</a><br>Synced 5 W&B file(s), 0 media file(s), 0 artifact file(s) and 0 other file(s)"
      ],
      "text/plain": [
       "<IPython.core.display.HTML object>"
      ]
     },
     "metadata": {},
     "output_type": "display_data"
    },
    {
     "data": {
      "text/html": [
       "Find logs at: <code>./wandb/run-20250119_203032-1to6c8q4/logs</code>"
      ],
      "text/plain": [
       "<IPython.core.display.HTML object>"
      ]
     },
     "metadata": {},
     "output_type": "display_data"
    },
    {
     "name": "stdout",
     "output_type": "stream",
     "text": [
      "d_c:0.3, d_f:0.3\n"
     ]
    },
    {
     "data": {
      "text/html": [
       "Tracking run with wandb version 0.19.1"
      ],
      "text/plain": [
       "<IPython.core.display.HTML object>"
      ]
     },
     "metadata": {},
     "output_type": "display_data"
    },
    {
     "data": {
      "text/html": [
       "Run data is saved locally in <code>/home/migoox/dev/ml-dogs-sharepoint/notebook/training/wandb/run-20250119_203140-1f9kih0t</code>"
      ],
      "text/plain": [
       "<IPython.core.display.HTML object>"
      ]
     },
     "metadata": {},
     "output_type": "display_data"
    },
    {
     "data": {
      "text/html": [
       "Syncing run <strong><a href='https://wandb.ai/mldogs-wut/iml_final_tests_2/runs/1f9kih0t' target=\"_blank\">d_c:0.3, d_f:0.3-sched</a></strong> to <a href='https://wandb.ai/mldogs-wut/iml_final_tests_2' target=\"_blank\">Weights & Biases</a> (<a href='https://wandb.me/developer-guide' target=\"_blank\">docs</a>)<br>"
      ],
      "text/plain": [
       "<IPython.core.display.HTML object>"
      ]
     },
     "metadata": {},
     "output_type": "display_data"
    },
    {
     "data": {
      "text/html": [
       " View project at <a href='https://wandb.ai/mldogs-wut/iml_final_tests_2' target=\"_blank\">https://wandb.ai/mldogs-wut/iml_final_tests_2</a>"
      ],
      "text/plain": [
       "<IPython.core.display.HTML object>"
      ]
     },
     "metadata": {},
     "output_type": "display_data"
    },
    {
     "data": {
      "text/html": [
       " View run at <a href='https://wandb.ai/mldogs-wut/iml_final_tests_2/runs/1f9kih0t' target=\"_blank\">https://wandb.ai/mldogs-wut/iml_final_tests_2/runs/1f9kih0t</a>"
      ],
      "text/plain": [
       "<IPython.core.display.HTML object>"
      ]
     },
     "metadata": {},
     "output_type": "display_data"
    },
    {
     "name": "stdout",
     "output_type": "stream",
     "text": [
      "Epoch 1/30, Loss: 0.0218, F1 Score: 0.4069\n",
      "Epoch 2/30, Loss: 0.0184, F1 Score: 0.4837\n",
      "Epoch 3/30, Loss: 0.0084, F1 Score: 0.8171\n",
      "Epoch 4/30, Loss: 0.0070, F1 Score: 0.8966\n",
      "Epoch 5/30, Loss: 0.0049, F1 Score: 0.9349\n",
      "Epoch 6/30, Loss: 0.0018, F1 Score: 0.9503\n",
      "Epoch 7/30, Loss: 0.0026, F1 Score: 0.9688\n",
      "Epoch 8/30, Loss: 0.0020, F1 Score: 0.9772\n",
      "Epoch 9/30, Loss: 0.0021, F1 Score: 0.9745\n",
      "Epoch 10/30, Loss: 0.0031, F1 Score: 0.9841\n",
      "Epoch 11/30, Loss: 0.0008, F1 Score: 0.9842\n",
      "Epoch 12/30, Loss: 0.0008, F1 Score: 0.9872\n",
      "Epoch 13/30, Loss: 0.0003, F1 Score: 0.9899\n",
      "Epoch 14/30, Loss: 0.0010, F1 Score: 0.9877\n",
      "Epoch 15/30, Loss: 0.0013, F1 Score: 0.9868\n",
      "Epoch 16/30, Loss: 0.0013, F1 Score: 0.9914\n",
      "Epoch 17/30, Loss: 0.0007, F1 Score: 0.9912\n",
      "Epoch 18/30, Loss: 0.0006, F1 Score: 0.9914\n",
      "Epoch 19/30, Loss: 0.0001, F1 Score: 0.9957\n",
      "Epoch 20/30, Loss: 0.0002, F1 Score: 0.9948\n",
      "Epoch 21/30, Loss: 0.0003, F1 Score: 0.9949\n",
      "Epoch 22/30, Loss: 0.0010, F1 Score: 0.9949\n",
      "Epoch 23/30, Loss: 0.0001, F1 Score: 0.9944\n",
      "Epoch 24/30, Loss: 0.0003, F1 Score: 0.9953\n",
      "Epoch 25/30, Loss: 0.0002, F1 Score: 0.9936\n",
      "Epoch 26/30, Loss: 0.0002, F1 Score: 0.9971\n",
      "Epoch 27/30, Loss: 0.0001, F1 Score: 0.9926\n",
      "Epoch 28/30, Loss: 0.0002, F1 Score: 0.9936\n",
      "Epoch 29/30, Loss: 0.0002, F1 Score: 0.9932\n",
      "8 epochs without a val accuracy improvement. Stopping the train\n",
      "Training complete.\n"
     ]
    },
    {
     "data": {
      "text/html": [],
      "text/plain": [
       "<IPython.core.display.HTML object>"
      ]
     },
     "metadata": {},
     "output_type": "display_data"
    },
    {
     "data": {
      "text/html": [
       "<br>    <style><br>        .wandb-row {<br>            display: flex;<br>            flex-direction: row;<br>            flex-wrap: wrap;<br>            justify-content: flex-start;<br>            width: 100%;<br>        }<br>        .wandb-col {<br>            display: flex;<br>            flex-direction: column;<br>            flex-basis: 100%;<br>            flex: 1;<br>            padding: 10px;<br>        }<br>    </style><br><div class=\"wandb-row\"><div class=\"wandb-col\"><h3>Run history:</h3><br/><table class=\"wandb\"><tr><td>train/accuracy</td><td>▁▁▁▂▅▆▇▇▇▇▇██▇██████████████████████████</td></tr><tr><td>train/loss</td><td>████▇▃▂▂▂▂▂▁▁▁▁▁▁▁▁▁▁▁▁▁▁▁▁▁▁▁▁▁▁▁▁▁▁▁▁▁</td></tr><tr><td>validation/accuracy</td><td>▁▁▅▆▇▇▇▇█▇▇▇█▇███████████████</td></tr><tr><td>validation/loss</td><td>██▄▃▂▃▃▂▂▂▄▄▂▆▁▁▁▂▁▂▂▂▂▁▂▂▂▂▅</td></tr></table><br/></div><div class=\"wandb-col\"><h3>Run summary:</h3><br/><table class=\"wandb\"><tr><td>train/accuracy</td><td>0.99196</td></tr><tr><td>train/loss</td><td>0.01961</td></tr><tr><td>validation/accuracy</td><td>0.94938</td></tr><tr><td>validation/loss</td><td>0.39329</td></tr></table><br/></div></div>"
      ],
      "text/plain": [
       "<IPython.core.display.HTML object>"
      ]
     },
     "metadata": {},
     "output_type": "display_data"
    },
    {
     "data": {
      "text/html": [
       " View run <strong style=\"color:#cdcd00\">d_c:0.3, d_f:0.3-sched</strong> at: <a href='https://wandb.ai/mldogs-wut/iml_final_tests_2/runs/1f9kih0t' target=\"_blank\">https://wandb.ai/mldogs-wut/iml_final_tests_2/runs/1f9kih0t</a><br> View project at: <a href='https://wandb.ai/mldogs-wut/iml_final_tests_2' target=\"_blank\">https://wandb.ai/mldogs-wut/iml_final_tests_2</a><br>Synced 5 W&B file(s), 0 media file(s), 0 artifact file(s) and 0 other file(s)"
      ],
      "text/plain": [
       "<IPython.core.display.HTML object>"
      ]
     },
     "metadata": {},
     "output_type": "display_data"
    },
    {
     "data": {
      "text/html": [
       "Find logs at: <code>./wandb/run-20250119_203140-1f9kih0t/logs</code>"
      ],
      "text/plain": [
       "<IPython.core.display.HTML object>"
      ]
     },
     "metadata": {},
     "output_type": "display_data"
    },
    {
     "name": "stdout",
     "output_type": "stream",
     "text": [
      "d_c:0.3, d_f:0.4\n"
     ]
    },
    {
     "data": {
      "text/html": [
       "Tracking run with wandb version 0.19.1"
      ],
      "text/plain": [
       "<IPython.core.display.HTML object>"
      ]
     },
     "metadata": {},
     "output_type": "display_data"
    },
    {
     "data": {
      "text/html": [
       "Run data is saved locally in <code>/home/migoox/dev/ml-dogs-sharepoint/notebook/training/wandb/run-20250119_203245-b1f1sja3</code>"
      ],
      "text/plain": [
       "<IPython.core.display.HTML object>"
      ]
     },
     "metadata": {},
     "output_type": "display_data"
    },
    {
     "data": {
      "text/html": [
       "Syncing run <strong><a href='https://wandb.ai/mldogs-wut/iml_final_tests_2/runs/b1f1sja3' target=\"_blank\">d_c:0.3, d_f:0.4-sched</a></strong> to <a href='https://wandb.ai/mldogs-wut/iml_final_tests_2' target=\"_blank\">Weights & Biases</a> (<a href='https://wandb.me/developer-guide' target=\"_blank\">docs</a>)<br>"
      ],
      "text/plain": [
       "<IPython.core.display.HTML object>"
      ]
     },
     "metadata": {},
     "output_type": "display_data"
    },
    {
     "data": {
      "text/html": [
       " View project at <a href='https://wandb.ai/mldogs-wut/iml_final_tests_2' target=\"_blank\">https://wandb.ai/mldogs-wut/iml_final_tests_2</a>"
      ],
      "text/plain": [
       "<IPython.core.display.HTML object>"
      ]
     },
     "metadata": {},
     "output_type": "display_data"
    },
    {
     "data": {
      "text/html": [
       " View run at <a href='https://wandb.ai/mldogs-wut/iml_final_tests_2/runs/b1f1sja3' target=\"_blank\">https://wandb.ai/mldogs-wut/iml_final_tests_2/runs/b1f1sja3</a>"
      ],
      "text/plain": [
       "<IPython.core.display.HTML object>"
      ]
     },
     "metadata": {},
     "output_type": "display_data"
    },
    {
     "name": "stdout",
     "output_type": "stream",
     "text": [
      "Epoch 1/30, Loss: 0.0193, F1 Score: 0.4255\n",
      "Epoch 2/30, Loss: 0.0205, F1 Score: 0.4198\n",
      "Epoch 3/30, Loss: 0.0124, F1 Score: 0.6991\n",
      "Epoch 4/30, Loss: 0.0084, F1 Score: 0.8610\n",
      "Epoch 5/30, Loss: 0.0073, F1 Score: 0.9000\n",
      "Epoch 6/30, Loss: 0.0038, F1 Score: 0.9376\n",
      "Epoch 7/30, Loss: 0.0034, F1 Score: 0.9529\n",
      "Epoch 8/30, Loss: 0.0022, F1 Score: 0.9698\n",
      "Epoch 9/30, Loss: 0.0028, F1 Score: 0.9745\n",
      "Epoch 10/30, Loss: 0.0008, F1 Score: 0.9805\n",
      "Epoch 11/30, Loss: 0.0021, F1 Score: 0.9821\n",
      "Epoch 12/30, Loss: 0.0011, F1 Score: 0.9856\n",
      "Epoch 13/30, Loss: 0.0007, F1 Score: 0.9864\n",
      "Epoch 14/30, Loss: 0.0007, F1 Score: 0.9862\n",
      "Epoch 15/30, Loss: 0.0013, F1 Score: 0.9870\n",
      "Epoch 16/30, Loss: 0.0007, F1 Score: 0.9885\n",
      "Epoch 17/30, Loss: 0.0017, F1 Score: 0.9897\n",
      "Epoch 18/30, Loss: 0.0014, F1 Score: 0.9903\n",
      "Epoch 19/30, Loss: 0.0022, F1 Score: 0.9918\n",
      "Epoch 20/30, Loss: 0.0005, F1 Score: 0.9910\n",
      "Epoch 21/30, Loss: 0.0001, F1 Score: 0.9934\n",
      "Epoch 22/30, Loss: 0.0006, F1 Score: 0.9924\n",
      "Epoch 23/30, Loss: 0.0005, F1 Score: 0.9926\n",
      "Epoch 24/30, Loss: 0.0006, F1 Score: 0.9940\n",
      "Epoch 25/30, Loss: 0.0003, F1 Score: 0.9926\n",
      "Epoch 26/30, Loss: 0.0001, F1 Score: 0.9930\n",
      "Epoch 27/30, Loss: 0.0005, F1 Score: 0.9940\n",
      "Epoch 28/30, Loss: 0.0007, F1 Score: 0.9951\n",
      "Epoch 29/30, Loss: 0.0002, F1 Score: 0.9926\n",
      "Epoch 30/30, Loss: 0.0004, F1 Score: 0.9916\n",
      "Training complete.\n"
     ]
    },
    {
     "data": {
      "text/html": [],
      "text/plain": [
       "<IPython.core.display.HTML object>"
      ]
     },
     "metadata": {},
     "output_type": "display_data"
    },
    {
     "data": {
      "text/html": [
       "<br>    <style><br>        .wandb-row {<br>            display: flex;<br>            flex-direction: row;<br>            flex-wrap: wrap;<br>            justify-content: flex-start;<br>            width: 100%;<br>        }<br>        .wandb-col {<br>            display: flex;<br>            flex-direction: column;<br>            flex-basis: 100%;<br>            flex: 1;<br>            padding: 10px;<br>        }<br>    </style><br><div class=\"wandb-row\"><div class=\"wandb-col\"><h3>Run history:</h3><br/><table class=\"wandb\"><tr><td>train/accuracy</td><td>▁▆▆▆▇▇▇█▇▇██████████████████████████████</td></tr><tr><td>train/loss</td><td>██▇▇▇▃▃▂▃▂▂▂▁▂▁▁▁▁▁▁▁▁▁▁▁▁▁▁▁▁▁▁▁▁▁▁▁▁▁▁</td></tr><tr><td>validation/accuracy</td><td>▁▁▄▅▅▆▆▇▇▇▇▇▇▇▇███▇███████▇███</td></tr><tr><td>validation/loss</td><td>▅▄▃▃█▅▆▃▃▃▄▆▂▂▂▁▂▁▂▂▃▂▁▂▂▂▄▂▁▂</td></tr></table><br/></div><div class=\"wandb-col\"><h3>Run summary:</h3><br/><table class=\"wandb\"><tr><td>train/accuracy</td><td>0.98839</td></tr><tr><td>train/loss</td><td>0.03134</td></tr><tr><td>validation/accuracy</td><td>0.94014</td></tr><tr><td>validation/loss</td><td>0.36378</td></tr></table><br/></div></div>"
      ],
      "text/plain": [
       "<IPython.core.display.HTML object>"
      ]
     },
     "metadata": {},
     "output_type": "display_data"
    },
    {
     "data": {
      "text/html": [
       " View run <strong style=\"color:#cdcd00\">d_c:0.3, d_f:0.4-sched</strong> at: <a href='https://wandb.ai/mldogs-wut/iml_final_tests_2/runs/b1f1sja3' target=\"_blank\">https://wandb.ai/mldogs-wut/iml_final_tests_2/runs/b1f1sja3</a><br> View project at: <a href='https://wandb.ai/mldogs-wut/iml_final_tests_2' target=\"_blank\">https://wandb.ai/mldogs-wut/iml_final_tests_2</a><br>Synced 5 W&B file(s), 0 media file(s), 0 artifact file(s) and 0 other file(s)"
      ],
      "text/plain": [
       "<IPython.core.display.HTML object>"
      ]
     },
     "metadata": {},
     "output_type": "display_data"
    },
    {
     "data": {
      "text/html": [
       "Find logs at: <code>./wandb/run-20250119_203245-b1f1sja3/logs</code>"
      ],
      "text/plain": [
       "<IPython.core.display.HTML object>"
      ]
     },
     "metadata": {},
     "output_type": "display_data"
    },
    {
     "name": "stdout",
     "output_type": "stream",
     "text": [
      "d_c:0.4, d_f:0.2\n"
     ]
    },
    {
     "data": {
      "text/html": [
       "Tracking run with wandb version 0.19.1"
      ],
      "text/plain": [
       "<IPython.core.display.HTML object>"
      ]
     },
     "metadata": {},
     "output_type": "display_data"
    },
    {
     "data": {
      "text/html": [
       "Run data is saved locally in <code>/home/migoox/dev/ml-dogs-sharepoint/notebook/training/wandb/run-20250119_203353-r2tnv1hq</code>"
      ],
      "text/plain": [
       "<IPython.core.display.HTML object>"
      ]
     },
     "metadata": {},
     "output_type": "display_data"
    },
    {
     "data": {
      "text/html": [
       "Syncing run <strong><a href='https://wandb.ai/mldogs-wut/iml_final_tests_2/runs/r2tnv1hq' target=\"_blank\">d_c:0.4, d_f:0.2-sched</a></strong> to <a href='https://wandb.ai/mldogs-wut/iml_final_tests_2' target=\"_blank\">Weights & Biases</a> (<a href='https://wandb.me/developer-guide' target=\"_blank\">docs</a>)<br>"
      ],
      "text/plain": [
       "<IPython.core.display.HTML object>"
      ]
     },
     "metadata": {},
     "output_type": "display_data"
    },
    {
     "data": {
      "text/html": [
       " View project at <a href='https://wandb.ai/mldogs-wut/iml_final_tests_2' target=\"_blank\">https://wandb.ai/mldogs-wut/iml_final_tests_2</a>"
      ],
      "text/plain": [
       "<IPython.core.display.HTML object>"
      ]
     },
     "metadata": {},
     "output_type": "display_data"
    },
    {
     "data": {
      "text/html": [
       " View run at <a href='https://wandb.ai/mldogs-wut/iml_final_tests_2/runs/r2tnv1hq' target=\"_blank\">https://wandb.ai/mldogs-wut/iml_final_tests_2/runs/r2tnv1hq</a>"
      ],
      "text/plain": [
       "<IPython.core.display.HTML object>"
      ]
     },
     "metadata": {},
     "output_type": "display_data"
    },
    {
     "name": "stdout",
     "output_type": "stream",
     "text": [
      "Epoch 1/30, Loss: 0.0201, F1 Score: 0.4187\n",
      "Epoch 2/30, Loss: 0.0167, F1 Score: 0.4862\n",
      "Epoch 3/30, Loss: 0.0105, F1 Score: 0.8056\n",
      "Epoch 4/30, Loss: 0.0083, F1 Score: 0.8971\n",
      "Epoch 5/30, Loss: 0.0046, F1 Score: 0.9236\n",
      "Epoch 6/30, Loss: 0.0045, F1 Score: 0.9449\n",
      "Epoch 7/30, Loss: 0.0037, F1 Score: 0.9594\n",
      "Epoch 8/30, Loss: 0.0020, F1 Score: 0.9696\n",
      "Epoch 9/30, Loss: 0.0016, F1 Score: 0.9725\n",
      "Epoch 10/30, Loss: 0.0013, F1 Score: 0.9827\n",
      "Epoch 11/30, Loss: 0.0009, F1 Score: 0.9819\n",
      "Epoch 12/30, Loss: 0.0023, F1 Score: 0.9850\n",
      "Epoch 13/30, Loss: 0.0009, F1 Score: 0.9885\n",
      "Epoch 14/30, Loss: 0.0004, F1 Score: 0.9887\n",
      "Epoch 15/30, Loss: 0.0008, F1 Score: 0.9883\n",
      "Epoch 16/30, Loss: 0.0012, F1 Score: 0.9866\n",
      "Epoch 17/30, Loss: 0.0006, F1 Score: 0.9871\n",
      "Epoch 18/30, Loss: 0.0015, F1 Score: 0.9928\n",
      "Epoch 19/30, Loss: 0.0008, F1 Score: 0.9897\n",
      "Epoch 20/30, Loss: 0.0006, F1 Score: 0.9936\n",
      "Epoch 21/30, Loss: 0.0017, F1 Score: 0.9926\n",
      "Epoch 22/30, Loss: 0.0000, F1 Score: 0.9914\n",
      "Epoch 23/30, Loss: 0.0035, F1 Score: 0.9938\n",
      "Epoch 24/30, Loss: 0.0003, F1 Score: 0.9949\n",
      "Epoch 25/30, Loss: 0.0004, F1 Score: 0.9959\n",
      "Epoch 26/30, Loss: 0.0006, F1 Score: 0.9928\n",
      "Epoch 27/30, Loss: 0.0009, F1 Score: 0.9947\n",
      "Epoch 28/30, Loss: 0.0006, F1 Score: 0.9930\n",
      "Epoch 29/30, Loss: 0.0001, F1 Score: 0.9947\n",
      "Epoch 30/30, Loss: 0.0004, F1 Score: 0.9959\n",
      "Training complete.\n"
     ]
    },
    {
     "data": {
      "text/html": [],
      "text/plain": [
       "<IPython.core.display.HTML object>"
      ]
     },
     "metadata": {},
     "output_type": "display_data"
    },
    {
     "data": {
      "text/html": [
       "<br>    <style><br>        .wandb-row {<br>            display: flex;<br>            flex-direction: row;<br>            flex-wrap: wrap;<br>            justify-content: flex-start;<br>            width: 100%;<br>        }<br>        .wandb-col {<br>            display: flex;<br>            flex-direction: column;<br>            flex-basis: 100%;<br>            flex: 1;<br>            padding: 10px;<br>        }<br>    </style><br><div class=\"wandb-row\"><div class=\"wandb-col\"><h3>Run history:</h3><br/><table class=\"wandb\"><tr><td>train/accuracy</td><td>▁▂▄▄▅▇▆▆▇▇▇▇▇▇█▇█▇██████████████████████</td></tr><tr><td>train/loss</td><td>██▇▇▆▄▄▃▃▃▂▂▂▂▂▁▁▁▁▁▁▁▁▁▁▁▁▁▁▁▁▁▁▁▁▁▁▁▁▁</td></tr><tr><td>validation/accuracy</td><td>▁▃▅▆▆▇▇▇▇▇▇▇▇▇▇██▇████████████</td></tr><tr><td>validation/loss</td><td>█▇▄▄▅▃▂▂▃▂▃▃▂▂▂▂▂▄▁▂▂▁▅▂▃▁▂▁▂▂</td></tr></table><br/></div><div class=\"wandb-col\"><h3>Run summary:</h3><br/><table class=\"wandb\"><tr><td>train/accuracy</td><td>0.99643</td></tr><tr><td>train/loss</td><td>0.00764</td></tr><tr><td>validation/accuracy</td><td>0.96743</td></tr><tr><td>validation/loss</td><td>0.21212</td></tr></table><br/></div></div>"
      ],
      "text/plain": [
       "<IPython.core.display.HTML object>"
      ]
     },
     "metadata": {},
     "output_type": "display_data"
    },
    {
     "data": {
      "text/html": [
       " View run <strong style=\"color:#cdcd00\">d_c:0.4, d_f:0.2-sched</strong> at: <a href='https://wandb.ai/mldogs-wut/iml_final_tests_2/runs/r2tnv1hq' target=\"_blank\">https://wandb.ai/mldogs-wut/iml_final_tests_2/runs/r2tnv1hq</a><br> View project at: <a href='https://wandb.ai/mldogs-wut/iml_final_tests_2' target=\"_blank\">https://wandb.ai/mldogs-wut/iml_final_tests_2</a><br>Synced 5 W&B file(s), 0 media file(s), 0 artifact file(s) and 0 other file(s)"
      ],
      "text/plain": [
       "<IPython.core.display.HTML object>"
      ]
     },
     "metadata": {},
     "output_type": "display_data"
    },
    {
     "data": {
      "text/html": [
       "Find logs at: <code>./wandb/run-20250119_203353-r2tnv1hq/logs</code>"
      ],
      "text/plain": [
       "<IPython.core.display.HTML object>"
      ]
     },
     "metadata": {},
     "output_type": "display_data"
    },
    {
     "name": "stdout",
     "output_type": "stream",
     "text": [
      "d_c:0.4, d_f:0.3\n"
     ]
    },
    {
     "data": {
      "text/html": [
       "Tracking run with wandb version 0.19.1"
      ],
      "text/plain": [
       "<IPython.core.display.HTML object>"
      ]
     },
     "metadata": {},
     "output_type": "display_data"
    },
    {
     "data": {
      "text/html": [
       "Run data is saved locally in <code>/home/migoox/dev/ml-dogs-sharepoint/notebook/training/wandb/run-20250119_203502-ay8en3ks</code>"
      ],
      "text/plain": [
       "<IPython.core.display.HTML object>"
      ]
     },
     "metadata": {},
     "output_type": "display_data"
    },
    {
     "data": {
      "text/html": [
       "Syncing run <strong><a href='https://wandb.ai/mldogs-wut/iml_final_tests_2/runs/ay8en3ks' target=\"_blank\">d_c:0.4, d_f:0.3-sched</a></strong> to <a href='https://wandb.ai/mldogs-wut/iml_final_tests_2' target=\"_blank\">Weights & Biases</a> (<a href='https://wandb.me/developer-guide' target=\"_blank\">docs</a>)<br>"
      ],
      "text/plain": [
       "<IPython.core.display.HTML object>"
      ]
     },
     "metadata": {},
     "output_type": "display_data"
    },
    {
     "data": {
      "text/html": [
       " View project at <a href='https://wandb.ai/mldogs-wut/iml_final_tests_2' target=\"_blank\">https://wandb.ai/mldogs-wut/iml_final_tests_2</a>"
      ],
      "text/plain": [
       "<IPython.core.display.HTML object>"
      ]
     },
     "metadata": {},
     "output_type": "display_data"
    },
    {
     "data": {
      "text/html": [
       " View run at <a href='https://wandb.ai/mldogs-wut/iml_final_tests_2/runs/ay8en3ks' target=\"_blank\">https://wandb.ai/mldogs-wut/iml_final_tests_2/runs/ay8en3ks</a>"
      ],
      "text/plain": [
       "<IPython.core.display.HTML object>"
      ]
     },
     "metadata": {},
     "output_type": "display_data"
    },
    {
     "name": "stdout",
     "output_type": "stream",
     "text": [
      "Epoch 1/30, Loss: 0.0199, F1 Score: 0.4113\n",
      "Epoch 2/30, Loss: 0.0173, F1 Score: 0.5050\n",
      "Epoch 3/30, Loss: 0.0116, F1 Score: 0.7846\n",
      "Epoch 4/30, Loss: 0.0066, F1 Score: 0.8759\n",
      "Epoch 5/30, Loss: 0.0053, F1 Score: 0.9220\n",
      "Epoch 6/30, Loss: 0.0039, F1 Score: 0.9431\n",
      "Epoch 7/30, Loss: 0.0036, F1 Score: 0.9546\n",
      "Epoch 8/30, Loss: 0.0045, F1 Score: 0.9709\n",
      "Epoch 9/30, Loss: 0.0024, F1 Score: 0.9723\n",
      "Epoch 10/30, Loss: 0.0009, F1 Score: 0.9780\n",
      "Epoch 11/30, Loss: 0.0023, F1 Score: 0.9803\n",
      "Epoch 12/30, Loss: 0.0013, F1 Score: 0.9807\n",
      "Epoch 13/30, Loss: 0.0008, F1 Score: 0.9844\n",
      "Epoch 14/30, Loss: 0.0019, F1 Score: 0.9872\n",
      "Epoch 15/30, Loss: 0.0012, F1 Score: 0.9875\n",
      "Epoch 16/30, Loss: 0.0007, F1 Score: 0.9866\n",
      "Epoch 17/30, Loss: 0.0005, F1 Score: 0.9881\n",
      "Epoch 18/30, Loss: 0.0026, F1 Score: 0.9897\n",
      "Epoch 19/30, Loss: 0.0017, F1 Score: 0.9858\n",
      "Epoch 20/30, Loss: 0.0015, F1 Score: 0.9875\n",
      "Epoch 21/30, Loss: 0.0005, F1 Score: 0.9870\n",
      "Epoch 22/30, Loss: 0.0014, F1 Score: 0.9875\n",
      "Epoch 23/30, Loss: 0.0003, F1 Score: 0.9932\n",
      "Epoch 24/30, Loss: 0.0001, F1 Score: 0.9914\n",
      "Epoch 25/30, Loss: 0.0016, F1 Score: 0.9930\n",
      "Epoch 26/30, Loss: 0.0008, F1 Score: 0.9901\n",
      "Epoch 27/30, Loss: 0.0002, F1 Score: 0.9940\n",
      "Epoch 28/30, Loss: 0.0041, F1 Score: 0.9918\n",
      "Epoch 29/30, Loss: 0.0002, F1 Score: 0.9909\n",
      "Epoch 30/30, Loss: 0.0001, F1 Score: 0.9938\n",
      "Training complete.\n"
     ]
    },
    {
     "data": {
      "text/html": [],
      "text/plain": [
       "<IPython.core.display.HTML object>"
      ]
     },
     "metadata": {},
     "output_type": "display_data"
    },
    {
     "data": {
      "text/html": [
       "<br>    <style><br>        .wandb-row {<br>            display: flex;<br>            flex-direction: row;<br>            flex-wrap: wrap;<br>            justify-content: flex-start;<br>            width: 100%;<br>        }<br>        .wandb-col {<br>            display: flex;<br>            flex-direction: column;<br>            flex-basis: 100%;<br>            flex: 1;<br>            padding: 10px;<br>        }<br>    </style><br><div class=\"wandb-row\"><div class=\"wandb-col\"><h3>Run history:</h3><br/><table class=\"wandb\"><tr><td>train/accuracy</td><td>▁▁▁▃▄▇▆▇▇▇▇▇▇███████████████████████████</td></tr><tr><td>train/loss</td><td>███▇▇▅▄▃▂▂▁▁▁▁▂▁▁▁▁▁▁▁▁▁▁▁▁▁▁▁▁▁▁▁▁▁▁▁▁▁</td></tr><tr><td>validation/accuracy</td><td>▁▃▅▆▆▇▇▇▇▇▇▇█▇████████████████</td></tr><tr><td>validation/loss</td><td>█▇▆▅▃▂▁▃▂▂▃▂▃▄▂▂▃▄▂▁▁▂▄▂▂▂▂▂▁▁</td></tr></table><br/></div><div class=\"wandb-col\"><h3>Run summary:</h3><br/><table class=\"wandb\"><tr><td>train/accuracy</td><td>0.99554</td></tr><tr><td>train/loss</td><td>0.01084</td></tr><tr><td>validation/accuracy</td><td>0.96169</td></tr><tr><td>validation/loss</td><td>0.19066</td></tr></table><br/></div></div>"
      ],
      "text/plain": [
       "<IPython.core.display.HTML object>"
      ]
     },
     "metadata": {},
     "output_type": "display_data"
    },
    {
     "data": {
      "text/html": [
       " View run <strong style=\"color:#cdcd00\">d_c:0.4, d_f:0.3-sched</strong> at: <a href='https://wandb.ai/mldogs-wut/iml_final_tests_2/runs/ay8en3ks' target=\"_blank\">https://wandb.ai/mldogs-wut/iml_final_tests_2/runs/ay8en3ks</a><br> View project at: <a href='https://wandb.ai/mldogs-wut/iml_final_tests_2' target=\"_blank\">https://wandb.ai/mldogs-wut/iml_final_tests_2</a><br>Synced 5 W&B file(s), 0 media file(s), 0 artifact file(s) and 0 other file(s)"
      ],
      "text/plain": [
       "<IPython.core.display.HTML object>"
      ]
     },
     "metadata": {},
     "output_type": "display_data"
    },
    {
     "data": {
      "text/html": [
       "Find logs at: <code>./wandb/run-20250119_203502-ay8en3ks/logs</code>"
      ],
      "text/plain": [
       "<IPython.core.display.HTML object>"
      ]
     },
     "metadata": {},
     "output_type": "display_data"
    },
    {
     "name": "stdout",
     "output_type": "stream",
     "text": [
      "d_c:0.4, d_f:0.4\n"
     ]
    },
    {
     "data": {
      "text/html": [
       "Tracking run with wandb version 0.19.1"
      ],
      "text/plain": [
       "<IPython.core.display.HTML object>"
      ]
     },
     "metadata": {},
     "output_type": "display_data"
    },
    {
     "data": {
      "text/html": [
       "Run data is saved locally in <code>/home/migoox/dev/ml-dogs-sharepoint/notebook/training/wandb/run-20250119_203608-x2og6hh6</code>"
      ],
      "text/plain": [
       "<IPython.core.display.HTML object>"
      ]
     },
     "metadata": {},
     "output_type": "display_data"
    },
    {
     "data": {
      "text/html": [
       "Syncing run <strong><a href='https://wandb.ai/mldogs-wut/iml_final_tests_2/runs/x2og6hh6' target=\"_blank\">d_c:0.4, d_f:0.4-sched</a></strong> to <a href='https://wandb.ai/mldogs-wut/iml_final_tests_2' target=\"_blank\">Weights & Biases</a> (<a href='https://wandb.me/developer-guide' target=\"_blank\">docs</a>)<br>"
      ],
      "text/plain": [
       "<IPython.core.display.HTML object>"
      ]
     },
     "metadata": {},
     "output_type": "display_data"
    },
    {
     "data": {
      "text/html": [
       " View project at <a href='https://wandb.ai/mldogs-wut/iml_final_tests_2' target=\"_blank\">https://wandb.ai/mldogs-wut/iml_final_tests_2</a>"
      ],
      "text/plain": [
       "<IPython.core.display.HTML object>"
      ]
     },
     "metadata": {},
     "output_type": "display_data"
    },
    {
     "data": {
      "text/html": [
       " View run at <a href='https://wandb.ai/mldogs-wut/iml_final_tests_2/runs/x2og6hh6' target=\"_blank\">https://wandb.ai/mldogs-wut/iml_final_tests_2/runs/x2og6hh6</a>"
      ],
      "text/plain": [
       "<IPython.core.display.HTML object>"
      ]
     },
     "metadata": {},
     "output_type": "display_data"
    },
    {
     "name": "stdout",
     "output_type": "stream",
     "text": [
      "Epoch 1/30, Loss: 0.0195, F1 Score: 0.4008\n",
      "Epoch 2/30, Loss: 0.0185, F1 Score: 0.4000\n",
      "Epoch 3/30, Loss: 0.0150, F1 Score: 0.5589\n",
      "Epoch 4/30, Loss: 0.0134, F1 Score: 0.7668\n",
      "Epoch 5/30, Loss: 0.0123, F1 Score: 0.8361\n",
      "Epoch 6/30, Loss: 0.0083, F1 Score: 0.8836\n",
      "Epoch 7/30, Loss: 0.0077, F1 Score: 0.8962\n",
      "Epoch 8/30, Loss: 0.0053, F1 Score: 0.9190\n",
      "Epoch 9/30, Loss: 0.0036, F1 Score: 0.9361\n",
      "Epoch 10/30, Loss: 0.0054, F1 Score: 0.9388\n",
      "Epoch 11/30, Loss: 0.0029, F1 Score: 0.9448\n",
      "Epoch 12/30, Loss: 0.0028, F1 Score: 0.9551\n",
      "Epoch 13/30, Loss: 0.0020, F1 Score: 0.9600\n",
      "Epoch 14/30, Loss: 0.0053, F1 Score: 0.9671\n",
      "Epoch 15/30, Loss: 0.0015, F1 Score: 0.9672\n",
      "Epoch 16/30, Loss: 0.0029, F1 Score: 0.9754\n",
      "Epoch 17/30, Loss: 0.0026, F1 Score: 0.9774\n",
      "Epoch 18/30, Loss: 0.0017, F1 Score: 0.9807\n",
      "Epoch 19/30, Loss: 0.0012, F1 Score: 0.9811\n",
      "Epoch 20/30, Loss: 0.0009, F1 Score: 0.9817\n",
      "Epoch 21/30, Loss: 0.0020, F1 Score: 0.9852\n",
      "Epoch 22/30, Loss: 0.0015, F1 Score: 0.9839\n",
      "Epoch 23/30, Loss: 0.0008, F1 Score: 0.9912\n",
      "Epoch 24/30, Loss: 0.0008, F1 Score: 0.9844\n",
      "Epoch 25/30, Loss: 0.0004, F1 Score: 0.9868\n",
      "Epoch 26/30, Loss: 0.0003, F1 Score: 0.9895\n",
      "Epoch 27/30, Loss: 0.0003, F1 Score: 0.9905\n",
      "Epoch 28/30, Loss: 0.0004, F1 Score: 0.9870\n",
      "Epoch 29/30, Loss: 0.0010, F1 Score: 0.9918\n",
      "Epoch 30/30, Loss: 0.0002, F1 Score: 0.9911\n",
      "Training complete.\n"
     ]
    },
    {
     "data": {
      "text/html": [],
      "text/plain": [
       "<IPython.core.display.HTML object>"
      ]
     },
     "metadata": {},
     "output_type": "display_data"
    },
    {
     "data": {
      "text/html": [
       "<br>    <style><br>        .wandb-row {<br>            display: flex;<br>            flex-direction: row;<br>            flex-wrap: wrap;<br>            justify-content: flex-start;<br>            width: 100%;<br>        }<br>        .wandb-col {<br>            display: flex;<br>            flex-direction: column;<br>            flex-basis: 100%;<br>            flex: 1;<br>            padding: 10px;<br>        }<br>    </style><br><div class=\"wandb-row\"><div class=\"wandb-col\"><h3>Run history:</h3><br/><table class=\"wandb\"><tr><td>train/accuracy</td><td>▁▁▁▁▂▄▅▅▅▆▆▆▇▇▇▇████████████████████████</td></tr><tr><td>train/loss</td><td>██▇▇▇▆▅▅▅▃▃▃▃▂▂▂▂▂▂▂▂▂▁▁▁▁▁▁▁▁▁▁▁▁▁▁▁▁▁▁</td></tr><tr><td>validation/accuracy</td><td>▁▁▃▄▅▆▆▆▇▆▇▇▇▇█▇▇█▇▇█▇▇███████</td></tr><tr><td>validation/loss</td><td>▇█▇▇▆▄▃▃▃▄▂▄▃▂▁▃▂▂▃▃▂▂▃▂▂▁▁▁▂▁</td></tr></table><br/></div><div class=\"wandb-col\"><h3>Run summary:</h3><br/><table class=\"wandb\"><tr><td>train/accuracy</td><td>0.99107</td></tr><tr><td>train/loss</td><td>0.02422</td></tr><tr><td>validation/accuracy</td><td>0.96787</td></tr><tr><td>validation/loss</td><td>0.14583</td></tr></table><br/></div></div>"
      ],
      "text/plain": [
       "<IPython.core.display.HTML object>"
      ]
     },
     "metadata": {},
     "output_type": "display_data"
    },
    {
     "data": {
      "text/html": [
       " View run <strong style=\"color:#cdcd00\">d_c:0.4, d_f:0.4-sched</strong> at: <a href='https://wandb.ai/mldogs-wut/iml_final_tests_2/runs/x2og6hh6' target=\"_blank\">https://wandb.ai/mldogs-wut/iml_final_tests_2/runs/x2og6hh6</a><br> View project at: <a href='https://wandb.ai/mldogs-wut/iml_final_tests_2' target=\"_blank\">https://wandb.ai/mldogs-wut/iml_final_tests_2</a><br>Synced 5 W&B file(s), 0 media file(s), 0 artifact file(s) and 0 other file(s)"
      ],
      "text/plain": [
       "<IPython.core.display.HTML object>"
      ]
     },
     "metadata": {},
     "output_type": "display_data"
    },
    {
     "data": {
      "text/html": [
       "Find logs at: <code>./wandb/run-20250119_203608-x2og6hh6/logs</code>"
      ],
      "text/plain": [
       "<IPython.core.display.HTML object>"
      ]
     },
     "metadata": {},
     "output_type": "display_data"
    }
   ],
   "source": [
    "for d1, d2 in itertools.product(DROPOUT_ARRAY, DROPOUT_ARRAY):\n",
    "    print(f\"d_c:{d1}, d_f:{d2}\")\n",
    "    wandb.init(\n",
    "        project=\"iml_final_tests_2\",\n",
    "        config={\n",
    "            \"learning_rate\": LEARNING_RATE,\n",
    "            \"learning_rate_decay\": LR_DECAY,\n",
    "            \"batch_size\": BATCH_SIZE,\n",
    "            \"input_resolution\": (INPUT_WIDTH, INPUT_HEIGHT),\n",
    "            \"architecture\": \"CNN\",\n",
    "            \"dataset\": \"DAPS\",\n",
    "            \"scheduler\": \"step\",\n",
    "            \"fixed\": \"true\"\n",
    "        },\n",
    "        name=f\"d_c:{d1}, d_f:{d2}-sched\"\n",
    "    )\n",
    "    model = Net(dropout_conv_p=d1, dropout_fc_p=d2)\n",
    "    criterion = nn.BCELoss()\n",
    "    optimizer = optim.Adam(model.parameters(), lr=LEARNING_RATE)\n",
    "    scheduler = StepLR(optimizer, step_size=10, gamma=LR_DECAY)\n",
    "    transform = transforms.ToTensor()\n",
    "    \n",
    "    train_dataset = SpectrogramDataset(data_dir=os.path.join(DATA_DIR, \"train\"), transform=transform)\n",
    "    train_loader = DataLoader(train_dataset, batch_size=BATCH_SIZE, shuffle=True)\n",
    "    \n",
    "    val_dataset = SpectrogramDataset(data_dir=os.path.join(DATA_DIR, \"validation\"), transform=transform)\n",
    "    val_loader = DataLoader(val_dataset, batch_size=BATCH_SIZE, shuffle=False)\n",
    "    \n",
    "    test_dataset = SpectrogramDataset(data_dir=os.path.join(DATA_DIR, \"test\"),transform=transform)\n",
    "    test_loader = DataLoader(test_dataset, batch_size=BATCH_SIZE, shuffle=True)\n",
    "    \n",
    "    train(model, criterion, optimizer, scheduler, EPOCHS, train_loader, val_loader, model_name=\"simple_cnn\")\n",
    "\n",
    "    wandb.finish()\n"
   ]
  },
  {
   "cell_type": "code",
   "execution_count": 19,
   "metadata": {},
   "outputs": [],
   "source": [
    "wandb.finish()"
   ]
  },
  {
   "cell_type": "code",
   "execution_count": null,
   "metadata": {},
   "outputs": [],
   "source": []
  }
 ],
 "metadata": {
  "kernelspec": {
   "display_name": "Python 3 (ipykernel)",
   "language": "python",
   "name": "python3"
  },
  "language_info": {
   "codemirror_mode": {
    "name": "ipython",
    "version": 3
   },
   "file_extension": ".py",
   "mimetype": "text/x-python",
   "name": "python",
   "nbconvert_exporter": "python",
   "pygments_lexer": "ipython3",
   "version": "3.12.7"
  }
 },
 "nbformat": 4,
 "nbformat_minor": 4
}
