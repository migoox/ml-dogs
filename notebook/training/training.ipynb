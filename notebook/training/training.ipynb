{
 "cells": [
  {
   "cell_type": "markdown",
   "metadata": {},
   "source": [
    "## Setup"
   ]
  },
  {
   "cell_type": "code",
   "execution_count": 1,
   "metadata": {},
   "outputs": [
    {
     "name": "stderr",
     "output_type": "stream",
     "text": [
      "\u001b[34m\u001b[1mwandb\u001b[0m: Using wandb-core as the SDK backend.  Please refer to https://wandb.me/wandb-core for more information.\n",
      "\u001b[34m\u001b[1mwandb\u001b[0m: Currently logged in as: \u001b[33mmldogs\u001b[0m (\u001b[33mmldogs-wut\u001b[0m). Use \u001b[1m`wandb login --relogin`\u001b[0m to force relogin\n"
     ]
    },
    {
     "data": {
      "text/plain": [
       "True"
      ]
     },
     "execution_count": 1,
     "metadata": {},
     "output_type": "execute_result"
    }
   ],
   "source": [
    "import os, sys\n",
    "sys.path.append(os.path.abspath('../../src/'))\n",
    "\n",
    "import torch\n",
    "import torch.optim as optim\n",
    "import torch.nn as nn\n",
    "import itertools\n",
    "import torch.nn.functional as F\n",
    "import torchvision.transforms as transforms\n",
    "from torch.utils.data import DataLoader\n",
    "\n",
    "from model.spectogram_dataset import SpectrogramDataset\n",
    "\n",
    "import wandb\n",
    "\n",
    "wandb.login()"
   ]
  },
  {
   "cell_type": "code",
   "execution_count": 2,
   "metadata": {},
   "outputs": [
    {
     "name": "stdout",
     "output_type": "stream",
     "text": [
      "cuda:0\n"
     ]
    }
   ],
   "source": [
    "device = torch.device('cuda:0' if torch.cuda.is_available() else 'cpu')\n",
    "print(device)"
   ]
  },
  {
   "cell_type": "markdown",
   "metadata": {},
   "source": [
    "## CNN"
   ]
  },
  {
   "cell_type": "code",
   "execution_count": 3,
   "metadata": {},
   "outputs": [],
   "source": [
    "import torch\n",
    "import torch.nn as nn\n",
    "import torch.nn.functional as F\n",
    "\n",
    "\n",
    "class Net(nn.Module):\n",
    "    def __init__(self, dropout_conv_p=0.3, dropout_fc_p=0.5, use_batchnorm=True):\n",
    "        super(Net, self).__init__()\n",
    "\n",
    "        self.conv1 = nn.Conv2d(1, 16, kernel_size=3, padding=1)  # Smaller kernel size\n",
    "        self.bn1 = nn.BatchNorm2d(16) if use_batchnorm else None\n",
    "        self.conv2 = nn.Conv2d(16, 32, kernel_size=3, padding=1)\n",
    "        self.bn2 = nn.BatchNorm2d(32) if use_batchnorm else None\n",
    "        self.conv3 = nn.Conv2d(32, 64, kernel_size=3, padding=1)  # Added layer\n",
    "        self.bn3 = nn.BatchNorm2d(64) if use_batchnorm else None\n",
    "\n",
    "        self.global_avg_pool = nn.AdaptiveAvgPool2d((1, 1))  # GAP instead of flattening\n",
    "        self.fc1 = nn.Linear(64, 128)\n",
    "        self.fc2 = nn.Linear(128, 1)\n",
    "\n",
    "        self.dropout_conv = nn.Dropout2d(p=dropout_conv_p)\n",
    "        self.dropout_fc = nn.Dropout(p=dropout_fc_p)\n",
    "\n",
    "    def forward(self, x):\n",
    "        x = F.relu(self.bn1(self.conv1(x))) if self.bn1 else F.relu(self.conv1(x))\n",
    "        x = F.relu(self.bn2(self.conv2(x))) if self.bn2 else F.relu(self.conv2(x))\n",
    "        x = F.relu(self.bn3(self.conv3(x))) if self.bn3 else F.relu(self.conv3(x))\n",
    "        x = self.global_avg_pool(x)\n",
    "        x = torch.flatten(x, 1)\n",
    "        x = F.relu(self.fc1(x))\n",
    "        x = self.dropout_fc(x)\n",
    "        x = torch.sigmoid(self.fc2(x))  # Binary classification\n",
    "        return x\n",
    "\n"
   ]
  },
  {
   "cell_type": "code",
   "execution_count": 4,
   "metadata": {},
   "outputs": [],
   "source": [
    "from sklearn.metrics import f1_score\n",
    "\n",
    "def train(model, criterion, optimizer, num_epochs, train_loader, val_loader, model_name = \"cnn\"):\n",
    "    model.to(device)\n",
    "    \n",
    "    PRINT_STEP = len(train_loader) // 5 - 1\n",
    "    epochs_without_val_acc_improvement = 0\n",
    "    best_val_acc = 0.0\n",
    "\n",
    "    for epoch in range(num_epochs):\n",
    "        model.train()\n",
    "\n",
    "        running_loss = 0.0\n",
    "        correct = 0\n",
    "        all_labels = []\n",
    "        all_preds = []\n",
    "\n",
    "        for  i, data in enumerate(train_loader):\n",
    "            inputs, labels = data\n",
    "            inputs = inputs.to(device)\n",
    "            labels = labels.to(device)\n",
    "            labels = labels.unsqueeze(1)\n",
    "\n",
    "            # Forward pass\n",
    "            outputs = model(inputs)\n",
    "            loss = criterion(outputs, labels)\n",
    "\n",
    "            # Backward pass and optimization\n",
    "            optimizer.zero_grad()\n",
    "            loss.backward()\n",
    "            optimizer.step()\n",
    "\n",
    "            preds = (outputs > 0.5).float()  # Binary prediction with threshold 0.5\n",
    "            all_labels.extend(labels.cpu().numpy().flatten())\n",
    "            all_preds.extend(preds.detach().cpu().numpy().flatten())\n",
    "\n",
    "            correct += (preds == labels).float().mean().item()\n",
    "            \n",
    "            running_loss += loss.item()\n",
    "\n",
    "            if i % PRINT_STEP == PRINT_STEP-1:\n",
    "                accuracy = correct / PRINT_STEP\n",
    "                loss = running_loss / PRINT_STEP\n",
    "                step = epoch * len(train_loader) + i\n",
    "                wandb.log({\n",
    "                        \"train/accuracy\": accuracy,\n",
    "                        \"train/loss\": loss\n",
    "                    },\n",
    "                    step=step\n",
    "                )\n",
    "                running_loss = 0.0\n",
    "                correct = 0\n",
    "\n",
    "        f1 = f1_score(all_labels, all_preds, average='macro')\n",
    "        print(f\"Epoch {epoch + 1}/{num_epochs}, Loss: {running_loss / len(train_loader):.4f}, F1 Score: {f1:.4f}\")\n",
    "\n",
    "        # Validation\n",
    "        model.eval()\n",
    "\n",
    "        val_loss = 0.0\n",
    "        val_correct = 0\n",
    "\n",
    "        with torch.no_grad():\n",
    "            for j, data in enumerate(val_loader):\n",
    "                inputs, labels = data\n",
    "                inputs = inputs.to(device)\n",
    "                labels = labels.to(device)\n",
    "                labels = labels.unsqueeze(1)\n",
    "\n",
    "                outputs = model(inputs)\n",
    "                loss = criterion(outputs, labels)\n",
    "                val_loss += loss.item()\n",
    "\n",
    "                # Binary predictions\n",
    "                preds = (outputs > 0.5).float()\n",
    "                val_correct += (preds == labels).float().mean().item()\n",
    "\n",
    "        accuracy = val_correct / len(val_loader)\n",
    "        loss = val_loss / len(val_loader)\n",
    "        wandb.log({\n",
    "                \"validation/accuracy\": accuracy,\n",
    "                \"validation/loss\": loss\n",
    "            },\n",
    "            step=(epoch + 1) * len(train_loader)\n",
    "        )\n",
    "\n",
    "        if accuracy > best_val_acc:\n",
    "            best_val_acc = accuracy\n",
    "            epochs_without_val_acc_improvement = 0\n",
    "        else:\n",
    "            epochs_without_val_acc_improvement += 1\n",
    "        if epochs_without_val_acc_improvement >= 10:\n",
    "            print(\"8 epochs without a val accuracy improvement. Stopping the train\")\n",
    "            break\n",
    "        if epoch > 15 and accuracy < 0.9:\n",
    "            print(\"Too low accuracy. Stopping the train\")\n",
    "            break\n",
    "\n",
    "    print(\"Training complete.\")\n",
    "    \n",
    "def test(model, test_loader):\n",
    "    model.eval()\n",
    "\n",
    "    correct = 0\n",
    "    total = 0\n",
    "\n",
    "    with torch.no_grad():\n",
    "        for data in test_loader:\n",
    "            images, labels = data\n",
    "            outputs = model(images)\n",
    "            _, predicted = torch.max(outputs.data, 1)\n",
    "            total += labels.size(0)\n",
    "            correct += (predicted == labels).sum().item()\n",
    "\n",
    "    print(f'Accuracy of the network on test images: {100 * correct // total} %')"
   ]
  },
  {
   "cell_type": "markdown",
   "metadata": {},
   "source": [
    "## Data"
   ]
  },
  {
   "cell_type": "code",
   "execution_count": 5,
   "metadata": {},
   "outputs": [],
   "source": [
    "from utils.dataset_creator import SpecgramsRandomFilter, SpecgramsSilentFilter\n",
    "\n",
    "DATASETS_PARENT_PATH = 'datasets'\n",
    "DATASET_PATH = 'dataset'\n",
    "DATA_DIR = os.path.join('../../', DATASETS_PARENT_PATH, DATASET_PATH)"
   ]
  },
  {
   "cell_type": "code",
   "execution_count": 21,
   "metadata": {},
   "outputs": [
    {
     "name": "stdout",
     "output_type": "stream",
     "text": [
      "DatasetCreator: Exporting the dataset with the following parameters:\n",
      "    n_fft=1024\n",
      "    n_mels=86\n",
      "    interval_duration=2s\n",
      "    multithreading=True\n",
      "Class 0 recordings count: 270\n",
      "Class 1 recordings count: 630\n",
      "Image properties:\n",
      "    width=87px\n",
      "    height=86px\n",
      "Removing directory /home/migoox/dev/ml-dogs-sharepoint/src/../datasets/dataset/train/0\n",
      "Removing directory /home/migoox/dev/ml-dogs-sharepoint/src/../datasets/dataset/train/1\n",
      "Finished [900/900]Dataset has been exported. Elapsed time: 63.72191381454468s.\n",
      "DatasetCreator: Exporting the dataset with the following parameters:\n",
      "    n_fft=1024\n",
      "    n_mels=86\n",
      "    interval_duration=2s\n",
      "    multithreading=True\n",
      "Class 0 recordings count: 90\n",
      "Class 1 recordings count: 210\n",
      "Image properties:\n",
      "    width=87px\n",
      "    height=86px\n",
      "Removing directory /home/migoox/dev/ml-dogs-sharepoint/src/../datasets/dataset/validation/0\n",
      "Removing directory /home/migoox/dev/ml-dogs-sharepoint/src/../datasets/dataset/validation/1\n",
      "Finished [300/300]Dataset has been exported. Elapsed time: 23.859966039657593s.\n",
      "DatasetCreator: Exporting the dataset with the following parameters:\n",
      "    n_fft=1024\n",
      "    n_mels=86\n",
      "    interval_duration=2s\n",
      "    multithreading=True\n",
      "Class 0 recordings count: 90\n",
      "Class 1 recordings count: 210\n",
      "Image properties:\n",
      "    width=87px\n",
      "    height=86px\n",
      "Removing directory /home/migoox/dev/ml-dogs-sharepoint/src/../datasets/dataset/test/0\n",
      "Removing directory /home/migoox/dev/ml-dogs-sharepoint/src/../datasets/dataset/test/1\n",
      "Finished [300/300]Dataset has been exported. Elapsed time: 17.735825777053833s.\n"
     ]
    }
   ],
   "source": [
    "from prepare_datasets import create_datasets\n",
    "\n",
    "create_datasets(DATASETS_PARENT_PATH, DATASET_PATH, [\n",
    "    SpecgramsSilentFilter(0.9)\n",
    "])"
   ]
  },
  {
   "cell_type": "code",
   "execution_count": 7,
   "metadata": {},
   "outputs": [],
   "source": [
    "INPUT_WIDTH = 67\n",
    "INPUT_HEIGHT = 66\n",
    "\n",
    "LEARNING_RATE = 0.001\n",
    "LR_DECAY = 0.95\n",
    "BATCH_SIZE = 64\n",
    "EPOCHS = 30\n",
    "\n",
    "LEARNING_RATE_ARRAY = [0.03, 0.0001]\n",
    "BATCH_SIZE_ARRAY = [32, 128]\n",
    "DROPOUT_ARRAY = [0, 0.2, 0.4]\n"
   ]
  },
  {
   "cell_type": "markdown",
   "metadata": {},
   "source": [
    "## Training"
   ]
  },
  {
   "cell_type": "code",
   "execution_count": null,
   "metadata": {},
   "outputs": [
    {
     "name": "stdout",
     "output_type": "stream",
     "text": [
      "lr:0.03-b:32-d_c:0, d_f:0\n"
     ]
    },
    {
     "data": {
      "text/html": [
       "Tracking run with wandb version 0.19.0"
      ],
      "text/plain": [
       "<IPython.core.display.HTML object>"
      ]
     },
     "metadata": {},
     "output_type": "display_data"
    },
    {
     "data": {
      "text/html": [
       "Run data is saved locally in <code>/home/migoox/dev/ml-dogs-sharepoint/notebook/training/wandb/run-20241219_214044-6g6umjrt</code>"
      ],
      "text/plain": [
       "<IPython.core.display.HTML object>"
      ]
     },
     "metadata": {},
     "output_type": "display_data"
    },
    {
     "data": {
      "text/html": [
       "Syncing run <strong><a href='https://wandb.ai/mldogs-wut/iml_m3_wnn/runs/6g6umjrt' target=\"_blank\">lr:0.03-b:32-d_c:0, d_f:0-d</a></strong> to <a href='https://wandb.ai/mldogs-wut/iml_m3_wnn' target=\"_blank\">Weights & Biases</a> (<a href='https://wandb.me/developer-guide' target=\"_blank\">docs</a>)<br/>"
      ],
      "text/plain": [
       "<IPython.core.display.HTML object>"
      ]
     },
     "metadata": {},
     "output_type": "display_data"
    },
    {
     "data": {
      "text/html": [
       " View project at <a href='https://wandb.ai/mldogs-wut/iml_m3_wnn' target=\"_blank\">https://wandb.ai/mldogs-wut/iml_m3_wnn</a>"
      ],
      "text/plain": [
       "<IPython.core.display.HTML object>"
      ]
     },
     "metadata": {},
     "output_type": "display_data"
    },
    {
     "data": {
      "text/html": [
       " View run at <a href='https://wandb.ai/mldogs-wut/iml_m3_wnn/runs/6g6umjrt' target=\"_blank\">https://wandb.ai/mldogs-wut/iml_m3_wnn/runs/6g6umjrt</a>"
      ],
      "text/plain": [
       "<IPython.core.display.HTML object>"
      ]
     },
     "metadata": {},
     "output_type": "display_data"
    },
    {
     "name": "stdout",
     "output_type": "stream",
     "text": [
      "Epoch 1/30, Loss: 0.0022, F1 Score: 0.4132\n",
      "Epoch 2/30, Loss: 0.0022, F1 Score: 0.4106\n",
      "Epoch 3/30, Loss: 0.0020, F1 Score: 0.4106\n",
      "Epoch 4/30, Loss: 0.0019, F1 Score: 0.5466\n",
      "Epoch 5/30, Loss: 0.0020, F1 Score: 0.6744\n",
      "Epoch 6/30, Loss: 0.0018, F1 Score: 0.7118\n",
      "Epoch 7/30, Loss: 0.0018, F1 Score: 0.7226\n",
      "Epoch 8/30, Loss: 0.0018, F1 Score: 0.7325\n",
      "Epoch 9/30, Loss: 0.0016, F1 Score: 0.7365\n",
      "Epoch 10/30, Loss: 0.0018, F1 Score: 0.7446\n",
      "Epoch 11/30, Loss: 0.0019, F1 Score: 0.7492\n",
      "Epoch 12/30, Loss: 0.0017, F1 Score: 0.7555\n",
      "Epoch 13/30, Loss: 0.0016, F1 Score: 0.7589\n",
      "Epoch 14/30, Loss: 0.0015, F1 Score: 0.7630\n",
      "Epoch 15/30, Loss: 0.0016, F1 Score: 0.7679\n",
      "Epoch 16/30, Loss: 0.0017, F1 Score: 0.7690\n",
      "Epoch 17/30, Loss: 0.0018, F1 Score: 0.7697\n",
      "Too low accuracy. Stopping the train\n",
      "Training complete.\n"
     ]
    },
    {
     "data": {
      "text/html": [
       "\n",
       "    <style>\n",
       "        .wandb-row {\n",
       "            display: flex;\n",
       "            flex-direction: row;\n",
       "            flex-wrap: wrap;\n",
       "            justify-content: flex-start;\n",
       "            width: 100%;\n",
       "        }\n",
       "        .wandb-col {\n",
       "            display: flex;\n",
       "            flex-direction: column;\n",
       "            flex-basis: 100%;\n",
       "            flex: 1;\n",
       "            padding: 10px;\n",
       "        }\n",
       "    </style>\n",
       "<div class=\"wandb-row\"><div class=\"wandb-col\"><h3>Run history:</h3><br/><table class=\"wandb\"><tr><td>train/accuracy</td><td>▁▁▁▁▁▁▁▁▁▃▄▅▅▅▅▆▆▆▆▇▆▆▆▇▇▆▇▇▇▇▇▇██████▇█</td></tr><tr><td>train/loss</td><td>█████▇▇▇▇▆▅▄▄▄▄▃▃▃▃▃▃▂▂▃▂▂▂▂▂▁▂▂▁▁▁▁▁▁▁▁</td></tr><tr><td>validation/accuracy</td><td>▃▃▃▅▁▆▅▆▇▆▇▇██▇█▇</td></tr><tr><td>validation/loss</td><td>█▇▇▅▆▆▄▄▂▇▂▆▂▂▃▂▁</td></tr></table><br/></div><div class=\"wandb-col\"><h3>Run summary:</h3><br/><table class=\"wandb\"><tr><td>train/accuracy</td><td>0.80597</td></tr><tr><td>train/loss</td><td>0.42702</td></tr><tr><td>validation/accuracy</td><td>0.78214</td></tr><tr><td>validation/loss</td><td>0.4485</td></tr></table><br/></div></div>"
      ],
      "text/plain": [
       "<IPython.core.display.HTML object>"
      ]
     },
     "metadata": {},
     "output_type": "display_data"
    },
    {
     "data": {
      "text/html": [
       " View run <strong style=\"color:#cdcd00\">lr:0.03-b:32-d_c:0, d_f:0-d</strong> at: <a href='https://wandb.ai/mldogs-wut/iml_m3_wnn/runs/6g6umjrt' target=\"_blank\">https://wandb.ai/mldogs-wut/iml_m3_wnn/runs/6g6umjrt</a><br/> View project at: <a href='https://wandb.ai/mldogs-wut/iml_m3_wnn' target=\"_blank\">https://wandb.ai/mldogs-wut/iml_m3_wnn</a><br/>Synced 5 W&B file(s), 0 media file(s), 0 artifact file(s) and 0 other file(s)"
      ],
      "text/plain": [
       "<IPython.core.display.HTML object>"
      ]
     },
     "metadata": {},
     "output_type": "display_data"
    },
    {
     "data": {
      "text/html": [
       "Find logs at: <code>./wandb/run-20241219_214044-6g6umjrt/logs</code>"
      ],
      "text/plain": [
       "<IPython.core.display.HTML object>"
      ]
     },
     "metadata": {},
     "output_type": "display_data"
    },
    {
     "name": "stdout",
     "output_type": "stream",
     "text": [
      "lr:0.03-b:32-d_c:0, d_f:0.2\n"
     ]
    },
    {
     "data": {
      "application/vnd.jupyter.widget-view+json": {
       "model_id": "f9352486d9604da1a3d8720e110893e6",
       "version_major": 2,
       "version_minor": 0
      },
      "text/plain": [
       "VBox(children=(Label(value='Waiting for wandb.init()...\\r'), FloatProgress(value=0.011112137066649867, max=1.0…"
      ]
     },
     "metadata": {},
     "output_type": "display_data"
    },
    {
     "data": {
      "text/html": [
       "Tracking run with wandb version 0.19.0"
      ],
      "text/plain": [
       "<IPython.core.display.HTML object>"
      ]
     },
     "metadata": {},
     "output_type": "display_data"
    },
    {
     "data": {
      "text/html": [
       "Run data is saved locally in <code>/home/migoox/dev/ml-dogs-sharepoint/notebook/training/wandb/run-20241219_215447-ij13mfgc</code>"
      ],
      "text/plain": [
       "<IPython.core.display.HTML object>"
      ]
     },
     "metadata": {},
     "output_type": "display_data"
    },
    {
     "data": {
      "text/html": [
       "Syncing run <strong><a href='https://wandb.ai/mldogs-wut/iml_m3_wnn/runs/ij13mfgc' target=\"_blank\">lr:0.03-b:32-d_c:0, d_f:0.2-d</a></strong> to <a href='https://wandb.ai/mldogs-wut/iml_m3_wnn' target=\"_blank\">Weights & Biases</a> (<a href='https://wandb.me/developer-guide' target=\"_blank\">docs</a>)<br/>"
      ],
      "text/plain": [
       "<IPython.core.display.HTML object>"
      ]
     },
     "metadata": {},
     "output_type": "display_data"
    },
    {
     "data": {
      "text/html": [
       " View project at <a href='https://wandb.ai/mldogs-wut/iml_m3_wnn' target=\"_blank\">https://wandb.ai/mldogs-wut/iml_m3_wnn</a>"
      ],
      "text/plain": [
       "<IPython.core.display.HTML object>"
      ]
     },
     "metadata": {},
     "output_type": "display_data"
    },
    {
     "data": {
      "text/html": [
       " View run at <a href='https://wandb.ai/mldogs-wut/iml_m3_wnn/runs/ij13mfgc' target=\"_blank\">https://wandb.ai/mldogs-wut/iml_m3_wnn/runs/ij13mfgc</a>"
      ],
      "text/plain": [
       "<IPython.core.display.HTML object>"
      ]
     },
     "metadata": {},
     "output_type": "display_data"
    },
    {
     "name": "stdout",
     "output_type": "stream",
     "text": [
      "Epoch 1/30, Loss: 0.0020, F1 Score: 0.4597\n",
      "Epoch 2/30, Loss: 0.0019, F1 Score: 0.5679\n",
      "Epoch 3/30, Loss: 0.0017, F1 Score: 0.6105\n",
      "Epoch 4/30, Loss: 0.0018, F1 Score: 0.6290\n",
      "Epoch 5/30, Loss: 0.0018, F1 Score: 0.6496\n",
      "Epoch 6/30, Loss: 0.0015, F1 Score: 0.6780\n",
      "Epoch 7/30, Loss: 0.0016, F1 Score: 0.6841\n",
      "Epoch 8/30, Loss: 0.0015, F1 Score: 0.7229\n",
      "Epoch 9/30, Loss: 0.0016, F1 Score: 0.7464\n",
      "Epoch 10/30, Loss: 0.0016, F1 Score: 0.7554\n",
      "Epoch 11/30, Loss: 0.0017, F1 Score: 0.7508\n",
      "Epoch 12/30, Loss: 0.0016, F1 Score: 0.7686\n",
      "Epoch 13/30, Loss: 0.0016, F1 Score: 0.7695\n",
      "Epoch 14/30, Loss: 0.0016, F1 Score: 0.7789\n",
      "Epoch 15/30, Loss: 0.0016, F1 Score: 0.7838\n",
      "Epoch 16/30, Loss: 0.0013, F1 Score: 0.7824\n",
      "Epoch 17/30, Loss: 0.0017, F1 Score: 0.7898\n",
      "Too low accuracy. Stopping the train\n",
      "Training complete.\n"
     ]
    },
    {
     "data": {
      "text/html": [
       "\n",
       "    <style>\n",
       "        .wandb-row {\n",
       "            display: flex;\n",
       "            flex-direction: row;\n",
       "            flex-wrap: wrap;\n",
       "            justify-content: flex-start;\n",
       "            width: 100%;\n",
       "        }\n",
       "        .wandb-col {\n",
       "            display: flex;\n",
       "            flex-direction: column;\n",
       "            flex-basis: 100%;\n",
       "            flex: 1;\n",
       "            padding: 10px;\n",
       "        }\n",
       "    </style>\n",
       "<div class=\"wandb-row\"><div class=\"wandb-col\"><h3>Run history:</h3><br/><table class=\"wandb\"><tr><td>train/accuracy</td><td>▁▁▂▃▃▄▄▄▄▄▅▅▅▅▅▆▇▆▇▆▇▇▇▇▆▇▇▇▇▇▇█████▇▇██</td></tr><tr><td>train/loss</td><td>██▇▇▆▅▅▅▄▄▄▃▃▃▃▃▃▃▂▂▂▂▂▂▂▂▂▂▂▂▂▂▂▂▂▁▂▁▁▁</td></tr><tr><td>validation/accuracy</td><td>▅▅▅▃▅▇▇▆▆▇█▁▇▇▇█▆</td></tr><tr><td>validation/loss</td><td>▂▇█▃▂▁▁▅▂▁▁▂▁▁▂▁▁</td></tr></table><br/></div><div class=\"wandb-col\"><h3>Run summary:</h3><br/><table class=\"wandb\"><tr><td>train/accuracy</td><td>0.82585</td></tr><tr><td>train/loss</td><td>0.39201</td></tr><tr><td>validation/accuracy</td><td>0.70767</td></tr><tr><td>validation/loss</td><td>0.50358</td></tr></table><br/></div></div>"
      ],
      "text/plain": [
       "<IPython.core.display.HTML object>"
      ]
     },
     "metadata": {},
     "output_type": "display_data"
    },
    {
     "data": {
      "text/html": [
       " View run <strong style=\"color:#cdcd00\">lr:0.03-b:32-d_c:0, d_f:0.2-d</strong> at: <a href='https://wandb.ai/mldogs-wut/iml_m3_wnn/runs/ij13mfgc' target=\"_blank\">https://wandb.ai/mldogs-wut/iml_m3_wnn/runs/ij13mfgc</a><br/> View project at: <a href='https://wandb.ai/mldogs-wut/iml_m3_wnn' target=\"_blank\">https://wandb.ai/mldogs-wut/iml_m3_wnn</a><br/>Synced 5 W&B file(s), 0 media file(s), 0 artifact file(s) and 0 other file(s)"
      ],
      "text/plain": [
       "<IPython.core.display.HTML object>"
      ]
     },
     "metadata": {},
     "output_type": "display_data"
    },
    {
     "data": {
      "text/html": [
       "Find logs at: <code>./wandb/run-20241219_215447-ij13mfgc/logs</code>"
      ],
      "text/plain": [
       "<IPython.core.display.HTML object>"
      ]
     },
     "metadata": {},
     "output_type": "display_data"
    },
    {
     "name": "stdout",
     "output_type": "stream",
     "text": [
      "lr:0.03-b:32-d_c:0, d_f:0.4\n"
     ]
    },
    {
     "data": {
      "text/html": [
       "Tracking run with wandb version 0.19.0"
      ],
      "text/plain": [
       "<IPython.core.display.HTML object>"
      ]
     },
     "metadata": {},
     "output_type": "display_data"
    },
    {
     "data": {
      "text/html": [
       "Run data is saved locally in <code>/home/migoox/dev/ml-dogs-sharepoint/notebook/training/wandb/run-20241219_220823-yqdqudta</code>"
      ],
      "text/plain": [
       "<IPython.core.display.HTML object>"
      ]
     },
     "metadata": {},
     "output_type": "display_data"
    },
    {
     "data": {
      "text/html": [
       "Syncing run <strong><a href='https://wandb.ai/mldogs-wut/iml_m3_wnn/runs/yqdqudta' target=\"_blank\">lr:0.03-b:32-d_c:0, d_f:0.4-d</a></strong> to <a href='https://wandb.ai/mldogs-wut/iml_m3_wnn' target=\"_blank\">Weights & Biases</a> (<a href='https://wandb.me/developer-guide' target=\"_blank\">docs</a>)<br/>"
      ],
      "text/plain": [
       "<IPython.core.display.HTML object>"
      ]
     },
     "metadata": {},
     "output_type": "display_data"
    },
    {
     "data": {
      "text/html": [
       " View project at <a href='https://wandb.ai/mldogs-wut/iml_m3_wnn' target=\"_blank\">https://wandb.ai/mldogs-wut/iml_m3_wnn</a>"
      ],
      "text/plain": [
       "<IPython.core.display.HTML object>"
      ]
     },
     "metadata": {},
     "output_type": "display_data"
    },
    {
     "data": {
      "text/html": [
       " View run at <a href='https://wandb.ai/mldogs-wut/iml_m3_wnn/runs/yqdqudta' target=\"_blank\">https://wandb.ai/mldogs-wut/iml_m3_wnn/runs/yqdqudta</a>"
      ],
      "text/plain": [
       "<IPython.core.display.HTML object>"
      ]
     },
     "metadata": {},
     "output_type": "display_data"
    },
    {
     "name": "stdout",
     "output_type": "stream",
     "text": [
      "Epoch 1/30, Loss: 0.0020, F1 Score: 0.4133\n",
      "Epoch 2/30, Loss: 0.0020, F1 Score: 0.4607\n",
      "Epoch 3/30, Loss: 0.0019, F1 Score: 0.6471\n",
      "Epoch 4/30, Loss: 0.0019, F1 Score: 0.6855\n",
      "Epoch 5/30, Loss: 0.0019, F1 Score: 0.7030\n",
      "Epoch 6/30, Loss: 0.0019, F1 Score: 0.7163\n",
      "Epoch 7/30, Loss: 0.0018, F1 Score: 0.7259\n",
      "Epoch 8/30, Loss: 0.0018, F1 Score: 0.7342\n",
      "Epoch 9/30, Loss: 0.0017, F1 Score: 0.7393\n",
      "Epoch 10/30, Loss: 0.0017, F1 Score: 0.7463\n",
      "Epoch 11/30, Loss: 0.0016, F1 Score: 0.7501\n",
      "Epoch 12/30, Loss: 0.0017, F1 Score: 0.7545\n",
      "Epoch 13/30, Loss: 0.0018, F1 Score: 0.7604\n",
      "Epoch 14/30, Loss: 0.0013, F1 Score: 0.7634\n",
      "Epoch 15/30, Loss: 0.0016, F1 Score: 0.7660\n",
      "Epoch 16/30, Loss: 0.0016, F1 Score: 0.7704\n",
      "Epoch 17/30, Loss: 0.0018, F1 Score: 0.7745\n",
      "Too low accuracy. Stopping the train\n",
      "Training complete.\n"
     ]
    },
    {
     "data": {
      "text/html": [
       "\n",
       "    <style>\n",
       "        .wandb-row {\n",
       "            display: flex;\n",
       "            flex-direction: row;\n",
       "            flex-wrap: wrap;\n",
       "            justify-content: flex-start;\n",
       "            width: 100%;\n",
       "        }\n",
       "        .wandb-col {\n",
       "            display: flex;\n",
       "            flex-direction: column;\n",
       "            flex-basis: 100%;\n",
       "            flex: 1;\n",
       "            padding: 10px;\n",
       "        }\n",
       "    </style>\n",
       "<div class=\"wandb-row\"><div class=\"wandb-col\"><h3>Run history:</h3><br/><table class=\"wandb\"><tr><td>train/accuracy</td><td>▁▁▁▁▂▂▃▄▄▄▅▅▅▅▆▆▆▆▆▆▆▆▇▇▇▇▇▇▇▇▇▇█▇▇█████</td></tr><tr><td>train/loss</td><td>█▇▇▇▆▆▆▅▅▅▄▄▄▄▄▄▃▃▃▃▃▂▃▂▂▂▂▂▂▂▂▂▂▁▁▁▁▁▁▁</td></tr><tr><td>validation/accuracy</td><td>▅▆▅▆▁▆▆▇▇▇█▇▆▇███</td></tr><tr><td>validation/loss</td><td>▄▄▄▃▅▃█▃▄▂▄▃▂▄▂▁▂</td></tr></table><br/></div><div class=\"wandb-col\"><h3>Run summary:</h3><br/><table class=\"wandb\"><tr><td>train/accuracy</td><td>0.81077</td></tr><tr><td>train/loss</td><td>0.42186</td></tr><tr><td>validation/accuracy</td><td>0.79614</td></tr><tr><td>validation/loss</td><td>0.47273</td></tr></table><br/></div></div>"
      ],
      "text/plain": [
       "<IPython.core.display.HTML object>"
      ]
     },
     "metadata": {},
     "output_type": "display_data"
    },
    {
     "data": {
      "text/html": [
       " View run <strong style=\"color:#cdcd00\">lr:0.03-b:32-d_c:0, d_f:0.4-d</strong> at: <a href='https://wandb.ai/mldogs-wut/iml_m3_wnn/runs/yqdqudta' target=\"_blank\">https://wandb.ai/mldogs-wut/iml_m3_wnn/runs/yqdqudta</a><br/> View project at: <a href='https://wandb.ai/mldogs-wut/iml_m3_wnn' target=\"_blank\">https://wandb.ai/mldogs-wut/iml_m3_wnn</a><br/>Synced 5 W&B file(s), 0 media file(s), 0 artifact file(s) and 0 other file(s)"
      ],
      "text/plain": [
       "<IPython.core.display.HTML object>"
      ]
     },
     "metadata": {},
     "output_type": "display_data"
    },
    {
     "data": {
      "text/html": [
       "Find logs at: <code>./wandb/run-20241219_220823-yqdqudta/logs</code>"
      ],
      "text/plain": [
       "<IPython.core.display.HTML object>"
      ]
     },
     "metadata": {},
     "output_type": "display_data"
    },
    {
     "name": "stdout",
     "output_type": "stream",
     "text": [
      "lr:0.03-b:32-d_c:0.2, d_f:0\n"
     ]
    },
    {
     "data": {
      "text/html": [
       "Tracking run with wandb version 0.19.0"
      ],
      "text/plain": [
       "<IPython.core.display.HTML object>"
      ]
     },
     "metadata": {},
     "output_type": "display_data"
    },
    {
     "data": {
      "text/html": [
       "Run data is saved locally in <code>/home/migoox/dev/ml-dogs-sharepoint/notebook/training/wandb/run-20241219_222153-k8a20pnq</code>"
      ],
      "text/plain": [
       "<IPython.core.display.HTML object>"
      ]
     },
     "metadata": {},
     "output_type": "display_data"
    },
    {
     "data": {
      "text/html": [
       "Syncing run <strong><a href='https://wandb.ai/mldogs-wut/iml_m3_wnn/runs/k8a20pnq' target=\"_blank\">lr:0.03-b:32-d_c:0.2, d_f:0-d</a></strong> to <a href='https://wandb.ai/mldogs-wut/iml_m3_wnn' target=\"_blank\">Weights & Biases</a> (<a href='https://wandb.me/developer-guide' target=\"_blank\">docs</a>)<br/>"
      ],
      "text/plain": [
       "<IPython.core.display.HTML object>"
      ]
     },
     "metadata": {},
     "output_type": "display_data"
    },
    {
     "data": {
      "text/html": [
       " View project at <a href='https://wandb.ai/mldogs-wut/iml_m3_wnn' target=\"_blank\">https://wandb.ai/mldogs-wut/iml_m3_wnn</a>"
      ],
      "text/plain": [
       "<IPython.core.display.HTML object>"
      ]
     },
     "metadata": {},
     "output_type": "display_data"
    },
    {
     "data": {
      "text/html": [
       " View run at <a href='https://wandb.ai/mldogs-wut/iml_m3_wnn/runs/k8a20pnq' target=\"_blank\">https://wandb.ai/mldogs-wut/iml_m3_wnn/runs/k8a20pnq</a>"
      ],
      "text/plain": [
       "<IPython.core.display.HTML object>"
      ]
     },
     "metadata": {},
     "output_type": "display_data"
    },
    {
     "name": "stdout",
     "output_type": "stream",
     "text": [
      "Epoch 1/30, Loss: 0.0023, F1 Score: 0.4108\n",
      "Epoch 2/30, Loss: 0.0022, F1 Score: 0.4106\n",
      "Epoch 3/30, Loss: 0.0022, F1 Score: 0.4106\n",
      "Epoch 4/30, Loss: 0.0022, F1 Score: 0.4107\n",
      "Epoch 5/30, Loss: 0.0021, F1 Score: 0.4287\n",
      "Epoch 6/30, Loss: 0.0019, F1 Score: 0.5418\n",
      "Epoch 7/30, Loss: 0.0019, F1 Score: 0.6495\n",
      "Epoch 8/30, Loss: 0.0019, F1 Score: 0.6852\n",
      "Epoch 9/30, Loss: 0.0019, F1 Score: 0.7042\n",
      "Epoch 10/30, Loss: 0.0019, F1 Score: 0.7141\n",
      "Epoch 11/30, Loss: 0.0018, F1 Score: 0.7207\n",
      "Epoch 12/30, Loss: 0.0017, F1 Score: 0.7291\n",
      "Epoch 13/30, Loss: 0.0016, F1 Score: 0.7359\n",
      "Epoch 14/30, Loss: 0.0018, F1 Score: 0.7402\n",
      "Epoch 15/30, Loss: 0.0018, F1 Score: 0.7437\n",
      "Epoch 16/30, Loss: 0.0017, F1 Score: 0.7454\n",
      "Epoch 17/30, Loss: 0.0017, F1 Score: 0.7520\n",
      "Too low accuracy. Stopping the train\n",
      "Training complete.\n"
     ]
    },
    {
     "data": {
      "text/html": [
       "\n",
       "    <style>\n",
       "        .wandb-row {\n",
       "            display: flex;\n",
       "            flex-direction: row;\n",
       "            flex-wrap: wrap;\n",
       "            justify-content: flex-start;\n",
       "            width: 100%;\n",
       "        }\n",
       "        .wandb-col {\n",
       "            display: flex;\n",
       "            flex-direction: column;\n",
       "            flex-basis: 100%;\n",
       "            flex: 1;\n",
       "            padding: 10px;\n",
       "        }\n",
       "    </style>\n",
       "<div class=\"wandb-row\"><div class=\"wandb-col\"><h3>Run history:</h3><br/><table class=\"wandb\"><tr><td>train/accuracy</td><td>▁▁▂▁▁▁▁▁▁▁▂▁▂▃▃▄▅▄▅▅▆▆▆▆▆▇▆▆▇█▇█▇█▇▇████</td></tr><tr><td>train/loss</td><td>█▇▇▇▇▇▇▇▇▇▇▇▇▆▆▅▅▅▄▃▃▃▃▃▃▂▃▂▂▂▂▂▁▂▁▂▁▁▁▁</td></tr><tr><td>validation/accuracy</td><td>▄▄▄▄▄▄▅▆▆▅▇██▆▅▆▁</td></tr><tr><td>validation/loss</td><td>▇█▆▅▄▆▄▅▂▂▁▂▁▆▂▁▅</td></tr></table><br/></div><div class=\"wandb-col\"><h3>Run summary:</h3><br/><table class=\"wandb\"><tr><td>train/accuracy</td><td>0.78917</td></tr><tr><td>train/loss</td><td>0.44752</td></tr><tr><td>validation/accuracy</td><td>0.64256</td></tr><tr><td>validation/loss</td><td>0.59183</td></tr></table><br/></div></div>"
      ],
      "text/plain": [
       "<IPython.core.display.HTML object>"
      ]
     },
     "metadata": {},
     "output_type": "display_data"
    },
    {
     "data": {
      "text/html": [
       " View run <strong style=\"color:#cdcd00\">lr:0.03-b:32-d_c:0.2, d_f:0-d</strong> at: <a href='https://wandb.ai/mldogs-wut/iml_m3_wnn/runs/k8a20pnq' target=\"_blank\">https://wandb.ai/mldogs-wut/iml_m3_wnn/runs/k8a20pnq</a><br/> View project at: <a href='https://wandb.ai/mldogs-wut/iml_m3_wnn' target=\"_blank\">https://wandb.ai/mldogs-wut/iml_m3_wnn</a><br/>Synced 5 W&B file(s), 0 media file(s), 0 artifact file(s) and 0 other file(s)"
      ],
      "text/plain": [
       "<IPython.core.display.HTML object>"
      ]
     },
     "metadata": {},
     "output_type": "display_data"
    },
    {
     "data": {
      "text/html": [
       "Find logs at: <code>./wandb/run-20241219_222153-k8a20pnq/logs</code>"
      ],
      "text/plain": [
       "<IPython.core.display.HTML object>"
      ]
     },
     "metadata": {},
     "output_type": "display_data"
    },
    {
     "name": "stdout",
     "output_type": "stream",
     "text": [
      "lr:0.03-b:32-d_c:0.2, d_f:0.2\n"
     ]
    },
    {
     "data": {
      "application/vnd.jupyter.widget-view+json": {
       "model_id": "61d8cb269ac14df4a2de4142ffcb2841",
       "version_major": 2,
       "version_minor": 0
      },
      "text/plain": [
       "VBox(children=(Label(value='Waiting for wandb.init()...\\r'), FloatProgress(value=0.011112150877710922, max=1.0…"
      ]
     },
     "metadata": {},
     "output_type": "display_data"
    },
    {
     "data": {
      "text/html": [
       "Tracking run with wandb version 0.19.0"
      ],
      "text/plain": [
       "<IPython.core.display.HTML object>"
      ]
     },
     "metadata": {},
     "output_type": "display_data"
    },
    {
     "data": {
      "text/html": [
       "Run data is saved locally in <code>/home/migoox/dev/ml-dogs-sharepoint/notebook/training/wandb/run-20241219_223528-f7vry991</code>"
      ],
      "text/plain": [
       "<IPython.core.display.HTML object>"
      ]
     },
     "metadata": {},
     "output_type": "display_data"
    },
    {
     "data": {
      "text/html": [
       "Syncing run <strong><a href='https://wandb.ai/mldogs-wut/iml_m3_wnn/runs/f7vry991' target=\"_blank\">lr:0.03-b:32-d_c:0.2, d_f:0.2-d</a></strong> to <a href='https://wandb.ai/mldogs-wut/iml_m3_wnn' target=\"_blank\">Weights & Biases</a> (<a href='https://wandb.me/developer-guide' target=\"_blank\">docs</a>)<br/>"
      ],
      "text/plain": [
       "<IPython.core.display.HTML object>"
      ]
     },
     "metadata": {},
     "output_type": "display_data"
    },
    {
     "data": {
      "text/html": [
       " View project at <a href='https://wandb.ai/mldogs-wut/iml_m3_wnn' target=\"_blank\">https://wandb.ai/mldogs-wut/iml_m3_wnn</a>"
      ],
      "text/plain": [
       "<IPython.core.display.HTML object>"
      ]
     },
     "metadata": {},
     "output_type": "display_data"
    },
    {
     "data": {
      "text/html": [
       " View run at <a href='https://wandb.ai/mldogs-wut/iml_m3_wnn/runs/f7vry991' target=\"_blank\">https://wandb.ai/mldogs-wut/iml_m3_wnn/runs/f7vry991</a>"
      ],
      "text/plain": [
       "<IPython.core.display.HTML object>"
      ]
     },
     "metadata": {},
     "output_type": "display_data"
    },
    {
     "name": "stdout",
     "output_type": "stream",
     "text": [
      "Epoch 1/30, Loss: 0.0020, F1 Score: 0.4162\n",
      "Epoch 2/30, Loss: 0.0020, F1 Score: 0.4364\n",
      "Epoch 3/30, Loss: 0.0018, F1 Score: 0.6668\n",
      "Epoch 4/30, Loss: 0.0019, F1 Score: 0.7065\n",
      "Epoch 5/30, Loss: 0.0019, F1 Score: 0.7249\n",
      "Epoch 6/30, Loss: 0.0019, F1 Score: 0.7359\n",
      "Epoch 7/30, Loss: 0.0016, F1 Score: 0.7471\n",
      "Epoch 8/30, Loss: 0.0015, F1 Score: 0.7535\n",
      "Epoch 9/30, Loss: 0.0018, F1 Score: 0.7625\n",
      "Epoch 10/30, Loss: 0.0016, F1 Score: 0.7692\n",
      "Epoch 11/30, Loss: 0.0017, F1 Score: 0.7774\n",
      "Epoch 12/30, Loss: 0.0015, F1 Score: 0.7841\n",
      "Epoch 13/30, Loss: 0.0014, F1 Score: 0.7911\n",
      "Epoch 14/30, Loss: 0.0015, F1 Score: 0.7973\n",
      "Epoch 15/30, Loss: 0.0014, F1 Score: 0.8012\n",
      "Epoch 16/30, Loss: 0.0014, F1 Score: 0.8073\n",
      "Epoch 17/30, Loss: 0.0016, F1 Score: 0.8110\n",
      "Too low accuracy. Stopping the train\n",
      "Training complete.\n"
     ]
    },
    {
     "data": {
      "text/html": [
       "\n",
       "    <style>\n",
       "        .wandb-row {\n",
       "            display: flex;\n",
       "            flex-direction: row;\n",
       "            flex-wrap: wrap;\n",
       "            justify-content: flex-start;\n",
       "            width: 100%;\n",
       "        }\n",
       "        .wandb-col {\n",
       "            display: flex;\n",
       "            flex-direction: column;\n",
       "            flex-basis: 100%;\n",
       "            flex: 1;\n",
       "            padding: 10px;\n",
       "        }\n",
       "    </style>\n",
       "<div class=\"wandb-row\"><div class=\"wandb-col\"><h3>Run history:</h3><br/><table class=\"wandb\"><tr><td>train/accuracy</td><td>▁▁▁▁▃▄▄▄▄▅▅▅▅▅▅▆▅▆▆▆▆▆▆▆▆▇▆▇▇▇▇▇▇▇▇█▇███</td></tr><tr><td>train/loss</td><td>██▇▇▆▆▆▅▅▅▅▅▄▄▄▄▄▄▄▄▃▃▃▃▃▃▂▂▂▂▂▂▂▂▁▁▁▁▁▁</td></tr><tr><td>validation/accuracy</td><td>▁▂▃▄▅▄▃▆▂▂▅▅▅▇█▆▇</td></tr><tr><td>validation/loss</td><td>▄▄▃▃▃▄█▂▃▃▄██▁▁▂▁</td></tr></table><br/></div><div class=\"wandb-col\"><h3>Run summary:</h3><br/><table class=\"wandb\"><tr><td>train/accuracy</td><td>0.83415</td></tr><tr><td>train/loss</td><td>0.37732</td></tr><tr><td>validation/accuracy</td><td>0.82452</td></tr><tr><td>validation/loss</td><td>0.4297</td></tr></table><br/></div></div>"
      ],
      "text/plain": [
       "<IPython.core.display.HTML object>"
      ]
     },
     "metadata": {},
     "output_type": "display_data"
    },
    {
     "data": {
      "text/html": [
       " View run <strong style=\"color:#cdcd00\">lr:0.03-b:32-d_c:0.2, d_f:0.2-d</strong> at: <a href='https://wandb.ai/mldogs-wut/iml_m3_wnn/runs/f7vry991' target=\"_blank\">https://wandb.ai/mldogs-wut/iml_m3_wnn/runs/f7vry991</a><br/> View project at: <a href='https://wandb.ai/mldogs-wut/iml_m3_wnn' target=\"_blank\">https://wandb.ai/mldogs-wut/iml_m3_wnn</a><br/>Synced 5 W&B file(s), 0 media file(s), 0 artifact file(s) and 0 other file(s)"
      ],
      "text/plain": [
       "<IPython.core.display.HTML object>"
      ]
     },
     "metadata": {},
     "output_type": "display_data"
    },
    {
     "data": {
      "text/html": [
       "Find logs at: <code>./wandb/run-20241219_223528-f7vry991/logs</code>"
      ],
      "text/plain": [
       "<IPython.core.display.HTML object>"
      ]
     },
     "metadata": {},
     "output_type": "display_data"
    },
    {
     "name": "stdout",
     "output_type": "stream",
     "text": [
      "lr:0.03-b:32-d_c:0.2, d_f:0.4\n"
     ]
    },
    {
     "data": {
      "text/html": [
       "Tracking run with wandb version 0.19.0"
      ],
      "text/plain": [
       "<IPython.core.display.HTML object>"
      ]
     },
     "metadata": {},
     "output_type": "display_data"
    },
    {
     "data": {
      "text/html": [
       "Run data is saved locally in <code>/home/migoox/dev/ml-dogs-sharepoint/notebook/training/wandb/run-20241219_224849-ui9oxgds</code>"
      ],
      "text/plain": [
       "<IPython.core.display.HTML object>"
      ]
     },
     "metadata": {},
     "output_type": "display_data"
    },
    {
     "data": {
      "text/html": [
       "Syncing run <strong><a href='https://wandb.ai/mldogs-wut/iml_m3_wnn/runs/ui9oxgds' target=\"_blank\">lr:0.03-b:32-d_c:0.2, d_f:0.4-d</a></strong> to <a href='https://wandb.ai/mldogs-wut/iml_m3_wnn' target=\"_blank\">Weights & Biases</a> (<a href='https://wandb.me/developer-guide' target=\"_blank\">docs</a>)<br/>"
      ],
      "text/plain": [
       "<IPython.core.display.HTML object>"
      ]
     },
     "metadata": {},
     "output_type": "display_data"
    },
    {
     "data": {
      "text/html": [
       " View project at <a href='https://wandb.ai/mldogs-wut/iml_m3_wnn' target=\"_blank\">https://wandb.ai/mldogs-wut/iml_m3_wnn</a>"
      ],
      "text/plain": [
       "<IPython.core.display.HTML object>"
      ]
     },
     "metadata": {},
     "output_type": "display_data"
    },
    {
     "data": {
      "text/html": [
       " View run at <a href='https://wandb.ai/mldogs-wut/iml_m3_wnn/runs/ui9oxgds' target=\"_blank\">https://wandb.ai/mldogs-wut/iml_m3_wnn/runs/ui9oxgds</a>"
      ],
      "text/plain": [
       "<IPython.core.display.HTML object>"
      ]
     },
     "metadata": {},
     "output_type": "display_data"
    },
    {
     "name": "stdout",
     "output_type": "stream",
     "text": [
      "Epoch 1/30, Loss: 0.0023, F1 Score: 0.4389\n",
      "Epoch 2/30, Loss: 0.0019, F1 Score: 0.5092\n",
      "Epoch 3/30, Loss: 0.0019, F1 Score: 0.5622\n",
      "Epoch 4/30, Loss: 0.0018, F1 Score: 0.6161\n",
      "Epoch 5/30, Loss: 0.0019, F1 Score: 0.6841\n",
      "Epoch 6/30, Loss: 0.0018, F1 Score: 0.7096\n",
      "Epoch 7/30, Loss: 0.0017, F1 Score: 0.7217\n",
      "Epoch 8/30, Loss: 0.0017, F1 Score: 0.7391\n",
      "Epoch 9/30, Loss: 0.0017, F1 Score: 0.7514\n",
      "Epoch 10/30, Loss: 0.0017, F1 Score: 0.7571\n",
      "Epoch 11/30, Loss: 0.0016, F1 Score: 0.7661\n",
      "Epoch 12/30, Loss: 0.0016, F1 Score: 0.7695\n",
      "Epoch 13/30, Loss: 0.0015, F1 Score: 0.7732\n",
      "Epoch 14/30, Loss: 0.0014, F1 Score: 0.7806\n",
      "Epoch 15/30, Loss: 0.0014, F1 Score: 0.7799\n",
      "Epoch 16/30, Loss: 0.0016, F1 Score: 0.7845\n",
      "Epoch 17/30, Loss: 0.0014, F1 Score: 0.7885\n",
      "Too low accuracy. Stopping the train\n",
      "Training complete.\n"
     ]
    },
    {
     "data": {
      "text/html": [
       "\n",
       "    <style>\n",
       "        .wandb-row {\n",
       "            display: flex;\n",
       "            flex-direction: row;\n",
       "            flex-wrap: wrap;\n",
       "            justify-content: flex-start;\n",
       "            width: 100%;\n",
       "        }\n",
       "        .wandb-col {\n",
       "            display: flex;\n",
       "            flex-direction: column;\n",
       "            flex-basis: 100%;\n",
       "            flex: 1;\n",
       "            padding: 10px;\n",
       "        }\n",
       "    </style>\n",
       "<div class=\"wandb-row\"><div class=\"wandb-col\"><h3>Run history:</h3><br/><table class=\"wandb\"><tr><td>train/accuracy</td><td>▁▁▁▂▂▃▄▄▄▄▅▆▄▅▅▅▆▆▆▆▇▇▇▇▇▇▇▇▇▇▇█▇██▇████</td></tr><tr><td>train/loss</td><td>█▇█▇▇▅▅▄▄▄▄▄▄▃▃▃▃▃▃▃▃▃▃▂▂▂▂▂▂▂▂▂▂▂▂▂▁▁▁▁</td></tr><tr><td>validation/accuracy</td><td>▄▆▇▃▁▆▇▆▆▆█▇█▇▆▆▆</td></tr><tr><td>validation/loss</td><td>▃▂▂▂▂▄▁▄▄▁▁▁▂▄▄▁█</td></tr></table><br/></div><div class=\"wandb-col\"><h3>Run summary:</h3><br/><table class=\"wandb\"><tr><td>train/accuracy</td><td>0.82303</td></tr><tr><td>train/loss</td><td>0.40189</td></tr><tr><td>validation/accuracy</td><td>0.72645</td></tr><tr><td>validation/loss</td><td>1.25067</td></tr></table><br/></div></div>"
      ],
      "text/plain": [
       "<IPython.core.display.HTML object>"
      ]
     },
     "metadata": {},
     "output_type": "display_data"
    },
    {
     "data": {
      "text/html": [
       " View run <strong style=\"color:#cdcd00\">lr:0.03-b:32-d_c:0.2, d_f:0.4-d</strong> at: <a href='https://wandb.ai/mldogs-wut/iml_m3_wnn/runs/ui9oxgds' target=\"_blank\">https://wandb.ai/mldogs-wut/iml_m3_wnn/runs/ui9oxgds</a><br/> View project at: <a href='https://wandb.ai/mldogs-wut/iml_m3_wnn' target=\"_blank\">https://wandb.ai/mldogs-wut/iml_m3_wnn</a><br/>Synced 5 W&B file(s), 0 media file(s), 0 artifact file(s) and 0 other file(s)"
      ],
      "text/plain": [
       "<IPython.core.display.HTML object>"
      ]
     },
     "metadata": {},
     "output_type": "display_data"
    },
    {
     "data": {
      "text/html": [
       "Find logs at: <code>./wandb/run-20241219_224849-ui9oxgds/logs</code>"
      ],
      "text/plain": [
       "<IPython.core.display.HTML object>"
      ]
     },
     "metadata": {},
     "output_type": "display_data"
    },
    {
     "name": "stdout",
     "output_type": "stream",
     "text": [
      "lr:0.03-b:32-d_c:0.4, d_f:0\n"
     ]
    },
    {
     "data": {
      "text/html": [
       "Tracking run with wandb version 0.19.0"
      ],
      "text/plain": [
       "<IPython.core.display.HTML object>"
      ]
     },
     "metadata": {},
     "output_type": "display_data"
    },
    {
     "data": {
      "text/html": [
       "Run data is saved locally in <code>/home/migoox/dev/ml-dogs-sharepoint/notebook/training/wandb/run-20241219_230206-k29xylhe</code>"
      ],
      "text/plain": [
       "<IPython.core.display.HTML object>"
      ]
     },
     "metadata": {},
     "output_type": "display_data"
    },
    {
     "data": {
      "text/html": [
       "Syncing run <strong><a href='https://wandb.ai/mldogs-wut/iml_m3_wnn/runs/k29xylhe' target=\"_blank\">lr:0.03-b:32-d_c:0.4, d_f:0-d</a></strong> to <a href='https://wandb.ai/mldogs-wut/iml_m3_wnn' target=\"_blank\">Weights & Biases</a> (<a href='https://wandb.me/developer-guide' target=\"_blank\">docs</a>)<br/>"
      ],
      "text/plain": [
       "<IPython.core.display.HTML object>"
      ]
     },
     "metadata": {},
     "output_type": "display_data"
    },
    {
     "data": {
      "text/html": [
       " View project at <a href='https://wandb.ai/mldogs-wut/iml_m3_wnn' target=\"_blank\">https://wandb.ai/mldogs-wut/iml_m3_wnn</a>"
      ],
      "text/plain": [
       "<IPython.core.display.HTML object>"
      ]
     },
     "metadata": {},
     "output_type": "display_data"
    },
    {
     "data": {
      "text/html": [
       " View run at <a href='https://wandb.ai/mldogs-wut/iml_m3_wnn/runs/k29xylhe' target=\"_blank\">https://wandb.ai/mldogs-wut/iml_m3_wnn/runs/k29xylhe</a>"
      ],
      "text/plain": [
       "<IPython.core.display.HTML object>"
      ]
     },
     "metadata": {},
     "output_type": "display_data"
    },
    {
     "name": "stdout",
     "output_type": "stream",
     "text": [
      "Epoch 1/30, Loss: 0.0022, F1 Score: 0.4475\n",
      "Epoch 2/30, Loss: 0.0020, F1 Score: 0.5226\n",
      "Epoch 3/30, Loss: 0.0019, F1 Score: 0.5806\n",
      "Epoch 4/30, Loss: 0.0019, F1 Score: 0.6751\n",
      "Epoch 5/30, Loss: 0.0018, F1 Score: 0.7179\n",
      "Epoch 6/30, Loss: 0.0017, F1 Score: 0.7369\n",
      "Epoch 7/30, Loss: 0.0016, F1 Score: 0.7455\n",
      "Epoch 8/30, Loss: 0.0017, F1 Score: 0.7493\n",
      "Epoch 9/30, Loss: 0.0017, F1 Score: 0.7529\n",
      "Epoch 10/30, Loss: 0.0015, F1 Score: 0.7571\n",
      "Epoch 11/30, Loss: 0.0016, F1 Score: 0.7602\n",
      "Epoch 12/30, Loss: 0.0016, F1 Score: 0.7633\n",
      "Epoch 13/30, Loss: 0.0017, F1 Score: 0.7656\n",
      "Epoch 14/30, Loss: 0.0017, F1 Score: 0.7694\n",
      "Epoch 15/30, Loss: 0.0018, F1 Score: 0.7693\n",
      "Epoch 16/30, Loss: 0.0015, F1 Score: 0.7724\n",
      "Epoch 17/30, Loss: 0.0014, F1 Score: 0.7790\n",
      "Too low accuracy. Stopping the train\n",
      "Training complete.\n"
     ]
    },
    {
     "data": {
      "text/html": [
       "\n",
       "    <style>\n",
       "        .wandb-row {\n",
       "            display: flex;\n",
       "            flex-direction: row;\n",
       "            flex-wrap: wrap;\n",
       "            justify-content: flex-start;\n",
       "            width: 100%;\n",
       "        }\n",
       "        .wandb-col {\n",
       "            display: flex;\n",
       "            flex-direction: column;\n",
       "            flex-basis: 100%;\n",
       "            flex: 1;\n",
       "            padding: 10px;\n",
       "        }\n",
       "    </style>\n",
       "<div class=\"wandb-row\"><div class=\"wandb-col\"><h3>Run history:</h3><br/><table class=\"wandb\"><tr><td>train/accuracy</td><td>▁▁▂▂▂▄▅▄▅▆▆▆▆▇▇▇▇▆▇▇▇▇▇▇▇▇▇▇▇▇▇▇█▇▇█▇███</td></tr><tr><td>train/loss</td><td>██▇▇▆▅▅▄▃▃▂▃▂▂▃▂▂▂▂▂▂▂▂▁▂▂▂▁▁▂▁▁▁▁▂▂▁▁▂▁</td></tr><tr><td>validation/accuracy</td><td>▆▅▆▆▆▁▃▄████▅▄█▆▇</td></tr><tr><td>validation/loss</td><td>▁▁▂▁█▁▁▁▁▁▁▁▁▁▁▁▁</td></tr></table><br/></div><div class=\"wandb-col\"><h3>Run summary:</h3><br/><table class=\"wandb\"><tr><td>train/accuracy</td><td>0.81541</td></tr><tr><td>train/loss</td><td>0.40998</td></tr><tr><td>validation/accuracy</td><td>0.76883</td></tr><tr><td>validation/loss</td><td>0.64027</td></tr></table><br/></div></div>"
      ],
      "text/plain": [
       "<IPython.core.display.HTML object>"
      ]
     },
     "metadata": {},
     "output_type": "display_data"
    },
    {
     "data": {
      "text/html": [
       " View run <strong style=\"color:#cdcd00\">lr:0.03-b:32-d_c:0.4, d_f:0-d</strong> at: <a href='https://wandb.ai/mldogs-wut/iml_m3_wnn/runs/k29xylhe' target=\"_blank\">https://wandb.ai/mldogs-wut/iml_m3_wnn/runs/k29xylhe</a><br/> View project at: <a href='https://wandb.ai/mldogs-wut/iml_m3_wnn' target=\"_blank\">https://wandb.ai/mldogs-wut/iml_m3_wnn</a><br/>Synced 5 W&B file(s), 0 media file(s), 0 artifact file(s) and 0 other file(s)"
      ],
      "text/plain": [
       "<IPython.core.display.HTML object>"
      ]
     },
     "metadata": {},
     "output_type": "display_data"
    },
    {
     "data": {
      "text/html": [
       "Find logs at: <code>./wandb/run-20241219_230206-k29xylhe/logs</code>"
      ],
      "text/plain": [
       "<IPython.core.display.HTML object>"
      ]
     },
     "metadata": {},
     "output_type": "display_data"
    },
    {
     "name": "stdout",
     "output_type": "stream",
     "text": [
      "lr:0.03-b:32-d_c:0.4, d_f:0.2\n"
     ]
    },
    {
     "data": {
      "text/html": [
       "Tracking run with wandb version 0.19.0"
      ],
      "text/plain": [
       "<IPython.core.display.HTML object>"
      ]
     },
     "metadata": {},
     "output_type": "display_data"
    },
    {
     "data": {
      "text/html": [
       "Run data is saved locally in <code>/home/migoox/dev/ml-dogs-sharepoint/notebook/training/wandb/run-20241219_231523-2um2che2</code>"
      ],
      "text/plain": [
       "<IPython.core.display.HTML object>"
      ]
     },
     "metadata": {},
     "output_type": "display_data"
    },
    {
     "data": {
      "text/html": [
       "Syncing run <strong><a href='https://wandb.ai/mldogs-wut/iml_m3_wnn/runs/2um2che2' target=\"_blank\">lr:0.03-b:32-d_c:0.4, d_f:0.2-d</a></strong> to <a href='https://wandb.ai/mldogs-wut/iml_m3_wnn' target=\"_blank\">Weights & Biases</a> (<a href='https://wandb.me/developer-guide' target=\"_blank\">docs</a>)<br/>"
      ],
      "text/plain": [
       "<IPython.core.display.HTML object>"
      ]
     },
     "metadata": {},
     "output_type": "display_data"
    },
    {
     "data": {
      "text/html": [
       " View project at <a href='https://wandb.ai/mldogs-wut/iml_m3_wnn' target=\"_blank\">https://wandb.ai/mldogs-wut/iml_m3_wnn</a>"
      ],
      "text/plain": [
       "<IPython.core.display.HTML object>"
      ]
     },
     "metadata": {},
     "output_type": "display_data"
    },
    {
     "data": {
      "text/html": [
       " View run at <a href='https://wandb.ai/mldogs-wut/iml_m3_wnn/runs/2um2che2' target=\"_blank\">https://wandb.ai/mldogs-wut/iml_m3_wnn/runs/2um2che2</a>"
      ],
      "text/plain": [
       "<IPython.core.display.HTML object>"
      ]
     },
     "metadata": {},
     "output_type": "display_data"
    },
    {
     "name": "stdout",
     "output_type": "stream",
     "text": [
      "Epoch 1/30, Loss: 0.0021, F1 Score: 0.4119\n",
      "Epoch 2/30, Loss: 0.0021, F1 Score: 0.4845\n",
      "Epoch 3/30, Loss: 0.0017, F1 Score: 0.6721\n",
      "Epoch 4/30, Loss: 0.0020, F1 Score: 0.7081\n",
      "Epoch 5/30, Loss: 0.0016, F1 Score: 0.7199\n",
      "Epoch 6/30, Loss: 0.0017, F1 Score: 0.7298\n",
      "Epoch 7/30, Loss: 0.0016, F1 Score: 0.7403\n",
      "Epoch 8/30, Loss: 0.0016, F1 Score: 0.7478\n",
      "Epoch 9/30, Loss: 0.0016, F1 Score: 0.7513\n",
      "Epoch 10/30, Loss: 0.0015, F1 Score: 0.7608\n",
      "Epoch 11/30, Loss: 0.0015, F1 Score: 0.7655\n",
      "Epoch 12/30, Loss: 0.0015, F1 Score: 0.7697\n",
      "Epoch 13/30, Loss: 0.0016, F1 Score: 0.7768\n",
      "Epoch 14/30, Loss: 0.0015, F1 Score: 0.7785\n",
      "Epoch 15/30, Loss: 0.0015, F1 Score: 0.7789\n",
      "Epoch 16/30, Loss: 0.0016, F1 Score: 0.7834\n",
      "Epoch 17/30, Loss: 0.0015, F1 Score: 0.7870\n",
      "Too low accuracy. Stopping the train\n",
      "Training complete.\n"
     ]
    },
    {
     "data": {
      "text/html": [
       "\n",
       "    <style>\n",
       "        .wandb-row {\n",
       "            display: flex;\n",
       "            flex-direction: row;\n",
       "            flex-wrap: wrap;\n",
       "            justify-content: flex-start;\n",
       "            width: 100%;\n",
       "        }\n",
       "        .wandb-col {\n",
       "            display: flex;\n",
       "            flex-direction: column;\n",
       "            flex-basis: 100%;\n",
       "            flex: 1;\n",
       "            padding: 10px;\n",
       "        }\n",
       "    </style>\n",
       "<div class=\"wandb-row\"><div class=\"wandb-col\"><h3>Run history:</h3><br/><table class=\"wandb\"><tr><td>train/accuracy</td><td>▁▁▁▁▁▃▄▄▅▅▅▅▅▅▅▅▆▆▆▆▇▇▇▇▇▇█▇▇██▇▇███████</td></tr><tr><td>train/loss</td><td>██▇▇▇▆▅▅▅▅▄▄▄▄▄▃▃▃▃▃▃▃▃▂▂▂▂▂▂▂▁▁▂▁▂▁▁▁▁▁</td></tr><tr><td>validation/accuracy</td><td>▆▆▆▁▇▆▇▇█▆▁▇▇████</td></tr><tr><td>validation/loss</td><td>▂▂▅▂▂▁▁▂▁█▃▁▁▁▁▁▂</td></tr></table><br/></div><div class=\"wandb-col\"><h3>Run summary:</h3><br/><table class=\"wandb\"><tr><td>train/accuracy</td><td>0.81793</td></tr><tr><td>train/loss</td><td>0.41314</td></tr><tr><td>validation/accuracy</td><td>0.78341</td></tr><tr><td>validation/loss</td><td>0.59402</td></tr></table><br/></div></div>"
      ],
      "text/plain": [
       "<IPython.core.display.HTML object>"
      ]
     },
     "metadata": {},
     "output_type": "display_data"
    },
    {
     "data": {
      "text/html": [
       " View run <strong style=\"color:#cdcd00\">lr:0.03-b:32-d_c:0.4, d_f:0.2-d</strong> at: <a href='https://wandb.ai/mldogs-wut/iml_m3_wnn/runs/2um2che2' target=\"_blank\">https://wandb.ai/mldogs-wut/iml_m3_wnn/runs/2um2che2</a><br/> View project at: <a href='https://wandb.ai/mldogs-wut/iml_m3_wnn' target=\"_blank\">https://wandb.ai/mldogs-wut/iml_m3_wnn</a><br/>Synced 5 W&B file(s), 0 media file(s), 0 artifact file(s) and 0 other file(s)"
      ],
      "text/plain": [
       "<IPython.core.display.HTML object>"
      ]
     },
     "metadata": {},
     "output_type": "display_data"
    },
    {
     "data": {
      "text/html": [
       "Find logs at: <code>./wandb/run-20241219_231523-2um2che2/logs</code>"
      ],
      "text/plain": [
       "<IPython.core.display.HTML object>"
      ]
     },
     "metadata": {},
     "output_type": "display_data"
    },
    {
     "name": "stdout",
     "output_type": "stream",
     "text": [
      "lr:0.03-b:32-d_c:0.4, d_f:0.4\n"
     ]
    },
    {
     "data": {
      "text/html": [
       "Tracking run with wandb version 0.19.0"
      ],
      "text/plain": [
       "<IPython.core.display.HTML object>"
      ]
     },
     "metadata": {},
     "output_type": "display_data"
    },
    {
     "data": {
      "text/html": [
       "Run data is saved locally in <code>/home/migoox/dev/ml-dogs-sharepoint/notebook/training/wandb/run-20241219_232827-4qrwhd4e</code>"
      ],
      "text/plain": [
       "<IPython.core.display.HTML object>"
      ]
     },
     "metadata": {},
     "output_type": "display_data"
    },
    {
     "data": {
      "text/html": [
       "Syncing run <strong><a href='https://wandb.ai/mldogs-wut/iml_m3_wnn/runs/4qrwhd4e' target=\"_blank\">lr:0.03-b:32-d_c:0.4, d_f:0.4-d</a></strong> to <a href='https://wandb.ai/mldogs-wut/iml_m3_wnn' target=\"_blank\">Weights & Biases</a> (<a href='https://wandb.me/developer-guide' target=\"_blank\">docs</a>)<br/>"
      ],
      "text/plain": [
       "<IPython.core.display.HTML object>"
      ]
     },
     "metadata": {},
     "output_type": "display_data"
    },
    {
     "data": {
      "text/html": [
       " View project at <a href='https://wandb.ai/mldogs-wut/iml_m3_wnn' target=\"_blank\">https://wandb.ai/mldogs-wut/iml_m3_wnn</a>"
      ],
      "text/plain": [
       "<IPython.core.display.HTML object>"
      ]
     },
     "metadata": {},
     "output_type": "display_data"
    },
    {
     "data": {
      "text/html": [
       " View run at <a href='https://wandb.ai/mldogs-wut/iml_m3_wnn/runs/4qrwhd4e' target=\"_blank\">https://wandb.ai/mldogs-wut/iml_m3_wnn/runs/4qrwhd4e</a>"
      ],
      "text/plain": [
       "<IPython.core.display.HTML object>"
      ]
     },
     "metadata": {},
     "output_type": "display_data"
    },
    {
     "name": "stdout",
     "output_type": "stream",
     "text": [
      "Epoch 1/30, Loss: 0.0024, F1 Score: 0.4121\n",
      "Epoch 2/30, Loss: 0.0023, F1 Score: 0.4106\n",
      "Epoch 3/30, Loss: 0.0023, F1 Score: 0.4106\n",
      "Epoch 4/30, Loss: 0.0024, F1 Score: 0.4106\n",
      "Epoch 5/30, Loss: 0.0023, F1 Score: 0.4106\n",
      "Epoch 6/30, Loss: 0.0023, F1 Score: 0.4106\n",
      "Epoch 7/30, Loss: 0.0023, F1 Score: 0.4106\n",
      "Epoch 8/30, Loss: 0.0023, F1 Score: 0.4106\n",
      "Epoch 9/30, Loss: 0.0024, F1 Score: 0.4106\n",
      "Epoch 10/30, Loss: 0.0023, F1 Score: 0.4106\n",
      "Epoch 11/30, Loss: 0.0026, F1 Score: 0.4106\n",
      "8 epochs without a val accuracy improvement. Stopping the train\n",
      "Training complete.\n"
     ]
    },
    {
     "data": {
      "text/html": [
       "\n",
       "    <style>\n",
       "        .wandb-row {\n",
       "            display: flex;\n",
       "            flex-direction: row;\n",
       "            flex-wrap: wrap;\n",
       "            justify-content: flex-start;\n",
       "            width: 100%;\n",
       "        }\n",
       "        .wandb-col {\n",
       "            display: flex;\n",
       "            flex-direction: column;\n",
       "            flex-basis: 100%;\n",
       "            flex: 1;\n",
       "            padding: 10px;\n",
       "        }\n",
       "    </style>\n",
       "<div class=\"wandb-row\"><div class=\"wandb-col\"><h3>Run history:</h3><br/><table class=\"wandb\"><tr><td>train/accuracy</td><td>▄▃▆▄▄▄▇▅▃▃▅▂▆▆▅▄▄▅▃█▁▆▃▄▇▅▄▂▇▄▄▆▄▃▅▅▆▅▂▅</td></tr><tr><td>train/loss</td><td>▂▂▁▇▇██▇▇▇██▇▇▇▇▇█▇▇█▇█▇▆▇▇█▇▇█▇▇▇█▇▇▇█▇</td></tr><tr><td>validation/accuracy</td><td>▁▁▁▁▁▁▁▁▁▁▁</td></tr><tr><td>validation/loss</td><td>▂▁▃▁▂▃▄▁▅▄█</td></tr></table><br/></div><div class=\"wandb-col\"><h3>Run summary:</h3><br/><table class=\"wandb\"><tr><td>train/accuracy</td><td>0.69727</td></tr><tr><td>train/loss</td><td>0.61378</td></tr><tr><td>validation/accuracy</td><td>0.69558</td></tr><tr><td>validation/loss</td><td>0.61578</td></tr></table><br/></div></div>"
      ],
      "text/plain": [
       "<IPython.core.display.HTML object>"
      ]
     },
     "metadata": {},
     "output_type": "display_data"
    },
    {
     "data": {
      "text/html": [
       " View run <strong style=\"color:#cdcd00\">lr:0.03-b:32-d_c:0.4, d_f:0.4-d</strong> at: <a href='https://wandb.ai/mldogs-wut/iml_m3_wnn/runs/4qrwhd4e' target=\"_blank\">https://wandb.ai/mldogs-wut/iml_m3_wnn/runs/4qrwhd4e</a><br/> View project at: <a href='https://wandb.ai/mldogs-wut/iml_m3_wnn' target=\"_blank\">https://wandb.ai/mldogs-wut/iml_m3_wnn</a><br/>Synced 5 W&B file(s), 0 media file(s), 0 artifact file(s) and 0 other file(s)"
      ],
      "text/plain": [
       "<IPython.core.display.HTML object>"
      ]
     },
     "metadata": {},
     "output_type": "display_data"
    },
    {
     "data": {
      "text/html": [
       "Find logs at: <code>./wandb/run-20241219_232827-4qrwhd4e/logs</code>"
      ],
      "text/plain": [
       "<IPython.core.display.HTML object>"
      ]
     },
     "metadata": {},
     "output_type": "display_data"
    },
    {
     "name": "stdout",
     "output_type": "stream",
     "text": [
      "lr:0.03-b:128-d_c:0, d_f:0\n"
     ]
    },
    {
     "data": {
      "text/html": [
       "Tracking run with wandb version 0.19.0"
      ],
      "text/plain": [
       "<IPython.core.display.HTML object>"
      ]
     },
     "metadata": {},
     "output_type": "display_data"
    },
    {
     "data": {
      "text/html": [
       "Run data is saved locally in <code>/home/migoox/dev/ml-dogs-sharepoint/notebook/training/wandb/run-20241219_233657-37r8gojr</code>"
      ],
      "text/plain": [
       "<IPython.core.display.HTML object>"
      ]
     },
     "metadata": {},
     "output_type": "display_data"
    },
    {
     "data": {
      "text/html": [
       "Syncing run <strong><a href='https://wandb.ai/mldogs-wut/iml_m3_wnn/runs/37r8gojr' target=\"_blank\">lr:0.03-b:128-d_c:0, d_f:0-d</a></strong> to <a href='https://wandb.ai/mldogs-wut/iml_m3_wnn' target=\"_blank\">Weights & Biases</a> (<a href='https://wandb.me/developer-guide' target=\"_blank\">docs</a>)<br/>"
      ],
      "text/plain": [
       "<IPython.core.display.HTML object>"
      ]
     },
     "metadata": {},
     "output_type": "display_data"
    },
    {
     "data": {
      "text/html": [
       " View project at <a href='https://wandb.ai/mldogs-wut/iml_m3_wnn' target=\"_blank\">https://wandb.ai/mldogs-wut/iml_m3_wnn</a>"
      ],
      "text/plain": [
       "<IPython.core.display.HTML object>"
      ]
     },
     "metadata": {},
     "output_type": "display_data"
    },
    {
     "data": {
      "text/html": [
       " View run at <a href='https://wandb.ai/mldogs-wut/iml_m3_wnn/runs/37r8gojr' target=\"_blank\">https://wandb.ai/mldogs-wut/iml_m3_wnn/runs/37r8gojr</a>"
      ],
      "text/plain": [
       "<IPython.core.display.HTML object>"
      ]
     },
     "metadata": {},
     "output_type": "display_data"
    },
    {
     "name": "stdout",
     "output_type": "stream",
     "text": [
      "Epoch 1/30, Loss: 0.0021, F1 Score: 0.4403\n",
      "Epoch 2/30, Loss: 0.0020, F1 Score: 0.4992\n",
      "Epoch 3/30, Loss: 0.0019, F1 Score: 0.5894\n",
      "Epoch 4/30, Loss: 0.0019, F1 Score: 0.6826\n",
      "Epoch 5/30, Loss: 0.0018, F1 Score: 0.7206\n",
      "Epoch 6/30, Loss: 0.0017, F1 Score: 0.7361\n",
      "Epoch 7/30, Loss: 0.0016, F1 Score: 0.7436\n",
      "Epoch 8/30, Loss: 0.0018, F1 Score: 0.7521\n",
      "Epoch 9/30, Loss: 0.0017, F1 Score: 0.7605\n",
      "Epoch 10/30, Loss: 0.0015, F1 Score: 0.7653\n",
      "Epoch 11/30, Loss: 0.0015, F1 Score: 0.7681\n",
      "Epoch 12/30, Loss: 0.0015, F1 Score: 0.7701\n",
      "Epoch 13/30, Loss: 0.0014, F1 Score: 0.7792\n",
      "Epoch 14/30, Loss: 0.0014, F1 Score: 0.7796\n",
      "Epoch 15/30, Loss: 0.0015, F1 Score: 0.7816\n",
      "Epoch 16/30, Loss: 0.0016, F1 Score: 0.7878\n",
      "Epoch 17/30, Loss: 0.0013, F1 Score: 0.7848\n",
      "Too low accuracy. Stopping the train\n",
      "Training complete.\n"
     ]
    },
    {
     "data": {
      "text/html": [
       "\n",
       "    <style>\n",
       "        .wandb-row {\n",
       "            display: flex;\n",
       "            flex-direction: row;\n",
       "            flex-wrap: wrap;\n",
       "            justify-content: flex-start;\n",
       "            width: 100%;\n",
       "        }\n",
       "        .wandb-col {\n",
       "            display: flex;\n",
       "            flex-direction: column;\n",
       "            flex-basis: 100%;\n",
       "            flex: 1;\n",
       "            padding: 10px;\n",
       "        }\n",
       "    </style>\n",
       "<div class=\"wandb-row\"><div class=\"wandb-col\"><h3>Run history:</h3><br/><table class=\"wandb\"><tr><td>train/accuracy</td><td>▁▁▁▂▂▄▄▅▅▅▅▆▆▆▆▆▆▆▇▆▇▇▇▇▇▇▇▇▇▇▇▇█▇██████</td></tr><tr><td>train/loss</td><td>█▇▇▇▇▆▆▅▅▅▄▄▃▃▃▃▃▃▃▃▃▂▂▂▂▂▂▂▂▂▁▁▁▂▁▁▁▁▁▁</td></tr><tr><td>validation/accuracy</td><td>▄▅▅▅▁▆▇▆▄▅▇▅█▆█▇█</td></tr><tr><td>validation/loss</td><td>▃▂▂▅▃▂▂▂▂▆▂█▁▆▁▃▁</td></tr></table><br/></div><div class=\"wandb-col\"><h3>Run summary:</h3><br/><table class=\"wandb\"><tr><td>train/accuracy</td><td>0.81431</td></tr><tr><td>train/loss</td><td>0.40498</td></tr><tr><td>validation/accuracy</td><td>0.81116</td></tr><tr><td>validation/loss</td><td>0.43214</td></tr></table><br/></div></div>"
      ],
      "text/plain": [
       "<IPython.core.display.HTML object>"
      ]
     },
     "metadata": {},
     "output_type": "display_data"
    },
    {
     "data": {
      "text/html": [
       " View run <strong style=\"color:#cdcd00\">lr:0.03-b:128-d_c:0, d_f:0-d</strong> at: <a href='https://wandb.ai/mldogs-wut/iml_m3_wnn/runs/37r8gojr' target=\"_blank\">https://wandb.ai/mldogs-wut/iml_m3_wnn/runs/37r8gojr</a><br/> View project at: <a href='https://wandb.ai/mldogs-wut/iml_m3_wnn' target=\"_blank\">https://wandb.ai/mldogs-wut/iml_m3_wnn</a><br/>Synced 5 W&B file(s), 0 media file(s), 0 artifact file(s) and 0 other file(s)"
      ],
      "text/plain": [
       "<IPython.core.display.HTML object>"
      ]
     },
     "metadata": {},
     "output_type": "display_data"
    },
    {
     "data": {
      "text/html": [
       "Find logs at: <code>./wandb/run-20241219_233657-37r8gojr/logs</code>"
      ],
      "text/plain": [
       "<IPython.core.display.HTML object>"
      ]
     },
     "metadata": {},
     "output_type": "display_data"
    },
    {
     "name": "stdout",
     "output_type": "stream",
     "text": [
      "lr:0.03-b:128-d_c:0, d_f:0.2\n"
     ]
    },
    {
     "data": {
      "text/html": [
       "Tracking run with wandb version 0.19.0"
      ],
      "text/plain": [
       "<IPython.core.display.HTML object>"
      ]
     },
     "metadata": {},
     "output_type": "display_data"
    },
    {
     "data": {
      "text/html": [
       "Run data is saved locally in <code>/home/migoox/dev/ml-dogs-sharepoint/notebook/training/wandb/run-20241219_235015-lxb4wmhq</code>"
      ],
      "text/plain": [
       "<IPython.core.display.HTML object>"
      ]
     },
     "metadata": {},
     "output_type": "display_data"
    },
    {
     "data": {
      "text/html": [
       "Syncing run <strong><a href='https://wandb.ai/mldogs-wut/iml_m3_wnn/runs/lxb4wmhq' target=\"_blank\">lr:0.03-b:128-d_c:0, d_f:0.2-d</a></strong> to <a href='https://wandb.ai/mldogs-wut/iml_m3_wnn' target=\"_blank\">Weights & Biases</a> (<a href='https://wandb.me/developer-guide' target=\"_blank\">docs</a>)<br/>"
      ],
      "text/plain": [
       "<IPython.core.display.HTML object>"
      ]
     },
     "metadata": {},
     "output_type": "display_data"
    },
    {
     "data": {
      "text/html": [
       " View project at <a href='https://wandb.ai/mldogs-wut/iml_m3_wnn' target=\"_blank\">https://wandb.ai/mldogs-wut/iml_m3_wnn</a>"
      ],
      "text/plain": [
       "<IPython.core.display.HTML object>"
      ]
     },
     "metadata": {},
     "output_type": "display_data"
    },
    {
     "data": {
      "text/html": [
       " View run at <a href='https://wandb.ai/mldogs-wut/iml_m3_wnn/runs/lxb4wmhq' target=\"_blank\">https://wandb.ai/mldogs-wut/iml_m3_wnn/runs/lxb4wmhq</a>"
      ],
      "text/plain": [
       "<IPython.core.display.HTML object>"
      ]
     },
     "metadata": {},
     "output_type": "display_data"
    },
    {
     "name": "stdout",
     "output_type": "stream",
     "text": [
      "Epoch 1/30, Loss: 0.0022, F1 Score: 0.4750\n",
      "Epoch 2/30, Loss: 0.0020, F1 Score: 0.5860\n",
      "Epoch 3/30, Loss: 0.0019, F1 Score: 0.6431\n",
      "Epoch 4/30, Loss: 0.0019, F1 Score: 0.6673\n",
      "Epoch 5/30, Loss: 0.0017, F1 Score: 0.6836\n",
      "Epoch 6/30, Loss: 0.0018, F1 Score: 0.6907\n",
      "Epoch 7/30, Loss: 0.0016, F1 Score: 0.6962\n",
      "Epoch 8/30, Loss: 0.0016, F1 Score: 0.7017\n",
      "Epoch 9/30, Loss: 0.0016, F1 Score: 0.7089\n",
      "Epoch 10/30, Loss: 0.0017, F1 Score: 0.7146\n",
      "Epoch 11/30, Loss: 0.0014, F1 Score: 0.7206\n",
      "Epoch 12/30, Loss: 0.0015, F1 Score: 0.7209\n",
      "Epoch 13/30, Loss: 0.0017, F1 Score: 0.7249\n",
      "Epoch 14/30, Loss: 0.0014, F1 Score: 0.7296\n",
      "Epoch 15/30, Loss: 0.0015, F1 Score: 0.7352\n",
      "Epoch 16/30, Loss: 0.0013, F1 Score: 0.7376\n",
      "Epoch 17/30, Loss: 0.0016, F1 Score: 0.7531\n",
      "Too low accuracy. Stopping the train\n",
      "Training complete.\n"
     ]
    },
    {
     "data": {
      "text/html": [
       "\n",
       "    <style>\n",
       "        .wandb-row {\n",
       "            display: flex;\n",
       "            flex-direction: row;\n",
       "            flex-wrap: wrap;\n",
       "            justify-content: flex-start;\n",
       "            width: 100%;\n",
       "        }\n",
       "        .wandb-col {\n",
       "            display: flex;\n",
       "            flex-direction: column;\n",
       "            flex-basis: 100%;\n",
       "            flex: 1;\n",
       "            padding: 10px;\n",
       "        }\n",
       "    </style>\n",
       "<div class=\"wandb-row\"><div class=\"wandb-col\"><h3>Run history:</h3><br/><table class=\"wandb\"><tr><td>train/accuracy</td><td>▁▁▁▁▂▃▄▅▅▆▆▆▆▆▆▆▆▆▆▇▇▇▇▇▇▇▇▇▇▇███▇██████</td></tr><tr><td>train/loss</td><td>█▇▆▆▅▅▄▄▄▃▃▃▃▃▃▃▃▂▂▂▂▂▂▂▂▂▂▂▂▂▁▂▁▁▁▁▁▁▁▁</td></tr><tr><td>validation/accuracy</td><td>▃▃▄▃▅▁▃▆█▇███▅▇▇▂</td></tr><tr><td>validation/loss</td><td>▁▂▃▂▁▁█▁▁▁▁▁▁▂▁▁▁</td></tr></table><br/></div><div class=\"wandb-col\"><h3>Run summary:</h3><br/><table class=\"wandb\"><tr><td>train/accuracy</td><td>0.81216</td></tr><tr><td>train/loss</td><td>0.39383</td></tr><tr><td>validation/accuracy</td><td>0.68465</td></tr><tr><td>validation/loss</td><td>0.5212</td></tr></table><br/></div></div>"
      ],
      "text/plain": [
       "<IPython.core.display.HTML object>"
      ]
     },
     "metadata": {},
     "output_type": "display_data"
    },
    {
     "data": {
      "text/html": [
       " View run <strong style=\"color:#cdcd00\">lr:0.03-b:128-d_c:0, d_f:0.2-d</strong> at: <a href='https://wandb.ai/mldogs-wut/iml_m3_wnn/runs/lxb4wmhq' target=\"_blank\">https://wandb.ai/mldogs-wut/iml_m3_wnn/runs/lxb4wmhq</a><br/> View project at: <a href='https://wandb.ai/mldogs-wut/iml_m3_wnn' target=\"_blank\">https://wandb.ai/mldogs-wut/iml_m3_wnn</a><br/>Synced 5 W&B file(s), 0 media file(s), 0 artifact file(s) and 0 other file(s)"
      ],
      "text/plain": [
       "<IPython.core.display.HTML object>"
      ]
     },
     "metadata": {},
     "output_type": "display_data"
    },
    {
     "data": {
      "text/html": [
       "Find logs at: <code>./wandb/run-20241219_235015-lxb4wmhq/logs</code>"
      ],
      "text/plain": [
       "<IPython.core.display.HTML object>"
      ]
     },
     "metadata": {},
     "output_type": "display_data"
    },
    {
     "name": "stdout",
     "output_type": "stream",
     "text": [
      "lr:0.03-b:128-d_c:0, d_f:0.4\n"
     ]
    },
    {
     "data": {
      "text/html": [
       "Tracking run with wandb version 0.19.0"
      ],
      "text/plain": [
       "<IPython.core.display.HTML object>"
      ]
     },
     "metadata": {},
     "output_type": "display_data"
    },
    {
     "data": {
      "text/html": [
       "Run data is saved locally in <code>/home/migoox/dev/ml-dogs-sharepoint/notebook/training/wandb/run-20241220_000333-hhcozzno</code>"
      ],
      "text/plain": [
       "<IPython.core.display.HTML object>"
      ]
     },
     "metadata": {},
     "output_type": "display_data"
    },
    {
     "data": {
      "text/html": [
       "Syncing run <strong><a href='https://wandb.ai/mldogs-wut/iml_m3_wnn/runs/hhcozzno' target=\"_blank\">lr:0.03-b:128-d_c:0, d_f:0.4-d</a></strong> to <a href='https://wandb.ai/mldogs-wut/iml_m3_wnn' target=\"_blank\">Weights & Biases</a> (<a href='https://wandb.me/developer-guide' target=\"_blank\">docs</a>)<br/>"
      ],
      "text/plain": [
       "<IPython.core.display.HTML object>"
      ]
     },
     "metadata": {},
     "output_type": "display_data"
    },
    {
     "data": {
      "text/html": [
       " View project at <a href='https://wandb.ai/mldogs-wut/iml_m3_wnn' target=\"_blank\">https://wandb.ai/mldogs-wut/iml_m3_wnn</a>"
      ],
      "text/plain": [
       "<IPython.core.display.HTML object>"
      ]
     },
     "metadata": {},
     "output_type": "display_data"
    },
    {
     "data": {
      "text/html": [
       " View run at <a href='https://wandb.ai/mldogs-wut/iml_m3_wnn/runs/hhcozzno' target=\"_blank\">https://wandb.ai/mldogs-wut/iml_m3_wnn/runs/hhcozzno</a>"
      ],
      "text/plain": [
       "<IPython.core.display.HTML object>"
      ]
     },
     "metadata": {},
     "output_type": "display_data"
    },
    {
     "name": "stdout",
     "output_type": "stream",
     "text": [
      "Epoch 1/30, Loss: 0.0022, F1 Score: 0.4684\n",
      "Epoch 2/30, Loss: 0.0019, F1 Score: 0.5272\n",
      "Epoch 3/30, Loss: 0.0022, F1 Score: 0.6009\n",
      "Epoch 4/30, Loss: 0.0017, F1 Score: 0.6399\n",
      "Epoch 5/30, Loss: 0.0018, F1 Score: 0.6565\n",
      "Epoch 6/30, Loss: 0.0019, F1 Score: 0.6684\n",
      "Epoch 7/30, Loss: 0.0016, F1 Score: 0.6724\n",
      "Epoch 8/30, Loss: 0.0016, F1 Score: 0.6785\n",
      "Epoch 9/30, Loss: 0.0016, F1 Score: 0.6862\n",
      "Epoch 10/30, Loss: 0.0017, F1 Score: 0.6898\n",
      "Epoch 11/30, Loss: 0.0016, F1 Score: 0.6953\n",
      "Epoch 12/30, Loss: 0.0017, F1 Score: 0.6998\n",
      "Epoch 13/30, Loss: 0.0014, F1 Score: 0.6975\n",
      "Epoch 14/30, Loss: 0.0015, F1 Score: 0.7039\n",
      "Epoch 15/30, Loss: 0.0017, F1 Score: 0.7003\n",
      "Epoch 16/30, Loss: 0.0014, F1 Score: 0.7095\n",
      "Epoch 17/30, Loss: 0.0018, F1 Score: 0.7062\n",
      "Too low accuracy. Stopping the train\n",
      "Training complete.\n"
     ]
    },
    {
     "data": {
      "text/html": [
       "\n",
       "    <style>\n",
       "        .wandb-row {\n",
       "            display: flex;\n",
       "            flex-direction: row;\n",
       "            flex-wrap: wrap;\n",
       "            justify-content: flex-start;\n",
       "            width: 100%;\n",
       "        }\n",
       "        .wandb-col {\n",
       "            display: flex;\n",
       "            flex-direction: column;\n",
       "            flex-basis: 100%;\n",
       "            flex: 1;\n",
       "            padding: 10px;\n",
       "        }\n",
       "    </style>\n",
       "<div class=\"wandb-row\"><div class=\"wandb-col\"><h3>Run history:</h3><br/><table class=\"wandb\"><tr><td>train/accuracy</td><td>▂▁▁▂▂▃▄▄▅▅▅▆▆▆▆▆▆▇▇▇▆▇▇▇▇▇▇▇▇▇▇██████▇██</td></tr><tr><td>train/loss</td><td>██▇▇▆▅▅▄▄▄▃▃▃▃▃▃▃▃▂▂▂▂▂▂▂▂▂▂▂▂▁▂▂▁▁▁▁▁▁▁</td></tr><tr><td>validation/accuracy</td><td>▄▄▅▆▆▁▇▆▅▆▇▆▇▇█▆▇</td></tr><tr><td>validation/loss</td><td>▅▅▄▃▃█▄▅▃▇▂▃▅▃▁▃▂</td></tr></table><br/></div><div class=\"wandb-col\"><h3>Run summary:</h3><br/><table class=\"wandb\"><tr><td>train/accuracy</td><td>0.79182</td></tr><tr><td>train/loss</td><td>0.43342</td></tr><tr><td>validation/accuracy</td><td>0.77393</td></tr><tr><td>validation/loss</td><td>0.49267</td></tr></table><br/></div></div>"
      ],
      "text/plain": [
       "<IPython.core.display.HTML object>"
      ]
     },
     "metadata": {},
     "output_type": "display_data"
    },
    {
     "data": {
      "text/html": [
       " View run <strong style=\"color:#cdcd00\">lr:0.03-b:128-d_c:0, d_f:0.4-d</strong> at: <a href='https://wandb.ai/mldogs-wut/iml_m3_wnn/runs/hhcozzno' target=\"_blank\">https://wandb.ai/mldogs-wut/iml_m3_wnn/runs/hhcozzno</a><br/> View project at: <a href='https://wandb.ai/mldogs-wut/iml_m3_wnn' target=\"_blank\">https://wandb.ai/mldogs-wut/iml_m3_wnn</a><br/>Synced 5 W&B file(s), 0 media file(s), 0 artifact file(s) and 0 other file(s)"
      ],
      "text/plain": [
       "<IPython.core.display.HTML object>"
      ]
     },
     "metadata": {},
     "output_type": "display_data"
    },
    {
     "data": {
      "text/html": [
       "Find logs at: <code>./wandb/run-20241220_000333-hhcozzno/logs</code>"
      ],
      "text/plain": [
       "<IPython.core.display.HTML object>"
      ]
     },
     "metadata": {},
     "output_type": "display_data"
    },
    {
     "name": "stdout",
     "output_type": "stream",
     "text": [
      "lr:0.03-b:128-d_c:0.2, d_f:0\n"
     ]
    },
    {
     "data": {
      "text/html": [
       "Tracking run with wandb version 0.19.0"
      ],
      "text/plain": [
       "<IPython.core.display.HTML object>"
      ]
     },
     "metadata": {},
     "output_type": "display_data"
    },
    {
     "data": {
      "text/html": [
       "Run data is saved locally in <code>/home/migoox/dev/ml-dogs-sharepoint/notebook/training/wandb/run-20241220_001655-3kck3jnl</code>"
      ],
      "text/plain": [
       "<IPython.core.display.HTML object>"
      ]
     },
     "metadata": {},
     "output_type": "display_data"
    },
    {
     "data": {
      "text/html": [
       "Syncing run <strong><a href='https://wandb.ai/mldogs-wut/iml_m3_wnn/runs/3kck3jnl' target=\"_blank\">lr:0.03-b:128-d_c:0.2, d_f:0-d</a></strong> to <a href='https://wandb.ai/mldogs-wut/iml_m3_wnn' target=\"_blank\">Weights & Biases</a> (<a href='https://wandb.me/developer-guide' target=\"_blank\">docs</a>)<br/>"
      ],
      "text/plain": [
       "<IPython.core.display.HTML object>"
      ]
     },
     "metadata": {},
     "output_type": "display_data"
    },
    {
     "data": {
      "text/html": [
       " View project at <a href='https://wandb.ai/mldogs-wut/iml_m3_wnn' target=\"_blank\">https://wandb.ai/mldogs-wut/iml_m3_wnn</a>"
      ],
      "text/plain": [
       "<IPython.core.display.HTML object>"
      ]
     },
     "metadata": {},
     "output_type": "display_data"
    },
    {
     "data": {
      "text/html": [
       " View run at <a href='https://wandb.ai/mldogs-wut/iml_m3_wnn/runs/3kck3jnl' target=\"_blank\">https://wandb.ai/mldogs-wut/iml_m3_wnn/runs/3kck3jnl</a>"
      ],
      "text/plain": [
       "<IPython.core.display.HTML object>"
      ]
     },
     "metadata": {},
     "output_type": "display_data"
    },
    {
     "name": "stdout",
     "output_type": "stream",
     "text": [
      "Epoch 1/30, Loss: 0.0023, F1 Score: 0.4448\n",
      "Epoch 2/30, Loss: 0.0019, F1 Score: 0.5356\n",
      "Epoch 3/30, Loss: 0.0017, F1 Score: 0.6129\n",
      "Epoch 4/30, Loss: 0.0019, F1 Score: 0.6868\n",
      "Epoch 5/30, Loss: 0.0017, F1 Score: 0.7242\n",
      "Epoch 6/30, Loss: 0.0018, F1 Score: 0.7343\n",
      "Epoch 7/30, Loss: 0.0017, F1 Score: 0.7436\n",
      "Epoch 8/30, Loss: 0.0017, F1 Score: 0.7508\n",
      "Epoch 9/30, Loss: 0.0017, F1 Score: 0.7536\n",
      "Epoch 10/30, Loss: 0.0017, F1 Score: 0.7579\n",
      "Epoch 11/30, Loss: 0.0017, F1 Score: 0.7644\n",
      "Epoch 12/30, Loss: 0.0017, F1 Score: 0.7688\n",
      "Epoch 13/30, Loss: 0.0018, F1 Score: 0.7720\n",
      "Epoch 14/30, Loss: 0.0014, F1 Score: 0.7716\n",
      "Epoch 15/30, Loss: 0.0016, F1 Score: 0.7752\n",
      "8 epochs without a val accuracy improvement. Stopping the train\n",
      "Training complete.\n"
     ]
    },
    {
     "data": {
      "text/html": [
       "\n",
       "    <style>\n",
       "        .wandb-row {\n",
       "            display: flex;\n",
       "            flex-direction: row;\n",
       "            flex-wrap: wrap;\n",
       "            justify-content: flex-start;\n",
       "            width: 100%;\n",
       "        }\n",
       "        .wandb-col {\n",
       "            display: flex;\n",
       "            flex-direction: column;\n",
       "            flex-basis: 100%;\n",
       "            flex: 1;\n",
       "            padding: 10px;\n",
       "        }\n",
       "    </style>\n",
       "<div class=\"wandb-row\"><div class=\"wandb-col\"><h3>Run history:</h3><br/><table class=\"wandb\"><tr><td>train/accuracy</td><td>▁▁▁▁▂▂▃▃▄▄▆▆▆▆▆▆▇▆▆▇▇▇▇▇▇▇▇▇▇▇█▇████████</td></tr><tr><td>train/loss</td><td>█▇▆▆▆▅▄▄▄▃▃▃▃▃▃▂▂▂▂▂▂▂▂▂▂▂▂▂▂▁▂▁▁▁▁▁▁▁▁▁</td></tr><tr><td>validation/accuracy</td><td>▅▆▇▇█▅▆▆▇▇▇▁▆▇▇</td></tr><tr><td>validation/loss</td><td>▃▂▂▁▁█▂▅▂▂▂▂▆▅▁</td></tr></table><br/></div><div class=\"wandb-col\"><h3>Run summary:</h3><br/><table class=\"wandb\"><tr><td>train/accuracy</td><td>0.81288</td></tr><tr><td>train/loss</td><td>0.41999</td></tr><tr><td>validation/accuracy</td><td>0.75185</td></tr><tr><td>validation/loss</td><td>0.48324</td></tr></table><br/></div></div>"
      ],
      "text/plain": [
       "<IPython.core.display.HTML object>"
      ]
     },
     "metadata": {},
     "output_type": "display_data"
    },
    {
     "data": {
      "text/html": [
       " View run <strong style=\"color:#cdcd00\">lr:0.03-b:128-d_c:0.2, d_f:0-d</strong> at: <a href='https://wandb.ai/mldogs-wut/iml_m3_wnn/runs/3kck3jnl' target=\"_blank\">https://wandb.ai/mldogs-wut/iml_m3_wnn/runs/3kck3jnl</a><br/> View project at: <a href='https://wandb.ai/mldogs-wut/iml_m3_wnn' target=\"_blank\">https://wandb.ai/mldogs-wut/iml_m3_wnn</a><br/>Synced 5 W&B file(s), 0 media file(s), 0 artifact file(s) and 0 other file(s)"
      ],
      "text/plain": [
       "<IPython.core.display.HTML object>"
      ]
     },
     "metadata": {},
     "output_type": "display_data"
    },
    {
     "data": {
      "text/html": [
       "Find logs at: <code>./wandb/run-20241220_001655-3kck3jnl/logs</code>"
      ],
      "text/plain": [
       "<IPython.core.display.HTML object>"
      ]
     },
     "metadata": {},
     "output_type": "display_data"
    },
    {
     "name": "stdout",
     "output_type": "stream",
     "text": [
      "lr:0.03-b:128-d_c:0.2, d_f:0.2\n"
     ]
    },
    {
     "data": {
      "text/html": [
       "Tracking run with wandb version 0.19.0"
      ],
      "text/plain": [
       "<IPython.core.display.HTML object>"
      ]
     },
     "metadata": {},
     "output_type": "display_data"
    },
    {
     "data": {
      "text/html": [
       "Run data is saved locally in <code>/home/migoox/dev/ml-dogs-sharepoint/notebook/training/wandb/run-20241220_002846-ftqzct6n</code>"
      ],
      "text/plain": [
       "<IPython.core.display.HTML object>"
      ]
     },
     "metadata": {},
     "output_type": "display_data"
    },
    {
     "data": {
      "text/html": [
       "Syncing run <strong><a href='https://wandb.ai/mldogs-wut/iml_m3_wnn/runs/ftqzct6n' target=\"_blank\">lr:0.03-b:128-d_c:0.2, d_f:0.2-d</a></strong> to <a href='https://wandb.ai/mldogs-wut/iml_m3_wnn' target=\"_blank\">Weights & Biases</a> (<a href='https://wandb.me/developer-guide' target=\"_blank\">docs</a>)<br/>"
      ],
      "text/plain": [
       "<IPython.core.display.HTML object>"
      ]
     },
     "metadata": {},
     "output_type": "display_data"
    },
    {
     "data": {
      "text/html": [
       " View project at <a href='https://wandb.ai/mldogs-wut/iml_m3_wnn' target=\"_blank\">https://wandb.ai/mldogs-wut/iml_m3_wnn</a>"
      ],
      "text/plain": [
       "<IPython.core.display.HTML object>"
      ]
     },
     "metadata": {},
     "output_type": "display_data"
    },
    {
     "data": {
      "text/html": [
       " View run at <a href='https://wandb.ai/mldogs-wut/iml_m3_wnn/runs/ftqzct6n' target=\"_blank\">https://wandb.ai/mldogs-wut/iml_m3_wnn/runs/ftqzct6n</a>"
      ],
      "text/plain": [
       "<IPython.core.display.HTML object>"
      ]
     },
     "metadata": {},
     "output_type": "display_data"
    },
    {
     "name": "stdout",
     "output_type": "stream",
     "text": [
      "Epoch 1/30, Loss: 0.0020, F1 Score: 0.4119\n",
      "Epoch 2/30, Loss: 0.0021, F1 Score: 0.4106\n",
      "Epoch 3/30, Loss: 0.0021, F1 Score: 0.4106\n",
      "Epoch 4/30, Loss: 0.0019, F1 Score: 0.5962\n",
      "Epoch 5/30, Loss: 0.0019, F1 Score: 0.7000\n",
      "Epoch 6/30, Loss: 0.0020, F1 Score: 0.7148\n",
      "Epoch 7/30, Loss: 0.0018, F1 Score: 0.7231\n",
      "Epoch 8/30, Loss: 0.0018, F1 Score: 0.7333\n",
      "Epoch 9/30, Loss: 0.0020, F1 Score: 0.7406\n",
      "Epoch 10/30, Loss: 0.0016, F1 Score: 0.7446\n",
      "Epoch 11/30, Loss: 0.0016, F1 Score: 0.7516\n",
      "Epoch 12/30, Loss: 0.0016, F1 Score: 0.7564\n",
      "Epoch 13/30, Loss: 0.0015, F1 Score: 0.7592\n",
      "Epoch 14/30, Loss: 0.0015, F1 Score: 0.7647\n",
      "Epoch 15/30, Loss: 0.0018, F1 Score: 0.7712\n",
      "Epoch 16/30, Loss: 0.0017, F1 Score: 0.7723\n",
      "Epoch 17/30, Loss: 0.0016, F1 Score: 0.7755\n",
      "Too low accuracy. Stopping the train\n",
      "Training complete.\n"
     ]
    },
    {
     "data": {
      "text/html": [
       "\n",
       "    <style>\n",
       "        .wandb-row {\n",
       "            display: flex;\n",
       "            flex-direction: row;\n",
       "            flex-wrap: wrap;\n",
       "            justify-content: flex-start;\n",
       "            width: 100%;\n",
       "        }\n",
       "        .wandb-col {\n",
       "            display: flex;\n",
       "            flex-direction: column;\n",
       "            flex-basis: 100%;\n",
       "            flex: 1;\n",
       "            padding: 10px;\n",
       "        }\n",
       "    </style>\n",
       "<div class=\"wandb-row\"><div class=\"wandb-col\"><h3>Run history:</h3><br/><table class=\"wandb\"><tr><td>train/accuracy</td><td>▁▁▁▁▁▁▁▄▅▅▅▆▆▆▆▆▆▇▆▆▇▆▇▇▇▇▇▇▇▇▇▇▇▇██████</td></tr><tr><td>train/loss</td><td>███▇▇▅▅▅▄▄▄▄▄▄▃▃▃▃▃▃▂▂▃▂▃▂▂▂▂▂▂▂▁▂▁▁▁▁▁▁</td></tr><tr><td>validation/accuracy</td><td>▁▁▁▅▅▃▄▆▃▇▇▆▇█▄▆█</td></tr><tr><td>validation/loss</td><td>██▇▆▅▅▇▆▅▇█▇▇▃▃▂▁</td></tr></table><br/></div><div class=\"wandb-col\"><h3>Run summary:</h3><br/><table class=\"wandb\"><tr><td>train/accuracy</td><td>0.80951</td></tr><tr><td>train/loss</td><td>0.42261</td></tr><tr><td>validation/accuracy</td><td>0.79912</td></tr><tr><td>validation/loss</td><td>0.44658</td></tr></table><br/></div></div>"
      ],
      "text/plain": [
       "<IPython.core.display.HTML object>"
      ]
     },
     "metadata": {},
     "output_type": "display_data"
    },
    {
     "data": {
      "text/html": [
       " View run <strong style=\"color:#cdcd00\">lr:0.03-b:128-d_c:0.2, d_f:0.2-d</strong> at: <a href='https://wandb.ai/mldogs-wut/iml_m3_wnn/runs/ftqzct6n' target=\"_blank\">https://wandb.ai/mldogs-wut/iml_m3_wnn/runs/ftqzct6n</a><br/> View project at: <a href='https://wandb.ai/mldogs-wut/iml_m3_wnn' target=\"_blank\">https://wandb.ai/mldogs-wut/iml_m3_wnn</a><br/>Synced 5 W&B file(s), 0 media file(s), 0 artifact file(s) and 0 other file(s)"
      ],
      "text/plain": [
       "<IPython.core.display.HTML object>"
      ]
     },
     "metadata": {},
     "output_type": "display_data"
    },
    {
     "data": {
      "text/html": [
       "Find logs at: <code>./wandb/run-20241220_002846-ftqzct6n/logs</code>"
      ],
      "text/plain": [
       "<IPython.core.display.HTML object>"
      ]
     },
     "metadata": {},
     "output_type": "display_data"
    },
    {
     "name": "stdout",
     "output_type": "stream",
     "text": [
      "lr:0.03-b:128-d_c:0.2, d_f:0.4\n"
     ]
    },
    {
     "data": {
      "text/html": [
       "Tracking run with wandb version 0.19.0"
      ],
      "text/plain": [
       "<IPython.core.display.HTML object>"
      ]
     },
     "metadata": {},
     "output_type": "display_data"
    },
    {
     "data": {
      "text/html": [
       "Run data is saved locally in <code>/home/migoox/dev/ml-dogs-sharepoint/notebook/training/wandb/run-20241220_004201-h6mak9r2</code>"
      ],
      "text/plain": [
       "<IPython.core.display.HTML object>"
      ]
     },
     "metadata": {},
     "output_type": "display_data"
    },
    {
     "data": {
      "text/html": [
       "Syncing run <strong><a href='https://wandb.ai/mldogs-wut/iml_m3_wnn/runs/h6mak9r2' target=\"_blank\">lr:0.03-b:128-d_c:0.2, d_f:0.4-d</a></strong> to <a href='https://wandb.ai/mldogs-wut/iml_m3_wnn' target=\"_blank\">Weights & Biases</a> (<a href='https://wandb.me/developer-guide' target=\"_blank\">docs</a>)<br/>"
      ],
      "text/plain": [
       "<IPython.core.display.HTML object>"
      ]
     },
     "metadata": {},
     "output_type": "display_data"
    },
    {
     "data": {
      "text/html": [
       " View project at <a href='https://wandb.ai/mldogs-wut/iml_m3_wnn' target=\"_blank\">https://wandb.ai/mldogs-wut/iml_m3_wnn</a>"
      ],
      "text/plain": [
       "<IPython.core.display.HTML object>"
      ]
     },
     "metadata": {},
     "output_type": "display_data"
    },
    {
     "data": {
      "text/html": [
       " View run at <a href='https://wandb.ai/mldogs-wut/iml_m3_wnn/runs/h6mak9r2' target=\"_blank\">https://wandb.ai/mldogs-wut/iml_m3_wnn/runs/h6mak9r2</a>"
      ],
      "text/plain": [
       "<IPython.core.display.HTML object>"
      ]
     },
     "metadata": {},
     "output_type": "display_data"
    },
    {
     "name": "stdout",
     "output_type": "stream",
     "text": [
      "Epoch 1/30, Loss: 0.0021, F1 Score: 0.4695\n",
      "Epoch 2/30, Loss: 0.0019, F1 Score: 0.5606\n",
      "Epoch 3/30, Loss: 0.0020, F1 Score: 0.5902\n",
      "Epoch 4/30, Loss: 0.0020, F1 Score: 0.6009\n",
      "Epoch 5/30, Loss: 0.0020, F1 Score: 0.6077\n",
      "Epoch 6/30, Loss: 0.0018, F1 Score: 0.6088\n",
      "Epoch 7/30, Loss: 0.0019, F1 Score: 0.6143\n",
      "Epoch 8/30, Loss: 0.0018, F1 Score: 0.6149\n",
      "Epoch 9/30, Loss: 0.0018, F1 Score: 0.6212\n",
      "Epoch 10/30, Loss: 0.0019, F1 Score: 0.6185\n",
      "Epoch 11/30, Loss: 0.0017, F1 Score: 0.6255\n",
      "Epoch 12/30, Loss: 0.0018, F1 Score: 0.6283\n",
      "Epoch 13/30, Loss: 0.0019, F1 Score: 0.6303\n",
      "Epoch 14/30, Loss: 0.0018, F1 Score: 0.6369\n",
      "Epoch 15/30, Loss: 0.0019, F1 Score: 0.6380\n",
      "Epoch 16/30, Loss: 0.0018, F1 Score: 0.6490\n",
      "Epoch 17/30, Loss: 0.0020, F1 Score: 0.6769\n",
      "Too low accuracy. Stopping the train\n",
      "Training complete.\n"
     ]
    },
    {
     "data": {
      "text/html": [
       "\n",
       "    <style>\n",
       "        .wandb-row {\n",
       "            display: flex;\n",
       "            flex-direction: row;\n",
       "            flex-wrap: wrap;\n",
       "            justify-content: flex-start;\n",
       "            width: 100%;\n",
       "        }\n",
       "        .wandb-col {\n",
       "            display: flex;\n",
       "            flex-direction: column;\n",
       "            flex-basis: 100%;\n",
       "            flex: 1;\n",
       "            padding: 10px;\n",
       "        }\n",
       "    </style>\n",
       "<div class=\"wandb-row\"><div class=\"wandb-col\"><h3>Run history:</h3><br/><table class=\"wandb\"><tr><td>train/accuracy</td><td>▁▁▂▃▄▄▅▄▄▅▅▅▅▅▅▄▅▅▅▅▅▅▅▅▆▆▆▆▆▅▆▆▆▆▆▇▇▇█▇</td></tr><tr><td>train/loss</td><td>██▇▆▅▅▅▅▅▄▄▄▄▄▄▃▄▃▃▃▃▄▃▃▃▃▃▃▃▃▂▂▂▂▂▂▂▂▁▁</td></tr><tr><td>validation/accuracy</td><td>▂▁▇▇▅▆▁▇█▇██▇▅▁█▇</td></tr><tr><td>validation/loss</td><td>▁▁▂█▁▁▁▂▁▁▁▁▁▁▁▁▂</td></tr></table><br/></div><div class=\"wandb-col\"><h3>Run summary:</h3><br/><table class=\"wandb\"><tr><td>train/accuracy</td><td>0.76087</td></tr><tr><td>train/loss</td><td>0.46737</td></tr><tr><td>validation/accuracy</td><td>0.69805</td></tr><tr><td>validation/loss</td><td>1.15087</td></tr></table><br/></div></div>"
      ],
      "text/plain": [
       "<IPython.core.display.HTML object>"
      ]
     },
     "metadata": {},
     "output_type": "display_data"
    },
    {
     "data": {
      "text/html": [
       " View run <strong style=\"color:#cdcd00\">lr:0.03-b:128-d_c:0.2, d_f:0.4-d</strong> at: <a href='https://wandb.ai/mldogs-wut/iml_m3_wnn/runs/h6mak9r2' target=\"_blank\">https://wandb.ai/mldogs-wut/iml_m3_wnn/runs/h6mak9r2</a><br/> View project at: <a href='https://wandb.ai/mldogs-wut/iml_m3_wnn' target=\"_blank\">https://wandb.ai/mldogs-wut/iml_m3_wnn</a><br/>Synced 5 W&B file(s), 0 media file(s), 0 artifact file(s) and 0 other file(s)"
      ],
      "text/plain": [
       "<IPython.core.display.HTML object>"
      ]
     },
     "metadata": {},
     "output_type": "display_data"
    },
    {
     "data": {
      "text/html": [
       "Find logs at: <code>./wandb/run-20241220_004201-h6mak9r2/logs</code>"
      ],
      "text/plain": [
       "<IPython.core.display.HTML object>"
      ]
     },
     "metadata": {},
     "output_type": "display_data"
    },
    {
     "name": "stdout",
     "output_type": "stream",
     "text": [
      "lr:0.03-b:128-d_c:0.4, d_f:0\n"
     ]
    },
    {
     "data": {
      "text/html": [
       "Tracking run with wandb version 0.19.0"
      ],
      "text/plain": [
       "<IPython.core.display.HTML object>"
      ]
     },
     "metadata": {},
     "output_type": "display_data"
    },
    {
     "data": {
      "text/html": [
       "Run data is saved locally in <code>/home/migoox/dev/ml-dogs-sharepoint/notebook/training/wandb/run-20241220_005527-4du6jo2e</code>"
      ],
      "text/plain": [
       "<IPython.core.display.HTML object>"
      ]
     },
     "metadata": {},
     "output_type": "display_data"
    },
    {
     "data": {
      "text/html": [
       "Syncing run <strong><a href='https://wandb.ai/mldogs-wut/iml_m3_wnn/runs/4du6jo2e' target=\"_blank\">lr:0.03-b:128-d_c:0.4, d_f:0-d</a></strong> to <a href='https://wandb.ai/mldogs-wut/iml_m3_wnn' target=\"_blank\">Weights & Biases</a> (<a href='https://wandb.me/developer-guide' target=\"_blank\">docs</a>)<br/>"
      ],
      "text/plain": [
       "<IPython.core.display.HTML object>"
      ]
     },
     "metadata": {},
     "output_type": "display_data"
    },
    {
     "data": {
      "text/html": [
       " View project at <a href='https://wandb.ai/mldogs-wut/iml_m3_wnn' target=\"_blank\">https://wandb.ai/mldogs-wut/iml_m3_wnn</a>"
      ],
      "text/plain": [
       "<IPython.core.display.HTML object>"
      ]
     },
     "metadata": {},
     "output_type": "display_data"
    },
    {
     "data": {
      "text/html": [
       " View run at <a href='https://wandb.ai/mldogs-wut/iml_m3_wnn/runs/4du6jo2e' target=\"_blank\">https://wandb.ai/mldogs-wut/iml_m3_wnn/runs/4du6jo2e</a>"
      ],
      "text/plain": [
       "<IPython.core.display.HTML object>"
      ]
     },
     "metadata": {},
     "output_type": "display_data"
    },
    {
     "name": "stdout",
     "output_type": "stream",
     "text": [
      "Epoch 1/30, Loss: 0.0022, F1 Score: 0.4341\n",
      "Epoch 2/30, Loss: 0.0021, F1 Score: 0.4808\n"
     ]
    }
   ],
   "source": [
    "for lr, b, d1, d2 in itertools.product(LEARNING_RATE_ARRAY, BATCH_SIZE_ARRAY, DROPOUT_ARRAY, DROPOUT_ARRAY):\n",
    "    print(f\"lr:{lr}-b:{b}-d_c:{d1}, d_f:{d2}\")\n",
    "    wandb.init(\n",
    "        project=\"iml_m3_wnn\",\n",
    "        config={\n",
    "            \"learning_rate\": lr,\n",
    "            \"learning_rate_decay\": LR_DECAY,\n",
    "            \"batch_size\": b,\n",
    "            \"input_resolution\": (INPUT_WIDTH, INPUT_HEIGHT),\n",
    "            \"architecture\": \"CNN\",\n",
    "            \"dataset\": \"DAPS\"\n",
    "        },\n",
    "        name=f\"lr:{lr}-b:{b}-d_c:{d1}, d_f:{d2}-d\"\n",
    "    )\n",
    "    model = Net()\n",
    "    criterion = nn.BCELoss()\n",
    "    optimizer = optim.Adam(model.parameters(), lr=lr)\n",
    "    transform = transforms.ToTensor()\n",
    "    \n",
    "    train_dataset = SpectrogramDataset(data_dir=os.path.join(DATA_DIR, \"train\"), transform=transform)\n",
    "    train_loader = DataLoader(train_dataset, batch_size=BATCH_SIZE, shuffle=True)\n",
    "    \n",
    "    val_dataset = SpectrogramDataset(data_dir=os.path.join(DATA_DIR, \"validation\"), transform=transform)\n",
    "    val_loader = DataLoader(val_dataset, batch_size=BATCH_SIZE, shuffle=False)\n",
    "    \n",
    "    test_dataset = SpectrogramDataset(data_dir=os.path.join(DATA_DIR, \"test\"),transform=transform)\n",
    "    test_loader = DataLoader(test_dataset, batch_size=BATCH_SIZE, shuffle=True)\n",
    "    \n",
    "    train(model, criterion, optimizer, EPOCHS, train_loader, val_loader, model_name=\"simple_cnn\")\n",
    "\n",
    "    wandb.finish()\n"
   ]
  },
  {
   "cell_type": "code",
   "execution_count": 17,
   "metadata": {},
   "outputs": [
    {
     "data": {
      "text/html": [
       "\n",
       "    <style>\n",
       "        .wandb-row {\n",
       "            display: flex;\n",
       "            flex-direction: row;\n",
       "            flex-wrap: wrap;\n",
       "            justify-content: flex-start;\n",
       "            width: 100%;\n",
       "        }\n",
       "        .wandb-col {\n",
       "            display: flex;\n",
       "            flex-direction: column;\n",
       "            flex-basis: 100%;\n",
       "            flex: 1;\n",
       "            padding: 10px;\n",
       "        }\n",
       "    </style>\n",
       "<div class=\"wandb-row\"><div class=\"wandb-col\"><h3>Run history:</h3><br/><table class=\"wandb\"><tr><td>train/accuracy</td><td>▁</td></tr><tr><td>train/loss</td><td>▁</td></tr></table><br/></div><div class=\"wandb-col\"><h3>Run summary:</h3><br/><table class=\"wandb\"><tr><td>train/accuracy</td><td>0.70072</td></tr><tr><td>train/loss</td><td>0.58681</td></tr></table><br/></div></div>"
      ],
      "text/plain": [
       "<IPython.core.display.HTML object>"
      ]
     },
     "metadata": {},
     "output_type": "display_data"
    },
    {
     "data": {
      "text/html": [
       " View run <strong style=\"color:#cdcd00\">lr:0.03-b:32-d_c:0, d_f:0-d</strong> at: <a href='https://wandb.ai/mldogs-wut/iml_m3_wn/runs/8cperxbz' target=\"_blank\">https://wandb.ai/mldogs-wut/iml_m3_wn/runs/8cperxbz</a><br/> View project at: <a href='https://wandb.ai/mldogs-wut/iml_m3_wn' target=\"_blank\">https://wandb.ai/mldogs-wut/iml_m3_wn</a><br/>Synced 5 W&B file(s), 0 media file(s), 0 artifact file(s) and 0 other file(s)"
      ],
      "text/plain": [
       "<IPython.core.display.HTML object>"
      ]
     },
     "metadata": {},
     "output_type": "display_data"
    },
    {
     "data": {
      "text/html": [
       "Find logs at: <code>./wandb/run-20241218_213541-8cperxbz/logs</code>"
      ],
      "text/plain": [
       "<IPython.core.display.HTML object>"
      ]
     },
     "metadata": {},
     "output_type": "display_data"
    }
   ],
   "source": [
    "wandb.finish()"
   ]
  },
  {
   "cell_type": "code",
   "execution_count": null,
   "metadata": {},
   "outputs": [],
   "source": []
  }
 ],
 "metadata": {
  "kernelspec": {
   "display_name": "Python 3 (ipykernel)",
   "language": "python",
   "name": "python3"
  },
  "language_info": {
   "codemirror_mode": {
    "name": "ipython",
    "version": 3
   },
   "file_extension": ".py",
   "mimetype": "text/x-python",
   "name": "python",
   "nbconvert_exporter": "python",
   "pygments_lexer": "ipython3",
   "version": "3.12.7"
  }
 },
 "nbformat": 4,
 "nbformat_minor": 4
}
